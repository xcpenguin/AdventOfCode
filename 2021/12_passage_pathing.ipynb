{
 "cells": [
  {
   "attachments": {},
   "cell_type": "markdown",
   "metadata": {},
   "source": [
    "# December 12, 2021\n",
    "\n",
    "https://adventofcode.com/2021/day/12"
   ]
  },
  {
   "cell_type": "code",
   "execution_count": 1,
   "metadata": {},
   "outputs": [],
   "source": [
    "import pandas as pd\n",
    "import numpy as np\n",
    "from collections import defaultdict, deque"
   ]
  },
  {
   "cell_type": "code",
   "execution_count": 2,
   "metadata": {},
   "outputs": [],
   "source": [
    "def format_data( data ):\n",
    "    lines = data.split(\"\\n\")\n",
    "\n",
    "    links = defaultdict(set)\n",
    "\n",
    "    for line in lines:\n",
    "        p1,p2 = line.split(\"-\")\n",
    "        links[p1].add(p2)\n",
    "        links[p2].add(p1)\n",
    "\n",
    "    return links\n",
    "\n",
    "def deep_copy( data ):\n",
    "    return [ [x for x in line] for line in data ]"
   ]
  },
  {
   "cell_type": "code",
   "execution_count": 3,
   "metadata": {},
   "outputs": [],
   "source": [
    "with open(\"../data/2021/12.txt\", \"r\") as f:\n",
    "    data_str = f.read()\n",
    "data = format_data( data_str )"
   ]
  },
  {
   "cell_type": "code",
   "execution_count": 4,
   "metadata": {},
   "outputs": [
    {
     "data": {
      "text/plain": [
       "defaultdict(set,\n",
       "            {'start': {'A', 'b'},\n",
       "             'A': {'b', 'c', 'end', 'start'},\n",
       "             'b': {'A', 'd', 'end', 'start'},\n",
       "             'c': {'A'},\n",
       "             'd': {'b'},\n",
       "             'end': {'A', 'b'}})"
      ]
     },
     "execution_count": 4,
     "metadata": {},
     "output_type": "execute_result"
    }
   ],
   "source": [
    "test1_str = '''start-A\n",
    "start-b\n",
    "A-c\n",
    "A-b\n",
    "b-d\n",
    "A-end\n",
    "b-end'''\n",
    "\n",
    "test1 = format_data(test1_str)\n",
    "test1"
   ]
  },
  {
   "cell_type": "code",
   "execution_count": 5,
   "metadata": {},
   "outputs": [
    {
     "data": {
      "text/plain": [
       "defaultdict(set,\n",
       "            {'dc': {'HN', 'LN', 'end', 'kj', 'start'},\n",
       "             'end': {'HN', 'dc'},\n",
       "             'HN': {'dc', 'end', 'kj', 'start'},\n",
       "             'start': {'HN', 'dc', 'kj'},\n",
       "             'kj': {'HN', 'dc', 'sa', 'start'},\n",
       "             'LN': {'dc'},\n",
       "             'sa': {'kj'}})"
      ]
     },
     "execution_count": 5,
     "metadata": {},
     "output_type": "execute_result"
    }
   ],
   "source": [
    "test2_str = '''dc-end\n",
    "HN-start\n",
    "start-kj\n",
    "dc-start\n",
    "dc-HN\n",
    "LN-dc\n",
    "HN-end\n",
    "kj-sa\n",
    "kj-HN\n",
    "kj-dc'''\n",
    "\n",
    "test2 = format_data(test2_str)\n",
    "test2"
   ]
  },
  {
   "cell_type": "code",
   "execution_count": 6,
   "metadata": {},
   "outputs": [
    {
     "data": {
      "text/plain": [
       "defaultdict(set,\n",
       "            {'fs': {'DX', 'end', 'he', 'pj'},\n",
       "             'end': {'fs', 'zg'},\n",
       "             'he': {'DX', 'RW', 'WI', 'fs', 'pj', 'zg'},\n",
       "             'DX': {'fs', 'he', 'pj', 'start'},\n",
       "             'start': {'DX', 'RW', 'pj'},\n",
       "             'pj': {'DX', 'RW', 'fs', 'he', 'start', 'zg'},\n",
       "             'zg': {'RW', 'end', 'he', 'pj', 'sl'},\n",
       "             'sl': {'zg'},\n",
       "             'RW': {'he', 'pj', 'start', 'zg'},\n",
       "             'WI': {'he'}})"
      ]
     },
     "execution_count": 6,
     "metadata": {},
     "output_type": "execute_result"
    }
   ],
   "source": [
    "test3_str = '''fs-end\n",
    "he-DX\n",
    "fs-he\n",
    "start-DX\n",
    "pj-DX\n",
    "end-zg\n",
    "zg-sl\n",
    "zg-pj\n",
    "pj-he\n",
    "RW-he\n",
    "fs-DX\n",
    "pj-RW\n",
    "zg-RW\n",
    "start-pj\n",
    "he-WI\n",
    "zg-he\n",
    "pj-fs\n",
    "start-RW'''\n",
    "\n",
    "test3 = format_data(test3_str)\n",
    "test3"
   ]
  },
  {
   "cell_type": "markdown",
   "metadata": {},
   "source": [
    "# Part 1"
   ]
  },
  {
   "cell_type": "code",
   "execution_count": 7,
   "metadata": {},
   "outputs": [],
   "source": [
    "def must_be_unique( cavern ):\n",
    "    return not cavern.isupper()\n",
    "\n",
    "def is_end( cavern ):\n",
    "    return cavern == \"end\"\n",
    "\n",
    "def find_paths( links ):\n",
    "    paths = deque([[\"start\"]])\n",
    "    solutions = []\n",
    "    while len(paths) > 0:\n",
    "        path = paths.pop()\n",
    "        for next_step in links[path[-1]]:\n",
    "            if is_end(next_step):\n",
    "                solutions.append( path + [next_step] )\n",
    "            elif not must_be_unique(next_step) or next_step not in path:\n",
    "                paths.appendleft( path + [next_step] )\n",
    "\n",
    "    return solutions"
   ]
  },
  {
   "cell_type": "code",
   "execution_count": 8,
   "metadata": {},
   "outputs": [
    {
     "data": {
      "text/plain": [
       "[['start', 'b', 'end'],\n",
       " ['start', 'A', 'end'],\n",
       " ['start', 'b', 'A', 'end'],\n",
       " ['start', 'A', 'b', 'end'],\n",
       " ['start', 'A', 'c', 'A', 'end'],\n",
       " ['start', 'A', 'b', 'A', 'end'],\n",
       " ['start', 'b', 'A', 'c', 'A', 'end'],\n",
       " ['start', 'A', 'c', 'A', 'b', 'end'],\n",
       " ['start', 'A', 'c', 'A', 'b', 'A', 'end'],\n",
       " ['start', 'A', 'b', 'A', 'c', 'A', 'end']]"
      ]
     },
     "execution_count": 8,
     "metadata": {},
     "output_type": "execute_result"
    }
   ],
   "source": [
    "find_paths(test1)"
   ]
  },
  {
   "cell_type": "code",
   "execution_count": 9,
   "metadata": {},
   "outputs": [
    {
     "name": "stdout",
     "output_type": "stream",
     "text": [
      "19\n"
     ]
    },
    {
     "data": {
      "text/plain": [
       "[['start', 'HN', 'end'],\n",
       " ['start', 'dc', 'end'],\n",
       " ['start', 'HN', 'dc', 'end'],\n",
       " ['start', 'kj', 'HN', 'end'],\n",
       " ['start', 'kj', 'dc', 'end'],\n",
       " ['start', 'dc', 'HN', 'end'],\n",
       " ['start', 'HN', 'kj', 'HN', 'end'],\n",
       " ['start', 'HN', 'kj', 'dc', 'end'],\n",
       " ['start', 'HN', 'dc', 'HN', 'end'],\n",
       " ['start', 'kj', 'HN', 'dc', 'end'],\n",
       " ['start', 'kj', 'dc', 'HN', 'end'],\n",
       " ['start', 'dc', 'kj', 'HN', 'end'],\n",
       " ['start', 'HN', 'kj', 'HN', 'dc', 'end'],\n",
       " ['start', 'HN', 'kj', 'dc', 'HN', 'end'],\n",
       " ['start', 'HN', 'dc', 'kj', 'HN', 'end'],\n",
       " ['start', 'kj', 'HN', 'dc', 'HN', 'end'],\n",
       " ['start', 'dc', 'HN', 'kj', 'HN', 'end'],\n",
       " ['start', 'HN', 'kj', 'HN', 'dc', 'HN', 'end'],\n",
       " ['start', 'HN', 'dc', 'HN', 'kj', 'HN', 'end']]"
      ]
     },
     "execution_count": 9,
     "metadata": {},
     "output_type": "execute_result"
    }
   ],
   "source": [
    "sol = find_paths(test2)\n",
    "print(len(sol))\n",
    "sol"
   ]
  },
  {
   "cell_type": "code",
   "execution_count": 10,
   "metadata": {},
   "outputs": [
    {
     "name": "stdout",
     "output_type": "stream",
     "text": [
      "226\n"
     ]
    }
   ],
   "source": [
    "sol = find_paths(test3)\n",
    "print(len(sol))"
   ]
  },
  {
   "cell_type": "code",
   "execution_count": 11,
   "metadata": {},
   "outputs": [
    {
     "data": {
      "text/plain": [
       "5756"
      ]
     },
     "execution_count": 11,
     "metadata": {},
     "output_type": "execute_result"
    }
   ],
   "source": [
    "sol = find_paths(data)\n",
    "len(sol)"
   ]
  },
  {
   "cell_type": "markdown",
   "metadata": {},
   "source": [
    "# Part 2"
   ]
  },
  {
   "cell_type": "code",
   "execution_count": 12,
   "metadata": {},
   "outputs": [],
   "source": [
    "def is_small( cavern ):\n",
    "    return not cavern.isupper()\n",
    "\n",
    "class Path:\n",
    "    # path = list of caverns\n",
    "    # flag = True if list of caverns includes two smalls\n",
    "    def __init__( self, path, next_step=[], flag=False ):\n",
    "        self.path = path + next_step\n",
    "        self.flag = flag\n",
    "\n",
    "    def __repr__( self ):\n",
    "        f = str(self.flag*1)\n",
    "        return \"(\"+f+\") [\"+\", \".join([str(x) for x in self.path]) + \"]\"\n",
    "    \n",
    "    def __str__( self ):\n",
    "        return __repr__( self )\n",
    "    def __getitem__(self, i):\n",
    "        return self.path[i]\n",
    "    \n",
    "    def try_to_visit( self, cavern ):\n",
    "        # can't go back home home!\n",
    "        if cavern == \"start\":\n",
    "            return None\n",
    "        \n",
    "        small_flag = is_small(cavern)\n",
    "        # If it's not small, just append to path\n",
    "        if not small_flag:\n",
    "            return Path( self.path, [cavern], self.flag )\n",
    "        \n",
    "        if cavern in self.path:\n",
    "            # we visited this cavern. Pnly go backif flag is False\n",
    "            # in this case set flag True because we will then have a double-small\n",
    "            if not self.flag:\n",
    "                return Path( self.path, [cavern], True )\n",
    "            else:\n",
    "                return None\n",
    "        else:\n",
    "            # new cavern. safe to append. Flag doesn't change\n",
    "            return Path( self.path, [cavern], self.flag )\n",
    "        \n",
    "def find_paths2( links ):\n",
    "    paths = deque( [Path([\"start\"])] )\n",
    "    solutions = []\n",
    "\n",
    "    while len(paths) > 0:\n",
    "        path = paths.pop()\n",
    "        for next_step in links[path[-1]]:\n",
    "            new_path = path.try_to_visit( next_step )\n",
    "            if new_path is None:\n",
    "                continue\n",
    "            if next_step == \"end\":\n",
    "                solutions.append( new_path )\n",
    "            else:\n",
    "                paths.appendleft( new_path )\n",
    "\n",
    "    return solutions        "
   ]
  },
  {
   "cell_type": "code",
   "execution_count": 13,
   "metadata": {},
   "outputs": [
    {
     "name": "stdout",
     "output_type": "stream",
     "text": [
      "36\n"
     ]
    },
    {
     "data": {
      "text/plain": [
       "[(0) [start, b, end],\n",
       " (0) [start, A, end],\n",
       " (0) [start, b, A, end],\n",
       " (0) [start, A, b, end],\n",
       " (1) [start, b, A, b, end],\n",
       " (1) [start, b, d, b, end],\n",
       " (0) [start, A, c, A, end],\n",
       " (0) [start, A, b, A, end],\n",
       " (0) [start, b, A, c, A, end],\n",
       " (1) [start, b, A, b, A, end]]"
      ]
     },
     "execution_count": 13,
     "metadata": {},
     "output_type": "execute_result"
    }
   ],
   "source": [
    "sol = find_paths2(test1)\n",
    "print(len(sol))\n",
    "sol[:10]"
   ]
  },
  {
   "cell_type": "code",
   "execution_count": 14,
   "metadata": {},
   "outputs": [
    {
     "name": "stdout",
     "output_type": "stream",
     "text": [
      "103\n"
     ]
    }
   ],
   "source": [
    "sol = find_paths2(test2)\n",
    "print(len(sol))"
   ]
  },
  {
   "cell_type": "code",
   "execution_count": 15,
   "metadata": {},
   "outputs": [
    {
     "name": "stdout",
     "output_type": "stream",
     "text": [
      "3509\n"
     ]
    }
   ],
   "source": [
    "sol = find_paths2(test3)\n",
    "print(len(sol))"
   ]
  },
  {
   "cell_type": "code",
   "execution_count": 16,
   "metadata": {},
   "outputs": [
    {
     "name": "stdout",
     "output_type": "stream",
     "text": [
      "144603\n"
     ]
    }
   ],
   "source": [
    "sol = find_paths2(data)\n",
    "print(len(sol))"
   ]
  }
 ],
 "metadata": {
  "kernelspec": {
   "display_name": "Python 3",
   "language": "python",
   "name": "python3"
  },
  "language_info": {
   "codemirror_mode": {
    "name": "ipython",
    "version": 3
   },
   "file_extension": ".py",
   "mimetype": "text/x-python",
   "name": "python",
   "nbconvert_exporter": "python",
   "pygments_lexer": "ipython3",
   "version": "3.11.9"
  },
  "orig_nbformat": 4
 },
 "nbformat": 4,
 "nbformat_minor": 2
}
