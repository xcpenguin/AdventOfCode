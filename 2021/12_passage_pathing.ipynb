{
 "cells": [
  {
   "attachments": {},
   "cell_type": "markdown",
   "metadata": {},
   "source": [
    "# December 12, 2021\n",
    "\n",
    "https://adventofcode.com/2021/day/12"
   ]
  },
  {
   "cell_type": "code",
   "execution_count": 1,
   "metadata": {},
   "outputs": [],
   "source": [
    "import pandas as pd\n",
    "import numpy as np\n",
    "from collections import defaultdict, deque"
   ]
  },
  {
   "cell_type": "code",
   "execution_count": null,
   "metadata": {},
   "outputs": [],
   "source": [
    "def format_data( data ):\n",
    "    lines = data.split(\"\\n\")\n",
    "\n",
    "    links = defaultdict(set)\n",
    "\n",
    "    for line in lines:\n",
    "        p1,p2 = line.split(\"-\")\n",
    "        links[op].add(p2)\n",
    "        links[p2].add(p1)\n",
    "\n",
    "    return links\n",
    "\n",
    "def deep_copy( data ):\n",
    "    return [ [x for x in line] for line in data ]"
   ]
  },
  {
   "cell_type": "code",
   "execution_count": null,
   "metadata": {},
   "outputs": [],
   "source": [
    "with open(\"data/2021/13.txt\", \"r\") as f:\n",
    "    data_str = f.read()\n",
    "data = format_data( data_str )"
   ]
  },
  {
   "cell_type": "code",
   "execution_count": null,
   "metadata": {},
   "outputs": [],
   "source": [
    "test1_str = '''start-A\n",
    "start-b\n",
    "A-c\n",
    "A-b\n",
    "b-d\n",
    "A-end\n",
    "b-end'''\n",
    "\n",
    "test1 = format_data(test1_str)\n",
    "test1"
   ]
  },
  {
   "cell_type": "code",
   "execution_count": null,
   "metadata": {},
   "outputs": [],
   "source": [
    "test2_str = '''dc-end\n",
    "HN-start\n",
    "start-kj\n",
    "dc-start\n",
    "dc-HN\n",
    "LN-dc\n",
    "HN-end\n",
    "kj-sa\n",
    "kj-HN\n",
    "kj-dc'''\n",
    "\n",
    "test2 = format_data(test2_str)\n",
    "test2"
   ]
  },
  {
   "cell_type": "code",
   "execution_count": null,
   "metadata": {},
   "outputs": [],
   "source": [
    "test3_str = '''fs-end\n",
    "he-DX\n",
    "fs-he\n",
    "start-DX\n",
    "pj-DX\n",
    "end-zg\n",
    "zg-sl\n",
    "zg-pj\n",
    "pj-he\n",
    "RW-he\n",
    "fs-DX\n",
    "pj-RW\n",
    "zg-RW\n",
    "start-pj\n",
    "he-WI\n",
    "zg-he\n",
    "pj-fs\n",
    "start-RW'''\n",
    "\n",
    "test3 = format_data(test3_str)\n",
    "test3"
   ]
  },
  {
   "cell_type": "markdown",
   "metadata": {},
   "source": [
    "# Part 1"
   ]
  },
  {
   "cell_type": "code",
   "execution_count": null,
   "metadata": {},
   "outputs": [],
   "source": [
    "def must_be_unique( cavern ):\n",
    "    return not cavern.isupper()\n",
    "\n",
    "def is_end( cavern ):\n",
    "    return cavern == \"end\"\n",
    "\n",
    "def find_paths( links ):\n",
    "    paths = deque([[\"start\"]])\n",
    "    solutions = []\n",
    "    while len(paths) > 0:\n",
    "        path = paths.pop()\n",
    "        for next_step in links[path[-1]]:\n",
    "            if is_end(next_step):\n",
    "                solutions.append( path + [next_step] )\n",
    "            elif not must_be_unique(next_step) or next_step not in path:\n",
    "                paths.appendleft( path + [next_step] )\n",
    "\n",
    "    return solutions"
   ]
  },
  {
   "cell_type": "code",
   "execution_count": null,
   "metadata": {},
   "outputs": [],
   "source": [
    "find_paths(test1)"
   ]
  },
  {
   "cell_type": "code",
   "execution_count": null,
   "metadata": {},
   "outputs": [],
   "source": [
    "sol = find_paths(test2)\n",
    "print(len(sol))\n",
    "sol"
   ]
  },
  {
   "cell_type": "code",
   "execution_count": null,
   "metadata": {},
   "outputs": [],
   "source": [
    "sol = find_paths(test3)\n",
    "print(len(sol))\n",
    "sol"
   ]
  },
  {
   "cell_type": "code",
   "execution_count": null,
   "metadata": {},
   "outputs": [],
   "source": [
    "sol = find_paths(data)\n",
    "len(sol)"
   ]
  },
  {
   "cell_type": "markdown",
   "metadata": {},
   "source": [
    "# Part 2"
   ]
  },
  {
   "cell_type": "code",
   "execution_count": null,
   "metadata": {},
   "outputs": [],
   "source": [
    "def is_small( cavern ):\n",
    "    return not cavern.isupper()\n",
    "\n",
    "class Path:\n",
    "    # path = list of caverns\n",
    "    # flag = True if list of caverns includes two smalls\n",
    "    def __init__( self, path, next_step=[], flag=False ):\n",
    "        self.path = path + next_step\n",
    "        self.flag = flag\n",
    "\n",
    "    def __repr__( self ):\n",
    "        f = str(self.flag*1)\n",
    "        return \"(\"+f+\") [\"+\", \".join([str(x) for x in self.path]) + \"]\"\n",
    "    \n",
    "    def __str__( self ):\n",
    "        return __repr__( self )\n",
    "    def __getitem__(self, i):\n",
    "        return self.path[i]\n",
    "    \n",
    "    def try_to_visit( self, cavern ):\n",
    "        # can't go back home home!\n",
    "        if cavern == \"start\":\n",
    "            return None\n",
    "        \n",
    "        small_flag = is_small(cavern)\n",
    "        # If it's not small, just append to path\n",
    "        if not small_flag:\n",
    "            return Path( self.path, [cavern], self.flag )\n",
    "        \n",
    "        if cavern in self.path:\n",
    "            # we visited this cavern. Pnly go backif flag is False\n",
    "            # in this case set flag True because we will then have a double-small\n",
    "            if not self.flag:\n",
    "                return Path( self.path, [cavern], True )\n",
    "            else:\n",
    "                return None\n",
    "        else:\n",
    "            # new cavern. safe to append. Flag doesn't change\n",
    "            return Path( self.path, [cavern], self.flag )\n",
    "        \n",
    "def find_paths2( links ):\n",
    "    paths = deque( [Path([\"start\"])] )\n",
    "    solutions = []\n",
    "\n",
    "    while len(paths) > 0:\n",
    "        path = paths.pop()\n",
    "        for next_step in links[path[-1]]:\n",
    "            new_path = path.try_to_visit( next_step )\n",
    "            if new_path is None:\n",
    "                continue\n",
    "            if next_step == \"end\":\n",
    "                solutions.append( new_path )\n",
    "            else:\n",
    "                paths.appendleft( new_path )\n",
    "\n",
    "    return solutions        "
   ]
  },
  {
   "cell_type": "code",
   "execution_count": null,
   "metadata": {},
   "outputs": [],
   "source": [
    "sol = find_paths2(test1)\n",
    "print(len(sol))\n",
    "sol"
   ]
  },
  {
   "cell_type": "code",
   "execution_count": null,
   "metadata": {},
   "outputs": [],
   "source": [
    "sol = find_paths2(test2)\n",
    "print(len(sol))\n",
    "sol"
   ]
  },
  {
   "cell_type": "code",
   "execution_count": null,
   "metadata": {},
   "outputs": [],
   "source": [
    "sol = find_paths2(test3)\n",
    "print(len(sol))\n",
    "sol"
   ]
  },
  {
   "cell_type": "code",
   "execution_count": null,
   "metadata": {},
   "outputs": [],
   "source": [
    "sol = find_paths2(data)\n",
    "print(len(sol))\n",
    "sol"
   ]
  }
 ],
 "metadata": {
  "kernelspec": {
   "display_name": "Python 3",
   "language": "python",
   "name": "python3"
  },
  "language_info": {
   "codemirror_mode": {
    "name": "ipython",
    "version": 3
   },
   "file_extension": ".py",
   "mimetype": "text/x-python",
   "name": "python",
   "nbconvert_exporter": "python",
   "pygments_lexer": "ipython3",
   "version": "3.11.9"
  },
  "orig_nbformat": 4
 },
 "nbformat": 4,
 "nbformat_minor": 2
}
