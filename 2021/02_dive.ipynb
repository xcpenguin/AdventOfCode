{
 "cells": [
  {
   "attachments": {},
   "cell_type": "markdown",
   "metadata": {},
   "source": [
    "# December 02, 2021\n",
    "\n",
    "https://adventofcode.com/2021/day/2"
   ]
  },
  {
   "cell_type": "code",
   "execution_count": 1,
   "metadata": {},
   "outputs": [],
   "source": [
    "import pandas as pd\n",
    "import numpy as np"
   ]
  },
  {
   "cell_type": "markdown",
   "metadata": {},
   "source": [
    "# Part 1\n",
    "forward increases x  \n",
    "up decreases depth  \n",
    "down increases depth  \n",
    "get product of final x and depth"
   ]
  },
  {
   "cell_type": "code",
   "execution_count": 2,
   "metadata": {},
   "outputs": [],
   "source": [
    "df = pd.read_csv(\"../data/2021/02.txt\", sep=\" \", names=[\"dir\", \"m\"])"
   ]
  },
  {
   "cell_type": "code",
   "execution_count": 3,
   "metadata": {},
   "outputs": [],
   "source": [
    "def getx( row ):\n",
    "    return( dir[\"m\" if row[\"dir\"] == \"forward\" else 0] )\n",
    "df[\"x\"] = df.apply( lambda x: x[\"m\"] if x[\"dir\"] == \"forward\" else 0, axis=1 )\n",
    "df[\"y\"] = df.apply( lambda x: x[\"m\"] if x[\"dir\"] == \"down\" else -x[\"m\"] if x[\"dir\"] == \"up\" else 0, axis=1 )"
   ]
  },
  {
   "cell_type": "code",
   "execution_count": 4,
   "metadata": {},
   "outputs": [
    {
     "name": "stdout",
     "output_type": "stream",
     "text": [
      "2003 872 1746616\n"
     ]
    }
   ],
   "source": [
    "hor = df[\"x\"].sum()\n",
    "dep = df[\"y\"].sum()\n",
    "print(hor, dep, hor*dep)"
   ]
  },
  {
   "cell_type": "markdown",
   "metadata": {},
   "source": [
    "# Part 2\n",
    "up/down decrease or increase aim   \n",
    "forward increases x and increases depth by measure*aim"
   ]
  },
  {
   "cell_type": "code",
   "execution_count": 5,
   "metadata": {},
   "outputs": [],
   "source": [
    "df.rename( columns={\"y\":\"del_aim\"}, inplace=True )"
   ]
  },
  {
   "cell_type": "code",
   "execution_count": 6,
   "metadata": {},
   "outputs": [],
   "source": [
    "df[\"aim\"] = df[\"del_aim\"].cumsum()\n",
    "df[\"y\"] = df[\"x\"] * df[\"aim\"]"
   ]
  },
  {
   "cell_type": "code",
   "execution_count": 7,
   "metadata": {},
   "outputs": [
    {
     "name": "stdout",
     "output_type": "stream",
     "text": [
      "2003 869681 1741971043\n"
     ]
    }
   ],
   "source": [
    "hor = df[\"x\"].sum()\n",
    "dep = df[\"y\"].sum()\n",
    "print(hor, dep, hor*dep)"
   ]
  }
 ],
 "metadata": {
  "kernelspec": {
   "display_name": "Python 3",
   "language": "python",
   "name": "python3"
  },
  "language_info": {
   "codemirror_mode": {
    "name": "ipython",
    "version": 3
   },
   "file_extension": ".py",
   "mimetype": "text/x-python",
   "name": "python",
   "nbconvert_exporter": "python",
   "pygments_lexer": "ipython3",
   "version": "3.11.9"
  },
  "orig_nbformat": 4
 },
 "nbformat": 4,
 "nbformat_minor": 2
}
