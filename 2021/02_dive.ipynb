{
 "cells": [
  {
   "attachments": {},
   "cell_type": "markdown",
   "metadata": {},
   "source": [
    "# December 03, 2021\n",
    "\n",
    "https://adventofcode.com/2021/day/3"
   ]
  },
  {
   "cell_type": "code",
   "execution_count": 1,
   "metadata": {},
   "outputs": [],
   "source": [
    "import pandas as pd\n",
    "import numpy as np"
   ]
  },
  {
   "cell_type": "markdown",
   "metadata": {},
   "source": [
    "# Part 1"
   ]
  },
  {
   "cell_type": "code",
   "execution_count": 2,
   "metadata": {},
   "outputs": [],
   "source": [
    "# read as string to get leading 0s\n",
    "df = pd.read_csv(\"data/2021/03.txt\", dtype=str, names=[\"diag\"])"
   ]
  },
  {
   "cell_type": "code",
   "execution_count": null,
   "metadata": {},
   "outputs": [],
   "source": [
    "# Parse individual digits\n",
    "dignames = [str(x) for x in range( len(df[\"diag\"][0]) )[::-1] ]\n",
    "df[dignames] = df.apply(lambda x: [int(d) for d in x[\"diag\"]], axis=1, result_type=\"expand\")"
   ]
  },
  {
   "cell_type": "code",
   "execution_count": null,
   "metadata": {},
   "outputs": [],
   "source": [
    "# We could take a shortcut here using the fact that it's binary, but let's be more general\n",
    "# get digit counts\n",
    "digc = df[dignames].apply( lambda x: x.value_counts() )"
   ]
  },
  {
   "cell_type": "code",
   "execution_count": null,
   "metadata": {},
   "outputs": [],
   "source": [
    "gamma = pd.DataFrame(digc.apply(lambda x: x.idxmax(), axis=0), columns=[\"digit\"])\n",
    "gamma[\"pow\"] = gamma.index\n",
    "gamma[\"val\"] = gamma.apply( lambda x: 2**int(x[\"pow\"]) * x[\"digit\"], axis=1)\n",
    "gamma"
   ]
  },
  {
   "cell_type": "code",
   "execution_count": null,
   "metadata": {},
   "outputs": [],
   "source": [
    "epsilon = pd.DataFrame(digc.apply(lambda x: x.idxmin(), axis=0), columns=[\"digit\"])\n",
    "epsilon[\"pow\"] = epsilon.index\n",
    "epsilon[\"val\"] = epsilon.apply( lambda x: 2**int(x[\"pow\"]) * x[\"digit\"], axis=1 )\n",
    "epsilon"
   ]
  },
  {
   "cell_type": "code",
   "execution_count": null,
   "metadata": {},
   "outputs": [],
   "source": [
    "gam = gamma[\"val\"].sum()\n",
    "eps = epsilon[\"val\"].sum()\n",
    "print(gam, eps, gam*eps)"
   ]
  },
  {
   "cell_type": "markdown",
   "metadata": {},
   "source": [
    "# Part 2"
   ]
  },
  {
   "cell_type": "code",
   "execution_count": null,
   "metadata": {},
   "outputs": [],
   "source": [
    "df = df.iloc[:11]"
   ]
  },
  {
   "cell_type": "code",
   "execution_count": null,
   "metadata": {},
   "outputs": [],
   "source": [
    "def select_max(x):\n",
    "    vc = x.value_counts()\n",
    "    # only one value present, return it\n",
    "    if len(vc) == 1:\n",
    "        return vc.index[0]\n",
    "    \n",
    "    if vc[0] > vc[1]:\n",
    "        return 0\n",
    "    else:\n",
    "        return 1\n",
    "    \n",
    "def select_min(x):\n",
    "    vc = x.value_counts()\n",
    "    # if only one value present, return the other\n",
    "    if len(vc) == 1:\n",
    "        return 1 - vc.index[0]\n",
    "    \n",
    "    if vc[0] <= vc[1]:\n",
    "        return 0\n",
    "    else:\n",
    "        return 1\n",
    "    \n",
    "def select_bit(x, which):\n",
    "    if which == \"min\":\n",
    "        return select_min(x)\n",
    "    else:\n",
    "        return select_max(x)\n",
    "    \n",
    "def filter_values( df, pos, which ):\n",
    "    targ = select_bit( df[pos], which )\n",
    "\n",
    "    return df.loc[ df[pos] == targ ]\n",
    "\n",
    "def get_rating( df, which, debug = 0 ):\n",
    "    cols = [x for x in df.columns if x != \"diag\"]\n",
    "    cidx = 0\n",
    "\n",
    "    rcnt = df.shape[0]\n",
    "    while rcnt > 1 and cidx < len(cols):\n",
    "        c = cols[cidx]\n",
    "        print(\"Checking col\", c)\n",
    "        df = filter_values( df, cols[cidx], which )\n",
    "        rcnt = df.shape[-]\n",
    "        if debug >= 1:\n",
    "            print(\"rows left:\", rcnt)\n",
    "        if debug == 2:\n",
    "            display(df)\n",
    "\n",
    "        cidx += 1\n",
    "    assert rcnt > 0, \"All values eliminated!\"\n",
    "    assert rcnt == 1, \"Multiple values remaining!\"\n",
    "\n",
    "    return df\n",
    "\n",
    "def read_val( df ):\n",
    "    cols = [x for x in df.columns if x != \"diag\"]\n",
    "    vals = [ 2**int(c) * df[c].iloc[0] for c in cols ]\n",
    "    return sum(vals)"
   ]
  },
  {
   "cell_type": "code",
   "execution_count": null,
   "metadata": {},
   "outputs": [],
   "source": [
    "o2 = get_rating(df, \"max\", debug=0)\n",
    "print(o2, \"\\n----------\\n\")\n",
    "co2 = get_rating(df, \"min\", debug=0)\n",
    "print(co2)"
   ]
  },
  {
   "cell_type": "code",
   "execution_count": null,
   "metadata": {},
   "outputs": [],
   "source": [
    "o2_rating = read_val(o2)\n",
    "co2_rating = read_val(co2)\n",
    "print( o2_rating, co2_rating, o2_rating*co2_rating )"
   ]
  },
  {
   "cell_type": "code",
   "execution_count": null,
   "metadata": {},
   "outputs": [],
   "source": [
    "display(o2)\n",
    "display(co2)"
   ]
  },
  {
   "cell_type": "code",
   "execution_count": null,
   "metadata": {},
   "outputs": [],
   "source": [
    "512+128+64+4+1"
   ]
  }
 ],
 "metadata": {
  "kernelspec": {
   "display_name": "Python 3",
   "language": "python",
   "name": "python3"
  },
  "language_info": {
   "codemirror_mode": {
    "name": "ipython",
    "version": 3
   },
   "file_extension": ".py",
   "mimetype": "text/x-python",
   "name": "python",
   "nbconvert_exporter": "python",
   "pygments_lexer": "ipython3",
   "version": "3.11.9"
  },
  "orig_nbformat": 4
 },
 "nbformat": 4,
 "nbformat_minor": 2
}
