{
 "cells": [
  {
   "attachments": {},
   "cell_type": "markdown",
   "metadata": {},
   "source": [
    "# December 19, 2021\n",
    "\n",
    "https://adventofcode.com/2021/day/19"
   ]
  },
  {
   "cell_type": "code",
   "execution_count": 1,
   "metadata": {},
   "outputs": [],
   "source": [
    "import pandas as pd\n",
    "import numpy as np\n",
    "import datetime"
   ]
  },
  {
   "cell_type": "code",
   "execution_count": 2,
   "metadata": {},
   "outputs": [],
   "source": [
    "def pnow():\n",
    "    print( datetime.datetime.now().isoformat() )"
   ]
  },
  {
   "cell_type": "code",
   "execution_count": 3,
   "metadata": {},
   "outputs": [],
   "source": [
    "def format_data( text ):\n",
    "    n = 0\n",
    "    scanners = []\n",
    "    scn = []\n",
    "    for line in text.split(\"\\n\")[1:]:\n",
    "        if line[:3] == \"---\":\n",
    "            n += 1\n",
    "            scanners.append(scn)\n",
    "            scn = []\n",
    "        elif not line == \"\":\n",
    "            scn.append( [int(x) for x in line.split(\",\")] )\n",
    "\n",
    "    scanners.append(scn)\n",
    "    return scanners"
   ]
  },
  {
   "cell_type": "code",
   "execution_count": 4,
   "metadata": {},
   "outputs": [],
   "source": [
    "with open(\"../data/2021/19.txt\", \"r\") as f:\n",
    "    data_str = f.read()\n",
    "data = format_data( data_str )"
   ]
  },
  {
   "cell_type": "code",
   "execution_count": 5,
   "metadata": {},
   "outputs": [],
   "source": [
    "with open(\"../data/2021/19_test.txt\", \"r\") as f:\n",
    "    test_str = f.read()\n",
    "test = format_data(test_str)"
   ]
  },
  {
   "cell_type": "code",
   "execution_count": 6,
   "metadata": {},
   "outputs": [],
   "source": [
    "small_str = '''--- scanner 0 ---\n",
    "0,2\n",
    "4,1\n",
    "3,3\n",
    "\n",
    "--- scanner 1 ---\n",
    "-1,-1\n",
    "-5,0\n",
    "-2,1'''"
   ]
  },
  {
   "cell_type": "code",
   "execution_count": 7,
   "metadata": {},
   "outputs": [],
   "source": [
    "small = format_data(small_str)"
   ]
  },
  {
   "cell_type": "markdown",
   "metadata": {},
   "source": [
    "# Part 1"
   ]
  },
  {
   "cell_type": "code",
   "execution_count": 8,
   "metadata": {},
   "outputs": [],
   "source": [
    "def beacon_delta( b1, b2 ):\n",
    "    return [ x-y for x,y in zip(b1,b2) ]\n",
    "\n",
    "def set_deltas( s1 ):\n",
    "    return [ [beacon_delta(s1[i], s1[j]) for j in range(len(s1)) if i!=j] for i in range(len(s1)) ]\n",
    "\n",
    "def rotate_scanner( scanner, rotation ):\n",
    "    # A vlaid rotation has determinant 1\n",
    "    # This means an even number of (adjacent) swaps + negations.\n",
    "    # preserving +x\n",
    "    if rotation == 0:\n",
    "        return scanner\n",
    "    if rotation == 1:\n",
    "        return [ [ b[0],  b[2], -b[1]] for b in scanner ]\n",
    "    if rotation == 2:\n",
    "        return [ [ b[0], -b[2],  b[1]] for b in scanner ]\n",
    "    if rotation == 3:\n",
    "        return [ [ b[0], -b[1], -b[2]] for b in scanner ]\n",
    "    \n",
    "    # switching +x with -x\n",
    "    if rotation == 4:\n",
    "        return [ [-b[0],  b[2],  b[1]] for b in scanner ]\n",
    "    if rotation == 5:\n",
    "        return [ [-b[0], -b[2], -b[1]] for b in scanner ]\n",
    "    if rotation == 6:\n",
    "        return [ [-b[0], -b[1],  b[2]] for b in scanner ]\n",
    "    if rotation == 7:\n",
    "        return [ [-b[0],  b[1], -b[2]] for b in scanner ]\n",
    "    \n",
    "    # switch +x with +y\n",
    "    if rotation == 8:\n",
    "        return [ [-b[1],  b[0],  b[2]] for b in scanner ]\n",
    "    if rotation == 9:\n",
    "        return [ [ b[1],  b[0], -b[2]] for b in scanner ]\n",
    "    if rotation == 10:\n",
    "        return [ [ b[2],  b[0],  b[1]] for b in scanner ]\n",
    "    if rotation == 11:\n",
    "        return [ [-b[2],  b[0], -b[1]] for b in scanner ]\n",
    "\n",
    "    # switch +x with -y\n",
    "    if rotation == 12:\n",
    "        return [ [ b[1], -b[0],  b[2]] for b in scanner ]\n",
    "    if rotation == 13:\n",
    "        return [ [-b[1], -b[0], -b[2]] for b in scanner ]\n",
    "    if rotation == 14:\n",
    "        return [ [-b[2], -b[0],  b[1]] for b in scanner ]\n",
    "    if rotation == 15:\n",
    "        return [ [ b[2], -b[0], -b[1]] for b in scanner ]\n",
    "    \n",
    "    # switch +x with +z\n",
    "    if rotation == 16:\n",
    "        return [ [ b[1],  b[2],  b[0]] for b in scanner ]\n",
    "    if rotation == 17:\n",
    "        return [ [-b[1], -b[2],  b[0]] for b in scanner ]\n",
    "    if rotation == 18:\n",
    "        return [ [-b[2],  b[1],  b[0]] for b in scanner ]\n",
    "    if rotation == 19:\n",
    "        return [ [ b[2], -b[1],  b[0]] for b in scanner ]\n",
    "    \n",
    "    # switch +x with -z\n",
    "    if rotation == 20:\n",
    "        return [ [-b[1],  b[2], -b[0]] for b in scanner ]\n",
    "    if rotation == 21:\n",
    "        return [ [ b[1], -b[2], -b[0]] for b in scanner ]\n",
    "    if rotation == 22:\n",
    "        return [ [ b[2],  b[1], -b[0]] for b in scanner ]\n",
    "    if rotation == 23:\n",
    "        return [ [-b[2], -b[1], -b[0]] for b in scanner ]\n",
    "    raise Exception(\"illegal rotation\")\n",
    "\n",
    "def compare_deltas( delta1, delta2, crit = 12 ):\n",
    "    crit = crit - 1\n",
    "    n1 = len(delta1) - crit\n",
    "    n2 = len(delta2) - crit\n",
    "    \n",
    "    i1 = 0\n",
    "\n",
    "    # if we're going to match a point, we're going to match 12 (crit) points\n",
    "    # so we don't need to check the last 11 (crit-1) points\n",
    "    while i1 < len(delta1): #n1\n",
    "        i2 = 0\n",
    "        while i2 < len(delta2): #n2\n",
    "            matches = sum([1 for d in delta1[i1] if d in delta2[i2]])\n",
    "            if matches >= crit:\n",
    "                return i1, i2\n",
    "            i2 += 1\n",
    "        i1 += 1\n",
    "    return None\n",
    "\n",
    "def translate_scanner( s1, i1, s2, i2 ):\n",
    "    '''translate scanner s2 so that it has the same origin as s1 given that s1[i1] and s2[i2] are the same beacon'''\n",
    "    offset = [ y-x for x,y in zip(s1[i1], s2[i2]) ]\n",
    "    return [ [b[0] - offset[0], b[1] - offset[1], b[2] - offset[2]] for b in s2], offset\n",
    "\n",
    "def compare_all_orientations( s1, s2, crit = 12 ):\n",
    "    '''check if s1 and s2 overlap for some rotation of s2'''\n",
    "    d1 = set_deltas(s1)\n",
    "    for rot in range(24):\n",
    "        srot = rotate_scanner(s2, rot)\n",
    "        drot = set_deltas(srot)\n",
    "        result = compare_deltas(d1, drot)\n",
    "        if result is not None:\n",
    "            # found a matching beacon!\n",
    "            return translate_scanner( s1, result[0], srot, result[1] )\n",
    "        \n",
    "    return None\n",
    "\n",
    "def solve_scanners( scanner_list ):\n",
    "    scanner_pos = {0: [0,0,0]}\n",
    "    # solved = list of scanners oriented with 0\n",
    "    solved = [0]\n",
    "    # scanners solved in current iteration\n",
    "    cur_solved = [0]\n",
    "    # scanners solved in prior iteration\n",
    "    last_solved = []\n",
    "\n",
    "    # not solved yet\n",
    "    unsolved = [i for i in range(1, len(scanner_list))]\n",
    "\n",
    "    while len(unsolved) > 0:\n",
    "        print( datetime.datetime.now().isoformat() )\n",
    "        print(\"Solved:\", len(solved), \"of\", len(scanner_list))\n",
    "        last_solved = cur_solved\n",
    "        cur_solved = []\n",
    "        for unsolved_id in unsolved:\n",
    "            if unsolved_id in cur_solved:\n",
    "                continue\n",
    "            for anchor_id in last_solved:\n",
    "                result = compare_all_orientations( scanner_list[anchor_id], scanner_list[unsolved_id])\n",
    "                if result is not None:\n",
    "                    # result = new_scanned_data, scanner_offset\n",
    "                    print(\"matched\", unsolved_id, \"against\", anchor_id)\n",
    "\n",
    "                    scanner_list[ unsolved_id ] = result[0]\n",
    "                    cur_solved.append( unsolved_id )\n",
    "                    solved.append( unsolved_id )\n",
    "                    scanner_pos[unsolved_id] = result[1]\n",
    "                    break\n",
    "        if len(cur_solved) == 0:\n",
    "            print(\"I give up\")\n",
    "            return scanner_list\n",
    "        else:\n",
    "            for congrats in cur_solved:\n",
    "                unsolved.remove( congrats )\n",
    "    \n",
    "    return scanner_list, scanner_pos\n",
    "\n",
    "def get_unique_beacons( scanner_list ):\n",
    "    beacons = []\n",
    "    for scanner in scanner_list:\n",
    "        for beacon in scanner:\n",
    "            if beacon not in beacons:\n",
    "                beacons.append(beacon)\n",
    "    return beacons\n",
    "\n",
    "def part1( scanners ):\n",
    "    solved_scanners, scanner_pos = solve_scanners( scanners )\n",
    "    beacons = get_unique_beacons( solved_scanners )\n",
    "    return len(beacons)"
   ]
  },
  {
   "cell_type": "code",
   "execution_count": 9,
   "metadata": {},
   "outputs": [
    {
     "data": {
      "text/plain": [
       "5"
      ]
     },
     "execution_count": 9,
     "metadata": {},
     "output_type": "execute_result"
    }
   ],
   "source": [
    "test = format_data(test_str)\n",
    "len(test)"
   ]
  },
  {
   "cell_type": "code",
   "execution_count": 10,
   "metadata": {},
   "outputs": [
    {
     "name": "stdout",
     "output_type": "stream",
     "text": [
      "2025-04-02T10:55:37.922110\n",
      "Solved: 1 of 5\n",
      "matched 1 against 0\n",
      "2025-04-02T10:55:38.205173\n",
      "Solved: 2 of 5\n",
      "matched 3 against 1\n",
      "matched 4 against 1\n",
      "2025-04-02T10:55:38.384787\n",
      "Solved: 4 of 5\n",
      "matched 2 against 4\n"
     ]
    },
    {
     "data": {
      "text/plain": [
       "79"
      ]
     },
     "execution_count": 10,
     "metadata": {},
     "output_type": "execute_result"
    }
   ],
   "source": [
    "part1(test)"
   ]
  },
  {
   "cell_type": "code",
   "execution_count": 11,
   "metadata": {},
   "outputs": [
    {
     "name": "stdout",
     "output_type": "stream",
     "text": [
      "37\n",
      "2025-04-02T10:55:38.494831\n",
      "Solved: 1 of 37\n",
      "matched 2 against 0\n",
      "matched 24 against 0\n",
      "matched 27 against 0\n",
      "2025-04-02T10:55:41.653831\n",
      "Solved: 4 of 37\n",
      "matched 1 against 27\n",
      "matched 4 against 27\n",
      "matched 18 against 2\n",
      "matched 26 against 27\n",
      "matched 31 against 24\n",
      "2025-04-02T10:55:50.074953\n",
      "Solved: 9 of 37\n",
      "matched 7 against 18\n",
      "matched 11 against 4\n",
      "matched 12 against 4\n",
      "matched 15 against 1\n",
      "matched 23 against 18\n",
      "matched 32 against 1\n",
      "matched 36 against 1\n",
      "2025-04-02T10:56:00.087860\n",
      "Solved: 16 of 37\n",
      "matched 3 against 32\n",
      "matched 8 against 12\n",
      "matched 10 against 15\n",
      "matched 16 against 36\n",
      "matched 28 against 36\n",
      "matched 30 against 12\n",
      "2025-04-02T10:56:11.754177\n",
      "Solved: 22 of 37\n",
      "matched 6 against 3\n",
      "matched 14 against 28\n",
      "matched 19 against 3\n",
      "matched 20 against 3\n",
      "matched 29 against 16\n",
      "matched 33 against 16\n",
      "2025-04-02T10:56:17.650032\n",
      "Solved: 28 of 37\n",
      "matched 9 against 6\n",
      "matched 22 against 33\n",
      "matched 25 against 14\n",
      "matched 34 against 6\n",
      "matched 35 against 6\n",
      "2025-04-02T10:56:20.498758\n",
      "Solved: 33 of 37\n",
      "matched 13 against 9\n",
      "matched 17 against 9\n",
      "2025-04-02T10:56:21.439885\n",
      "Solved: 35 of 37\n",
      "matched 5 against 13\n",
      "matched 21 against 13\n"
     ]
    },
    {
     "data": {
      "text/plain": [
       "449"
      ]
     },
     "execution_count": 11,
     "metadata": {},
     "output_type": "execute_result"
    }
   ],
   "source": [
    "data = format_data(data_str)\n",
    "print(len(data))\n",
    "part1(data)"
   ]
  },
  {
   "cell_type": "markdown",
   "metadata": {},
   "source": [
    "# Part 2"
   ]
  },
  {
   "cell_type": "code",
   "execution_count": 12,
   "metadata": {},
   "outputs": [],
   "source": [
    "def manhattan( b1, b2 ):\n",
    "    return abs(b1[0] - b2[0]) + abs(b1[1] - b2[1]) + abs(b1[2] - b2[2])\n",
    "\n",
    "def max_manhattan( scanner_pos ):\n",
    "    mm = 0\n",
    "    for i in range(len(scanner_pos.keys())):\n",
    "        for j in range(i+1, len(scanner_pos.keys())):\n",
    "            man = manhattan( scanner_pos[i], scanner_pos[j] )\n",
    "            if man > mm:\n",
    "                mm = man\n",
    "    return mm\n",
    "\n",
    "def part2( scanners ):\n",
    "    solved_scanners, scanner_pos = solve_scanners( scanners )\n",
    "    beacons = get_unique_beacons( solved_scanners )\n",
    "    mm = max_manhattan(scanner_pos)\n",
    "    return mm, solved_scanners, scanner_pos, beacons"
   ]
  },
  {
   "cell_type": "code",
   "execution_count": 13,
   "metadata": {},
   "outputs": [
    {
     "data": {
      "text/plain": [
       "5"
      ]
     },
     "execution_count": 13,
     "metadata": {},
     "output_type": "execute_result"
    }
   ],
   "source": [
    "test = format_data(test_str)\n",
    "len(test)"
   ]
  },
  {
   "cell_type": "code",
   "execution_count": 14,
   "metadata": {},
   "outputs": [
    {
     "name": "stdout",
     "output_type": "stream",
     "text": [
      "2025-04-02T10:56:21.550352\n",
      "Solved: 1 of 5\n",
      "matched 1 against 0\n",
      "2025-04-02T10:56:21.828012\n",
      "Solved: 2 of 5\n",
      "matched 3 against 1\n",
      "matched 4 against 1\n",
      "2025-04-02T10:56:21.999964\n",
      "Solved: 4 of 5\n",
      "matched 2 against 4\n"
     ]
    }
   ],
   "source": [
    "output = part2(test)"
   ]
  },
  {
   "cell_type": "code",
   "execution_count": 15,
   "metadata": {},
   "outputs": [
    {
     "data": {
      "text/plain": [
       "3621"
      ]
     },
     "execution_count": 15,
     "metadata": {},
     "output_type": "execute_result"
    }
   ],
   "source": [
    "output[0]"
   ]
  },
  {
   "cell_type": "code",
   "execution_count": 16,
   "metadata": {},
   "outputs": [
    {
     "data": {
      "text/plain": [
       "79"
      ]
     },
     "execution_count": 16,
     "metadata": {},
     "output_type": "execute_result"
    }
   ],
   "source": [
    "len(output[3])"
   ]
  },
  {
   "cell_type": "code",
   "execution_count": 17,
   "metadata": {},
   "outputs": [
    {
     "name": "stdout",
     "output_type": "stream",
     "text": [
      "2025-04-02T10:56:22.156538\n",
      "Solved: 1 of 37\n",
      "matched 2 against 0\n",
      "matched 24 against 0\n",
      "matched 27 against 0\n",
      "2025-04-02T10:56:25.333665\n",
      "Solved: 4 of 37\n",
      "matched 1 against 27\n",
      "matched 4 against 27\n",
      "matched 18 against 2\n",
      "matched 26 against 27\n",
      "matched 31 against 24\n",
      "2025-04-02T10:56:33.768457\n",
      "Solved: 9 of 37\n",
      "matched 7 against 18\n",
      "matched 11 against 4\n",
      "matched 12 against 4\n",
      "matched 15 against 1\n",
      "matched 23 against 18\n",
      "matched 32 against 1\n",
      "matched 36 against 1\n",
      "2025-04-02T10:56:43.901627\n",
      "Solved: 16 of 37\n",
      "matched 3 against 32\n",
      "matched 8 against 12\n",
      "matched 10 against 15\n",
      "matched 16 against 36\n",
      "matched 28 against 36\n",
      "matched 30 against 12\n",
      "2025-04-02T10:56:55.732206\n",
      "Solved: 22 of 37\n",
      "matched 6 against 3\n",
      "matched 14 against 28\n",
      "matched 19 against 3\n",
      "matched 20 against 3\n",
      "matched 29 against 16\n",
      "matched 33 against 16\n",
      "2025-04-02T10:57:01.693939\n",
      "Solved: 28 of 37\n",
      "matched 9 against 6\n",
      "matched 22 against 33\n",
      "matched 25 against 14\n",
      "matched 34 against 6\n",
      "matched 35 against 6\n",
      "2025-04-02T10:57:04.654982\n",
      "Solved: 33 of 37\n",
      "matched 13 against 9\n",
      "matched 17 against 9\n",
      "2025-04-02T10:57:05.639570\n",
      "Solved: 35 of 37\n",
      "matched 5 against 13\n",
      "matched 21 against 13\n"
     ]
    }
   ],
   "source": [
    "data = format_data(data_str)\n",
    "len(data)\n",
    "output = part2(data)"
   ]
  },
  {
   "cell_type": "code",
   "execution_count": 18,
   "metadata": {},
   "outputs": [
    {
     "data": {
      "text/plain": [
       "13128"
      ]
     },
     "execution_count": 18,
     "metadata": {},
     "output_type": "execute_result"
    }
   ],
   "source": [
    "output[0]"
   ]
  }
 ],
 "metadata": {
  "kernelspec": {
   "display_name": "Python 3",
   "language": "python",
   "name": "python3"
  },
  "language_info": {
   "codemirror_mode": {
    "name": "ipython",
    "version": 3
   },
   "file_extension": ".py",
   "mimetype": "text/x-python",
   "name": "python",
   "nbconvert_exporter": "python",
   "pygments_lexer": "ipython3",
   "version": "3.11.9"
  },
  "orig_nbformat": 4
 },
 "nbformat": 4,
 "nbformat_minor": 2
}
