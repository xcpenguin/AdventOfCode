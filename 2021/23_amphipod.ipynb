{
 "cells": [
  {
   "attachments": {},
   "cell_type": "markdown",
   "metadata": {},
   "source": [
    "# December 23, 2021\n",
    "\n",
    "https://adventofcode.com/2021/day/23"
   ]
  },
  {
   "cell_type": "code",
   "execution_count": 1,
   "metadata": {},
   "outputs": [],
   "source": [
    "import pandas as pd\n",
    "import numpy as np\n",
    "import re\n",
    "import datetime"
   ]
  },
  {
   "cell_type": "code",
   "execution_count": 2,
   "metadata": {},
   "outputs": [],
   "source": [
    "def pnow():\n",
    "    print( datetime.datetime.now().isoformat() )"
   ]
  },
  {
   "cell_type": "code",
   "execution_count": 3,
   "metadata": {},
   "outputs": [],
   "source": [
    "test = [\"BA\", \"CD\", \"BC\", \"DA\"]\n",
    "test2 = [\"BDDA\", \"CCBD\", \"BBAC\", \"DACA\"] # unexpected dreamers"
   ]
  },
  {
   "cell_type": "code",
   "execution_count": 4,
   "metadata": {},
   "outputs": [],
   "source": [
    "# read in amphipod labels\n",
    "with open(\"../data/2021/23.txt\", \"r\") as f:\n",
    "    data = f.readlines()\n",
    "\n",
    "# parse part 1 data\n",
    "rows = list()\n",
    "for line in data:\n",
    "    m = re.findall(\"[A-Z]\", line)\n",
    "    if len(m) > 0:\n",
    "        rows.append( m )\n",
    "data = [ [x,y] for x,y in zip(*rows)]\n",
    "\n",
    "# create part 2 data\n",
    "midlines = [[\"D\",\"D\"], [\"C\", \"B\"], [\"B\", \"A\"], [\"A\", \"C\"]]\n",
    "data2 = [ [x[0], *m, x[1]] for x, m in zip(data, midlines)]\n"
   ]
  },
  {
   "cell_type": "markdown",
   "metadata": {},
   "source": [
    "# Part 1"
   ]
  },
  {
   "cell_type": "code",
   "execution_count": 5,
   "metadata": {},
   "outputs": [],
   "source": [
    "# ROOM CLASS\n",
    "class Room:\n",
    "    def __init__( self, color=None, pos=None, occ=None, size=None):\n",
    "        self.color = color              # color of eventual occupants\n",
    "        self.pos = pos                  # position of the room's door along the hallway.\n",
    "                                        # For the stated problem it's 2/4/6/8\n",
    "        \n",
    "        if occ is None:\n",
    "            self.occ = occ\n",
    "            self.size = size\n",
    "        else:\n",
    "            self.occ = [x for x in occ] # list of Amphipods in the room\n",
    "            if size is None:\n",
    "                # default: assume it starts full\n",
    "                self.size = len(self.occ)\n",
    "            else:\n",
    "                self.size = size\n",
    "        \n",
    "    def copy( self ):\n",
    "        other = Room()\n",
    "        other.color = self.color\n",
    "        other.pos = self.pos\n",
    "        other.occ = [x for x in self.occ]\n",
    "        other.size = self.size\n",
    "        return other\n",
    "    \n",
    "    def isReady( self ):\n",
    "        # Room is ready if there are no amphipods of another color\n",
    "        return all([ amph == self.color for amph in self.occ ])\n",
    "    def isSolved( self ):\n",
    "        # Room is solved if it is full of amphipods of its color\n",
    "        return self.isReady() and len(self.occ) == self.size\n",
    "\n",
    "    # class identification\n",
    "    def isTile( self ):\n",
    "        return False\n",
    "    def isRoom( self ):\n",
    "        return True\n",
    "    # functions to identify next occ, add an occ, or remove an occ\n",
    "    def nextOcc( self ):\n",
    "        return self.occ[0]\n",
    "    def addOcc( self, occ ):\n",
    "        self.occ = [occ] + self.occ\n",
    "    def rmOcc( self ):\n",
    "        occ = self.occ[0]\n",
    "        self.occ = self.occ[1:]\n",
    "        return occ\n",
    "    \n",
    "    def distTo( self, other ):\n",
    "        if other.isRoom():\n",
    "            # distance between doors + distance to own door + distance from hall to other's last spot\n",
    "            return abs(self.pos - other.pos) + self.size + 1 - len(self.occ) + other.size - len(other.occ)\n",
    "        else:\n",
    "            # distance between door and tile + distance to own door\n",
    "            return abs(self.pos - other.pos) + self.size + 1 - len(self.occ)\n",
    "         \n",
    "    def __eq__(self, other ):\n",
    "        return self.pos == other.pos\n",
    "    \n",
    "    def __getitem__( self, i ):\n",
    "        idx = i - (self.size-len(self.occ))\n",
    "        if idx < 0:\n",
    "            return \".\"\n",
    "        return self.occ[idx]"
   ]
  },
  {
   "cell_type": "code",
   "execution_count": 6,
   "metadata": {},
   "outputs": [],
   "source": [
    "# TILE CLASS\n",
    "class Tile:\n",
    "    def __init__( self, pos=None ):\n",
    "        self.pos = pos\n",
    "        self.occ = None\n",
    "\n",
    "    def copy( self ):\n",
    "        other = Tile()\n",
    "        other.pos = self.pos\n",
    "        other.occ = self.occ\n",
    "        return other\n",
    "    \n",
    "    def __str__( self ):\n",
    "        if self.occ is None:\n",
    "            return \".\"\n",
    "        return self.occ\n",
    "\n",
    "    # I could probably use inheritance and make a Tile a Room of size 1, but eh... that requires more thinking\n",
    "    def isTile( self ):\n",
    "        return True\n",
    "    def isRoom( self ):\n",
    "        return False\n",
    "    def nextOcc(self):\n",
    "        return self.occ\n",
    "    def addOcc( self, occ ):\n",
    "        self.occ = occ\n",
    "    def rmOcc( self ):\n",
    "        occ = self.occ\n",
    "        self.occ = None\n",
    "        return occ\n",
    "\n",
    "\n",
    "    def distTo( self, other ):\n",
    "         if other.isTile():\n",
    "              raise Exception(\"Amphipods cannot move from a hallway tile to another hallway tile\")\n",
    "         else:\n",
    "              # distance between Tile and Room's door + distance from there to Room's last spot\n",
    "              return abs(self.pos - other.pos) + other.size - len(other.occ)\n",
    "         \n",
    "    def __eq__(self, other):\n",
    "        return self.pos == other.pos"
   ]
  },
  {
   "cell_type": "code",
   "execution_count": 7,
   "metadata": {},
   "outputs": [],
   "source": [
    "# PUZZLE CLASS\n",
    "class Puzzle:\n",
    "    def __init__( self, occ_strings = None ):\n",
    "        if occ_strings is None:\n",
    "            self.rooms = None\n",
    "            self.tiles = None\n",
    "        else:\n",
    "            self.rooms = {\n",
    "                \"A\": Room( color=\"A\", pos=2, occ=occ_strings[0] ),\n",
    "                \"B\": Room( color=\"B\", pos=4, occ=occ_strings[1] ),\n",
    "                \"C\": Room( color=\"C\", pos=6, occ=occ_strings[2] ),\n",
    "                \"D\": Room( color=\"D\", pos=8, occ=occ_strings[3] ),\n",
    "            }\n",
    "\n",
    "            self.tiles = [ Tile(x) for x in [0,1,3,5,7,9,10] ]\n",
    "\n",
    "    def copy( self ):\n",
    "        other = Puzzle()\n",
    "        other.rooms = {key: r.copy() for key,r in self.rooms.items()}\n",
    "        other.tiles = [t.copy() for t in self.tiles]\n",
    "        return other\n",
    "\n",
    "    def __getitem__(self, pos):\n",
    "        if pos in [2,4,6,8]:\n",
    "            room_index = int( pos / 2 - 1 )\n",
    "            room_key = \"ABCD\"[room_index]\n",
    "            return self.rooms[ room_key ]\n",
    "        \n",
    "        else:\n",
    "            if pos in [0,1]:\n",
    "                tile_index = pos\n",
    "            elif pos in [9,10]:\n",
    "                tile_index = pos - len(self.rooms)\n",
    "            else:\n",
    "                # 3->2, 5->3, 7->4, 9->5\n",
    "                tile_index = int(pos/2 + .5)\n",
    "            return self.tiles[ tile_index ]\n",
    "        \n",
    "    def getLegalMoves( self ):\n",
    "        moves = []\n",
    "        # try moving from a Starting Room directly to its next occupant's Home\n",
    "        for r in self.rooms.values():\n",
    "            # if r is ready, nobody needs to move from it\n",
    "            if r.isReady():\n",
    "                continue\n",
    "\n",
    "            # Check if Room's next occupant can get to its Home\n",
    "            occ = r.nextOcc()\n",
    "            home = self.rooms[occ]\n",
    "            if home.isReady() and self.pathOpen(r, home):\n",
    "                moves.append( [r.pos, home.pos] )\n",
    "\n",
    "        # try moving from a hallway Tile to its occupant's Home\n",
    "        for t in self.tiles:\n",
    "            occ = t.occ\n",
    "            # nobody in this tile, continue to next\n",
    "            if occ is None:\n",
    "                continue\n",
    "            home = self.rooms[occ]\n",
    "            if home.isReady() and self.pathOpen(t, home):\n",
    "                moves.append( [t.pos, home.pos] )\n",
    "\n",
    "                \n",
    "        # If no moves found so far, try moving from a Start Room to a hallway Tile\n",
    "        # This is secondary, because solving an amphipod is a dominant strategy\n",
    "        # (keeps map cleaner for no additional cost)\n",
    "        if len(moves) == 0:\n",
    "            for r in self.rooms.values():\n",
    "                # If room is ready, there's nobody that needs to move out\n",
    "                if r.isReady():\n",
    "                    continue\n",
    "                \n",
    "                # add any tile that the next occ could reach from room r\n",
    "                for t in self.tiles:\n",
    "                    if self.pathOpen(r, t ):\n",
    "                        moves.append( [r.pos, t.pos] )\n",
    "\n",
    "        # Note: moves between Tiles are verboten - They won't ever produce an superior strategy\n",
    "\n",
    "        return moves\n",
    "    \n",
    "    def pathOpen( self, x, y ):\n",
    "        # Can an amphipod move from x to y or is it blocked?\n",
    "        # Make sure all tiles are empty, before x, or after y.\n",
    "        sign = -1 if y.pos > x.pos else 1\n",
    "        for pos in range(y.pos, x.pos, sign):\n",
    "            if self[pos].isTile() and self[pos].occ is not None:\n",
    "                return False\n",
    "        return True\n",
    "    \n",
    "    def makeMove( self, move ):\n",
    "        other = self.copy()\n",
    "        other[move[1]].addOcc( other[move[0]].rmOcc() )\n",
    "        return other\n",
    "    \n",
    "    def findBestSolution( self ):\n",
    "        # A solution is a list[ cost, moves], where moves is a list of [start, end] positions\n",
    "\n",
    "        # We're done! Return this state as a solution\n",
    "        # It costs 0 and has no moves.\n",
    "        if self.isSolved():\n",
    "            return [0, []]\n",
    "        \n",
    "        moves = self.getLegalMoves()\n",
    "        solutions = []\n",
    "        for move in moves:\n",
    "            # make the move and see if we generate solutions from it\n",
    "            future_self = self.makeMove(move)\n",
    "            future_solution = future_self.findBestSolution()\n",
    "\n",
    "            # if we find solutions, then add this move's cost and prepend this move to each one\n",
    "            if future_solution is not None:\n",
    "                move_cost = self.moveCost(move)\n",
    "                solutions.append( [future_solution[0] + move_cost, [move] + future_solution[1]] )\n",
    "\n",
    "        if len(solutions) > 0:\n",
    "            return self.bestSolution( solutions )\n",
    "        return None\n",
    "        \n",
    "    def isSolved( self ):\n",
    "        return all( [r.isSolved() for r in self.rooms.values()] )\n",
    "    \n",
    "    def moveCost( self, move ):\n",
    "        costs = {\"A\":1, \"B\":10, \"C\":100, \"D\":1000}\n",
    "        dist = self[move[0]].distTo(self[move[1]])\n",
    "        return dist * costs[self[move[0]].nextOcc()]\n",
    "    \n",
    "    @staticmethod\n",
    "    def bestSolution( solutions ):\n",
    "        idx = 0\n",
    "        best = solutions[0][0]\n",
    "\n",
    "        for i in range(1, len(solutions)):\n",
    "            cost = solutions[i][0]\n",
    "            if cost < best:\n",
    "                idx = i\n",
    "                best = cost\n",
    "        return solutions[idx]\n",
    "        \n",
    "    def __str__( self ):\n",
    "        tiles = self.tiles\n",
    "        rooms = self.rooms\n",
    "\n",
    "        out = \"#############\"\n",
    "        out += \"\\n#\" + str(tiles[0]) + str(tiles[1]) + \".\" + str(tiles[2]) + \".\" + str(tiles[3]) + \".\" + str(tiles[4]) + \".\" + str(tiles[5]) + str(tiles[6]) + \"#\"\n",
    "        out += \"\\n###\" + rooms[\"A\"][0] + \"#\" + rooms[\"B\"][0] + \"#\" + rooms[\"C\"][0] + \"#\" + rooms[\"D\"][0] + \"###\"\n",
    "        out += \"\\n  #\" + rooms[\"A\"][1] + \"#\" + rooms[\"B\"][1] + \"#\" + rooms[\"C\"][1] + \"#\" + rooms[\"D\"][1] + \"#  \"\n",
    "        if rooms[\"A\"].size == 2:\n",
    "            out += \"\\n  #########\"\n",
    "            return out\n",
    "        out += \"\\n  #\" + rooms[\"A\"][2] + \"#\" + rooms[\"B\"][2] + \"#\" + rooms[\"C\"][2] + \"#\" + rooms[\"D\"][2] + \"#  \"\n",
    "        out += \"\\n  #\" + rooms[\"A\"][3] + \"#\" + rooms[\"B\"][3] + \"#\" + rooms[\"C\"][3] + \"#\" + rooms[\"D\"][3] + \"#  \"\n",
    "        out += \"\\n  #########\"\n",
    "        return out\n",
    "    \n",
    "    def __repr__( self ):\n",
    "        return str(self)"
   ]
  },
  {
   "cell_type": "code",
   "execution_count": 8,
   "metadata": {},
   "outputs": [
    {
     "data": {
      "text/plain": [
       "#############\n",
       "#...........#\n",
       "###B#C#B#D###\n",
       "  #A#D#C#A#  \n",
       "  #########"
      ]
     },
     "execution_count": 8,
     "metadata": {},
     "output_type": "execute_result"
    }
   ],
   "source": [
    "puz = Puzzle( test )\n",
    "puz"
   ]
  },
  {
   "cell_type": "code",
   "execution_count": 9,
   "metadata": {},
   "outputs": [
    {
     "name": "stdout",
     "output_type": "stream",
     "text": [
      "CPU times: total: 2.91 s\n",
      "Wall time: 2.95 s\n"
     ]
    }
   ],
   "source": [
    "%%time\n",
    "test_best = puz.findBestSolution()"
   ]
  },
  {
   "cell_type": "code",
   "execution_count": 10,
   "metadata": {},
   "outputs": [
    {
     "data": {
      "text/plain": [
       "12521"
      ]
     },
     "execution_count": 10,
     "metadata": {},
     "output_type": "execute_result"
    }
   ],
   "source": [
    "test_best[0]"
   ]
  },
  {
   "cell_type": "code",
   "execution_count": 11,
   "metadata": {},
   "outputs": [
    {
     "data": {
      "text/plain": [
       "[[6, 3],\n",
       " [4, 6],\n",
       " [4, 5],\n",
       " [3, 4],\n",
       " [2, 4],\n",
       " [8, 7],\n",
       " [8, 9],\n",
       " [7, 8],\n",
       " [5, 8],\n",
       " [9, 2]]"
      ]
     },
     "execution_count": 11,
     "metadata": {},
     "output_type": "execute_result"
    }
   ],
   "source": [
    "test_best[1]"
   ]
  },
  {
   "cell_type": "code",
   "execution_count": 12,
   "metadata": {},
   "outputs": [
    {
     "name": "stdout",
     "output_type": "stream",
     "text": [
      "[15109, [[4, 5], [4, 0], [2, 4], [5, 4], [6, 7], [6, 1], [7, 6], [2, 3], [1, 2], [0, 2], [8, 9], [8, 6], [3, 8], [9, 8]]]\n",
      "CPU times: total: 1min 33s\n",
      "Wall time: 1min 34s\n"
     ]
    }
   ],
   "source": [
    "%%time\n",
    "puz = Puzzle( data )\n",
    "data_best = puz.findBestSolution()\n",
    "print( data_best )"
   ]
  },
  {
   "cell_type": "markdown",
   "metadata": {},
   "source": [
    "# Part 2"
   ]
  },
  {
   "cell_type": "code",
   "execution_count": 13,
   "metadata": {},
   "outputs": [
    {
     "name": "stdout",
     "output_type": "stream",
     "text": [
      "[44169, [[8, 10], [6, 9], [8, 0], [6, 7], [6, 1], [4, 6], [4, 6], [4, 5], [4, 3], [5, 4], [7, 4], [8, 6], [9, 4], [8, 9], [3, 8], [2, 4], [2, 8], [2, 8], [1, 2], [0, 2], [9, 2], [10, 8]]]\n",
      "CPU times: total: 1min\n",
      "Wall time: 1min\n"
     ]
    }
   ],
   "source": [
    "%%time\n",
    "puz = Puzzle( test2 )\n",
    "test2_best = puz.findBestSolution()\n",
    "print( test2_best )"
   ]
  },
  {
   "cell_type": "code",
   "execution_count": 14,
   "metadata": {},
   "outputs": [
    {
     "name": "stdout",
     "output_type": "stream",
     "text": [
      "[53751, [[2, 1], [2, 10], [4, 3], [4, 9], [4, 7], [4, 5], [3, 4], [1, 4], [2, 0], [2, 1], [5, 2], [7, 4], [6, 7], [6, 4], [6, 2], [6, 2], [7, 6], [9, 6], [8, 9], [8, 2], [8, 6], [8, 6], [1, 8], [0, 8], [9, 8], [10, 8]]]\n",
      "CPU times: total: 49.4 s\n",
      "Wall time: 49.8 s\n"
     ]
    }
   ],
   "source": [
    "%%time\n",
    "puz = Puzzle( data2 )\n",
    "data2_best = puz.findBestSolution()\n",
    "print( data2_best )"
   ]
  }
 ],
 "metadata": {
  "kernelspec": {
   "display_name": "Python 3",
   "language": "python",
   "name": "python3"
  },
  "language_info": {
   "codemirror_mode": {
    "name": "ipython",
    "version": 3
   },
   "file_extension": ".py",
   "mimetype": "text/x-python",
   "name": "python",
   "nbconvert_exporter": "python",
   "pygments_lexer": "ipython3",
   "version": "3.11.9"
  },
  "orig_nbformat": 4
 },
 "nbformat": 4,
 "nbformat_minor": 2
}
