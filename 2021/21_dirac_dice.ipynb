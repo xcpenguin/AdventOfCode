{
 "cells": [
  {
   "attachments": {},
   "cell_type": "markdown",
   "metadata": {},
   "source": [
    "# December 21, 2021\n",
    "\n",
    "https://adventofcode.com/2021/day/21"
   ]
  },
  {
   "cell_type": "code",
   "execution_count": 1,
   "metadata": {},
   "outputs": [],
   "source": [
    "import pandas as pd\n",
    "import numpy as np\n",
    "from collections import defaultdict\n",
    "import datetime\n",
    "import re"
   ]
  },
  {
   "cell_type": "code",
   "execution_count": 2,
   "metadata": {},
   "outputs": [],
   "source": [
    "def pnow():\n",
    "    print( datetime.datetime.now().isoformat() )"
   ]
  },
  {
   "cell_type": "code",
   "execution_count": 3,
   "metadata": {},
   "outputs": [],
   "source": [
    "with open(\"../data/2021/21.txt\", \"r\") as f:\n",
    "    text = f.read()\n",
    "\n",
    "data = [ int(re.search(\"\\d+$\", line)[0]) for line in text.split(\"\\n\")]"
   ]
  },
  {
   "cell_type": "markdown",
   "metadata": {},
   "source": [
    "# Part 1"
   ]
  },
  {
   "cell_type": "code",
   "execution_count": 4,
   "metadata": {},
   "outputs": [],
   "source": [
    "def mod1( x, base ):\n",
    "    '''x % [base] but where class 0 is called [base]'''\n",
    "    return ( (x-1) % base + 1)"
   ]
  },
  {
   "cell_type": "code",
   "execution_count": 5,
   "metadata": {},
   "outputs": [],
   "source": [
    "def roll( turn ):\n",
    "    dice = 6 + (turn-1)*9\n",
    "    return mod1(dice, 300)\n",
    "\n",
    "def part1( start ):\n",
    "    player1 = {\"pos\":start[0], \"score\":0}\n",
    "    player2 = {\"pos\":start[1], \"score\":0}\n",
    "    turn = 0\n",
    "\n",
    "    while player1[\"score\"] < 1000 and player2[\"score\"] < 1000:\n",
    "        turn += 1\n",
    "        r = roll(turn)\n",
    "        player1[\"pos\"] = mod1( player1[\"pos\"] + r, 10 )\n",
    "        player1[\"score\"] += player1[\"pos\"]\n",
    "\n",
    "        if player1[\"score\"] < 1000:\n",
    "            turn += 1\n",
    "            r = roll(turn)\n",
    "            player2[\"pos\"] = mod1( player2[\"pos\"] + r, 10 )\n",
    "            player2[\"score\"] += player2[\"pos\"]\n",
    "\n",
    "        #print(\"p1\", player1)\n",
    "        #print(\"p2\", player2)\n",
    "\n",
    "    # Done!\n",
    "    if player1[\"score\"] >= 1000:\n",
    "        return player2[\"score\"] * turn * 3\n",
    "    else:\n",
    "        return player1[\"score\"] * turn * 3\n"
   ]
  },
  {
   "cell_type": "code",
   "execution_count": 6,
   "metadata": {},
   "outputs": [
    {
     "data": {
      "text/plain": [
       "739785"
      ]
     },
     "execution_count": 6,
     "metadata": {},
     "output_type": "execute_result"
    }
   ],
   "source": [
    "part1([4,8])"
   ]
  },
  {
   "cell_type": "code",
   "execution_count": 7,
   "metadata": {},
   "outputs": [
    {
     "data": {
      "text/plain": [
       "684495"
      ]
     },
     "execution_count": 7,
     "metadata": {},
     "output_type": "execute_result"
    }
   ],
   "source": [
    "part1(data)"
   ]
  },
  {
   "cell_type": "markdown",
   "metadata": {},
   "source": [
    "# Part 2\n",
    "\n",
    "Use Kolmogorov Backward Step Equation\n",
    "\n",
    "Start with probability because it's easier for me to think about than counting universes"
   ]
  },
  {
   "cell_type": "code",
   "execution_count": 8,
   "metadata": {},
   "outputs": [],
   "source": [
    "def prob_dist_to_goal( given, pos, goal=21, nsides=3, nspaces=10 ):\n",
    "    '''return dict where [value] is probability of reaching goal in [key] turns'''\n",
    "    if given >= goal:\n",
    "        return{0:1.0}\n",
    "    \n",
    "    full_dict = {}\n",
    "    for r in range(nsides):\n",
    "        new_pos = mod1(pos+r+1, nspaces)\n",
    "        next_dict = prob_dist_to_goal( given + new_pos, new_pos, goal, nsides, nspaces )\n",
    "        for k in next_dict.keys():\n",
    "            if k+1 in full_dict:\n",
    "                full_dict[k+1] += next_dict[k]/nsides\n",
    "            else:\n",
    "                full_dict[k+1] = next_dict[k]/nsides\n",
    "\n",
    "    return full_dict"
   ]
  },
  {
   "cell_type": "markdown",
   "metadata": {},
   "source": [
    "Okay.... count the number of universes that take X turns"
   ]
  },
  {
   "cell_type": "code",
   "execution_count": 9,
   "metadata": {},
   "outputs": [],
   "source": [
    "def count_dist_to_goal( given, pos, goal=21, nsides=3, nspaces=10 ):\n",
    "    '''return dict where [value] is number of paths to goal in [key] turns'''\n",
    "\n",
    "    if given >= goal:\n",
    "        return{0:1.0}\n",
    "    \n",
    "    full_dict = {}\n",
    "    for r in range(nsides):\n",
    "        new_pos = mod1(pos+r+1, nspaces)\n",
    "        next_dict = count_dist_to_goal( given + new_pos, new_pos, goal, nsides, nspaces )\n",
    "        for k in next_dict.keys():\n",
    "            if k+1 in full_dict:\n",
    "                full_dict[k+1] += next_dict[k] + 1\n",
    "            else:\n",
    "                full_dict[k+1] = next_dict[k]+1\n",
    "    \n",
    "    return full_dict"
   ]
  },
  {
   "cell_type": "markdown",
   "metadata": {},
   "source": [
    "Nertz! Can't do players independently because universe stops splitting as soon as one finishes.  \n",
    "The other player will have fewer universes"
   ]
  },
  {
   "cell_type": "code",
   "execution_count": 10,
   "metadata": {},
   "outputs": [],
   "source": [
    "def get_roll_table( n, d ):\n",
    "    roll_table = { pips+1:1 for pips in range(d) }\n",
    "\n",
    "    for roll in range(n-1):\n",
    "        next_table = defaultdict(int)\n",
    "\n",
    "        for pips in range(d):\n",
    "            for tot in roll_table.keys():\n",
    "                next_table[ tot+pips+1 ] += roll_table[ tot ]\n",
    "        roll_table = next_table.copy()\n",
    "\n",
    "    return roll_table\n",
    "\n",
    "def bi_count_dist_to_goal( score1, score2, pos1, pos2, who, roll_table, goal=21, nspaces=10 ):\n",
    "    '''\n",
    "    Return the number of universes where players win, given they have\n",
    "    \n",
    "    score1/2: current scores for players\n",
    "    pos1/2: current positions for players\n",
    "    who: current player (1 or 2)\n",
    "    goal: target score\n",
    "    nsides: number of die sides, assumed 1..nsides\n",
    "    nspaces: number of spaces on track, assumed 1..nspaces\n",
    "    '''\n",
    "\n",
    "#    print(f'''{who}: {score1} @{pos1} --- {score2} @{pos2}''')\n",
    "\n",
    "    # Base Cases:\n",
    "    # It's player 2's turn but player 1 already won!\n",
    "    if who == 2 and score1 >= goal:\n",
    "        return [1,0]\n",
    "    # It's player 1's turn but player 2 already won!\n",
    "    if who == 1 and score2 >= goal:\n",
    "        return [0,1]\n",
    "    # not a bas case, but we already solved it:\n",
    "    # memoization is init outside this function in global space ><\n",
    "    if (score1, score2, pos1, pos2, who) in bad_style_dict.keys():\n",
    "        return bad_style_dict[(score1, score2, pos1, pos2, who) ]\n",
    "    \n",
    "    counts = [0,0]\n",
    "    for roll, count in roll_table.items():\n",
    "        #print(\"further on:\", roll count)\n",
    "        if who == 1:\n",
    "            new_pos = mod1( pos1 + roll, nspaces )\n",
    "            future = bi_count_dist_to_goal( score1+new_pos, score2, new_pos, pos2, 2, roll_table, goal, nspaces )\n",
    "        else:\n",
    "            new_pos = mod1( pos2 + roll, nspaces )\n",
    "            future = bi_count_dist_to_goal( score1, score2+new_pos, pos1, new_pos, 1, roll_table, goal, nspaces )\n",
    "\n",
    "        # count the possible future universes given roll of r\n",
    "#        print(\"return from \", roll, count)\n",
    "#        print(\"FUTURE = \", future)\n",
    "#        print(\"COUNT = \", count)\n",
    "        counts[0] += future[0]*count\n",
    "        counts[1] += future[1]*count\n",
    "#        print(\"COUNTS = \", counts)\n",
    "#        print(\"===========================\")\n",
    "    bad_style_dict[ (score1, score2, pos1, pos2, who) ] = counts\n",
    "#    print( len(bad_style_dict.keys()) )\n",
    "\n",
    "    return counts\n"
   ]
  },
  {
   "cell_type": "code",
   "execution_count": 11,
   "metadata": {},
   "outputs": [
    {
     "data": {
      "text/plain": [
       "defaultdict(int, {3: 1, 4: 3, 5: 6, 6: 7, 7: 6, 8: 3, 9: 1})"
      ]
     },
     "execution_count": 11,
     "metadata": {},
     "output_type": "execute_result"
    }
   ],
   "source": [
    "roll_table = get_roll_table(3,3)\n",
    "roll_table"
   ]
  },
  {
   "cell_type": "code",
   "execution_count": 12,
   "metadata": {},
   "outputs": [
    {
     "name": "stdout",
     "output_type": "stream",
     "text": [
      "CPU times: total: 93.8 ms\n",
      "Wall time: 92.3 ms\n"
     ]
    }
   ],
   "source": [
    "%%time\n",
    "bad_style_dict = {}\n",
    "counts = bi_count_dist_to_goal( 0, 0, 4, 8, 1, roll_table, goal=21, nspaces=10 )"
   ]
  },
  {
   "cell_type": "code",
   "execution_count": 13,
   "metadata": {},
   "outputs": [
    {
     "data": {
      "text/plain": [
       "[444356092776315, 341960390180808]"
      ]
     },
     "execution_count": 13,
     "metadata": {},
     "output_type": "execute_result"
    }
   ],
   "source": [
    "counts"
   ]
  },
  {
   "cell_type": "code",
   "execution_count": 14,
   "metadata": {},
   "outputs": [
    {
     "name": "stdout",
     "output_type": "stream",
     "text": [
      "CPU times: total: 78.1 ms\n",
      "Wall time: 84.2 ms\n"
     ]
    }
   ],
   "source": [
    "%%time\n",
    "bad_style_dict = {}\n",
    "counts = bi_count_dist_to_goal( 0, 0, data[0], data[1], 1, roll_table, goal=21, nspaces=10 )"
   ]
  },
  {
   "cell_type": "code",
   "execution_count": 15,
   "metadata": {},
   "outputs": [
    {
     "data": {
      "text/plain": [
       "[138289532619163, 152587196649184]"
      ]
     },
     "execution_count": 15,
     "metadata": {},
     "output_type": "execute_result"
    }
   ],
   "source": [
    "counts"
   ]
  },
  {
   "cell_type": "code",
   "execution_count": 16,
   "metadata": {},
   "outputs": [
    {
     "data": {
      "text/plain": [
       "152587196649184"
      ]
     },
     "execution_count": 16,
     "metadata": {},
     "output_type": "execute_result"
    }
   ],
   "source": [
    "max(counts)"
   ]
  }
 ],
 "metadata": {
  "kernelspec": {
   "display_name": "Python 3",
   "language": "python",
   "name": "python3"
  },
  "language_info": {
   "codemirror_mode": {
    "name": "ipython",
    "version": 3
   },
   "file_extension": ".py",
   "mimetype": "text/x-python",
   "name": "python",
   "nbconvert_exporter": "python",
   "pygments_lexer": "ipython3",
   "version": "3.11.9"
  },
  "orig_nbformat": 4
 },
 "nbformat": 4,
 "nbformat_minor": 2
}
