{
 "cells": [
  {
   "attachments": {},
   "cell_type": "markdown",
   "metadata": {},
   "source": [
    "# December 07, 2021\n",
    "\n",
    "https://adventofcode.com/2021/day/7"
   ]
  },
  {
   "cell_type": "code",
   "execution_count": 1,
   "metadata": {},
   "outputs": [],
   "source": [
    "import pandas as pd\n",
    "import numpy as np"
   ]
  },
  {
   "cell_type": "markdown",
   "metadata": {},
   "source": [
    "# Read Data"
   ]
  },
  {
   "cell_type": "code",
   "execution_count": 2,
   "metadata": {},
   "outputs": [],
   "source": [
    "with open(\"../data/2021/07.txt\", \"r\") as f:\n",
    "    init = f.read()\n",
    "\n",
    "# Short for Sebastians :-)\n",
    "sebs = [int(x) for x in init.split(\",\")]"
   ]
  },
  {
   "cell_type": "markdown",
   "metadata": {},
   "source": [
    "# Part 1\n",
    "Align the little Seb subs!"
   ]
  },
  {
   "cell_type": "code",
   "execution_count": 3,
   "metadata": {},
   "outputs": [],
   "source": [
    "# The median minimizes Mean Absolute Deviation, which is what we want\n",
    "def calc_pos( sebs ):\n",
    "    sebs.sort()\n",
    "    n = len(sebs)\n",
    "    if n % 2 == 0:\n",
    "        return .5 * (sebs[ int(n/2-1) ] + sebs[ int(n/2) ])\n",
    "    else:\n",
    "        return sebs[ int((n-1)/2) ]\n",
    "    \n",
    "def calc_fuel( sebs, pos = None ):\n",
    "    if pos is None: pos = int(calc_pos( sebs ))\n",
    "    return sum( [ absdev(s, pos) for s in sebs ] )\n",
    "\n",
    "def absdev(x,y):\n",
    "    return max(x,y) - min(x,y)"
   ]
  },
  {
   "cell_type": "code",
   "execution_count": 4,
   "metadata": {},
   "outputs": [],
   "source": [
    "test = [16,1,2,0,4,2,7,1,2,14]"
   ]
  },
  {
   "cell_type": "code",
   "execution_count": 5,
   "metadata": {},
   "outputs": [
    {
     "data": {
      "text/plain": [
       "2.0"
      ]
     },
     "execution_count": 5,
     "metadata": {},
     "output_type": "execute_result"
    }
   ],
   "source": [
    "calc_pos(test)"
   ]
  },
  {
   "cell_type": "code",
   "execution_count": 6,
   "metadata": {},
   "outputs": [
    {
     "name": "stdout",
     "output_type": "stream",
     "text": [
      "41\n",
      "37\n",
      "39\n",
      "71\n"
     ]
    }
   ],
   "source": [
    "for p in [1,2,3,10]:\n",
    "    print(calc_fuel(test, p))"
   ]
  },
  {
   "cell_type": "code",
   "execution_count": 7,
   "metadata": {},
   "outputs": [
    {
     "data": {
      "text/plain": [
       "352254"
      ]
     },
     "execution_count": 7,
     "metadata": {},
     "output_type": "execute_result"
    }
   ],
   "source": [
    "calc_fuel(sebs)"
   ]
  },
  {
   "cell_type": "markdown",
   "metadata": {},
   "source": [
    "# Part 2"
   ]
  },
  {
   "cell_type": "code",
   "execution_count": 8,
   "metadata": {},
   "outputs": [],
   "source": [
    "def calc_pos2( sebs ):\n",
    "    tot = sum(sebs)\n",
    "    n = len(sebs)\n",
    "    best = (2*tot - n) / (2*n)\n",
    "\n",
    "    # best may not be integral, so find the best integral solution!\n",
    "    lof, lox = calc_fuel2( sebs, int(best) )\n",
    "    hif, hix = calc_fuel2( sebs, int(best)+1 )\n",
    "\n",
    "    return lox if lof < hif else hix\n",
    "\n",
    "def dev2(x,y):\n",
    "    d = absdev(x,y)\n",
    "    if d == 0:\n",
    "        return 0\n",
    "    else:\n",
    "        return int( d*(d+1)/2 )\n",
    "    \n",
    "def calc_fuel2( sebs, pos=None ):\n",
    "    if pos is None: pos = calc_pos2(sebs)\n",
    "    return sum( [ dev2(s,pos) for s in sebs ] ), pos"
   ]
  },
  {
   "cell_type": "code",
   "execution_count": 9,
   "metadata": {},
   "outputs": [
    {
     "name": "stdout",
     "output_type": "stream",
     "text": [
      "(290, 0)\n",
      "(242, 1)\n",
      "(206, 2)\n",
      "(183, 3)\n",
      "(170, 4)\n",
      "(168, 5)\n"
     ]
    }
   ],
   "source": [
    "for d in [0,1,2,3,4,5]:\n",
    "    print(calc_fuel2(test,d))"
   ]
  },
  {
   "cell_type": "code",
   "execution_count": 10,
   "metadata": {},
   "outputs": [
    {
     "data": {
      "text/plain": [
       "(168, 5)"
      ]
     },
     "execution_count": 10,
     "metadata": {},
     "output_type": "execute_result"
    }
   ],
   "source": [
    "calc_fuel2( test )"
   ]
  },
  {
   "cell_type": "code",
   "execution_count": 11,
   "metadata": {},
   "outputs": [
    {
     "data": {
      "text/plain": [
       "(99053143, 504)"
      ]
     },
     "execution_count": 11,
     "metadata": {},
     "output_type": "execute_result"
    }
   ],
   "source": [
    "calc_fuel2( sebs )"
   ]
  }
 ],
 "metadata": {
  "kernelspec": {
   "display_name": "Python 3",
   "language": "python",
   "name": "python3"
  },
  "language_info": {
   "codemirror_mode": {
    "name": "ipython",
    "version": 3
   },
   "file_extension": ".py",
   "mimetype": "text/x-python",
   "name": "python",
   "nbconvert_exporter": "python",
   "pygments_lexer": "ipython3",
   "version": "3.11.9"
  },
  "orig_nbformat": 4
 },
 "nbformat": 4,
 "nbformat_minor": 2
}
