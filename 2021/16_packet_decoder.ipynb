{
 "cells": [
  {
   "attachments": {},
   "cell_type": "markdown",
   "metadata": {},
   "source": [
    "# December 16, 2021\n",
    "\n",
    "https://adventofcode.com/2021/day/16"
   ]
  },
  {
   "cell_type": "code",
   "execution_count": 1,
   "metadata": {},
   "outputs": [],
   "source": [
    "import pandas as pd\n",
    "import numpy as np\n",
    "from collections import defaultdict, deque\n",
    "from queue import PriorityQueue"
   ]
  },
  {
   "cell_type": "code",
   "execution_count": 2,
   "metadata": {},
   "outputs": [],
   "source": [
    "with open(\"../data/2021/16.txt\", \"r\") as f:\n",
    "    data = f.read()"
   ]
  },
  {
   "cell_type": "code",
   "execution_count": 3,
   "metadata": {},
   "outputs": [],
   "source": [
    "tests = [\n",
    "    \"8A004A801A8002F478\"\n",
    "    , \"620080001611562C8802118E34\"\n",
    "    , \"C0015000016115A2E0802F182340\"\n",
    "    , \"A0016C880162017C3686B18A3D4780\"\n",
    "]"
   ]
  },
  {
   "cell_type": "code",
   "execution_count": 4,
   "metadata": {},
   "outputs": [],
   "source": [
    "def hex_to_binary( text ):\n",
    "\n",
    "    bit_char = {\n",
    "        \"0\": \"0000\"\n",
    "        , \"1\": \"0001\"\n",
    "        , \"2\": \"0010\"\n",
    "        , \"3\": \"0011\"\n",
    "        , \"4\": \"0100\"\n",
    "        , \"5\": \"0101\"\n",
    "        , \"6\": \"0110\"\n",
    "        , \"7\": \"0111\"\n",
    "        , \"8\": \"1000\"\n",
    "        , \"9\": \"1001\"\n",
    "        , \"A\": \"1010\"\n",
    "        , \"B\": \"1011\"\n",
    "        , \"C\": \"1100\"\n",
    "        , \"D\": \"1101\"\n",
    "        , \"E\": \"1110\"\n",
    "        , \"F\": \"1111\"\n",
    "    }\n",
    "\n",
    "    return \"\".join( [bit_char[hex_char] for hex_char in text] )\n",
    "\n",
    "def str_to_int(s):\n",
    "    n = len(s) - 1\n",
    "    return sum( [int(d) * 2**(n-i) for i,d in enumerate(s)] )"
   ]
  },
  {
   "cell_type": "code",
   "execution_count": 5,
   "metadata": {},
   "outputs": [
    {
     "ename": "AssertionError",
     "evalue": "",
     "output_type": "error",
     "traceback": [
      "\u001b[1;31m---------------------------------------------------------------------------\u001b[0m",
      "\u001b[1;31mAssertionError\u001b[0m                            Traceback (most recent call last)",
      "Cell \u001b[1;32mIn[5], line 1\u001b[0m\n\u001b[1;32m----> 1\u001b[0m \u001b[38;5;28;01massert\u001b[39;00m hex_to_binary(tests[\u001b[38;5;241m0\u001b[39m]) \u001b[38;5;241m==\u001b[39m \u001b[38;5;124m\"\u001b[39m\u001b[38;5;124m110100101111111000101000\u001b[39m\u001b[38;5;124m\"\u001b[39m\n",
      "\u001b[1;31mAssertionError\u001b[0m: "
     ]
    }
   ],
   "source": [
    "assert hex_to_binary(tests[0]) == \"110100101111111000101000\""
   ]
  },
  {
   "cell_type": "code",
   "execution_count": 12,
   "metadata": {},
   "outputs": [],
   "source": [
    "class BitStream():\n",
    "    def __init__(self, stream):\n",
    "        self.stream = stream\n",
    "        self.pos = 0\n",
    "        self.version_sum = 0\n",
    "\n",
    "    def read_binary_number(self, nbits):\n",
    "        s = self.stream[self.pos:self.pos+nbits]\n",
    "        self.pos += nbits\n",
    "        return self.str_to_int(s)\n",
    "    \n",
    "    def read_version_id(self):\n",
    "        return self.read_binary_number(3)\n",
    "    \n",
    "    def read_type_id(self):\n",
    "        return self.read_binary_number(3)\n",
    "    \n",
    "    def read_length_type_id(self):\n",
    "        return self.read_binary_number(1)\n",
    "    \n",
    "    def read_length_type0(self):\n",
    "        '''read packets with a given total bit-length'''\n",
    "        nbits = self.read_binary_number(15)\n",
    "        values = []\n",
    "        start_pos = self.pos\n",
    "        while self.pos - start_pos < nbits:\n",
    "            values += [self.read_packet()]\n",
    "        return values\n",
    "    \n",
    "    def read_length_type1( self ):\n",
    "        '''read a specified number of packets'''\n",
    "        npackets = self.read_binary_number(11)\n",
    "        values = [0] * npackets\n",
    "        for i in range(npackets):\n",
    "            values[i] = self.read_packet()\n",
    "        return values\n",
    "    \n",
    "    def read_literal(self):\n",
    "        s = \"\"\n",
    "        while True:\n",
    "            end_flag = self.stream[self.pos]\n",
    "            s += self.stream[self.pos+1:self.pos+5]\n",
    "            self.pos += 5\n",
    "            if end_flag == \"0\":\n",
    "                break\n",
    "        return self.str_to_int(s)\n",
    "    \n",
    "    def read_packet(self):\n",
    "        '''return the value of the packet starting at pos'''\n",
    "        vers_id = self.read_version_id()\n",
    "        self.version_sum += vers_id\n",
    "        type_id = self.read_type_id()\n",
    "\n",
    "        if type_id == 4:\n",
    "            return self.read_literal()\n",
    "        \n",
    "        length_type_id = self.read_length_type_id()\n",
    "        if length_type_id == 0:\n",
    "            values = self.read_length_type0()\n",
    "        else:\n",
    "            values = self.read_length_type1()\n",
    "\n",
    "        # perform an operation\n",
    "        if type_id == 0: # sum\n",
    "            value = 0\n",
    "            for v in values:\n",
    "                value += v\n",
    "        elif type_id == 1: # prod\n",
    "            value = 1\n",
    "            for v in values:\n",
    "                value *= v\n",
    "        elif type_id == 2: #min\n",
    "            value = values[0]\n",
    "            for v in values[1:]: # works even if values is len 1. Nice job, Python\n",
    "                if v < value: value = v\n",
    "        elif type_id == 3: # max\n",
    "            value = values[0]\n",
    "            for v in values[1:]: # works even if values is len 1. Nice job, Python\n",
    "                if v > value: value = v\n",
    "        elif type_id == 5: # gt\n",
    "            if values[0] > values[1]:\n",
    "                value = 1\n",
    "            else:\n",
    "                value = 0\n",
    "        elif type_id == 6: # lt\n",
    "            if values[0] < values[1]:\n",
    "                value = 1\n",
    "            else:\n",
    "                value = 0\n",
    "        elif type_id == 7: # eq\n",
    "            if values[0] == values[1]:\n",
    "                value = 1\n",
    "            else:\n",
    "                value = 0\n",
    "\n",
    "        return value\n",
    "    \n",
    "    def get_version_sum(self):\n",
    "        vsum = []\n",
    "        while len(self.stream) - self.pos > 3:\n",
    "            vsum += [self.read_packet()]\n",
    "        return vsum\n",
    "    \n",
    "    def reset(self):\n",
    "        self.pos = 0\n",
    "\n",
    "    @staticmethod\n",
    "    def str_to_int(s):\n",
    "        n = len(s) - 1\n",
    "        return sum( [int(d) * 2**(n-i) for i,d in enumerate(s)] )"
   ]
  },
  {
   "cell_type": "markdown",
   "metadata": {},
   "source": [
    "# Part 1"
   ]
  },
  {
   "cell_type": "code",
   "execution_count": 13,
   "metadata": {},
   "outputs": [
    {
     "name": "stdout",
     "output_type": "stream",
     "text": [
      "16\n",
      "12\n",
      "23\n",
      "31\n"
     ]
    }
   ],
   "source": [
    "for t in tests:\n",
    "    bit_string = hex_to_binary(t)\n",
    "    bs = BitStream(bit_string)\n",
    "    bs.read_packet()\n",
    "    print(bs.version_sum)"
   ]
  },
  {
   "cell_type": "code",
   "execution_count": 14,
   "metadata": {},
   "outputs": [
    {
     "name": "stdout",
     "output_type": "stream",
     "text": [
      "940\n"
     ]
    }
   ],
   "source": [
    "bit_string = hex_to_binary(data)\n",
    "bs = BitStream(bit_string)\n",
    "bs.read_packet()\n",
    "print(bs.version_sum)"
   ]
  },
  {
   "cell_type": "markdown",
   "metadata": {},
   "source": [
    "# Part 2\n",
    "\n",
    "evaluate packets"
   ]
  },
  {
   "cell_type": "code",
   "execution_count": null,
   "metadata": {},
   "outputs": [],
   "source": [
    "tests = [\n",
    "    \"C200B40A82\"\n",
    "    , \"04005AC33890\"\n",
    "    , \"880086C3E88112\"\n",
    "    , \"CE00C43D881120\"\n",
    "    , \"D8005AC2A8F0\"\n",
    "    , \"F600BC2D8F\"\n",
    "    , \"9C005AC2F8F0\"\n",
    "    , \"9C0141080250320F1802104A08\"\n",
    "]"
   ]
  },
  {
   "cell_type": "code",
   "execution_count": 17,
   "metadata": {},
   "outputs": [
    {
     "name": "stdout",
     "output_type": "stream",
     "text": [
      "C200B40A82 ---> 3\n",
      "04005AC33890 ---> 54\n",
      "880086C3E88112 ---> 7\n",
      "CE00C43D881120 ---> 9\n",
      "D8005AC2A8F0 ---> 1\n",
      "F600BC2D8F ---> 0\n",
      "9C005AC2F8F0 ---> 0\n",
      "9C0141080250320F1802104A08 ---> 1\n",
      "How'd we do?\n"
     ]
    }
   ],
   "source": [
    "for t in tests:\n",
    "    bit_string = hex_to_binary(t)\n",
    "    bs = BitStream(bit_string)\n",
    "    print(t, \"--->\", bs.read_packet())\n",
    "\n",
    "print(\"How'd we do?\")"
   ]
  },
  {
   "cell_type": "code",
   "execution_count": 24,
   "metadata": {},
   "outputs": [
    {
     "data": {
      "text/plain": [
       "(13476220616073, 940)"
      ]
     },
     "execution_count": 24,
     "metadata": {},
     "output_type": "execute_result"
    }
   ],
   "source": [
    "bit_string = hex_to_binary(data)\n",
    "bs = BitStream(bit_string)\n",
    "bs.read_packet(), bs.version_sum"
   ]
  }
 ],
 "metadata": {
  "kernelspec": {
   "display_name": "Python 3",
   "language": "python",
   "name": "python3"
  },
  "language_info": {
   "codemirror_mode": {
    "name": "ipython",
    "version": 3
   },
   "file_extension": ".py",
   "mimetype": "text/x-python",
   "name": "python",
   "nbconvert_exporter": "python",
   "pygments_lexer": "ipython3",
   "version": "3.11.9"
  },
  "orig_nbformat": 4
 },
 "nbformat": 4,
 "nbformat_minor": 2
}
