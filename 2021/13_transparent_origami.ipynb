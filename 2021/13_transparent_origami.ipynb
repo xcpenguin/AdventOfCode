{
 "cells": [
  {
   "attachments": {},
   "cell_type": "markdown",
   "metadata": {},
   "source": [
    "# December 13, 2021\n",
    "\n",
    "https://adventofcode.com/2021/day/13"
   ]
  },
  {
   "cell_type": "code",
   "execution_count": 1,
   "metadata": {},
   "outputs": [],
   "source": [
    "import pandas as pd\n",
    "import numpy as np\n",
    "from collections import defaultdict, deque"
   ]
  },
  {
   "cell_type": "code",
   "execution_count": null,
   "metadata": {},
   "outputs": [],
   "source": [
    "def format_data( data_str ):\n",
    "    parts = data_str.split(\"\\n\\n\")\n",
    "\n",
    "    # keep as string for easy-printing\n",
    "    # I don't feel like messing with generator types\n",
    "    #points = set( [(int(x) for x in line.split(\",\")) for line in parts[0].split(\"\\n\")] )\n",
    "    points = set( [line for line in parts[0].split(\"\\n\")] )\n",
    "\n",
    "    folds = [ [line[11], int(line[13:])] for line in parts[1].split(\"\\n\") ]\n",
    "\n",
    "    return {\"points\":points, \"folds\":folds}"
   ]
  },
  {
   "cell_type": "code",
   "execution_count": null,
   "metadata": {},
   "outputs": [],
   "source": [
    "with open(\"data/2021/13.txt\", \"r\") as f:\n",
    "    data_str = f.read()\n",
    "data = format_data( data_str )"
   ]
  },
  {
   "cell_type": "code",
   "execution_count": null,
   "metadata": {},
   "outputs": [],
   "source": [
    "test_str = '''6,10\n",
    "0,14\n",
    "9,10\n",
    "0,3\n",
    "10,4\n",
    "4,11\n",
    "6,0\n",
    "6,12\n",
    "4,1\n",
    "0,13\n",
    "10,12\n",
    "3,4\n",
    "3,0\n",
    "8,4\n",
    "1,10\n",
    "2,14\n",
    "8,10\n",
    "9,0\n",
    "\n",
    "fold along y=7\n",
    "fold along x=5'''\n",
    "\n",
    "test = format_data(test_str)\n",
    "test"
   ]
  },
  {
   "cell_type": "markdown",
   "metadata": {},
   "source": [
    "# Part 1"
   ]
  },
  {
   "cell_type": "code",
   "execution_count": null,
   "metadata": {},
   "outputs": [],
   "source": [
    "def fold( points, how ):\n",
    "    which = how[0]\n",
    "    where = how[1]\n",
    "\n",
    "    new_points = set()\n",
    "    while len(points) > 0:\n",
    "        pt = points.pop()\n",
    "        x,y = [int(coord) for coord in pt.split(\",\")]\n",
    "\n",
    "        if which == \"x\" and x > where:\n",
    "            new_pt = str(2*where - x)+\",\"+str(y)\n",
    "        elif which == \"y\" and y > where:\n",
    "            new_pt = str(x)+\",\"+str(2*where - y)\n",
    "        else:\n",
    "            new_pt = pt\n",
    "            new_points.add(new_pt)\n",
    "            # print(pt, \"-->\", new_pt)\n",
    "\n",
    "    #print(\"===\")\n",
    "    return new_points\n",
    "\n",
    "def folderol( data, max_folds = 0 ):\n",
    "    if max_folds < 1:\n",
    "        max_folds = len(data[\"folds\"])\n",
    "\n",
    "    points = data[\"points\"].copy()\n",
    "    for n in range(max_folds):\n",
    "        points = fold(points, data[\"folds\"][n])\n",
    "\n",
    "    return points"
   ]
  },
  {
   "cell_type": "code",
   "execution_count": null,
   "metadata": {},
   "outputs": [],
   "source": [
    "points = test[\"points\"].copy()\n",
    "after = fold( points, test[\"folds\"][0] )\n",
    "len(after)"
   ]
  },
  {
   "cell_type": "code",
   "execution_count": null,
   "metadata": {},
   "outputs": [],
   "source": [
    "afterall = folderol( test )\n",
    "len(afterall)"
   ]
  },
  {
   "cell_type": "code",
   "execution_count": null,
   "metadata": {},
   "outputs": [],
   "source": [
    "points = data[\"points\"].copy()\n",
    "after = folderol( data, 1)\n",
    "len(after)"
   ]
  },
  {
   "cell_type": "markdown",
   "metadata": {},
   "source": [
    "# Part 2"
   ]
  },
  {
   "cell_type": "code",
   "execution_count": null,
   "metadata": {},
   "outputs": [],
   "source": [
    "def print_points( points ):\n",
    "    P = points.copy()\n",
    "    coords = []\n",
    "\n",
    "    maxx = 0\n",
    "    maxy = 0\n",
    "    while len(P) > 0:\n",
    "        pt = P.pop()\n",
    "        x,y = [int(val) for val in pt.split(\",\")]\n",
    "        if x > maxx:\n",
    "            maxx = x\n",
    "        if y > maxy:\n",
    "            maxy = y\n",
    "        coords += [[x,y]]\n",
    "\n",
    "    dot_matrix = []\n",
    "    for y in range(maxy+1):\n",
    "        dot_matrix.append( [\".\"] * (maxx+1))\n",
    "\n",
    "        for xy in coords:\n",
    "            dot_matrix[xy[1]][xy[0]] = \"#\"\n",
    "\n",
    "        for line in dot_matrix:\n",
    "            print(\"\".join(line))\n",
    "\n",
    "    return coords"
   ]
  },
  {
   "cell_type": "code",
   "execution_count": null,
   "metadata": {},
   "outputs": [],
   "source": [
    "print_points( test[\"points\"] )"
   ]
  },
  {
   "cell_type": "code",
   "execution_count": null,
   "metadata": {},
   "outputs": [],
   "source": [
    "after = folderol( test )\n",
    "print_points(after)"
   ]
  },
  {
   "cell_type": "code",
   "execution_count": null,
   "metadata": {},
   "outputs": [],
   "source": [
    "after = folderol( data )\n",
    "print_points(after)"
   ]
  },
  {
   "cell_type": "code",
   "execution_count": null,
   "metadata": {},
   "outputs": [],
   "source": [
    "\"BCZRCEAB\""
   ]
  }
 ],
 "metadata": {
  "kernelspec": {
   "display_name": "Python 3",
   "language": "python",
   "name": "python3"
  },
  "language_info": {
   "codemirror_mode": {
    "name": "ipython",
    "version": 3
   },
   "file_extension": ".py",
   "mimetype": "text/x-python",
   "name": "python",
   "nbconvert_exporter": "python",
   "pygments_lexer": "ipython3",
   "version": "3.11.9"
  },
  "orig_nbformat": 4
 },
 "nbformat": 4,
 "nbformat_minor": 2
}
