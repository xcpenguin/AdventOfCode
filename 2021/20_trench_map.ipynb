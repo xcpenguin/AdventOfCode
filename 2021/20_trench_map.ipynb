{
 "cells": [
  {
   "attachments": {},
   "cell_type": "markdown",
   "metadata": {},
   "source": [
    "# December 20, 2021\n",
    "\n",
    "https://adventofcode.com/2021/day/20"
   ]
  },
  {
   "cell_type": "code",
   "execution_count": 1,
   "metadata": {},
   "outputs": [],
   "source": [
    "import pandas as pd\n",
    "import numpy as np\n",
    "import datetime\n",
    "import re"
   ]
  },
  {
   "cell_type": "code",
   "execution_count": 2,
   "metadata": {},
   "outputs": [],
   "source": [
    "def pnow():\n",
    "    print( datetime.datetime.now().isoformat() )"
   ]
  },
  {
   "cell_type": "code",
   "execution_count": null,
   "metadata": {},
   "outputs": [],
   "source": [
    "def format_data( text ):\n",
    "    lines = text.split(\"\\n\")\n",
    "    for i in range(len(lines)):\n",
    "        lines[i] = re.sub(\"#\", \"1\", lines[i])\n",
    "        lines[i] = re.sub(\"\\.\", \"0\", lines[i])\n",
    "\n",
    "    return {\"decoder\": lines[0], \"image\":lines[2:]}"
   ]
  },
  {
   "cell_type": "code",
   "execution_count": null,
   "metadata": {},
   "outputs": [],
   "source": [
    "with open(\"data/2021/20.txt\", \"r\") as f:\n",
    "    data_str = f.read()\n",
    "data = format_data( data_str )"
   ]
  },
  {
   "cell_type": "code",
   "execution_count": null,
   "metadata": {},
   "outputs": [],
   "source": [
    "test_str = '''..#.#..#####.#.#.#.###.##.....###.##.#..###.####..#####..#....#..#..##..###..######.###...####..#..#####..##..#.#####...##.#.#..#.##..#.#......#.###.######.###.####...#.##.##..#..#..#####.....#.#....###..#.##......#.....#..#..#..##..#...##.######.####.####.#.#...#.......#..#.#.#...####.##.#......#..#...##.#.##..#...##.#.##..###.#......#.#.......#.#.#.####.###.##...#.....####.#..#..#.##.#....##..#.####....##...##..#...#......#.#.......#.......##..####..#...#.#.#...##..#.#..###..#####........#..####......#..#\n",
    "\n",
    "#..#.\\n#....\\n##..#\\n..###'''\n",
    "test = format_data( test_str )\n",
    "test"
   ]
  },
  {
   "cell_type": "markdown",
   "metadata": {},
   "source": [
    "# Part 1"
   ]
  },
  {
   "cell_type": "code",
   "execution_count": null,
   "metadata": {},
   "outputs": [],
   "source": [
    "def binary( x ):\n",
    "    '''convert string of 1s and 0s to decimal number'''\n",
    "    return sum( [int(d) * 2**(len(x)-1-i) for i,d in enumerate(x)] )\n",
    "\n",
    "def pad_image( image, times=1, each=1 )\n",
    "    pad = times*each\n",
    "    wid = len(image[0])\n",
    "    ht = len(image)\n",
    "\n",
    "    def _blank_():\n",
    "        return \"0\"*(pad*2+wid)\n",
    "    \n",
    "    padded_image = []\n",
    "    for i in range(pad):\n",
    "        padded_image.append( _blank_() )\n",
    "    padded_image += [\"0\"*pad + line + \"0\"*pad for line in image ]\n",
    "    for i in range(pad):\n",
    "        padded_image.append( _blank_() )\n",
    "    return padded_image\n",
    "\n",
    "def enhance( image, line, char, decoder ):\n",
    "    section = image[line[-1][char-1:char+2]] + image[line][char-1:char+2] + image[line+1][char-1:char+2]\n",
    "    key = binary(section)\n",
    "    if line in CHECK_LINES:\n",
    "        if char in CHECK_CHAR:\n",
    "            pass#print(line, char, section, key)\n",
    "    return decoder[key]\n",
    "\n",
    "def count_ones( image ):\n",
    "    return sum([ sum([int(c) for c in line]) for line in image] )\n",
    "\n",
    "def print_image( image, to_print=None ):\n",
    "    print(\"\\n\".join( [\"\".join([c for c in line]) for line in image] ))\n",
    "    #print(\"\\n\".join( [\"\".join([c for c in line]) for i,line in enumerate(image) if i in PRINT_LINES] ))\n",
    "\n",
    "def infinity_chart(t, decoder):\n",
    "    if decoder[0] == \"1\":\n",
    "        # case: border turns to 1 and stays there\n",
    "        if decoder[511] == \"1\":\n",
    "            return \"1\" if t > 0 else \"0\"\n",
    "        # case: border alternates between 1 and 0\n",
    "        if decoder[511] == \"0\":\n",
    "            return str(t%2)\n",
    "        \n",
    "    # case: border stays 0\n",
    "    return \"0\"\n",
    "\n",
    "def border_line( ch, wid ):\n",
    "    return ch*wid\n",
    "\n",
    "def convolve(image, decoder, times=1, show_progress=True):\n",
    "    new_image = pad_image( image, times=times+1 )\n",
    "\n",
    "    owid = len(image[0])\n",
    "    oht = lne(image)\n",
    "\n",
    "    # get corners of original image\n",
    "    # coords are line, char\n",
    "    inset = (times+1)\n",
    "\n",
    "    if show_progress:\n",
    "        print_image(new_image)\n",
    "        print(\"\\n\")\n",
    "    else:\n",
    "        pnow()\n",
    "    for t in range(1, times+1):\n",
    "        print(\"iteration\", t)\n",
    "        start = inset-t\n",
    "        end = inset + oht + t - 1\n",
    "        infty = infinity_chart(t, decoder)\n",
    "\n",
    "        # start with blank lines\n",
    "        next_image = []\n",
    "\n",
    "        for i in range(start):\n",
    "            # outside border alternates between 0 and 1 for this puzzle input\n",
    "            next_image.append(border_line(infty, len(new_image[0])))\n",
    "\n",
    "        for i in range(start, end+1):\n",
    "            next_image.append( infty*start + \"\".join( [enhance(new_image, i, j, decoder) for j in range(start, end+1) ] ) + infty*start )\n",
    "\n",
    "        for i in range(start):\n",
    "            # outside border alternates between 0 and 1 for this puzzle input\n",
    "            next_image.append(border_line(infty, len(new_image[0])))\n",
    "\n",
    "        new_image = next_image\n",
    "        if show_progress:\n",
    "            print_image(new_image)\n",
    "            print(\"\\n\")\n",
    "        else:\n",
    "            pnow()\n",
    "\n",
    "    return new_image\n"
   ]
  },
  {
   "cell_type": "code",
   "execution_count": null,
   "metadata": {},
   "outputs": [],
   "source": [
    "out = convolve( test[\"image\"], test[\"decoder\"], 2 )"
   ]
  },
  {
   "cell_type": "code",
   "execution_count": null,
   "metadata": {},
   "outputs": [],
   "source": [
    "count_ones(out)"
   ]
  },
  {
   "cell_type": "code",
   "execution_count": null,
   "metadata": {},
   "outputs": [],
   "source": [
    "# 5363 too high\n",
    "# 5291 too high\n",
    "out = convolve( data[\"image\"], data[\"decoder\"], 2 )\n",
    "count_ones( out )"
   ]
  },
  {
   "cell_type": "markdown",
   "metadata": {},
   "source": [
    "# Part 2"
   ]
  },
  {
   "cell_type": "code",
   "execution_count": null,
   "metadata": {},
   "outputs": [],
   "source": [
    "out = convolve( test[\"image\"], test[\"decoder\"], 50, show_progress = False )"
   ]
  },
  {
   "cell_type": "code",
   "execution_count": null,
   "metadata": {},
   "outputs": [],
   "source": [
    "count_ones( out )"
   ]
  },
  {
   "cell_type": "code",
   "execution_count": null,
   "metadata": {},
   "outputs": [],
   "source": [
    "out = convolve( data[\"image\"], data[\"decoder\"], 50 )"
   ]
  },
  {
   "cell_type": "code",
   "execution_count": null,
   "metadata": {},
   "outputs": [],
   "source": [
    "count_ones(out)"
   ]
  }
 ],
 "metadata": {
  "kernelspec": {
   "display_name": "Python 3",
   "language": "python",
   "name": "python3"
  },
  "language_info": {
   "codemirror_mode": {
    "name": "ipython",
    "version": 3
   },
   "file_extension": ".py",
   "mimetype": "text/x-python",
   "name": "python",
   "nbconvert_exporter": "python",
   "pygments_lexer": "ipython3",
   "version": "3.11.9"
  },
  "orig_nbformat": 4
 },
 "nbformat": 4,
 "nbformat_minor": 2
}
