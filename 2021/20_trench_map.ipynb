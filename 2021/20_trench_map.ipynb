{
 "cells": [
  {
   "attachments": {},
   "cell_type": "markdown",
   "metadata": {},
   "source": [
    "# December 20, 2021\n",
    "\n",
    "https://adventofcode.com/2021/day/20"
   ]
  },
  {
   "cell_type": "code",
   "execution_count": 21,
   "metadata": {},
   "outputs": [],
   "source": [
    "import pandas as pd\n",
    "import numpy as np\n",
    "import datetime\n",
    "import re"
   ]
  },
  {
   "cell_type": "code",
   "execution_count": 22,
   "metadata": {},
   "outputs": [],
   "source": [
    "def pnow():\n",
    "    print( datetime.datetime.now().isoformat() )"
   ]
  },
  {
   "cell_type": "code",
   "execution_count": 23,
   "metadata": {},
   "outputs": [],
   "source": [
    "def format_data( text ):\n",
    "    lines = text.split(\"\\n\")\n",
    "    for i in range(len(lines)):\n",
    "        lines[i] = re.sub(\"#\", \"1\", lines[i])\n",
    "        lines[i] = re.sub(\"\\.\", \"0\", lines[i])\n",
    "\n",
    "    return {\"decoder\": lines[0], \"image\":lines[2:]}"
   ]
  },
  {
   "cell_type": "code",
   "execution_count": 24,
   "metadata": {},
   "outputs": [],
   "source": [
    "with open(\"../data/2021/20.txt\", \"r\") as f:\n",
    "    data_str = f.read()\n",
    "data = format_data( data_str )"
   ]
  },
  {
   "cell_type": "code",
   "execution_count": 70,
   "metadata": {},
   "outputs": [
    {
     "data": {
      "text/plain": [
       "{'decoder': '00101001111101010101110110000011101101001110111100111110010000100100110011100111111011100011110010011111001100101111100011010100101100101000000101110111111011101111000101101100100100111110000010100001110010110000001000001001001001100100011011111101111011110101000100000001001010100011110110100000010010001101011001000110101100111010000001010000000101010111101110110001000001111010010010110100001100101111000011000110010001000000101000000010000000110011110010001010100011001010011100111110000000010011110000001001',\n",
       " 'image': ['10010', '10000', '11001', '00100', '00111']}"
      ]
     },
     "execution_count": 70,
     "metadata": {},
     "output_type": "execute_result"
    }
   ],
   "source": [
    "test_str = '''..#.#..#####.#.#.#.###.##.....###.##.#..###.####..#####..#....#..#..##..###..######.###...####..#..#####..##..#.#####...##.#.#..#.##..#.#......#.###.######.###.####...#.##.##..#..#..#####.....#.#....###..#.##......#.....#..#..#..##..#...##.######.####.####.#.#...#.......#..#.#.#...####.##.#......#..#...##.#.##..#...##.#.##..###.#......#.#.......#.#.#.####.###.##...#.....####.#..#..#.##.#....##..#.####....##...##..#...#......#.#.......#.......##..####..#...#.#.#...##..#.#..###..#####........#..####......#..#\n",
    "\n",
    "#..#.\\n#....\\n##..#\\n..#..\\n..###'''\n",
    "test = format_data( test_str )\n",
    "test"
   ]
  },
  {
   "cell_type": "markdown",
   "metadata": {},
   "source": [
    "# Part 1"
   ]
  },
  {
   "cell_type": "code",
   "execution_count": 81,
   "metadata": {},
   "outputs": [],
   "source": [
    "def binary( x ):\n",
    "    '''convert string of 1s and 0s to decimal number'''\n",
    "    return sum( [int(d) * 2**(len(x)-1-i) for i,d in enumerate(x)] )\n",
    "\n",
    "def pad_image( image, times=1 ):\n",
    "    # Add a border of 0s around the image\n",
    "    # times = number of times to add consecutive border\n",
    "    \n",
    "    wid = len(image[0])\n",
    "\n",
    "    def _blank_():\n",
    "        # a blank line with additional padding on left and right\n",
    "        return \"0\"*(times*2+wid)\n",
    "    \n",
    "    padded_image = []\n",
    "    for i in range(times):\n",
    "        padded_image.append( _blank_() )\n",
    "    padded_image += [\"0\"*times + line + \"0\"*times for line in image ]\n",
    "    for i in range(times):\n",
    "        padded_image.append( _blank_() )\n",
    "    return padded_image\n",
    "\n",
    "def enhance( image, line, char, decoder ):\n",
    "    section = image[line-1][char-1:char+2] + image[line][char-1:char+2] + image[line+1][char-1:char+2]\n",
    "    key = binary(section)\n",
    "    return decoder[key]\n",
    "\n",
    "def count_ones( image ):\n",
    "    return sum([ sum([int(c) for c in line]) for line in image] )\n",
    "\n",
    "def print_image( image, to_print=None ):\n",
    "    print(\"\\n\".join( [\"\".join([c for c in line]) for line in image] ))\n",
    "\n",
    "def infinity_chart(t, decoder):\n",
    "    # determine state of pixels in the \"infinite\" border, which are far away from the image itself.\n",
    "    if decoder[0] == \"1\":\n",
    "        # case: border turns to 1 and stays there\n",
    "        if decoder[511] == \"1\":\n",
    "            return \"1\" if t > 0 else \"0\"\n",
    "        # case: border alternates between 1 and 0\n",
    "        if decoder[511] == \"0\":\n",
    "            return str(t%2)\n",
    "        \n",
    "    # case: border stays 0\n",
    "    return \"0\"\n",
    "\n",
    "def border_line( ch, wid ):\n",
    "    return ch*wid\n",
    "\n",
    "def convolve(image, decoder, times=1, show_progress=True):\n",
    "    new_image = pad_image( image, times=times+1 )\n",
    "\n",
    "    oht = len(image)\n",
    "\n",
    "    # get corners of original image\n",
    "    # coords are line, char\n",
    "    inset = (times+1)\n",
    "\n",
    "    if show_progress:\n",
    "        print_image(new_image)\n",
    "        print(\"\\n\")\n",
    "    else:\n",
    "        pnow()\n",
    "\n",
    "    for t in range(1, times+1):\n",
    "        print(\"iteration\", t)\n",
    "        \n",
    "        start = inset-t   # calculations start on this row and this column (0-indexed)\n",
    "        end = inset + oht + t - 1 # calculations end on this row and this column (0-indexed)\n",
    "        infty = infinity_chart(t, decoder)\n",
    "\n",
    "        # start with blank lines\n",
    "        next_image = []\n",
    "\n",
    "        for i in range(start):\n",
    "            # outside border alternates between 0 and 1 for this puzzle input\n",
    "            next_image.append(border_line(infty, len(new_image[0])))\n",
    "\n",
    "        for i in range(start, end+1):\n",
    "            next_image.append( infty*start + \"\".join( [enhance(new_image, i, j, decoder) for j in range(start, end+1) ] ) + infty*start )\n",
    "\n",
    "        for i in range(start):\n",
    "            # outside border alternates between 0 and 1 for this puzzle input\n",
    "            next_image.append(border_line(infty, len(new_image[0])))\n",
    "\n",
    "        new_image = next_image\n",
    "        if show_progress:\n",
    "            print_image(new_image)\n",
    "            print(\"\\n\")\n",
    "        else:\n",
    "            pnow()\n",
    "\n",
    "    return new_image\n"
   ]
  },
  {
   "cell_type": "code",
   "execution_count": 82,
   "metadata": {},
   "outputs": [
    {
     "name": "stdout",
     "output_type": "stream",
     "text": [
      "00000000000\n",
      "00000000000\n",
      "00000000000\n",
      "00010010000\n",
      "00010000000\n",
      "00011001000\n",
      "00000100000\n",
      "00000111000\n",
      "00000000000\n",
      "00000000000\n",
      "00000000000\n",
      "\n",
      "\n",
      "iteration 1\n",
      "00000000000\n",
      "00000000000\n",
      "00011011000\n",
      "00100101000\n",
      "00110100100\n",
      "00111100100\n",
      "00010011000\n",
      "00001100100\n",
      "00000101000\n",
      "00000000000\n",
      "00000000000\n",
      "\n",
      "\n",
      "iteration 2\n",
      "00000000000\n",
      "00000000100\n",
      "00100101000\n",
      "01010001110\n",
      "01000110100\n",
      "01000001010\n",
      "00101111100\n",
      "00010111110\n",
      "00001101100\n",
      "00000111000\n",
      "00000000000\n",
      "\n",
      "\n"
     ]
    }
   ],
   "source": [
    "out = convolve( test[\"image\"], test[\"decoder\"],2 )"
   ]
  },
  {
   "cell_type": "code",
   "execution_count": 83,
   "metadata": {},
   "outputs": [
    {
     "data": {
      "text/plain": [
       "35"
      ]
     },
     "execution_count": 83,
     "metadata": {},
     "output_type": "execute_result"
    }
   ],
   "source": [
    "count_ones(out)"
   ]
  },
  {
   "cell_type": "code",
   "execution_count": 84,
   "metadata": {},
   "outputs": [
    {
     "name": "stdout",
     "output_type": "stream",
     "text": [
      "2025-04-02T21:10:23.977831\n",
      "iteration 1\n",
      "2025-04-02T21:10:23.995720\n",
      "iteration 2\n",
      "2025-04-02T21:10:24.014422\n"
     ]
    },
    {
     "data": {
      "text/plain": [
       "5275"
      ]
     },
     "execution_count": 84,
     "metadata": {},
     "output_type": "execute_result"
    }
   ],
   "source": [
    "# 5363 too high\n",
    "# 5291 too high\n",
    "out = convolve( data[\"image\"], data[\"decoder\"], 2, show_progress=False )\n",
    "count_ones( out )"
   ]
  },
  {
   "cell_type": "markdown",
   "metadata": {},
   "source": [
    "# Part 2"
   ]
  },
  {
   "cell_type": "code",
   "execution_count": 85,
   "metadata": {},
   "outputs": [
    {
     "name": "stdout",
     "output_type": "stream",
     "text": [
      "2025-04-02T21:10:32.541209\n",
      "iteration 1\n",
      "2025-04-02T21:10:32.541209\n",
      "iteration 2\n",
      "2025-04-02T21:10:32.541209\n",
      "iteration 3\n",
      "2025-04-02T21:10:32.542206\n",
      "iteration 4\n",
      "2025-04-02T21:10:32.542206\n",
      "iteration 5\n",
      "2025-04-02T21:10:32.542206\n",
      "iteration 6\n",
      "2025-04-02T21:10:32.543260\n",
      "iteration 7\n",
      "2025-04-02T21:10:32.544280\n",
      "iteration 8\n",
      "2025-04-02T21:10:32.544280\n",
      "iteration 9\n",
      "2025-04-02T21:10:32.545344\n",
      "iteration 10\n",
      "2025-04-02T21:10:32.546345\n",
      "iteration 11\n",
      "2025-04-02T21:10:32.548343\n",
      "iteration 12\n",
      "2025-04-02T21:10:32.549342\n",
      "iteration 13\n",
      "2025-04-02T21:10:32.551436\n",
      "iteration 14\n",
      "2025-04-02T21:10:32.553431\n",
      "iteration 15\n",
      "2025-04-02T21:10:32.555425\n",
      "iteration 16\n",
      "2025-04-02T21:10:32.558414\n",
      "iteration 17\n",
      "2025-04-02T21:10:32.560714\n",
      "iteration 18\n",
      "2025-04-02T21:10:32.564184\n",
      "iteration 19\n",
      "2025-04-02T21:10:32.566973\n",
      "iteration 20\n",
      "2025-04-02T21:10:32.571040\n",
      "iteration 21\n",
      "2025-04-02T21:10:32.575638\n",
      "iteration 22\n",
      "2025-04-02T21:10:32.579668\n",
      "iteration 23\n",
      "2025-04-02T21:10:32.583663\n",
      "iteration 24\n",
      "2025-04-02T21:10:32.588703\n",
      "iteration 25\n",
      "2025-04-02T21:10:32.592944\n",
      "iteration 26\n",
      "2025-04-02T21:10:32.598680\n",
      "iteration 27\n",
      "2025-04-02T21:10:32.605429\n",
      "iteration 28\n",
      "2025-04-02T21:10:32.611010\n",
      "iteration 29\n",
      "2025-04-02T21:10:32.618005\n",
      "iteration 30\n",
      "2025-04-02T21:10:32.625161\n",
      "iteration 31\n",
      "2025-04-02T21:10:32.633087\n",
      "iteration 32\n",
      "2025-04-02T21:10:32.640533\n",
      "iteration 33\n",
      "2025-04-02T21:10:32.649050\n",
      "iteration 34\n",
      "2025-04-02T21:10:32.658351\n",
      "iteration 35\n",
      "2025-04-02T21:10:32.667422\n",
      "iteration 36\n",
      "2025-04-02T21:10:32.678127\n",
      "iteration 37\n",
      "2025-04-02T21:10:32.687731\n",
      "iteration 38\n",
      "2025-04-02T21:10:32.699475\n",
      "iteration 39\n",
      "2025-04-02T21:10:32.709847\n",
      "iteration 40\n",
      "2025-04-02T21:10:32.721516\n",
      "iteration 41\n",
      "2025-04-02T21:10:32.734247\n",
      "iteration 42\n",
      "2025-04-02T21:10:32.746876\n",
      "iteration 43\n",
      "2025-04-02T21:10:32.761001\n",
      "iteration 44\n",
      "2025-04-02T21:10:32.775555\n",
      "iteration 45\n",
      "2025-04-02T21:10:32.791279\n",
      "iteration 46\n",
      "2025-04-02T21:10:32.808007\n",
      "iteration 47\n",
      "2025-04-02T21:10:32.824919\n",
      "iteration 48\n",
      "2025-04-02T21:10:32.842399\n",
      "iteration 49\n",
      "2025-04-02T21:10:32.859300\n",
      "iteration 50\n",
      "2025-04-02T21:10:32.877776\n"
     ]
    }
   ],
   "source": [
    "out = convolve( test[\"image\"], test[\"decoder\"], 50, show_progress = False )"
   ]
  },
  {
   "cell_type": "code",
   "execution_count": 86,
   "metadata": {},
   "outputs": [
    {
     "data": {
      "text/plain": [
       "3351"
      ]
     },
     "execution_count": 86,
     "metadata": {},
     "output_type": "execute_result"
    }
   ],
   "source": [
    "count_ones( out )"
   ]
  },
  {
   "cell_type": "code",
   "execution_count": 87,
   "metadata": {},
   "outputs": [
    {
     "name": "stdout",
     "output_type": "stream",
     "text": [
      "2025-04-02T21:10:47.422232\n",
      "iteration 1\n",
      "2025-04-02T21:10:47.442501\n",
      "iteration 2\n",
      "2025-04-02T21:10:47.473727\n",
      "iteration 3\n",
      "2025-04-02T21:10:47.497155\n",
      "iteration 4\n",
      "2025-04-02T21:10:47.518085\n",
      "iteration 5\n",
      "2025-04-02T21:10:47.538019\n",
      "iteration 6\n",
      "2025-04-02T21:10:47.559952\n",
      "iteration 7\n",
      "2025-04-02T21:10:47.580957\n",
      "iteration 8\n",
      "2025-04-02T21:10:47.602968\n",
      "iteration 9\n",
      "2025-04-02T21:10:47.625807\n",
      "iteration 10\n",
      "2025-04-02T21:10:47.650323\n",
      "iteration 11\n",
      "2025-04-02T21:10:47.675808\n",
      "iteration 12\n",
      "2025-04-02T21:10:47.700116\n",
      "iteration 13\n",
      "2025-04-02T21:10:47.726888\n",
      "iteration 14\n",
      "2025-04-02T21:10:47.755638\n",
      "iteration 15\n",
      "2025-04-02T21:10:47.784250\n",
      "iteration 16\n",
      "2025-04-02T21:10:47.815661\n",
      "iteration 17\n",
      "2025-04-02T21:10:47.844674\n",
      "iteration 18\n",
      "2025-04-02T21:10:47.875492\n",
      "iteration 19\n",
      "2025-04-02T21:10:47.906531\n",
      "iteration 20\n",
      "2025-04-02T21:10:47.941082\n",
      "iteration 21\n",
      "2025-04-02T21:10:47.974882\n",
      "iteration 22\n",
      "2025-04-02T21:10:48.012231\n",
      "iteration 23\n",
      "2025-04-02T21:10:48.048295\n",
      "iteration 24\n",
      "2025-04-02T21:10:48.085703\n",
      "iteration 25\n",
      "2025-04-02T21:10:48.122839\n",
      "iteration 26\n",
      "2025-04-02T21:10:48.162500\n",
      "iteration 27\n",
      "2025-04-02T21:10:48.200947\n",
      "iteration 28\n",
      "2025-04-02T21:10:48.242204\n",
      "iteration 29\n",
      "2025-04-02T21:10:48.284471\n",
      "iteration 30\n",
      "2025-04-02T21:10:48.328376\n",
      "iteration 31\n",
      "2025-04-02T21:10:48.371902\n",
      "iteration 32\n",
      "2025-04-02T21:10:48.417164\n",
      "iteration 33\n",
      "2025-04-02T21:10:48.466139\n",
      "iteration 34\n",
      "2025-04-02T21:10:48.515199\n",
      "iteration 35\n",
      "2025-04-02T21:10:48.563953\n",
      "iteration 36\n",
      "2025-04-02T21:10:48.615486\n",
      "iteration 37\n",
      "2025-04-02T21:10:48.667476\n",
      "iteration 38\n",
      "2025-04-02T21:10:48.721313\n",
      "iteration 39\n",
      "2025-04-02T21:10:48.777671\n",
      "iteration 40\n",
      "2025-04-02T21:10:48.832921\n",
      "iteration 41\n",
      "2025-04-02T21:10:48.889084\n",
      "iteration 42\n",
      "2025-04-02T21:10:48.947723\n",
      "iteration 43\n",
      "2025-04-02T21:10:49.007097\n",
      "iteration 44\n",
      "2025-04-02T21:10:49.067992\n",
      "iteration 45\n",
      "2025-04-02T21:10:49.130820\n",
      "iteration 46\n",
      "2025-04-02T21:10:49.193416\n",
      "iteration 47\n",
      "2025-04-02T21:10:49.257981\n",
      "iteration 48\n",
      "2025-04-02T21:10:49.324271\n",
      "iteration 49\n",
      "2025-04-02T21:10:49.389188\n",
      "iteration 50\n",
      "2025-04-02T21:10:49.456844\n"
     ]
    }
   ],
   "source": [
    "out = convolve( data[\"image\"], data[\"decoder\"], 50, show_progress=False )"
   ]
  },
  {
   "cell_type": "code",
   "execution_count": 88,
   "metadata": {},
   "outputs": [
    {
     "data": {
      "text/plain": [
       "16482"
      ]
     },
     "execution_count": 88,
     "metadata": {},
     "output_type": "execute_result"
    }
   ],
   "source": [
    "count_ones(out)"
   ]
  }
 ],
 "metadata": {
  "kernelspec": {
   "display_name": "Python 3",
   "language": "python",
   "name": "python3"
  },
  "language_info": {
   "codemirror_mode": {
    "name": "ipython",
    "version": 3
   },
   "file_extension": ".py",
   "mimetype": "text/x-python",
   "name": "python",
   "nbconvert_exporter": "python",
   "pygments_lexer": "ipython3",
   "version": "3.11.9"
  },
  "orig_nbformat": 4
 },
 "nbformat": 4,
 "nbformat_minor": 2
}
