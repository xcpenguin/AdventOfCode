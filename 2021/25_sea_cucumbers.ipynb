{
 "cells": [
  {
   "attachments": {},
   "cell_type": "markdown",
   "metadata": {},
   "source": [
    "# December 25, 2021\n",
    "\n",
    "https://adventofcode.com/2021/day/25"
   ]
  },
  {
   "cell_type": "code",
   "execution_count": 1,
   "metadata": {},
   "outputs": [],
   "source": [
    "import pandas as pd\n",
    "import numpy as np\n",
    "import datetime"
   ]
  },
  {
   "cell_type": "code",
   "execution_count": 2,
   "metadata": {},
   "outputs": [],
   "source": [
    "def pnow():\n",
    "    print( datetime.datetime.now().isoformat() )"
   ]
  },
  {
   "cell_type": "code",
   "execution_count": 24,
   "metadata": {},
   "outputs": [],
   "source": [
    "def format_data( text ):\n",
    "    return [ [x for x in line] for line in text.split(\"\\n\")]"
   ]
  },
  {
   "cell_type": "code",
   "execution_count": null,
   "metadata": {},
   "outputs": [],
   "source": [
    "with open(\"data/2021/25.txt\", \"r\") as f:\n",
    "    data_str = f.read()"
   ]
  },
  {
   "cell_type": "code",
   "execution_count": null,
   "metadata": {},
   "outputs": [],
   "source": [
    "# grab tests from web\n",
    "unit_tests = [\n",
    "    # from web\n",
    "]\n",
    "\n",
    "test_str = \"\""
   ]
  },
  {
   "cell_type": "code",
   "execution_count": null,
   "metadata": {},
   "outputs": [],
   "source": [
    "format_data(test_str)"
   ]
  },
  {
   "cell_type": "markdown",
   "metadata": {},
   "source": [
    "# Part 1"
   ]
  },
  {
   "cell_type": "code",
   "execution_count": 40,
   "metadata": {},
   "outputs": [],
   "source": [
    "def dep_copy( data ):\n",
    "    return [ [ x for x in line] for line in data ]\n",
    "\n",
    "def horizontal_move( data ):\n",
    "    # return value\n",
    "    moved = False\n",
    "\n",
    "    nc = len(data[0])\n",
    "    nr = len(data)\n",
    "\n",
    "    # Python doesn't let you alter a for loop index inside the loop without a workaround\n",
    "    i = 0\n",
    "    while i < nr:\n",
    "        j = 0\n",
    "        # keep track of the old data because of simultaneous movement\n",
    "        # most are fine because we proceed left to right\n",
    "        # but the wrap around character needs to be saved\n",
    "        first_char = data[i][0]\n",
    "\n",
    "        while j < nc:\n",
    "            if data[i][j] == \">\":\n",
    "                if j < nc - 1:\n",
    "                    # check if next spot is open\n",
    "                    if data[i][j+1] == \".\":\n",
    "                        data[i][j] = \".\"\n",
    "                        data[i][j+1] = \">\"\n",
    "                        j += 2 # iterate twice because we know how next spot went down\n",
    "                        moved = True # set return value to indicate a move happened\n",
    "                    else:\n",
    "                        j += 1\n",
    "                    # check wraparound case\n",
    "                elif first_char == \".\":\n",
    "                    data[i][j] = \".\"\n",
    "                    data[i][0] = \">\"\n",
    "                    j += 2\n",
    "                    moved = True\n",
    "                else:\n",
    "                    j += 1\n",
    "            else:\n",
    "                # no movement happens\n",
    "                j += 1\n",
    "        i += 1\n",
    "\n",
    "    return moved, data\n",
    "\n",
    "def vertical_move( data ):\n",
    "    # return value\n",
    "    moved = False\n",
    "\n",
    "    nc = len(data[0])\n",
    "    nr = len(data)\n",
    "    # We'll make new list because we need to keep track of old position due to simultaneous move\n",
    "    # we can do something slicker by tracking the\n",
    "\n",
    "    # Python doesn't let you alter a for loop index inside the loop without a workaround\n",
    "    j = 0\n",
    "    while j < nc:\n",
    "        i = 0\n",
    "        # keep track of the old data because of simultaneous movement\n",
    "        # most are fine because we proceed left to right\n",
    "        # but the wrap around character needs to be saved\n",
    "        first_char = data[i][0]\n",
    "        while i < nr:\n",
    "            if data[i][j] == \"v\":\n",
    "                if i < nr - 1:\n",
    "                    # check if next spot is open\n",
    "                    if data[i+1][j] == \".\":\n",
    "                        data[i][j] = \".\"\n",
    "                        data[i][j+1] = \"v\"\n",
    "                        i += 2 # iterate twice because we know how the next spot went down\n",
    "                        moved = True\n",
    "                    else:\n",
    "                        i += 1\n",
    "                # check wraparound case\n",
    "                elif first_chat == \".\":\n",
    "                    data[i][j] = \".\"\n",
    "                    data[0][j] = \"v\"\n",
    "                    i += 2\n",
    "                    moved = True\n",
    "                else:\n",
    "                    i += 1\n",
    "            else:\n",
    "                i += 1\n",
    "        else:\n",
    "            # no movement happens\n",
    "            i += 1\n",
    "        j += 1\n",
    "\n",
    "        return moved, data"
   ]
  },
  {
   "cell_type": "code",
   "execution_count": null,
   "metadata": {},
   "outputs": [],
   "source": [
    "def part1( text ):\n",
    "    data = format_data( text )\n",
    "    move_counter = 0\n",
    "    while True: # python style Repeat-Until loop. lolololol\n",
    "        move_counter += 1\n",
    "        if move_counter % 100 == 0:\n",
    "            print(\"Moves so far:\", move_counter)\n",
    "            hflag, data = horizontal_move( data )\n",
    "            vflag, data = vertical_move( data )\n",
    "            if not (hflag or vflag ):\n",
    "                break\n",
    "    return move_counter, data"
   ]
  },
  {
   "cell_type": "code",
   "execution_count": null,
   "metadata": {},
   "outputs": [],
   "source": [
    "ans, final = part1( test_str )"
   ]
  },
  {
   "cell_type": "code",
   "execution_count": null,
   "metadata": {},
   "outputs": [],
   "source": [
    "ans"
   ]
  },
  {
   "cell_type": "code",
   "execution_count": null,
   "metadata": {},
   "outputs": [],
   "source": [
    "ans, final = part1( data_str )"
   ]
  }
 ],
 "metadata": {
  "kernelspec": {
   "display_name": "Python 3",
   "language": "python",
   "name": "python3"
  },
  "language_info": {
   "codemirror_mode": {
    "name": "ipython",
    "version": 3
   },
   "file_extension": ".py",
   "mimetype": "text/x-python",
   "name": "python",
   "nbconvert_exporter": "python",
   "pygments_lexer": "ipython3",
   "version": "3.11.9"
  },
  "orig_nbformat": 4
 },
 "nbformat": 4,
 "nbformat_minor": 2
}
