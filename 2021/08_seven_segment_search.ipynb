{
 "cells": [
  {
   "attachments": {},
   "cell_type": "markdown",
   "metadata": {},
   "source": [
    "# December 08, 2021\n",
    "\n",
    "https://adventofcode.com/2021/day/8"
   ]
  },
  {
   "cell_type": "code",
   "execution_count": 1,
   "metadata": {},
   "outputs": [],
   "source": [
    "import pandas as pd\n",
    "import numpy as np"
   ]
  },
  {
   "cell_type": "code",
   "execution_count": 2,
   "metadata": {},
   "outputs": [],
   "source": [
    "notes = []\n",
    "output = []\n",
    "with open(\"../data/2021/08.txt\", \"r\") as f:\n",
    "    data = f.read()\n",
    "\n",
    "lines = data.split(\"\\n\")\n",
    "\n",
    "for line in lines:\n",
    "    sep = line.split(\" | \")\n",
    "    notes += [sep[0].split(\" \")]\n",
    "    output += [sep[1].split(\" \")]"
   ]
  },
  {
   "cell_type": "markdown",
   "metadata": {},
   "source": [
    "# Part 1 and 2\n",
    "Part 1: count 1s, 4s, 7s, 8s\n",
    "Part 2: add the values"
   ]
  },
  {
   "cell_type": "code",
   "execution_count": 3,
   "metadata": {},
   "outputs": [],
   "source": [
    "def canonical_form( note ):\n",
    "    '''ensure note has a cononical dorm since bca and cab are treated the same'''\n",
    "    return set(note)\n",
    "\n",
    "def decode_notes( notes ):\n",
    "    # this will hold the cods for digits 0-9\n",
    "    codes = [\"\"]*10\n",
    "\n",
    "    # Convert to sets because the same set of segments may have two different orders\n",
    "    # e.g. abcd and bcda could both be in the input\n",
    "    sn = [canonical_form(note) for note in notes]\n",
    "\n",
    "    # For notes of len 5 or 6, there are multiple possibilities\n",
    "    # We will resolve on a second pass\n",
    "    sixes = []\n",
    "    fives = []\n",
    "\n",
    "    for s in sn:\n",
    "        # 1,7,4,8 are digits with unique note lengths\n",
    "        if len(s) == 2:\n",
    "            codes[1] = s\n",
    "        elif len(s) == 3:\n",
    "            codes[7] = s\n",
    "        elif len(s) == 4:\n",
    "            codes[4] = s\n",
    "        elif len(s) == 7:\n",
    "            codes[8] = s\n",
    "        # other digits to be resolved later\n",
    "        elif len(s) == 6:\n",
    "            sixes += [s]\n",
    "        elif len(s) == 5:\n",
    "            fives += [s]\n",
    "        else:\n",
    "            raise \"Impossible Digit String\"\n",
    "        \n",
    "    for s in sixes:\n",
    "        # 9 is only len-6 digit that contains 4's signals\n",
    "        if s.issuperset(codes[4]):\n",
    "            codes[9] = s\n",
    "        # 0 contains 7 but not 4\n",
    "        elif s.issuperset(codes[7]):\n",
    "            codes[0] = s\n",
    "        # 6 is the only length-6 note containing neither 4 nor 7\n",
    "        else:\n",
    "            codes [6] = s\n",
    "\n",
    "    for s in fives:\n",
    "        # 3 is only len-5 digit containing 1's signals\n",
    "        if s.issuperset(codes[1]):\n",
    "            codes[3] = s\n",
    "        else:\n",
    "            # otherwise 2 shares 2 signals with 4 and 5 shares 3 signals.\n",
    "            isect = s.intersection(codes[4])\n",
    "            if len(isect) == 2:\n",
    "                codes[2] = s\n",
    "            else:\n",
    "                codes[5] = s\n",
    "\n",
    "    return codes\n",
    "\n",
    "def decode_digit( codes, digit ):\n",
    "    for d, code in enumerate(codes):\n",
    "        if code == digit:\n",
    "            return d\n",
    "        \n",
    "    raise Exception(\"Digit not Found in Codes\")\n",
    "\n",
    "def decode_output( notes, output ):\n",
    "    codes = decode_notes(notes)\n",
    "\n",
    "    sets = [set(x) for x in output]\n",
    "\n",
    "    values = [None] * len(sets)\n",
    "    for pos, digit in enumerate(sets):\n",
    "        values[pos] = decode_digit(codes, digit)\n",
    "\n",
    "    return values\n",
    "\n",
    "def count_1478( values ):\n",
    "    return len( [x for x in values if x in [1,4,7,8]] )\n",
    "\n",
    "def numberize( values ):\n",
    "    return int( \"\".join([str(v) for v in values]) )\n",
    "    \n",
    "\n",
    "\n",
    "    "
   ]
  },
  {
   "cell_type": "code",
   "execution_count": 4,
   "metadata": {},
   "outputs": [
    {
     "data": {
      "text/plain": [
       "[{'a', 'b', 'd', 'e', 'f', 'g'},\n",
       " {'b', 'e'},\n",
       " {'a', 'b', 'c', 'd', 'f'},\n",
       " {'b', 'c', 'd', 'e', 'f'},\n",
       " {'b', 'c', 'e', 'g'},\n",
       " {'c', 'd', 'e', 'f', 'g'},\n",
       " {'a', 'c', 'd', 'e', 'f', 'g'},\n",
       " {'b', 'd', 'e'},\n",
       " {'a', 'b', 'c', 'd', 'e', 'f', 'g'},\n",
       " {'b', 'c', 'd', 'e', 'f', 'g'}]"
      ]
     },
     "execution_count": 4,
     "metadata": {},
     "output_type": "execute_result"
    }
   ],
   "source": [
    "test0 = [\"be\", \"cfbegad\", \"cbdgef\", \"fgaecd\", \"cgeb\", \"fdcge\", \"agebfd\", \"fecdb\", \"fabcd\", \"edb\"]\n",
    "decode_notes(test0)"
   ]
  },
  {
   "cell_type": "code",
   "execution_count": 5,
   "metadata": {},
   "outputs": [
    {
     "name": "stdout",
     "output_type": "stream",
     "text": [
      "Part 1: 239\n",
      "Part 2: 946346\n"
     ]
    }
   ],
   "source": [
    "count = 0\n",
    "total = 0\n",
    "for note, out in zip(notes, output):\n",
    "    values = decode_output( note, out )\n",
    "    count += count_1478(values)\n",
    "    total += numberize(values)\n",
    "    #print(count)\n",
    "    #print(total)\n",
    "\n",
    "print(\"Part 1:\", count)\n",
    "print(\"Part 2:\", total)"
   ]
  }
 ],
 "metadata": {
  "kernelspec": {
   "display_name": "Python 3",
   "language": "python",
   "name": "python3"
  },
  "language_info": {
   "codemirror_mode": {
    "name": "ipython",
    "version": 3
   },
   "file_extension": ".py",
   "mimetype": "text/x-python",
   "name": "python",
   "nbconvert_exporter": "python",
   "pygments_lexer": "ipython3",
   "version": "3.11.9"
  },
  "orig_nbformat": 4
 },
 "nbformat": 4,
 "nbformat_minor": 2
}
