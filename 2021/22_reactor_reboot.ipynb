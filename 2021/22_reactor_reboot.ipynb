{
 "cells": [
  {
   "attachments": {},
   "cell_type": "markdown",
   "metadata": {},
   "source": [
    "# December 22, 2021\n",
    "\n",
    "https://adventofcode.com/2021/day/22"
   ]
  },
  {
   "cell_type": "code",
   "execution_count": 1,
   "metadata": {},
   "outputs": [],
   "source": [
    "import pandas as pd\n",
    "import numpy as np\n",
    "from collections import defaultdict\n",
    "import datetime\n",
    "import re"
   ]
  },
  {
   "cell_type": "code",
   "execution_count": 2,
   "metadata": {},
   "outputs": [],
   "source": [
    "def pnow():\n",
    "    print( datetime.datetime.now().isoformat() )"
   ]
  },
  {
   "cell_type": "code",
   "execution_count": 3,
   "metadata": {},
   "outputs": [],
   "source": [
    "with open(\"../data/2021/22.txt\", \"r\") as f:\n",
    "    data = f.read()"
   ]
  },
  {
   "cell_type": "code",
   "execution_count": 4,
   "metadata": {},
   "outputs": [],
   "source": [
    "mini = f'''on x=10..12,y=10..12,z=10..12\n",
    "on x=11..13,y=11..13,z=11..13\n",
    "off x=9..11,y=9..11,z=9..11\n",
    "on x=10..10,y=10..10,z=10..10'''"
   ]
  },
  {
   "cell_type": "code",
   "execution_count": 5,
   "metadata": {},
   "outputs": [],
   "source": [
    "test = f'''on x=-20..26,y=-36..17,z=-47..7\n",
    "on x=-20..33,y=-21..23,z=-26..28\n",
    "on x=-22..28,y=-29..23,z=-38..16\n",
    "on x=-46..7,y=-6..46,z=-50..-1\n",
    "on x=-49..1,y=-3..46,z=-24..28\n",
    "on x=2..47,y=-22..22,z=-23..27\n",
    "on x=-27..23,y=-28..26,z=-21..29\n",
    "on x=-39..5,y=-6..47,z=-3..44\n",
    "on x=-30..21,y=-8..43,z=-13..34\n",
    "on x=-22..26,y=-27..20,z=-29..19\n",
    "off x=-48..-32,y=26..41,z=-47..-37\n",
    "on x=-12..35,y=6..50,z=-50..-2\n",
    "off x=-48..-32,y=-32..-16,z=-15..-5\n",
    "on x=-18..26,y=-33..15,z=-7..46\n",
    "off x=-40..-22,y=-38..-28,z=23..41\n",
    "on x=-16..35,y=-41..10,z=-47..6\n",
    "off x=-32..-23,y=11..30,z=-14..3\n",
    "on x=-49..-5,y=-3..45,z=-29..18\n",
    "off x=18..30,y=-20..-8,z=-3..13\n",
    "on x=-41..9,y=-7..43,z=-33..15\n",
    "on x=-54112..-39298,y=-85059..-49293,z=-27449..7877\n",
    "on x=967..23432,y=45373..81175,z=27513..53682'''"
   ]
  },
  {
   "cell_type": "markdown",
   "metadata": {},
   "source": [
    "# Part 1"
   ]
  },
  {
   "cell_type": "code",
   "execution_count": 6,
   "metadata": {},
   "outputs": [],
   "source": [
    "class Cuboid():\n",
    "    # ranges in ?lim are inclusive\n",
    "\n",
    "    def __init__( self, xlim, ylim, zlim, switch ):\n",
    "        self.xlim = xlim\n",
    "        self.ylim = ylim\n",
    "        self.zlim = zlim\n",
    "        self.switch = switch\n",
    "\n",
    "    def size( self ):\n",
    "        return (self.xlim[1] - self.xlim[0] + 1) * (self.ylim[1] - self.ylim[0] + 1) * (self.zlim[1] - self.zlim[0] + 1)\n",
    "    \n",
    "    def intersect( self, other ):\n",
    "        xlim = [ max(self.xlim[0], other.xlim[0]), min(self.xlim[1], other.xlim[1]) ]\n",
    "        ylim = [ max(self.ylim[0], other.ylim[0]), min(self.ylim[1], other.ylim[1]) ]\n",
    "        zlim = [ max(self.zlim[0], other.zlim[0]), min(self.zlim[1], other.zlim[1]) ]\n",
    "\n",
    "        # edge case: empty intersection\n",
    "        if xlim[0] > xlim[1] or ylim[0] > ylim[1] or zlim[0] > zlim[1]:\n",
    "            return None\n",
    "        \n",
    "        return Cuboid( xlim, ylim, zlim, self.switch )\n",
    "    \n",
    "    def __str__(self):\n",
    "        return self.switch + \" x=\" + str(self.xlim[0]) + \"..\" + str(self.xlim[1]) + \",y=\" + str(self.ylim[0]) + \"..\" + str(self.ylim[1]) + \",z\" + str(self.zlim[0]) + \"..\" + str(self.zlim[1])\n",
    "    \n",
    "    def __repr__(self):\n",
    "        return str(self)\n",
    "    \n",
    "    def remove_intersection( self, isct ):\n",
    "\n",
    "        # edge case: empty intersection\n",
    "        if isct is None:\n",
    "            return self # I think shallow copy suffices\n",
    "        \n",
    "        # Return up to 6 disjoint cuboids for the volumes outside the intersection\n",
    "        volumes = []\n",
    "\n",
    "        if isct.xlim == self.xlim and isct.ylim == self.ylim and isct.zlim == self.zlim:\n",
    "            return volumes\n",
    "        \n",
    "        # 1. Top\n",
    "        if isct.zlim[1] < self.zlim[1]:\n",
    "            volumes.append( Cuboid( self.xlim, self.ylim, [isct.zlim[1]+1, self.zlim[1]], self.switch ) )\n",
    "\n",
    "        # 2. Bottom\n",
    "        if isct.zlim[0] > self.zlim[0]:\n",
    "            volumes.append( Cuboid( self.xlim, self.ylim, [self.zlim[0], isct.zlim[0]-1], self.switch ) )\n",
    "\n",
    "        # 3. Front, but not above/below\n",
    "        if isct.ylim[1] < self.ylim[1]:\n",
    "            volumes.append( Cuboid( self.xlim, [isct.ylim[1]+1, self.ylim[1]], isct.zlim, self.switch ) )\n",
    "\n",
    "        # 4. Behind, but not above/below\n",
    "        if isct.ylim[0] > self.ylim[0]:\n",
    "            volumes.append( Cuboid( self.xlim, [self.ylim[0], isct.ylim[0]-1], isct.zlim, self.switch ) )\n",
    "\n",
    "        # 5. Right, but not above/below or front/behind\n",
    "        if isct.xlim[1] < self.xlim[1]:\n",
    "            volumes.append( Cuboid( [isct.xlim[1]+1, self.xlim[1]], isct.ylim, isct.zlim, self.switch ) )\n",
    "\n",
    "        # 6. Left, but not above/below or front/behind\n",
    "        if isct.xlim[0] > self.xlim[0]:\n",
    "            volumes.append( Cuboid( [self.xlim[0], isct.xlim[0]-1], isct.ylim, isct.zlim, self.switch ) )\n",
    "\n",
    "        return volumes"
   ]
  },
  {
   "cell_type": "code",
   "execution_count": 7,
   "metadata": {},
   "outputs": [],
   "source": [
    "def format_data( text ):\n",
    "    lines = text.split(\"\\n\")\n",
    "    steps = []\n",
    "    for line in lines:\n",
    "        parts = line.split(\" \")\n",
    "        switch = parts[0]\n",
    "\n",
    "        limits = parts[1].split(\",\")\n",
    "        xlim = [int(val) for val in limits[0][2:].split(\"..\")]\n",
    "        ylim = [int(val) for val in limits[1][2:].split(\"..\")]\n",
    "        zlim = [int(val) for val in limits[2][2:].split(\"..\")]\n",
    "\n",
    "        steps.append( Cuboid( xlim, ylim, zlim, switch ) )\n",
    "\n",
    "    return steps"
   ]
  },
  {
   "cell_type": "code",
   "execution_count": 8,
   "metadata": {},
   "outputs": [],
   "source": [
    "# reactor status will be a list of Cuboids that are switched on\n",
    "reactor_status = []"
   ]
  },
  {
   "cell_type": "code",
   "execution_count": 9,
   "metadata": {},
   "outputs": [
    {
     "data": {
      "text/plain": [
       "[on x=10..12,y=10..12,z10..12,\n",
       " on x=11..13,y=11..13,z11..13,\n",
       " off x=9..11,y=9..11,z9..11,\n",
       " on x=10..10,y=10..10,z10..10]"
      ]
     },
     "execution_count": 9,
     "metadata": {},
     "output_type": "execute_result"
    }
   ],
   "source": [
    "# directions will be a list of Cuboids that have switch on or off\n",
    "steps = format_data(mini)\n",
    "steps"
   ]
  },
  {
   "cell_type": "code",
   "execution_count": 10,
   "metadata": {},
   "outputs": [],
   "source": [
    "def apply_step( step, reactor_status, verbose = False ):\n",
    "\n",
    "    new_reactor = []\n",
    "    for idx, cube in enumerate( reactor_status ):\n",
    "        isct = cube.intersect( step )\n",
    "        if verbose:\n",
    "            print(\"cube:\", cube)\n",
    "            print(\"isct:\", isct)\n",
    "\n",
    "        if isct is None:\n",
    "            new_cubes = [cube]\n",
    "        else:\n",
    "            new_cubes = cube.remove_intersection( isct )\n",
    "\n",
    "        if verbose:\n",
    "            print( \"Adding\", len(new_cubes), \"new cuboids:\", idx )\n",
    "            print(new_cubes)\n",
    "            print(\"\\n\")\n",
    "        # remove interesction since that will now be included in the new step's cuboid\n",
    "        new_reactor += new_cubes\n",
    "\n",
    "    # add on switch to reactor status\n",
    "    if step.switch == \"on\":\n",
    "        new_reactor.append(step)\n",
    "\n",
    "    # for off switch, nothing to do\n",
    "    # reactor_status only needs to include on positions, and we removed those in the for loop\n",
    "\n",
    "    return new_reactor"
   ]
  },
  {
   "cell_type": "code",
   "execution_count": 11,
   "metadata": {},
   "outputs": [],
   "source": [
    "def check_all_intersections( cuboid_list, verbose = False ):\n",
    "    okay = True\n",
    "    for i in range(len(cuboid_list)):\n",
    "        for j in range(i+1, len(cuboid_list)):\n",
    "            isct = cuboid_list[i].intersect( cuboid_list[j] )\n",
    "            if isct is not None:\n",
    "                okay = False\n",
    "                if verbose:\n",
    "                    print(i,j, isct)\n",
    "\n",
    "    return okay\n",
    "\n",
    "def count_on_positions( cuboid_list ):\n",
    "    return sum( [x.size() for x in cuboid_list if x.switch == \"on\"] )"
   ]
  },
  {
   "cell_type": "code",
   "execution_count": 12,
   "metadata": {},
   "outputs": [],
   "source": [
    "def apply_all_steps( steps ):\n",
    "    reactor_status = []\n",
    "    for i, step in enumerate(steps):\n",
    "        reactor_status = apply_step(step, reactor_status)\n",
    "        assert check_all_intersections, f'''Reactor Cuboids are not disjoint <on step {i}>'''\n",
    "\n",
    "    return reactor_status"
   ]
  },
  {
   "cell_type": "code",
   "execution_count": 13,
   "metadata": {},
   "outputs": [],
   "source": [
    "def get_initialization_directions( steps ):\n",
    "    init_steps = []\n",
    "    for step in steps:\n",
    "        limit = step.xlim + step.ylim + step.zlim\n",
    "        if min(limit) >= -50 and max(limit) <= 50:\n",
    "            init_steps.append(step)\n",
    "    return init_steps"
   ]
  },
  {
   "cell_type": "code",
   "execution_count": 14,
   "metadata": {},
   "outputs": [],
   "source": [
    "reactor_status = []"
   ]
  },
  {
   "cell_type": "code",
   "execution_count": 15,
   "metadata": {},
   "outputs": [
    {
     "name": "stdout",
     "output_type": "stream",
     "text": [
      "27\n"
     ]
    },
    {
     "data": {
      "text/plain": [
       "True"
      ]
     },
     "execution_count": 15,
     "metadata": {},
     "output_type": "execute_result"
    }
   ],
   "source": [
    "reactor_status = apply_step( steps[0], reactor_status)\n",
    "print( count_on_positions( reactor_status ) )\n",
    "check_all_intersections( reactor_status )"
   ]
  },
  {
   "cell_type": "code",
   "execution_count": 16,
   "metadata": {},
   "outputs": [
    {
     "name": "stdout",
     "output_type": "stream",
     "text": [
      "46\n"
     ]
    },
    {
     "data": {
      "text/plain": [
       "True"
      ]
     },
     "execution_count": 16,
     "metadata": {},
     "output_type": "execute_result"
    }
   ],
   "source": [
    "reactor_status = apply_step( steps[1], reactor_status)\n",
    "print( count_on_positions( reactor_status ) )\n",
    "check_all_intersections( reactor_status )"
   ]
  },
  {
   "cell_type": "code",
   "execution_count": 17,
   "metadata": {},
   "outputs": [
    {
     "name": "stdout",
     "output_type": "stream",
     "text": [
      "38\n"
     ]
    },
    {
     "data": {
      "text/plain": [
       "True"
      ]
     },
     "execution_count": 17,
     "metadata": {},
     "output_type": "execute_result"
    }
   ],
   "source": [
    "reactor_status = apply_step( steps[2], reactor_status )\n",
    "print( count_on_positions( reactor_status ) )\n",
    "check_all_intersections( reactor_status )"
   ]
  },
  {
   "cell_type": "code",
   "execution_count": 18,
   "metadata": {},
   "outputs": [
    {
     "name": "stdout",
     "output_type": "stream",
     "text": [
      "39\n"
     ]
    },
    {
     "data": {
      "text/plain": [
       "True"
      ]
     },
     "execution_count": 18,
     "metadata": {},
     "output_type": "execute_result"
    }
   ],
   "source": [
    "reactor_status = apply_step( steps[3], reactor_status)\n",
    "print( count_on_positions( reactor_status ) )\n",
    "check_all_intersections( reactor_status )"
   ]
  },
  {
   "cell_type": "code",
   "execution_count": 19,
   "metadata": {},
   "outputs": [
    {
     "name": "stdout",
     "output_type": "stream",
     "text": [
      "22 20\n"
     ]
    },
    {
     "data": {
      "text/plain": [
       "590784"
      ]
     },
     "execution_count": 19,
     "metadata": {},
     "output_type": "execute_result"
    }
   ],
   "source": [
    "test_steps = format_data(test)\n",
    "init_test_steps = get_initialization_directions(test_steps)\n",
    "print(len(test_steps), len(init_test_steps))\n",
    "reactor_status = apply_all_steps( init_test_steps )\n",
    "count_on_positions( reactor_status )"
   ]
  },
  {
   "cell_type": "code",
   "execution_count": 20,
   "metadata": {},
   "outputs": [
    {
     "name": "stdout",
     "output_type": "stream",
     "text": [
      "420 20\n"
     ]
    },
    {
     "data": {
      "text/plain": [
       "581108"
      ]
     },
     "execution_count": 20,
     "metadata": {},
     "output_type": "execute_result"
    }
   ],
   "source": [
    "data_steps = format_data(data)\n",
    "init_data_steps = get_initialization_directions(data_steps)\n",
    "print(len(data_steps), len(init_data_steps))\n",
    "reactor_status = apply_all_steps( init_data_steps )\n",
    "count_on_positions( reactor_status )"
   ]
  },
  {
   "cell_type": "markdown",
   "metadata": {},
   "source": [
    "# Part 2"
   ]
  },
  {
   "cell_type": "code",
   "execution_count": 21,
   "metadata": {},
   "outputs": [
    {
     "data": {
      "text/plain": [
       "2758514936282235"
      ]
     },
     "execution_count": 21,
     "metadata": {},
     "output_type": "execute_result"
    }
   ],
   "source": [
    "with open(\"../data/2021/22_test.txt\", \"r\") as f:\n",
    "    test2 = f.read()\n",
    "\n",
    "reactor_status = apply_all_steps( format_data(test2) )\n",
    "count_on_positions( reactor_status )"
   ]
  },
  {
   "cell_type": "code",
   "execution_count": 22,
   "metadata": {},
   "outputs": [
    {
     "data": {
      "text/plain": [
       "1325473814582641"
      ]
     },
     "execution_count": 22,
     "metadata": {},
     "output_type": "execute_result"
    }
   ],
   "source": [
    "reactor_status = apply_all_steps( format_data(data) )\n",
    "count_on_positions( reactor_status )"
   ]
  },
  {
   "cell_type": "code",
   "execution_count": null,
   "metadata": {},
   "outputs": [],
   "source": []
  }
 ],
 "metadata": {
  "kernelspec": {
   "display_name": "Python 3",
   "language": "python",
   "name": "python3"
  },
  "language_info": {
   "codemirror_mode": {
    "name": "ipython",
    "version": 3
   },
   "file_extension": ".py",
   "mimetype": "text/x-python",
   "name": "python",
   "nbconvert_exporter": "python",
   "pygments_lexer": "ipython3",
   "version": "3.11.9"
  },
  "orig_nbformat": 4
 },
 "nbformat": 4,
 "nbformat_minor": 2
}
