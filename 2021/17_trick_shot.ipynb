{
 "cells": [
  {
   "attachments": {},
   "cell_type": "markdown",
   "metadata": {},
   "source": [
    "# December 17, 2021\n",
    "\n",
    "https://adventofcode.com/2021/day/17"
   ]
  },
  {
   "cell_type": "code",
   "execution_count": 1,
   "metadata": {},
   "outputs": [],
   "source": [
    "import pandas as pd\n",
    "import numpy as np"
   ]
  },
  {
   "cell_type": "code",
   "execution_count": null,
   "metadata": {},
   "outputs": [],
   "source": [
    "data = {\"x\":[20,30], \"y\":[-10,-5]} # read from file\n",
    "test = {\"x\":[20,30], \"y\":[-10,-5]}"
   ]
  },
  {
   "cell_type": "markdown",
   "metadata": {},
   "source": [
    "# Part 1\n",
    "\n",
    "This may be solved analytically. We assume ymax < 0.\n",
    "\n",
    "To hit the highest peak, we want to choose the largest y0 that hits the target.\n",
    "\n",
    "For y0 > 0, the y-deltas are  \n",
    "y0, y0-1, ..., 1, 0, -1, ... -y0, at which point the probe is back were it started.  \n",
    "Thus, pos.y( y0, 2y0+1) = 0\n",
    "\n",
    "The first point below 0 has y = -(y0+1).  \n",
    "If y0 > abs(ymin), then this point has y < ymin.  \n",
    "If y0 = abs(ymin)-1, then the point has y = ymin.\n",
    "\n",
    "The peak for this point is y0(y0+1)/2"
   ]
  },
  {
   "cell_type": "code",
   "execution_count": null,
   "metadata": {},
   "outputs": [],
   "source": [
    "def part1(data):\n",
    "    y0 = -data[\"y\"][0]-1\n",
    "    return int( y0*(y0+1)/2 )"
   ]
  },
  {
   "cell_type": "code",
   "execution_count": null,
   "metadata": {},
   "outputs": [],
   "source": [
    "part1(test)"
   ]
  },
  {
   "cell_type": "code",
   "execution_count": null,
   "metadata": {},
   "outputs": [],
   "source": [
    "part1(data)"
   ]
  },
  {
   "cell_type": "markdown",
   "metadata": {},
   "source": [
    "# Part 2\n",
    "\n",
    "After doing something more convoluted incorrectly for a while, I determined the simplest strategy.\n",
    "\n",
    "For each t, find the ranges for x0 and y0 that are in the target at time t.  \n",
    "The smallest t is 1, if we fire directly into the target in 1 step.  \n",
    "The largest t comes from firing the probe UP as high as possible.  \n",
    "By Part1 logic, this means y0=abs(ymin)-1.  \n",
    "This shot reaches the target at time 2y0+2 = twice abs(ymin).\n",
    "\n",
    "Note that a certain range of x0s will lose all forward momentum within the target. These work for sufficiently large t."
   ]
  },
  {
   "cell_type": "code",
   "execution_count": null,
   "metadata": {},
   "outputs": [],
   "source": [
    "def find_stoppers(xmin, xmax):\n",
    "    '''which values of x0 will stop forward momentum inside the target?'''\n",
    "    \n",
    "    # For x0, the foreward momentum stops at x0 + x0-1 + x0-2 = x0*(x0+1)/2\n",
    "    # Solve the quadratic for xmin <= x0*(x0+1)/2 <= xmax\n",
    "    xlo = int( np.ceil(single_pos_root(.5, .5, -xmin)) )\n",
    "    xhi = int( np.floor(single_pos_root(.5, .5, -xmax)) )\n",
    "    return xlo, xhi\n",
    "\n",
    "# I am the very model of a modern major general\n",
    "def root(a,b,c):\n",
    "    '''quadratic equation solver'''\n",
    "    det = (b**2 - 4*a*c)\n",
    "    if det < 0:\n",
    "        return []\n",
    "    \n",
    "    x1 = (-b + det**.5) / (2*a)\n",
    "\n",
    "    if det == 0:\n",
    "        return [x1]\n",
    "    \n",
    "    return [x1, (-b - det**.5) / (2*x)]\n",
    "\n",
    "def pos_roots(a,b,c):\n",
    "    '''return just the positive roots'''\n",
    "    return [r for r in root(a,b,c) if r > 0]\n",
    "\n",
    "def single_pos_root(a,b,c):\n",
    "    '''Given the problem statement, there should be exactly one positive root'''\n",
    "\n",
    "    t = pos_roots(a,b,c)\n",
    "    if len(t) != 1:\n",
    "        raise Exception(\"Expected exactly one positive root!\")\n",
    "    return t[0]"
   ]
  },
  {
   "cell_type": "code",
   "execution_count": null,
   "metadata": {},
   "outputs": [],
   "source": [
    "def solve_for_exlim( t, xmin, xmax ):\n",
    "    '''find range of x0s that are inside [xmin,xmax] at time t'''\n",
    "\n",
    "    # if t > smallest stopping x0, then it works for all stoppers\n",
    "    # this is because faster x0s must be to the right of that x0 and by defn they never go past xmax\n",
    "\n",
    "    # I haven't proven that there can't be faster non-stopping x0s that also work, but this seems to solve the problem.\n",
    "    stop_lim = find_stoppers(xmin, xmax)\n",
    "    if t >= stop_lim[0]:\n",
    "        xlo = stop_lim[0]\n",
    "        xhi = stop_lim[1]\n",
    "    else:\n",
    "        # For smaller t, find integer solutions to\n",
    "        # xmin <= xt - (t-1)t/2 <= xmax\n",
    "        xlo - int( np.ceil(xmin/t + (t-1)/2) )\n",
    "        xhi = int( np.floor(xmax/t + (t-1)/2) )\n",
    "    return xlo, xhi\n",
    "\n",
    "def solve_for_ylim( t, ymin, ymax ):\n",
    "    '''find range of y0s that are inside [ymin,ymax] at time t'''\n",
    "    # Find integer solutions to\n",
    "    # ymin <= yt - (t-1)t/2 <= ymax\n",
    "    ylo = int( np.ceil(ymin/t + (t-1)/2) )\n",
    "    yhi = int( np.floor(ymax/t + (t-1)/2) )\n",
    "    return ylo, yhi\n",
    "\n",
    "def find_xy_by_t( data ):\n",
    "    # Problem specs\n",
    "    xmin, xmax = data[\"x\"]\n",
    "    ymin, ymax = data[\"y\"]\n",
    "\n",
    "    # Range of times that have solutions\n",
    "    tmin = 1\n",
    "    tmax = 2*abs(ymin)\n",
    "\n",
    "    aims = []\n",
    "    for t in range(tmin, tmax+1):\n",
    "        # For each t, get the xs and ys.\n",
    "        xlo, xhi = solve_for_xlim(t, xmin, xmax)\n",
    "        ylo, yhi = solve_for_ylim(t, ymin, ymax)\n",
    "\n",
    "        # the same (x,y) may work for multiple times,\n",
    "        # so check for unique-ness before appending\n",
    "        for x in range(xlo, xhi+1):\n",
    "            for y in range(ylo, yhi+1):\n",
    "                if (x,y) not in aims:\n",
    "                    aims.append( (x,y) )\n",
    "    \n",
    "    return aims\n"
   ]
  },
  {
   "cell_type": "code",
   "execution_count": null,
   "metadata": {},
   "outputs": [],
   "source": [
    "ans = find_xy_by_t( test )\n",
    "len(ans)"
   ]
  },
  {
   "cell_type": "code",
   "execution_count": null,
   "metadata": {},
   "outputs": [],
   "source": [
    "ans = find_xy_by_t( data )\n",
    "len(ans)"
   ]
  }
 ],
 "metadata": {
  "kernelspec": {
   "display_name": "Python 3",
   "language": "python",
   "name": "python3"
  },
  "language_info": {
   "codemirror_mode": {
    "name": "ipython",
    "version": 3
   },
   "file_extension": ".py",
   "mimetype": "text/x-python",
   "name": "python",
   "nbconvert_exporter": "python",
   "pygments_lexer": "ipython3",
   "version": "3.11.9"
  },
  "orig_nbformat": 4
 },
 "nbformat": 4,
 "nbformat_minor": 2
}
