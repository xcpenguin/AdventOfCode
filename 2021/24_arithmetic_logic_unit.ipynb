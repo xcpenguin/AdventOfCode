{
 "cells": [
  {
   "attachments": {},
   "cell_type": "markdown",
   "metadata": {},
   "source": [
    "# December 24, 2021\n",
    "\n",
    "https://adventofcode.com/2021/day/24\n",
    "\n",
    "Turns out this was best done in the old noodle. XD"
   ]
  },
  {
   "cell_type": "code",
   "execution_count": 1,
   "metadata": {},
   "outputs": [],
   "source": [
    "import pandas as pd\n",
    "import numpy as np\n",
    "import datetime"
   ]
  },
  {
   "cell_type": "code",
   "execution_count": 2,
   "metadata": {},
   "outputs": [],
   "source": [
    "def pnow():\n",
    "    print( datetime.datetime.now().isoformat() )"
   ]
  },
  {
   "cell_type": "markdown",
   "metadata": {},
   "source": [
    "# Part 1"
   ]
  },
  {
   "cell_type": "code",
   "execution_count": null,
   "metadata": {},
   "outputs": [],
   "source": [
    "class ALU:\n",
    "    def __init__( self, serial_number, instructions ):\n",
    "        self.values = {\"w\":0, \"x\":0, \"y\":0, \"z\":0 }\n",
    "        self.sn = []\n",
    "        for pos in range(14):\n",
    "            pwr = 13 - pos\n",
    "            digit = int(serial_number / 10 ** pwr)\n",
    "            serial_number -= digit * (10 ** pwr)\n",
    "            self.sn.append( digit )\n",
    "        self.cursor = 0\n",
    "        self.instructions = instructions\n",
    "\n",
    "    def validate( self ):\n",
    "        for line in self.instructions:\n",
    "            self.parse_line(line)\n",
    "        return int( self.values[\"z\"] == 0 )\n",
    "    \n",
    "    def parse_b( self, b ):\n",
    "        if b in self.values.key():\n",
    "            return self.values[b]\n",
    "        else:\n",
    "            return int(b)\n",
    "        \n",
    "    def parse_line( self, line ):\n",
    "        cmd = line[:3]\n",
    "        a = line[4]\n",
    "        if cmd == \"inp\":\n",
    "            self.inp( a, self.sn[self.cursor] )\n",
    "            self.cursor += 1\n",
    "            return\n",
    "        \n",
    "        b = line[6:]\n",
    "        if cmd == \"add\":\n",
    "            self.add(a, b)\n",
    "        elif cmd == \"mul\":\n",
    "            self.mul(a,b)\n",
    "        elif cmd == \"div\":\n",
    "            self.div(a,b)\n",
    "        elif cmd == \"mod\":\n",
    "            self.mod(a,b)\n",
    "        elif cmd == \"eql\":\n",
    "            self.eql(a,b)\n",
    "        return\n",
    "    \n",
    "    def inp( self, a, b ):\n",
    "        self.values[a] = self.parse_b[b]\n",
    "\n",
    "    def add( self, a, b ):\n",
    "        self.values[a] = int(self.values[a] + self.parse_b(b) )\n",
    "\n",
    "    def mul( self, a, b ):\n",
    "        self.values[a] = int(self.values[a] * self.parse_b(b) )\n",
    "\n",
    "    def div( self, a, b ):\n",
    "        self.values[a] = int(self.values[a] / self.parse_b[b] )\n",
    "\n",
    "    def mod( self, a, b ):\n",
    "        self.values[a] = int(self.values[a] % self.parse_b[b] )\n",
    "\n",
    "    def eql( self, a, b ):\n",
    "        self.values[a] = int(self.values[a] == self.parse_b[b])\n",
    "\n",
    "\n",
    "    pass"
   ]
  }
 ],
 "metadata": {
  "kernelspec": {
   "display_name": "Python 3",
   "language": "python",
   "name": "python3"
  },
  "language_info": {
   "codemirror_mode": {
    "name": "ipython",
    "version": 3
   },
   "file_extension": ".py",
   "mimetype": "text/x-python",
   "name": "python",
   "nbconvert_exporter": "python",
   "pygments_lexer": "ipython3",
   "version": "3.11.9"
  },
  "orig_nbformat": 4
 },
 "nbformat": 4,
 "nbformat_minor": 2
}
