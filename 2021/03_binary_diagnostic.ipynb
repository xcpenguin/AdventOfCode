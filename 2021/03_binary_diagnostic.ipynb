{
 "cells": [
  {
   "attachments": {},
   "cell_type": "markdown",
   "metadata": {},
   "source": [
    "# December 03, 2021\n",
    "\n",
    "https://adventofcode.com/2021/day/3"
   ]
  },
  {
   "cell_type": "code",
   "execution_count": 1,
   "metadata": {},
   "outputs": [],
   "source": [
    "import pandas as pd\n",
    "import numpy as np"
   ]
  },
  {
   "cell_type": "markdown",
   "metadata": {},
   "source": [
    "# Part 1"
   ]
  },
  {
   "cell_type": "code",
   "execution_count": 2,
   "metadata": {},
   "outputs": [],
   "source": [
    "# read as string to get leading 0s\n",
    "df = pd.read_csv(\"../data/2021/03.txt\", dtype=str, names=[\"diag\"])"
   ]
  },
  {
   "cell_type": "code",
   "execution_count": 3,
   "metadata": {},
   "outputs": [],
   "source": [
    "# Parse individual digits\n",
    "dignames = [str(x) for x in range( len(df[\"diag\"][0]) )[::-1] ]\n",
    "df[dignames] = df.apply(lambda x: [int(d) for d in x[\"diag\"]], axis=1, result_type=\"expand\")"
   ]
  },
  {
   "cell_type": "code",
   "execution_count": 4,
   "metadata": {},
   "outputs": [],
   "source": [
    "# We could take a shortcut here using the fact that it's binary, but let's be more general\n",
    "# get digit counts\n",
    "digc = df[dignames].apply( lambda x: x.value_counts() )"
   ]
  },
  {
   "cell_type": "code",
   "execution_count": 5,
   "metadata": {},
   "outputs": [
    {
     "data": {
      "text/html": [
       "<div>\n",
       "<style scoped>\n",
       "    .dataframe tbody tr th:only-of-type {\n",
       "        vertical-align: middle;\n",
       "    }\n",
       "\n",
       "    .dataframe tbody tr th {\n",
       "        vertical-align: top;\n",
       "    }\n",
       "\n",
       "    .dataframe thead th {\n",
       "        text-align: right;\n",
       "    }\n",
       "</style>\n",
       "<table border=\"1\" class=\"dataframe\">\n",
       "  <thead>\n",
       "    <tr style=\"text-align: right;\">\n",
       "      <th></th>\n",
       "      <th>digit</th>\n",
       "      <th>pow</th>\n",
       "      <th>val</th>\n",
       "    </tr>\n",
       "  </thead>\n",
       "  <tbody>\n",
       "    <tr>\n",
       "      <th>11</th>\n",
       "      <td>1</td>\n",
       "      <td>11</td>\n",
       "      <td>2048</td>\n",
       "    </tr>\n",
       "    <tr>\n",
       "      <th>10</th>\n",
       "      <td>0</td>\n",
       "      <td>10</td>\n",
       "      <td>0</td>\n",
       "    </tr>\n",
       "    <tr>\n",
       "      <th>9</th>\n",
       "      <td>0</td>\n",
       "      <td>9</td>\n",
       "      <td>0</td>\n",
       "    </tr>\n",
       "    <tr>\n",
       "      <th>8</th>\n",
       "      <td>0</td>\n",
       "      <td>8</td>\n",
       "      <td>0</td>\n",
       "    </tr>\n",
       "    <tr>\n",
       "      <th>7</th>\n",
       "      <td>1</td>\n",
       "      <td>7</td>\n",
       "      <td>128</td>\n",
       "    </tr>\n",
       "    <tr>\n",
       "      <th>6</th>\n",
       "      <td>1</td>\n",
       "      <td>6</td>\n",
       "      <td>64</td>\n",
       "    </tr>\n",
       "    <tr>\n",
       "      <th>5</th>\n",
       "      <td>1</td>\n",
       "      <td>5</td>\n",
       "      <td>32</td>\n",
       "    </tr>\n",
       "    <tr>\n",
       "      <th>4</th>\n",
       "      <td>0</td>\n",
       "      <td>4</td>\n",
       "      <td>0</td>\n",
       "    </tr>\n",
       "    <tr>\n",
       "      <th>3</th>\n",
       "      <td>0</td>\n",
       "      <td>3</td>\n",
       "      <td>0</td>\n",
       "    </tr>\n",
       "    <tr>\n",
       "      <th>2</th>\n",
       "      <td>1</td>\n",
       "      <td>2</td>\n",
       "      <td>4</td>\n",
       "    </tr>\n",
       "    <tr>\n",
       "      <th>1</th>\n",
       "      <td>0</td>\n",
       "      <td>1</td>\n",
       "      <td>0</td>\n",
       "    </tr>\n",
       "    <tr>\n",
       "      <th>0</th>\n",
       "      <td>1</td>\n",
       "      <td>0</td>\n",
       "      <td>1</td>\n",
       "    </tr>\n",
       "  </tbody>\n",
       "</table>\n",
       "</div>"
      ],
      "text/plain": [
       "    digit pow   val\n",
       "11      1  11  2048\n",
       "10      0  10     0\n",
       "9       0   9     0\n",
       "8       0   8     0\n",
       "7       1   7   128\n",
       "6       1   6    64\n",
       "5       1   5    32\n",
       "4       0   4     0\n",
       "3       0   3     0\n",
       "2       1   2     4\n",
       "1       0   1     0\n",
       "0       1   0     1"
      ]
     },
     "execution_count": 5,
     "metadata": {},
     "output_type": "execute_result"
    }
   ],
   "source": [
    "gamma = pd.DataFrame(digc.apply(lambda x: x.idxmax(), axis=0), columns=[\"digit\"])\n",
    "gamma[\"pow\"] = gamma.index\n",
    "gamma[\"val\"] = gamma.apply( lambda x: 2**int(x[\"pow\"]) * x[\"digit\"], axis=1)\n",
    "gamma"
   ]
  },
  {
   "cell_type": "code",
   "execution_count": 6,
   "metadata": {},
   "outputs": [
    {
     "data": {
      "text/html": [
       "<div>\n",
       "<style scoped>\n",
       "    .dataframe tbody tr th:only-of-type {\n",
       "        vertical-align: middle;\n",
       "    }\n",
       "\n",
       "    .dataframe tbody tr th {\n",
       "        vertical-align: top;\n",
       "    }\n",
       "\n",
       "    .dataframe thead th {\n",
       "        text-align: right;\n",
       "    }\n",
       "</style>\n",
       "<table border=\"1\" class=\"dataframe\">\n",
       "  <thead>\n",
       "    <tr style=\"text-align: right;\">\n",
       "      <th></th>\n",
       "      <th>digit</th>\n",
       "      <th>pow</th>\n",
       "      <th>val</th>\n",
       "    </tr>\n",
       "  </thead>\n",
       "  <tbody>\n",
       "    <tr>\n",
       "      <th>11</th>\n",
       "      <td>0</td>\n",
       "      <td>11</td>\n",
       "      <td>0</td>\n",
       "    </tr>\n",
       "    <tr>\n",
       "      <th>10</th>\n",
       "      <td>1</td>\n",
       "      <td>10</td>\n",
       "      <td>1024</td>\n",
       "    </tr>\n",
       "    <tr>\n",
       "      <th>9</th>\n",
       "      <td>1</td>\n",
       "      <td>9</td>\n",
       "      <td>512</td>\n",
       "    </tr>\n",
       "    <tr>\n",
       "      <th>8</th>\n",
       "      <td>1</td>\n",
       "      <td>8</td>\n",
       "      <td>256</td>\n",
       "    </tr>\n",
       "    <tr>\n",
       "      <th>7</th>\n",
       "      <td>0</td>\n",
       "      <td>7</td>\n",
       "      <td>0</td>\n",
       "    </tr>\n",
       "    <tr>\n",
       "      <th>6</th>\n",
       "      <td>0</td>\n",
       "      <td>6</td>\n",
       "      <td>0</td>\n",
       "    </tr>\n",
       "    <tr>\n",
       "      <th>5</th>\n",
       "      <td>0</td>\n",
       "      <td>5</td>\n",
       "      <td>0</td>\n",
       "    </tr>\n",
       "    <tr>\n",
       "      <th>4</th>\n",
       "      <td>1</td>\n",
       "      <td>4</td>\n",
       "      <td>16</td>\n",
       "    </tr>\n",
       "    <tr>\n",
       "      <th>3</th>\n",
       "      <td>1</td>\n",
       "      <td>3</td>\n",
       "      <td>8</td>\n",
       "    </tr>\n",
       "    <tr>\n",
       "      <th>2</th>\n",
       "      <td>0</td>\n",
       "      <td>2</td>\n",
       "      <td>0</td>\n",
       "    </tr>\n",
       "    <tr>\n",
       "      <th>1</th>\n",
       "      <td>1</td>\n",
       "      <td>1</td>\n",
       "      <td>2</td>\n",
       "    </tr>\n",
       "    <tr>\n",
       "      <th>0</th>\n",
       "      <td>0</td>\n",
       "      <td>0</td>\n",
       "      <td>0</td>\n",
       "    </tr>\n",
       "  </tbody>\n",
       "</table>\n",
       "</div>"
      ],
      "text/plain": [
       "    digit pow   val\n",
       "11      0  11     0\n",
       "10      1  10  1024\n",
       "9       1   9   512\n",
       "8       1   8   256\n",
       "7       0   7     0\n",
       "6       0   6     0\n",
       "5       0   5     0\n",
       "4       1   4    16\n",
       "3       1   3     8\n",
       "2       0   2     0\n",
       "1       1   1     2\n",
       "0       0   0     0"
      ]
     },
     "execution_count": 6,
     "metadata": {},
     "output_type": "execute_result"
    }
   ],
   "source": [
    "epsilon = pd.DataFrame(digc.apply(lambda x: x.idxmin(), axis=0), columns=[\"digit\"])\n",
    "epsilon[\"pow\"] = epsilon.index\n",
    "epsilon[\"val\"] = epsilon.apply( lambda x: 2**int(x[\"pow\"]) * x[\"digit\"], axis=1 )\n",
    "epsilon"
   ]
  },
  {
   "cell_type": "code",
   "execution_count": 7,
   "metadata": {},
   "outputs": [
    {
     "name": "stdout",
     "output_type": "stream",
     "text": [
      "2277 1818 4139586\n"
     ]
    }
   ],
   "source": [
    "gam = gamma[\"val\"].sum()\n",
    "eps = epsilon[\"val\"].sum()\n",
    "print(gam, eps, gam*eps)"
   ]
  },
  {
   "cell_type": "markdown",
   "metadata": {},
   "source": [
    "# Part 2"
   ]
  },
  {
   "cell_type": "code",
   "execution_count": 8,
   "metadata": {},
   "outputs": [],
   "source": [
    "def select_max(x):\n",
    "    vc = x.value_counts()\n",
    "    # only one value present, return it\n",
    "    if len(vc) == 1:\n",
    "        return vc.index[0]\n",
    "    \n",
    "    if vc[0] > vc[1]:\n",
    "        return 0\n",
    "    else:\n",
    "        return 1\n",
    "    \n",
    "def select_min(x):\n",
    "    vc = x.value_counts()\n",
    "    # if only one value present, return the other\n",
    "    if len(vc) == 1:\n",
    "        return 1 - vc.index[0]\n",
    "    \n",
    "    if vc[0] <= vc[1]:\n",
    "        return 0\n",
    "    else:\n",
    "        return 1\n",
    "    \n",
    "def select_bit(x, which):\n",
    "    if which == \"min\":\n",
    "        return select_min(x)\n",
    "    else:\n",
    "        return select_max(x)\n",
    "    \n",
    "def filter_values( df, pos, which ):\n",
    "    targ = select_bit( df[pos], which )\n",
    "\n",
    "    return df.loc[ df[pos] == targ ]\n",
    "\n",
    "def get_rating( df, which, debug = 0 ):\n",
    "    cols = [x for x in df.columns if x != \"diag\"]\n",
    "    cidx = 0\n",
    "\n",
    "    rcnt = df.shape[0]\n",
    "    while rcnt > 1 and cidx < len(cols):\n",
    "        c = cols[cidx]\n",
    "        print(\"Checking col\", c)\n",
    "        df = filter_values( df, cols[cidx], which )\n",
    "        rcnt = df.shape[0]\n",
    "        if debug >= 1:\n",
    "            print(\"rows left:\", rcnt)\n",
    "        if debug == 2:\n",
    "            display(df)\n",
    "\n",
    "        cidx += 1\n",
    "    assert rcnt > 0, \"All values eliminated!\"\n",
    "    assert rcnt == 1, \"Multiple values remaining!\"\n",
    "\n",
    "    return df\n",
    "\n",
    "def read_val( df ):\n",
    "    cols = [x for x in df.columns if x != \"diag\"]\n",
    "    vals = [ 2**int(c) * df[c].iloc[0] for c in cols ]\n",
    "    return sum(vals)"
   ]
  },
  {
   "cell_type": "code",
   "execution_count": 9,
   "metadata": {},
   "outputs": [
    {
     "name": "stdout",
     "output_type": "stream",
     "text": [
      "Checking col 11\n",
      "Checking col 10\n",
      "Checking col 9\n",
      "Checking col 8\n",
      "Checking col 7\n",
      "Checking col 6\n",
      "Checking col 5\n",
      "Checking col 4\n",
      "Checking col 3\n",
      "Checking col 2\n",
      "Checking col 1\n",
      "Checking col 0\n",
      "             diag  11  10  9  8  7  6  5  4  3  2  1  0\n",
      "805  100111101011   1   0  0  1  1  1  1  0  1  0  1  1 \n",
      "----------\n",
      "\n",
      "Checking col 11\n",
      "Checking col 10\n",
      "Checking col 9\n",
      "Checking col 8\n",
      "Checking col 7\n",
      "Checking col 6\n",
      "Checking col 5\n",
      "Checking col 4\n",
      "Checking col 3\n",
      "             diag  11  10  9  8  7  6  5  4  3  2  1  0\n",
      "326  001011000101   0   0  1  0  1  1  0  0  0  1  0  1\n"
     ]
    }
   ],
   "source": [
    "o2 = get_rating(df, \"max\", debug=0)\n",
    "print(o2, \"\\n----------\\n\")\n",
    "co2 = get_rating(df, \"min\", debug=0)\n",
    "print(co2)"
   ]
  },
  {
   "cell_type": "code",
   "execution_count": 10,
   "metadata": {},
   "outputs": [
    {
     "name": "stdout",
     "output_type": "stream",
     "text": [
      "2539 709 1800151\n"
     ]
    }
   ],
   "source": [
    "o2_rating = read_val(o2)\n",
    "co2_rating = read_val(co2)\n",
    "print( o2_rating, co2_rating, o2_rating*co2_rating )"
   ]
  },
  {
   "cell_type": "code",
   "execution_count": 11,
   "metadata": {},
   "outputs": [
    {
     "data": {
      "text/html": [
       "<div>\n",
       "<style scoped>\n",
       "    .dataframe tbody tr th:only-of-type {\n",
       "        vertical-align: middle;\n",
       "    }\n",
       "\n",
       "    .dataframe tbody tr th {\n",
       "        vertical-align: top;\n",
       "    }\n",
       "\n",
       "    .dataframe thead th {\n",
       "        text-align: right;\n",
       "    }\n",
       "</style>\n",
       "<table border=\"1\" class=\"dataframe\">\n",
       "  <thead>\n",
       "    <tr style=\"text-align: right;\">\n",
       "      <th></th>\n",
       "      <th>diag</th>\n",
       "      <th>11</th>\n",
       "      <th>10</th>\n",
       "      <th>9</th>\n",
       "      <th>8</th>\n",
       "      <th>7</th>\n",
       "      <th>6</th>\n",
       "      <th>5</th>\n",
       "      <th>4</th>\n",
       "      <th>3</th>\n",
       "      <th>2</th>\n",
       "      <th>1</th>\n",
       "      <th>0</th>\n",
       "    </tr>\n",
       "  </thead>\n",
       "  <tbody>\n",
       "    <tr>\n",
       "      <th>805</th>\n",
       "      <td>100111101011</td>\n",
       "      <td>1</td>\n",
       "      <td>0</td>\n",
       "      <td>0</td>\n",
       "      <td>1</td>\n",
       "      <td>1</td>\n",
       "      <td>1</td>\n",
       "      <td>1</td>\n",
       "      <td>0</td>\n",
       "      <td>1</td>\n",
       "      <td>0</td>\n",
       "      <td>1</td>\n",
       "      <td>1</td>\n",
       "    </tr>\n",
       "  </tbody>\n",
       "</table>\n",
       "</div>"
      ],
      "text/plain": [
       "             diag  11  10  9  8  7  6  5  4  3  2  1  0\n",
       "805  100111101011   1   0  0  1  1  1  1  0  1  0  1  1"
      ]
     },
     "metadata": {},
     "output_type": "display_data"
    },
    {
     "data": {
      "text/html": [
       "<div>\n",
       "<style scoped>\n",
       "    .dataframe tbody tr th:only-of-type {\n",
       "        vertical-align: middle;\n",
       "    }\n",
       "\n",
       "    .dataframe tbody tr th {\n",
       "        vertical-align: top;\n",
       "    }\n",
       "\n",
       "    .dataframe thead th {\n",
       "        text-align: right;\n",
       "    }\n",
       "</style>\n",
       "<table border=\"1\" class=\"dataframe\">\n",
       "  <thead>\n",
       "    <tr style=\"text-align: right;\">\n",
       "      <th></th>\n",
       "      <th>diag</th>\n",
       "      <th>11</th>\n",
       "      <th>10</th>\n",
       "      <th>9</th>\n",
       "      <th>8</th>\n",
       "      <th>7</th>\n",
       "      <th>6</th>\n",
       "      <th>5</th>\n",
       "      <th>4</th>\n",
       "      <th>3</th>\n",
       "      <th>2</th>\n",
       "      <th>1</th>\n",
       "      <th>0</th>\n",
       "    </tr>\n",
       "  </thead>\n",
       "  <tbody>\n",
       "    <tr>\n",
       "      <th>326</th>\n",
       "      <td>001011000101</td>\n",
       "      <td>0</td>\n",
       "      <td>0</td>\n",
       "      <td>1</td>\n",
       "      <td>0</td>\n",
       "      <td>1</td>\n",
       "      <td>1</td>\n",
       "      <td>0</td>\n",
       "      <td>0</td>\n",
       "      <td>0</td>\n",
       "      <td>1</td>\n",
       "      <td>0</td>\n",
       "      <td>1</td>\n",
       "    </tr>\n",
       "  </tbody>\n",
       "</table>\n",
       "</div>"
      ],
      "text/plain": [
       "             diag  11  10  9  8  7  6  5  4  3  2  1  0\n",
       "326  001011000101   0   0  1  0  1  1  0  0  0  1  0  1"
      ]
     },
     "metadata": {},
     "output_type": "display_data"
    }
   ],
   "source": [
    "display(o2)\n",
    "display(co2)"
   ]
  },
  {
   "cell_type": "code",
   "execution_count": 12,
   "metadata": {},
   "outputs": [
    {
     "data": {
      "text/plain": [
       "709"
      ]
     },
     "execution_count": 12,
     "metadata": {},
     "output_type": "execute_result"
    }
   ],
   "source": [
    "512+128+64+4+1"
   ]
  }
 ],
 "metadata": {
  "kernelspec": {
   "display_name": "Python 3",
   "language": "python",
   "name": "python3"
  },
  "language_info": {
   "codemirror_mode": {
    "name": "ipython",
    "version": 3
   },
   "file_extension": ".py",
   "mimetype": "text/x-python",
   "name": "python",
   "nbconvert_exporter": "python",
   "pygments_lexer": "ipython3",
   "version": "3.11.9"
  },
  "orig_nbformat": 4
 },
 "nbformat": 4,
 "nbformat_minor": 2
}
