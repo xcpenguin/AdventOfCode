{
 "cells": [
  {
   "attachments": {},
   "cell_type": "markdown",
   "metadata": {},
   "source": [
    "# December 15, 2021\n",
    "\n",
    "https://adventofcode.com/2021/day/15"
   ]
  },
  {
   "cell_type": "code",
   "execution_count": 1,
   "metadata": {},
   "outputs": [],
   "source": [
    "import pandas as pd\n",
    "import numpy as np\n",
    "from collections import defaultdict, deque\n",
    "from queue import PriorityQueue"
   ]
  },
  {
   "cell_type": "code",
   "execution_count": 2,
   "metadata": {},
   "outputs": [],
   "source": [
    "def format_data( data_str ):\n",
    "    return [ [int(x) for x in line] for line in data_str.split(\"\\n\") ]"
   ]
  },
  {
   "cell_type": "code",
   "execution_count": 3,
   "metadata": {},
   "outputs": [],
   "source": [
    "with open(\"../data/2021/15.txt\", \"r\") as f:\n",
    "    data_str = f.read()\n",
    "data_mat = format_data( data_str )"
   ]
  },
  {
   "cell_type": "code",
   "execution_count": 4,
   "metadata": {},
   "outputs": [
    {
     "data": {
      "text/plain": [
       "[[1, 1, 6, 3, 7, 5, 1, 7, 4, 2],\n",
       " [1, 3, 8, 1, 3, 7, 3, 6, 7, 2],\n",
       " [2, 1, 3, 6, 5, 1, 1, 3, 2, 8],\n",
       " [3, 6, 9, 4, 9, 3, 1, 5, 6, 9],\n",
       " [7, 4, 6, 3, 4, 1, 7, 1, 1, 1],\n",
       " [1, 3, 1, 9, 1, 2, 8, 1, 3, 7],\n",
       " [1, 3, 5, 9, 9, 1, 2, 4, 2, 1],\n",
       " [3, 1, 2, 5, 4, 2, 1, 6, 3, 9],\n",
       " [1, 2, 9, 3, 1, 3, 8, 5, 2, 1],\n",
       " [2, 3, 1, 1, 9, 4, 4, 5, 8, 1]]"
      ]
     },
     "execution_count": 4,
     "metadata": {},
     "output_type": "execute_result"
    }
   ],
   "source": [
    "test_str = '''1163751742\n",
    "1381373672\n",
    "2136511328\n",
    "3694931569\n",
    "7463417111\n",
    "1319128137\n",
    "1359912421\n",
    "3125421639\n",
    "1293138521\n",
    "2311944581'''\n",
    "\n",
    "test_mat = format_data( test_str )\n",
    "test_mat"
   ]
  },
  {
   "cell_type": "markdown",
   "metadata": {},
   "source": [
    "# Part 1"
   ]
  },
  {
   "cell_type": "code",
   "execution_count": 5,
   "metadata": {},
   "outputs": [],
   "source": [
    "class RiskMap:\n",
    "    def __init__(self, mat):\n",
    "        self.map = mat\n",
    "        self.nx = len(mat[0])\n",
    "        self.ny = len(mat)\n",
    "\n",
    "    def neighbors(self, pt):\n",
    "        return ( [ Point( (pt[0]+d[0], pt[1]+d[1]), self ) for d in [(-1,0), (1,0), (0,1), (0,-1)]\n",
    "                    if 0 <= pt[0]+d[0] < self.nx and 0 <= pt[1]+d[1] < self.ny] )\n",
    "        \n",
    "    def risk(self, pt):\n",
    "        return self.map[pt[1]][pt[0]]\n",
    "    \n",
    "    def estimate(self, pt):\n",
    "        return abs(self.ny-1 - pt[1]) + abs(self.nx-1 - pt[0])\n",
    "    \n",
    "class Point:\n",
    "    # tuple plus risk and estimated distance to end\n",
    "    def __init__(self, loc, risk_map):\n",
    "        self.loc = loc\n",
    "        self.risk = risk_map.risk( loc )\n",
    "        self.estimate = risk_map.estimate( loc )\n",
    "\n",
    "    def __getitem__(self, idx):\n",
    "        return self.loc[idx]\n",
    "    def __str__(self):\n",
    "        return str(self.loc[0]) + \":\" + str(self.loc[1])\n",
    "    def __repr__(self):\n",
    "        return str(self)\n",
    "    def __eq__(self, other):\n",
    "        return self.loc == other.loc\n",
    "    \n",
    "class Path:\n",
    "    # path is list of Points\n",
    "    def __init__(self, path, risk, estimate=0):\n",
    "        self.path = path\n",
    "        self.risk = risk\n",
    "        self.estimate = estimate\n",
    "        self.priority = risk + estimate\n",
    "    \n",
    "    def end(self):\n",
    "        return self.path[-1]\n",
    "    \n",
    "    def __str__(self):\n",
    "        return f\"\"\"{self.priority} = {self.risk} + {self.estimate}? [{\", \".join([str(x) for x in self.path])}]\"\"\"\n",
    "    def __repr__(self):\n",
    "        return str(self)\n",
    "    def __lt__(self, other):\n",
    "        return self.priority < other.priority\n",
    "    def __add__(self, point):\n",
    "        return Path( self.path + [point], self.risk + point.risk, point.estimate )"
   ]
  },
  {
   "cell_type": "code",
   "execution_count": 6,
   "metadata": {},
   "outputs": [],
   "source": [
    "def best_path( risk_map, start=(0,0) ):\n",
    "    start = Point(start, risk_map)\n",
    "    goal = Point( (risk_map.nx - 1, risk_map.ny - 1), risk_map )\n",
    "\n",
    "    # dict of reached locations with value == path risk to that point.\n",
    "    reached = { start.loc : 0 }\n",
    "\n",
    "    frontier = PriorityQueue()\n",
    "    frontier.put( Path([start], 0, start.estimate) )\n",
    "\n",
    "    while not frontier.empty():\n",
    "        cur = frontier.get()\n",
    "\n",
    "        # check all the neighboring points\n",
    "        neighbors = risk_map.neighbors( cur.end() )\n",
    "        for nn in neighbors:\n",
    "\n",
    "            if nn == goal:\n",
    "                # we did it!\n",
    "                return cur + nn\n",
    "            \n",
    "            nn_path_risk = cur.risk + nn.risk\n",
    "\n",
    "            if nn.loc in reached.keys():\n",
    "                # We've been here before. Only explore neighbors\n",
    "                # if the current path beats the previous path\n",
    "                if nn_path_risk >= reached[nn.loc]:\n",
    "                    # old path is better. skip the rest of the loop\n",
    "                    continue\n",
    "\n",
    "            reached[nn.loc] = nn_path_risk\n",
    "            nn_path = cur + nn\n",
    "            frontier.put( nn_path )\n",
    "\n",
    "    # ruh-roh, we didn't make it\n",
    "    return None"
   ]
  },
  {
   "cell_type": "code",
   "execution_count": 7,
   "metadata": {},
   "outputs": [
    {
     "data": {
      "text/plain": [
       "40 = 40 + 0? [0:0, 0:1, 0:2, 1:2, 2:2, 3:2, 4:2, 5:2, 6:2, 6:3, 7:3, 7:4, 7:5, 8:5, 8:6, 8:7, 8:8, 9:8, 9:9]"
      ]
     },
     "execution_count": 7,
     "metadata": {},
     "output_type": "execute_result"
    }
   ],
   "source": [
    "test = RiskMap(test_mat)\n",
    "bp = best_path(test)\n",
    "bp"
   ]
  },
  {
   "cell_type": "code",
   "execution_count": 8,
   "metadata": {},
   "outputs": [
    {
     "data": {
      "text/plain": [
       "366 = 366 + 0? [0:0, 0:1, 0:2, 1:2, 2:2, 2:3, 2:4, 2:5, 2:6, 3:6, 3:7, 4:7, 5:7, 5:8, 5:9, 6:9, 6:10, 7:10, 8:10, 9:10, 9:11, 10:11, 11:11, 11:12, 12:12, 13:12, 14:12, 14:13, 14:14, 14:15, 14:16, 15:16, 16:16, 17:16, 18:16, 18:17, 19:17, 19:18, 19:19, 19:20, 19:21, 19:22, 19:23, 19:24, 20:24, 21:24, 21:25, 21:26, 22:26, 23:26, 24:26, 25:26, 26:26, 27:26, 28:26, 28:27, 28:28, 29:28, 29:29, 29:30, 29:31, 29:32, 30:32, 31:32, 32:32, 32:33, 32:34, 32:35, 32:36, 33:36, 34:36, 34:37, 35:37, 36:37, 37:37, 38:37, 39:37, 39:38, 40:38, 41:38, 41:39, 42:39, 42:40, 42:41, 42:42, 43:42, 44:42, 44:43, 44:44, 45:44, 46:44, 46:45, 46:46, 47:46, 47:47, 47:48, 48:48, 48:49, 48:50, 48:51, 49:51, 50:51, 50:52, 51:52, 52:52, 53:52, 53:53, 54:53, 54:54, 54:55, 54:56, 55:56, 55:57, 55:58, 55:59, 56:59, 57:59, 58:59, 58:60, 58:61, 58:62, 58:63, 58:64, 59:64, 60:64, 61:64, 62:64, 62:65, 62:66, 62:67, 63:67, 64:67, 65:67, 66:67, 66:68, 66:69, 66:70, 66:71, 66:72, 66:73, 66:74, 66:75, 66:76, 66:77, 66:78, 66:79, 66:80, 66:81, 67:81, 67:82, 67:83, 67:84, 68:84, 69:84, 70:84, 70:85, 71:85, 71:86, 72:86, 73:86, 74:86, 75:86, 75:87, 76:87, 77:87, 78:87, 78:88, 79:88, 80:88, 81:88, 82:88, 83:88, 84:88, 85:88, 86:88, 86:89, 86:90, 87:90, 88:90, 88:91, 89:91, 90:91, 91:91, 92:91, 93:91, 93:92, 94:92, 95:92, 96:92, 96:93, 97:93, 97:94, 98:94, 98:95, 98:96, 99:96, 99:97, 99:98, 99:99]"
      ]
     },
     "execution_count": 8,
     "metadata": {},
     "output_type": "execute_result"
    }
   ],
   "source": [
    "data = RiskMap(data_mat)\n",
    "bp = best_path(data)\n",
    "bp"
   ]
  },
  {
   "cell_type": "markdown",
   "metadata": {},
   "source": [
    "# Part 2\n",
    "\n",
    "expanding map!"
   ]
  },
  {
   "cell_type": "code",
   "execution_count": 9,
   "metadata": {},
   "outputs": [],
   "source": [
    "class RiskMapExpanded:\n",
    "    def __init__(self, mat, rep):\n",
    "        self.map = mat\n",
    "        self.tile_nx = len(mat[0])\n",
    "        self.tile_ny = len(mat)\n",
    "        self.nx = self.tile_nx * rep\n",
    "        self.ny = self.tile_ny * rep\n",
    "\n",
    "    def neighbors(self, pt):\n",
    "        return ( [ Point( (pt[0]+d[0], pt[1]+d[1]), self ) for d in [(-1,0), (1,0), (0,1), (0,-1)]\n",
    "                if 0 <= pt[0]+d[0] < self.nx and 0 <= pt[1]+d[1] < self.ny ] )\n",
    "    \n",
    "    def risk(self, pt):\n",
    "        x, y = pt[0], pt[1]\n",
    "        tilex = int(x / self.tile_nx)\n",
    "        tiley = int(y / self.tile_ny)\n",
    "\n",
    "        posx = x - tilex * self.tile_nx\n",
    "        posy = y - tiley * self.tile_ny\n",
    "\n",
    "        # each tile over or down increases risk by 1\n",
    "        risk = self.map[posy][posx] + tilex + tiley\n",
    "\n",
    "        # except that it wraps around from 10 ---> 1\n",
    "        return ((risk-1) % 9) + 1\n",
    "    \n",
    "    def estimate(self, pt):\n",
    "        return abs(self.ny-1 - pt[1]) + abs(self.nx-1 - pt[0])"
   ]
  },
  {
   "cell_type": "code",
   "execution_count": 10,
   "metadata": {},
   "outputs": [
    {
     "data": {
      "text/plain": [
       "315 = 315 + 0? [0:0, 0:1, 0:2, 0:3, 0:4, 0:5, 0:6, 0:7, 0:8, 0:9, 0:10, 0:11, 0:12, 1:12, 2:12, 2:13, 3:13, 3:14, 3:15, 3:16, 4:16, 5:16, 6:16, 7:16, 8:16, 9:16, 9:17, 9:18, 10:18, 11:18, 12:18, 12:19, 13:19, 14:19, 14:20, 14:21, 15:21, 15:22, 16:22, 16:23, 16:24, 16:25, 17:25, 18:25, 19:25, 19:26, 19:27, 19:28, 20:28, 21:28, 22:28, 22:29, 23:29, 24:29, 24:30, 25:30, 26:30, 27:30, 27:31, 27:32, 27:33, 28:33, 29:33, 29:34, 30:34, 31:34, 32:34, 32:35, 32:36, 33:36, 33:37, 34:37, 34:38, 34:39, 35:39, 36:39, 37:39, 37:40, 37:41, 37:42, 37:43, 38:43, 39:43, 40:43, 41:43, 41:44, 41:45, 41:46, 42:46, 42:47, 43:47, 44:47, 45:47, 45:48, 45:49, 46:49, 47:49, 48:49, 49:49]"
      ]
     },
     "execution_count": 10,
     "metadata": {},
     "output_type": "execute_result"
    }
   ],
   "source": [
    "test = RiskMapExpanded(test_mat, rep=5)\n",
    "bp = best_path(test)\n",
    "bp"
   ]
  },
  {
   "cell_type": "code",
   "execution_count": 11,
   "metadata": {},
   "outputs": [
    {
     "name": "stdout",
     "output_type": "stream",
     "text": [
      "2829\n"
     ]
    }
   ],
   "source": [
    "data = RiskMapExpanded(data_mat, rep=5)\n",
    "bp = best_path(data)\n",
    "print(bp.risk)"
   ]
  }
 ],
 "metadata": {
  "kernelspec": {
   "display_name": "Python 3",
   "language": "python",
   "name": "python3"
  },
  "language_info": {
   "codemirror_mode": {
    "name": "ipython",
    "version": 3
   },
   "file_extension": ".py",
   "mimetype": "text/x-python",
   "name": "python",
   "nbconvert_exporter": "python",
   "pygments_lexer": "ipython3",
   "version": "3.11.9"
  },
  "orig_nbformat": 4
 },
 "nbformat": 4,
 "nbformat_minor": 2
}
