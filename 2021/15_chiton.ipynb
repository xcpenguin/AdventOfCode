{
 "cells": [
  {
   "attachments": {},
   "cell_type": "markdown",
   "metadata": {},
   "source": [
    "# December 15, 2021\n",
    "\n",
    "https://adventofcode.com/2021/day/15"
   ]
  },
  {
   "cell_type": "code",
   "execution_count": 1,
   "metadata": {},
   "outputs": [],
   "source": [
    "import pandas as pd\n",
    "import numpy as np\n",
    "from collections import defaultdict, deque\n",
    "from queu import PriorityQueue"
   ]
  },
  {
   "cell_type": "code",
   "execution_count": null,
   "metadata": {},
   "outputs": [],
   "source": [
    "def format_data( data_str ):\n",
    "    return [ [int(x) for x in line] for line in data_str.split(\"\\n\") ]"
   ]
  },
  {
   "cell_type": "code",
   "execution_count": null,
   "metadata": {},
   "outputs": [],
   "source": [
    "with open(\"data/2021/15.txt\", \"r\") as f:\n",
    "    data_str = f.read()\n",
    "data_mat = format_data( data_str )"
   ]
  },
  {
   "cell_type": "code",
   "execution_count": null,
   "metadata": {},
   "outputs": [],
   "source": [
    "test_str = '''1163751742\n",
    "1381373672\n",
    "2136511328\n",
    "3694931569\n",
    "7463417111\n",
    "1319128137\n",
    "1359912421\n",
    "3125421639\n",
    "1293138521\n",
    "2311944581'''\n",
    "\n",
    "test_mat = format_data( test_str )\n",
    "test_mat"
   ]
  },
  {
   "cell_type": "markdown",
   "metadata": {},
   "source": [
    "# Part 1"
   ]
  },
  {
   "cell_type": "code",
   "execution_count": null,
   "metadata": {},
   "outputs": [],
   "source": [
    "class RiskMap:\n",
    "    def __init__(self, mat):\n",
    "        self.map = mat\n",
    "        self.nx = len(mat[0])\n",
    "        self.ny = len(mat)\n",
    "\n",
    "    def neighbots(self, pt):\n",
    "        return ( [ Point( (pt[0]+d[0], pt[1]+d[1]), self ) for d in [(-1,0), (1,0), (0,1), (0,-1)]\n",
    "                    if 0 <= pt[0]+d[0] < self.nx and 0 <= pt[1]+d[1] < self.ny] )\n",
    "        \n",
    "    def risk(self, pt):\n",
    "        return self.map[pt[1]][pt[0]]\n",
    "    \n",
    "    def estimate(self, pt):\n",
    "        return abs(self.ny-1 - pt[1]) + abs(self.nx-1 - pt[0])\n",
    "    \n",
    "class Point:\n",
    "    # tuple plus risk and estimated distance to end\n",
    "    def _init__(self, loc, risk_map):\n",
    "        self.loc = loc\n",
    "        self.risk = risk_map.risk( loc )\n",
    "        self.estimate = risk_map.estimate( loc )\n",
    "\n",
    "    def __getitem__(self, idx):\n",
    "        return self.loc[idx]\n",
    "    def __str__(self):\n",
    "        return str(self.loc[0]) + \":\" + str(self.loc[1])\n",
    "    def __repr__(self):\n",
    "        return str(self)\n",
    "    def __eq__(self, other):\n",
    "        return self.loc == other.loc\n",
    "    \n",
    "class Path:\n",
    "    # path is list of Points\n",
    "    def __init__(self, path, risk, estimate=0):\n",
    "        self.path = path\n",
    "        self.risk = risk\n",
    "        self.estimate = estimate\n",
    "        self.priority = risk + estimate\n",
    "    \n",
    "    def end(self):\n",
    "        return self.path[-1]\n",
    "    \n",
    "    def __str__(self):\n",
    "        return f\"\"\"{self.priority} = {self.risk} + {self.estimate}? [{\", \".join([str(x) for x in self.path])}]\"\"\"\n",
    "    def __repr__(self):\n",
    "        return str(self)\n",
    "    def __it__(self, other):\n",
    "        return self.priority < other.priority\n",
    "    def __add__(self, point):\n",
    "        return Path( self.path + [point], self.risk + point.risk, point.estimate )"
   ]
  },
  {
   "cell_type": "code",
   "execution_count": null,
   "metadata": {},
   "outputs": [],
   "source": [
    "def best_path( risk_map, start=(0,0) ):\n",
    "    start = Point(start, risk_map)\n",
    "    goal = Point( (risk_map.nx - 1, risk_map.ny - 1), risk_map )\n",
    "\n",
    "    # dict of reached locations with value == path risk to that point.\n",
    "    reached = { start.loc = 0 }\n",
    "\n",
    "    frontier = PriorityQueue()\n",
    "    frontier.put( Path([start], 0, start.estimate) )\n",
    "\n",
    "    while not frontier.empty():\n",
    "        cur = frontier.get()\n",
    "\n",
    "        # check all the neighboring points\n",
    "        neighbors = risk_map.neighbors( cur.end() )\n",
    "        for nn in neighbors:\n",
    "\n",
    "            if nn = goal:\n",
    "                # we did it!\n",
    "                return cur + nn\n",
    "            \n",
    "            nn_path_risk = cur.risk + nn\n",
    "\n",
    "            if nn.loc in reached.keys():\n",
    "                # We've been here before. Only explore neighbors\n",
    "                # if the current path beats the previous path\n",
    "                if nn_path_risk >= reached[nn.loc]:\n",
    "                    # old path is better. skip the rest of the loop\n",
    "                    continue\n",
    "\n",
    "            reached[nn.loc] = nn_path_risk\n",
    "            nn_path = cur + nn\n",
    "            frontier.put( nn_path )\n",
    "\n",
    "    # ruh-roh, we didn't make it\n",
    "    return None"
   ]
  },
  {
   "cell_type": "code",
   "execution_count": null,
   "metadata": {},
   "outputs": [],
   "source": [
    "test = RiskMap(test_mat)\n",
    "bp = best_path(test)\n",
    "bp"
   ]
  },
  {
   "cell_type": "code",
   "execution_count": null,
   "metadata": {},
   "outputs": [],
   "source": [
    "data = RiskMap(data_mat)\n",
    "bp = best_path(data)\n",
    "bp"
   ]
  },
  {
   "cell_type": "markdown",
   "metadata": {},
   "source": [
    "# Part 2\n",
    "\n",
    "expanding map!"
   ]
  },
  {
   "cell_type": "code",
   "execution_count": 1,
   "metadata": {},
   "outputs": [],
   "source": [
    "class RiskMapExpanded:\n",
    "    def __init__(self, mat, rep):\n",
    "        self.map = mat\n",
    "        self.tile_nx = len(mat[0])\n",
    "        self.tile_ny = len(mat)\n",
    "        self.nx = self.tile_nx * rep\n",
    "        self.ny = self.tile_ny * rep\n",
    "\n",
    "    def neighbors(self, pt):\n",
    "        x, y = pt[0], pt[1]\n",
    "        tilex = int(x / self.tile_nx)\n",
    "        tiley = int(y / self.tile_ny)\n",
    "\n",
    "        posx = x - tilex * self.tile_nx\n",
    "        posy = y - tiley * self.tile_ny\n",
    "\n",
    "        # each tile over or down increases risk by 1\n",
    "        risk = self.map[posy][posx] + tilex + tiley\n",
    "\n",
    "        # except that it wraps around from 10 ---> 1\n",
    "        return ((risk-1) % 9) + 1\n",
    "    \n",
    "    def estimate(self, pt):\n",
    "        return abs(self.ny-1 - pt[1]) + abs(self.nx-1 - pt[0])"
   ]
  },
  {
   "cell_type": "code",
   "execution_count": null,
   "metadata": {},
   "outputs": [],
   "source": [
    "test = RiskMapExpanded(test_mat, rep=5)\n",
    "bp = best_path(test)\n",
    "bp"
   ]
  },
  {
   "cell_type": "code",
   "execution_count": null,
   "metadata": {},
   "outputs": [],
   "source": [
    "data = RiskMap(data_mat, rep=5)\n",
    "bp = best_path(data)\n",
    "print(bp.risk)"
   ]
  }
 ],
 "metadata": {
  "kernelspec": {
   "display_name": "Python 3",
   "language": "python",
   "name": "python3"
  },
  "language_info": {
   "codemirror_mode": {
    "name": "ipython",
    "version": 3
   },
   "file_extension": ".py",
   "mimetype": "text/x-python",
   "name": "python",
   "nbconvert_exporter": "python",
   "pygments_lexer": "ipython3",
   "version": "3.11.9"
  },
  "orig_nbformat": 4
 },
 "nbformat": 4,
 "nbformat_minor": 2
}
