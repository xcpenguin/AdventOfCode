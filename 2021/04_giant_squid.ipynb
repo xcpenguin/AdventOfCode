{
 "cells": [
  {
   "attachments": {},
   "cell_type": "markdown",
   "metadata": {},
   "source": [
    "# December 04, 2021\n",
    "\n",
    "https://adventofcode.com/2021/day/4"
   ]
  },
  {
   "cell_type": "code",
   "execution_count": 1,
   "metadata": {},
   "outputs": [],
   "source": [
    "import pandas as pd\n",
    "import numpy as np"
   ]
  },
  {
   "cell_type": "markdown",
   "metadata": {},
   "source": [
    "# Read Data"
   ]
  },
  {
   "cell_type": "code",
   "execution_count": null,
   "metadata": {},
   "outputs": [],
   "source": [
    "balls = pd.read_csv(\"data/2021/04.txt\", sep=\",\", nrows=1, header=None)\n",
    "balls = list( balls.iloc[0] )"
   ]
  },
  {
   "cell_type": "code",
   "execution_count": null,
   "metadata": {},
   "outputs": [],
   "source": [
    "nlines = !wc data/2021/04.txt -l\n",
    "nlines = int( nlines[0].split(\" \")[0] )\n",
    "nboards = int( (nlines-1)/6 )"
   ]
  },
  {
   "cell_type": "code",
   "execution_count": null,
   "metadata": {},
   "outputs": [],
   "source": [
    "def read_boards():\n",
    "    boards = []\n",
    "    for i in range(nboards):\n",
    "        bd = pd.read_csv( \"data/2021/04.txt\", sep=\"\\s+\", nrows=5, header = None, skiprows = i*6+2, skip_blank_lines=False )\n",
    "        boards.append(bd)\n",
    "    return boards\n",
    "\n",
    "boards = read_boards()"
   ]
  },
  {
   "cell_type": "markdown",
   "metadata": {},
   "source": [
    "# Part 1"
   ]
  },
  {
   "cell_type": "code",
   "execution_count": 2,
   "metadata": {},
   "outputs": [],
   "source": [
    "# user 1000+num to indicate a found number.\n",
    "# victory means min in a row or col is 1000+\n",
    "# assumes all numbers between 0 and 999\n",
    "\n",
    "MARKER = 1000\n",
    "def call_num_board(bd, num):\n",
    "    nc = bd.shape[1]\n",
    "    for c in range(nc):\n",
    "        check = [r for r,x in enumerate(bd[c]) if x == num]\n",
    "        if len(check) > 0:\n",
    "            bd[c][check[0]] = MARKER + num\n",
    "            return bd, True\n",
    "\n",
    "    return bd, False\n",
    "\n",
    "def check_win_board(bd):\n",
    "    cond = max( bd.apply(min, axis=1).append(bd.apply(min, axis=0)) )\n",
    "    return cond >= MARKER\n",
    "\n",
    "def call_num(boards, num):\n",
    "    win = False\n",
    "    for bidx, bd in enumerate(boards):\n",
    "        bd, hit = call_num_board(bd, num)\n",
    "        if hit:\n",
    "            win = check_win_board(bd)\n",
    "            if win:\n",
    "                break\n",
    "\n",
    "    if win:\n",
    "        print(\"board\", bidx, \"wins!\")\n",
    "        display(bd)\n",
    "        return bidx\n",
    "    \n",
    "    return None\n",
    "\n",
    "def play_game(boards, balls):\n",
    "    for ball in balls:\n",
    "        #print(\"next ball:\", ball)\n",
    "        win_idx = call_num(boards, ball)\n",
    "        if win_idx is not None:\n",
    "            break\n",
    "\n",
    "    if win_idx is None:\n",
    "        print(\"no winner yet\")\n",
    "        return None\n",
    "    else:\n",
    "        print(\"wtg\", win_idx, \"!\")\n",
    "        return boards[win_idx], ball\n",
    "    \n",
    "def score_board( bd, ball ):\n",
    "    nums = bd.values.flatten().tolist()\n",
    "    return ball * sum( [x for x in nums if x < MARKER] )"
   ]
  },
  {
   "cell_type": "code",
   "execution_count": null,
   "metadata": {},
   "outputs": [],
   "source": [
    "boards = read_boards()\n",
    "winner, last_ball = play_game(boards, balls)"
   ]
  },
  {
   "cell_type": "code",
   "execution_count": null,
   "metadata": {},
   "outputs": [],
   "source": [
    "score_board( winner, last_ball )"
   ]
  },
  {
   "cell_type": "markdown",
   "metadata": {},
   "source": [
    "# Part 2"
   ]
  },
  {
   "cell_type": "code",
   "execution_count": null,
   "metadata": {},
   "outputs": [],
   "source": [
    "def call_num2(boards, num):\n",
    "    winners = []\n",
    "\n",
    "    for bidx, bd in enumerate(boards):\n",
    "        bd, hit = call_num_board(bd, num)\n",
    "\n",
    "        # check if the board wins\n",
    "        if hit:\n",
    "            if check_win_board(bd):\n",
    "                winners.append(bidx)\n",
    "\n",
    "    # return ids of all winners\n",
    "    return winners\n",
    "\n",
    "def find_loser(boards, balls):\n",
    "    for i , ball in enumerate(balls):\n",
    "        #print(\"next ball:\", ball)\n",
    "        winners = call_num2(boards, ball)\n",
    "\n",
    "        winners.sort(reverse=True)\n",
    "        for bidx in winners:\n",
    "            del boards[bidx]\n",
    "\n",
    "        if len(boards) == 0:\n",
    "            return boards, i\n",
    "        \n",
    "        assert len(boards) > 0, \"tie for worst?!\"\n",
    "\n",
    "    print(\"what happened?\")\n",
    "    return None, None\n",
    "\n",
    "def score_board( bd, ball ):\n",
    "    nums = bd.values.flatten().tolist()\n",
    "    return ball * sum( [x for x in nums if x < MARKER] )"
   ]
  },
  {
   "cell_type": "code",
   "execution_count": null,
   "metadata": {},
   "outputs": [],
   "source": [
    "boards = read_boards()\n",
    "loser, ball_id = find_loser(boards, balls)"
   ]
  },
  {
   "cell_type": "code",
   "execution_count": null,
   "metadata": {},
   "outputs": [],
   "source": [
    "loser[0]"
   ]
  },
  {
   "cell_type": "code",
   "execution_count": null,
   "metadata": {},
   "outputs": [],
   "source": [
    "loser, last_ball = play_game( loser, balls[(ball_id+1):] )"
   ]
  },
  {
   "cell_type": "code",
   "execution_count": null,
   "metadata": {},
   "outputs": [],
   "source": [
    "score_board(loser, last_ball)"
   ]
  },
  {
   "cell_type": "code",
   "execution_count": null,
   "metadata": {},
   "outputs": [],
   "source": [
    "42+98+20+81+61+56"
   ]
  },
  {
   "cell_type": "code",
   "execution_count": null,
   "metadata": {},
   "outputs": [],
   "source": [
    "358*97"
   ]
  }
 ],
 "metadata": {
  "kernelspec": {
   "display_name": "Python 3",
   "language": "python",
   "name": "python3"
  },
  "language_info": {
   "codemirror_mode": {
    "name": "ipython",
    "version": 3
   },
   "file_extension": ".py",
   "mimetype": "text/x-python",
   "name": "python",
   "nbconvert_exporter": "python",
   "pygments_lexer": "ipython3",
   "version": "3.11.9"
  },
  "orig_nbformat": 4
 },
 "nbformat": 4,
 "nbformat_minor": 2
}
