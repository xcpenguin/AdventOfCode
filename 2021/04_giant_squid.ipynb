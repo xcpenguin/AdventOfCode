{
 "cells": [
  {
   "attachments": {},
   "cell_type": "markdown",
   "metadata": {},
   "source": [
    "# December 04, 2021\n",
    "\n",
    "https://adventofcode.com/2021/day/4"
   ]
  },
  {
   "cell_type": "code",
   "execution_count": 1,
   "metadata": {},
   "outputs": [],
   "source": [
    "import pandas as pd\n",
    "import numpy as np"
   ]
  },
  {
   "cell_type": "code",
   "execution_count": 2,
   "metadata": {},
   "outputs": [
    {
     "data": {
      "text/plain": [
       "'1.26.4'"
      ]
     },
     "execution_count": 2,
     "metadata": {},
     "output_type": "execute_result"
    }
   ],
   "source": [
    "np.__version__"
   ]
  },
  {
   "cell_type": "markdown",
   "metadata": {},
   "source": [
    "# Read Data"
   ]
  },
  {
   "cell_type": "code",
   "execution_count": 3,
   "metadata": {},
   "outputs": [],
   "source": [
    "balls = pd.read_csv(\"../data/2021/04.txt\", sep=\",\", nrows=1, header=None)\n",
    "balls = list( balls.iloc[0] )"
   ]
  },
  {
   "cell_type": "code",
   "execution_count": 4,
   "metadata": {},
   "outputs": [],
   "source": [
    "with open(\"../data/2021/04.txt\", \"r\") as f:\n",
    "    data = f.read()\n",
    "\n",
    "nlines = len(data.split(\"\\n\"))\n",
    "nboards = int( (nlines-1)/6 )"
   ]
  },
  {
   "cell_type": "code",
   "execution_count": 5,
   "metadata": {},
   "outputs": [
    {
     "data": {
      "text/plain": [
       "100"
      ]
     },
     "execution_count": 5,
     "metadata": {},
     "output_type": "execute_result"
    }
   ],
   "source": [
    "nboards"
   ]
  },
  {
   "cell_type": "code",
   "execution_count": 6,
   "metadata": {},
   "outputs": [],
   "source": [
    "def read_boards():\n",
    "    boards = []\n",
    "    for i in range(nboards):\n",
    "        bd = pd.read_csv( \"../data/2021/04.txt\", sep=\"\\s+\", nrows=5, header = None, skiprows = i*6+2, skip_blank_lines=False )\n",
    "        boards.append(bd)\n",
    "    return boards\n",
    "\n",
    "boards = read_boards()"
   ]
  },
  {
   "cell_type": "markdown",
   "metadata": {},
   "source": [
    "# Part 1"
   ]
  },
  {
   "cell_type": "code",
   "execution_count": 7,
   "metadata": {},
   "outputs": [
    {
     "data": {
      "text/html": [
       "<div>\n",
       "<style scoped>\n",
       "    .dataframe tbody tr th:only-of-type {\n",
       "        vertical-align: middle;\n",
       "    }\n",
       "\n",
       "    .dataframe tbody tr th {\n",
       "        vertical-align: top;\n",
       "    }\n",
       "\n",
       "    .dataframe thead th {\n",
       "        text-align: right;\n",
       "    }\n",
       "</style>\n",
       "<table border=\"1\" class=\"dataframe\">\n",
       "  <thead>\n",
       "    <tr style=\"text-align: right;\">\n",
       "      <th></th>\n",
       "      <th>0</th>\n",
       "      <th>1</th>\n",
       "      <th>2</th>\n",
       "      <th>3</th>\n",
       "      <th>4</th>\n",
       "    </tr>\n",
       "  </thead>\n",
       "  <tbody>\n",
       "    <tr>\n",
       "      <th>0</th>\n",
       "      <td>22</td>\n",
       "      <td>59</td>\n",
       "      <td>7</td>\n",
       "      <td>10</td>\n",
       "      <td>6</td>\n",
       "    </tr>\n",
       "    <tr>\n",
       "      <th>1</th>\n",
       "      <td>33</td>\n",
       "      <td>36</td>\n",
       "      <td>96</td>\n",
       "      <td>55</td>\n",
       "      <td>23</td>\n",
       "    </tr>\n",
       "    <tr>\n",
       "      <th>2</th>\n",
       "      <td>13</td>\n",
       "      <td>85</td>\n",
       "      <td>18</td>\n",
       "      <td>29</td>\n",
       "      <td>28</td>\n",
       "    </tr>\n",
       "    <tr>\n",
       "      <th>3</th>\n",
       "      <td>75</td>\n",
       "      <td>46</td>\n",
       "      <td>83</td>\n",
       "      <td>73</td>\n",
       "      <td>58</td>\n",
       "    </tr>\n",
       "    <tr>\n",
       "      <th>4</th>\n",
       "      <td>34</td>\n",
       "      <td>40</td>\n",
       "      <td>87</td>\n",
       "      <td>56</td>\n",
       "      <td>98</td>\n",
       "    </tr>\n",
       "  </tbody>\n",
       "</table>\n",
       "</div>"
      ],
      "text/plain": [
       "    0   1   2   3   4\n",
       "0  22  59   7  10   6\n",
       "1  33  36  96  55  23\n",
       "2  13  85  18  29  28\n",
       "3  75  46  83  73  58\n",
       "4  34  40  87  56  98"
      ]
     },
     "execution_count": 7,
     "metadata": {},
     "output_type": "execute_result"
    }
   ],
   "source": [
    "boards[0]"
   ]
  },
  {
   "cell_type": "code",
   "execution_count": 8,
   "metadata": {},
   "outputs": [
    {
     "data": {
      "text/plain": [
       "0     6\n",
       "1    23\n",
       "2    13\n",
       "3    46\n",
       "4    34\n",
       "0    13\n",
       "1    36\n",
       "2     7\n",
       "3    10\n",
       "4     6\n",
       "dtype: int64"
      ]
     },
     "execution_count": 8,
     "metadata": {},
     "output_type": "execute_result"
    }
   ],
   "source": [
    "bd = boards[0]\n",
    "pd.concat( [bd.apply(min, axis=1), bd.apply(min, axis=0)] )"
   ]
  },
  {
   "cell_type": "code",
   "execution_count": 9,
   "metadata": {},
   "outputs": [
    {
     "data": {
      "text/plain": [
       "'2.2.1'"
      ]
     },
     "execution_count": 9,
     "metadata": {},
     "output_type": "execute_result"
    }
   ],
   "source": [
    "pd.__version__"
   ]
  },
  {
   "cell_type": "code",
   "execution_count": 10,
   "metadata": {},
   "outputs": [],
   "source": [
    "# user 1000+num to indicate a found number.\n",
    "# victory means min in a row or col is 1000+\n",
    "# assumes all numbers between 0 and 999\n",
    "\n",
    "MARKER = 1000\n",
    "def call_num_board(bd, num):\n",
    "    nc = bd.shape[1]\n",
    "    for c in range(nc):\n",
    "        check = [r for r,x in enumerate(bd[c]) if x == num]\n",
    "        if len(check) > 0:\n",
    "            bd.iloc[check[0], c] = MARKER + num\n",
    "            exit\n",
    "            return bd, True\n",
    "\n",
    "    return bd, False\n",
    "\n",
    "def check_win_board(bd):\n",
    "    # get the min value for each row and for each column\n",
    "    # if at least one min >= MARKER, then that row/col wins\n",
    "    cond = max( pd.concat( [bd.apply(min, axis=1), bd.apply(min, axis=0)] ) )\n",
    "    return cond >= MARKER\n",
    "\n",
    "def call_num(boards, num):\n",
    "    win = False\n",
    "    for bidx, bd in enumerate(boards):\n",
    "        bd, hit = call_num_board(bd, num)\n",
    "        if hit:\n",
    "            win = check_win_board(bd)\n",
    "            if win:\n",
    "                break\n",
    "\n",
    "    if win:\n",
    "        print(\"board\", bidx, \"wins!\")\n",
    "        display(bd)\n",
    "        return bidx\n",
    "    \n",
    "    return None\n",
    "\n",
    "def play_game(boards, balls):\n",
    "    for ball in balls:\n",
    "        #print(\"next ball:\", ball)\n",
    "        win_idx = call_num(boards, ball)\n",
    "        if win_idx is not None:\n",
    "            break\n",
    "\n",
    "    if win_idx is None:\n",
    "        print(\"no winner yet\")\n",
    "        return None\n",
    "    else:\n",
    "        print(\"wtg\", win_idx, \"!\")\n",
    "        return boards[win_idx], ball\n",
    "    \n",
    "def score_board( bd, ball ):\n",
    "    nums = bd.values.flatten().tolist()\n",
    "    return ball * sum( [x for x in nums if x < MARKER] )"
   ]
  },
  {
   "cell_type": "code",
   "execution_count": 11,
   "metadata": {},
   "outputs": [
    {
     "name": "stdout",
     "output_type": "stream",
     "text": [
      "board 69 wins!\n"
     ]
    },
    {
     "data": {
      "text/html": [
       "<div>\n",
       "<style scoped>\n",
       "    .dataframe tbody tr th:only-of-type {\n",
       "        vertical-align: middle;\n",
       "    }\n",
       "\n",
       "    .dataframe tbody tr th {\n",
       "        vertical-align: top;\n",
       "    }\n",
       "\n",
       "    .dataframe thead th {\n",
       "        text-align: right;\n",
       "    }\n",
       "</style>\n",
       "<table border=\"1\" class=\"dataframe\">\n",
       "  <thead>\n",
       "    <tr style=\"text-align: right;\">\n",
       "      <th></th>\n",
       "      <th>0</th>\n",
       "      <th>1</th>\n",
       "      <th>2</th>\n",
       "      <th>3</th>\n",
       "      <th>4</th>\n",
       "    </tr>\n",
       "  </thead>\n",
       "  <tbody>\n",
       "    <tr>\n",
       "      <th>0</th>\n",
       "      <td>51</td>\n",
       "      <td>1000</td>\n",
       "      <td>14</td>\n",
       "      <td>7</td>\n",
       "      <td>1053</td>\n",
       "    </tr>\n",
       "    <tr>\n",
       "      <th>1</th>\n",
       "      <td>63</td>\n",
       "      <td>1036</td>\n",
       "      <td>1048</td>\n",
       "      <td>81</td>\n",
       "      <td>1084</td>\n",
       "    </tr>\n",
       "    <tr>\n",
       "      <th>2</th>\n",
       "      <td>1050</td>\n",
       "      <td>22</td>\n",
       "      <td>11</td>\n",
       "      <td>88</td>\n",
       "      <td>1006</td>\n",
       "    </tr>\n",
       "    <tr>\n",
       "      <th>3</th>\n",
       "      <td>83</td>\n",
       "      <td>99</td>\n",
       "      <td>21</td>\n",
       "      <td>31</td>\n",
       "      <td>1091</td>\n",
       "    </tr>\n",
       "    <tr>\n",
       "      <th>4</th>\n",
       "      <td>86</td>\n",
       "      <td>17</td>\n",
       "      <td>72</td>\n",
       "      <td>42</td>\n",
       "      <td>1094</td>\n",
       "    </tr>\n",
       "  </tbody>\n",
       "</table>\n",
       "</div>"
      ],
      "text/plain": [
       "      0     1     2   3     4\n",
       "0    51  1000    14   7  1053\n",
       "1    63  1036  1048  81  1084\n",
       "2  1050    22    11  88  1006\n",
       "3    83    99    21  31  1091\n",
       "4    86    17    72  42  1094"
      ]
     },
     "metadata": {},
     "output_type": "display_data"
    },
    {
     "name": "stdout",
     "output_type": "stream",
     "text": [
      "wtg 69 !\n"
     ]
    }
   ],
   "source": [
    "boards = read_boards()\n",
    "winner, last_ball = play_game(boards, balls)"
   ]
  },
  {
   "cell_type": "code",
   "execution_count": 12,
   "metadata": {},
   "outputs": [
    {
     "data": {
      "text/plain": [
       "71708"
      ]
     },
     "execution_count": 12,
     "metadata": {},
     "output_type": "execute_result"
    }
   ],
   "source": [
    "score_board( winner, last_ball )"
   ]
  },
  {
   "cell_type": "markdown",
   "metadata": {},
   "source": [
    "# Part 2"
   ]
  },
  {
   "cell_type": "code",
   "execution_count": 13,
   "metadata": {},
   "outputs": [],
   "source": [
    "def call_num2(boards, num):\n",
    "    winners = []\n",
    "\n",
    "    for bidx, bd in enumerate(boards):\n",
    "        bd, hit = call_num_board(bd, num)\n",
    "\n",
    "        # check if the board wins\n",
    "        if hit:\n",
    "            if check_win_board(bd):\n",
    "                winners.append(bidx)\n",
    "\n",
    "    # return ids of all winners\n",
    "    return winners\n",
    "\n",
    "def find_loser(boards, balls):\n",
    "    for i , ball in enumerate(balls):\n",
    "        #print(\"next ball:\", ball)\n",
    "        winners = call_num2(boards, ball)\n",
    "\n",
    "        winners.sort(reverse=True)\n",
    "        for bidx in winners:\n",
    "            del boards[bidx]\n",
    "\n",
    "        if len(boards) == 1:\n",
    "            return boards, i\n",
    "        \n",
    "        assert len(boards) > 0, \"tie for worst?!\"\n",
    "\n",
    "    print(\"what happened?\")\n",
    "    return None, None\n",
    "\n",
    "def score_board( bd, ball ):\n",
    "    nums = bd.values.flatten().tolist()\n",
    "    return ball * sum( [x for x in nums if x < MARKER] )"
   ]
  },
  {
   "cell_type": "code",
   "execution_count": 14,
   "metadata": {},
   "outputs": [],
   "source": [
    "boards = read_boards()\n",
    "loser, ball_id = find_loser(boards, balls)"
   ]
  },
  {
   "cell_type": "code",
   "execution_count": 15,
   "metadata": {},
   "outputs": [
    {
     "data": {
      "text/plain": [
       "[      0     1     2     3     4\n",
       " 0  1021    97    92    42  1060\n",
       " 1  1011  1065    98  1095  1029\n",
       " 2     2  1049  1075    20  1074\n",
       " 3    56  1040  1078  1066    81\n",
       " 4  1068  1004  1046  1077    61]"
      ]
     },
     "execution_count": 15,
     "metadata": {},
     "output_type": "execute_result"
    }
   ],
   "source": [
    "loser"
   ]
  },
  {
   "cell_type": "code",
   "execution_count": 16,
   "metadata": {},
   "outputs": [
    {
     "data": {
      "text/html": [
       "<div>\n",
       "<style scoped>\n",
       "    .dataframe tbody tr th:only-of-type {\n",
       "        vertical-align: middle;\n",
       "    }\n",
       "\n",
       "    .dataframe tbody tr th {\n",
       "        vertical-align: top;\n",
       "    }\n",
       "\n",
       "    .dataframe thead th {\n",
       "        text-align: right;\n",
       "    }\n",
       "</style>\n",
       "<table border=\"1\" class=\"dataframe\">\n",
       "  <thead>\n",
       "    <tr style=\"text-align: right;\">\n",
       "      <th></th>\n",
       "      <th>0</th>\n",
       "      <th>1</th>\n",
       "      <th>2</th>\n",
       "      <th>3</th>\n",
       "      <th>4</th>\n",
       "    </tr>\n",
       "  </thead>\n",
       "  <tbody>\n",
       "    <tr>\n",
       "      <th>0</th>\n",
       "      <td>1021</td>\n",
       "      <td>97</td>\n",
       "      <td>92</td>\n",
       "      <td>42</td>\n",
       "      <td>1060</td>\n",
       "    </tr>\n",
       "    <tr>\n",
       "      <th>1</th>\n",
       "      <td>1011</td>\n",
       "      <td>1065</td>\n",
       "      <td>98</td>\n",
       "      <td>1095</td>\n",
       "      <td>1029</td>\n",
       "    </tr>\n",
       "    <tr>\n",
       "      <th>2</th>\n",
       "      <td>2</td>\n",
       "      <td>1049</td>\n",
       "      <td>1075</td>\n",
       "      <td>20</td>\n",
       "      <td>1074</td>\n",
       "    </tr>\n",
       "    <tr>\n",
       "      <th>3</th>\n",
       "      <td>56</td>\n",
       "      <td>1040</td>\n",
       "      <td>1078</td>\n",
       "      <td>1066</td>\n",
       "      <td>81</td>\n",
       "    </tr>\n",
       "    <tr>\n",
       "      <th>4</th>\n",
       "      <td>1068</td>\n",
       "      <td>1004</td>\n",
       "      <td>1046</td>\n",
       "      <td>1077</td>\n",
       "      <td>61</td>\n",
       "    </tr>\n",
       "  </tbody>\n",
       "</table>\n",
       "</div>"
      ],
      "text/plain": [
       "      0     1     2     3     4\n",
       "0  1021    97    92    42  1060\n",
       "1  1011  1065    98  1095  1029\n",
       "2     2  1049  1075    20  1074\n",
       "3    56  1040  1078  1066    81\n",
       "4  1068  1004  1046  1077    61"
      ]
     },
     "execution_count": 16,
     "metadata": {},
     "output_type": "execute_result"
    }
   ],
   "source": [
    "loser[0]"
   ]
  },
  {
   "cell_type": "code",
   "execution_count": 17,
   "metadata": {},
   "outputs": [
    {
     "name": "stdout",
     "output_type": "stream",
     "text": [
      "board 0 wins!\n"
     ]
    },
    {
     "data": {
      "text/html": [
       "<div>\n",
       "<style scoped>\n",
       "    .dataframe tbody tr th:only-of-type {\n",
       "        vertical-align: middle;\n",
       "    }\n",
       "\n",
       "    .dataframe tbody tr th {\n",
       "        vertical-align: top;\n",
       "    }\n",
       "\n",
       "    .dataframe thead th {\n",
       "        text-align: right;\n",
       "    }\n",
       "</style>\n",
       "<table border=\"1\" class=\"dataframe\">\n",
       "  <thead>\n",
       "    <tr style=\"text-align: right;\">\n",
       "      <th></th>\n",
       "      <th>0</th>\n",
       "      <th>1</th>\n",
       "      <th>2</th>\n",
       "      <th>3</th>\n",
       "      <th>4</th>\n",
       "    </tr>\n",
       "  </thead>\n",
       "  <tbody>\n",
       "    <tr>\n",
       "      <th>0</th>\n",
       "      <td>1021</td>\n",
       "      <td>1097</td>\n",
       "      <td>1092</td>\n",
       "      <td>42</td>\n",
       "      <td>1060</td>\n",
       "    </tr>\n",
       "    <tr>\n",
       "      <th>1</th>\n",
       "      <td>1011</td>\n",
       "      <td>1065</td>\n",
       "      <td>98</td>\n",
       "      <td>1095</td>\n",
       "      <td>1029</td>\n",
       "    </tr>\n",
       "    <tr>\n",
       "      <th>2</th>\n",
       "      <td>1002</td>\n",
       "      <td>1049</td>\n",
       "      <td>1075</td>\n",
       "      <td>20</td>\n",
       "      <td>1074</td>\n",
       "    </tr>\n",
       "    <tr>\n",
       "      <th>3</th>\n",
       "      <td>56</td>\n",
       "      <td>1040</td>\n",
       "      <td>1078</td>\n",
       "      <td>1066</td>\n",
       "      <td>81</td>\n",
       "    </tr>\n",
       "    <tr>\n",
       "      <th>4</th>\n",
       "      <td>1068</td>\n",
       "      <td>1004</td>\n",
       "      <td>1046</td>\n",
       "      <td>1077</td>\n",
       "      <td>61</td>\n",
       "    </tr>\n",
       "  </tbody>\n",
       "</table>\n",
       "</div>"
      ],
      "text/plain": [
       "      0     1     2     3     4\n",
       "0  1021  1097  1092    42  1060\n",
       "1  1011  1065    98  1095  1029\n",
       "2  1002  1049  1075    20  1074\n",
       "3    56  1040  1078  1066    81\n",
       "4  1068  1004  1046  1077    61"
      ]
     },
     "metadata": {},
     "output_type": "display_data"
    },
    {
     "name": "stdout",
     "output_type": "stream",
     "text": [
      "wtg 0 !\n"
     ]
    }
   ],
   "source": [
    "loser, last_ball = play_game( loser, balls[(ball_id+1):] )"
   ]
  },
  {
   "cell_type": "code",
   "execution_count": 18,
   "metadata": {},
   "outputs": [
    {
     "data": {
      "text/plain": [
       "34726"
      ]
     },
     "execution_count": 18,
     "metadata": {},
     "output_type": "execute_result"
    }
   ],
   "source": [
    "score_board(loser, last_ball)"
   ]
  },
  {
   "cell_type": "code",
   "execution_count": 19,
   "metadata": {},
   "outputs": [
    {
     "data": {
      "text/plain": [
       "358"
      ]
     },
     "execution_count": 19,
     "metadata": {},
     "output_type": "execute_result"
    }
   ],
   "source": [
    "42+98+20+81+61+56"
   ]
  },
  {
   "cell_type": "code",
   "execution_count": 20,
   "metadata": {},
   "outputs": [
    {
     "data": {
      "text/plain": [
       "34726"
      ]
     },
     "execution_count": 20,
     "metadata": {},
     "output_type": "execute_result"
    }
   ],
   "source": [
    "358*97"
   ]
  }
 ],
 "metadata": {
  "kernelspec": {
   "display_name": "Python 3",
   "language": "python",
   "name": "python3"
  },
  "language_info": {
   "codemirror_mode": {
    "name": "ipython",
    "version": 3
   },
   "file_extension": ".py",
   "mimetype": "text/x-python",
   "name": "python",
   "nbconvert_exporter": "python",
   "pygments_lexer": "ipython3",
   "version": "3.11.9"
  },
  "orig_nbformat": 4
 },
 "nbformat": 4,
 "nbformat_minor": 2
}
