{
 "cells": [
  {
   "attachments": {},
   "cell_type": "markdown",
   "metadata": {},
   "source": [
    "# December 11, 2021\n",
    "\n",
    "https://adventofcode.com/2021/day/11"
   ]
  },
  {
   "cell_type": "code",
   "execution_count": 1,
   "metadata": {},
   "outputs": [],
   "source": [
    "import pandas as pd\n",
    "import numpy as np\n",
    "from collections import deque"
   ]
  },
  {
   "cell_type": "code",
   "execution_count": null,
   "metadata": {},
   "outputs": [],
   "source": [
    "def format_data( data ):\n",
    "    lines = data.split(\"\\n\")\n",
    "    return [ [int(x) for x in line] for line in lines ]\n",
    "\n",
    "def deep_copy( data ):\n",
    "    return [ [x for x in line] for line in data ]"
   ]
  },
  {
   "cell_type": "code",
   "execution_count": null,
   "metadata": {},
   "outputs": [],
   "source": [
    "with open(\"data/2021/11.txt\", \"r\") as f:\n",
    "    data_str = f.read()\n",
    "data = format_data( data_str )"
   ]
  },
  {
   "cell_type": "code",
   "execution_count": null,
   "metadata": {},
   "outputs": [],
   "source": [
    "test_str = '''5483143223\n",
    "2745854711\n",
    "5264556173\n",
    "6141336146\n",
    "6357385478\n",
    "4167524645\n",
    "2176841721\n",
    "6882881134\n",
    "4846848554\n",
    "5283751526'''\n",
    "\n",
    "test = format_data(test_str)\n",
    "test"
   ]
  },
  {
   "cell_type": "markdown",
   "metadata": {},
   "source": [
    "# Part 1"
   ]
  },
  {
   "cell_type": "code",
   "execution_count": null,
   "metadata": {},
   "outputs": [],
   "source": [
    "def increment( data ):\n",
    "\n",
    "    for x in range(len(data[0])):\n",
    "        for y in range(len(data)):\n",
    "            data = absorb_light( data, x, y )\n",
    "\n",
    "    # reset dumbo octopuses that flashed\n",
    "    flashes = 0\n",
    "    for x in range(len(data[0])):\n",
    "        for y in range(len(data)):\n",
    "            if data[y][x] > 9:\n",
    "                data[y][x] = 0\n",
    "                flashes += 1\n",
    "\n",
    "    return data, flashes\n",
    "\n",
    "# increase energy by 1 unit if not already flashed\n",
    "# if energy increases to 10, then flash\n",
    "def absorb_light( data, x, y ):\n",
    "    if data[y][x] < 10:\n",
    "        data[y][x] += 1\n",
    "        if data[y][x] == 10\n",
    "            data = flash_all(data, x, y)\n",
    "    return data\n",
    "\n",
    "# flash in all directions\n",
    "def flash_all( dtaa, x, y ):\n",
    "    for xdir in [-1,0,1]:\n",
    "        for ydir in [-1,0,1]:\n",
    "            # don't flash yourself!\n",
    "            if xdir != 0 or ydir != 0:\n",
    "                xpos = x + xdir\n",
    "                ypos = y + ydir\n",
    "                # if direction is in bounds, then that pos absorbs light\n",
    "                if xpos >= 0 and xpos < len(data[0]) and ypos >= 0 and ypos < len(data):\n",
    "                    data = absorb_light( data, xpos, ypos )\n",
    "\n",
    "    return data"
   ]
  },
  {
   "cell_type": "code",
   "execution_count": null,
   "metadata": {},
   "outputs": [],
   "source": [
    "test"
   ]
  },
  {
   "cell_type": "code",
   "execution_count": null,
   "metadata": {},
   "outputs": [],
   "source": [
    "d = deep_copy(test)\n",
    "tot_flash = 0\n",
    "for i in range(100):\n",
    "    d, f = increment(d)\n",
    "    tot_flash += f\n",
    "\n",
    "tot_flash"
   ]
  },
  {
   "cell_type": "code",
   "execution_count": null,
   "metadata": {},
   "outputs": [],
   "source": [
    "d = deep_copy(data)\n",
    "tot_flash = 0\n",
    "for i in range(100):\n",
    "    d, f = increment(d)\n",
    "    tot_flash += f\n",
    "\n",
    "tot_flash"
   ]
  },
  {
   "cell_type": "markdown",
   "metadata": {},
   "source": [
    "# Part 2"
   ]
  },
  {
   "cell_type": "code",
   "execution_count": null,
   "metadata": {},
   "outputs": [],
   "source": [
    "d = deep_copy(test)\n",
    "turn = 0\n",
    "tot_flash = 0\n",
    "all_flash = False\n",
    "numbo_octopuses = len(d) * len(d[0])\n",
    "\n",
    "while not all_flash:\n",
    "    turn += 1\n",
    "    d,f = increment(d)\n",
    "    tot_flash += f\n",
    "    if f == numbo_octopuses:\n",
    "        all_flash = True\n",
    "\n",
    "turn"
   ]
  },
  {
   "cell_type": "code",
   "execution_count": null,
   "metadata": {},
   "outputs": [],
   "source": [
    "d = deep_copy(data)\n",
    "turn = 0\n",
    "tot_flash = 0\n",
    "all_flash = False\n",
    "numbo_octopuses = len(d) * len(d[0])\n",
    "\n",
    "while not all_flash:\n",
    "    turn += 1\n",
    "    d,f = increment(d)\n",
    "    tot_flash += f\n",
    "    if f == numbo_octopuses:\n",
    "        all_flash = True\n",
    "\n",
    "turn"
   ]
  }
 ],
 "metadata": {
  "kernelspec": {
   "display_name": "Python 3",
   "language": "python",
   "name": "python3"
  },
  "language_info": {
   "codemirror_mode": {
    "name": "ipython",
    "version": 3
   },
   "file_extension": ".py",
   "mimetype": "text/x-python",
   "name": "python",
   "nbconvert_exporter": "python",
   "pygments_lexer": "ipython3",
   "version": "3.11.9"
  },
  "orig_nbformat": 4
 },
 "nbformat": 4,
 "nbformat_minor": 2
}
