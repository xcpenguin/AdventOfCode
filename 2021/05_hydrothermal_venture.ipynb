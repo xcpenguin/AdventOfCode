{
 "cells": [
  {
   "attachments": {},
   "cell_type": "markdown",
   "metadata": {},
   "source": [
    "# December 05, 2021\n",
    "\n",
    "https://adventofcode.com/2021/day/5"
   ]
  },
  {
   "cell_type": "code",
   "execution_count": 1,
   "metadata": {},
   "outputs": [],
   "source": [
    "import pandas as pd\n",
    "import numpy as np\n",
    "import re\n",
    "from collections import defaultdict"
   ]
  },
  {
   "cell_type": "markdown",
   "metadata": {},
   "source": [
    "# Read Data"
   ]
  },
  {
   "cell_type": "code",
   "execution_count": null,
   "metadata": {},
   "outputs": [],
   "source": [
    "df = pd.read_csv(\"data/2021/05.txt\", names=[\"line\"], sep=\"\\n\")"
   ]
  },
  {
   "cell_type": "code",
   "execution_count": null,
   "metadata": {},
   "outputs": [],
   "source": [
    "df[[\"x1\", \"y1\", \"x2\", \"y2\"]] = df.apply( lambda x: [int(d) for d in re.findall(\"\\d+\", x[\"line\"])]\n",
    "                                        , axis=1, result_type=\"expand\")"
   ]
  },
  {
   "cell_type": "markdown",
   "metadata": {},
   "source": [
    "# Part 1\n",
    "Plot horizontal and vertical lines"
   ]
  },
  {
   "cell_type": "code",
   "execution_count": 2,
   "metadata": {},
   "outputs": [],
   "source": [
    "def plot_line( vents, coords ):\n",
    "    x1 = min(coords[\"x1\"], coords[\"x2\"])\n",
    "    x2 = max(coords[\"x1\"], coords[\"x2\"])\n",
    "    y1 = min(coords[\"y1\"], coords[\"y2\"])\n",
    "    y2 = max(coords[\"y1\"], coords[\"y2\"])\n",
    "\n",
    "    if x1 == x2:\n",
    "        for y in range(y1, y2+1):\n",
    "            vents[(x1, y)] += 1\n",
    "    elif y1 == y2:\n",
    "        for x in range(x1, x2+1):\n",
    "            vents[(x, y1)] += 1\n",
    "\n",
    "    return vents\n",
    "\n",
    "def plot_data( df ):\n",
    "    vents = defaultdict(lambda:0)\n",
    "\n",
    "    for coords in df.iterrows():\n",
    "        vents = plot_line( vents, coords[1] )\n",
    "\n",
    "    return vents"
   ]
  },
  {
   "cell_type": "code",
   "execution_count": null,
   "metadata": {},
   "outputs": [],
   "source": [
    "vents = plot_data( df )"
   ]
  },
  {
   "cell_type": "code",
   "execution_count": null,
   "metadata": {},
   "outputs": [],
   "source": [
    "sum( [1 for cnt in vents.values() if cnt >= 2] )"
   ]
  },
  {
   "cell_type": "markdown",
   "metadata": {},
   "source": [
    "# Part 2\n",
    "Include diagonals now"
   ]
  },
  {
   "cell_type": "code",
   "execution_count": null,
   "metadata": {},
   "outputs": [],
   "source": [
    "def plot_line( vents, coords ):\n",
    "    dx = coords[\"x2\"] - coords[\"x1\"]\n",
    "    dy = coords[\"y2\"] - coords[\"y1\"]\n",
    "\n",
    "    dirx = np.sign(dx)\n",
    "    diry = np.sign(dy)\n",
    "\n",
    "    dmax = max( abs(dx), abs(dy) )\n",
    "    for d in range(0, dmax+1):\n",
    "        vents[ (coords[\"x1\"] + dirx*d, coords[\"y1\"] + diry*d) ] += 1\n",
    "\n",
    "    return vents"
   ]
  },
  {
   "cell_type": "code",
   "execution_count": null,
   "metadata": {},
   "outputs": [],
   "source": [
    "vents = plot_data( df )"
   ]
  },
  {
   "cell_type": "code",
   "execution_count": null,
   "metadata": {},
   "outputs": [],
   "source": [
    "sum( [1 for cnt in vents.values() if cnt >= 2] )"
   ]
  }
 ],
 "metadata": {
  "kernelspec": {
   "display_name": "Python 3",
   "language": "python",
   "name": "python3"
  },
  "language_info": {
   "codemirror_mode": {
    "name": "ipython",
    "version": 3
   },
   "file_extension": ".py",
   "mimetype": "text/x-python",
   "name": "python",
   "nbconvert_exporter": "python",
   "pygments_lexer": "ipython3",
   "version": "3.11.9"
  },
  "orig_nbformat": 4
 },
 "nbformat": 4,
 "nbformat_minor": 2
}
