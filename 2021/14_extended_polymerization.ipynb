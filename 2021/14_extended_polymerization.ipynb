{
 "cells": [
  {
   "attachments": {},
   "cell_type": "markdown",
   "metadata": {},
   "source": [
    "# December 14, 2021\n",
    "\n",
    "https://adventofcode.com/2021/day/14"
   ]
  },
  {
   "cell_type": "code",
   "execution_count": 1,
   "metadata": {},
   "outputs": [],
   "source": [
    "import pandas as pd\n",
    "import numpy as np\n",
    "from collections import defaultdict, deque"
   ]
  },
  {
   "cell_type": "code",
   "execution_count": null,
   "metadata": {},
   "outputs": [],
   "source": [
    "def format_data( data_str ):\n",
    "    poly, ins = data_str.split(\"\\n\\n\")\n",
    "    ins = [x.splot(\" -> \") for x in ins.split(\"\\n\")]\n",
    "    return {\"polymer\":poly, \"insertions\":ins}"
   ]
  },
  {
   "cell_type": "code",
   "execution_count": null,
   "metadata": {},
   "outputs": [],
   "source": [
    "with open(\"data/2021/14.txt\", \"r\") as f:\n",
    "    data_str = f.read()\n",
    "data = format_data( data_str )"
   ]
  },
  {
   "cell_type": "code",
   "execution_count": null,
   "metadata": {},
   "outputs": [],
   "source": [
    "test_str = '''NNCB\n",
    "\n",
    "CH -> B\n",
    "HH -> N\n",
    "CB -> H\n",
    "NH -> C\n",
    "HB -> C\n",
    "HC -> B\n",
    "HN -> C\n",
    "NN -> C\n",
    "BH -> H\n",
    "NC -> B\n",
    "NB -> B\n",
    "BN -> B\n",
    "BB -> N\n",
    "BC -> B\n",
    "CC -> N\n",
    "CN -> C'''\n",
    "\n",
    "test = format_data( test_str )\n",
    "test"
   ]
  },
  {
   "cell_type": "code",
   "execution_count": null,
   "metadata": {},
   "outputs": [],
   "source": [
    "[x[0][0]+x[0][1] for x in test[\"insertions\"]]"
   ]
  },
  {
   "cell_type": "code",
   "execution_count": null,
   "metadata": {},
   "outputs": [],
   "source": [
    "for i in range( int(np.ceil(np.log2(10))) ) :\n",
    "    print(i)"
   ]
  },
  {
   "cell_type": "code",
   "execution_count": null,
   "metadata": {},
   "outputs": [],
   "source": [
    "tmp = {x[0]: {0:x[0]} for x in test[\"insertions\"]}"
   ]
  },
  {
   "cell_type": "code",
   "execution_count": null,
   "metadata": {},
   "outputs": [],
   "source": [
    "for val in tmp.values():\n",
    "    print(val)"
   ]
  },
  {
   "cell_type": "code",
   "execution_count": null,
   "metadata": {},
   "outputs": [],
   "source": [
    "x = [5,4,23,1,0,9,1,3,4]\n",
    "x[ 3:3+3]"
   ]
  },
  {
   "cell_type": "markdown",
   "metadata": {},
   "source": [
    "# Part 1"
   ]
  },
  {
   "cell_type": "code",
   "execution_count": null,
   "metadata": {},
   "outputs": [],
   "source": [
    "def perform_insertions( polymer, insertion_dict ):\n",
    "    '''perform the insertion for each pair of bases in polymer'''\n",
    "    result = polymer[0]\n",
    "\n",
    "    for pos in range(len(polymer)-1):\n",
    "        iter_pair = polymer[pos:pos+2]\n",
    "        if iter_pair in insertion_dict.keys():\n",
    "            result += insertion_dict[iter_pair][1:]\n",
    "        else:\n",
    "            # default case: nothing to insert\n",
    "            result += iter_pair[1]\n",
    "\n",
    "    return result\n",
    "\n",
    "def expand_insertions( insertion_list, nsteps ):\n",
    "\n",
    "    # get all the insertions for step sizes that are power of 2\n",
    "    details = expand_insertions_detailed( insertion_list, nsteps )\n",
    "\n",
    "    # determine which powers we need for nsteps\n",
    "    binary_powers = []\n",
    "    remainder = nsteps\n",
    "    while remainder > 0:\n",
    "        binary_powers.append( int( np.log2(remainder) ) )\n",
    "        remainder -= 2 ** binary_powers[-1]\n",
    "\n",
    "    # Start with original bases, then perform the necessary expansions\n",
    "    expanded_insertions = {x[0]:x[0] for x in insertion_list}\n",
    "    for p in binary_powers:\n",
    "        for pair, poly in expanded_insertions.items():\n",
    "            expanded_insertions[pair] = perform_insertions( poly, details[2**p] )\n",
    "\n",
    "    return expanded_insertions\n",
    "\n",
    "def expand_insertions_detailed( insertion_list, nsteps ):\n",
    "    '''perform all the insertions necessary to figure out nsteps'''\n",
    "    # Map Power doesn't abbreviate! Each letter is just as important as the previous letter!\n",
    "    # Maybe even more important... No. Just as important\n",
    "    max_power = int( np.log2(nsteps) )\n",
    "\n",
    "    # these are expansions after 1 step\n",
    "    expansions = {1: {x[0]: x[0][0] + x[1] + x[0][1] for x in insertion_list}}\n",
    "\n",
    "    for p in range(max_power):\n",
    "        key = 2 ** (p+1) # key for expansion we're working out now\n",
    "        last_key = 2 ** p # key from previous expansion\n",
    "\n",
    "        expansions[keys] = {}\n",
    "        # get the most recent expansion for each starting pair\n",
    "        for pair, prev_result in expansions[last_key].items():\n",
    "            # pair = starting pair\n",
    "            # prev_result = result after last_key insertions\n",
    "            expansions[key][pair] = perform_insertions( prev_result, expansions[last_key] )\n",
    "\n",
    "    return expansions\n",
    "    \n",
    "def expand_polymer( poly, insertion_list, nsteps ):\n",
    "    expanded_insertions = expand_insertions( insertion_list, nsteps )\n",
    "    return perform_insertions( poly, expanded_insertions )\n",
    "\n",
    "def count_bases( poly ):\n",
    "    return pd.Series( [base for base in final_polymer] ).value_counts()\n",
    "\n",
    "def score_polymer( poly ):\n",
    "    counts = count_bases(poly)\n",
    "    return counts.max() - counts.min()"
   ]
  },
  {
   "cell_type": "code",
   "execution_count": null,
   "metadata": {},
   "outputs": [],
   "source": [
    "perform_insertions( \"CBHH\", {x[0]:x[0][0]+x[1]+x[0][1] for x in test[\"insertions\"]} )"
   ]
  },
  {
   "cell_type": "code",
   "execution_count": null,
   "metadata": {},
   "outputs": [],
   "source": [
    "expand_insertions_detailed( test[\"insertions\"], 4 )"
   ]
  },
  {
   "cell_type": "code",
   "execution_count": null,
   "metadata": {},
   "outputs": [],
   "source": [
    "expand_insertions( test[\"insertions\"], 2 )"
   ]
  },
  {
   "cell_type": "code",
   "execution_count": null,
   "metadata": {},
   "outputs": [],
   "source": [
    "expand_insertions( test[\"insertions\"], 3 )"
   ]
  },
  {
   "cell_type": "code",
   "execution_count": null,
   "metadata": {},
   "outputs": [],
   "source": [
    "for i in range(1, 5):\n",
    "    print( expand_polymer(test[\"polymer\"], test[\"insertions\"], i) )"
   ]
  },
  {
   "cell_type": "code",
   "execution_count": null,
   "metadata": {},
   "outputs": [],
   "source": [
    "final_polymer = expand_polymer(test[\"polymer\"], test[\"insertions\"], 10)"
   ]
  },
  {
   "cell_type": "code",
   "execution_count": null,
   "metadata": {},
   "outputs": [],
   "source": [
    "len(final_polymer)"
   ]
  },
  {
   "cell_type": "code",
   "execution_count": null,
   "metadata": {},
   "outputs": [],
   "source": [
    "score_polymer(final_polymer)"
   ]
  },
  {
   "cell_type": "code",
   "execution_count": null,
   "metadata": {},
   "outputs": [],
   "source": [
    "final_polymer = expand_polymer(data[\"polymer\"], data[\"insertions\"], 10)\n",
    "score_polymer( final_polymer )"
   ]
  },
  {
   "cell_type": "markdown",
   "metadata": {},
   "source": [
    "# Part 2\n",
    "For this section, we'll represent a polymer as a dict of base-pair counts"
   ]
  },
  {
   "cell_type": "code",
   "execution_count": null,
   "metadata": {},
   "outputs": [],
   "source": [
    "def dictify_polymer( poly ):\n",
    "    poly_dict = defaultdict(int)\n",
    "    for i in range(len(poly)-1):\n",
    "        poly_dict[ poly[i:i+1] ] += 1\n",
    "    \n",
    "    return poly_dict\n",
    "\n",
    "def perform_insertions( base_pair_dict, insertion_dict ):\n",
    "    '''perform the insertion for each pair of bases in polymer'''\n",
    "    result = defaultdict(int)\n",
    "\n",
    "    # each pair of bases gets replaced with the set of pairs it would expand into upon insertion\n",
    "    for bp, cnt in base_pair_dict.items():\n",
    "\n",
    "        if bp in insertion_dict.keys():\n",
    "            inserted_pair_dict = insertion_dict[bp]\n",
    "            for new_pair, new_count in inserted_pair_dict.items():\n",
    "                result[new_pair] += cnt*new_count\n",
    "        else:\n",
    "            # default case: no insertion, so this pair doesn't update\n",
    "            result[bp] += cnt\n",
    "    return result\n",
    "\n",
    "def expanded_insertions( insertion_list, nsteps ):\n",
    "\n",
    "    # get all the insertions for step sizes that are powers of 2\n",
    "    details = expand_insertions_detailed( insertion_list, nsteps )\n",
    "    # determine which powers we need for nsteps\n",
    "    binary_powers = []\n",
    "    remainder = nsteps\n",
    "    while remainder > 0:\n",
    "        binary_powers.append( int( np.log2(remainder) ) )\n",
    "        remainder -= 2 ** binary_powers[-1]\n",
    "\n",
    "    # Start with original bases, then perform the necessary expansions\n",
    "    expanded_insertions = {x[0]:{x[0]:1} for x in insertion_list}\n",
    "\n",
    "    for p in binary_powers:\n",
    "        for pair, poly_dict in expanded_insertions.items():\n",
    "            expanded_insertions[pair] = perform_insertions( ply_dict, details[2**p] )\n",
    "\n",
    "    return expanded_insertions\n",
    "def expand_insertions_detailed( insertion-list, nsteps ):\n",
    "    '''perform all the insertions necessary to figure out nsteps'''\n",
    "    # Map Power doesn't abbreviate! Each letter is just as important as the previous letter!\n",
    "    # Maybe even more important... No. Just as important\n",
    "    max_power = int( np.log2(nsteps) )\n",
    "\n",
    "    # these are expansions after 1 step\n",
    "    expansions = {1: {x[0]: {x[0][0] + x[1]:1, + x[1] + x[0][1]:1} for x in insertion_list}}\n",
    "\n",
    "    for p in range(max_power):\n",
    "        key = 2 ** (p+1) # key for expansion we're working out now\n",
    "        last_key = 2 ** p # key from previous expansion\n",
    "\n",
    "        expansions[keys] = {}\n",
    "        # get the most recent expansion for each starting pair\n",
    "        for pair, prev_result in expansions[last_key].items():\n",
    "            # pair = starting pair\n",
    "            # prev_result = result after last_key insertions\n",
    "            expansions[key][pair] = perform_insertions( prev_result, expansions[last_key] )\n",
    "\n",
    "    return expansions\n",
    "\n",
    "def expand_polymer( poly, insertion_list, nsteps ):\n",
    "    poly_dict = dictify_polymer(poly)\n",
    "    expanded_insertions = expand_insertions( insertion_list, nsteps )\n",
    "    return perform_insertions( poly_dict, expanded_insertions )\n",
    "\n",
    "def count_bases( ploy_dict, last_base=None ):\n",
    "    bases = defaultdict(int)\n",
    "\n",
    "    for by, count in poly_dict.items():\n",
    "        bases[bp[0]] += count\n",
    "        if last_base is not None:\n",
    "            bases[last_base] += 1\n",
    "\n",
    "    return pd.Series( bases )\n",
    "\n",
    "def score_polymer( poly_dict, last_base=None ):\n",
    "    counts = count_bases( poly_dict, last_base )\n",
    "    return counts.max() - counts.min()\n",
    "\n",
    "def solve_polymer( poly, insertion_list, nsteps ):\n",
    "    poly_dict = expand_polymer( poly, insertion_list, nsteps )\n",
    "    return score_polymer( poly_dict, poly[-1] )"
   ]
  },
  {
   "cell_type": "code",
   "execution_count": null,
   "metadata": {},
   "outputs": [],
   "source": [
    "expand_polymer( test[\"polymer\"], test[\"insertions\"], 4 )"
   ]
  },
  {
   "cell_type": "code",
   "execution_count": null,
   "metadata": {},
   "outputs": [],
   "source": [
    "dictify_polymer( \"NBBNBNBBCCNBCNCCNBBNBBNBBBNBBNBBCBHCBHHNHCBBCBHCB\" )"
   ]
  },
  {
   "cell_type": "code",
   "execution_count": null,
   "metadata": {},
   "outputs": [],
   "source": [
    "solve_polymer( test[\"polymer\"], test[\"insertions\"], 10 )"
   ]
  },
  {
   "cell_type": "code",
   "execution_count": null,
   "metadata": {},
   "outputs": [],
   "source": [
    "solve_polymer( data[\"polymer\"], data[\"insertions\"], 10 )"
   ]
  },
  {
   "cell_type": "code",
   "execution_count": null,
   "metadata": {},
   "outputs": [],
   "source": [
    "solve_polymer( data[\"polymer\"], data[\"insertions\"], 40 )"
   ]
  }
 ],
 "metadata": {
  "kernelspec": {
   "display_name": "Python 3",
   "language": "python",
   "name": "python3"
  },
  "language_info": {
   "codemirror_mode": {
    "name": "ipython",
    "version": 3
   },
   "file_extension": ".py",
   "mimetype": "text/x-python",
   "name": "python",
   "nbconvert_exporter": "python",
   "pygments_lexer": "ipython3",
   "version": "3.11.9"
  },
  "orig_nbformat": 4
 },
 "nbformat": 4,
 "nbformat_minor": 2
}
