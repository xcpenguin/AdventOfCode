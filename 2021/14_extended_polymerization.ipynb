{
 "cells": [
  {
   "attachments": {},
   "cell_type": "markdown",
   "metadata": {},
   "source": [
    "# December 14, 2021\n",
    "\n",
    "https://adventofcode.com/2021/day/14"
   ]
  },
  {
   "cell_type": "code",
   "execution_count": 1,
   "metadata": {},
   "outputs": [],
   "source": [
    "import pandas as pd\n",
    "import numpy as np\n",
    "from collections import defaultdict, deque"
   ]
  },
  {
   "cell_type": "code",
   "execution_count": 2,
   "metadata": {},
   "outputs": [],
   "source": [
    "def format_data( data_str ):\n",
    "    poly, ins = data_str.split(\"\\n\\n\")\n",
    "    ins = [x.split(\" -> \") for x in ins.split(\"\\n\")]\n",
    "    return {\"polymer\":poly, \"insertions\":ins}"
   ]
  },
  {
   "cell_type": "code",
   "execution_count": 3,
   "metadata": {},
   "outputs": [],
   "source": [
    "with open(\"../data/2021/14.txt\", \"r\") as f:\n",
    "    data_str = f.read()\n",
    "data = format_data( data_str )"
   ]
  },
  {
   "cell_type": "code",
   "execution_count": 4,
   "metadata": {},
   "outputs": [
    {
     "data": {
      "text/plain": [
       "{'polymer': 'NNCB',\n",
       " 'insertions': [['CH', 'B'],\n",
       "  ['HH', 'N'],\n",
       "  ['CB', 'H'],\n",
       "  ['NH', 'C'],\n",
       "  ['HB', 'C'],\n",
       "  ['HC', 'B'],\n",
       "  ['HN', 'C'],\n",
       "  ['NN', 'C'],\n",
       "  ['BH', 'H'],\n",
       "  ['NC', 'B'],\n",
       "  ['NB', 'B'],\n",
       "  ['BN', 'B'],\n",
       "  ['BB', 'N'],\n",
       "  ['BC', 'B'],\n",
       "  ['CC', 'N'],\n",
       "  ['CN', 'C']]}"
      ]
     },
     "execution_count": 4,
     "metadata": {},
     "output_type": "execute_result"
    }
   ],
   "source": [
    "test_str = '''NNCB\n",
    "\n",
    "CH -> B\n",
    "HH -> N\n",
    "CB -> H\n",
    "NH -> C\n",
    "HB -> C\n",
    "HC -> B\n",
    "HN -> C\n",
    "NN -> C\n",
    "BH -> H\n",
    "NC -> B\n",
    "NB -> B\n",
    "BN -> B\n",
    "BB -> N\n",
    "BC -> B\n",
    "CC -> N\n",
    "CN -> C'''\n",
    "\n",
    "test = format_data( test_str )\n",
    "test"
   ]
  },
  {
   "cell_type": "code",
   "execution_count": 5,
   "metadata": {},
   "outputs": [
    {
     "data": {
      "text/plain": [
       "['CBH',\n",
       " 'HNH',\n",
       " 'CHB',\n",
       " 'NCH',\n",
       " 'HCB',\n",
       " 'HBC',\n",
       " 'HCN',\n",
       " 'NCN',\n",
       " 'BHH',\n",
       " 'NBC',\n",
       " 'NBB',\n",
       " 'BBN',\n",
       " 'BNB',\n",
       " 'BBC',\n",
       " 'CNC',\n",
       " 'CCN']"
      ]
     },
     "execution_count": 5,
     "metadata": {},
     "output_type": "execute_result"
    }
   ],
   "source": [
    "[x[0][0]+x[1] + x[0][1] for x in test[\"insertions\"]]"
   ]
  },
  {
   "cell_type": "code",
   "execution_count": 6,
   "metadata": {},
   "outputs": [
    {
     "name": "stdout",
     "output_type": "stream",
     "text": [
      "0\n",
      "1\n",
      "2\n",
      "3\n"
     ]
    }
   ],
   "source": [
    "for i in range( int(np.ceil(np.log2(10))) ) :\n",
    "    print(i)"
   ]
  },
  {
   "cell_type": "code",
   "execution_count": 7,
   "metadata": {},
   "outputs": [
    {
     "ename": "NameError",
     "evalue": "name 'tmp' is not defined",
     "output_type": "error",
     "traceback": [
      "\u001b[1;31m---------------------------------------------------------------------------\u001b[0m",
      "\u001b[1;31mNameError\u001b[0m                                 Traceback (most recent call last)",
      "Cell \u001b[1;32mIn[7], line 1\u001b[0m\n\u001b[1;32m----> 1\u001b[0m \u001b[38;5;28;01mfor\u001b[39;00m val \u001b[38;5;129;01min\u001b[39;00m \u001b[43mtmp\u001b[49m\u001b[38;5;241m.\u001b[39mvalues():\n\u001b[0;32m      2\u001b[0m     \u001b[38;5;28mprint\u001b[39m(val)\n",
      "\u001b[1;31mNameError\u001b[0m: name 'tmp' is not defined"
     ]
    }
   ],
   "source": [
    "for val in tmp.values():\n",
    "    print(val)"
   ]
  },
  {
   "cell_type": "code",
   "execution_count": 119,
   "metadata": {},
   "outputs": [
    {
     "data": {
      "text/plain": [
       "[1, 0, 9]"
      ]
     },
     "execution_count": 119,
     "metadata": {},
     "output_type": "execute_result"
    }
   ],
   "source": [
    "x = [5,4,23,1,0,9,1,3,4]\n",
    "x[ 3:3+3]"
   ]
  },
  {
   "cell_type": "markdown",
   "metadata": {},
   "source": [
    "# Part 1"
   ]
  },
  {
   "cell_type": "code",
   "execution_count": 120,
   "metadata": {},
   "outputs": [],
   "source": [
    "def perform_insertions( polymer, insertion_dict ):\n",
    "    '''perform the insertion for each pair of bases in polymer'''\n",
    "    result = polymer[0]\n",
    "\n",
    "    for pos in range(len(polymer)-1):\n",
    "        iter_pair = polymer[pos:pos+2]\n",
    "        if iter_pair in insertion_dict.keys():\n",
    "            result += insertion_dict[iter_pair][1:]\n",
    "        else:\n",
    "            # default case: nothing to insert\n",
    "            result += iter_pair[1]\n",
    "\n",
    "    return result\n",
    "\n",
    "def expand_insertions( insertion_list, nsteps ):\n",
    "\n",
    "    # get all the insertions for step sizes that are power of 2\n",
    "    details = expand_insertions_detailed( insertion_list, nsteps )\n",
    "\n",
    "    # determine which powers we need for nsteps\n",
    "    binary_powers = []\n",
    "    remainder = nsteps\n",
    "    while remainder > 0:\n",
    "        binary_powers.append( int( np.log2(remainder) ) )\n",
    "        remainder -= 2 ** binary_powers[-1]\n",
    "\n",
    "    # Start with original bases, then perform the necessary expansions\n",
    "    expanded_insertions = {x[0]:x[0] for x in insertion_list}\n",
    "    for p in binary_powers:\n",
    "        for pair, poly in expanded_insertions.items():\n",
    "            expanded_insertions[pair] = perform_insertions( poly, details[2**p] )\n",
    "\n",
    "    return expanded_insertions\n",
    "\n",
    "def expand_insertions_detailed( insertion_list, nsteps ):\n",
    "    '''perform all the insertions necessary to figure out nsteps'''\n",
    "    # Map Power doesn't abbreviate! Each letter is just as important as the previous letter!\n",
    "    # Maybe even more important... No. Just as important\n",
    "    max_power = int( np.log2(nsteps) )\n",
    "\n",
    "    # these are expansions after 1 step\n",
    "    expansions = {1: {x[0]: x[0][0] + x[1] + x[0][1] for x in insertion_list}}\n",
    "\n",
    "    for p in range(max_power):\n",
    "        key = 2 ** (p+1) # key for expansion we're working out now\n",
    "        last_key = 2 ** p # key from previous expansion\n",
    "\n",
    "        expansions[key] = {}\n",
    "        # get the most recent expansion for each starting pair\n",
    "        for pair, prev_result in expansions[last_key].items():\n",
    "            # pair = starting pair\n",
    "            # prev_result = result after last_key insertions\n",
    "            expansions[key][pair] = perform_insertions( prev_result, expansions[last_key] )\n",
    "\n",
    "    return expansions\n",
    "    \n",
    "def expand_polymer( poly, insertion_list, nsteps ):\n",
    "    expanded_insertions = expand_insertions( insertion_list, nsteps )\n",
    "    return perform_insertions( poly, expanded_insertions )\n",
    "\n",
    "def count_bases( poly ):\n",
    "    return pd.Series( [base for base in final_polymer] ).value_counts()\n",
    "\n",
    "def score_polymer( poly ):\n",
    "    counts = count_bases(poly)\n",
    "    return counts.max() - counts.min()"
   ]
  },
  {
   "cell_type": "code",
   "execution_count": 121,
   "metadata": {},
   "outputs": [
    {
     "data": {
      "text/plain": [
       "'CHBHHNH'"
      ]
     },
     "execution_count": 121,
     "metadata": {},
     "output_type": "execute_result"
    }
   ],
   "source": [
    "perform_insertions( \"CBHH\", {x[0]:x[0][0]+x[1]+x[0][1] for x in test[\"insertions\"]} )"
   ]
  },
  {
   "cell_type": "code",
   "execution_count": 122,
   "metadata": {},
   "outputs": [
    {
     "data": {
      "text/plain": [
       "{1: {'CH': 'CBH',\n",
       "  'HH': 'HNH',\n",
       "  'CB': 'CHB',\n",
       "  'NH': 'NCH',\n",
       "  'HB': 'HCB',\n",
       "  'HC': 'HBC',\n",
       "  'HN': 'HCN',\n",
       "  'NN': 'NCN',\n",
       "  'BH': 'BHH',\n",
       "  'NC': 'NBC',\n",
       "  'NB': 'NBB',\n",
       "  'BN': 'BBN',\n",
       "  'BB': 'BNB',\n",
       "  'BC': 'BBC',\n",
       "  'CC': 'CNC',\n",
       "  'CN': 'CCN'},\n",
       " 2: {'CH': 'CHBHH',\n",
       "  'HH': 'HCNCH',\n",
       "  'CB': 'CBHCB',\n",
       "  'NH': 'NBCBH',\n",
       "  'HB': 'HBCHB',\n",
       "  'HC': 'HCBBC',\n",
       "  'HN': 'HBCCN',\n",
       "  'NN': 'NBCCN',\n",
       "  'BH': 'BHHNH',\n",
       "  'NC': 'NBBBC',\n",
       "  'NB': 'NBBNB',\n",
       "  'BN': 'BNBBN',\n",
       "  'BB': 'BBNBB',\n",
       "  'BC': 'BNBBC',\n",
       "  'CC': 'CCNBC',\n",
       "  'CN': 'CNCCN'},\n",
       " 4: {'CH': 'CHBHHBCHBHHNHCNCH',\n",
       "  'HH': 'HCBBCNCCNBBBCHBHH',\n",
       "  'CB': 'CBHCBHHNHCBBCBHCB',\n",
       "  'NH': 'NBBNBNBBCBHCBHHNH',\n",
       "  'HB': 'HBCHBNBBCHBHHBCHB',\n",
       "  'HC': 'HCBBCBHCBBNBBNBBC',\n",
       "  'HN': 'HBCHBNBBCCNBCNCCN',\n",
       "  'NN': 'NBBNBNBBCCNBCNCCN',\n",
       "  'BH': 'BHHNHCNCHBCCNBCBH',\n",
       "  'NC': 'NBBNBBNBBBNBBNBBC',\n",
       "  'NB': 'NBBNBBNBBNBBNBBNB',\n",
       "  'BN': 'BNBBNBBNBBNBBNBBN',\n",
       "  'BB': 'BBNBBNBBNBBNBBNBB',\n",
       "  'BC': 'BNBBNBBNBBNBBNBBC',\n",
       "  'CC': 'CCNBCNCCNBBNBNBBC',\n",
       "  'CN': 'CNCCNBBBCCNBCNCCN'}}"
      ]
     },
     "execution_count": 122,
     "metadata": {},
     "output_type": "execute_result"
    }
   ],
   "source": [
    "expand_insertions_detailed( test[\"insertions\"], 4 )"
   ]
  },
  {
   "cell_type": "code",
   "execution_count": 53,
   "metadata": {},
   "outputs": [
    {
     "data": {
      "text/plain": [
       "{'CH': 'CHBHH',\n",
       " 'HH': 'HCNCH',\n",
       " 'CB': 'CBHCB',\n",
       " 'NH': 'NBCBH',\n",
       " 'HB': 'HBCHB',\n",
       " 'HC': 'HCBBC',\n",
       " 'HN': 'HBCCN',\n",
       " 'NN': 'NBCCN',\n",
       " 'BH': 'BHHNH',\n",
       " 'NC': 'NBBBC',\n",
       " 'NB': 'NBBNB',\n",
       " 'BN': 'BNBBN',\n",
       " 'BB': 'BBNBB',\n",
       " 'BC': 'BNBBC',\n",
       " 'CC': 'CCNBC',\n",
       " 'CN': 'CNCCN'}"
      ]
     },
     "execution_count": 53,
     "metadata": {},
     "output_type": "execute_result"
    }
   ],
   "source": [
    "expand_insertions( test[\"insertions\"], 2 )"
   ]
  },
  {
   "cell_type": "code",
   "execution_count": 54,
   "metadata": {},
   "outputs": [
    {
     "data": {
      "text/plain": [
       "{'CH': 'CBHCBHHNH',\n",
       " 'HH': 'HBCCNBCBH',\n",
       " 'CB': 'CHBHHBCHB',\n",
       " 'NH': 'NBBBCHBHH',\n",
       " 'HB': 'HCBBCBHCB',\n",
       " 'HC': 'HBCHBNBBC',\n",
       " 'HN': 'HCBBCNCCN',\n",
       " 'NN': 'NBBBCNCCN',\n",
       " 'BH': 'BHHNHCNCH',\n",
       " 'NC': 'NBBNBNBBC',\n",
       " 'NB': 'NBBNBBNBB',\n",
       " 'BN': 'BBNBBNBBN',\n",
       " 'BB': 'BNBBNBBNB',\n",
       " 'BC': 'BBNBBNBBC',\n",
       " 'CC': 'CNCCNBBBC',\n",
       " 'CN': 'CCNBCNCCN'}"
      ]
     },
     "execution_count": 54,
     "metadata": {},
     "output_type": "execute_result"
    }
   ],
   "source": [
    "expand_insertions( test[\"insertions\"], 3 )"
   ]
  },
  {
   "cell_type": "code",
   "execution_count": 123,
   "metadata": {},
   "outputs": [
    {
     "name": "stdout",
     "output_type": "stream",
     "text": [
      "NCNBCHB\n",
      "NBCCNBBBCBHCB\n",
      "NBBBCNCCNBBNBNBBCHBHHBCHB\n",
      "NBBNBNBBCCNBCNCCNBBNBBNBBBNBBNBBCBHCBHHNHCBBCBHCB\n"
     ]
    }
   ],
   "source": [
    "for i in range(1, 5):\n",
    "    print( expand_polymer(test[\"polymer\"], test[\"insertions\"], i) )"
   ]
  },
  {
   "cell_type": "code",
   "execution_count": 124,
   "metadata": {},
   "outputs": [],
   "source": [
    "final_polymer = expand_polymer(test[\"polymer\"], test[\"insertions\"], 10)"
   ]
  },
  {
   "cell_type": "code",
   "execution_count": 125,
   "metadata": {},
   "outputs": [
    {
     "data": {
      "text/plain": [
       "3073"
      ]
     },
     "execution_count": 125,
     "metadata": {},
     "output_type": "execute_result"
    }
   ],
   "source": [
    "len(final_polymer)"
   ]
  },
  {
   "cell_type": "code",
   "execution_count": null,
   "metadata": {},
   "outputs": [
    {
     "data": {
      "text/plain": [
       "1588"
      ]
     },
     "execution_count": 126,
     "metadata": {},
     "output_type": "execute_result"
    }
   ],
   "source": [
    "score_polymer(final_polymer)"
   ]
  },
  {
   "cell_type": "code",
   "execution_count": 127,
   "metadata": {},
   "outputs": [
    {
     "data": {
      "text/plain": [
       "2602"
      ]
     },
     "execution_count": 127,
     "metadata": {},
     "output_type": "execute_result"
    }
   ],
   "source": [
    "final_polymer = expand_polymer(data[\"polymer\"], data[\"insertions\"], 10)\n",
    "score_polymer( final_polymer )"
   ]
  },
  {
   "cell_type": "markdown",
   "metadata": {},
   "source": [
    "# Part 2\n",
    "For this section, we'll represent a polymer as a dict of base-pair counts"
   ]
  },
  {
   "cell_type": "code",
   "execution_count": 128,
   "metadata": {},
   "outputs": [],
   "source": [
    "def dictify_polymer( poly ):\n",
    "    poly_dict = defaultdict(int)\n",
    "    for i in range(len(poly)-1):\n",
    "        poly_dict[ poly[i:i+2] ] += 1\n",
    "    \n",
    "    return poly_dict\n",
    "\n",
    "def perform_insertions( base_pair_dict, insertion_dict ):\n",
    "    '''perform the insertion for each pair of bases in polymer'''\n",
    "    result = defaultdict(int)\n",
    "\n",
    "    # each pair of bases gets replaced with the set of pairs it would expand into upon insertion\n",
    "    for bp, cnt in base_pair_dict.items():\n",
    "\n",
    "        if bp in insertion_dict.keys():\n",
    "            inserted_pair_dict = insertion_dict[bp]\n",
    "            for new_pair, new_count in inserted_pair_dict.items():\n",
    "                result[new_pair] += cnt*new_count\n",
    "        else:\n",
    "            # default case: no insertion, so this pair doesn't update\n",
    "            result[bp] += cnt\n",
    "\n",
    "    return result\n",
    "\n",
    "def expand_insertions( insertion_list, nsteps ):\n",
    "\n",
    "    # get all the insertions for step sizes that are powers of 2\n",
    "    details = expand_insertions_detailed( insertion_list, nsteps )\n",
    "    # determine which powers we need for nsteps\n",
    "    binary_powers = []\n",
    "    remainder = nsteps\n",
    "    while remainder > 0:\n",
    "        binary_powers.append( int( np.log2(remainder) ) )\n",
    "        remainder -= 2 ** binary_powers[-1]\n",
    "\n",
    "    # Start with original bases, then perform the necessary expansions\n",
    "    expanded_insertions = {x[0]:{x[0]:1} for x in insertion_list}\n",
    "\n",
    "    for p in binary_powers:\n",
    "        for pair, poly_dict in expanded_insertions.items():\n",
    "            expanded_insertions[pair] = perform_insertions( poly_dict, details[2**p] )\n",
    "\n",
    "    return expanded_insertions\n",
    "\n",
    "def expand_insertions_detailed( insertion_list, nsteps ):\n",
    "    '''perform all the insertions necessary to figure out nsteps'''\n",
    "    # Map Power doesn't abbreviate! Each letter is just as important as the previous letter!\n",
    "    # Maybe even more important... No. Just as important\n",
    "    max_power = int( np.log2(nsteps) )\n",
    "\n",
    "    # these are expansions after 1 step\n",
    "    expansions = {1: {x[0]: {x[0][0] + x[1]:1, x[1] + x[0][1]:1} for x in insertion_list}}\n",
    "\n",
    "    for p in range(max_power):\n",
    "        key = 2 ** (p+1) # key for expansion we're working out now\n",
    "        last_key = 2 ** p # key from previous expansion\n",
    "\n",
    "        expansions[key] = {}\n",
    "        # get the most recent expansion for each starting pair\n",
    "        for pair, prev_result in expansions[last_key].items():\n",
    "            # pair = starting pair\n",
    "            # prev_result = result after last_key insertions\n",
    "            expansions[key][pair] = perform_insertions( prev_result, expansions[last_key] )\n",
    "\n",
    "    return expansions\n",
    "\n",
    "def expand_polymer( poly, insertion_list, nsteps ):\n",
    "    poly_dict = dictify_polymer(poly)\n",
    "    expanded_insertions = expand_insertions( insertion_list, nsteps )\n",
    "    return perform_insertions( poly_dict, expanded_insertions )\n",
    "\n",
    "def count_bases( poly_dict, last_base=None ):\n",
    "    bases = defaultdict(int)\n",
    "\n",
    "    for bp, count in poly_dict.items():\n",
    "        bases[bp[0]] += count\n",
    "    \n",
    "    if last_base is not None:\n",
    "        bases[last_base] += 1\n",
    "\n",
    "    return pd.Series( bases )\n",
    "\n",
    "def score_polymer( poly_dict, last_base=None ):\n",
    "    counts = count_bases( poly_dict, last_base )\n",
    "    return counts.max() - counts.min()\n",
    "\n",
    "def solve_polymer( poly, insertion_list, nsteps ):\n",
    "    poly_dict = expand_polymer( poly, insertion_list, nsteps )\n",
    "    return score_polymer( poly_dict, poly[-1] )"
   ]
  },
  {
   "cell_type": "code",
   "execution_count": 129,
   "metadata": {},
   "outputs": [
    {
     "data": {
      "text/plain": [
       "defaultdict(int,\n",
       "            {'NB': 9,\n",
       "             'BB': 9,\n",
       "             'BN': 6,\n",
       "             'BC': 4,\n",
       "             'CC': 2,\n",
       "             'CN': 3,\n",
       "             'NC': 1,\n",
       "             'CB': 5,\n",
       "             'BH': 3,\n",
       "             'HC': 3,\n",
       "             'HH': 1,\n",
       "             'HN': 1,\n",
       "             'NH': 1})"
      ]
     },
     "execution_count": 129,
     "metadata": {},
     "output_type": "execute_result"
    }
   ],
   "source": [
    "expand_polymer( test[\"polymer\"], test[\"insertions\"], 4 )"
   ]
  },
  {
   "cell_type": "code",
   "execution_count": 130,
   "metadata": {},
   "outputs": [
    {
     "data": {
      "text/plain": [
       "defaultdict(int,\n",
       "            {'NB': 9,\n",
       "             'BB': 9,\n",
       "             'BN': 6,\n",
       "             'BC': 4,\n",
       "             'CC': 2,\n",
       "             'CN': 3,\n",
       "             'NC': 1,\n",
       "             'CB': 5,\n",
       "             'BH': 3,\n",
       "             'HC': 3,\n",
       "             'HH': 1,\n",
       "             'HN': 1,\n",
       "             'NH': 1})"
      ]
     },
     "execution_count": 130,
     "metadata": {},
     "output_type": "execute_result"
    }
   ],
   "source": [
    "dictify_polymer( \"NBBNBNBBCCNBCNCCNBBNBBNBBBNBBNBBCBHCBHHNHCBBCBHCB\" )"
   ]
  },
  {
   "cell_type": "code",
   "execution_count": 131,
   "metadata": {},
   "outputs": [
    {
     "data": {
      "text/plain": [
       "1588"
      ]
     },
     "execution_count": 131,
     "metadata": {},
     "output_type": "execute_result"
    }
   ],
   "source": [
    "solve_polymer( test[\"polymer\"], test[\"insertions\"], 10 )"
   ]
  },
  {
   "cell_type": "code",
   "execution_count": 132,
   "metadata": {},
   "outputs": [
    {
     "data": {
      "text/plain": [
       "2602"
      ]
     },
     "execution_count": 132,
     "metadata": {},
     "output_type": "execute_result"
    }
   ],
   "source": [
    "solve_polymer( data[\"polymer\"], data[\"insertions\"], 10 )"
   ]
  },
  {
   "cell_type": "code",
   "execution_count": 135,
   "metadata": {},
   "outputs": [
    {
     "data": {
      "text/plain": [
       "2188189693529"
      ]
     },
     "execution_count": 135,
     "metadata": {},
     "output_type": "execute_result"
    }
   ],
   "source": [
    "solve_polymer( test[\"polymer\"], test[\"insertions\"], 40 )"
   ]
  },
  {
   "cell_type": "code",
   "execution_count": null,
   "metadata": {},
   "outputs": [
    {
     "data": {
      "text/plain": [
       "2942885922173"
      ]
     },
     "execution_count": 134,
     "metadata": {},
     "output_type": "execute_result"
    }
   ],
   "source": [
    "solve_polymer( data[\"polymer\"], data[\"insertions\"], 40 )"
   ]
  }
 ],
 "metadata": {
  "kernelspec": {
   "display_name": "Python 3",
   "language": "python",
   "name": "python3"
  },
  "language_info": {
   "codemirror_mode": {
    "name": "ipython",
    "version": 3
   },
   "file_extension": ".py",
   "mimetype": "text/x-python",
   "name": "python",
   "nbconvert_exporter": "python",
   "pygments_lexer": "ipython3",
   "version": "3.11.9"
  },
  "orig_nbformat": 4
 },
 "nbformat": 4,
 "nbformat_minor": 2
}
