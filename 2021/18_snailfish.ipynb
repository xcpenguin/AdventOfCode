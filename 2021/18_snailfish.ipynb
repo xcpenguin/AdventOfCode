{
 "cells": [
  {
   "attachments": {},
   "cell_type": "markdown",
   "metadata": {},
   "source": [
    "# December 18, 2021\n",
    "\n",
    "https://adventofcode.com/2021/day/18"
   ]
  },
  {
   "cell_type": "code",
   "execution_count": 1,
   "metadata": {},
   "outputs": [],
   "source": [
    "import pandas as pd\n",
    "import numpy as np"
   ]
  },
  {
   "cell_type": "code",
   "execution_count": 2,
   "metadata": {},
   "outputs": [],
   "source": [
    "with open(\"../data/2021/18.txt\", \"r\") as f:\n",
    "    data = f.read()\n",
    "data = data.split(\"\\n\")"
   ]
  },
  {
   "cell_type": "code",
   "execution_count": 3,
   "metadata": {},
   "outputs": [],
   "source": [
    "test1 = [\"[[[[4,3],4],4],[7,[[8,4],9]]]\", \"[1,1]\"]\n",
    "test2 = [ \"[1,1]\", \"[2,2]\", \"[3,3]\", \"[4,4]\"]\n",
    "test3 = test2 + [\"[5,5]\"]\n",
    "test4 = test3 + [\"[6,6]\"]\n",
    "\n",
    "test5 = [\n",
    "    \"[[[0,[4,5]],[0,0]],[[[4,5],[2,6]],[9,5]]]\"\n",
    "    , \"[7,[[[3,7],[4,3]],[[6,3],[8,8]]]]\"\n",
    "    , \"[[2,[[0,8],[3,4]]],[[[6,7],1],[7,[1,6]]]]\"\n",
    "    , \"[[[[2,4],7],[6,[0,5]]],[[[6,8],[2,8]],[[2,1],[4,5]]]]\"\n",
    "    , \"[7,[5,[[3,8],[1,4]]]]\"\n",
    "    , \"[[2,[2,2]],[8,[8,1]]]\"\n",
    "    , \"[2,9]\"\n",
    "    , \"[1,[[[9,3],9],[[9,0],[0,7]]]]\"\n",
    "    , \"[[[5,[7,4]],7],1]\"\n",
    "    , \"[[[[4,2],2],6],[8,7]]\"\n",
    "]"
   ]
  },
  {
   "cell_type": "code",
   "execution_count": 4,
   "metadata": {},
   "outputs": [],
   "source": [
    "#explosion tests\n",
    "etests = [\n",
    "    \"[[[[[9,8],1],2],3],4]\"\n",
    "    , \"[7,[6,[5,[4,[3,2]]]]]\"\n",
    "    , \"[[6,[5,[4,[3,2]]]],1]\"\n",
    "    , \"[[3,[2,[1,[7,3]]]],[6,[5,[4,[3,2]]]]]\"\n",
    "    , \"[[3,[2,[8,0]]],[9,[5,[4,[3,2]]]]]\"\n",
    "]"
   ]
  },
  {
   "cell_type": "code",
   "execution_count": 5,
   "metadata": {},
   "outputs": [],
   "source": [
    "# magnitude tests\n",
    "mtests = [\n",
    "     \"[[1,2],[[3,4],5]]\"\n",
    "    ,\"[[[[0,7],4],[[7,8],[6,0]]],[8,1]]\"\n",
    "    ,\"[[[[1,1],[2,2]],[3,3]],[4,4]]\"\n",
    "    ,\"[[[[3,0],[5,3]],[4,4]],[5,5]]\"\n",
    "    ,\"[[[[5,0],[7,4]],[5,5]],[6,6]]\"\n",
    "    ,\"[[[[8,7],[7,7]],[[8,6],[7,7]]],[[[0,7],[6,6]],[8,7]]]\"\n",
    "]"
   ]
  },
  {
   "cell_type": "code",
   "execution_count": 6,
   "metadata": {},
   "outputs": [],
   "source": [
    "final_test = [\n",
    "    \"[[[0,[5,8]],[[1,7],[9,6]]],[[4,[1,2]],[[1,4],2]]]\"\n",
    "    , \"[[[5,[2,8]],4],[5,[[9,9],0]]]\"\n",
    "    , \"[6,[[[6,2],[5,6]],[[7,6],[4,7]]]]\"\n",
    "    , \"[[[6,[0,7]],[0,9]],[4,[9,[9,0]]]]\"\n",
    "    , \"[[[7,[6,4]],[3,[1,3]]],[[[5,5],1],9]]\"\n",
    "    , \"[[6,[[7,3],[3,2]]],[[[3,8],[5,7]],4]]\"\n",
    "    , \"[[[[5,4],[7,7]],8],[[8,3],8]]\"\n",
    "    , \"[[9,3],[[9,9],[6,[4,9]]]]\"\n",
    "    , \"[[2,[[7,7],7]],[[5,8],[[9,3],[0,2]]]]\"\n",
    "    , \"[[[[5,2],5],[8,[3,7]]],[[5,[7,5]],[4,4]]]\"\n",
    "]"
   ]
  },
  {
   "cell_type": "markdown",
   "metadata": {},
   "source": [
    "# Part 1"
   ]
  },
  {
   "cell_type": "code",
   "execution_count": 7,
   "metadata": {},
   "outputs": [],
   "source": [
    "class Regular:\n",
    "    def __init__( self, value, pos=None, parent=None, depth=1 ):\n",
    "        self.value = value\n",
    "        self.pos = pos\n",
    "        self.depth = depth\n",
    "        self.parent = parent\n",
    "        self.__type__ = \"Regular\"\n",
    "\n",
    "    def magnitude( self ):\n",
    "        return self.value\n",
    "    def increment_depth( self ):\n",
    "        self.depth += 1\n",
    "    def decrement_depth( self ):\n",
    "        self.depth -= 1\n",
    "\n",
    "    # These make syntax for Pair class cleaner\n",
    "    def get_leftmost_object( self ):\n",
    "        return self\n",
    "    def get_rightmost_object( self ):\n",
    "        return self\n",
    "    def explode( self ):\n",
    "        return False\n",
    "    def split( self ):\n",
    "        if self.value < 10:\n",
    "            return False\n",
    "        lv = int( self.value / 2 ) # round down\n",
    "        rv = int( self.value / 2 + .5 ) # round up\n",
    "\n",
    "        # replace this object with a Pair, whose children are REgular with left- and right- values\n",
    "        new_pair = Pair( None, None, pos=self.pos, parent=self.parent, depth=self.depth )\n",
    "        new_pair.left  = Regular( lv,  \"left\", parent = new_pair, depth = self.depth+1 )\n",
    "        new_pair.right = Regular( rv, \"right\", parent = new_pair, depth = self.depth+1 )\n",
    "\n",
    "        if self.pos == \"right\":\n",
    "            self.parent.right = new_pair\n",
    "        else:\n",
    "            self.parent.left = new_pair\n",
    "        return True\n",
    "    \n",
    "    def __str__(self):\n",
    "        return str(self.value)\n",
    "    def __repr__(self):\n",
    "        return str(self.value)\n",
    "    def print2( self ):\n",
    "        return str(self.value)\n",
    "        #return str(self.value) + \"{\" + str(self.depth) + \"\"}\"\n"
   ]
  },
  {
   "cell_type": "code",
   "execution_count": 8,
   "metadata": {},
   "outputs": [],
   "source": [
    "class Pair:\n",
    "    def __init__( self, left, right, pos=None, parent=None, depth=1 ):\n",
    "        # left and right can be Pairs or Regulars\n",
    "        self.left = left\n",
    "        self.right = right\n",
    "        self.parent = parent\n",
    "        if parent is None:\n",
    "            self.pos = None\n",
    "        else:\n",
    "            assert pos == \"left\" or pos == \"right\", \"pos must be left/right if parent is not None\"\n",
    "            self.pos = pos\n",
    "        self.depth = depth\n",
    "        self.__type__ = \"Pair\"\n",
    "\n",
    "    def from_str( text, pos=None, parent=None, depth=1 ):\n",
    "        obj = Pair( left=None, right=None, pos=pos, parent=parent, depth=depth )\n",
    "\n",
    "        if text[0] == \"[\":\n",
    "            # nested pair. find the two halves\n",
    "            opens = 0\n",
    "            pos = 0\n",
    "            while True:\n",
    "                pos += 1\n",
    "                if text[pos] == \"[\":\n",
    "                    opens += 1\n",
    "                elif text[pos] == \"]\":\n",
    "                    opens -= 1\n",
    "                if opens == 0:\n",
    "                    break\n",
    "            # end pos hunt\n",
    "\n",
    "            lstr = text[1:pos+1]\n",
    "            rstr = text[pos+2:-1]\n",
    "\n",
    "            obj.left = Pair.from_str(lstr, \"left\", parent=obj, depth=depth+1)\n",
    "            obj.right = Pair.from_str(rstr, \"right\", parent=obj, depth=depth+1)\n",
    "\n",
    "            return obj\n",
    "        \n",
    "        else:\n",
    "            # otherwise this is a value. We construct and return it\n",
    "            return Regular( int(text), pos=pos, parent=parent, depth=depth )\n",
    "        \n",
    "    def magnitude( self ):\n",
    "        return 3*self.left.magnitude() + 2*self.right.magnitude()\n",
    "    def increment_depth( self ):\n",
    "        self.depth += 1\n",
    "        self.left.increment_depth()\n",
    "        self.right.increment_depth()\n",
    "    def decrement_depth( self ):\n",
    "        self.depth -= 1\n",
    "        self.left.decrement_depth()\n",
    "        self.right.decrement_depth()\n",
    "    \n",
    "\n",
    "    def __str__( self ):\n",
    "        return \"[\" + str(self.left) + \",\" + str(self.right) + \"]\"\n",
    "    def __repr__( self ):\n",
    "        return str(self)\n",
    "    def print2( self ):\n",
    "        return \" <\" + str(self.depth) + \">[\" + self.left.print2() + \",\" + self.right.print2() + \"]\"\n",
    "    \n",
    "    def __add__(self, other):\n",
    "        combo = Pair(None, None)\n",
    "\n",
    "        self.increment_depth()\n",
    "        self.pos = \"left\"\n",
    "        self.parent = combo\n",
    "        combo.left = self\n",
    "\n",
    "        other.increment_depth()\n",
    "        other.pos = \"right\"\n",
    "        other.parent = combo\n",
    "        combo.right = other\n",
    "\n",
    "        combo.reduce()\n",
    "        return combo\n",
    "    \n",
    "    # Reduce\n",
    "    def reduce( self ):\n",
    "        #print(self)\n",
    "        while self.explode() or self.split():\n",
    "            # print(self)\n",
    "            pass\n",
    "\n",
    "    # Split function\n",
    "    def split( self ):\n",
    "        # yay! Boolean shortcircuiting! right.split only called if left.split is False\n",
    "        return self.left.split() or self.right.split()\n",
    "    # Explosion functions\n",
    "    def get_righthand_neighbor( self ):\n",
    "        # If we've reached the top, then there's no righthand neighbor\n",
    "        if self.parent is None:\n",
    "            return None\n",
    "        # If this is the left side, get the leftmost object of the right side of the pair\n",
    "        if self.pos == \"left\":\n",
    "            return self.parent.right.get_leftmost_object()\n",
    "        # Otherwise, go up another level\n",
    "        if self.pos == \"right\":\n",
    "            return self.parent.get_righthand_neighbor()\n",
    "    # Iterate to the left until we hit a regular Object\n",
    "    def get_leftmost_object( self ):\n",
    "        return self.left.get_leftmost_object()\n",
    "    \n",
    "    def get_lefthand_neighbor( self ):\n",
    "        # If we've reached the top, then there's no lefthand neighbor\n",
    "        if self.parent is None:\n",
    "            return None\n",
    "        # If this is the right side, get the rightmost object of the left side of this pair\n",
    "        if self.pos == \"right\":\n",
    "            return self.parent.left.get_rightmost_object()\n",
    "        if self.pos == \"left\":\n",
    "            return self.parent.get_lefthand_neighbor()\n",
    "    # iterate to the right until we hit a Regular object\n",
    "    def get_rightmost_object( self ):\n",
    "        return self.right.get_rightmost_object()\n",
    "    \n",
    "    def explode( self ):\n",
    "        # Not deep enough to explode, possibly explode children\n",
    "        if self.depth < 5:\n",
    "            # explode functions return bool\n",
    "            # short circuiting prevents right from exploding if left does.\n",
    "            if self.left.explode():\n",
    "                return True\n",
    "            elif self.right.explode():\n",
    "                return True\n",
    "            else:\n",
    "                # if neither pair exploded, we must return False\n",
    "                return False\n",
    "            \n",
    "        # We've reached a 5-depth Pair. It must be explosioned! >=D\n",
    "        lnbr = self.get_lefthand_neighbor()\n",
    "        if lnbr is not None:\n",
    "            lnbr.value += self.left.value\n",
    "        rnbr = self.get_righthand_neighbor()\n",
    "        if rnbr is not None:\n",
    "            rnbr.value += self.right.value\n",
    "        if self.pos == \"left\":\n",
    "            self.parent.left = Regular(0, \"left\", self.parent, self.depth)\n",
    "        else:\n",
    "            self.parent.right = Regular(0, \"right\", self.parent, self.depth)\n",
    "        return True               "
   ]
  },
  {
   "cell_type": "code",
   "execution_count": 9,
   "metadata": {},
   "outputs": [
    {
     "name": "stdout",
     "output_type": "stream",
     "text": [
      "[[3,[2,[8,0]]],[9,[5,[4,[3,2]]]]]\n"
     ]
    },
    {
     "data": {
      "text/plain": [
       "' <1>[ <2>[3, <3>[2, <4>[8,0]]], <2>[9, <3>[5, <4>[4, <5>[3,2]]]]]'"
      ]
     },
     "execution_count": 9,
     "metadata": {},
     "output_type": "execute_result"
    }
   ],
   "source": [
    "x = Pair.from_str(etests[-1])\n",
    "print(x)\n",
    "x.print2()"
   ]
  },
  {
   "cell_type": "code",
   "execution_count": 10,
   "metadata": {},
   "outputs": [
    {
     "data": {
      "text/plain": [
       "' <1>[ <2>[3, <3>[2, <4>[8,0]]], <2>[9, <3>[5, <4>[7,0]]]]'"
      ]
     },
     "execution_count": 10,
     "metadata": {},
     "output_type": "execute_result"
    }
   ],
   "source": [
    "x.explode()\n",
    "x.print2()"
   ]
  },
  {
   "cell_type": "code",
   "execution_count": 11,
   "metadata": {},
   "outputs": [
    {
     "name": "stdout",
     "output_type": "stream",
     "text": [
      "[[[[0,9],2],3],4]\n",
      "[7,[6,[5,[7,0]]]]\n",
      "[[6,[5,[7,0]]],3]\n",
      "[[3,[2,[8,0]]],[9,[5,[7,0]]]]\n",
      "[[3,[2,[8,0]]],[9,[5,[7,0]]]]\n"
     ]
    }
   ],
   "source": [
    "# for complte reduction, last two output are the same\n",
    "for text in etests:\n",
    "    x = Pair.from_str(text)\n",
    "    x.reduce()\n",
    "    print(x)"
   ]
  },
  {
   "cell_type": "code",
   "execution_count": 12,
   "metadata": {},
   "outputs": [
    {
     "name": "stdout",
     "output_type": "stream",
     "text": [
      "[[[[4,3],4],4],[7,[[8,4],9]]]\n",
      "[1,1]\n"
     ]
    }
   ],
   "source": [
    "# addition tests!\n",
    "left = Pair.from_str(test1[0])\n",
    "right = Pair.from_str(test1[1])\n",
    "print(left)\n",
    "print(right)"
   ]
  },
  {
   "cell_type": "code",
   "execution_count": 13,
   "metadata": {},
   "outputs": [
    {
     "data": {
      "text/plain": [
       "' <1>[ <2>[ <3>[ <4>[0,7],4], <3>[ <4>[7,8], <4>[6,0]]], <2>[8,1]]'"
      ]
     },
     "execution_count": 13,
     "metadata": {},
     "output_type": "execute_result"
    }
   ],
   "source": [
    "tot = left+right\n",
    "tot.print2()"
   ]
  },
  {
   "cell_type": "code",
   "execution_count": 14,
   "metadata": {},
   "outputs": [],
   "source": [
    "def add_numbers( nums ):\n",
    "    tot = Pair.from_str(nums[0])\n",
    "    for i in range(1, len(nums)):\n",
    "        right = Pair.from_str(nums[i])\n",
    "        tot = tot + right\n",
    "    return tot"
   ]
  },
  {
   "cell_type": "code",
   "execution_count": 15,
   "metadata": {},
   "outputs": [
    {
     "data": {
      "text/plain": [
       "[[[[0,7],4],[[7,8],[6,0]]],[8,1]]"
      ]
     },
     "execution_count": 15,
     "metadata": {},
     "output_type": "execute_result"
    }
   ],
   "source": [
    "add_numbers(test1)"
   ]
  },
  {
   "cell_type": "code",
   "execution_count": 16,
   "metadata": {},
   "outputs": [
    {
     "data": {
      "text/plain": [
       "[[[[1,1],[2,2]],[3,3]],[4,4]]"
      ]
     },
     "execution_count": 16,
     "metadata": {},
     "output_type": "execute_result"
    }
   ],
   "source": [
    "add_numbers(test2)"
   ]
  },
  {
   "cell_type": "code",
   "execution_count": 17,
   "metadata": {},
   "outputs": [
    {
     "data": {
      "text/plain": [
       "[[[[3,0],[5,3]],[4,4]],[5,5]]"
      ]
     },
     "execution_count": 17,
     "metadata": {},
     "output_type": "execute_result"
    }
   ],
   "source": [
    "add_numbers(test3)"
   ]
  },
  {
   "cell_type": "code",
   "execution_count": 18,
   "metadata": {},
   "outputs": [
    {
     "data": {
      "text/plain": [
       "[[[[5,0],[7,4]],[5,5]],[6,6]]"
      ]
     },
     "execution_count": 18,
     "metadata": {},
     "output_type": "execute_result"
    }
   ],
   "source": [
    "add_numbers(test4)"
   ]
  },
  {
   "cell_type": "code",
   "execution_count": 19,
   "metadata": {},
   "outputs": [
    {
     "data": {
      "text/plain": [
       "[[[[8,7],[7,7]],[[8,6],[7,7]]],[[[0,7],[6,6]],[8,7]]]"
      ]
     },
     "execution_count": 19,
     "metadata": {},
     "output_type": "execute_result"
    }
   ],
   "source": [
    "add_numbers(test5)"
   ]
  },
  {
   "cell_type": "code",
   "execution_count": 20,
   "metadata": {},
   "outputs": [
    {
     "name": "stdout",
     "output_type": "stream",
     "text": [
      "143\n",
      "1384\n",
      "445\n",
      "791\n",
      "1137\n",
      "3488\n"
     ]
    }
   ],
   "source": [
    "for text in mtests:\n",
    "    x = Pair.from_str(text)\n",
    "    print(x.magnitude())"
   ]
  },
  {
   "cell_type": "code",
   "execution_count": 21,
   "metadata": {},
   "outputs": [
    {
     "data": {
      "text/plain": [
       "4140"
      ]
     },
     "execution_count": 21,
     "metadata": {},
     "output_type": "execute_result"
    }
   ],
   "source": [
    "tot = add_numbers( final_test )\n",
    "tot.magnitude()"
   ]
  },
  {
   "cell_type": "code",
   "execution_count": 22,
   "metadata": {},
   "outputs": [
    {
     "data": {
      "text/plain": [
       "4457"
      ]
     },
     "execution_count": 22,
     "metadata": {},
     "output_type": "execute_result"
    }
   ],
   "source": [
    "tot = add_numbers( data )\n",
    "tot.magnitude()"
   ]
  },
  {
   "cell_type": "code",
   "execution_count": 23,
   "metadata": {},
   "outputs": [],
   "source": [
    "def biggest_pair_sum( nums ):\n",
    "    imax = None\n",
    "    jmax = None\n",
    "    mmax = -1\n",
    "\n",
    "    for i in range(len(nums)):\n",
    "        for j in range(len(nums)):\n",
    "            if i == j:\n",
    "                continue\n",
    "\n",
    "            left = Pair.from_str(nums[i])\n",
    "            right = Pair.from_str(nums[j])\n",
    "            tot = left + right\n",
    "            if tot.magnitude() > mmax:\n",
    "                mmax = tot.magnitude()\n",
    "                imax = i\n",
    "                jmax = j\n",
    "    return mmax, imax, jmax"
   ]
  },
  {
   "cell_type": "code",
   "execution_count": 24,
   "metadata": {},
   "outputs": [
    {
     "data": {
      "text/plain": [
       "(3993, 8, 0)"
      ]
     },
     "execution_count": 24,
     "metadata": {},
     "output_type": "execute_result"
    }
   ],
   "source": [
    "biggest_pair_sum( final_test )"
   ]
  },
  {
   "cell_type": "code",
   "execution_count": 25,
   "metadata": {},
   "outputs": [
    {
     "data": {
      "text/plain": [
       "(4784, 52, 85)"
      ]
     },
     "execution_count": 25,
     "metadata": {},
     "output_type": "execute_result"
    }
   ],
   "source": [
    "biggest_pair_sum( data )"
   ]
  },
  {
   "cell_type": "code",
   "execution_count": null,
   "metadata": {},
   "outputs": [],
   "source": []
  }
 ],
 "metadata": {
  "kernelspec": {
   "display_name": "Python 3",
   "language": "python",
   "name": "python3"
  },
  "language_info": {
   "codemirror_mode": {
    "name": "ipython",
    "version": 3
   },
   "file_extension": ".py",
   "mimetype": "text/x-python",
   "name": "python",
   "nbconvert_exporter": "python",
   "pygments_lexer": "ipython3",
   "version": "3.11.9"
  },
  "orig_nbformat": 4
 },
 "nbformat": 4,
 "nbformat_minor": 2
}
