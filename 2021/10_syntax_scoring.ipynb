{
 "cells": [
  {
   "attachments": {},
   "cell_type": "markdown",
   "metadata": {},
   "source": [
    "# December 10, 2021\n",
    "\n",
    "https://adventofcode.com/2021/day/10"
   ]
  },
  {
   "cell_type": "code",
   "execution_count": 1,
   "metadata": {},
   "outputs": [],
   "source": [
    "import pandas as pd\n",
    "import numpy as np\n",
    "from collections import deque"
   ]
  },
  {
   "cell_type": "code",
   "execution_count": 2,
   "metadata": {},
   "outputs": [],
   "source": [
    "with open(\"../data/2021/10.txt\", \"r\") as f:\n",
    "    data = f.read()\n",
    "\n",
    "data = data.split(\"\\n\")"
   ]
  },
  {
   "cell_type": "code",
   "execution_count": 3,
   "metadata": {},
   "outputs": [],
   "source": [
    "test = '''[({(<(())[]>[[{[]{<()<>>\n",
    "[(()[<>])]({[<{<<[]>>(\n",
    "{([(<{}[<>[]}>{[]{[(<()>\n",
    "(((({<>}<{<{<>}{[]{[]{}\n",
    "[[<[([]))<([[{}[[()]]]\n",
    "[{[{({}]{}}([{[{{{}}([]\n",
    "{<[[]]>}<{[{[{[]{()[[[]\n",
    "[<(<(<(<{}))><([]([]()\n",
    "<{([([[(<>()){}]>(<<{{\n",
    "<{([{{}}[<[[[<>{}]]]>[]]'''\n",
    "\n",
    "test = test.split(\"\\n\")"
   ]
  },
  {
   "cell_type": "markdown",
   "metadata": {},
   "source": [
    "# Part 1"
   ]
  },
  {
   "cell_type": "code",
   "execution_count": 4,
   "metadata": {},
   "outputs": [],
   "source": [
    "# I think reading right-to-left is faster to detect mal-formatted lines\n",
    "# because an incomplete line is known as soon as you find an opener and there are no closers stacked\n",
    "# This means there's no need to read the entire line!\n",
    "# but going left-to-right is needed to detect the FIRST corruption.\n",
    "\n",
    "def scan_line( line, verbose = False ):\n",
    "    match_dict = {\"[\":\"]\", \"{\":\"}\", \"<\":\">\", \"(\":\")\"}\n",
    "\n",
    "    lefts = deque()\n",
    "\n",
    "    for pos, char in enumerate(line):\n",
    "        if char in match_dict.keys():\n",
    "            lefts.append(char)\n",
    "        elif char in match_dict.values():\n",
    "            if len(lefts) == 0:\n",
    "                if verbose:\n",
    "                    print(f'''At pos {pos}: Found unmatched close {char}''')\n",
    "                return \"corrupt\", char\n",
    "            \n",
    "            left = lefts.pop()\n",
    "            if char != match_dict[ left ]:\n",
    "                if verbose:\n",
    "                    print(f'''At pos {pos}: Found {char}, expected {match_dict[left]}''')\n",
    "                return \"corrupt\", char\n",
    "                \n",
    "    # incomplete!\n",
    "    if len(lefts) > 0:\n",
    "        return \"incomplete\", lefts\n",
    "    \n",
    "    # yay!\n",
    "    return \"okay\", None\n",
    "\n",
    "def score_line( line, verbose = False ):\n",
    "    score_dict = {\")\": 3, \"]\": 57, \"}\": 1197, \">\": 25137}\n",
    "    result, details = scan_line( line, verbose )\n",
    "    if result == \"corrupt\":\n",
    "        score = score_dict[details]\n",
    "    else:\n",
    "        score = 0\n",
    "\n",
    "    return score\n",
    "\n",
    "def score_text( text ):\n",
    "    score = 0\n",
    "    for t in text:\n",
    "        score += score_line( t )\n",
    "    return score"
   ]
  },
  {
   "cell_type": "code",
   "execution_count": 5,
   "metadata": {},
   "outputs": [
    {
     "name": "stdout",
     "output_type": "stream",
     "text": [
      "At pos 12: Found }, expected ]\n",
      "At pos 8: Found ), expected ]\n",
      "At pos 7: Found ], expected )\n",
      "At pos 10: Found ), expected >\n",
      "At pos 16: Found >, expected ]\n"
     ]
    }
   ],
   "source": [
    "for l in test:\n",
    "    x = scan_line(l, True)\n",
    "    if x is True: print(x)\n",
    "    if x is False: print(x)"
   ]
  },
  {
   "cell_type": "code",
   "execution_count": 6,
   "metadata": {},
   "outputs": [
    {
     "name": "stdout",
     "output_type": "stream",
     "text": [
      "0\n",
      "0\n",
      "1197\n",
      "0\n",
      "3\n",
      "57\n",
      "0\n",
      "3\n",
      "25137\n",
      "0\n"
     ]
    }
   ],
   "source": [
    "for l in test:\n",
    "    print(score_line(l, False))"
   ]
  },
  {
   "cell_type": "code",
   "execution_count": 7,
   "metadata": {},
   "outputs": [
    {
     "data": {
      "text/plain": [
       "26397"
      ]
     },
     "execution_count": 7,
     "metadata": {},
     "output_type": "execute_result"
    }
   ],
   "source": [
    "score_text(test)"
   ]
  },
  {
   "cell_type": "code",
   "execution_count": 8,
   "metadata": {},
   "outputs": [
    {
     "data": {
      "text/plain": [
       "436497"
      ]
     },
     "execution_count": 8,
     "metadata": {},
     "output_type": "execute_result"
    }
   ],
   "source": [
    "score_text(data)"
   ]
  },
  {
   "cell_type": "markdown",
   "metadata": {},
   "source": [
    "# Part 2"
   ]
  },
  {
   "cell_type": "code",
   "execution_count": 9,
   "metadata": {},
   "outputs": [],
   "source": [
    "# Let's be wacky. We can write our own += operator\n",
    "# to add autocomplete bounties across a line\n",
    "class AutoCompleteScore():\n",
    "    def __init__(self, x=0):\n",
    "        self.value = x\n",
    "        \n",
    "    def __iadd__(self, char):\n",
    "        score_dict = {\"(\":1, \"[\":2, \"{\":3, \"<\":4}\n",
    "\n",
    "        if char in score_dict.keys():\n",
    "            return AutoCompleteScore( self.value*5 + score_dict[char] )\n",
    "        else:\n",
    "            return self"
   ]
  },
  {
   "cell_type": "code",
   "execution_count": 10,
   "metadata": {},
   "outputs": [],
   "source": [
    "def score_ac( line ):\n",
    "    ACS = AutoCompleteScore()\n",
    "\n",
    "    result, details = scan_line( line )\n",
    "    if result == \"incomplete\":\n",
    "        while len(details) > 0:\n",
    "            ACS += details.pop()\n",
    "\n",
    "    return ACS.value\n",
    "\n",
    "def score_text_ac( text ):\n",
    "    scores = [ score_ac(line) for line in text ]\n",
    "    scores = [x for x in scores if x != 0 ]\n",
    "    scores.sort()\n",
    "\n",
    "    return scores[ int(len(scores)/2) ]"
   ]
  },
  {
   "cell_type": "code",
   "execution_count": 11,
   "metadata": {},
   "outputs": [
    {
     "name": "stdout",
     "output_type": "stream",
     "text": [
      "288957\n",
      "5566\n",
      "0\n",
      "1480781\n",
      "0\n",
      "0\n",
      "995444\n",
      "0\n",
      "0\n",
      "294\n"
     ]
    }
   ],
   "source": [
    "for line in test:\n",
    "    print(score_ac(line))"
   ]
  },
  {
   "cell_type": "code",
   "execution_count": 12,
   "metadata": {},
   "outputs": [],
   "source": [
    "scores = [ score_ac(line) for line in test ]"
   ]
  },
  {
   "cell_type": "code",
   "execution_count": 13,
   "metadata": {},
   "outputs": [
    {
     "data": {
      "text/plain": [
       "[288957, 5566, 0, 1480781, 0, 0, 995444, 0, 0, 294]"
      ]
     },
     "execution_count": 13,
     "metadata": {},
     "output_type": "execute_result"
    }
   ],
   "source": [
    "scores"
   ]
  },
  {
   "cell_type": "code",
   "execution_count": 14,
   "metadata": {},
   "outputs": [
    {
     "data": {
      "text/plain": [
       "288957"
      ]
     },
     "execution_count": 14,
     "metadata": {},
     "output_type": "execute_result"
    }
   ],
   "source": [
    "score_text_ac(test)"
   ]
  },
  {
   "cell_type": "code",
   "execution_count": 15,
   "metadata": {},
   "outputs": [
    {
     "data": {
      "text/plain": [
       "2377613374"
      ]
     },
     "execution_count": 15,
     "metadata": {},
     "output_type": "execute_result"
    }
   ],
   "source": [
    "score_text_ac(data)"
   ]
  },
  {
   "cell_type": "code",
   "execution_count": 16,
   "metadata": {},
   "outputs": [
    {
     "data": {
      "text/plain": [
       "2377613374"
      ]
     },
     "execution_count": 16,
     "metadata": {},
     "output_type": "execute_result"
    }
   ],
   "source": [
    "score_text_ac(data)"
   ]
  }
 ],
 "metadata": {
  "kernelspec": {
   "display_name": "Python 3",
   "language": "python",
   "name": "python3"
  },
  "language_info": {
   "codemirror_mode": {
    "name": "ipython",
    "version": 3
   },
   "file_extension": ".py",
   "mimetype": "text/x-python",
   "name": "python",
   "nbconvert_exporter": "python",
   "pygments_lexer": "ipython3",
   "version": "3.11.9"
  },
  "orig_nbformat": 4
 },
 "nbformat": 4,
 "nbformat_minor": 2
}
