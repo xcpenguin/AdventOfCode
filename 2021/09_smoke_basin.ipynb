{
 "cells": [
  {
   "attachments": {},
   "cell_type": "markdown",
   "metadata": {},
   "source": [
    "# December 09, 2021\n",
    "\n",
    "https://adventofcode.com/2021/day/9"
   ]
  },
  {
   "cell_type": "code",
   "execution_count": 1,
   "metadata": {},
   "outputs": [],
   "source": [
    "import pandas as pd\n",
    "import numpy as np"
   ]
  },
  {
   "cell_type": "code",
   "execution_count": null,
   "metadata": {},
   "outputs": [],
   "source": [
    "notes = []\n",
    "output = []\n",
    "with open(\"input/2021/09.txt\", \"r\") as f:\n",
    "    data = f.read()\n",
    "\n",
    "data = data.split(\"\\n\")"
   ]
  },
  {
   "cell_type": "code",
   "execution_count": null,
   "metadata": {},
   "outputs": [],
   "source": [
    "test_str = \"2199943210\\n3987894921\\n9856789892\\n8767896789\\n9899965678\""
   ]
  },
  {
   "cell_type": "code",
   "execution_count": null,
   "metadata": {},
   "outputs": [],
   "source": [
    "class TubeMap:\n",
    "    def __init__( self, data, verbose = False ):\n",
    "        # construct from a single string with \\n to separate lines\n",
    "        # imagine that... using a new line separator to separate lines!\n",
    "        lines = data.split(\"\\n\")\n",
    "\n",
    "        # remove blank line if data ends in newline\n",
    "        if len(lins[-1]) == 0:\n",
    "            lines = lines[:-1]\n",
    "            ncols = [len(x) for x in lines]\n",
    "\n",
    "            if max(ncols) != min(ncols):\n",
    "                raise \"Not all lines have the same length!\"\n",
    "            \n",
    "            self.nc = ncols[0]\n",
    "            self.nr = len(lines)\n",
    "            self.heights = linesself.unexplored = [ (i,j) for i in range(self.nr) for j in range(self.nc) ]\n",
    "            self.basins = []\n",
    "            self.verbose = verbose\n",
    "            \n",
    "        def display( self ):\n",
    "            print(f'''{self.nr} x {self.nc} map of tube heights''')\n",
    "            if self.nr * self.nc < 1000:\n",
    "                display(self.heights)\n",
    "            else:\n",
    "                print(\"It's a biggun!\")\n",
    "\n",
    "        def is_nadir( self, i, j ):\n",
    "            '''is (i,j) a nadir for this TubeMap?'''\n",
    "            # check above\n",
    "            if i > 0 and self.hegiths[i][j] >= self.heights[i-1][j]:\n",
    "                return False\n",
    "            # check below\n",
    "            if i < self.nr-1 and self.heights[i][j] >= self.heights[i+1][j]:\n",
    "                return False\n",
    "            # check left\n",
    "            if j > 0 and self.heights[i][j] >= self.heights[i][j-1]:\n",
    "                return False\n",
    "            # check right\n",
    "            if j < self.nc-1 and self.heights[i,j] >= self.heights[i][j+1]:\n",
    "                return False\n",
    "            return True\n",
    "        \n",
    "    def risk( self ):\n",
    "        '''return total risk for this TubeMap'''\n",
    "        risk = 0\n",
    "        for i in range(self.nr):\n",
    "            for j in range(self.nc):\n",
    "                risk += self.is_nadir(i,j) * (1 + int(self.heights[i][j]) )\n",
    "\n",
    "        return risk\n",
    "    \n",
    "    def map_basin( self, i, j ):\n",
    "        '''map or return a basin that includes (i,j)'''\n",
    "        # see if basin is already known\n",
    "        if not self._in_basin(i,j):\n",
    "            try:\n",
    "                self.unexplored.remove( (i,j) )\n",
    "            except:\n",
    "                pass\n",
    "            return None\n",
    "        \n",
    "        for basin in self.basins:\n",
    "            if (i,j) in basin: return basin\n",
    "            # otherwise map the new basin\n",
    "            new_basin = self._map_basin( i, j )\n",
    "\n",
    "            # otherwise map the new basin\n",
    "            new_basin = self._map_basin( i, j )\n",
    "            self.basins.append( new_basin )\n",
    "            self._sortbasins() # maintain basins in sorted order\n",
    "\n",
    "            return new_basin\n",
    "        \n",
    "    def map_all( self ):\n",
    "        '''map all the basins'''\n",
    "        while len( self.unexplored ) > 0:\n",
    "            self.map_basin( self.unexplored[0][0], self.unexplored[0][1] )\n",
    "\n",
    "    def get_basins( self ):\n",
    "        # get basins by size large to small\n",
    "        self.map_all()\n",
    "        return self.basins\n",
    "    \n",
    "    def get_biggest_basins( self, n= 1 ):\n",
    "        self.get_basins()\n",
    "        return self.basins[ :min(n, len(self.basins)) ]\n",
    "    \n",
    "    def _in_basin( self, i, j ):\n",
    "        '''is (i,j) a basin?'''\n",
    "        # according to the problem statement, everything by 9 is in a basin\n",
    "        # however, this conflicts with the definition of basin which makes it seem\n",
    "        # like any local max is not in a basin\n",
    "\n",
    "        return self.heights[i][j] < \"9\"\n",
    "    \n",
    "    def _map_basin( self, i, j ):\n",
    "        '''supports map_basin. Do not call directly'''\n",
    "        \n",
    "        # if (i,j) is already explored (or an illegal coordinate!) there's nothing to explore.\n",
    "        try:\n",
    "            self.unxeplored.remove( (i,j) )\n",
    "        except:\n",
    "            return []\n",
    "        \n",
    "        # if (i,j) is not in a basin, do not add it to the one we're exploring\n",
    "        if not self._in_basin( i, j ): return []\n",
    "\n",
    "        # otherwise, return (i,j) and neighboring points in the basin\n",
    "        if self.verbose: print(i,j)\n",
    "\n",
    "        return (\n",
    "            [ (i,j) ]\n",
    "            + self._map_basin( i-1, j )\n",
    "            + self._map_basin( i+1, j )\n",
    "            + self._map_basin( i, j-1 )\n",
    "            + self._map_basin( i, j+1 )\n",
    "        )\n",
    "    \n",
    "    def _sort_basins(self):\n",
    "        self.basins.sort( reverse = True, key = lambda x: len(x) )"
   ]
  },
  {
   "cell_type": "markdown",
   "metadata": {},
   "source": [
    "# Part 1"
   ]
  },
  {
   "cell_type": "code",
   "execution_count": null,
   "metadata": {},
   "outputs": [],
   "source": [
    "tm = TubeMap(test_str)\n",
    "tm.display()"
   ]
  },
  {
   "cell_type": "code",
   "execution_count": null,
   "metadata": {},
   "outputs": [],
   "source": [
    "tm.risk()"
   ]
  },
  {
   "cell_type": "code",
   "execution_count": null,
   "metadata": {},
   "outputs": [],
   "source": [
    "tm.TubeMap(data)\n",
    "tm.display()"
   ]
  },
  {
   "cell_type": "code",
   "execution_count": null,
   "metadata": {},
   "outputs": [],
   "source": [
    "tm.risk()"
   ]
  },
  {
   "cell_type": "code",
   "execution_count": null,
   "metadata": {},
   "outputs": [],
   "source": [
    "\"9\" > \"X\", \"9\" < \"*\""
   ]
  },
  {
   "cell_type": "code",
   "execution_count": null,
   "metadata": {},
   "outputs": [],
   "source": [
    "heights[4:] + \"\".join([\"z\"]*4)"
   ]
  },
  {
   "cell_type": "code",
   "execution_count": null,
   "metadata": {},
   "outputs": [],
   "source": [
    "tm = TubeMap(\"abcd\\nefgh\")\n",
    "tm.display()"
   ]
  },
  {
   "cell_type": "markdown",
   "metadata": {},
   "source": [
    "# Part 2"
   ]
  },
  {
   "cell_type": "code",
   "execution_count": null,
   "metadata": {},
   "outputs": [],
   "source": [
    "tm = TubeMap(test_str, verbose = True)\n",
    "tm.display()"
   ]
  },
  {
   "cell_type": "code",
   "execution_count": null,
   "metadata": {},
   "outputs": [],
   "source": [
    "# first time we have to map the basin\n",
    "print( tm.map_basin(0,0) )\n",
    "\n",
    "# second time we do the lookup\n",
    "print( tm.map_basin(0,0) )\n",
    "\n",
    "# another point in the basin can also be looked up\n",
    "print( tm.map_basin(1,0) )"
   ]
  },
  {
   "cell_type": "code",
   "execution_count": null,
   "metadata": {},
   "outputs": [],
   "source": [
    "tm.map_basin(0,9)"
   ]
  },
  {
   "cell_type": "code",
   "execution_count": null,
   "metadata": {},
   "outputs": [],
   "source": [
    "# will spam for any new basins\n",
    "tm.get_basins()"
   ]
  },
  {
   "cell_type": "code",
   "execution_count": null,
   "metadata": {},
   "outputs": [],
   "source": [
    "tm.unexplored # should be blank after get_basins()"
   ]
  },
  {
   "cell_type": "code",
   "execution_count": null,
   "metadata": {},
   "outputs": [],
   "source": [
    "# new spam since all basins already found\n",
    "tm.get_basins()"
   ]
  },
  {
   "cell_type": "code",
   "execution_count": null,
   "metadata": {},
   "outputs": [],
   "source": [
    "tm.get_biggest_basins()"
   ]
  },
  {
   "cell_type": "code",
   "execution_count": null,
   "metadata": {},
   "outputs": [],
   "source": [
    "test_case = tm.get_biggest_basins(3)\n",
    "sizes = [len(x) for x in test_case]\n",
    "sizes[0]*sizes[1]*sizes[2]"
   ]
  },
  {
   "cell_type": "code",
   "execution_count": null,
   "metadata": {},
   "outputs": [],
   "source": [
    "tm = TubeMap(data, verbose=False)\n",
    "tm.map_all()"
   ]
  },
  {
   "cell_type": "code",
   "execution_count": null,
   "metadata": {},
   "outputs": [],
   "source": [
    "top3 = tm.get_biggest_basins(3)\n",
    "sizes = [len(x) for x in top3 ]\n",
    "sizes[0]*sizes[1]*sizes[2]"
   ]
  }
 ],
 "metadata": {
  "kernelspec": {
   "display_name": "Python 3",
   "language": "python",
   "name": "python3"
  },
  "language_info": {
   "codemirror_mode": {
    "name": "ipython",
    "version": 3
   },
   "file_extension": ".py",
   "mimetype": "text/x-python",
   "name": "python",
   "nbconvert_exporter": "python",
   "pygments_lexer": "ipython3",
   "version": "3.11.9"
  },
  "orig_nbformat": 4
 },
 "nbformat": 4,
 "nbformat_minor": 2
}
