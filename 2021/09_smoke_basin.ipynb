{
 "cells": [
  {
   "attachments": {},
   "cell_type": "markdown",
   "metadata": {},
   "source": [
    "# December 09, 2021\n",
    "\n",
    "https://adventofcode.com/2021/day/9"
   ]
  },
  {
   "cell_type": "code",
   "execution_count": 1,
   "metadata": {},
   "outputs": [],
   "source": [
    "import pandas as pd\n",
    "import numpy as np"
   ]
  },
  {
   "cell_type": "code",
   "execution_count": 2,
   "metadata": {},
   "outputs": [],
   "source": [
    "with open(\"../data/2021/09.txt\", \"r\") as f:\n",
    "    data = f.read()"
   ]
  },
  {
   "cell_type": "code",
   "execution_count": 3,
   "metadata": {},
   "outputs": [],
   "source": [
    "test_str = \"2199943210\\n3987894921\\n9856789892\\n8767896789\\n9899965678\""
   ]
  },
  {
   "cell_type": "code",
   "execution_count": 4,
   "metadata": {},
   "outputs": [],
   "source": [
    "class TubeMap:\n",
    "    def __init__( self, data, verbose = False ):\n",
    "        # construct from a single string with \\n to separate lines\n",
    "        # imagine that... using a new line separator to separate lines!\n",
    "        lines = data.split(\"\\n\")\n",
    "\n",
    "        # remove blank line if data ends in newline\n",
    "        if len(lines[-1]) == 0:\n",
    "            lines = lines[:-1]\n",
    "        ncols = [len(x) for x in lines]\n",
    "\n",
    "        if max(ncols) != min(ncols):\n",
    "            raise \"Not all lines have the same length!\"\n",
    "            \n",
    "        self.nc = ncols[0]\n",
    "        self.nr = len(lines)\n",
    "        self.heights = lines\n",
    "        self.unexplored = [ (i,j) for i in range(self.nr) for j in range(self.nc) ]\n",
    "        self.basins = []\n",
    "        self.verbose = verbose\n",
    "            \n",
    "    def display( self ):\n",
    "        print(f'''{self.nr} x {self.nc} map of tube heights''')\n",
    "        if self.nr * self.nc < 1000:\n",
    "            display(self.heights)\n",
    "        else:\n",
    "            print(\"It's a biggun!\")\n",
    "\n",
    "    def is_nadir( self, i, j ):\n",
    "        '''is (i,j) a nadir for this TubeMap?'''\n",
    "\n",
    "        # check above\n",
    "        if i > 0 and self.heights[i][j] >= self.heights[i-1][j]:\n",
    "            return False\n",
    "        # check below\n",
    "        if i < self.nr-1 and self.heights[i][j] >= self.heights[i+1][j]:\n",
    "            return False\n",
    "        # check left\n",
    "        if j > 0 and self.heights[i][j] >= self.heights[i][j-1]:\n",
    "            return False\n",
    "        # check right\n",
    "        if j < self.nc-1 and self.heights[i][j] >= self.heights[i][j+1]:\n",
    "            return False\n",
    "        return True\n",
    "        \n",
    "    def risk( self ):\n",
    "        '''return total risk for this TubeMap'''\n",
    "        risk = 0\n",
    "        for i in range(self.nr):\n",
    "            for j in range(self.nc):\n",
    "                risk += self.is_nadir(i,j) * (1 + int(self.heights[i][j]) )\n",
    "\n",
    "        return risk\n",
    "    \n",
    "    def map_basin( self, i, j ):\n",
    "        '''map or return a basin that includes (i,j)'''\n",
    "        # see if basin is already known\n",
    "        if not self._in_basin(i,j):\n",
    "            try:\n",
    "                self.unexplored.remove( (i,j) )\n",
    "            except:\n",
    "                pass\n",
    "            return None\n",
    "        \n",
    "        for basin in self.basins:\n",
    "            if (i,j) in basin: return basin\n",
    "\n",
    "        # otherwise map the new basin\n",
    "        new_basin = self._map_basin( i, j )\n",
    "        self.basins.append( new_basin )\n",
    "        self._sort_basins() # maintain basins in sorted order\n",
    "\n",
    "        return new_basin\n",
    "        \n",
    "    def map_all( self ):\n",
    "        '''map all the basins'''\n",
    "        while len( self.unexplored ) > 0:\n",
    "            self.map_basin( self.unexplored[0][0], self.unexplored[0][1] )\n",
    "\n",
    "    def get_basins( self ):\n",
    "        # get basins by size large to small\n",
    "        self.map_all()\n",
    "        return self.basins\n",
    "    \n",
    "    def get_biggest_basins( self, n=1 ):\n",
    "        self.get_basins()\n",
    "        return self.basins[ :min(n, len(self.basins)) ]\n",
    "    \n",
    "    def _in_basin( self, i, j ):\n",
    "        '''is (i,j) a basin?'''\n",
    "        # according to the problem statement, everything by 9 is in a basin\n",
    "        # however, this conflicts with the definition of basin which makes it seem\n",
    "        # like any local max is not in a basin\n",
    "\n",
    "        return self.heights[i][j] < \"9\"\n",
    "    \n",
    "    def _map_basin( self, i, j ):\n",
    "        '''supports map_basin. Do not call directly'''\n",
    "        \n",
    "        # if (i,j) is already explored (or an illegal coordinate!) there's nothing to explore.\n",
    "        try:\n",
    "            self.unexplored.remove( (i,j) )\n",
    "        except:\n",
    "            return []\n",
    "        \n",
    "        # if (i,j) is not in a basin, do not add it to the one we're exploring\n",
    "        if not self._in_basin( i, j ): return []\n",
    "\n",
    "        # otherwise, return (i,j) and neighboring points in the basin\n",
    "        if self.verbose: print(i,j)\n",
    "\n",
    "        return (\n",
    "            [ (i,j) ]\n",
    "            + self._map_basin( i-1, j )\n",
    "            + self._map_basin( i+1, j )\n",
    "            + self._map_basin( i, j-1 )\n",
    "            + self._map_basin( i, j+1 )\n",
    "        )\n",
    "    \n",
    "    def _sort_basins(self):\n",
    "        self.basins.sort( reverse = True, key = lambda x: len(x) )"
   ]
  },
  {
   "cell_type": "markdown",
   "metadata": {},
   "source": [
    "# Part 1"
   ]
  },
  {
   "cell_type": "code",
   "execution_count": 5,
   "metadata": {},
   "outputs": [
    {
     "name": "stdout",
     "output_type": "stream",
     "text": [
      "5 x 10 map of tube heights\n"
     ]
    },
    {
     "data": {
      "text/plain": [
       "['2199943210', '3987894921', '9856789892', '8767896789', '9899965678']"
      ]
     },
     "metadata": {},
     "output_type": "display_data"
    }
   ],
   "source": [
    "tm = TubeMap(test_str)\n",
    "tm.display()"
   ]
  },
  {
   "cell_type": "code",
   "execution_count": 6,
   "metadata": {},
   "outputs": [
    {
     "data": {
      "text/plain": [
       "15"
      ]
     },
     "execution_count": 6,
     "metadata": {},
     "output_type": "execute_result"
    }
   ],
   "source": [
    "tm.risk()"
   ]
  },
  {
   "cell_type": "code",
   "execution_count": 7,
   "metadata": {},
   "outputs": [
    {
     "name": "stdout",
     "output_type": "stream",
     "text": [
      "100 x 100 map of tube heights\n",
      "It's a biggun!\n"
     ]
    }
   ],
   "source": [
    "tm = TubeMap(data)\n",
    "tm.display()"
   ]
  },
  {
   "cell_type": "code",
   "execution_count": 8,
   "metadata": {},
   "outputs": [
    {
     "data": {
      "text/plain": [
       "633"
      ]
     },
     "execution_count": 8,
     "metadata": {},
     "output_type": "execute_result"
    }
   ],
   "source": [
    "tm.risk()"
   ]
  },
  {
   "cell_type": "markdown",
   "metadata": {},
   "source": [
    "# Part 2"
   ]
  },
  {
   "cell_type": "code",
   "execution_count": 9,
   "metadata": {},
   "outputs": [
    {
     "name": "stdout",
     "output_type": "stream",
     "text": [
      "5 x 10 map of tube heights\n"
     ]
    },
    {
     "data": {
      "text/plain": [
       "['2199943210', '3987894921', '9856789892', '8767896789', '9899965678']"
      ]
     },
     "metadata": {},
     "output_type": "display_data"
    }
   ],
   "source": [
    "tm = TubeMap(test_str, verbose = True)\n",
    "tm.display()"
   ]
  },
  {
   "cell_type": "code",
   "execution_count": 10,
   "metadata": {},
   "outputs": [
    {
     "name": "stdout",
     "output_type": "stream",
     "text": [
      "0 0\n",
      "1 0\n",
      "0 1\n",
      "[(0, 0), (1, 0), (0, 1)]\n",
      "[(0, 0), (1, 0), (0, 1)]\n",
      "[(0, 0), (1, 0), (0, 1)]\n"
     ]
    }
   ],
   "source": [
    "# first time we have to map the basin\n",
    "print( tm.map_basin(0,0) )\n",
    "\n",
    "# second time we do the lookup\n",
    "print( tm.map_basin(0,0) )\n",
    "\n",
    "# another point in the basin can also be looked up\n",
    "print( tm.map_basin(1,0) )"
   ]
  },
  {
   "cell_type": "code",
   "execution_count": 11,
   "metadata": {},
   "outputs": [
    {
     "name": "stdout",
     "output_type": "stream",
     "text": [
      "0 9\n",
      "1 9\n",
      "2 9\n",
      "1 8\n",
      "0 8\n",
      "0 7\n",
      "0 6\n",
      "1 6\n",
      "0 5\n"
     ]
    },
    {
     "data": {
      "text/plain": [
       "[(0, 9), (1, 9), (2, 9), (1, 8), (0, 8), (0, 7), (0, 6), (1, 6), (0, 5)]"
      ]
     },
     "execution_count": 11,
     "metadata": {},
     "output_type": "execute_result"
    }
   ],
   "source": [
    "tm.map_basin(0,9)"
   ]
  },
  {
   "cell_type": "code",
   "execution_count": 12,
   "metadata": {},
   "outputs": [
    {
     "name": "stdout",
     "output_type": "stream",
     "text": [
      "1 2\n",
      "2 2\n",
      "3 2\n",
      "3 1\n",
      "2 1\n",
      "4 1\n",
      "3 0\n",
      "3 3\n",
      "2 3\n",
      "1 3\n",
      "1 4\n",
      "2 4\n",
      "3 4\n",
      "2 5\n",
      "2 7\n",
      "3 7\n",
      "4 7\n",
      "4 6\n",
      "3 6\n",
      "4 5\n",
      "4 8\n",
      "3 8\n",
      "4 9\n"
     ]
    },
    {
     "data": {
      "text/plain": [
       "[[(1, 2),\n",
       "  (2, 2),\n",
       "  (3, 2),\n",
       "  (3, 1),\n",
       "  (2, 1),\n",
       "  (4, 1),\n",
       "  (3, 0),\n",
       "  (3, 3),\n",
       "  (2, 3),\n",
       "  (1, 3),\n",
       "  (1, 4),\n",
       "  (2, 4),\n",
       "  (3, 4),\n",
       "  (2, 5)],\n",
       " [(0, 9), (1, 9), (2, 9), (1, 8), (0, 8), (0, 7), (0, 6), (1, 6), (0, 5)],\n",
       " [(2, 7), (3, 7), (4, 7), (4, 6), (3, 6), (4, 5), (4, 8), (3, 8), (4, 9)],\n",
       " [(0, 0), (1, 0), (0, 1)]]"
      ]
     },
     "execution_count": 12,
     "metadata": {},
     "output_type": "execute_result"
    }
   ],
   "source": [
    "# will spam for any new basins\n",
    "tm.get_basins()"
   ]
  },
  {
   "cell_type": "code",
   "execution_count": 13,
   "metadata": {},
   "outputs": [
    {
     "data": {
      "text/plain": [
       "[]"
      ]
     },
     "execution_count": 13,
     "metadata": {},
     "output_type": "execute_result"
    }
   ],
   "source": [
    "tm.unexplored # should be blank after get_basins()"
   ]
  },
  {
   "cell_type": "code",
   "execution_count": 14,
   "metadata": {},
   "outputs": [
    {
     "data": {
      "text/plain": [
       "[[(1, 2),\n",
       "  (2, 2),\n",
       "  (3, 2),\n",
       "  (3, 1),\n",
       "  (2, 1),\n",
       "  (4, 1),\n",
       "  (3, 0),\n",
       "  (3, 3),\n",
       "  (2, 3),\n",
       "  (1, 3),\n",
       "  (1, 4),\n",
       "  (2, 4),\n",
       "  (3, 4),\n",
       "  (2, 5)],\n",
       " [(0, 9), (1, 9), (2, 9), (1, 8), (0, 8), (0, 7), (0, 6), (1, 6), (0, 5)],\n",
       " [(2, 7), (3, 7), (4, 7), (4, 6), (3, 6), (4, 5), (4, 8), (3, 8), (4, 9)],\n",
       " [(0, 0), (1, 0), (0, 1)]]"
      ]
     },
     "execution_count": 14,
     "metadata": {},
     "output_type": "execute_result"
    }
   ],
   "source": [
    "# new spam since all basins already found\n",
    "tm.get_basins()"
   ]
  },
  {
   "cell_type": "code",
   "execution_count": 15,
   "metadata": {},
   "outputs": [
    {
     "data": {
      "text/plain": [
       "[[(1, 2),\n",
       "  (2, 2),\n",
       "  (3, 2),\n",
       "  (3, 1),\n",
       "  (2, 1),\n",
       "  (4, 1),\n",
       "  (3, 0),\n",
       "  (3, 3),\n",
       "  (2, 3),\n",
       "  (1, 3),\n",
       "  (1, 4),\n",
       "  (2, 4),\n",
       "  (3, 4),\n",
       "  (2, 5)]]"
      ]
     },
     "execution_count": 15,
     "metadata": {},
     "output_type": "execute_result"
    }
   ],
   "source": [
    "tm.get_biggest_basins()"
   ]
  },
  {
   "cell_type": "code",
   "execution_count": 16,
   "metadata": {},
   "outputs": [
    {
     "data": {
      "text/plain": [
       "1134"
      ]
     },
     "execution_count": 16,
     "metadata": {},
     "output_type": "execute_result"
    }
   ],
   "source": [
    "test_case = tm.get_biggest_basins(3)\n",
    "sizes = [len(x) for x in test_case]\n",
    "sizes[0]*sizes[1]*sizes[2]"
   ]
  },
  {
   "cell_type": "code",
   "execution_count": 17,
   "metadata": {},
   "outputs": [],
   "source": [
    "tm = TubeMap(data, verbose=False)\n",
    "tm.map_all()"
   ]
  },
  {
   "cell_type": "code",
   "execution_count": 18,
   "metadata": {},
   "outputs": [
    {
     "data": {
      "text/plain": [
       "1050192"
      ]
     },
     "execution_count": 18,
     "metadata": {},
     "output_type": "execute_result"
    }
   ],
   "source": [
    "top3 = tm.get_biggest_basins(3)\n",
    "sizes = [len(x) for x in top3 ]\n",
    "sizes[0]*sizes[1]*sizes[2]"
   ]
  }
 ],
 "metadata": {
  "kernelspec": {
   "display_name": "Python 3",
   "language": "python",
   "name": "python3"
  },
  "language_info": {
   "codemirror_mode": {
    "name": "ipython",
    "version": 3
   },
   "file_extension": ".py",
   "mimetype": "text/x-python",
   "name": "python",
   "nbconvert_exporter": "python",
   "pygments_lexer": "ipython3",
   "version": "3.11.9"
  },
  "orig_nbformat": 4
 },
 "nbformat": 4,
 "nbformat_minor": 2
}
