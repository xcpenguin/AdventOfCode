{
 "cells": [
  {
   "attachments": {},
   "cell_type": "markdown",
   "metadata": {},
   "source": [
    "# December 06, 2021\n",
    "\n",
    "https://adventofcode.com/2021/day/6"
   ]
  },
  {
   "cell_type": "code",
   "execution_count": 1,
   "metadata": {},
   "outputs": [],
   "source": [
    "import pandas as pd\n",
    "import numpy as np"
   ]
  },
  {
   "cell_type": "markdown",
   "metadata": {},
   "source": [
    "# Read Data"
   ]
  },
  {
   "cell_type": "code",
   "execution_count": null,
   "metadata": {},
   "outputs": [],
   "source": [
    "init = pd.read_csv(\"data/day06.txt\", sep=\"\\n\", header=None)\n",
    "init = [int(x) for x in init[0][0].split(\",\")]"
   ]
  },
  {
   "cell_type": "markdown",
   "metadata": {},
   "source": [
    "# Part 1\n",
    "How many lanternfish"
   ]
  },
  {
   "cell_type": "code",
   "execution_count": 2,
   "metadata": {},
   "outputs": [],
   "source": [
    "def spawn( timer, days, cycle, mature, d0=0 ):\n",
    "    # timer = days until next offspring\n",
    "    # days = days for simulation\n",
    "    # cycle = number of days between offspring\n",
    "    # mature = exrta das for first cycle of new offspring\n",
    "\n",
    "    births = range(timer+1, days, cycle):\n",
    "    # no time for kids\n",
    "    if timer >= days:\n",
    "        return 0\n",
    "    \n",
    "    pop = len(births)\n",
    "    for b in births:\n",
    "        pop += spawn( cycle+mature-1, days-b, cycle, mature, b)\n",
    "\n",
    "    return pop\n",
    "\n",
    "def count_pop( timers, days, cycle, mature ):\n",
    "    newbs = sum( spawn(t, days, cycle, mature) for t in timers )\n",
    "    return newbs + len(timers)"
   ]
  },
  {
   "cell_type": "code",
   "execution_count": null,
   "metadata": {},
   "outputs": [],
   "source": [
    "def print_pop( pop, day, wid=3 ):\n",
    "    print( f\"{day:3d}:\", \", \".join( f\"{x:3d}\" for x in pop ) )\n",
    "\n",
    "def simulate( timers, days, cycle=7, mature=2, verbose=False ):\n",
    "    cnts = pd.Series(timers).value_counts()\n",
    "\n",
    "    for t in range(cycle+mature):\n",
    "        if t not in cnts.index:\n",
    "            cnts[t] = 0\n",
    "\n",
    "    # cnts[t] = number of fish at timer t\n",
    "    cnts = cnts.sort_index().tolist()\n",
    "    if verbose:\n",
    "        print_pop(cnts, 0)\n",
    "\n",
    "    d = 0\n",
    "    while d < days:\n",
    "        d += 1\n",
    "        # all timers decrement\n",
    "        # and 0s spawn a max-timer fish\n",
    "        cnts = cnts[1:] + cnts[:1]\n",
    "        # 0s also become a cycle-timer fish so add them in there\n",
    "        cnts[cycle-1] += cnts[-1]\n",
    "        if verbose: print_pop(cnts, d)\n",
    "    return sum(cnts)"
   ]
  },
  {
   "cell_type": "code",
   "execution_count": null,
   "metadata": {},
   "outputs": [],
   "source": [
    "simulate(test, 18,7, 2, True)"
   ]
  },
  {
   "cell_type": "code",
   "execution_count": 3,
   "metadata": {},
   "outputs": [],
   "source": [
    "simulate(init, 9, 7, 2, True)"
   ]
  },
  {
   "cell_type": "code",
   "execution_count": null,
   "metadata": {},
   "outputs": [],
   "source": [
    "simulate(init, 80, 7, 2)"
   ]
  },
  {
   "cell_type": "markdown",
   "metadata": {},
   "source": [
    "# Part 2"
   ]
  },
  {
   "cell_type": "code",
   "execution_count": 6,
   "metadata": {},
   "outputs": [],
   "source": [
    "simulate(test, 256)"
   ]
  },
  {
   "cell_type": "code",
   "execution_count": null,
   "metadata": {},
   "outputs": [],
   "source": [
    "simulate(init, 256)"
   ]
  }
 ],
 "metadata": {
  "kernelspec": {
   "display_name": "Python 3",
   "language": "python",
   "name": "python3"
  },
  "language_info": {
   "codemirror_mode": {
    "name": "ipython",
    "version": 3
   },
   "file_extension": ".py",
   "mimetype": "text/x-python",
   "name": "python",
   "nbconvert_exporter": "python",
   "pygments_lexer": "ipython3",
   "version": "3.11.9"
  },
  "orig_nbformat": 4
 },
 "nbformat": 4,
 "nbformat_minor": 2
}
