{
 "cells": [
  {
   "attachments": {},
   "cell_type": "markdown",
   "metadata": {},
   "source": [
    "# December 19, 2023\n",
    "\n",
    "https://adventofcode.com/2023/day/19"
   ]
  },
  {
   "cell_type": "code",
   "execution_count": null,
   "metadata": {},
   "outputs": [],
   "source": [
    "import re"
   ]
  },
  {
   "cell_type": "code",
   "execution_count": 9,
   "metadata": {},
   "outputs": [],
   "source": [
    "test = f'''px{{a<2006:qkq,m>2090:A,rfg}}\n",
    "pv{{a>1716:R,A}}\n",
    "lnx{{m>1548:A,A}}\n",
    "rfg{{s<537:gd,x>2440:R,A}}\n",
    "qs{{s>3448:A,lnx}}\n",
    "qkq{{x<1416:A,crn}}\n",
    "crn{{x>2662:A,R}}\n",
    "in{{s<1351:px,qqz}}\n",
    "qqz{{s>2770:qs,m<1801:hdj,R}}\n",
    "gd{{a>3333:R,R}}\n",
    "hdj{{m>838:A,pv}}\n",
    "\n",
    "{{x=787,m=2655,a=1222,s=2876}}\n",
    "{{x=1679,m=44,a=2067,s=496}}\n",
    "{{x=2036,m=264,a=79,s=2244}}\n",
    "{{x=2461,m=1339,a=466,s=291}}\n",
    "{{x=2127,m=1623,a=2188,s=1013}}'''\n",
    "\n",
    "test_text = test.split(\"\\n\")"
   ]
  },
  {
   "cell_type": "code",
   "execution_count": 10,
   "metadata": {},
   "outputs": [
    {
     "data": {
      "text/plain": [
       "['px{a<2006:qkq,m>2090:A,rfg}',\n",
       " 'pv{a>1716:R,A}',\n",
       " 'lnx{m>1548:A,A}',\n",
       " 'rfg{s<537:gd,x>2440:R,A}',\n",
       " 'qs{s>3448:A,lnx}',\n",
       " 'qkq{x<1416:A,crn}',\n",
       " 'crn{x>2662:A,R}',\n",
       " 'in{s<1351:px,qqz}',\n",
       " 'qqz{s>2770:qs,m<1801:hdj,R}',\n",
       " 'gd{a>3333:R,R}',\n",
       " 'hdj{m>838:A,pv}',\n",
       " '',\n",
       " '{x=787,m=2655,a=1222,s=2876}',\n",
       " '{x=1679,m=44,a=2067,s=496}',\n",
       " '{x=2036,m=264,a=79,s=2244}',\n",
       " '{x=2461,m=1339,a=466,s=291}',\n",
       " '{x=2127,m=1623,a=2188,s=1013}']"
      ]
     },
     "execution_count": 10,
     "metadata": {},
     "output_type": "execute_result"
    }
   ],
   "source": [
    "test_text"
   ]
  },
  {
   "cell_type": "code",
   "execution_count": 11,
   "metadata": {},
   "outputs": [],
   "source": [
    "fn = \"data/19.txt\"\n",
    "with open(fn, \"r\") as file:\n",
    "    text = file.readlines()\n",
    "\n",
    "puzz_text = [x.strip() for x in text]"
   ]
  },
  {
   "cell_type": "code",
   "execution_count": 99,
   "metadata": {},
   "outputs": [],
   "source": [
    "class Test:\n",
    "    '''Test class takes a spec string and then can test toys using test method.'''\n",
    "    def __init__(self, spec):\n",
    "        if \":\" in spec:\n",
    "            m = re.fullmatch(\"([xmas])(.)(\\d+):(\\w+)\", spec)\n",
    "            self.dim = m[1]\n",
    "            self.op = m[2]\n",
    "            self.cutoff = int(m[3])\n",
    "            self.out = m[4]\n",
    "        else:\n",
    "            self.dim = self.op = self.cutoff = None\n",
    "            self.out = spec\n",
    "\n",
    "\n",
    "    def test(self, toy):\n",
    "        if self.op is None:\n",
    "            return self.out\n",
    "        elif self.op == \">\":\n",
    "            if toy[self.dim] > self.cutoff:\n",
    "                return self.out\n",
    "            else:\n",
    "                return None\n",
    "        elif self.op == \"<\":\n",
    "            if toy[self.dim] < self.cutoff:\n",
    "                return self.out\n",
    "            else:\n",
    "                return None\n",
    "        else:\n",
    "            raise Exception(\"Unrecognized operation: \" + m[2])"
   ]
  },
  {
   "cell_type": "code",
   "execution_count": 100,
   "metadata": {},
   "outputs": [],
   "source": [
    "class Workflow:\n",
    "    '''create a named workflow with a method to run a toy through it'''\n",
    "    def __init__(self, line):\n",
    "        m = re.fullmatch(\"(\\w+){(.*)}\", line)\n",
    "        self.name = m[1]\n",
    "        specs = m[2].split(\",\")\n",
    "        \n",
    "        self.tests = [Test(spec) for spec in specs]\n",
    "\n",
    "    def run(self, toy):\n",
    "        for test in self.tests:\n",
    "            out = test.test(toy)\n",
    "            if out is not None:\n",
    "                return out"
   ]
  },
  {
   "cell_type": "markdown",
   "metadata": {},
   "source": [
    "### Part 1"
   ]
  },
  {
   "cell_type": "code",
   "execution_count": 101,
   "metadata": {},
   "outputs": [],
   "source": [
    "def parse_input(text):\n",
    "    workflows = {}\n",
    "    toys = []\n",
    "    for i, line in enumerate(text):\n",
    "        if len(line) == 0:\n",
    "            break\n",
    "\n",
    "        wf = Workflow(line)\n",
    "        workflows[wf.name] = wf\n",
    "    \n",
    "    for line in text[i+1:]:\n",
    "        m = re.fullmatch(\"{x=(\\d+),m=(\\d+),a=(\\d+),s=(\\d+)}\", line)\n",
    "        toy = {'x':int(m[1]), 'm':int(m[2]), 'a':int(m[3]), 's':int(m[4])}\n",
    "        toys.append(toy)\n",
    "\n",
    "    return {'workflows':workflows, 'toys':toys}\n",
    "\n",
    "def sort_toy( workflows, toy ):\n",
    "    out = workflows['in'].run(toy)\n",
    "    while out not in ('A', 'R'):\n",
    "        out = workflows[out].run(toy)\n",
    "\n",
    "    if out == 'A':\n",
    "        return True\n",
    "    elif out == 'R':\n",
    "        return False\n",
    "    else:\n",
    "        raise Exception(\"toy sort fail\")\n",
    "\n",
    "def part1( puzz, verbose=False ):\n",
    "    tot = 0\n",
    "    for toy in puzz['toys']:\n",
    "        accept = sort_toy( puzz['workflows'], toy )\n",
    "        if verbose:\n",
    "            print(accept)\n",
    "        if accept:\n",
    "            tot += toy['x'] + toy['m'] + toy['a'] + toy['s']\n",
    "            if verbose:\n",
    "                print(tot)\n",
    "    \n",
    "    return tot\n"
   ]
  },
  {
   "cell_type": "code",
   "execution_count": 102,
   "metadata": {},
   "outputs": [],
   "source": [
    "test = parse_input(test_text)"
   ]
  },
  {
   "cell_type": "code",
   "execution_count": 103,
   "metadata": {},
   "outputs": [
    {
     "data": {
      "text/plain": [
       "True"
      ]
     },
     "execution_count": 103,
     "metadata": {},
     "output_type": "execute_result"
    }
   ],
   "source": [
    "sort_toy(test['workflows'], test['toys'][0])"
   ]
  },
  {
   "cell_type": "code",
   "execution_count": 104,
   "metadata": {},
   "outputs": [
    {
     "name": "stdout",
     "output_type": "stream",
     "text": [
      "True\n",
      "7540\n",
      "False\n",
      "True\n",
      "12163\n",
      "False\n",
      "True\n",
      "19114\n"
     ]
    },
    {
     "data": {
      "text/plain": [
       "19114"
      ]
     },
     "execution_count": 104,
     "metadata": {},
     "output_type": "execute_result"
    }
   ],
   "source": [
    "part1(test, verbose=True)"
   ]
  },
  {
   "cell_type": "code",
   "execution_count": 105,
   "metadata": {},
   "outputs": [
    {
     "data": {
      "text/plain": [
       "348378"
      ]
     },
     "execution_count": 105,
     "metadata": {},
     "output_type": "execute_result"
    }
   ],
   "source": [
    "puzz = parse_input(puzz_text)\n",
    "part1(puzz)"
   ]
  },
  {
   "attachments": {},
   "cell_type": "markdown",
   "metadata": {},
   "source": [
    "### Part 2"
   ]
  },
  {
   "cell_type": "code",
   "execution_count": 106,
   "metadata": {},
   "outputs": [
    {
     "data": {
      "text/plain": [
       "['px{a<2006:qkq,m>2090:A,rfg}',\n",
       " 'pv{a>1716:R,A}',\n",
       " 'lnx{m>1548:A,A}',\n",
       " 'rfg{s<537:gd,x>2440:R,A}',\n",
       " 'qs{s>3448:A,lnx}',\n",
       " 'qkq{x<1416:A,crn}',\n",
       " 'crn{x>2662:A,R}',\n",
       " 'in{s<1351:px,qqz}',\n",
       " 'qqz{s>2770:qs,m<1801:hdj,R}',\n",
       " 'gd{a>3333:R,R}',\n",
       " 'hdj{m>838:A,pv}',\n",
       " '',\n",
       " '{x=787,m=2655,a=1222,s=2876}',\n",
       " '{x=1679,m=44,a=2067,s=496}',\n",
       " '{x=2036,m=264,a=79,s=2244}',\n",
       " '{x=2461,m=1339,a=466,s=291}',\n",
       " '{x=2127,m=1623,a=2188,s=1013}']"
      ]
     },
     "execution_count": 106,
     "metadata": {},
     "output_type": "execute_result"
    }
   ],
   "source": [
    "test_text"
   ]
  },
  {
   "cell_type": "code",
   "execution_count": 165,
   "metadata": {},
   "outputs": [],
   "source": [
    "def copy_toy_range( tr ):\n",
    "    return {'flow':tr['flow'], 'x':tr['x'].copy(), 'm':tr['m'].copy(),'a':tr['a'].copy(), 's':tr['s'].copy()}\n",
    "\n",
    "def split_toy_range( wf, tr ):\n",
    "    resolved = [] # keep track of which toy_ranges have their next workflow determined\n",
    "\n",
    "    for t in wf.tests:\n",
    "        dim = t.dim\n",
    "        cutoff = t.cutoff\n",
    "        op = t.op\n",
    "        out = t.out\n",
    "\n",
    "        #print(wf.name, dim, op, cutoff, out)\n",
    "\n",
    "        if op is None:\n",
    "            # reached default case\n",
    "            tr['flow'] = out\n",
    "            resolved.append(tr)\n",
    "            return resolved\n",
    "\n",
    "        dmin = tr[dim][0]\n",
    "        dmax = tr[dim][1]\n",
    "\n",
    "        if op == \">\":\n",
    "            if dmin > cutoff:\n",
    "                # all remaining toys pass this test and receive same output\n",
    "                tr['flow'] = out\n",
    "                resolved.append(tr)\n",
    "                return resolved\n",
    "\n",
    "            # all toys with dim > cutoff are resolved\n",
    "            tr_resolved = copy_toy_range(tr)\n",
    "            tr_resolved[dim][0] = cutoff+1\n",
    "            tr_resolved['flow'] = out\n",
    "            resolved.append(tr_resolved)\n",
    "\n",
    "            # remaining toyrange to resolve has dim <= cutoff\n",
    "            tr[dim][1] = cutoff\n",
    "\n",
    "        elif op == \"<\":\n",
    "            if dmax < cutoff:\n",
    "                # all remaining toys pass this test and receive same output\n",
    "                tr['flow'] = out\n",
    "                resolved.append(tr)\n",
    "                return resolved\n",
    "                \n",
    "            # all toys with dim < cutoff are resolved\n",
    "            tr_resolved = copy_toy_range(tr)\n",
    "            tr_resolved[dim][1] = cutoff-1\n",
    "            tr_resolved['flow'] = out\n",
    "            resolved.append(tr_resolved)\n",
    "\n",
    "            # remaining toyrange to resolve has dim >= cutoff\n",
    "            tr[dim][0] = cutoff\n",
    "        \n",
    "        #print(tr)\n",
    "        #print(resolved)\n",
    "    raise Exception(\"You shouldn't be here\")\n",
    "\n",
    "\n",
    "def analyze_toy_ranges( puzz, toy_ranges ):\n",
    "    accept = []\n",
    "    reject = []\n",
    "    unresolved = []\n",
    "\n",
    "    while len(toy_ranges) > 0:\n",
    "        #print(\"\\n------\\n\")\n",
    "        #print(toy_ranges)\n",
    "        results = split_toy_range( puzz['workflows'][toy_ranges[0]['flow']], toy_ranges[0] )\n",
    "\n",
    "        #print(results)\n",
    "        for res in results:\n",
    "\n",
    "            if res['flow'] == 'A':\n",
    "                accept.append( res )\n",
    "            elif res['flow'] == 'R':\n",
    "                reject.append( res )\n",
    "            else:\n",
    "                unresolved.append( res )\n",
    "\n",
    "        toy_ranges = unresolved + toy_ranges[1:]\n",
    "        unresolved = []\n",
    "\n",
    "    return accept, reject\n",
    "\n",
    "        \n",
    "def part2( puzz ):\n",
    "    toy_ranges = [ {'flow':'in', 'x':[1,4000], 'm':[1,4000], 'a':[1,4000], 's':[1,4000]} ]\n",
    "    acc, rej = analyze_toy_ranges( puzz, toy_ranges )\n",
    "\n",
    "    tot = 0\n",
    "    for tr in acc:\n",
    "        ntoys = (tr['x'][1] - tr['x'][0] + 1)*(tr['m'][1] - tr['m'][0] + 1)*(tr['a'][1] - tr['a'][0] + 1)*(tr['s'][1] - tr['s'][0] + 1)\n",
    "        tot += ntoys\n",
    "    return tot\n",
    "\n",
    "\n"
   ]
  },
  {
   "cell_type": "code",
   "execution_count": 159,
   "metadata": {},
   "outputs": [],
   "source": [
    "toy_ranges = [ {'flow':'in', 'x':[1,4000], 'm':[1,4000], 'a':[1,4000], 's':[1,4000]} ]\n",
    "acc, rej = analyze_toy_ranges( test, toy_ranges )"
   ]
  },
  {
   "cell_type": "code",
   "execution_count": 160,
   "metadata": {},
   "outputs": [
    {
     "data": {
      "text/plain": [
       "[{'flow': 'A',\n",
       "  'x': [1, 4000],\n",
       "  'm': [2091, 4000],\n",
       "  'a': [2006, 4000],\n",
       "  's': [1, 1350]},\n",
       " {'flow': 'A', 'x': [1, 1415], 'm': [1, 4000], 'a': [1, 2005], 's': [1, 1350]},\n",
       " {'flow': 'A',\n",
       "  'x': [2663, 4000],\n",
       "  'm': [1, 4000],\n",
       "  'a': [1, 2005],\n",
       "  's': [1, 1350]},\n",
       " {'flow': 'A',\n",
       "  'x': [1, 2440],\n",
       "  'm': [1, 2090],\n",
       "  'a': [2006, 4000],\n",
       "  's': [537, 1350]},\n",
       " {'flow': 'A',\n",
       "  'x': [1, 4000],\n",
       "  'm': [1, 4000],\n",
       "  'a': [1, 4000],\n",
       "  's': [3449, 4000]},\n",
       " {'flow': 'A',\n",
       "  'x': [1, 4000],\n",
       "  'm': [1549, 4000],\n",
       "  'a': [1, 4000],\n",
       "  's': [2771, 3448]},\n",
       " {'flow': 'A',\n",
       "  'x': [1, 4000],\n",
       "  'm': [1, 1548],\n",
       "  'a': [1, 4000],\n",
       "  's': [2771, 3448]},\n",
       " {'flow': 'A',\n",
       "  'x': [1, 4000],\n",
       "  'm': [839, 1800],\n",
       "  'a': [1, 4000],\n",
       "  's': [1351, 2770]},\n",
       " {'flow': 'A',\n",
       "  'x': [1, 4000],\n",
       "  'm': [1, 838],\n",
       "  'a': [1, 1716],\n",
       "  's': [1351, 2770]}]"
      ]
     },
     "execution_count": 160,
     "metadata": {},
     "output_type": "execute_result"
    }
   ],
   "source": [
    "acc"
   ]
  },
  {
   "cell_type": "code",
   "execution_count": 161,
   "metadata": {},
   "outputs": [
    {
     "data": {
      "text/plain": [
       "167409079868000"
      ]
     },
     "execution_count": 161,
     "metadata": {},
     "output_type": "execute_result"
    }
   ],
   "source": [
    "tot = 0\n",
    "for tr in acc:\n",
    "    ntoys = (tr['x'][1] - tr['x'][0] + 1)*(tr['m'][1] - tr['m'][0] + 1)*(tr['a'][1] - tr['a'][0] + 1)*(tr['s'][1] - tr['s'][0] + 1)\n",
    "    tot += ntoys\n",
    "tot"
   ]
  },
  {
   "cell_type": "code",
   "execution_count": 157,
   "metadata": {},
   "outputs": [
    {
     "data": {
      "text/plain": [
       "True"
      ]
     },
     "execution_count": 157,
     "metadata": {},
     "output_type": "execute_result"
    }
   ],
   "source": [
    "tot == 167409079868000"
   ]
  },
  {
   "cell_type": "code",
   "execution_count": 166,
   "metadata": {},
   "outputs": [
    {
     "data": {
      "text/plain": [
       "167409079868000"
      ]
     },
     "execution_count": 166,
     "metadata": {},
     "output_type": "execute_result"
    }
   ],
   "source": [
    "part2( test )"
   ]
  },
  {
   "cell_type": "code",
   "execution_count": 167,
   "metadata": {},
   "outputs": [
    {
     "data": {
      "text/plain": [
       "121158073425385"
      ]
     },
     "execution_count": 167,
     "metadata": {},
     "output_type": "execute_result"
    }
   ],
   "source": [
    "part2( puzz )"
   ]
  },
  {
   "cell_type": "code",
   "execution_count": null,
   "metadata": {},
   "outputs": [],
   "source": []
  }
 ],
 "metadata": {
  "kernelspec": {
   "display_name": "base",
   "language": "python",
   "name": "python3"
  },
  "language_info": {
   "codemirror_mode": {
    "name": "ipython",
    "version": 3
   },
   "file_extension": ".py",
   "mimetype": "text/x-python",
   "name": "python",
   "nbconvert_exporter": "python",
   "pygments_lexer": "ipython3",
   "version": "3.7.3"
  },
  "orig_nbformat": 4,
  "vscode": {
   "interpreter": {
    "hash": "ad2bdc8ecc057115af97d19610ffacc2b4e99fae6737bb82f5d7fb13d2f2c186"
   }
  }
 },
 "nbformat": 4,
 "nbformat_minor": 2
}
