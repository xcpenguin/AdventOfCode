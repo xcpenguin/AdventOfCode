{
 "cells": [
  {
   "attachments": {},
   "cell_type": "markdown",
   "metadata": {},
   "source": [
    "# December 20, 2023\n",
    "\n",
    "https://adventofcode.com/2023/day/20"
   ]
  },
  {
   "cell_type": "code",
   "execution_count": 52,
   "metadata": {},
   "outputs": [],
   "source": [
    "from queue import PriorityQueue"
   ]
  },
  {
   "cell_type": "code",
   "execution_count": 1,
   "metadata": {},
   "outputs": [],
   "source": [
    "text = f'''...........\n",
    ".....###.#.\n",
    ".###.##..#.\n",
    "..#.#...#..\n",
    "....#.#....\n",
    ".##..S####.\n",
    ".##..#...#.\n",
    ".......##..\n",
    ".##.#.####.\n",
    ".##..##.##.\n",
    "...........'''\n",
    "\n",
    "test_text = text.split(\"\\n\")"
   ]
  },
  {
   "cell_type": "code",
   "execution_count": 73,
   "metadata": {},
   "outputs": [],
   "source": [
    "fn = \"data/21.txt\"\n",
    "with open(fn, \"r\") as file:\n",
    "    text = file.readlines()\n",
    "\n",
    "puzz_text = [x.strip() for x in text]"
   ]
  },
  {
   "cell_type": "code",
   "execution_count": 8,
   "metadata": {},
   "outputs": [],
   "source": [
    "def borderize( text ):\n",
    "    # add a rock boundary to the garden to simplify later algos\n",
    "    w = len(text[0]) + 2\n",
    "    \n",
    "    new_text = [\"#\" * w]\n",
    "    for line in text:\n",
    "        new_text.append( \"#\" + line + \"#\" )\n",
    "    new_text.append( \"#\"*w )\n",
    "    return new_text\n",
    "    \n",
    "\n"
   ]
  },
  {
   "cell_type": "code",
   "execution_count": 53,
   "metadata": {},
   "outputs": [],
   "source": [
    "class Garden:\n",
    "    def __init__(self, text):\n",
    "        text = borderize(text)\n",
    "\n",
    "        self.width = len(text[0])\n",
    "        self.height = len(text)\n",
    "        self.adj = {}\n",
    "        self.start = None\n",
    "\n",
    "        for row, line in enumerate(text):\n",
    "            for col, char in enumerate(line):\n",
    "                if char == \"#\":\n",
    "                    continue\n",
    "                else:\n",
    "                    # get non # neighbors\n",
    "                    code = self.encode(row, col)\n",
    "                    row_try = [row-1, row, row, row+1]\n",
    "                    col_try = [col, col-1, col+1, col]\n",
    "                    self.adj[code] = [ self.encode(r,c) for r,c in zip(row_try, col_try) if text[r][c] != \"#\" ]\n",
    "\n",
    "                    if char == \"S\":\n",
    "                        self.start = code\n",
    "\n",
    "    def encode(self, row, col):\n",
    "        return row*self.width + col\n",
    "    \n",
    "    def decode(self, code):\n",
    "        row = int(code/self.width)\n",
    "        col = code % self.width\n",
    "        return row, col\n",
    "    \n",
    "    def create_dist_map( self ):\n",
    "        self.dist = {self.start:0}\n",
    "        explore = PriorityQueue()\n",
    "        explore.put( (0, self.start) )\n",
    "\n",
    "        while not explore.empty() > 0:\n",
    "            dist, code = explore.get()\n",
    "            nbrs = self.adj[code]\n",
    "\n",
    "            for nbr in nbrs:\n",
    "                if nbr in self.dist.keys():\n",
    "                    continue\n",
    "                    # check if we should update the distance\n",
    "                    if self.dist[nbr] > self.dist[code] + 1:\n",
    "                        self.dist[nbr] = self.dist[code] + 1\n",
    "                else:\n",
    "                    # new location to add to our distance map!\n",
    "                    dist_to_nbr = dist + 1\n",
    "                    self.dist[nbr] = dist_to_nbr\n",
    "                    explore.put( (dist_to_nbr, nbr) )\n",
    "\n",
    "\n",
    "             \n",
    "\n"
   ]
  },
  {
   "cell_type": "markdown",
   "metadata": {},
   "source": [
    "### Part 1"
   ]
  },
  {
   "cell_type": "code",
   "execution_count": 54,
   "metadata": {},
   "outputs": [],
   "source": [
    "test = Garden(test_text)"
   ]
  },
  {
   "cell_type": "code",
   "execution_count": 47,
   "metadata": {},
   "outputs": [
    {
     "data": {
      "text/plain": [
       "{14: [15, 27],\n",
       " 15: [14, 16, 28],\n",
       " 16: [15, 17, 29],\n",
       " 17: [16, 18, 30],\n",
       " 18: [17, 19, 31],\n",
       " 19: [18, 20],\n",
       " 20: [19, 21],\n",
       " 21: [20, 22],\n",
       " 22: [21, 23, 35],\n",
       " 23: [22, 24],\n",
       " 24: [23, 37],\n",
       " 27: [14, 28, 40],\n",
       " 28: [15, 27, 29],\n",
       " 29: [16, 28, 30],\n",
       " 30: [17, 29, 31],\n",
       " 31: [18, 30, 44],\n",
       " 35: [22, 48],\n",
       " 37: [24, 50],\n",
       " 40: [27, 53],\n",
       " 44: [31],\n",
       " 47: [48, 60],\n",
       " 48: [35, 47],\n",
       " 50: [37, 63],\n",
       " 53: [40, 54, 66],\n",
       " 54: [53, 67],\n",
       " 56: [69],\n",
       " 58: [59, 71],\n",
       " 59: [58, 60],\n",
       " 60: [47, 59, 73],\n",
       " 62: [63, 75],\n",
       " 63: [50, 62, 76],\n",
       " 66: [53, 67, 79],\n",
       " 67: [54, 66, 68],\n",
       " 68: [67, 69],\n",
       " 69: [56, 68, 82],\n",
       " 71: [58, 84],\n",
       " 73: [60, 74],\n",
       " 74: [73, 75],\n",
       " 75: [62, 74, 76],\n",
       " 76: [63, 75, 89],\n",
       " 79: [66, 92],\n",
       " 82: [69, 83, 95],\n",
       " 83: [82, 84, 96],\n",
       " 84: [71, 83],\n",
       " 89: [76, 102],\n",
       " 92: [79, 105],\n",
       " 95: [82, 96, 108],\n",
       " 96: [83, 95, 109],\n",
       " 98: [99, 111],\n",
       " 99: [98, 100],\n",
       " 100: [99],\n",
       " 102: [89, 115],\n",
       " 105: [92, 106, 118],\n",
       " 106: [105, 107],\n",
       " 107: [106, 108],\n",
       " 108: [95, 107, 109, 121],\n",
       " 109: [96, 108, 110],\n",
       " 110: [109, 111, 123],\n",
       " 111: [98, 110],\n",
       " 114: [115],\n",
       " 115: [102, 114, 128],\n",
       " 118: [105, 131],\n",
       " 121: [108, 134],\n",
       " 123: [110],\n",
       " 128: [115, 141],\n",
       " 131: [118, 144],\n",
       " 134: [121, 135, 147],\n",
       " 135: [134, 148],\n",
       " 138: [151],\n",
       " 141: [128, 154],\n",
       " 144: [131, 145],\n",
       " 145: [144, 146],\n",
       " 146: [145, 147],\n",
       " 147: [134, 146, 148],\n",
       " 148: [135, 147, 149],\n",
       " 149: [148, 150],\n",
       " 150: [149, 151],\n",
       " 151: [138, 150, 152],\n",
       " 152: [151, 153],\n",
       " 153: [152, 154],\n",
       " 154: [141, 153]}"
      ]
     },
     "execution_count": 47,
     "metadata": {},
     "output_type": "execute_result"
    }
   ],
   "source": [
    "test.adj"
   ]
  },
  {
   "cell_type": "code",
   "execution_count": 48,
   "metadata": {},
   "outputs": [
    {
     "data": {
      "text/plain": [
       "84"
      ]
     },
     "execution_count": 48,
     "metadata": {},
     "output_type": "execute_result"
    }
   ],
   "source": [
    "test.start"
   ]
  },
  {
   "cell_type": "code",
   "execution_count": 49,
   "metadata": {},
   "outputs": [
    {
     "data": {
      "text/plain": [
       "(6, 6)"
      ]
     },
     "execution_count": 49,
     "metadata": {},
     "output_type": "execute_result"
    }
   ],
   "source": [
    "test.decode(84)"
   ]
  },
  {
   "cell_type": "code",
   "execution_count": 55,
   "metadata": {},
   "outputs": [],
   "source": [
    "test.create_dist_map()"
   ]
  },
  {
   "cell_type": "code",
   "execution_count": 56,
   "metadata": {},
   "outputs": [
    {
     "data": {
      "text/plain": [
       "{84: 0,\n",
       " 71: 1,\n",
       " 83: 1,\n",
       " 58: 2,\n",
       " 82: 2,\n",
       " 96: 2,\n",
       " 59: 3,\n",
       " 69: 3,\n",
       " 95: 3,\n",
       " 109: 3,\n",
       " 60: 4,\n",
       " 56: 4,\n",
       " 68: 4,\n",
       " 108: 4,\n",
       " 110: 4,\n",
       " 47: 5,\n",
       " 73: 5,\n",
       " 67: 5,\n",
       " 107: 5,\n",
       " 121: 5,\n",
       " 111: 5,\n",
       " 123: 5,\n",
       " 48: 6,\n",
       " 54: 6,\n",
       " 66: 6,\n",
       " 74: 6,\n",
       " 106: 6,\n",
       " 98: 6,\n",
       " 134: 6,\n",
       " 35: 7,\n",
       " 53: 7,\n",
       " 79: 7,\n",
       " 75: 7,\n",
       " 99: 7,\n",
       " 105: 7,\n",
       " 135: 7,\n",
       " 147: 7,\n",
       " 22: 8,\n",
       " 40: 8,\n",
       " 62: 8,\n",
       " 76: 8,\n",
       " 92: 8,\n",
       " 100: 8,\n",
       " 118: 8,\n",
       " 148: 8,\n",
       " 146: 8,\n",
       " 21: 9,\n",
       " 23: 9,\n",
       " 27: 9,\n",
       " 63: 9,\n",
       " 89: 9,\n",
       " 131: 9,\n",
       " 145: 9,\n",
       " 149: 9,\n",
       " 20: 10,\n",
       " 24: 10,\n",
       " 14: 10,\n",
       " 28: 10,\n",
       " 50: 10,\n",
       " 102: 10,\n",
       " 144: 10,\n",
       " 150: 10,\n",
       " 15: 11,\n",
       " 19: 11,\n",
       " 37: 11,\n",
       " 29: 11,\n",
       " 115: 11,\n",
       " 151: 11,\n",
       " 16: 12,\n",
       " 18: 12,\n",
       " 30: 12,\n",
       " 114: 12,\n",
       " 128: 12,\n",
       " 138: 12,\n",
       " 152: 12,\n",
       " 17: 13,\n",
       " 31: 13,\n",
       " 141: 13,\n",
       " 153: 13,\n",
       " 44: 14,\n",
       " 154: 14}"
      ]
     },
     "execution_count": 56,
     "metadata": {},
     "output_type": "execute_result"
    }
   ],
   "source": [
    "test.dist"
   ]
  },
  {
   "cell_type": "code",
   "execution_count": 64,
   "metadata": {},
   "outputs": [
    {
     "data": {
      "text/plain": [
       "(16, [84, 58, 82, 96, 60, 56, 68, 108, 110, 48, 54, 66, 74, 106, 98, 134])"
      ]
     },
     "execution_count": 64,
     "metadata": {},
     "output_type": "execute_result"
    }
   ],
   "source": [
    "cool = []\n",
    "steps = 6\n",
    "for k,v in test.dist.items():\n",
    "    if v <= steps and v % 2 == 0:\n",
    "        cool.append(k)\n",
    "\n",
    "len(cool), cool\n"
   ]
  },
  {
   "cell_type": "code",
   "execution_count": 79,
   "metadata": {},
   "outputs": [],
   "source": [
    "def part1( text, steps ):\n",
    "    puzz = Garden(text)\n",
    "    puzz.create_dist_map()\n",
    "\n",
    "    cool = []\n",
    "    parity = steps % 2\n",
    "\n",
    "    for k,v in puzz.dist.items():\n",
    "        if v <= steps and v % 2 == parity:\n",
    "            cool.append(k)\n",
    "\n",
    "    return len(cool)\n"
   ]
  },
  {
   "cell_type": "code",
   "execution_count": 80,
   "metadata": {},
   "outputs": [
    {
     "data": {
      "text/plain": [
       "16"
      ]
     },
     "execution_count": 80,
     "metadata": {},
     "output_type": "execute_result"
    }
   ],
   "source": [
    "part1( test_text, 6 )"
   ]
  },
  {
   "cell_type": "code",
   "execution_count": 81,
   "metadata": {},
   "outputs": [
    {
     "data": {
      "text/plain": [
       "4"
      ]
     },
     "execution_count": 81,
     "metadata": {},
     "output_type": "execute_result"
    }
   ],
   "source": [
    "part1( puzz_text, 1 )"
   ]
  },
  {
   "cell_type": "code",
   "execution_count": 82,
   "metadata": {},
   "outputs": [
    {
     "data": {
      "text/plain": [
       "3594"
      ]
     },
     "execution_count": 82,
     "metadata": {},
     "output_type": "execute_result"
    }
   ],
   "source": [
    "part1( puzz_text, 64 )"
   ]
  },
  {
   "attachments": {},
   "cell_type": "markdown",
   "metadata": {},
   "source": [
    "### Part 2"
   ]
  },
  {
   "cell_type": "code",
   "execution_count": 166,
   "metadata": {},
   "outputs": [],
   "source": [
    "class Garden2:\n",
    "    def __init__(self, text):\n",
    "        '''Assumes open path around the outside, through the middle in both directions, with S in the center'''\n",
    "        text = borderize(text)\n",
    "\n",
    "        self.width = len(text[0])\n",
    "        self.height = len(text)\n",
    "        self.adj = {}\n",
    "        self.start = None\n",
    "\n",
    "        # create adjacency matrix\n",
    "        for row, line in enumerate(text):\n",
    "            for col, char in enumerate(line):\n",
    "                if char == \"#\":\n",
    "                    continue\n",
    "                else:\n",
    "                    # get non # neighbors\n",
    "                    code = self.encode(row, col)\n",
    "                    row_try = [row-1, row, row, row+1]\n",
    "                    col_try = [col, col-1, col+1, col]\n",
    "                    self.adj[code] = [ self.encode(r,c) for r,c in zip(row_try, col_try) if text[r][c] != \"#\" ]\n",
    "\n",
    "                    if char == \"S\":\n",
    "                        self.start = code\n",
    "\n",
    "        # create distance maps from each possible start: center or an edge's mid or end\n",
    "        self.__create_all_dist_maps__()\n",
    "        self.radius = (self.height-3)/2 # distance from Start S to an edge following the open straight path\n",
    "\n",
    "    def encode(self, row, col):\n",
    "        return row*self.width + col\n",
    "    \n",
    "    def decode(self, code):\n",
    "        row = int(code/self.width)\n",
    "        col = code % self.width\n",
    "        return row, col\n",
    "    \n",
    "    def __create_all_dist_maps__( self ):\n",
    "        self.dist_maps = {}\n",
    "        \n",
    "        rlow =  clow = 1\n",
    "        rmid, cmid = self.decode(self.start)\n",
    "        rhi, chi = self.height - 2, self.width - 2\n",
    "        rstart = [rlow, rlow, rlow, rmid, rmid, rmid, rhi , rhi , rhi]\n",
    "        cstart = [clow, cmid, chi , clow, cmid, chi , clow, cmid, chi]\n",
    "\n",
    "        for r, c in zip(rstart, cstart):\n",
    "            code = self.encode(r,c)\n",
    "            self.dist_maps[code] = self.create_dist_map( start = code )\n",
    "\n",
    "    \n",
    "    def create_dist_map( self, start=None ):\n",
    "        if start is None:\n",
    "            start = self.start\n",
    "\n",
    "        dist_to_all = {start:0}\n",
    "        explore = PriorityQueue()\n",
    "        explore.put( (0, start) )\n",
    "\n",
    "        while not explore.empty() > 0:\n",
    "            dist, code = explore.get()\n",
    "            nbrs = self.adj[code]\n",
    "\n",
    "            for nbr in nbrs:\n",
    "                if nbr not in dist_to_all.keys():\n",
    "                    dist_to_nbr = dist + 1\n",
    "                    dist_to_all[nbr] = dist_to_nbr\n",
    "                    explore.put( (dist_to_nbr, nbr) )\n",
    "\n",
    "        return dist_to_all\n",
    "\n",
    "\n",
    "             \n",
    "\n"
   ]
  },
  {
   "cell_type": "markdown",
   "metadata": {},
   "source": [
    "### Notes\n",
    "\n",
    "Each replication of the main map is a \"card\".  \n",
    "Each space on a card is a \"tile\". (I probably should've called it a space, but here we are.)\n",
    "\n",
    "(26501365-65)/131 = 202300.\n",
    "\n",
    "It takes 65 steps from S to edge, 131 steps from edge to the same edge on the next card.  \n",
    "\n",
    "The reachable cards form a diamond with  \n",
    "|R| + |C| <= 202300,  \n",
    "where R<0 indicates cards above the start and C<- indicates cards left of the start"
   ]
  },
  {
   "cell_type": "code",
   "execution_count": 167,
   "metadata": {},
   "outputs": [],
   "source": [
    "puzz = Garden2(puzz_text)"
   ]
  },
  {
   "cell_type": "code",
   "execution_count": 168,
   "metadata": {},
   "outputs": [
    {
     "data": {
      "text/plain": [
       "dict_keys([134, 199, 264, 8779, 8844, 8909, 17424, 17489, 17554])"
      ]
     },
     "execution_count": 168,
     "metadata": {},
     "output_type": "execute_result"
    }
   ],
   "source": [
    "puzz.dist_maps.keys()"
   ]
  },
  {
   "cell_type": "code",
   "execution_count": 169,
   "metadata": {},
   "outputs": [
    {
     "data": {
      "text/plain": [
       "8844"
      ]
     },
     "execution_count": 169,
     "metadata": {},
     "output_type": "execute_result"
    }
   ],
   "source": [
    "puzz.start"
   ]
  },
  {
   "cell_type": "code",
   "execution_count": 170,
   "metadata": {},
   "outputs": [
    {
     "data": {
      "text/plain": [
       "130"
      ]
     },
     "execution_count": 170,
     "metadata": {},
     "output_type": "execute_result"
    }
   ],
   "source": [
    "max( puzz.dist_maps[puzz.start].values() )"
   ]
  },
  {
   "cell_type": "markdown",
   "metadata": {},
   "source": [
    "Another clue! With 130 steps, the elf can get from the center of the card to any tile on that card.  \n",
    "For cards on the interior of the diamond, she can reach the center tile with 65+131 steps to spare.   \n",
    "This means the tiles thereon are limited only by parity.\n",
    "\n",
    "**Solve the interior cards first**  \n",
    "On the interior:\n",
    "* For each odd card, the elf can reach any odd tile (because she has to take an odd number of steps)\n",
    "* For each even card, the parity of tiles flips, so she can reach any even tile"
   ]
  },
  {
   "cell_type": "code",
   "execution_count": 201,
   "metadata": {},
   "outputs": [],
   "source": [
    "# calculate the number of \"odd\" cards:\n",
    "def count_interior_cards( N ):\n",
    "    # For each quadrant of the diamond it looks like this for N=6\n",
    "    # the x's are the center line, which we'll handle separately to avoid double-counting\n",
    "    # We assume N is even as it is in this problem\n",
    "    \n",
    "    # For this puzzle, N=2023, but here's a schematic for N=6\n",
    "    # The x's are even cards, but we have to handle them separately, since the elf can't reach all tiles therein\n",
    "    # The C is the exact center, which is an odd card\n",
    "\n",
    "    #       X\n",
    "    #      XEX\n",
    "    #     XEOEX\n",
    "    #    XEOEOEX\n",
    "    #   XEOEOEOEX\n",
    "    #  XEOEOEOEOEX\n",
    "    # XEOEOECEOEOEX\n",
    "    #  XEOEOEOEOEX\n",
    "    #   XEOEOEOEX\n",
    "    #    XEOEOEX\n",
    "    #     XEOEX\n",
    "    #      XEX\n",
    "    #       X\n",
    "\n",
    "    ### ON THE INTERIOR ###\n",
    "    # the number of odd cards is\n",
    "    # 1 + 4 * ( 2 + 4 + 6 + ... + N-2 )\n",
    "    # which is the same as\n",
    "    # 1 + 8 * ( 1+2+3+ ... + (N-2)/2 )\n",
    "    \n",
    "    max = (N-2)/2\n",
    "    odd_interior_cards = 1 + 8 * (max*(max+1))/2 \n",
    "\n",
    "    # the total number of cards is\n",
    "    # 1 + 4 * (1+2+3+ ... N-1)\n",
    "    interior_cards = 1 + 4 * (N-1)*N/2\n",
    "    even_interior_cards = interior_cards - odd_interior_cards\n",
    "\n",
    "    # per side, not total, because we'll approach each edge from a different starting tile\n",
    "    #edge_cards = (N-2)\n",
    "    #corner_cards = 1\n",
    "\n",
    "    return odd_interior_cards, even_interior_cards#, edge_cards, corner_cards"
   ]
  },
  {
   "cell_type": "code",
   "execution_count": 221,
   "metadata": {},
   "outputs": [
    {
     "data": {
      "text/plain": [
       "40924885401.0"
      ]
     },
     "execution_count": 221,
     "metadata": {},
     "output_type": "execute_result"
    }
   ],
   "source": [
    "101149*101150/2*8 + 1"
   ]
  },
  {
   "cell_type": "code",
   "execution_count": 222,
   "metadata": {},
   "outputs": [
    {
     "data": {
      "text/plain": [
       "81850175401.0"
      ]
     },
     "execution_count": 222,
     "metadata": {},
     "output_type": "execute_result"
    }
   ],
   "source": [
    "202300*202299/2*4+1"
   ]
  },
  {
   "cell_type": "code",
   "execution_count": 223,
   "metadata": {},
   "outputs": [
    {
     "data": {
      "text/plain": [
       "81850175401.0"
      ]
     },
     "execution_count": 223,
     "metadata": {},
     "output_type": "execute_result"
    }
   ],
   "source": [
    "odd_cards + even_cards"
   ]
  },
  {
   "cell_type": "code",
   "execution_count": 205,
   "metadata": {},
   "outputs": [
    {
     "data": {
      "text/plain": [
       "(25.0, 36.0)"
      ]
     },
     "execution_count": 205,
     "metadata": {},
     "output_type": "execute_result"
    }
   ],
   "source": [
    "count_interior_cards(6)"
   ]
  },
  {
   "cell_type": "code",
   "execution_count": 206,
   "metadata": {},
   "outputs": [
    {
     "data": {
      "text/plain": [
       "(40924885401.0, 40925290000.0)"
      ]
     },
     "execution_count": 206,
     "metadata": {},
     "output_type": "execute_result"
    }
   ],
   "source": [
    "odd_cards, even_cards = count_interior_cards(202300)\n",
    "odd_cards, even_cards"
   ]
  },
  {
   "cell_type": "code",
   "execution_count": 224,
   "metadata": {},
   "outputs": [
    {
     "data": {
      "text/plain": [
       "404599.0"
      ]
     },
     "execution_count": 224,
     "metadata": {},
     "output_type": "execute_result"
    }
   ],
   "source": [
    "even_cards - odd_cards"
   ]
  },
  {
   "cell_type": "code",
   "execution_count": 225,
   "metadata": {},
   "outputs": [
    {
     "data": {
      "text/plain": [
       "(7401, 7388)"
      ]
     },
     "execution_count": 225,
     "metadata": {},
     "output_type": "execute_result"
    }
   ],
   "source": [
    "# Now find the even/odd garden tiles (this excludes rock tiles)\n",
    "# It also excludes a handful of tiles that are unreachable because they are surrounded by rocks\n",
    "from_center = puzz.dist_maps[puzz.start]\n",
    "odd_tiles = len([k for k,v in from_center.items() if v % 2 ==1])\n",
    "even_tiles = len([k for k,v in from_center.items() if v % 2 ==0])\n",
    "\n",
    "odd_tiles, even_tiles"
   ]
  },
  {
   "cell_type": "code",
   "execution_count": 208,
   "metadata": {},
   "outputs": [
    {
     "data": {
      "text/plain": [
       "{'interior': 605241119372801.0}"
      ]
     },
     "execution_count": 208,
     "metadata": {},
     "output_type": "execute_result"
    }
   ],
   "source": [
    "part2 = {'interior': odd_cards*odd_tiles + even_cards*even_tiles}\n",
    "part2"
   ]
  },
  {
   "cell_type": "markdown",
   "metadata": {},
   "source": [
    "**Time to solve the exterior**\n",
    "\n",
    "For the compass points (straight N/E/W/S), the elf enters on the middle of the edge and has 130 steps left  \n",
    "So for each of the middle edges we just add up how many spaces are reachable in 130 steps  \n",
    "(It's not 131 steps, because we assume she took the first step from edge of interior card onto this exterior card)\n",
    "\n",
    "For the other exteriors, the elf headed NE for 202300-2 of them, meaning the elf enters from the SW corner.  \n",
    "In this case she has 131+65-1=195 steps remaining.\n",
    "\n",
    "Since we're counting steps from the first tile she enters that card, we don't care about the parity of the card.\n"
   ]
  },
  {
   "cell_type": "code",
   "execution_count": 226,
   "metadata": {},
   "outputs": [
    {
     "data": {
      "text/plain": [
       "dict_keys([134, 199, 264, 8779, 8844, 8909, 17424, 17489, 17554])"
      ]
     },
     "execution_count": 226,
     "metadata": {},
     "output_type": "execute_result"
    }
   ],
   "source": [
    "puzz.dist_maps.keys()"
   ]
  },
  {
   "cell_type": "code",
   "execution_count": 227,
   "metadata": {},
   "outputs": [],
   "source": [
    "mids = [199,8779,8909,17489]\n",
    "corners = [134,264,17424,17554]"
   ]
  },
  {
   "cell_type": "code",
   "execution_count": 211,
   "metadata": {},
   "outputs": [],
   "source": [
    "def reachable_in_n( dist_map, nsteps):\n",
    "    parity = nsteps % 2\n",
    "    return len( [k for k,v in dist_map.items() if v <= nsteps and v%2 == parity] )"
   ]
  },
  {
   "cell_type": "code",
   "execution_count": 212,
   "metadata": {},
   "outputs": [
    {
     "data": {
      "text/plain": [
       "[5593, 5569, 5587, 5563]"
      ]
     },
     "execution_count": 212,
     "metadata": {},
     "output_type": "execute_result"
    }
   ],
   "source": [
    "compass = [reachable_in_n( puzz.dist_maps[cd], 130 ) for cd in mids]\n",
    "compass"
   ]
  },
  {
   "cell_type": "code",
   "execution_count": 213,
   "metadata": {},
   "outputs": [],
   "source": [
    "part2['compass'] = sum(compass)"
   ]
  },
  {
   "cell_type": "code",
   "execution_count": 214,
   "metadata": {},
   "outputs": [
    {
     "data": {
      "text/plain": [
       "[6498, 6496, 6472, 6492]"
      ]
     },
     "execution_count": 214,
     "metadata": {},
     "output_type": "execute_result"
    }
   ],
   "source": [
    "edge = [reachable_in_n( puzz.dist_maps[cd], 195) for cd in corners]\n",
    "edge"
   ]
  },
  {
   "cell_type": "code",
   "execution_count": 215,
   "metadata": {},
   "outputs": [],
   "source": [
    "part2['edge'] = 202298 * sum(edge)"
   ]
  },
  {
   "cell_type": "code",
   "execution_count": 216,
   "metadata": {},
   "outputs": [
    {
     "data": {
      "text/plain": [
       "{'interior': 605241119372801.0, 'compass': 22312, 'edge': 5251251484}"
      ]
     },
     "execution_count": 216,
     "metadata": {},
     "output_type": "execute_result"
    }
   ],
   "source": [
    "\n",
    "part2"
   ]
  },
  {
   "cell_type": "code",
   "execution_count": 217,
   "metadata": {},
   "outputs": [
    {
     "data": {
      "text/plain": [
       "605246370646597.0"
      ]
     },
     "execution_count": 217,
     "metadata": {},
     "output_type": "execute_result"
    }
   ],
   "source": [
    "sum( [v for v in part2.values()] )"
   ]
  },
  {
   "cell_type": "markdown",
   "metadata": {},
   "source": [
    "### Incorrect guesses\n",
    "605246375906384.0 is too low  \n",
    "mistake 1 is that the last interior card is an even card, not an odd card.  \n",
    "mistake 2 is that the elf can reach additional cards from the \"exterior\" cards by heading straight there.\n",
    "mistake 3 is that there are N-1 \"exterior cards\" excluding the compass points, rather than N-2"
   ]
  },
  {
   "cell_type": "code",
   "execution_count": 236,
   "metadata": {},
   "outputs": [
    {
     "name": "stdout",
     "output_type": "stream",
     "text": [
      "40924885401.0 40925290000.0\n",
      "7401 7388\n"
     ]
    }
   ],
   "source": [
    "# function now fixed\n",
    "odd_cards, even_cards = count_interior_cards(202300)\n",
    "print( odd_cards, even_cards )\n",
    "\n",
    "# didn't change\n",
    "from_center = puzz.dist_maps[puzz.start]\n",
    "odd_tiles = len([k for k,v in from_center.items() if v % 2 ==1])\n",
    "even_tiles = len([k for k,v in from_center.items() if v % 2 ==0])\n",
    "\n",
    "print( odd_tiles, even_tiles )\n",
    "\n"
   ]
  },
  {
   "cell_type": "code",
   "execution_count": 237,
   "metadata": {},
   "outputs": [
    {
     "data": {
      "text/plain": [
       "[5593, 5569, 5587, 5563]"
      ]
     },
     "execution_count": 237,
     "metadata": {},
     "output_type": "execute_result"
    }
   ],
   "source": [
    "compass = [reachable_in_n( puzz.dist_maps[cd], 130 ) for cd in mids]\n",
    "compass"
   ]
  },
  {
   "cell_type": "code",
   "execution_count": 239,
   "metadata": {},
   "outputs": [
    {
     "data": {
      "text/plain": [
       "([6498, 6496, 6472, 6492], [949, 938, 948, 959])"
      ]
     },
     "execution_count": 239,
     "metadata": {},
     "output_type": "execute_result"
    }
   ],
   "source": [
    "edge1 = [reachable_in_n( puzz.dist_maps[cd], 195) for cd in corners]\n",
    "edge2 = [reachable_in_n( puzz.dist_maps[cd], 64) for cd in corners]\n",
    "edge1, edge2 "
   ]
  },
  {
   "cell_type": "code",
   "execution_count": 240,
   "metadata": {},
   "outputs": [],
   "source": [
    "# total tiles:\n",
    "N = 202300\n",
    "part2 = (\n",
    "    [odd_tiles * odd_cards, # odd tiles on all odd cards\n",
    "     even_tiles * even_cards, # even tiles on all even cards\n",
    "     sum(compass), # reachable on the last card in each compass direction\n",
    "     (N-1)*sum(edge1), # reachable on \"exterior\" cards not in each compass direction\n",
    "     N*sum(edge2) # spill over from exterior cards that can hit a few tiles on the next card\n",
    "    ]\n",
    ")"
   ]
  },
  {
   "cell_type": "code",
   "execution_count": 241,
   "metadata": {},
   "outputs": [
    {
     "data": {
      "text/plain": [
       "(605247138198755.0,\n",
       " [302885076852801.0, 302356042520000.0, 22312, 5251277442, 767526200])"
      ]
     },
     "execution_count": 241,
     "metadata": {},
     "output_type": "execute_result"
    }
   ],
   "source": [
    "sum(part2), part2"
   ]
  },
  {
   "cell_type": "code",
   "execution_count": 243,
   "metadata": {},
   "outputs": [
    {
     "data": {
      "text/plain": [
       "762292371.0"
      ]
     },
     "execution_count": 243,
     "metadata": {},
     "output_type": "execute_result"
    }
   ],
   "source": [
    "605247138198755.0 - 605246375906384"
   ]
  },
  {
   "cell_type": "markdown",
   "metadata": {},
   "source": [
    "\n",
    "# Scratch"
   ]
  },
  {
   "cell_type": "code",
   "execution_count": 230,
   "metadata": {},
   "outputs": [
    {
     "name": "stdout",
     "output_type": "stream",
     "text": [
      "134 260\n",
      "199 195\n",
      "264 260\n",
      "8779 195\n",
      "8844 130\n",
      "8909 195\n",
      "17424 260\n",
      "17489 195\n",
      "17554 260\n"
     ]
    }
   ],
   "source": [
    "for k,v in puzz.dist_maps.items():\n",
    "    print(k, max(v.values()))"
   ]
  },
  {
   "cell_type": "code",
   "execution_count": 231,
   "metadata": {},
   "outputs": [
    {
     "data": {
      "text/plain": [
       "130"
      ]
     },
     "execution_count": 231,
     "metadata": {},
     "output_type": "execute_result"
    }
   ],
   "source": [
    "# going straight in a cardinal direction\n",
    "26501365 - (202299*131+66)"
   ]
  },
  {
   "cell_type": "code",
   "execution_count": 233,
   "metadata": {},
   "outputs": [
    {
     "data": {
      "text/plain": [
       "195"
      ]
     },
     "execution_count": 233,
     "metadata": {},
     "output_type": "execute_result"
    }
   ],
   "source": [
    "# going to the corner of an \"exterior\" tile not on the compass point\n",
    "26501365 - (202298*131+66+66)"
   ]
  },
  {
   "cell_type": "code",
   "execution_count": 238,
   "metadata": {},
   "outputs": [
    {
     "data": {
      "text/plain": [
       "(64, 64, 64)"
      ]
     },
     "execution_count": 238,
     "metadata": {},
     "output_type": "execute_result"
    }
   ],
   "source": [
    "# gong to an exterior tile, then shortest path to the next furthest tile\n",
    "# all three should be the same\n",
    "26501365 - (202298*131+66+66) - 131, 130-66, 195-131"
   ]
  }
 ],
 "metadata": {
  "kernelspec": {
   "display_name": "base",
   "language": "python",
   "name": "python3"
  },
  "language_info": {
   "codemirror_mode": {
    "name": "ipython",
    "version": 3
   },
   "file_extension": ".py",
   "mimetype": "text/x-python",
   "name": "python",
   "nbconvert_exporter": "python",
   "pygments_lexer": "ipython3",
   "version": "3.7.3"
  },
  "orig_nbformat": 4,
  "vscode": {
   "interpreter": {
    "hash": "ad2bdc8ecc057115af97d19610ffacc2b4e99fae6737bb82f5d7fb13d2f2c186"
   }
  }
 },
 "nbformat": 4,
 "nbformat_minor": 2
}
