{
 "cells": [
  {
   "attachments": {},
   "cell_type": "markdown",
   "metadata": {},
   "source": [
    "# December 12, 2023\n",
    "\n",
    "https://adventofcode.com/2023/day/12"
   ]
  },
  {
   "cell_type": "code",
   "execution_count": 7,
   "metadata": {},
   "outputs": [],
   "source": [
    "import re"
   ]
  },
  {
   "cell_type": "code",
   "execution_count": 89,
   "metadata": {},
   "outputs": [],
   "source": [
    "def parse_input( lines ):\n",
    "    data = []\n",
    "    groups = []\n",
    "    for line in lines:\n",
    "        d, g = line.split()\n",
    "        g = [int(x) for x in g.split(\",\")]\n",
    "        data.append(d)\n",
    "        groups.append(g)\n",
    "\n",
    "    return {'data': data, 'groups':groups}\n"
   ]
  },
  {
   "cell_type": "code",
   "execution_count": 90,
   "metadata": {},
   "outputs": [],
   "source": [
    "test_str = f'''???.### 1,1,3\n",
    ".??..??...?##. 1,1,3\n",
    "?#?#?#?#?#?#?#? 1,3,1,6\n",
    "????.#...#... 4,1,1\n",
    "????.######..#####. 1,6,5\n",
    "?###???????? 3,2,1'''\n",
    "test = parse_input( test_str.split(\"\\n\") )"
   ]
  },
  {
   "cell_type": "code",
   "execution_count": 91,
   "metadata": {},
   "outputs": [],
   "source": [
    "fn = \"data/12.txt\"\n",
    "with open(fn, \"r\") as file:\n",
    "    text = file.readlines()\n",
    "\n",
    "puzz = parse_input( [x.strip() for x in text] )"
   ]
  },
  {
   "cell_type": "code",
   "execution_count": 110,
   "metadata": {},
   "outputs": [
    {
     "data": {
      "text/plain": [
       "<re.Match object; span=(3, 6), match='AAA'>"
      ]
     },
     "execution_count": 110,
     "metadata": {},
     "output_type": "execute_result"
    }
   ],
   "source": [
    "pat = re.compile(\"AAA\")\n",
    "pat.search(\"BBBAAA\", pos=3)"
   ]
  },
  {
   "cell_type": "code",
   "execution_count": 131,
   "metadata": {},
   "outputs": [
    {
     "data": {
      "text/plain": [
       "''"
      ]
     },
     "execution_count": 131,
     "metadata": {},
     "output_type": "execute_result"
    }
   ],
   "source": [
    "x = \"AAAA\"\n",
    "x[6:]"
   ]
  },
  {
   "cell_type": "markdown",
   "metadata": {},
   "source": [
    "### Part 1"
   ]
  },
  {
   "cell_type": "code",
   "execution_count": 132,
   "metadata": {},
   "outputs": [],
   "source": [
    "# This only counts where the first group can start\n",
    "def count_solutions( text, groups, pos=0, verbose=False ):\n",
    "    if verbose:\n",
    "        print(text, groups, pos, end=\"\")\n",
    "    # We git all the groups in, this was a triumph!\n",
    "    if len(groups) == 0:\n",
    "        return 0 if \"#\" in text[pos:] else 1\n",
    "    \n",
    "    # To match the group, it must have G ? or # in a row\n",
    "    # and cannot be preceded by any # (because the group is too long OR there are # not accounted for by a group)\n",
    "    # or followed immediately by a # (because the group would be too long)\n",
    "    #pat = f'''(?<!#)[\\?#]{{{groups[0]}}}(?!#)'''\n",
    "    #pat = f'''[^\\#][\\?#]{{{groups[0]}}}(?!#)'''\n",
    "    \n",
    "    # We can't skip over any #, otherwise it's a # before the first group.\n",
    "    broke_pat = re.compile(\"#\")\n",
    "    first_broken = broke_pat.search( text, pos )\n",
    "    if first_broken is None:\n",
    "        max_pos = len(text)\n",
    "    else:\n",
    "        max_pos = first_broken.start()\n",
    "    if verbose:\n",
    "        pass#print(max_pos)\n",
    "    \n",
    "    first_broken = re.search(\"#\", text)\n",
    "\n",
    "    pattern = re.compile( f'''[\\?#]{{{groups[0]}}}(?!#)''' )\n",
    "\n",
    "    solution_count = 0\n",
    "    while True:\n",
    "        match = pattern.search( text, pos=pos )\n",
    "\n",
    "        # No remaining solutions, return our count\n",
    "        if match is None:\n",
    "            return solution_count\n",
    "        \n",
    "        #print(match)\n",
    "        \n",
    "        # Find out how many solutions for fitting the remaining groups after this one\n",
    "        solution_count += count_solutions( text, groups[1:], match.end()+1, verbose=verbose )\n",
    "\n",
    "        # There's a possibility to short cut this further if solution_count is 0\n",
    "\n",
    "        # Now try starting at a later position and seeing how many groups there were\n",
    "        pos = match.start() + 1\n",
    "\n",
    "        if pos > max_pos:\n",
    "            return solution_count"
   ]
  },
  {
   "cell_type": "code",
   "execution_count": 127,
   "metadata": {},
   "outputs": [
    {
     "name": "stdout",
     "output_type": "stream",
     "text": [
      "???.### [1, 1, 3] 0\n",
      "???.### [1, 3] 2\n",
      "???.### [3] 4\n",
      "???.### [] 8\t*****\t\n",
      "???.### [3] 8\n",
      "???.### [1, 3] 3\n",
      "???.### [3] 8\n",
      "???.### [1, 3] 4\n",
      "???.### [3] 8\n",
      "???.### [1, 3] 8\n"
     ]
    },
    {
     "data": {
      "text/plain": [
       "1"
      ]
     },
     "execution_count": 127,
     "metadata": {},
     "output_type": "execute_result"
    }
   ],
   "source": [
    "count_solutions( test['data'][0], test['groups'][0], verbose=True )"
   ]
  },
  {
   "cell_type": "code",
   "execution_count": 105,
   "metadata": {},
   "outputs": [
    {
     "name": "stdout",
     "output_type": "stream",
     "text": [
      ".???.??.?? [1, 1, 1] 0\n",
      ".???.??.?? [1, 1] 3\n",
      ".???.??.?? [1] 5\n",
      ".???.??.?? [] 7\t*****\t\n",
      ".???.??.?? [] 8\t*****\t\n",
      ".???.??.?? [] 10\t*****\t\n",
      ".???.??.?? [] 11\t*****\t\n",
      ".???.??.?? [1] 7\n",
      ".???.??.?? [] 10\t*****\t\n",
      ".???.??.?? [] 11\t*****\t\n",
      ".???.??.?? [1] 8\n",
      ".???.??.?? [] 10\t*****\t\n",
      ".???.??.?? [] 11\t*****\t\n",
      ".???.??.?? [1] 10\n",
      ".???.??.?? [1] 11\n",
      ".???.??.?? [1, 1] 4\n",
      ".???.??.?? [1] 7\n",
      ".???.??.?? [] 10\t*****\t\n",
      ".???.??.?? [] 11\t*****\t\n",
      ".???.??.?? [1] 8\n",
      ".???.??.?? [] 10\t*****\t\n",
      ".???.??.?? [] 11\t*****\t\n",
      ".???.??.?? [1] 10\n",
      ".???.??.?? [1] 11\n",
      ".???.??.?? [1, 1] 5\n",
      ".???.??.?? [1] 7\n",
      ".???.??.?? [] 10\t*****\t\n",
      ".???.??.?? [] 11\t*****\t\n",
      ".???.??.?? [1] 8\n",
      ".???.??.?? [] 10\t*****\t\n",
      ".???.??.?? [] 11\t*****\t\n",
      ".???.??.?? [1] 10\n",
      ".???.??.?? [1] 11\n",
      ".???.??.?? [1, 1] 7\n",
      ".???.??.?? [1] 10\n",
      ".???.??.?? [1] 11\n",
      ".???.??.?? [1, 1] 8\n",
      ".???.??.?? [1] 10\n",
      ".???.??.?? [1] 11\n",
      ".???.??.?? [1, 1] 10\n",
      ".???.??.?? [1, 1] 11\n"
     ]
    },
    {
     "data": {
      "text/plain": [
       "16"
      ]
     },
     "execution_count": 105,
     "metadata": {},
     "output_type": "execute_result"
    }
   ],
   "source": [
    "count_solutions( puzz['data'][2], puzz['groups'][2], verbose=True )"
   ]
  },
  {
   "cell_type": "code",
   "execution_count": 115,
   "metadata": {},
   "outputs": [],
   "source": [
    "def part1( puzz ):\n",
    "    tot = 0\n",
    "    for d,g in zip(puzz['data'], puzz['groups']):\n",
    "        tot += count_solutions( d, g )\n",
    "    return tot"
   ]
  },
  {
   "cell_type": "code",
   "execution_count": 116,
   "metadata": {},
   "outputs": [
    {
     "data": {
      "text/plain": [
       "0"
      ]
     },
     "execution_count": 116,
     "metadata": {},
     "output_type": "execute_result"
    }
   ],
   "source": [
    "count_solutions(test['data'][0], test['groups'][0])"
   ]
  },
  {
   "cell_type": "code",
   "execution_count": 119,
   "metadata": {},
   "outputs": [
    {
     "name": "stdout",
     "output_type": "stream",
     "text": [
      "???.### [1, 1, 3]\n",
      "???.### [1, 1, 3] 0\n",
      "4\n",
      "???.### [1, 3] 3\n",
      "4\n",
      "???.### [1, 3] 4\n",
      "4\n",
      "0\n",
      ".??..??...?##. [1, 1, 3]\n",
      ".??..??...?##. [1, 1, 3] 0\n",
      "11\n",
      ".??..??...?##. [1, 3] 3\n",
      "11\n",
      ".??..??...?##. [3] 7\n",
      "11\n",
      ".??..??...?##. [] 14\t*****\t\n",
      ".??..??...?##. [3] 8\n",
      "11\n",
      ".??..??...?##. [] 14\t*****\t\n",
      ".??..??...?##. [1, 3] 4\n",
      "11\n",
      ".??..??...?##. [3] 7\n",
      "11\n",
      ".??..??...?##. [] 14\t*****\t\n",
      ".??..??...?##. [3] 8\n",
      "11\n",
      ".??..??...?##. [] 14\t*****\t\n",
      ".??..??...?##. [1, 3] 7\n",
      "11\n",
      ".??..??...?##. [1, 3] 8\n",
      "11\n",
      "4\n",
      "?#?#?#?#?#?#?#? [1, 3, 1, 6]\n",
      "?#?#?#?#?#?#?#? [1, 3, 1, 6] 0\n",
      "1\n",
      "?#?#?#?#?#?#?#? [3, 1, 6] 3\n",
      "3\n",
      "?#?#?#?#?#?#?#? [1, 6] 9\n",
      "9\n",
      "?#?#?#?#?#?#?#? [6] 13\n",
      "13\n",
      "?#?#?#?#?#?#?#? [3, 1, 6] 5\n",
      "5\n",
      "?#?#?#?#?#?#?#? [1, 6] 11\n",
      "11\n",
      "?#?#?#?#?#?#?#? [6] 15\n",
      "15\n",
      "0\n",
      "????.#...#... [4, 1, 1]\n",
      "????.#...#... [4, 1, 1] 0\n",
      "5\n",
      "0\n",
      "????.######..#####. [1, 6, 5]\n",
      "????.######..#####. [1, 6, 5] 0\n",
      "5\n",
      "????.######..#####. [6, 5] 3\n",
      "5\n",
      "????.######..#####. [5] 12\n",
      "13\n",
      "????.######..#####. [] 19\t*****\t\n",
      "????.######..#####. [6, 5] 4\n",
      "5\n",
      "????.######..#####. [5] 12\n",
      "13\n",
      "????.######..#####. [] 19\t*****\t\n",
      "????.######..#####. [6, 5] 5\n",
      "5\n",
      "2\n",
      "?###???????? [3, 2, 1]\n",
      "?###???????? [3, 2, 1] 0\n",
      "1\n",
      "?###???????? [2, 1] 5\n",
      "12\n",
      "?###???????? [1] 9\n",
      "12\n",
      "?###???????? [] 12\t*****\t\n",
      "?###???????? [] 13\t*****\t\n",
      "?###???????? [1] 10\n",
      "12\n",
      "?###???????? [] 13\t*****\t\n",
      "?###???????? [1] 11\n",
      "12\n",
      "?###???????? [1] 12\n",
      "12\n",
      "?###???????? [1] 13\n",
      "12\n",
      "?###???????? [2, 1] 9\n",
      "12\n",
      "?###???????? [1] 13\n",
      "12\n",
      "3\n"
     ]
    }
   ],
   "source": [
    "for d,g in zip(test['data'], test['groups']):\n",
    "    print(d,g)\n",
    "    print( count_solutions(d,g, verbose=True) )\n"
   ]
  },
  {
   "cell_type": "code",
   "execution_count": 133,
   "metadata": {},
   "outputs": [
    {
     "data": {
      "text/plain": [
       "21"
      ]
     },
     "execution_count": 133,
     "metadata": {},
     "output_type": "execute_result"
    }
   ],
   "source": [
    "part1(test)"
   ]
  },
  {
   "cell_type": "code",
   "execution_count": 95,
   "metadata": {},
   "outputs": [
    {
     "data": {
      "text/plain": [
       "8836"
      ]
     },
     "execution_count": 95,
     "metadata": {},
     "output_type": "execute_result"
    }
   ],
   "source": [
    "# too high 8838\n",
    "# too high 7615\n",
    "# too high 7255\n",
    "part1(puzz)"
   ]
  },
  {
   "cell_type": "code",
   "execution_count": 129,
   "metadata": {},
   "outputs": [
    {
     "data": {
      "text/plain": [
       "7615"
      ]
     },
     "execution_count": 129,
     "metadata": {},
     "output_type": "execute_result"
    }
   ],
   "source": [
    "part1(puzz)"
   ]
  },
  {
   "cell_type": "code",
   "execution_count": 135,
   "metadata": {},
   "outputs": [
    {
     "data": {
      "text/plain": [
       "7255"
      ]
     },
     "execution_count": 135,
     "metadata": {},
     "output_type": "execute_result"
    }
   ],
   "source": [
    "part1(puzz)"
   ]
  },
  {
   "cell_type": "code",
   "execution_count": 134,
   "metadata": {},
   "outputs": [
    {
     "name": "stdout",
     "output_type": "stream",
     "text": [
      ".????#?.??? [1, 3, 3]\n",
      "3\n",
      "?#??#?##??.??? [7, 1, 1]\n",
      "4\n",
      ".???.??.?? [1, 1, 1]\n",
      "16\n",
      "##?.#????.???? [2, 2, 1, 1]\n",
      "11\n",
      "??.#???..???.#? [1, 2, 1, 1, 1]\n",
      "9\n",
      "????.??.???#??#??? [1, 1, 1, 1, 2, 2]\n",
      "52\n",
      "?#?#.??.??. [4, 2]\n",
      "2\n",
      "????##?##?????? [1, 6, 1, 2]\n",
      "9\n",
      "??.????..??????##?? [1, 3, 6]\n",
      "18\n",
      "#????#?.?##?##? [1, 3, 6]\n",
      "4\n"
     ]
    }
   ],
   "source": [
    "i = 0\n",
    "for d,g in zip(puzz['data'], puzz['groups']):\n",
    "    print(d,g)\n",
    "    print( count_solutions(d,g) )\n",
    "    i += 1\n",
    "    if i >= 10:\n",
    "        break"
   ]
  },
  {
   "cell_type": "code",
   "execution_count": null,
   "metadata": {},
   "outputs": [],
   "source": [
    "????.??.???#??#??? [1, 1, 1, 1, 2, 2]\n",
    "#.#.."
   ]
  },
  {
   "cell_type": "code",
   "execution_count": 38,
   "metadata": {},
   "outputs": [
    {
     "data": {
      "text/plain": [
       "'[\\\\?#]{1}[\\\\.\\\\?]+[\\\\?#]{1}[\\\\.\\\\?]+[\\\\?#]{3}'"
      ]
     },
     "execution_count": 38,
     "metadata": {},
     "output_type": "execute_result"
    }
   ],
   "source": [
    "pattern_bits = [f'''[\\?#]{{{g}}}''' for g in grp]\n",
    "pattern_bits = \"[\\.\\?]+\".join(pattern_bits)\n",
    "pattern_bits"
   ]
  },
  {
   "cell_type": "code",
   "execution_count": 42,
   "metadata": {},
   "outputs": [
    {
     "data": {
      "text/plain": [
       "0"
      ]
     },
     "execution_count": 42,
     "metadata": {},
     "output_type": "execute_result"
    }
   ],
   "source": [
    "m = re.search(pattern_bits, dat)\n",
    "m.start()"
   ]
  },
  {
   "cell_type": "code",
   "execution_count": 37,
   "metadata": {},
   "outputs": [
    {
     "data": {
      "text/plain": [
       "<re.Match object; span=(2, 4), match='?.'>"
      ]
     },
     "execution_count": 37,
     "metadata": {},
     "output_type": "execute_result"
    }
   ],
   "source": [
    "tmp = \"\\?\\.\" \n",
    "re.search(tmp, dat)"
   ]
  },
  {
   "cell_type": "code",
   "execution_count": null,
   "metadata": {},
   "outputs": [],
   "source": []
  },
  {
   "cell_type": "code",
   "execution_count": 35,
   "metadata": {},
   "outputs": [
    {
     "name": "stdout",
     "output_type": "stream",
     "text": [
      "[\\?#]\\{1}[\\.\\?]+[\\?#]\\{1}[\\.\\?]+[\\?#]\\{3}\n"
     ]
    }
   ],
   "source": [
    "print(pattern_bits)"
   ]
  },
  {
   "cell_type": "code",
   "execution_count": 23,
   "metadata": {},
   "outputs": [],
   "source": [
    "m = re.search(pattern_bits, dat)\n",
    "m"
   ]
  },
  {
   "cell_type": "code",
   "execution_count": 30,
   "metadata": {},
   "outputs": [
    {
     "data": {
      "text/plain": [
       "<re.Match object; span=(4, 7), match='###'>"
      ]
     },
     "execution_count": 30,
     "metadata": {},
     "output_type": "execute_result"
    }
   ],
   "source": [
    "re.search(\"###\", dat)"
   ]
  },
  {
   "cell_type": "code",
   "execution_count": 34,
   "metadata": {},
   "outputs": [
    {
     "data": {
      "text/plain": [
       "<re.Match object; span=(0, 7), match='???.###'>"
      ]
     },
     "execution_count": 34,
     "metadata": {},
     "output_type": "execute_result"
    }
   ],
   "source": [
    "re.search( \"[\\?#]{1}[\\.\\?]+?[\\?#]{1}[\\.\\?]+?[\\?#]{3}\", dat )"
   ]
  },
  {
   "cell_type": "code",
   "execution_count": 24,
   "metadata": {},
   "outputs": [
    {
     "data": {
      "text/plain": [
       "True"
      ]
     },
     "execution_count": 24,
     "metadata": {},
     "output_type": "execute_result"
    }
   ],
   "source": [
    "m is None"
   ]
  },
  {
   "attachments": {},
   "cell_type": "markdown",
   "metadata": {},
   "source": [
    "### Part 2"
   ]
  },
  {
   "cell_type": "code",
   "execution_count": 59,
   "metadata": {},
   "outputs": [
    {
     "data": {
      "text/plain": [
       "8410"
      ]
     },
     "execution_count": 59,
     "metadata": {},
     "output_type": "execute_result"
    }
   ],
   "source": [
    "GalaxyMap( test, expansion=100 ).all_galaxy_distances()"
   ]
  },
  {
   "cell_type": "code",
   "execution_count": 60,
   "metadata": {},
   "outputs": [
    {
     "data": {
      "text/plain": [
       "613686987427.0"
      ]
     },
     "execution_count": 60,
     "metadata": {},
     "output_type": "execute_result"
    }
   ],
   "source": [
    "GalaxyMap( puzz, expansion=1e6 ).all_galaxy_distances()"
   ]
  }
 ],
 "metadata": {
  "kernelspec": {
   "display_name": "base",
   "language": "python",
   "name": "python3"
  },
  "language_info": {
   "codemirror_mode": {
    "name": "ipython",
    "version": 3
   },
   "file_extension": ".py",
   "mimetype": "text/x-python",
   "name": "python",
   "nbconvert_exporter": "python",
   "pygments_lexer": "ipython3",
   "version": "3.7.3"
  },
  "orig_nbformat": 4,
  "vscode": {
   "interpreter": {
    "hash": "ad2bdc8ecc057115af97d19610ffacc2b4e99fae6737bb82f5d7fb13d2f2c186"
   }
  }
 },
 "nbformat": 4,
 "nbformat_minor": 2
}
