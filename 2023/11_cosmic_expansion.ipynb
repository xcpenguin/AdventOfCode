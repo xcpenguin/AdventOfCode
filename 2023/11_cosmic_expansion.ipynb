{
 "cells": [
  {
   "attachments": {},
   "cell_type": "markdown",
   "metadata": {},
   "source": [
    "# December 11, 2023\n",
    "\n",
    "https://adventofcode.com/2023/day/11"
   ]
  },
  {
   "cell_type": "code",
   "execution_count": 1,
   "metadata": {},
   "outputs": [],
   "source": [
    "test_str = f'''...#......\n",
    ".......#..\n",
    "#.........\n",
    "..........\n",
    "......#...\n",
    ".#........\n",
    ".........#\n",
    "..........\n",
    ".......#..\n",
    "#...#.....'''\n",
    "test = test_str.split(\"\\n\")"
   ]
  },
  {
   "cell_type": "code",
   "execution_count": 2,
   "metadata": {},
   "outputs": [],
   "source": [
    "fn = \"data/11.txt\"\n",
    "with open(fn, \"r\") as file:\n",
    "    text = file.readlines()\n",
    "\n",
    "puzz = [x.strip() for x in text]"
   ]
  },
  {
   "cell_type": "code",
   "execution_count": 49,
   "metadata": {},
   "outputs": [],
   "source": [
    "class GalaxyMap:\n",
    "    def __init__(self, lines, expansion=2):\n",
    "        self.width = len(lines[0])\n",
    "        self.height = len(lines)\n",
    "        self.expansion = expansion\n",
    "\n",
    "        self.galaxies = []\n",
    "        self.empty_rows = []\n",
    "        self.empty_cols = []\n",
    "\n",
    "        # check for galaxies and empty rows\n",
    "        for row, line in enumerate(lines):\n",
    "            isblank = True\n",
    "            for col, char in enumerate(line):\n",
    "                if char == \"#\":\n",
    "                    self.galaxies.append( [row, col] )\n",
    "                    isblank = False\n",
    "            if isblank:\n",
    "                self.empty_rows.append( row )\n",
    "\n",
    "        for col in range(self.width):\n",
    "            isblank = True\n",
    "            for row in range(self.height):\n",
    "                if lines[row][col] == \"#\":\n",
    "                    isblank = False\n",
    "                    break\n",
    "            if isblank:\n",
    "               self.empty_cols.append(col)\n",
    "\n",
    "    def galaxy_dist( self, i, j ):\n",
    "        nr = abs( self.galaxies[i][0] - self.galaxies[j][0] )\n",
    "        nc = abs( self.galaxies[i][1] - self.galaxies[j][1] )\n",
    "\n",
    "        for r in range( self.galaxies[i][0], self.galaxies[j][0] ):\n",
    "            if r in self.empty_rows:\n",
    "                nr += self.expansion - 1\n",
    "        d = 1 if self.galaxies[i][1] < self.galaxies[j][1] else -1        \n",
    "        for c in range( self.galaxies[i][1], self.galaxies[j][1], d ):\n",
    "            if c in self.empty_cols:\n",
    "                nc += self.expansion - 1\n",
    "\n",
    "        return nr + nc\n",
    "\n",
    "    def all_galaxy_distances( self ):\n",
    "        tot = 0\n",
    "        for i in range( len(self.galaxies) ):\n",
    "            for j in range( i+1, len(self.galaxies) ):\n",
    "                tot += self.galaxy_dist( i, j )\n",
    "\n",
    "        return tot"
   ]
  },
  {
   "cell_type": "markdown",
   "metadata": {},
   "source": [
    "### Part 1"
   ]
  },
  {
   "cell_type": "code",
   "execution_count": 50,
   "metadata": {},
   "outputs": [],
   "source": [
    "gtest = GalaxyMap( test )"
   ]
  },
  {
   "cell_type": "code",
   "execution_count": 51,
   "metadata": {},
   "outputs": [
    {
     "data": {
      "text/plain": [
       "['...#......',\n",
       " '.......#..',\n",
       " '#.........',\n",
       " '..........',\n",
       " '......#...',\n",
       " '.#........',\n",
       " '.........#',\n",
       " '..........',\n",
       " '.......#..',\n",
       " '#...#.....']"
      ]
     },
     "execution_count": 51,
     "metadata": {},
     "output_type": "execute_result"
    }
   ],
   "source": [
    "test"
   ]
  },
  {
   "cell_type": "code",
   "execution_count": 52,
   "metadata": {},
   "outputs": [
    {
     "data": {
      "text/plain": [
       "[[0, 3], [1, 7], [2, 0], [4, 6], [5, 1], [6, 9], [8, 7], [9, 0], [9, 4]]"
      ]
     },
     "execution_count": 52,
     "metadata": {},
     "output_type": "execute_result"
    }
   ],
   "source": [
    "gtest.galaxies"
   ]
  },
  {
   "cell_type": "code",
   "execution_count": 53,
   "metadata": {},
   "outputs": [
    {
     "data": {
      "text/plain": [
       "([3, 7], [2, 5, 8])"
      ]
     },
     "execution_count": 53,
     "metadata": {},
     "output_type": "execute_result"
    }
   ],
   "source": [
    "gtest.empty_rows, gtest.empty_cols"
   ]
  },
  {
   "cell_type": "code",
   "execution_count": 54,
   "metadata": {},
   "outputs": [
    {
     "data": {
      "text/plain": [
       "(15, 17, 5)"
      ]
     },
     "execution_count": 54,
     "metadata": {},
     "output_type": "execute_result"
    }
   ],
   "source": [
    "gtest.galaxy_dist(0,6), gtest.galaxy_dist(2,5), gtest.galaxy_dist(7,8)"
   ]
  },
  {
   "cell_type": "code",
   "execution_count": 55,
   "metadata": {},
   "outputs": [
    {
     "data": {
      "text/plain": [
       "374"
      ]
     },
     "execution_count": 55,
     "metadata": {},
     "output_type": "execute_result"
    }
   ],
   "source": [
    "gtest.all_galaxy_distances()"
   ]
  },
  {
   "cell_type": "code",
   "execution_count": 56,
   "metadata": {},
   "outputs": [
    {
     "data": {
      "text/plain": [
       "9214785"
      ]
     },
     "execution_count": 56,
     "metadata": {},
     "output_type": "execute_result"
    }
   ],
   "source": [
    "gpuzz = GalaxyMap( puzz )\n",
    "gpuzz.all_galaxy_distances()"
   ]
  },
  {
   "attachments": {},
   "cell_type": "markdown",
   "metadata": {},
   "source": [
    "### Part 2"
   ]
  },
  {
   "cell_type": "code",
   "execution_count": 58,
   "metadata": {},
   "outputs": [
    {
     "data": {
      "text/plain": [
       "1030"
      ]
     },
     "execution_count": 58,
     "metadata": {},
     "output_type": "execute_result"
    }
   ],
   "source": [
    "gtest2 = GalaxyMap( test, expansion=10 )\n",
    "gtest2.all_galaxy_distances()"
   ]
  },
  {
   "cell_type": "code",
   "execution_count": 59,
   "metadata": {},
   "outputs": [
    {
     "data": {
      "text/plain": [
       "8410"
      ]
     },
     "execution_count": 59,
     "metadata": {},
     "output_type": "execute_result"
    }
   ],
   "source": [
    "GalaxyMap( test, expansion=100 ).all_galaxy_distances()"
   ]
  },
  {
   "cell_type": "code",
   "execution_count": 60,
   "metadata": {},
   "outputs": [
    {
     "data": {
      "text/plain": [
       "613686987427.0"
      ]
     },
     "execution_count": 60,
     "metadata": {},
     "output_type": "execute_result"
    }
   ],
   "source": [
    "GalaxyMap( puzz, expansion=1e6 ).all_galaxy_distances()"
   ]
  }
 ],
 "metadata": {
  "kernelspec": {
   "display_name": "base",
   "language": "python",
   "name": "python3"
  },
  "language_info": {
   "codemirror_mode": {
    "name": "ipython",
    "version": 3
   },
   "file_extension": ".py",
   "mimetype": "text/x-python",
   "name": "python",
   "nbconvert_exporter": "python",
   "pygments_lexer": "ipython3",
   "version": "3.7.3"
  },
  "orig_nbformat": 4,
  "vscode": {
   "interpreter": {
    "hash": "ad2bdc8ecc057115af97d19610ffacc2b4e99fae6737bb82f5d7fb13d2f2c186"
   }
  }
 },
 "nbformat": 4,
 "nbformat_minor": 2
}
