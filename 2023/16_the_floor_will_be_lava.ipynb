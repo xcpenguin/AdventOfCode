{
 "cells": [
  {
   "attachments": {},
   "cell_type": "markdown",
   "metadata": {},
   "source": [
    "# December 16, 2023\n",
    "\n",
    "https://adventofcode.com/2023/day/16"
   ]
  },
  {
   "cell_type": "markdown",
   "metadata": {},
   "source": [
    "I replaced all \\ in input with L to simplify escaping backslashes"
   ]
  },
  {
   "cell_type": "code",
   "execution_count": 338,
   "metadata": {},
   "outputs": [],
   "source": [
    "test = f'''.|...L....\n",
    "|.-.L.....\n",
    ".....|-...\n",
    "........|.\n",
    "..........\n",
    ".........L\n",
    "..../.LL..\n",
    ".-.-/..|..\n",
    ".|....-|.L\n",
    "..//.|....'''\n",
    "\n",
    "test = test.split(\"\\n\")\n",
    "test = [ [y for y in line] for line in test]"
   ]
  },
  {
   "cell_type": "code",
   "execution_count": 339,
   "metadata": {},
   "outputs": [],
   "source": [
    "fn = \"../data/2023/16.txt\"\n",
    "with open(fn, \"r\") as file:\n",
    "    text = file.readlines()\n",
    "\n",
    "puzz = [x.strip() for x in text]\n",
    "puzz = [ [y for y in line] for line in puzz ]"
   ]
  },
  {
   "cell_type": "code",
   "execution_count": 340,
   "metadata": {},
   "outputs": [
    {
     "data": {
      "text/plain": [
       "[['.', '|', '.', '.', '.', 'L', '.', '.', '.', '.'],\n",
       " ['|', '.', '-', '.', 'L', '.', '.', '.', '.', '.'],\n",
       " ['.', '.', '.', '.', '.', '|', '-', '.', '.', '.'],\n",
       " ['.', '.', '.', '.', '.', '.', '.', '.', '|', '.'],\n",
       " ['.', '.', '.', '.', '.', '.', '.', '.', '.', '.'],\n",
       " ['.', '.', '.', '.', '.', '.', '.', '.', '.', 'L'],\n",
       " ['.', '.', '.', '.', '/', '.', 'L', 'L', '.', '.'],\n",
       " ['.', '-', '.', '-', '/', '.', '.', '|', '.', '.'],\n",
       " ['.', '|', '.', '.', '.', '.', '-', '|', '.', 'L'],\n",
       " ['.', '.', '/', '/', '.', '|', '.', '.', '.', '.']]"
      ]
     },
     "execution_count": 340,
     "metadata": {},
     "output_type": "execute_result"
    }
   ],
   "source": [
    "test"
   ]
  },
  {
   "cell_type": "markdown",
   "metadata": {},
   "source": [
    "### Part 1"
   ]
  },
  {
   "cell_type": "code",
   "execution_count": 378,
   "metadata": {},
   "outputs": [],
   "source": [
    "class Beam:\n",
    "    num_generated = 0\n",
    "\n",
    "    def __init__( self, x=0, y=0, dir=\"r\" ):\n",
    "        self.x = x\n",
    "        self.y = y\n",
    "        self.dir = dir\n",
    "        self.id = Beam.num_generated\n",
    "        Beam.num_generated += 1\n",
    "\n",
    "    def __str__( self ):\n",
    "        if self.dir == \"r\":\n",
    "            ch = \">\"\n",
    "        elif self.dir == \"l\":\n",
    "            ch = \"<\"\n",
    "        elif self.dir == \"u\":\n",
    "            ch = \"^\"\n",
    "        else:\n",
    "            ch = \"v\"\n",
    "\n",
    "        return f'''Beam {self.id} {ch} @({self.x},{self.y})'''\n",
    "\n",
    "class MirrorMaze:\n",
    "    def __init__( self, arr, x0=-1, y0=0, d0=\"r\" ):\n",
    "        self.map = arr\n",
    "        self.ncol = len(arr[0])\n",
    "        self.nrow = len(arr)\n",
    "\n",
    "        self.beams = list()\n",
    "        self.history = {}\n",
    "        self.energy = 0\n",
    "\n",
    "        # if d0 == \"r\":\n",
    "        # # edge cases\n",
    "        #     if self.map[y0][x0] in [\"L\", \"|\"]:\n",
    "        #         dir = \"d\"\n",
    "        #     elif self.map[y0][x0] == \"/\":\n",
    "        #         dir = \"u\"\n",
    "        #     else:\n",
    "        #         dir = \"r\"\n",
    "        # elif d0 == \"l\":\n",
    "        #     if self.map[y0][x0] in [\"L\", \"|\"]:\n",
    "        #         dir = \"u\"\n",
    "        #     elif self.map[y0][x0] == \"/\":\n",
    "        #         dir = \"u\"\n",
    "        #     else:\n",
    "        #         dir = \"r\"\n",
    "\n",
    "        \n",
    "        self.newBeam( x=x0, y=y0, dir=d0, outside=True )\n",
    "\n",
    "        \n",
    "\n",
    "    def tileId( self, x, y):\n",
    "        return x*self.ncol + y\n",
    "    \n",
    "    def addHistory( self, x, y, dir ):\n",
    "        tile = self.tileId(x,y)\n",
    "        if tile in self.history.keys():\n",
    "            if dir not in self.history[tile]:\n",
    "                self.history[tile] += dir\n",
    "            # else don't add again\n",
    "        else:\n",
    "            self.energy += 1\n",
    "            self.history[tile] = dir\n",
    "\n",
    "    def newBeam( self, x, y, dir, outside = False ):\n",
    "        tile = self.tileId(x,y)\n",
    "\n",
    "        if outside:\n",
    "            # this is an \"edge\" case for the initial condition\n",
    "            # we allow the beam to be outside the grid.\n",
    "            self.beams.append( Beam(x,y,dir) )\n",
    "        else:\n",
    "            if (\n",
    "                x < 0 or x >= self.ncol or\n",
    "                y < 0 or y >= self.nrow or\n",
    "                (tile in self.history.keys() and dir in self.history[tile])\n",
    "            ):\n",
    "                return\n",
    "                      \n",
    "            self.beams.append( Beam(x,y,dir) )\n",
    "            self.addHistory(x,y,dir)\n",
    "\n",
    "    def run( self ):\n",
    "        while len(self.beams) > 0:\n",
    "            self.stepBeam( 0 )\n",
    "        return\n",
    "        \n",
    "    def endBeam( self, id = 0 ):\n",
    "        #self.beams[id] = None\n",
    "        self.beams = self.beams[:id] + self.beams[(id+1):]\n",
    "\n",
    "    def stepBeam( self, id = 0 ):\n",
    "        if id > len(self.beams):\n",
    "            return\n",
    "        \n",
    "        b = self.beams[id]\n",
    "        if b.dir == \"r\":\n",
    "            b.x += 1\n",
    "        elif b.dir == \"l\":\n",
    "            b.x -= 1\n",
    "        elif b.dir == \"u\":\n",
    "            b.y -= 1\n",
    "        else:\n",
    "            b.y += 1\n",
    "\n",
    "        # beam went off the map, remove it from tracking\n",
    "        if b.x < 0 or b.x >= self.ncol or b.y < 0 or b.y >= self.nrow:\n",
    "            self.endBeam(id)\n",
    "            return\n",
    "        \n",
    "        tile = self.tileId( b.x, b.y )\n",
    "        if tile in self.history.keys():\n",
    "            # we're already tracing (or finished tracing) this path\n",
    "            if b.dir in self.history[tile]:\n",
    "                self.endBeam(id)\n",
    "                return\n",
    "            \n",
    "        # add this dir to list of histories we've traced for this tile\n",
    "        self.addHistory( b.x, b.y, b.dir )\n",
    "\n",
    "        sym = self.map[b.y][b.x]\n",
    "\n",
    "        if sym == \"/\":\n",
    "            if b.dir == \"r\":\n",
    "                b.dir = \"u\"\n",
    "            elif b.dir == \"l\":\n",
    "                b.dir = \"d\" \n",
    "            elif b.dir == \"u\":\n",
    "                b.dir = \"r\" \n",
    "            else:\n",
    "                b.dir = \"l\"\n",
    "        elif sym == \"L\":\n",
    "            if b.dir == \"r\":\n",
    "                b.dir = \"d\"\n",
    "            elif b.dir == \"l\":\n",
    "                b.dir = \"u\" \n",
    "            elif b.dir == \"u\":\n",
    "                b.dir = \"l\" \n",
    "            else:\n",
    "                b.dir = \"r\"\n",
    "        elif sym == \"-\" and (b.dir == \"u\" or b.dir == \"d\"):\n",
    "            # add left/right beams if needed\n",
    "            self.newBeam( b.x, b.y, \"l\" )\n",
    "            self.newBeam( b.x, b.y, \"r\" )\n",
    "            # remove the old beam\n",
    "            self.endBeam(id)\n",
    "            \n",
    "        elif sym == \"|\" and (b.dir == \"r\" or b.dir == \"l\"):\n",
    "            # add up/down beams\n",
    "            self.newBeam( b.x, b.y, \"d\" )\n",
    "            self.newBeam( b.x, b.y, \"u\" )\n",
    "            # remove the old beam\n",
    "            self.endBeam(id)\n",
    "\n",
    "    def print( self, show=\"map\" ):\n",
    "        if show == \"map\":\n",
    "            print( \"\\n\".join( [ \"\".join(line) for line in self.map] ) )\n",
    "\n",
    "        if show == \"laser\":\n",
    "            for y in range(self.nrow):\n",
    "                line = \"\"\n",
    "                for x in range(self.ncol):\n",
    "                    sym = self.map[y][x]\n",
    "                    if sym == \".\":\n",
    "                        tile = self.tileId( x, y )\n",
    "                        if tile not in self.history.keys():\n",
    "                            line += \".\"\n",
    "                        elif len( self.history[tile] ) > 1:\n",
    "                            line += str( len(self.history[tile]) )\n",
    "                        elif self.history[tile] == \"r\":\n",
    "                            line += \">\"\n",
    "                        elif self.history[tile] == \"l\":\n",
    "                            line += \"<\"\n",
    "                        elif self.history[tile] == \"u\":\n",
    "                            line += \"^\"\n",
    "                        else:\n",
    "                            line += \"v\"\n",
    "                    else:\n",
    "                        line += sym\n",
    "                print(line)\n",
    "        \n",
    "        if show == \"energy\":\n",
    "            for y in range(self.nrow):\n",
    "                line = \"\"\n",
    "                for x in range(self.ncol):\n",
    "                    tile = self.tileId(x,y)\n",
    "                    line += \"#\" if tile in self.history.keys() else \".\"\n",
    "                print(line)\n",
    "\n",
    "        print(\"\\n\")"
   ]
  },
  {
   "cell_type": "code",
   "execution_count": 379,
   "metadata": {},
   "outputs": [],
   "source": [
    "\n",
    "t = MirrorMaze(test)"
   ]
  },
  {
   "cell_type": "code",
   "execution_count": 380,
   "metadata": {},
   "outputs": [
    {
     "name": "stdout",
     "output_type": "stream",
     "text": [
      "Beam 0 > @(-1,0)\n"
     ]
    }
   ],
   "source": [
    "print( t.beams[0] )"
   ]
  },
  {
   "cell_type": "code",
   "execution_count": 381,
   "metadata": {},
   "outputs": [
    {
     "name": "stdout",
     "output_type": "stream",
     "text": [
      ">|...L....\n",
      "|.-.L.....\n",
      ".....|-...\n",
      "........|.\n",
      "..........\n",
      ".........L\n",
      "..../.LL..\n",
      ".-.-/..|..\n",
      ".|....-|.L\n",
      "..//.|....\n",
      "\n",
      "\n"
     ]
    }
   ],
   "source": [
    "t.stepBeam()\n",
    "t.print(\"laser\")"
   ]
  },
  {
   "cell_type": "code",
   "execution_count": 382,
   "metadata": {},
   "outputs": [
    {
     "name": "stdout",
     "output_type": "stream",
     "text": [
      "46\n",
      ">|<<<L....\n",
      "|v-.L^....\n",
      ".v...|->>>\n",
      ".v...v^.|.\n",
      ".v...v^...\n",
      ".v...v^..L\n",
      ".v../2LL..\n",
      "<->-/vv|..\n",
      ".|<<<2-|.L\n",
      ".v//.|.v..\n",
      "\n",
      "\n",
      "######....\n",
      ".#...#....\n",
      ".#...#####\n",
      ".#...##...\n",
      ".#...##...\n",
      ".#...##...\n",
      ".#..####..\n",
      "########..\n",
      ".#######..\n",
      ".#...#.#..\n",
      "\n",
      "\n"
     ]
    }
   ],
   "source": [
    "t.run()\n",
    "print(t.energy)\n",
    "t.print(\"laser\")\n",
    "t.print(\"energy\")"
   ]
  },
  {
   "cell_type": "code",
   "execution_count": null,
   "metadata": {},
   "outputs": [],
   "source": [
    "p = MirrorMaze(puzz)\n",
    "p.run()\n",
    "print(p.energy)\n",
    "p.print(\"laser\")\n",
    "p.print(\"energy\")"
   ]
  },
  {
   "attachments": {},
   "cell_type": "markdown",
   "metadata": {},
   "source": [
    "### Part 2"
   ]
  },
  {
   "cell_type": "code",
   "execution_count": 386,
   "metadata": {},
   "outputs": [],
   "source": [
    "def part2( puzz ):\n",
    "    ncol = len(puzz[0])\n",
    "    nrow = len(puzz)\n",
    "    best = 0\n",
    "    best_result = None\n",
    "\n",
    "    for y in range( nrow ):\n",
    "        p = MirrorMaze( puzz, x0=-1, y0=y, d0=\"r\" )\n",
    "        p.run()\n",
    "        if p.energy > best:\n",
    "            best = p.energy\n",
    "            best_result = p\n",
    "        \n",
    "        p = MirrorMaze( puzz, x0=ncol, y0=y, d0=\"l\" )\n",
    "        p.run()\n",
    "        if p.energy > best:\n",
    "            best = p.energy\n",
    "            best_result = p\n",
    "\n",
    "    for x in range( ncol ):\n",
    "        p = MirrorMaze( puzz, x0=x, y0=-1, d0=\"d\" )\n",
    "        p.run()\n",
    "        if p.energy > best:\n",
    "            best = p.energy\n",
    "            best_result = p\n",
    "        \n",
    "        p = MirrorMaze( puzz, x0=x, y0=nrow, d0=\"u\" )\n",
    "        p.run()\n",
    "        if p.energy > best:\n",
    "            best = p.energy\n",
    "            best_result = p\n",
    "\n",
    "    return best, best_result"
   ]
  },
  {
   "cell_type": "code",
   "execution_count": 387,
   "metadata": {},
   "outputs": [
    {
     "name": "stdout",
     "output_type": "stream",
     "text": [
      "51\n",
      ".|<2<L....\n",
      "|v-vL^....\n",
      ".v.v.|->>>\n",
      ".v.v.v^.|.\n",
      ".v.v.v^...\n",
      ".v.v.v^..L\n",
      ".v.v/2LL..\n",
      "<-2-/vv|..\n",
      ".|<<<2-|.L\n",
      ".v//.|.v..\n",
      "\n",
      "\n",
      ".#####....\n",
      ".#.#.#....\n",
      ".#.#.#####\n",
      ".#.#.##...\n",
      ".#.#.##...\n",
      ".#.#.##...\n",
      ".#.#####..\n",
      "########..\n",
      ".#######..\n",
      ".#...#.#..\n",
      "\n",
      "\n"
     ]
    }
   ],
   "source": [
    "b, br = part2( test )\n",
    "print(b)\n",
    "br.print(\"laser\")\n",
    "br.print(\"energy\")"
   ]
  },
  {
   "cell_type": "code",
   "execution_count": 388,
   "metadata": {},
   "outputs": [
    {
     "name": "stdout",
     "output_type": "stream",
     "text": [
      "6766\n"
     ]
    }
   ],
   "source": [
    "ans, _ = part2( puzz )\n",
    "print(ans)"
   ]
  }
 ],
 "metadata": {
  "kernelspec": {
   "display_name": "base",
   "language": "python",
   "name": "python3"
  },
  "language_info": {
   "codemirror_mode": {
    "name": "ipython",
    "version": 3
   },
   "file_extension": ".py",
   "mimetype": "text/x-python",
   "name": "python",
   "nbconvert_exporter": "python",
   "pygments_lexer": "ipython3",
   "version": "3.7.3"
  },
  "orig_nbformat": 4,
  "vscode": {
   "interpreter": {
    "hash": "ad2bdc8ecc057115af97d19610ffacc2b4e99fae6737bb82f5d7fb13d2f2c186"
   }
  }
 },
 "nbformat": 4,
 "nbformat_minor": 2
}
