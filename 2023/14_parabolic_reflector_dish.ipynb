{
 "cells": [
  {
   "attachments": {},
   "cell_type": "markdown",
   "metadata": {},
   "source": [
    "# December 14, 2023\n",
    "\n",
    "https://adventofcode.com/2023/day/14"
   ]
  },
  {
   "cell_type": "code",
   "execution_count": 137,
   "metadata": {},
   "outputs": [
    {
     "data": {
      "text/plain": [
       "[['O', '.', '.', '.', '.', '#', '.', '.', '.', '.'],\n",
       " ['O', '.', 'O', 'O', '#', '.', '.', '.', '.', '#'],\n",
       " ['.', '.', '.', '.', '.', '#', '#', '.', '.', '.'],\n",
       " ['O', 'O', '.', '#', 'O', '.', '.', '.', '.', 'O'],\n",
       " ['.', 'O', '.', '.', '.', '.', '.', 'O', '#', '.'],\n",
       " ['O', '.', '#', '.', '.', 'O', '.', '#', '.', '#'],\n",
       " ['.', '.', 'O', '.', '.', '#', 'O', '.', '.', 'O'],\n",
       " ['.', '.', '.', '.', '.', '.', '.', 'O', '.', '.'],\n",
       " ['#', '.', '.', '.', '.', '#', '#', '#', '.', '.'],\n",
       " ['#', 'O', 'O', '.', '.', '#', '.', '.', '.', '.']]"
      ]
     },
     "execution_count": 137,
     "metadata": {},
     "output_type": "execute_result"
    }
   ],
   "source": [
    "test_str = f'''O....#....\n",
    "O.OO#....#\n",
    ".....##...\n",
    "OO.#O....O\n",
    ".O.....O#.\n",
    "O.#..O.#.#\n",
    "..O..#O..O\n",
    ".......O..\n",
    "#....###..\n",
    "#OO..#....'''\n",
    "\n",
    "test = test_str.split(\"\\n\")\n",
    "test = [ [y for y in line] for line in test]\n",
    "test"
   ]
  },
  {
   "cell_type": "code",
   "execution_count": 1,
   "metadata": {},
   "outputs": [],
   "source": [
    "fn = \"../data/2023/14.txt\"\n",
    "with open(fn, \"r\") as file:\n",
    "    text = file.readlines()\n",
    "\n",
    "puzz = [x.strip() for x in text]\n",
    "puzz = [ [y for y in line] for line in puzz ]"
   ]
  },
  {
   "cell_type": "markdown",
   "metadata": {},
   "source": [
    "### Part 1"
   ]
  },
  {
   "cell_type": "code",
   "execution_count": 7,
   "metadata": {},
   "outputs": [],
   "source": [
    "def columnar( text ):\n",
    "    text2 = []\n",
    "    for i in range( len(text[0]) ):\n",
    "        text2.append( \"\".join( [line[i] for line in text] ) )\n",
    "    return text2\n"
   ]
  },
  {
   "cell_type": "code",
   "execution_count": 34,
   "metadata": {},
   "outputs": [],
   "source": [
    "def deep_copy( text ):\n",
    "    return [ [c for c in r] for r in text ]\n",
    "\n",
    "def tilt_up( text ):\n",
    "    text2 = deep_copy(text)\n",
    "    for c in range( len(text2[0]) ):\n",
    "        #print(c)\n",
    "        next_square = 0\n",
    "        next_space = 0\n",
    "        for r in range( len(text) ):\n",
    "            #print(\"row\", r)\n",
    "            #print(\"next_space = \", next_space)\n",
    "            if text2[r][c] == \"O\":\n",
    "                if next_space != r:\n",
    "                    text2[next_space][c] = \"O\"\n",
    "                    text2[r][c] = \".\"\n",
    "                next_space += 1\n",
    "            elif text2[r][c] == \"#\":\n",
    "                next_space = r+1\n",
    "    return text2\n",
    "\n",
    "def part1( text ):\n",
    "    upped = tilt_up( text )\n",
    "    \n",
    "    load = 0\n",
    "    for r in range( len(upped) ):\n",
    "        for c in range( len(upped[0]) ):\n",
    "            if upped[r][c] == \"O\":\n",
    "                load += len(upped) - r\n",
    "    return load"
   ]
  },
  {
   "cell_type": "code",
   "execution_count": null,
   "metadata": {},
   "outputs": [
    {
     "data": {
      "text/plain": [
       "[['O', '.', '.', '.', '.', '#', '.', '.', '.', '.'],\n",
       " ['O', '.', 'O', 'O', '#', '.', '.', '.', '.', '#'],\n",
       " ['.', '.', '.', '.', '.', '#', '#', '.', '.', '.'],\n",
       " ['O', 'O', '.', '#', 'O', '.', '.', '.', '.', 'O'],\n",
       " ['.', 'O', '.', '.', '.', '.', '.', 'O', '#', '.'],\n",
       " ['O', '.', '#', '.', '.', 'O', '.', '#', '.', '#'],\n",
       " ['.', '.', 'O', '.', '.', '#', 'O', '.', '.', 'O'],\n",
       " ['.', '.', '.', '.', '.', '.', '.', 'O', '.', '.'],\n",
       " ['#', '.', '.', '.', '.', '#', '#', '#', '.', '.'],\n",
       " ['#', 'O', 'O', '.', '.', '#', '.', '.', '.', '.']]"
      ]
     },
     "metadata": {},
     "output_type": "display_data"
    }
   ],
   "source": [
    "test"
   ]
  },
  {
   "cell_type": "code",
   "execution_count": 32,
   "metadata": {},
   "outputs": [
    {
     "data": {
      "text/plain": [
       "[['O', 'O', 'O', 'O', '.', '#', '.', 'O', '.', '.'],\n",
       " ['O', 'O', '.', '.', '#', '.', '.', '.', '.', '#'],\n",
       " ['O', 'O', '.', '.', 'O', '#', '#', '.', '.', 'O'],\n",
       " ['O', '.', '.', '#', '.', 'O', 'O', '.', '.', '.'],\n",
       " ['.', '.', '.', '.', '.', '.', '.', '.', '#', '.'],\n",
       " ['.', '.', '#', '.', '.', '.', '.', '#', '.', '#'],\n",
       " ['.', '.', 'O', '.', '.', '#', '.', 'O', '.', 'O'],\n",
       " ['.', '.', 'O', '.', '.', '.', '.', '.', '.', '.'],\n",
       " ['#', '.', '.', '.', '.', '#', '#', '#', '.', '.'],\n",
       " ['#', '.', '.', '.', '.', '#', '.', '.', '.', '.']]"
      ]
     },
     "execution_count": 32,
     "metadata": {},
     "output_type": "execute_result"
    }
   ],
   "source": [
    "tilt_up( test )"
   ]
  },
  {
   "cell_type": "code",
   "execution_count": null,
   "metadata": {},
   "outputs": [
    {
     "data": {
      "text/plain": [
       "136"
      ]
     },
     "metadata": {},
     "output_type": "display_data"
    }
   ],
   "source": [
    "part1( test )"
   ]
  },
  {
   "cell_type": "code",
   "execution_count": 37,
   "metadata": {},
   "outputs": [
    {
     "data": {
      "text/plain": [
       "113424"
      ]
     },
     "execution_count": 37,
     "metadata": {},
     "output_type": "execute_result"
    }
   ],
   "source": [
    "part1( puzz )"
   ]
  },
  {
   "attachments": {},
   "cell_type": "markdown",
   "metadata": {},
   "source": [
    "### Part 2"
   ]
  },
  {
   "cell_type": "code",
   "execution_count": 192,
   "metadata": {},
   "outputs": [],
   "source": [
    "def encode( text ):\n",
    "    return \"\".join( [\"\".join(line) for line in text] )\n",
    "\n",
    "def decode( state, ncol, nrow ):\n",
    "    text = []\n",
    "    for i in range(0, ncol*nrow, ncol):\n",
    "        text.append( [c for c in state[i:i+ncol]] )\n",
    "    return text\n",
    "\n",
    "\n",
    "\n",
    "def tilt_N( text ):\n",
    "    CR = count_rocks(text)\n",
    "    for c in range( len(text[0]) ):\n",
    "        next_space = 0\n",
    "        for r in range( len(text) ):\n",
    "            if text[r][c] == \"O\":\n",
    "                if next_space != r:\n",
    "                    text[next_space][c] = \"O\"\n",
    "                    text[r][c] = \".\"\n",
    "                next_space += 1\n",
    "            elif text[r][c] == \"#\":\n",
    "                next_space = r+1\n",
    "\n",
    "    assert CR == count_rocks(text), \"lost rocks in tilt_N\"\n",
    "    return text\n",
    "\n",
    "def tilt_W( text ):\n",
    "    CR = count_rocks(text)\n",
    "    for r in range( len(text) ):\n",
    "        next_space = 0\n",
    "        for c in range( len(text[0]) ):\n",
    "            if text[r][c] == \"O\":\n",
    "                if next_space != c:\n",
    "                    text[r][next_space] = \"O\"\n",
    "                    text[r][c] = \".\"\n",
    "                next_space += 1\n",
    "            elif text[r][c] == \"#\":\n",
    "                next_space = c+1\n",
    "\n",
    "    assert CR == count_rocks(text), \"lost rocks in tilt_W\"\n",
    "    return text\n",
    "\n",
    "def tilt_S( text ):\n",
    "    CR = count_rocks(text)\n",
    "\n",
    "    for c in range( len(text[0]) ):\n",
    "        next_space = len(text)-1\n",
    "        for r in range( len(text)-1, -1, -1 ):\n",
    "            if text[r][c] == \"O\":\n",
    "                if next_space != r:\n",
    "                    text[next_space][c] = \"O\"\n",
    "                    text[r][c] = \".\"\n",
    "                next_space -= 1\n",
    "            elif text[r][c] == \"#\":\n",
    "                next_space = r-1\n",
    "\n",
    "    assert CR == count_rocks(text), \"lost rocks in tilt_S\"\n",
    "    return text\n",
    "\n",
    "def tilt_E( text ):\n",
    "    CR = count_rocks(text)\n",
    "\n",
    "    for r in range( len(text) ):\n",
    "        next_space = len(text[0])-1\n",
    "        for c in range( len(text[0])-1, -1, -1 ):\n",
    "            if text[r][c] == \"O\":\n",
    "                if next_space != c:\n",
    "                    text[r][next_space] = \"O\"\n",
    "                    text[r][c] = \".\"\n",
    "                next_space -= 1\n",
    "            elif text[r][c] == \"#\":\n",
    "                next_space = c-1\n",
    "    \n",
    "    assert CR == count_rocks(text), \"lost rocks in tilt_E\"\n",
    "    return text\n",
    "\n",
    "def cycle( text ):\n",
    "    text = tilt_N( text )\n",
    "    text = tilt_W( text )\n",
    "    text = tilt_S( text )\n",
    "    text = tilt_E( text )\n",
    "\n",
    "    return text\n",
    "\n",
    "def many_cycles( text, n_cycles = 100, allow_loop = True ):\n",
    "    text2 = deep_copy(text)\n",
    "    ncol = len(text2[0])\n",
    "    nrow = len(text2)\n",
    "\n",
    "    i = 0\n",
    "    states = { encode(text2): 0 }\n",
    "    looped = False\n",
    "\n",
    "    while i < n_cycles and not looped:\n",
    "        #print(\"Iteration\", i)\n",
    "        text2 = cycle( text2 )\n",
    "        code = encode(text2)\n",
    "        i += 1\n",
    "\n",
    "        if code in states.keys() and allow_loop:\n",
    "            print(\"Found loop: \", states[code], \" -- \", i )\n",
    "            looped = True\n",
    "        else:\n",
    "            states[code] = i\n",
    "\n",
    "    if looped:\n",
    "        # calculate what state the system will be in after n_cycles\n",
    "        loop_steps = i - states[code]\n",
    "        steps_left = n_cycles - i\n",
    "\n",
    "        # after full_loops, we'll be back in this state\n",
    "        full_loops = int( steps_left / loop_steps )\n",
    "\n",
    "        # and have this many more steps to go\n",
    "        remaining_steps = steps_left % loop_steps\n",
    "\n",
    "        idx = int( states[code] + remaining_steps )\n",
    "\n",
    "        print( loop_steps, steps_left, full_loops, remaining_steps, idx )\n",
    "        end_state = list( states.keys() )[idx]\n",
    "\n",
    "        # quick check: If the dict got reordered, then do a manual iteration to find the right key\n",
    "        if states[end_state] != idx:\n",
    "            for s, i in states.items():\n",
    "                if i == idx:\n",
    "                    end_state = s\n",
    "                    break\n",
    "\n",
    "        text2 = decode( end_state, ncol, nrow )\n",
    "        \n",
    "        return text2, states\n",
    "    else:\n",
    "        # we actually iterated through without looping\n",
    "        return text2, states\n",
    "\n",
    "def part2( text, n_cycles=100 ):\n",
    "    out, states = many_cycles( text, n_cycles )\n",
    "\n",
    "    load = 0\n",
    "    for r in range( len(out) ):\n",
    "        for c in range( len(out[0]) ):\n",
    "            if out[r][c] == \"O\":\n",
    "                load += len(out) - r\n",
    "    return load, out, states\n",
    "\n",
    "\n",
    "\n",
    "# These are just for convenience.\n",
    "# Currently hashing the entire puzzle state, but if needed, we'll\n",
    "# just hash the O's\n",
    "def count_chars( text ):\n",
    "    return len(text) * len(text[0])\n",
    "\n",
    "def count_rocks( text ):\n",
    "    return sum( [sum([x==\"O\" for x in line]) for line in text] )\n",
    "\n",
    "def compact_print( text ):\n",
    "    print( \"\\n\".join([\"\".join(line) for line in text]) )"
   ]
  },
  {
   "cell_type": "code",
   "execution_count": 193,
   "metadata": {},
   "outputs": [
    {
     "name": "stdout",
     "output_type": "stream",
     "text": [
      "Found loop:  3  --  10\n",
      "7 10 1 3 6\n"
     ]
    },
    {
     "data": {
      "text/plain": [
       "([['.', '.', '.', '.', '.', '#', '.', '.', '.', '.'],\n",
       "  ['.', '.', '.', '.', '#', '.', '.', '.', 'O', '#'],\n",
       "  ['.', '.', '.', '.', '.', '#', '#', '.', '.', '.'],\n",
       "  ['.', '.', '.', '#', '.', '.', '.', '.', '.', '.'],\n",
       "  ['.', '.', '.', '.', '.', 'O', 'O', 'O', '#', '.'],\n",
       "  ['.', 'O', '#', '.', '.', '.', 'O', '#', '.', '#'],\n",
       "  ['.', '.', '.', '.', 'O', '#', '.', '.', '.', 'O'],\n",
       "  ['.', '.', '.', '.', '.', '.', 'O', 'O', 'O', 'O'],\n",
       "  ['#', '.', '.', '.', '.', '#', '#', '#', '.', 'O'],\n",
       "  ['#', '.', 'O', 'O', 'O', '#', '.', '.', 'O', 'O']],\n",
       " {'O....#....O.OO#....#.....##...OO.#O....O.O.....O#.O.#..O.#.#..O..#O..O.......O..#....###..#OO..#....': 0,\n",
       "  '.....#........#...O#...OO##....OO#...........OOO#..O#...O#.#....O#..........OOOO#...O###..#..OO#....': 1,\n",
       "  '.....#........#...O#.....##.....O#...........OOO#..O#...O#.#....O#...O.......OOO#..OO###..#.OOO#...O': 2,\n",
       "  '.....#........#...O#.....##.....O#...........OOO#..O#...O#.#....O#...O.......OOO#...O###.O#.OOO#...O': 3,\n",
       "  '.....#........#...O#.....##.....O#...........OOO#..O#...O#.#....O#...O.......OOO#...O###.O#..OO#..OO': 4,\n",
       "  '.....#........#...O#.....##......#...........OOO#..O#...O#.#....O#...O......OOOO#...O###.O#..OO#..OO': 5,\n",
       "  '.....#........#...O#.....##......#...........OOO#..O#...O#.#....O#...O......OOOO#....###.O#.OOO#..OO': 6,\n",
       "  '.....#........#...O#.....##.....O#............OO#..O#...O#.#....O#...O......OOOO#....###.O#.OOO#..OO': 7,\n",
       "  '.....#........#...O#.....##.....O#............OO#..O#...O#.#....O#..........OOOO#...O###.O#.OOO#..OO': 8,\n",
       "  '.....#........#...O#.....##.....O#...........OOO#..O#...O#.#....O#..........OOOO#...O###.O#.OOO#...O': 9})"
      ]
     },
     "execution_count": 193,
     "metadata": {},
     "output_type": "execute_result"
    }
   ],
   "source": [
    "many_cycles( test, 20 )"
   ]
  },
  {
   "cell_type": "code",
   "execution_count": 194,
   "metadata": {},
   "outputs": [
    {
     "data": {
      "text/plain": [
       "([['.', '.', '.', '.', '.', '#', '.', '.', '.', '.'],\n",
       "  ['.', '.', '.', '.', '#', '.', '.', '.', 'O', '#'],\n",
       "  ['.', '.', '.', '.', '.', '#', '#', '.', '.', '.'],\n",
       "  ['.', '.', '.', '#', '.', '.', '.', '.', '.', '.'],\n",
       "  ['.', '.', '.', '.', '.', 'O', 'O', 'O', '#', '.'],\n",
       "  ['.', 'O', '#', '.', '.', '.', 'O', '#', '.', '#'],\n",
       "  ['.', '.', '.', '.', 'O', '#', '.', '.', '.', 'O'],\n",
       "  ['.', '.', '.', '.', '.', '.', 'O', 'O', 'O', 'O'],\n",
       "  ['#', '.', '.', '.', '.', '#', '#', '#', '.', 'O'],\n",
       "  ['#', '.', 'O', 'O', 'O', '#', '.', '.', 'O', 'O']],\n",
       " {'O....#....O.OO#....#.....##...OO.#O....O.O.....O#.O.#..O.#.#..O..#O..O.......O..#....###..#OO..#....': 0,\n",
       "  '.....#........#...O#...OO##....OO#...........OOO#..O#...O#.#....O#..........OOOO#...O###..#..OO#....': 1,\n",
       "  '.....#........#...O#.....##.....O#...........OOO#..O#...O#.#....O#...O.......OOO#..OO###..#.OOO#...O': 2,\n",
       "  '.....#........#...O#.....##.....O#...........OOO#..O#...O#.#....O#...O.......OOO#...O###.O#.OOO#...O': 17,\n",
       "  '.....#........#...O#.....##.....O#...........OOO#..O#...O#.#....O#...O.......OOO#...O###.O#..OO#..OO': 18,\n",
       "  '.....#........#...O#.....##......#...........OOO#..O#...O#.#....O#...O......OOOO#...O###.O#..OO#..OO': 19,\n",
       "  '.....#........#...O#.....##......#...........OOO#..O#...O#.#....O#...O......OOOO#....###.O#.OOO#..OO': 20,\n",
       "  '.....#........#...O#.....##.....O#............OO#..O#...O#.#....O#...O......OOOO#....###.O#.OOO#..OO': 14,\n",
       "  '.....#........#...O#.....##.....O#............OO#..O#...O#.#....O#..........OOOO#...O###.O#.OOO#..OO': 15,\n",
       "  '.....#........#...O#.....##.....O#...........OOO#..O#...O#.#....O#..........OOOO#...O###.O#.OOO#...O': 16})"
      ]
     },
     "execution_count": 194,
     "metadata": {},
     "output_type": "execute_result"
    }
   ],
   "source": [
    "many_cycles( test, 20, allow_loop = False )"
   ]
  },
  {
   "cell_type": "code",
   "execution_count": 195,
   "metadata": {},
   "outputs": [
    {
     "name": "stdout",
     "output_type": "stream",
     "text": [
      "Found loop:  3  --  10\n",
      "7 999999990.0 142857141 3.0 6\n"
     ]
    },
    {
     "data": {
      "text/plain": [
       "64"
      ]
     },
     "execution_count": 195,
     "metadata": {},
     "output_type": "execute_result"
    }
   ],
   "source": [
    "test_load, test_final, test_states = part2( test, 1e9 )\n",
    "test_load"
   ]
  },
  {
   "cell_type": "code",
   "execution_count": 196,
   "metadata": {},
   "outputs": [
    {
     "name": "stdout",
     "output_type": "stream",
     "text": [
      "Found loop:  103  --  112\n",
      "9 999999888.0 111111098 6.0 109\n"
     ]
    },
    {
     "data": {
      "text/plain": [
       "96003"
      ]
     },
     "execution_count": 196,
     "metadata": {},
     "output_type": "execute_result"
    }
   ],
   "source": [
    "load, final, states = part2( puzz, 1e9 )\n",
    "load"
   ]
  },
  {
   "cell_type": "code",
   "execution_count": 197,
   "metadata": {},
   "outputs": [
    {
     "data": {
      "text/plain": [
       "(2057, 2057)"
      ]
     },
     "execution_count": 197,
     "metadata": {},
     "output_type": "execute_result"
    }
   ],
   "source": [
    "count_rocks(final), count_rocks(puzz)"
   ]
  }
 ],
 "metadata": {
  "kernelspec": {
   "display_name": "base",
   "language": "python",
   "name": "python3"
  },
  "language_info": {
   "codemirror_mode": {
    "name": "ipython",
    "version": 3
   },
   "file_extension": ".py",
   "mimetype": "text/x-python",
   "name": "python",
   "nbconvert_exporter": "python",
   "pygments_lexer": "ipython3",
   "version": "3.7.3"
  },
  "orig_nbformat": 4,
  "vscode": {
   "interpreter": {
    "hash": "ad2bdc8ecc057115af97d19610ffacc2b4e99fae6737bb82f5d7fb13d2f2c186"
   }
  }
 },
 "nbformat": 4,
 "nbformat_minor": 2
}
