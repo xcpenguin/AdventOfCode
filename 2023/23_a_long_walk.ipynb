{
 "cells": [
  {
   "attachments": {},
   "cell_type": "markdown",
   "metadata": {},
   "source": [
    "# December 23, 2023\n",
    "\n",
    "https://adventofcode.com/2023/day/23"
   ]
  },
  {
   "cell_type": "code",
   "execution_count": 1,
   "metadata": {},
   "outputs": [],
   "source": [
    "text = f'''#.#####################\n",
    "#.......#########...###\n",
    "#######.#########.#.###\n",
    "###.....#.>.>.###.#.###\n",
    "###v#####.#v#.###.#.###\n",
    "###.>...#.#.#.....#...#\n",
    "###v###.#.#.#########.#\n",
    "###...#.#.#.......#...#\n",
    "#####.#.#.#######.#.###\n",
    "#.....#.#.#.......#...#\n",
    "#.#####.#.#.#########v#\n",
    "#.#...#...#...###...>.#\n",
    "#.#.#v#######v###.###v#\n",
    "#...#.>.#...>.>.#.###.#\n",
    "#####v#.#.###v#.#.###.#\n",
    "#.....#...#...#.#.#...#\n",
    "#.#########.###.#.#.###\n",
    "#...###...#...#...#.###\n",
    "###.###.#.###v#####v###\n",
    "#...#...#.#.>.>.#.>.###\n",
    "#.###.###.#.###.#.#v###\n",
    "#.....###...###...#...#\n",
    "#####################.#'''\n",
    "\n",
    "test_text = text.split(\"\\n\")"
   ]
  },
  {
   "cell_type": "code",
   "execution_count": 67,
   "metadata": {},
   "outputs": [],
   "source": [
    "fn = \"data/23.txt\"\n",
    "with open(fn, \"r\") as file:\n",
    "    text = file.readlines()\n",
    "\n",
    "puzz_text = [x.strip() for x in text]"
   ]
  },
  {
   "cell_type": "code",
   "execution_count": 71,
   "metadata": {},
   "outputs": [],
   "source": [
    "class Forest:\n",
    "    def __init__( self, text ):\n",
    "        self.text = text\n",
    "        # to make one of the algos slightly simpler, we treat the start as a v. thus all segments start with a v\n",
    "        self.text[0] = \"#v\" + self.text[0][2:]\n",
    "        self.text[-1] = self.text[-1][:-2] + \"v#\"\n",
    "        \n",
    "        self.width = len(text[0])\n",
    "        self.height = len(text)\n",
    "        self.start = [0,1]\n",
    "        self.goal = [self.height-1, self.width-2]\n",
    "\n",
    "    def symbol( self, r, c ):\n",
    "        if (c<0 or c==self.width or c<0 or c==self.height):\n",
    "            return None\n",
    "        return self.text[r][c]\n",
    "\n",
    "    def next_step( self, cur, prev ):\n",
    "        r,c = cur\n",
    "        r0,c0 = prev\n",
    "\n",
    "        radj_list = [-1, 0, 0, +1]\n",
    "        cadj_list = [0, -1, +1, 0]\n",
    "\n",
    "        for radj, cadj in zip(radj_list, cadj_list):\n",
    "            rtry = r + radj\n",
    "            ctry = c + cadj\n",
    "            if (rtry == r0 and ctry == c0):\n",
    "                continue\n",
    "            sym = self.symbol(rtry, ctry)\n",
    "            if (sym is not None) and (sym != \"#\"):\n",
    "                break\n",
    "\n",
    "        return rtry, ctry\n",
    "    \n",
    "    def slide( self, r, c ):\n",
    "        sym = self.symbol(r,c)\n",
    "        if sym == \"<\":\n",
    "            return [r,c-1]\n",
    "        elif sym == \">\":\n",
    "            return [r,c+1]\n",
    "        elif sym == \"^\":\n",
    "            return [r-1, c]\n",
    "        elif sym == \"v\":\n",
    "            return [r+1, c]\n",
    "        else:\n",
    "            raise BaseException(f'''{r},{c} is not a slope''')\n",
    "    \n",
    "    def measure_segment( self, cur ):\n",
    "        # first step is sliding down the beginning slope of the segment\n",
    "        prev = cur\n",
    "        cur = self.slide(*cur)\n",
    "        steps = 1\n",
    "        sym = self.symbol(*cur)\n",
    "        \n",
    "        while sym == \".\":\n",
    "            r,c = self.next_step(cur, prev)\n",
    "            steps += 1\n",
    "            sym = self.symbol(r,c)\n",
    "            prev = cur\n",
    "            cur = [r,c]\n",
    "\n",
    "        if cur != self.goal:\n",
    "            cur = self.slide(*cur)\n",
    "            steps += 1\n",
    "\n",
    "        return steps, cur\n",
    "    \n",
    "    def max_dist( self, cur=None ):\n",
    "        if cur is None:\n",
    "            cur = self.start\n",
    "            \n",
    "        steps_so_far, cur = self.measure_segment( cur )\n",
    "        if cur == self.goal:\n",
    "            return steps_so_far\n",
    "        \n",
    "        # follow the slide, which is +1 step\n",
    "        #prev = cur\n",
    "        #cur = self.slide(*cur)\n",
    "        #steps_so_far += 1\n",
    "\n",
    "        # find possible paths forward\n",
    "        to_try = []\n",
    "        # try going up\n",
    "        sym = self.symbol( cur[0]-1, cur[1] )\n",
    "        if (sym is not None) and (sym != \"v\") and (sym != \"#\"):\n",
    "            to_try.append( [cur[0]-1, cur[1]] )\n",
    "        # try going down\n",
    "        sym = self.symbol( cur[0]+1, cur[1] )\n",
    "        if (sym is not None) and (sym != \"^\") and (sym != \"#\"):\n",
    "            to_try.append( [cur[0]+1, cur[1]] )\n",
    "        # try going left\n",
    "        sym = self.symbol( cur[0], cur[1]-1 )\n",
    "        if (sym is not None) and (sym != \">\") and (sym != \"#\"):\n",
    "            to_try.append( [cur[0], cur[1]-1] )\n",
    "        # try going right\n",
    "        sym = self.symbol( cur[0], cur[1]+1 )\n",
    "        if (sym is not None) and (sym != \"<\") and (sym != \"#\"):\n",
    "            to_try.append( [cur[0], cur[1]+1] )\n",
    "\n",
    "        best = max( [self.max_dist(t) for t in to_try] )\n",
    "\n",
    "        return steps_so_far + best + 1 # need to include first step of the following leg\n",
    "    \n",
    "\n",
    "    def max_dist2( self, cur=None, history=None ):\n",
    "        if cur is None:\n",
    "            cur = self.start\n",
    "            history = [cur]\n",
    "            \n",
    "        steps_so_far, cur = self.measure_segment( cur )\n",
    "        if cur == self.goal:\n",
    "            return steps_so_far\n",
    "        \n",
    "        history.append(cur)\n",
    "        \n",
    "        # follow the slide, which is +1 step\n",
    "        #prev = cur\n",
    "        #cur = self.slide(*cur)\n",
    "        #steps_so_far += 1\n",
    "\n",
    "        # find possible paths forward\n",
    "        to_try = []\n",
    "        # try going up\n",
    "        sym = self.symbol( cur[0]-1, cur[1] )\n",
    "        if (sym is not None) and (sym != \"#\"):\n",
    "            to_try.append( [cur[0]-1, cur[1]] )\n",
    "        # try going down\n",
    "        sym = self.symbol( cur[0]+1, cur[1] )\n",
    "        if (sym is not None) and (sym != \"#\"):\n",
    "            to_try.append( [cur[0]+1, cur[1]] )\n",
    "        # try going left\n",
    "        sym = self.symbol( cur[0], cur[1]-1 )\n",
    "        if (sym is not None) and (sym != \"#\"):\n",
    "            to_try.append( [cur[0], cur[1]-1] )\n",
    "        # try going right\n",
    "        sym = self.symbol( cur[0], cur[1]+1 )\n",
    "        if (sym is not None) and (sym != \"#\"):\n",
    "            to_try.append( [cur[0], cur[1]+1] )\n",
    "\n",
    "        best = max( [self.max_dist(t) for t in to_try] )\n",
    "\n",
    "        return steps_so_far + best + 1 # need to include first step of the following leg\n",
    "        \n",
    "\n",
    "\n",
    "\n"
   ]
  },
  {
   "cell_type": "markdown",
   "metadata": {},
   "source": [
    "### Part 1"
   ]
  },
  {
   "cell_type": "code",
   "execution_count": 72,
   "metadata": {},
   "outputs": [],
   "source": [
    "test = Forest(test_text)"
   ]
  },
  {
   "cell_type": "code",
   "execution_count": 73,
   "metadata": {},
   "outputs": [
    {
     "data": {
      "text/plain": [
       "(15, [5, 3])"
      ]
     },
     "execution_count": 73,
     "metadata": {},
     "output_type": "execute_result"
    }
   ],
   "source": [
    "test.measure_segment( [0,1] )"
   ]
  },
  {
   "cell_type": "code",
   "execution_count": 74,
   "metadata": {},
   "outputs": [
    {
     "data": {
      "text/plain": [
       "94"
      ]
     },
     "execution_count": 74,
     "metadata": {},
     "output_type": "execute_result"
    }
   ],
   "source": [
    "test.max_dist( )"
   ]
  },
  {
   "cell_type": "code",
   "execution_count": 75,
   "metadata": {},
   "outputs": [],
   "source": [
    "puzz = Forest(puzz_text)"
   ]
  },
  {
   "cell_type": "code",
   "execution_count": 76,
   "metadata": {},
   "outputs": [
    {
     "data": {
      "text/plain": [
       "2134"
      ]
     },
     "execution_count": 76,
     "metadata": {},
     "output_type": "execute_result"
    }
   ],
   "source": [
    "puzz.max_dist()"
   ]
  },
  {
   "attachments": {},
   "cell_type": "markdown",
   "metadata": {},
   "source": [
    "### Part 2"
   ]
  }
 ],
 "metadata": {
  "kernelspec": {
   "display_name": "base",
   "language": "python",
   "name": "python3"
  },
  "language_info": {
   "codemirror_mode": {
    "name": "ipython",
    "version": 3
   },
   "file_extension": ".py",
   "mimetype": "text/x-python",
   "name": "python",
   "nbconvert_exporter": "python",
   "pygments_lexer": "ipython3",
   "version": "3.7.3"
  },
  "orig_nbformat": 4,
  "vscode": {
   "interpreter": {
    "hash": "ad2bdc8ecc057115af97d19610ffacc2b4e99fae6737bb82f5d7fb13d2f2c186"
   }
  }
 },
 "nbformat": 4,
 "nbformat_minor": 2
}
