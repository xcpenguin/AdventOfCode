{
 "cells": [
  {
   "attachments": {},
   "cell_type": "markdown",
   "metadata": {},
   "source": [
    "# December 13, 2023\n",
    "\n",
    "https://adventofcode.com/2023/day/13"
   ]
  },
  {
   "cell_type": "code",
   "execution_count": 159,
   "metadata": {},
   "outputs": [],
   "source": [
    "class MirrorMaze:\n",
    "    def __init__( self, text ):\n",
    "        self.text = text\n",
    "        self.ncol = len(text[0])\n",
    "        self.nrow = len(text)\n",
    "\n",
    "        # indexed by the row above or col before\n",
    "        self.__axis = None\n",
    "        # row or col\n",
    "        self.__axis_type = None\n",
    "\n",
    "    def axis( self, smudged=False, reset=False ):\n",
    "        if reset:\n",
    "            self.__axis = None\n",
    "            self.__axis_type = None\n",
    "\n",
    "        if self.__axis is not None:\n",
    "            return self.__axis, self.__axis_type\n",
    "        \n",
    "        i = 0\n",
    "\n",
    "        # possible rows and columns\n",
    "        prows = set( [r for r in range(self.nrow - 1)] )\n",
    "        pcols = set( [c for c in range(self.ncol -1 )] )\n",
    "\n",
    "        # possible rows and columns, if smudged\n",
    "        psrows = set()\n",
    "        pscols = set()\n",
    "\n",
    "        while self.__axis is None:\n",
    "            # print(i)\n",
    "            # print(prows)\n",
    "            # print(pcols)\n",
    "            if i < self.ncol:\n",
    "                for r in list(prows):\n",
    "                    # determine how many rows we need to check for row r and col i\n",
    "                    wid = min( r+1, self.nrow-(r+1) )\n",
    "                    for iter in range( wid ):\n",
    "                        #print(\"row:\", r, iter)\n",
    "                        # check the next element, remove the row it fails\n",
    "                        if self.text[r-iter][i] != self.text[r+iter+1][i]:\n",
    "                            if smudged:\n",
    "                                if r in psrows:\n",
    "                                    #print(\"rm from rows\")\n",
    "                                     # a second mistake... it's not just a smudge\n",
    "                                    psrows.remove(r)\n",
    "                                    prows.remove(r)\n",
    "                                    break # we're done here. Check the next row in prows\n",
    "                                else:\n",
    "                                    #print(\"add smudge\")\n",
    "                                    # still a possibility if this error is a smudge\n",
    "                                    psrows.add(r)\n",
    "                                    #continue # this isn't doing anything besides emphasizing we're still going until a second difference\n",
    "                            else:\n",
    "                                #print(\"not\", r)\n",
    "                                prows.remove(r)\n",
    "                                break\n",
    "\n",
    "            if i < self.nrow:\n",
    "                for c in list(pcols):\n",
    "                    # determing how many cols we neec to check for row i and col c\n",
    "                    wid = min( c+1, self.ncol-(c+1) )\n",
    "                    for iter in range( wid ):\n",
    "                        if self.text[i][ c-iter] != self.text[i][ c+iter+1 ]:\n",
    "                            if smudged:\n",
    "                                if c in pscols:\n",
    "                                    # a second mistake... it's not just a smudge\n",
    "                                    pscols.remove(c)\n",
    "                                    pcols.remove(c)\n",
    "                                    break # we're done here. Check the next row in prows\n",
    "                                else:\n",
    "                                    # still a possibility if this error is a smudge\n",
    "                                    pscols.add(c)\n",
    "                                    #continue # this isn't doing anything besides emphasizing we're still going until a second difference\n",
    "                            else:\n",
    "                                pcols.remove(c)\n",
    "                                break\n",
    "\n",
    "            # Done checking ith col/row\n",
    "            # i = how many elements we've checked so far\n",
    "            i += 1\n",
    "\n",
    "            # Solution 1: we've validated a row\n",
    "            if (i >= self.ncol) and (len(prows) >= 1):\n",
    "                pr = prows.pop()\n",
    "                # for smudge case, the row must also include the smudge\n",
    "                # print(\"is it\", pr)\n",
    "                # print(\"prows\", prows)\n",
    "                # print(\"psrows\", psrows)\n",
    "                if (not smudged) or (pr in psrows):\n",
    "                    # print(\"it is\", pr, \"!\")\n",
    "                    self.__axis = pr\n",
    "                    self.__axis_type = \"row\"\n",
    "                # but wait! there's another row that really is verified, smudge and all\n",
    "                # (only one row can be completed sans smudge, so no need to check again)\n",
    "                elif len(prows) >= 1:\n",
    "                    self.__axis = prows.pop()\n",
    "                    self.__axis_type = \"row\"\n",
    "                else:\n",
    "                    prows.clear()\n",
    "\n",
    "            # Solution 2: we've validated a col\n",
    "            elif (i >= self.nrow) and (len(pcols) >= 1):\n",
    "                pc = pcols.pop()\n",
    "                # for smudge case, the col must also include the smudge\n",
    "                if (not smudged) or (pc in pscols):\n",
    "                    self.__axis = pc\n",
    "                    self.__axis_type = \"col\"\n",
    "                # but wait! there's another col that really is verified, smudge and all\n",
    "                # (only one col can be completed sans smudge, so no need to check again)\n",
    "                elif len(pcols) >= 1:\n",
    "                        self.__axis = pcols.pop()\n",
    "                        self.__axis_type = \"col\"\n",
    "                else:\n",
    "                    pcols.clear()\n",
    "\n",
    "            # Solution 3: There's one possible row and no possible cols\n",
    "            elif (len(prows) == 1) and (len(pcols) == 0):\n",
    "                self.__axis = prows.pop()\n",
    "                self.__axis_type = \"row\"\n",
    "\n",
    "            # Solution 4: There's one possible col and no possible rows\n",
    "            elif (len(pcols) == 1) and (len(prows)==0):\n",
    "                self.__axis = pcols.pop()\n",
    "                self.__axis_type = \"col\"\n",
    "\n",
    "        return self.__axis, self.__axis_type\n",
    "    \n",
    "    def __repr__( self ):\n",
    "        return \"\\n\".join(self.text)\n",
    "    \n",
    "    def __str__( self ):\n",
    "        return \"\\n\".join(self.text)"
   ]
  },
  {
   "cell_type": "code",
   "execution_count": 160,
   "metadata": {},
   "outputs": [],
   "source": [
    "def parse_input( lines ):\n",
    "    mazes = []\n",
    "    text = []\n",
    "    for line in lines:\n",
    "        if len(line)==0:\n",
    "            mazes.append( MirrorMaze(text) )\n",
    "            text = []\n",
    "        else:\n",
    "            text.append( line )\n",
    "\n",
    "    if len(text) > 0:\n",
    "        mazes.append( MirrorMaze(text) )\n",
    "\n",
    "    return mazes"
   ]
  },
  {
   "cell_type": "code",
   "execution_count": 161,
   "metadata": {},
   "outputs": [],
   "source": [
    "test_str = f'''#.##..##.\n",
    "..#.##.#.\n",
    "##......#\n",
    "##......#\n",
    "..#.##.#.\n",
    "..##..##.\n",
    "#.#.##.#.\n",
    "\n",
    "#...##..#\n",
    "#....#..#\n",
    "..##..###\n",
    "#####.##.\n",
    "#####.##.\n",
    "..##..###\n",
    "#....#..#'''\n",
    "test = parse_input( test_str.split(\"\\n\") )"
   ]
  },
  {
   "cell_type": "code",
   "execution_count": 145,
   "metadata": {},
   "outputs": [
    {
     "data": {
      "text/plain": [
       "#...##..#\n",
       "#....#..#\n",
       "..##..###\n",
       "#####.##.\n",
       "#####.##.\n",
       "..##..###\n",
       "#....#..#"
      ]
     },
     "execution_count": 145,
     "metadata": {},
     "output_type": "execute_result"
    }
   ],
   "source": [
    "test[0]"
   ]
  },
  {
   "cell_type": "code",
   "execution_count": 148,
   "metadata": {},
   "outputs": [
    {
     "name": "stdout",
     "output_type": "stream",
     "text": [
      "0\n",
      "{0, 1, 2, 3, 4, 5}\n",
      "{0, 1, 2, 3, 4, 5, 6, 7}\n",
      "row: 0 0\n",
      "add smudge\n",
      "row: 1 0\n",
      "add smudge\n",
      "row: 1 1\n",
      "row: 2 0\n",
      "row: 2 1\n",
      "row: 2 2\n",
      "add smudge\n",
      "row: 3 0\n",
      "add smudge\n",
      "row: 3 1\n",
      "rm from rows\n",
      "row: 4 0\n",
      "row: 4 1\n",
      "row: 5 0\n",
      "add smudge\n",
      "1\n",
      "{0, 1, 2, 4, 5}\n",
      "{0, 1, 2, 4, 6, 7}\n",
      "row: 0 0\n",
      "row: 1 0\n",
      "rm from rows\n",
      "row: 2 0\n",
      "row: 2 1\n",
      "row: 2 2\n",
      "row: 4 0\n",
      "row: 4 1\n",
      "add smudge\n",
      "row: 5 0\n",
      "2\n",
      "{0, 2, 4, 5}\n",
      "{0, 4}\n",
      "row: 0 0\n",
      "row: 2 0\n",
      "row: 2 1\n",
      "row: 2 2\n",
      "row: 4 0\n",
      "row: 4 1\n",
      "rm from rows\n",
      "row: 5 0\n",
      "3\n",
      "{0, 2, 5}\n",
      "{0, 4}\n",
      "row: 0 0\n",
      "rm from rows\n",
      "row: 2 0\n",
      "row: 2 1\n",
      "row: 2 2\n",
      "row: 5 0\n",
      "rm from rows\n",
      "4\n",
      "{2}\n",
      "{0, 4}\n",
      "row: 2 0\n",
      "row: 2 1\n",
      "row: 2 2\n",
      "5\n",
      "{2}\n",
      "{0, 4}\n",
      "row: 2 0\n",
      "row: 2 1\n",
      "row: 2 2\n",
      "6\n",
      "{2}\n",
      "{0, 4}\n",
      "row: 2 0\n",
      "row: 2 1\n",
      "row: 2 2\n",
      "7\n",
      "{2}\n",
      "set()\n",
      "row: 2 0\n",
      "row: 2 1\n",
      "row: 2 2\n"
     ]
    },
    {
     "data": {
      "text/plain": [
       "(2, 'row')"
      ]
     },
     "execution_count": 148,
     "metadata": {},
     "output_type": "execute_result"
    }
   ],
   "source": [
    "test[0].axis(smudged=True, reset=True)"
   ]
  },
  {
   "cell_type": "code",
   "execution_count": 162,
   "metadata": {},
   "outputs": [],
   "source": [
    "fn = \"data/13.txt\"\n",
    "with open(fn, \"r\") as file:\n",
    "    text = file.readlines()\n",
    "\n",
    "puzz = parse_input( [x.strip() for x in text] )"
   ]
  },
  {
   "cell_type": "code",
   "execution_count": 163,
   "metadata": {},
   "outputs": [
    {
     "name": "stdout",
     "output_type": "stream",
     "text": [
      "#.##..##.\n",
      "..#.##.#.\n",
      "##......#\n",
      "##......#\n",
      "..#.##.#.\n",
      "..##..##.\n",
      "#.#.##.#.\n"
     ]
    }
   ],
   "source": [
    "print( test[0] )"
   ]
  },
  {
   "cell_type": "code",
   "execution_count": 164,
   "metadata": {},
   "outputs": [
    {
     "data": {
      "text/plain": [
       "(4, 'col')"
      ]
     },
     "execution_count": 164,
     "metadata": {},
     "output_type": "execute_result"
    }
   ],
   "source": [
    "test[0].axis()"
   ]
  },
  {
   "cell_type": "code",
   "execution_count": 165,
   "metadata": {},
   "outputs": [
    {
     "data": {
      "text/plain": [
       "(3, 'row')"
      ]
     },
     "execution_count": 165,
     "metadata": {},
     "output_type": "execute_result"
    }
   ],
   "source": [
    "test[1].axis()"
   ]
  },
  {
   "cell_type": "markdown",
   "metadata": {},
   "source": [
    "### Part 1"
   ]
  },
  {
   "cell_type": "code",
   "execution_count": 166,
   "metadata": {},
   "outputs": [
    {
     "data": {
      "text/plain": [
       "(1, 'col')"
      ]
     },
     "execution_count": 166,
     "metadata": {},
     "output_type": "execute_result"
    }
   ],
   "source": [
    "puzz[0].axis()"
   ]
  },
  {
   "cell_type": "code",
   "execution_count": 167,
   "metadata": {},
   "outputs": [
    {
     "data": {
      "text/plain": [
       "100"
      ]
     },
     "execution_count": 167,
     "metadata": {},
     "output_type": "execute_result"
    }
   ],
   "source": [
    "len(puzz)"
   ]
  },
  {
   "cell_type": "code",
   "execution_count": 168,
   "metadata": {},
   "outputs": [
    {
     "data": {
      "text/plain": [
       "##..#..#..##..#\n",
       ".###....###.#..\n",
       ".#...##...#..#.\n",
       "..##.##.##.....\n",
       ".#.#.##.#.#.#.#\n",
       ".....#........#\n",
       ".#..####..#.##.\n",
       "####.##.####.##\n",
       "####.##.####.##"
      ]
     },
     "execution_count": 168,
     "metadata": {},
     "output_type": "execute_result"
    }
   ],
   "source": [
    "puzz[9]"
   ]
  },
  {
   "cell_type": "code",
   "execution_count": 169,
   "metadata": {},
   "outputs": [
    {
     "data": {
      "text/plain": [
       "(7, 'row')"
      ]
     },
     "execution_count": 169,
     "metadata": {},
     "output_type": "execute_result"
    }
   ],
   "source": [
    "puzz[9].axis()"
   ]
  },
  {
   "cell_type": "code",
   "execution_count": 170,
   "metadata": {},
   "outputs": [
    {
     "name": "stdout",
     "output_type": "stream",
     "text": [
      ".#.#..####.\n",
      "#.####.##.#\n",
      "..#..######\n",
      "..#...####.\n",
      "..#...####.\n",
      "..#..######\n",
      "#.####.##.#\n",
      ".#.#..####.\n",
      "#..#.##..##\n",
      "#.#.#######\n",
      "###........\n",
      "....##....#\n",
      "..#.###..##\n",
      "...#..#.##.\n",
      ".#.#.##..##\n"
     ]
    },
    {
     "data": {
      "text/plain": [
       "(3, 'row')"
      ]
     },
     "execution_count": 170,
     "metadata": {},
     "output_type": "execute_result"
    }
   ],
   "source": [
    "print( puzz[10] )\n",
    "puzz[10].axis()"
   ]
  },
  {
   "cell_type": "code",
   "execution_count": 171,
   "metadata": {},
   "outputs": [],
   "source": [
    "# now solve all reflections\n",
    "for p in puzz:\n",
    "    p.axis()"
   ]
  },
  {
   "cell_type": "code",
   "execution_count": 173,
   "metadata": {},
   "outputs": [
    {
     "data": {
      "text/plain": [
       "32035"
      ]
     },
     "execution_count": 173,
     "metadata": {},
     "output_type": "execute_result"
    }
   ],
   "source": [
    "part1 = 0\n",
    "for p in puzz:\n",
    "    i, d = p.axis()\n",
    "    if d == \"col\":\n",
    "        part1 += i+1\n",
    "    else:\n",
    "        part1 += 100*(i+1)\n",
    "part1"
   ]
  },
  {
   "attachments": {},
   "cell_type": "markdown",
   "metadata": {},
   "source": [
    "### Part 2"
   ]
  },
  {
   "cell_type": "code",
   "execution_count": 174,
   "metadata": {},
   "outputs": [
    {
     "data": {
      "text/plain": [
       "(2, 'row')"
      ]
     },
     "execution_count": 174,
     "metadata": {},
     "output_type": "execute_result"
    }
   ],
   "source": [
    "test[0].axis(smudged=True, reset=True)"
   ]
  },
  {
   "cell_type": "code",
   "execution_count": 175,
   "metadata": {},
   "outputs": [
    {
     "data": {
      "text/plain": [
       "(0, 'row')"
      ]
     },
     "execution_count": 175,
     "metadata": {},
     "output_type": "execute_result"
    }
   ],
   "source": [
    "test[1].axis(smudged=True, reset=True)"
   ]
  },
  {
   "cell_type": "code",
   "execution_count": 176,
   "metadata": {},
   "outputs": [
    {
     "data": {
      "text/plain": [
       "24847"
      ]
     },
     "execution_count": 176,
     "metadata": {},
     "output_type": "execute_result"
    }
   ],
   "source": [
    "part2 = 0\n",
    "for p in puzz:\n",
    "    i, d = p.axis(smudged=True, reset=True)\n",
    "    if d == \"col\":\n",
    "        part2 += i+1\n",
    "    else:\n",
    "        part2 += 100*(i+1)\n",
    "part2"
   ]
  }
 ],
 "metadata": {
  "kernelspec": {
   "display_name": "base",
   "language": "python",
   "name": "python3"
  },
  "language_info": {
   "codemirror_mode": {
    "name": "ipython",
    "version": 3
   },
   "file_extension": ".py",
   "mimetype": "text/x-python",
   "name": "python",
   "nbconvert_exporter": "python",
   "pygments_lexer": "ipython3",
   "version": "3.7.3"
  },
  "orig_nbformat": 4,
  "vscode": {
   "interpreter": {
    "hash": "ad2bdc8ecc057115af97d19610ffacc2b4e99fae6737bb82f5d7fb13d2f2c186"
   }
  }
 },
 "nbformat": 4,
 "nbformat_minor": 2
}
