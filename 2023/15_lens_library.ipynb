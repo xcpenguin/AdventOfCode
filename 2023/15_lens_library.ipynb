{
 "cells": [
  {
   "attachments": {},
   "cell_type": "markdown",
   "metadata": {},
   "source": [
    "# December 15, 2023\n",
    "\n",
    "https://adventofcode.com/2023/day/15"
   ]
  },
  {
   "cell_type": "code",
   "execution_count": 32,
   "metadata": {},
   "outputs": [],
   "source": [
    "import re"
   ]
  },
  {
   "cell_type": "code",
   "execution_count": 33,
   "metadata": {},
   "outputs": [],
   "source": [
    "test = [\n",
    "    \"HASH\",\n",
    "    \"rn=1\",\n",
    "    \"cm-\",\n",
    "    \"qp=3\",\n",
    "    \"cm=2\",\n",
    "    \"qp-\",\n",
    "    \"pc=4\",\n",
    "    \"ot=9\",\n",
    "    \"ab=5\",\n",
    "    \"pc-\",\n",
    "    \"pc=6\",\n",
    "    \"ot=7\"\n",
    "]"
   ]
  },
  {
   "cell_type": "code",
   "execution_count": 34,
   "metadata": {},
   "outputs": [],
   "source": [
    "fn = \"data/15.txt\"\n",
    "with open(fn, \"r\") as file:\n",
    "    text = file.readlines()\n",
    "\n",
    "puzz = text[0].strip()\n",
    "puzz = puzz.split(\",\")"
   ]
  },
  {
   "cell_type": "markdown",
   "metadata": {},
   "source": [
    "### Part 1"
   ]
  },
  {
   "cell_type": "code",
   "execution_count": 35,
   "metadata": {},
   "outputs": [],
   "source": [
    "def hash( word ):\n",
    "    cur = 0\n",
    "    for char in word:\n",
    "        val = ord(char)\n",
    "        cur += val\n",
    "        cur *= 17\n",
    "        cur %= 256\n",
    "\n",
    "    return cur"
   ]
  },
  {
   "cell_type": "code",
   "execution_count": 36,
   "metadata": {},
   "outputs": [],
   "source": [
    "def part1( puzz ):\n",
    "    return sum( [hash(word) for word in puzz] )"
   ]
  },
  {
   "cell_type": "code",
   "execution_count": 37,
   "metadata": {},
   "outputs": [
    {
     "name": "stdout",
     "output_type": "stream",
     "text": [
      "HASH 52\n",
      "rn=1 30\n",
      "cm- 253\n",
      "qp=3 97\n",
      "cm=2 47\n",
      "qp- 14\n",
      "pc=4 180\n",
      "ot=9 9\n",
      "ab=5 197\n",
      "pc- 48\n",
      "pc=6 214\n",
      "ot=7 231\n"
     ]
    }
   ],
   "source": [
    "for word in test:\n",
    "    print(word, hash(word))"
   ]
  },
  {
   "cell_type": "code",
   "execution_count": 38,
   "metadata": {},
   "outputs": [
    {
     "data": {
      "text/plain": [
       "1320"
      ]
     },
     "execution_count": 38,
     "metadata": {},
     "output_type": "execute_result"
    }
   ],
   "source": [
    "part1(test[1:])"
   ]
  },
  {
   "cell_type": "code",
   "execution_count": 39,
   "metadata": {},
   "outputs": [
    {
     "data": {
      "text/plain": [
       "506437"
      ]
     },
     "execution_count": 39,
     "metadata": {},
     "output_type": "execute_result"
    }
   ],
   "source": [
    "part1(puzz)"
   ]
  },
  {
   "attachments": {},
   "cell_type": "markdown",
   "metadata": {},
   "source": [
    "### Part 2"
   ]
  },
  {
   "cell_type": "code",
   "execution_count": 51,
   "metadata": {},
   "outputs": [],
   "source": [
    "class Box:\n",
    "\n",
    "    def __init__( self ):\n",
    "        self.labels = []\n",
    "        self.focus = []\n",
    "\n",
    "    def __find_label( self, label ):\n",
    "        for idx in range(len(self.labels)):\n",
    "            if self.labels[idx] == label:\n",
    "                return idx\n",
    "        return None\n",
    "    \n",
    "    def remove( self, label ):\n",
    "        idx = self.__find_label( label )\n",
    "        if idx is None:\n",
    "            return None\n",
    "        self.labels = self.labels[:idx] + self.labels[ idx+1: ]\n",
    "        self.focus = self.focus[:idx] + self.focus[ idx+1: ]\n",
    "\n",
    "    def swap( self, label, foc ):\n",
    "        idx = self.__find_label( label )\n",
    "        if idx is None:\n",
    "            self.labels.append( label )\n",
    "            self.focus.append( foc )\n",
    "        else:\n",
    "            self.focus[idx] = foc\n",
    "\n",
    "    def power( self ):\n",
    "        pow = 0\n",
    "        for i, foc in enumerate(self.focus):\n",
    "            pow += (i+1)*foc\n",
    "\n",
    "        return pow\n",
    "\n",
    "    def __str__( self ):\n",
    "        rep = \"\"\n",
    "        for i, lab in enumerate(self.labels):\n",
    "            rep += \"[\" + lab + \" \" + str(self.focus[i]) + \"]\"\n",
    "        if len(rep) == 0:\n",
    "            rep = \"[]\"\n",
    "    \n",
    "        return rep\n",
    "    \n",
    "    def __repr__( self ):\n",
    "        return self.__str__()\n",
    "\n",
    "\n",
    "\n"
   ]
  },
  {
   "cell_type": "code",
   "execution_count": 57,
   "metadata": {},
   "outputs": [],
   "source": [
    "def part2( puzz ):\n",
    "    # init boxes\n",
    "    boxes = []\n",
    "    for i in range(256):\n",
    "        boxes.append(Box())\n",
    "\n",
    "    for word in puzz:\n",
    "        m = re.fullmatch(\"(\\w+)([-=])(\\d?)\", word)\n",
    "        lab = m[1]\n",
    "        op = m[2]\n",
    "        foc = m[3]\n",
    "\n",
    "        bnum = hash(lab)\n",
    "        if op == \"-\":\n",
    "            boxes[bnum].remove( lab )\n",
    "        elif op == \"=\":\n",
    "            boxes[bnum].swap( lab, int(foc) )\n",
    "\n",
    "    # get power level\n",
    "    power = 0\n",
    "    for i, b in enumerate(boxes):\n",
    "        power += b.power() * (i+1)\n",
    "    return power, boxes"
   ]
  },
  {
   "cell_type": "code",
   "execution_count": 58,
   "metadata": {},
   "outputs": [],
   "source": [
    "pow, out = part2( test[1:] )"
   ]
  },
  {
   "cell_type": "code",
   "execution_count": 59,
   "metadata": {},
   "outputs": [
    {
     "data": {
      "text/plain": [
       "[[rn 1][cm 2], [], [], [ot 7][ab 5][pc 6], [], [], [], [], [], []]"
      ]
     },
     "execution_count": 59,
     "metadata": {},
     "output_type": "execute_result"
    }
   ],
   "source": [
    "out[:10]"
   ]
  },
  {
   "cell_type": "code",
   "execution_count": 60,
   "metadata": {},
   "outputs": [
    {
     "data": {
      "text/plain": [
       "5"
      ]
     },
     "execution_count": 60,
     "metadata": {},
     "output_type": "execute_result"
    }
   ],
   "source": [
    "out[0].power()"
   ]
  },
  {
   "cell_type": "code",
   "execution_count": 61,
   "metadata": {},
   "outputs": [
    {
     "data": {
      "text/plain": [
       "145"
      ]
     },
     "execution_count": 61,
     "metadata": {},
     "output_type": "execute_result"
    }
   ],
   "source": [
    "pow"
   ]
  },
  {
   "cell_type": "code",
   "execution_count": 62,
   "metadata": {},
   "outputs": [],
   "source": [
    "pow, out = part2( puzz )"
   ]
  },
  {
   "cell_type": "code",
   "execution_count": 63,
   "metadata": {},
   "outputs": [
    {
     "data": {
      "text/plain": [
       "288521"
      ]
     },
     "execution_count": 63,
     "metadata": {},
     "output_type": "execute_result"
    }
   ],
   "source": [
    "pow"
   ]
  }
 ],
 "metadata": {
  "kernelspec": {
   "display_name": "base",
   "language": "python",
   "name": "python3"
  },
  "language_info": {
   "codemirror_mode": {
    "name": "ipython",
    "version": 3
   },
   "file_extension": ".py",
   "mimetype": "text/x-python",
   "name": "python",
   "nbconvert_exporter": "python",
   "pygments_lexer": "ipython3",
   "version": "3.7.3"
  },
  "orig_nbformat": 4,
  "vscode": {
   "interpreter": {
    "hash": "ad2bdc8ecc057115af97d19610ffacc2b4e99fae6737bb82f5d7fb13d2f2c186"
   }
  }
 },
 "nbformat": 4,
 "nbformat_minor": 2
}
