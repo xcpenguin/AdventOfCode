{
 "cells": [
  {
   "attachments": {},
   "cell_type": "markdown",
   "metadata": {},
   "source": [
    "# December 18, 2023\n",
    "\n",
    "https://adventofcode.com/2023/day/18"
   ]
  },
  {
   "cell_type": "code",
   "execution_count": 84,
   "metadata": {},
   "outputs": [],
   "source": [
    "from decimal import Decimal"
   ]
  },
  {
   "cell_type": "code",
   "execution_count": 1,
   "metadata": {},
   "outputs": [],
   "source": [
    "test = f'''R 6 (#70c710)\n",
    "D 5 (#0dc571)\n",
    "L 2 (#5713f0)\n",
    "D 2 (#d2c081)\n",
    "R 2 (#59c680)\n",
    "D 2 (#411b91)\n",
    "L 5 (#8ceee2)\n",
    "U 2 (#caa173)\n",
    "L 1 (#1b58a2)\n",
    "U 2 (#caa171)\n",
    "R 2 (#7807d2)\n",
    "U 3 (#a77fa3)\n",
    "L 2 (#015232)\n",
    "U 2 (#7a21e3)'''\n",
    "\n",
    "test = test.split(\"\\n\")\n",
    "test = [ line.split(\" \") for line in test ]"
   ]
  },
  {
   "cell_type": "code",
   "execution_count": 2,
   "metadata": {},
   "outputs": [
    {
     "data": {
      "text/plain": [
       "[['R', '6', '(#70c710)'],\n",
       " ['D', '5', '(#0dc571)'],\n",
       " ['L', '2', '(#5713f0)'],\n",
       " ['D', '2', '(#d2c081)'],\n",
       " ['R', '2', '(#59c680)'],\n",
       " ['D', '2', '(#411b91)'],\n",
       " ['L', '5', '(#8ceee2)'],\n",
       " ['U', '2', '(#caa173)'],\n",
       " ['L', '1', '(#1b58a2)'],\n",
       " ['U', '2', '(#caa171)'],\n",
       " ['R', '2', '(#7807d2)'],\n",
       " ['U', '3', '(#a77fa3)'],\n",
       " ['L', '2', '(#015232)'],\n",
       " ['U', '2', '(#7a21e3)']]"
      ]
     },
     "execution_count": 2,
     "metadata": {},
     "output_type": "execute_result"
    }
   ],
   "source": [
    "test"
   ]
  },
  {
   "cell_type": "code",
   "execution_count": 1,
   "metadata": {},
   "outputs": [],
   "source": [
    "fn = \"../data/2023/18.txt\"\n",
    "with open(fn, \"r\") as file:\n",
    "    text = file.readlines()\n",
    "\n",
    "puzz = [x.strip() for x in text]\n",
    "puzz = [ line.split(\" \") for line in puzz ]"
   ]
  },
  {
   "cell_type": "markdown",
   "metadata": {},
   "source": [
    "### Part 1"
   ]
  },
  {
   "cell_type": "code",
   "execution_count": 17,
   "metadata": {},
   "outputs": [],
   "source": [
    "def dig_lagoon( puzz ):\n",
    "    bdry = [[0,0]]\n",
    "    for op in puzz:\n",
    "        d = op[0]\n",
    "        s = int(op[1])\n",
    "        if d == 'R':\n",
    "            for i in range(s):\n",
    "                bdry.append( [ bdry[-1][0], bdry[-1][1]+1 ] )\n",
    "        elif d == 'L':\n",
    "            for i in range(s):\n",
    "                bdry.append( [ bdry[-1][0], bdry[-1][1]-1 ] )\n",
    "        elif d == 'U':\n",
    "            for i in range(s):\n",
    "                bdry.append( [ bdry[-1][0]-1, bdry[-1][1] ] )\n",
    "        elif d == 'D':\n",
    "            for i in range(s):\n",
    "                bdry.append( [ bdry[-1][0]+1, bdry[-1][1] ] )\n",
    "        else:\n",
    "            raise(\"BaseException\", \"What even is this direction?!\")\n",
    "\n",
    "    # assume we end at the start?!\n",
    "    if bdry[-1] != [0,0]:\n",
    "        raise(\"BaseException\", \"We didn't end at the start!\")\n",
    "    \n",
    "    return bdry[:-1]\n",
    "\n",
    "def print_trench( bdry, interior=[] ):\n",
    "    maxc = max( [b[1] for b in bdry] )\n",
    "    minc = min( [b[1] for b in bdry] )\n",
    "    maxr = max( [b[0] for b in bdry] )\n",
    "    minr = min( [b[0] for b in bdry] )\n",
    "\n",
    "    for r in range(minr, maxr+1):\n",
    "        for c in range(minc, maxc+1):\n",
    "            if [r,c] in bdry:\n",
    "                print(\"@\",end=\"\")\n",
    "            elif [r,c] in interior:\n",
    "                print(\"#\", end=\"\")\n",
    "            else:\n",
    "                print(\".\", end=\"\")\n",
    "        print(\"\\n\")\n",
    "\n",
    "def map_interior( bdry ):\n",
    "    maxc = max( [b[1] for b in bdry] )\n",
    "    minc = min( [b[1] for b in bdry] )\n",
    "    maxr = max( [b[0] for b in bdry] )\n",
    "    minr = min( [b[0] for b in bdry] )\n",
    "\n",
    "    interior = []\n",
    "    for r in range(minr, maxr+1):\n",
    "        horiz_len = 0\n",
    "        inside = False\n",
    "\n",
    "        for c in range(minc, maxc+1):\n",
    "            if [r,c] in bdry:\n",
    "                horiz_len += 1\n",
    "            else:\n",
    "                if horiz_len == 1:\n",
    "                    inside = not inside\n",
    "                elif horiz_len > 1:\n",
    "                    inside = ([r-1, c] in interior)\n",
    "                if inside:\n",
    "                    interior.append( [r,c] )\n",
    "                horiz_len = 0\n",
    "\n",
    "    return interior\n",
    "\n",
    "def flood_fill( bdry ):\n",
    "    start = [ min([x[0] for x in bdry])+1, min([x[1] for x in bdry]) ]\n",
    "    interior = [start]\n",
    "    frontier = [start]\n",
    "\n",
    "    while len(frontier) > 0:\n",
    "        cur = frontier[-1]\n",
    "        nbrs = [ [cur[0], cur[1]+1],\n",
    "                 [cur[0], cur[1]-1],\n",
    "                 [cur[0]+1, cur[1]],\n",
    "                 [cur[0]-1, cur[1]] ]\n",
    "        \n",
    "        for n in nbrs:\n",
    "            if n not in bdry and n not in interior:\n",
    "                frontier.append(n)\n",
    "                interior.append(n)\n",
    "\n",
    "    return interior\n",
    "\n",
    "\n",
    "\n",
    "\n",
    "def trench_size( bdry, interior ):\n",
    "    return len(bdry) + len(interior)"
   ]
  },
  {
   "cell_type": "code",
   "execution_count": 28,
   "metadata": {},
   "outputs": [],
   "source": [
    "tbdry = dig_lagoon(test)"
   ]
  },
  {
   "cell_type": "code",
   "execution_count": 29,
   "metadata": {},
   "outputs": [
    {
     "name": "stdout",
     "output_type": "stream",
     "text": [
      "@@@@@@@\n",
      "\n",
      "@.....@\n",
      "\n",
      "@@@...@\n",
      "\n",
      "..@...@\n",
      "\n",
      "..@...@\n",
      "\n",
      "@@@.@@@\n",
      "\n",
      "@...@..\n",
      "\n",
      "@@..@@@\n",
      "\n",
      ".@....@\n",
      "\n",
      ".@@@@@@\n",
      "\n"
     ]
    }
   ],
   "source": [
    "print_trench(tbdry)"
   ]
  },
  {
   "cell_type": "code",
   "execution_count": 55,
   "metadata": {},
   "outputs": [
    {
     "name": "stdout",
     "output_type": "stream",
     "text": [
      "2 3 [[1, 1], [1, 2], [1, 3], [1, 4], [1, 5]]\n",
      "True\n",
      "True\n",
      "5 3 [[1, 1], [1, 2], [1, 3], [1, 4], [1, 5], [2, 3], [2, 4], [2, 5], [3, 3], [3, 4], [3, 5], [4, 3], [4, 4], [4, 5]]\n",
      "True\n",
      "True\n",
      "7 2 [[1, 1], [1, 2], [1, 3], [1, 4], [1, 5], [2, 3], [2, 4], [2, 5], [3, 3], [3, 4], [3, 5], [4, 3], [4, 4], [4, 5], [5, 3], [6, 1], [6, 2], [6, 3]]\n",
      "True\n",
      "True\n"
     ]
    }
   ],
   "source": [
    "tint = map_interior( tbdry)"
   ]
  },
  {
   "cell_type": "code",
   "execution_count": 57,
   "metadata": {},
   "outputs": [
    {
     "data": {
      "text/plain": [
       "62"
      ]
     },
     "execution_count": 57,
     "metadata": {},
     "output_type": "execute_result"
    }
   ],
   "source": [
    "len(tint) + len(tbdry)"
   ]
  },
  {
   "cell_type": "code",
   "execution_count": 56,
   "metadata": {},
   "outputs": [
    {
     "name": "stdout",
     "output_type": "stream",
     "text": [
      "@@@@@@@\n",
      "\n",
      "@#####@\n",
      "\n",
      "@@@###@\n",
      "\n",
      "..@###@\n",
      "\n",
      "..@###@\n",
      "\n",
      "@@@#@@@\n",
      "\n",
      "@###@..\n",
      "\n",
      "@@##@@@\n",
      "\n",
      ".@####@\n",
      "\n",
      ".@@@@@@\n",
      "\n"
     ]
    }
   ],
   "source": [
    "print_trench( tbdry, tint )"
   ]
  },
  {
   "cell_type": "markdown",
   "metadata": {},
   "source": [
    "#### Oops:\n",
    "70216 is too high"
   ]
  },
  {
   "cell_type": "code",
   "execution_count": null,
   "metadata": {},
   "outputs": [],
   "source": [
    "pbdry = dig_lagoon( puzz )\n",
    "pint = map_interior( pbdry )\n",
    "print( len(pbdry) + len(pint) )\n",
    "print_trench( pbdry, pint )\n"
   ]
  },
  {
   "attachments": {},
   "cell_type": "markdown",
   "metadata": {},
   "source": [
    "### Part 2"
   ]
  },
  {
   "cell_type": "code",
   "execution_count": 4,
   "metadata": {},
   "outputs": [
    {
     "data": {
      "text/plain": [
       "[['R', '6', '(#70c710)'],\n",
       " ['D', '5', '(#0dc571)'],\n",
       " ['L', '2', '(#5713f0)'],\n",
       " ['D', '2', '(#d2c081)'],\n",
       " ['R', '2', '(#59c680)'],\n",
       " ['D', '2', '(#411b91)'],\n",
       " ['L', '5', '(#8ceee2)'],\n",
       " ['U', '2', '(#caa173)'],\n",
       " ['L', '1', '(#1b58a2)'],\n",
       " ['U', '2', '(#caa171)'],\n",
       " ['R', '2', '(#7807d2)'],\n",
       " ['U', '3', '(#a77fa3)'],\n",
       " ['L', '2', '(#015232)'],\n",
       " ['U', '2', '(#7a21e3)']]"
      ]
     },
     "execution_count": 4,
     "metadata": {},
     "output_type": "execute_result"
    }
   ],
   "source": [
    "test"
   ]
  },
  {
   "cell_type": "code",
   "execution_count": 85,
   "metadata": {},
   "outputs": [],
   "source": [
    "from decimal import Decimal"
   ]
  },
  {
   "cell_type": "code",
   "execution_count": 155,
   "metadata": {},
   "outputs": [],
   "source": [
    "def decode_step( line ):\n",
    "    '''interpret a hex code as direc and length'''\n",
    "    hex_code = line[2][2:-1]\n",
    "    length = int( hex_code[:-1], base=16 )\n",
    "    direc = {'0':'R', '1':'D', '2':'L', '3':'U'}[hex_code[-1]]\n",
    "\n",
    "    return direc, length\n",
    "\n",
    "def fix_plans( plans ):\n",
    "    '''fix all lines in the plan by interpreting hex codes'''\n",
    "    return [decode_step(line) for line in plans]\n",
    "\n",
    "def plot_points( plans ):\n",
    "    '''plot points from fixed plans. Guaranteed counterclockwise'''\n",
    "\n",
    "\n",
    "    # check if plans are oriented positively (i.e. counterclockwise)\n",
    "    cc = ( 'LD', 'UL', 'DR', 'RU' )\n",
    "    two_turns = plans[0][0] + plans[1][0]\n",
    "    counterclockwise = two_turns in cc\n",
    "\n",
    "    if not counterclockwise:\n",
    "        opp = {'L':'R', 'R':'L', 'U':'D', 'D':'U'}\n",
    "        new_plans = []\n",
    "\n",
    "        for direc, length in plans[::-1]:\n",
    "            new_plans.append( [opp[direc], length] )\n",
    "        plans = new_plans\n",
    "        print(plans)\n",
    "\n",
    "    # first get the center of the trench boundary\n",
    "    bdry = [[0,0]]\n",
    "    last_direc = plans[-1][0]\n",
    "    for direc, length in plans:\n",
    "    #    print(direc, length)\n",
    "        last = bdry[-1]\n",
    "        if direc == 'R':\n",
    "            bdry.append( [last[0]+length, last[1]] )\n",
    "        elif direc == 'D':\n",
    "            bdry.append( [last[0], last[1]-length] )\n",
    "        elif direc == 'L':\n",
    "            bdry.append( [last[0]-length, last[1]] )\n",
    "        elif direc == 'U':\n",
    "            bdry.append( [last[0], last[1]+length] )\n",
    "\n",
    "\n",
    "    # then adjust to get the outside of the boundary\n",
    "    # this assumes counterclockwise orientation\n",
    "    last_direc = plans[-1][0]\n",
    "    for i, op in enumerate(plans):\n",
    "        direc = op[0]\n",
    "        curve_type = last_direc + direc\n",
    "        if curve_type in ('DR', 'RD'):\n",
    "            xadj = -.5; yadj = -.5\n",
    "        elif curve_type in ('RU', 'UR'):\n",
    "            xadj = +.5; yadj = -.5\n",
    "        elif curve_type in ('DL', 'LD'):\n",
    "            xadj = -.5; yadj = +.5\n",
    "        else: #curve_type in ('UL', 'LU')\n",
    "            xadj = +.5; yadj = +.5\n",
    "        print(curve_type, xadj, yadj)\n",
    "        bdry[i][0] += xadj\n",
    "        bdry[i][1] += yadj\n",
    "        last_direc = direc\n",
    "    # finally, adjust the last point to equal the first point\n",
    "    bdry[-1] = bdry[0]\n",
    "\n",
    "    return bdry\n",
    "\n",
    "\n",
    "def shoelace( poly ):\n",
    "    '''run shoelace method on poly, which is a sequence of points in R2'''\n",
    "\n",
    "    #tot = Decimal(0)\n",
    "    tot = 0\n",
    "    for here, there in zip(poly[:-1], poly[1:] ):\n",
    "        print(f'''from [{here[0]}, {here[1]}] to [{there[0]}, {there[1]}]''')\n",
    "        determinant = here[0]*there[1] - here[1]*there[0]\n",
    "        tot += determinant\n",
    "        print(determinant, tot)\n",
    "\n",
    "    return abs(tot/2)\n",
    "\n",
    "def part2( plans ):\n",
    "    fixed = fix_plans(plans)\n",
    "    bdry = plot_points(fixed)\n",
    "    area = shoelace(bdry)\n",
    "    return area"
   ]
  },
  {
   "cell_type": "code",
   "execution_count": 152,
   "metadata": {},
   "outputs": [
    {
     "name": "stdout",
     "output_type": "stream",
     "text": [
      "[['D', 500254], ['R', 5411], ['D', 686074], ['R', 491645], ['U', 829975], ['R', 112010], ['D', 829975], ['R', 577262], ['U', 266681], ['L', 367720], ['U', 863240], ['L', 356671], ['U', 56407], ['L', 461937]]\n",
      "LD -0.5 0.5\n",
      "DR -0.5 -0.5\n",
      "RD -0.5 -0.5\n",
      "DR -0.5 -0.5\n",
      "RU 0.5 -0.5\n",
      "UR 0.5 -0.5\n",
      "RD -0.5 -0.5\n",
      "DR -0.5 -0.5\n",
      "RU 0.5 -0.5\n",
      "UL 0.5 0.5\n",
      "LU 0.5 0.5\n",
      "UL 0.5 0.5\n",
      "LU 0.5 0.5\n",
      "UL 0.5 0.5\n"
     ]
    }
   ],
   "source": [
    "test_lagoon3 = plot_points(test2)"
   ]
  },
  {
   "cell_type": "code",
   "execution_count": 153,
   "metadata": {},
   "outputs": [
    {
     "data": {
      "text/plain": [
       "[[-0.5, 0.5],\n",
       " [-0.5, -500254.5],\n",
       " [5410.5, -500254.5],\n",
       " [5410.5, -1186328.5],\n",
       " [497056.5, -1186328.5],\n",
       " [497056.5, -356353.5],\n",
       " [609065.5, -356353.5],\n",
       " [609065.5, -1186328.5],\n",
       " [1186328.5, -1186328.5],\n",
       " [1186328.5, -919646.5],\n",
       " [818608.5, -919646.5],\n",
       " [818608.5, -56406.5],\n",
       " [461937.5, -56406.5],\n",
       " [461937.5, 0.5],\n",
       " [-0.5, 0.5]]"
      ]
     },
     "execution_count": 153,
     "metadata": {},
     "output_type": "execute_result"
    }
   ],
   "source": [
    "test_lagoon3"
   ]
  },
  {
   "cell_type": "code",
   "execution_count": 154,
   "metadata": {},
   "outputs": [
    {
     "name": "stdout",
     "output_type": "stream",
     "text": [
      "from [-0.5, 0.5] to [-0.5, -500254.5]\n",
      "250127.5 250127.5\n",
      "from [-0.5, -500254.5] to [5410.5, -500254.5]\n",
      "2706877099.5 2707127227.0\n",
      "from [5410.5, -500254.5] to [5410.5, -1186328.5]\n",
      "-3712003377.0 -1004876150.0\n",
      "from [5410.5, -1186328.5] to [497056.5, -1186328.5]\n",
      "583253661711.0 582248785561.0\n",
      "from [497056.5, -1186328.5] to [497056.5, -356353.5]\n",
      "412544468587.5 994793254148.5\n",
      "from [497056.5, -356353.5] to [609065.5, -356353.5]\n",
      "39914799181.5 1034708053330.0\n",
      "from [609065.5, -356353.5] to [609065.5, -1186328.5]\n",
      "-505509138362.5 529198914967.5\n",
      "from [609065.5, -1186328.5] to [1186328.5, -1186328.5]\n",
      "684823548895.5 1214022463863.0\n",
      "from [1186328.5, -1186328.5] to [1186328.5, -919646.5]\n",
      "316372457037.0 1530394920900.0\n",
      "from [1186328.5, -919646.5] to [818608.5, -919646.5]\n",
      "-338172410980.0 1192222509920.0\n",
      "from [818608.5, -919646.5] to [818608.5, -56406.5]\n",
      "706655601540.0 1898878111460.0\n",
      "from [818608.5, -56406.5] to [461937.5, -56406.5]\n",
      "-20118562761.5 1878759548698.5\n",
      "from [461937.5, -56406.5] to [461937.5, 0.5]\n",
      "26056508562.5 1904816057261.0\n",
      "from [461937.5, 0.5] to [-0.5, 0.5]\n",
      "230969.0 1904816288230.0\n"
     ]
    },
    {
     "data": {
      "text/plain": [
       "952408144115.0"
      ]
     },
     "execution_count": 154,
     "metadata": {},
     "output_type": "execute_result"
    }
   ],
   "source": [
    "shoelace(test_lagoon3)"
   ]
  },
  {
   "cell_type": "code",
   "execution_count": 156,
   "metadata": {},
   "outputs": [
    {
     "name": "stdout",
     "output_type": "stream",
     "text": [
      "[['D', 500254], ['R', 5411], ['D', 686074], ['R', 491645], ['U', 829975], ['R', 112010], ['D', 829975], ['R', 577262], ['U', 266681], ['L', 367720], ['U', 863240], ['L', 356671], ['U', 56407], ['L', 461937]]\n",
      "LD -0.5 0.5\n",
      "DR -0.5 -0.5\n",
      "RD -0.5 -0.5\n",
      "DR -0.5 -0.5\n",
      "RU 0.5 -0.5\n",
      "UR 0.5 -0.5\n",
      "RD -0.5 -0.5\n",
      "DR -0.5 -0.5\n",
      "RU 0.5 -0.5\n",
      "UL 0.5 0.5\n",
      "LU 0.5 0.5\n",
      "UL 0.5 0.5\n",
      "LU 0.5 0.5\n",
      "UL 0.5 0.5\n",
      "from [-0.5, 0.5] to [-0.5, -500254.5]\n",
      "250127.5 250127.5\n",
      "from [-0.5, -500254.5] to [5410.5, -500254.5]\n",
      "2706877099.5 2707127227.0\n",
      "from [5410.5, -500254.5] to [5410.5, -1186328.5]\n",
      "-3712003377.0 -1004876150.0\n",
      "from [5410.5, -1186328.5] to [497056.5, -1186328.5]\n",
      "583253661711.0 582248785561.0\n",
      "from [497056.5, -1186328.5] to [497056.5, -356353.5]\n",
      "412544468587.5 994793254148.5\n",
      "from [497056.5, -356353.5] to [609065.5, -356353.5]\n",
      "39914799181.5 1034708053330.0\n",
      "from [609065.5, -356353.5] to [609065.5, -1186328.5]\n",
      "-505509138362.5 529198914967.5\n",
      "from [609065.5, -1186328.5] to [1186328.5, -1186328.5]\n",
      "684823548895.5 1214022463863.0\n",
      "from [1186328.5, -1186328.5] to [1186328.5, -919646.5]\n",
      "316372457037.0 1530394920900.0\n",
      "from [1186328.5, -919646.5] to [818608.5, -919646.5]\n",
      "-338172410980.0 1192222509920.0\n",
      "from [818608.5, -919646.5] to [818608.5, -56406.5]\n",
      "706655601540.0 1898878111460.0\n",
      "from [818608.5, -56406.5] to [461937.5, -56406.5]\n",
      "-20118562761.5 1878759548698.5\n",
      "from [461937.5, -56406.5] to [461937.5, 0.5]\n",
      "26056508562.5 1904816057261.0\n",
      "from [461937.5, 0.5] to [-0.5, 0.5]\n",
      "230969.0 1904816288230.0\n"
     ]
    },
    {
     "data": {
      "text/plain": [
       "952408144115.0"
      ]
     },
     "execution_count": 156,
     "metadata": {},
     "output_type": "execute_result"
    }
   ],
   "source": [
    "part2(test)"
   ]
  },
  {
   "cell_type": "code",
   "execution_count": null,
   "metadata": {},
   "outputs": [],
   "source": [
    "part2(puzz)"
   ]
  },
  {
   "cell_type": "code",
   "execution_count": 104,
   "metadata": {},
   "outputs": [
    {
     "name": "stdout",
     "output_type": "stream",
     "text": [
      "from [0, 0] to [461937, 0]\n",
      "0 0\n",
      "from [461937, 0] to [461937, -56407]\n",
      "-26056480359 -26056480359\n",
      "from [461937, -56407] to [818608, -56407]\n",
      "20118741097 -5937739262\n",
      "from [818608, -56407] to [818608, -919647]\n",
      "-706655169920 -712592909182\n",
      "from [818608, -919647] to [1186328, -919647]\n",
      "338172594840 -374420314342\n",
      "from [1186328, -919647] to [1186328, -1186328]\n",
      "-316371137368 -690791451710\n",
      "from [1186328, -1186328] to [609066, -1186328]\n",
      "-684822073936 -1375613525646\n",
      "from [609066, -1186328] to [609066, -356353]\n",
      "505509553350 -870103972296\n",
      "from [609066, -356353] to [497056, -356353]\n",
      "-39915099530 -910019071826\n",
      "from [497056, -356353] to [497056, -1186328]\n",
      "-412544053600 -1322563125426\n",
      "from [497056, -1186328] to [5411, -1186328]\n",
      "-583252229560 -1905815354986\n",
      "from [5411, -1186328] to [5411, -500254]\n",
      "3712346414 -1902103008572\n",
      "from [5411, -500254] to [0, -500254]\n",
      "-2706874394 -1904809882966\n",
      "from [0, -500254] to [0, 0]\n",
      "0 -1904809882966\n"
     ]
    },
    {
     "data": {
      "text/plain": [
       "(Decimal('952404941483'), 952408144115, Decimal('-3202632'))"
      ]
     },
     "execution_count": 104,
     "metadata": {},
     "output_type": "execute_result"
    }
   ],
   "source": [
    "expected = 952408144115\n",
    "obs = shoelace(test_lagoon2)\n",
    "obs, expected, obs-expected"
   ]
  },
  {
   "cell_type": "code",
   "execution_count": 106,
   "metadata": {},
   "outputs": [
    {
     "name": "stdout",
     "output_type": "stream",
     "text": [
      "0\n",
      "-26056480359\n",
      "20118741097\n",
      "-706655169920\n",
      "338172594840\n",
      "-316371137368\n",
      "-684822073936\n",
      "505509553350\n",
      "-39915099530\n",
      "-412544053600\n",
      "-583252229560\n",
      "3712346414\n",
      "-2706874394\n",
      "0\n",
      "-952404941483\n"
     ]
    }
   ],
   "source": [
    "tot = 0\n",
    "for i in range(len(test_lagoon2)-1):\n",
    "    x = test_lagoon2[i][0]*test_lagoon2[i+1][1] - test_lagoon2[i][1]*test_lagoon2[i+1][0]\n",
    "    print(x)\n",
    "    tot += x\n",
    "\n",
    "print(tot/2)\n",
    "\n"
   ]
  },
  {
   "cell_type": "code",
   "execution_count": 71,
   "metadata": {},
   "outputs": [
    {
     "data": {
      "text/plain": [
       "952404941483.0"
      ]
     },
     "execution_count": 71,
     "metadata": {},
     "output_type": "execute_result"
    }
   ],
   "source": [
    "shoelace(tmp)"
   ]
  },
  {
   "cell_type": "code",
   "execution_count": 46,
   "metadata": {},
   "outputs": [
    {
     "name": "stdout",
     "output_type": "stream",
     "text": [
      "from [0, 0] to [461937, 0]\n",
      "0.0\n",
      "from [461937, 0] to [461937, -56407]\n",
      "-13028240179.5\n",
      "from [461937, -56407] to [818608, -56407]\n",
      "-2968869631.0\n",
      "from [818608, -56407] to [818608, -919647]\n",
      "-356296454591.0\n",
      "from [818608, -919647] to [1186328, -919647]\n",
      "-187210157171.0\n",
      "from [1186328, -919647] to [1186328, -1186328]\n",
      "-345395725855.0\n",
      "from [1186328, -1186328] to [609066, -1186328]\n",
      "-687806762823.0\n",
      "from [609066, -1186328] to [609066, -2016303]\n",
      "-940561539498.0\n",
      "from [609066, -2016303] to [497056, -2016303]\n",
      "-1053484589013.0\n",
      "from [497056, -2016303] to [497056, -2846278]\n",
      "-1259756615813.0\n",
      "from [497056, -2846278] to [5411, -2846278]\n",
      "-1959435789468.0\n",
      "from [5411, -2846278] to [5411, -3532352]\n",
      "-1961291962675.0\n",
      "from [5411, -3532352] to [0, -3532352]\n",
      "-1970848741011.0\n",
      "from [0, -3532352] to [0, -4032606]\n",
      "-1970848741011.0\n",
      "from [0, -4032606] to [0, 0]\n",
      "-1970848741011.0\n"
     ]
    },
    {
     "data": {
      "text/plain": [
       "1970848741011.0"
      ]
     },
     "execution_count": 46,
     "metadata": {},
     "output_type": "execute_result"
    }
   ],
   "source": [
    "expected = 952408144115\n",
    "observed = shoelace( test_lagoon2 )\n",
    "observed"
   ]
  },
  {
   "cell_type": "code",
   "execution_count": 109,
   "metadata": {},
   "outputs": [
    {
     "data": {
      "text/plain": [
       "3202631.0"
      ]
     },
     "execution_count": 109,
     "metadata": {},
     "output_type": "execute_result"
    }
   ],
   "source": [
    "sum( [x[1] for x in test2] )/2"
   ]
  },
  {
   "cell_type": "code",
   "execution_count": 35,
   "metadata": {},
   "outputs": [
    {
     "data": {
      "text/plain": [
       "2.069332095897142"
      ]
     },
     "execution_count": 35,
     "metadata": {},
     "output_type": "execute_result"
    }
   ],
   "source": [
    "observed/expected"
   ]
  },
  {
   "cell_type": "code",
   "execution_count": 36,
   "metadata": {},
   "outputs": [
    {
     "data": {
      "text/plain": [
       "1970848741011.0"
      ]
     },
     "execution_count": 36,
     "metadata": {},
     "output_type": "execute_result"
    }
   ],
   "source": [
    "observed"
   ]
  },
  {
   "cell_type": "code",
   "execution_count": 82,
   "metadata": {},
   "outputs": [
    {
     "data": {
      "text/plain": [
       "[[10, 1186338],\n",
       " [461947, 1186338],\n",
       " [461947, 1129931],\n",
       " [818618, 1129931],\n",
       " [818618, 266691],\n",
       " [1186338, 266691],\n",
       " [1186338, 10],\n",
       " [609076, 10],\n",
       " [609076, 829985],\n",
       " [497066, 829985],\n",
       " [497066, 10],\n",
       " [5421, 10],\n",
       " [5421, 686084],\n",
       " [10, 686084],\n",
       " [10, 1186338]]"
      ]
     },
     "execution_count": 82,
     "metadata": {},
     "output_type": "execute_result"
    }
   ],
   "source": [
    "minx = min( [x[0] for x in test_lagoon2])\n",
    "miny = min( x[1] for x in test_lagoon2 )\n",
    "\n",
    "tmp = []\n",
    "for i, pt in enumerate(test_lagoon2):\n",
    "    tmp.append( [pt[0] - minx+10, pt[1] -miny + 10] )\n",
    "tmp"
   ]
  },
  {
   "cell_type": "code",
   "execution_count": 83,
   "metadata": {},
   "outputs": [
    {
     "name": "stdout",
     "output_type": "stream",
     "text": [
      "from [10, 1186338] to [461947, 1186338]\n",
      "-548013416706 -548013416706\n",
      "from [461947, 1186338] to [461947, 1129931]\n",
      "-26057044429 -574070461135\n",
      "from [461947, 1129931] to [818618, 1129931]\n",
      "-403013619701 -977084080836\n",
      "from [818618, 1129931] to [818618, 266691]\n",
      "-706663802320 -1683747883156\n",
      "from [818618, 266691] to [1186338, 266691]\n",
      "-98067614520 -1781815497676\n",
      "from [1186338, 266691] to [1186338, 10]\n",
      "-316373804178 -2098189301854\n",
      "from [1186338, 10] to [609076, 10]\n",
      "5772620 -2098183529234\n",
      "from [609076, 10] to [609076, 829985]\n",
      "505517853100 -1592665676134\n",
      "from [609076, 829985] to [497066, 829985]\n",
      "92966619850 -1499699056284\n",
      "from [497066, 829985] to [497066, 10]\n",
      "-412552353350 -1912251409634\n",
      "from [497066, 10] to [5421, 10]\n",
      "4916450 -1912246493184\n",
      "from [5421, 10] to [5421, 686084]\n",
      "3719207154 -1908527286030\n",
      "from [5421, 686084] to [10, 686084]\n",
      "3712400524 -1904814885506\n",
      "from [10, 686084] to [10, 1186338]\n",
      "5002540 -1904809882966\n"
     ]
    },
    {
     "data": {
      "text/plain": [
       "952404941483.0"
      ]
     },
     "execution_count": 83,
     "metadata": {},
     "output_type": "execute_result"
    }
   ],
   "source": [
    "shoelace(tmp)"
   ]
  }
 ],
 "metadata": {
  "kernelspec": {
   "display_name": "base",
   "language": "python",
   "name": "python3"
  },
  "language_info": {
   "codemirror_mode": {
    "name": "ipython",
    "version": 3
   },
   "file_extension": ".py",
   "mimetype": "text/x-python",
   "name": "python",
   "nbconvert_exporter": "python",
   "pygments_lexer": "ipython3",
   "version": "3.7.3"
  },
  "orig_nbformat": 4,
  "vscode": {
   "interpreter": {
    "hash": "ad2bdc8ecc057115af97d19610ffacc2b4e99fae6737bb82f5d7fb13d2f2c186"
   }
  }
 },
 "nbformat": 4,
 "nbformat_minor": 2
}
