{
 "cells": [
  {
   "attachments": {},
   "cell_type": "markdown",
   "metadata": {},
   "source": [
    "# December 07, 2023\n",
    "\n",
    "https://adventofcode.com/2023/day/7"
   ]
  },
  {
   "cell_type": "code",
   "execution_count": 3,
   "metadata": {},
   "outputs": [],
   "source": [
    "from collections import defaultdict"
   ]
  },
  {
   "cell_type": "code",
   "execution_count": 20,
   "metadata": {},
   "outputs": [],
   "source": [
    "test_str = f'''32T3K 765\n",
    "T55J5 684\n",
    "KK677 28\n",
    "KTJJT 220\n",
    "QQQJA 483'''\n",
    "\n",
    "test_str = test_str.split(\"\\n\")"
   ]
  },
  {
   "cell_type": "code",
   "execution_count": 21,
   "metadata": {},
   "outputs": [],
   "source": [
    "fn = \"data/07.txt\"\n",
    "with open(fn, \"r\") as file:\n",
    "    text = file.readlines()\n",
    "\n",
    "text = [x.strip() for x in text]"
   ]
  },
  {
   "cell_type": "code",
   "execution_count": 80,
   "metadata": {},
   "outputs": [],
   "source": [
    "class Hand:\n",
    "\n",
    "    card_map = {'A': 13, 'K':12, 'Q':11, 'J':10, 'T':9\n",
    "                , '9':8, '8':7, '7':6, '6':5, '5':4\n",
    "                , '4':3, '3':2, '2':1}\n",
    "    \n",
    "    def __init__( self, text ):\n",
    "        self.hand, self.bid = text.split()\n",
    "        self.bid = int(self.bid)\n",
    "        self.setrank()\n",
    "\n",
    "    def setrank( self ):\n",
    "        dups = defaultdict( int )\n",
    "        for card in self.hand:\n",
    "            dups[card] += 1\n",
    "        counts = [ dups[ list(dups.keys())[i] ] for i in range(len(dups)) ]\n",
    "\n",
    "        if len(dups) == 1:\n",
    "            # 5 of a kind\n",
    "            self.rank = 6\n",
    "        elif len(dups) == 2: # xxxxy, xxxyy\n",
    "            if max(counts) == 4:   # 4,1 -- 4 of a kind\n",
    "                self.rank = 5\n",
    "            elif max(counts) == 3:   # 3,2 -- full house\n",
    "                self.rank = 4\n",
    "            else:\n",
    "                raise(\"unexpected hand:\", *self.hand)\n",
    "        elif len(dups) == 3: # xxyyz, xxxyz\n",
    "            if max(counts) == 3: #3,1,1 -- 3 of a kind\n",
    "                self.rank = 3\n",
    "            elif max(counts) == 2: #2,2,1 -- two pair\n",
    "                self.rank = 2\n",
    "            else:\n",
    "                raise(\"unexpected hand:\", *self.hand)\n",
    "        elif len(dups) == 4: # xxyzw -- one pair\n",
    "            self.rank = 1\n",
    "        else: # all distinct\n",
    "            self.rank = 0\n",
    "\n",
    "    def __gt__(self, other: Hand):\n",
    "        if self.rank > other.rank:\n",
    "            return True\n",
    "        if self.rank < other.rank:\n",
    "            return False\n",
    "        \n",
    "        # rank tied. go to tiebreakers\n",
    "        for x,y in zip(self.hand, other.hand):\n",
    "            if Hand.card_map[x] > Hand.card_map[y]:\n",
    "                return True\n",
    "            if Hand.card_map[x] < Hand.card_map[y]:\n",
    "                return False\n",
    "            \n",
    "        raise('unexpected equal hands:', *self.hand)\n",
    "        \n",
    "    def __lt__(self, other: Hand):\n",
    "        return not self > other\n",
    "    \n",
    "    def __str__(self):\n",
    "        return f'''{self.hand} {self.bid}'''\n",
    "    \n",
    "    def __repr__(self):\n",
    "        return str(self)"
   ]
  },
  {
   "cell_type": "code",
   "execution_count": 81,
   "metadata": {},
   "outputs": [],
   "source": [
    "def parse_input( text ):\n",
    "    return [Hand(x) for x in text]\n",
    "\n",
    "test = parse_input(test_str)\n",
    "puzz = parse_input(text)"
   ]
  },
  {
   "cell_type": "code",
   "execution_count": 85,
   "metadata": {},
   "outputs": [],
   "source": [
    "def part1( puzz ):\n",
    "    puzz.sort()\n",
    "    return sum( [(i+1)*h.bid for i,h in enumerate(puzz)] )"
   ]
  },
  {
   "cell_type": "code",
   "execution_count": 86,
   "metadata": {},
   "outputs": [
    {
     "data": {
      "text/plain": [
       "6440"
      ]
     },
     "execution_count": 86,
     "metadata": {},
     "output_type": "execute_result"
    }
   ],
   "source": [
    "part1(test)"
   ]
  },
  {
   "cell_type": "code",
   "execution_count": 87,
   "metadata": {},
   "outputs": [
    {
     "data": {
      "text/plain": [
       "251927063"
      ]
     },
     "execution_count": 87,
     "metadata": {},
     "output_type": "execute_result"
    }
   ],
   "source": [
    "part1(puzz)"
   ]
  },
  {
   "attachments": {},
   "cell_type": "markdown",
   "metadata": {},
   "source": [
    "### Part 1"
   ]
  },
  {
   "cell_type": "code",
   "execution_count": 1,
   "metadata": {},
   "outputs": [],
   "source": [
    "\n",
    "x,y = [int(z) for z in \"12 23\".split()]"
   ]
  },
  {
   "cell_type": "code",
   "execution_count": 2,
   "metadata": {},
   "outputs": [
    {
     "data": {
      "text/plain": [
       "(12, 23)"
      ]
     },
     "execution_count": 2,
     "metadata": {},
     "output_type": "execute_result"
    }
   ],
   "source": [
    "x,y"
   ]
  },
  {
   "attachments": {},
   "cell_type": "markdown",
   "metadata": {},
   "source": [
    "### Part 2\n",
    "\n"
   ]
  },
  {
   "cell_type": "code",
   "execution_count": 107,
   "metadata": {},
   "outputs": [],
   "source": [
    "class WildHand:\n",
    "\n",
    "    card_map = {'A': 13, 'K':12, 'Q':11, 'T':9\n",
    "                , '9':8, '8':7, '7':6, '6':5, '5':4\n",
    "                , '4':3, '3':2, '2':1, 'J':0}\n",
    "    \n",
    "    def __init__( self, text ):\n",
    "        self.hand, self.bid = text.split()\n",
    "        self.bid = int(self.bid)\n",
    "        self.setrank()\n",
    "\n",
    "    def setrank( self ):\n",
    "        dups = defaultdict( int )\n",
    "        for card in self.hand:\n",
    "            dups[card] += 1\n",
    "        counts = [ dups[ list(dups.keys())[i] ] for i in range(len(dups)) ]\n",
    "\n",
    "        if len(dups) == 1:\n",
    "            # 5 of a kind\n",
    "            self.rank = 6\n",
    "        elif len(dups) == 2: # xxxxy, xxxyy\n",
    "            if max(counts) == 4:   # 4,1 -- 4 of a kind\n",
    "                self.rank = 5\n",
    "            elif max(counts) == 3:   # 3,2 -- full house\n",
    "                self.rank = 4\n",
    "            else:\n",
    "                raise(\"unexpected hand:\", *self.hand)\n",
    "        elif len(dups) == 3: # xxyyz, xxxyz\n",
    "            if max(counts) == 3: #3,1,1 -- 3 of a kind\n",
    "                self.rank = 3\n",
    "            elif max(counts) == 2: #2,2,1 -- two pair\n",
    "                self.rank = 2\n",
    "            else:\n",
    "                raise(\"unexpected hand:\", *self.hand)\n",
    "        elif len(dups) == 4: # xxyzw -- one pair\n",
    "            self.rank = 1\n",
    "        else: # all distinct\n",
    "            self.rank = 0\n",
    "\n",
    "\n",
    "        # ACTIVATE WILD CARDS, BABY!\n",
    "        Js = len( [x for x in self.hand if x == 'J'] )\n",
    "        # if Js == 5 got from 5kind to 5kind, so no change\n",
    "        if Js == 4: # automatic 5kind\n",
    "            self.rank = 6\n",
    "        elif Js == 3:\n",
    "            if self.rank == 4: # JJJxx -> full house is now 5kind\n",
    "                self.rank = 6\n",
    "            elif self.rank == 3: # JJJxy -> 3kind is now 4kind\n",
    "                self.rank = 5\n",
    "        elif Js == 2:\n",
    "            if self.rank == 4: # JJxxx -> full house is now 5kind\n",
    "                self.rank = 6\n",
    "            elif self.rank == 2: # JJxxy -> two pair is now 4kind\n",
    "                self.rank = 5\n",
    "            elif self.rank == 1: # JJxyz -> one pair is now 3kind\n",
    "                self.rank = 3\n",
    "        elif Js == 1:\n",
    "            if self.rank == 5: # Jxxxx -> 4kind now 5kind\n",
    "                self.rank = 6\n",
    "            if self.rank == 3: # Jxxxy -> 3kind now 4kind\n",
    "                self.rank = 5\n",
    "            if self.rank == 2: # Jxxyy -> pair now full house\n",
    "                self.rank = 4\n",
    "            if self.rank == 1: # Jxxyz -> pair now 3kind\n",
    "                self.rank = 3\n",
    "            if self.rank == 0: #Jxyzw -> high hand now pair\n",
    "                self.rank = 1 \n",
    "\n",
    "    def __gt__(self, other: Hand):\n",
    "        if self.rank > other.rank:\n",
    "            return True\n",
    "        if self.rank < other.rank:\n",
    "            return False\n",
    "        \n",
    "        # rank tied. go to tiebreakers\n",
    "        for x,y in zip(self.hand, other.hand):\n",
    "            if WildHand.card_map[x] > WildHand.card_map[y]:\n",
    "                return True\n",
    "            if WildHand.card_map[x] < WildHand.card_map[y]:\n",
    "                return False\n",
    "            \n",
    "        raise('unexpected equal hands:', *self.hand)\n",
    "        \n",
    "    def __lt__(self, other: Hand):\n",
    "        return not self > other\n",
    "    \n",
    "    def __str__(self):\n",
    "        return f'''{self.hand} {self.bid}'''\n",
    "    \n",
    "    def __repr__(self):\n",
    "\n",
    "        return str(self)"
   ]
  },
  {
   "cell_type": "code",
   "execution_count": 108,
   "metadata": {},
   "outputs": [],
   "source": [
    "def wild_parse_input( text ):\n",
    "    return [WildHand(x) for x in text]\n",
    "\n",
    "test = wild_parse_input(test_str)\n",
    "puzz = wild_parse_input(text)"
   ]
  },
  {
   "cell_type": "code",
   "execution_count": 100,
   "metadata": {},
   "outputs": [
    {
     "data": {
      "text/plain": [
       "5905"
      ]
     },
     "execution_count": 100,
     "metadata": {},
     "output_type": "execute_result"
    }
   ],
   "source": [
    "part1( test )"
   ]
  },
  {
   "cell_type": "code",
   "execution_count": 109,
   "metadata": {},
   "outputs": [
    {
     "data": {
      "text/plain": [
       "255632664"
      ]
     },
     "execution_count": 109,
     "metadata": {},
     "output_type": "execute_result"
    }
   ],
   "source": [
    "# 255783389 too high! --> forgot to use new class' variable in comparison function!\n",
    "part1( puzz )"
   ]
  }
 ],
 "metadata": {
  "kernelspec": {
   "display_name": "base",
   "language": "python",
   "name": "python3"
  },
  "language_info": {
   "codemirror_mode": {
    "name": "ipython",
    "version": 3
   },
   "file_extension": ".py",
   "mimetype": "text/x-python",
   "name": "python",
   "nbconvert_exporter": "python",
   "pygments_lexer": "ipython3",
   "version": "3.7.3"
  },
  "orig_nbformat": 4,
  "vscode": {
   "interpreter": {
    "hash": "ad2bdc8ecc057115af97d19610ffacc2b4e99fae6737bb82f5d7fb13d2f2c186"
   }
  }
 },
 "nbformat": 4,
 "nbformat_minor": 2
}
