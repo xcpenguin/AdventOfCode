{
 "cells": [
  {
   "attachments": {},
   "cell_type": "markdown",
   "metadata": {},
   "source": [
    "# December 06, 2023\n",
    "\n",
    "https://adventofcode.com/2023/day/6"
   ]
  },
  {
   "cell_type": "code",
   "execution_count": 58,
   "metadata": {},
   "outputs": [],
   "source": [
    "puzz = {\n",
    "    'time': [40, 92, 97, 90]\n",
    "    , 'dist': [215, 1064, 1505, 1100]\n",
    "}"
   ]
  },
  {
   "attachments": {},
   "cell_type": "markdown",
   "metadata": {},
   "source": [
    "### Part 1"
   ]
  },
  {
   "cell_type": "code",
   "execution_count": 2,
   "metadata": {},
   "outputs": [],
   "source": [
    "def factor_rectangle( time, dist ):\n",
    "    # speed = push time\n",
    "    # travel time = time - push time\n",
    "    # dist = push time * travel time\n",
    "\n",
    "    b = -time\n",
    "    a = 1\n",
    "    c = dist\n",
    "\n",
    "    det = b**2 - 4*a*c\n",
    "    root1 = (-b + det**.5) / (2*a)\n",
    "    root2 = (-b - det**.5) / (2*a)\n",
    "\n",
    "    root = max(root1, root2)\n",
    "    return root, time-root"
   ]
  },
  {
   "cell_type": "code",
   "execution_count": 16,
   "metadata": {},
   "outputs": [],
   "source": [
    "def find_winners( time, dist ):\n",
    "\n",
    "    push_time, run_time = factor_rectangle( time, dist )\n",
    "    #print(push_time, run_time)\n",
    "    max_push = int(push_time)\n",
    "    if max_push == push_time:\n",
    "        max_push -= 1\n",
    "\n",
    "    min_push = time - max_push\n",
    "    #print(max_push, min_push)\n",
    "\n",
    "    num_winners = (max_push - min_push) + 1\n",
    "    return num_winners\n",
    "\n",
    "\n",
    "\n"
   ]
  },
  {
   "cell_type": "code",
   "execution_count": 59,
   "metadata": {},
   "outputs": [
    {
     "data": {
      "text/plain": [
       "([27, 65, 58, 61], 6209190)"
      ]
     },
     "execution_count": 59,
     "metadata": {},
     "output_type": "execute_result"
    }
   ],
   "source": [
    "\n",
    "counts = list()\n",
    "p1 = 1\n",
    "for t,d in zip(puzz['time'], puzz['dist']):\n",
    "    counts.append(find_winners(t,d))\n",
    "    p1 *= counts[-1]\n",
    "\n",
    "counts, p1"
   ]
  },
  {
   "attachments": {},
   "cell_type": "markdown",
   "metadata": {},
   "source": [
    "### Part 2\n",
    "\n"
   ]
  },
  {
   "cell_type": "code",
   "execution_count": 61,
   "metadata": {},
   "outputs": [
    {
     "data": {
      "text/plain": [
       "28545089"
      ]
     },
     "execution_count": 61,
     "metadata": {},
     "output_type": "execute_result"
    }
   ],
   "source": [
    "find_winners( int(\"\".join([str(x) for x in puzz['time']])), int(\"\".join([str(x) for x in puzz['dist']])) )"
   ]
  }
 ],
 "metadata": {
  "kernelspec": {
   "display_name": "base",
   "language": "python",
   "name": "python3"
  },
  "language_info": {
   "codemirror_mode": {
    "name": "ipython",
    "version": 3
   },
   "file_extension": ".py",
   "mimetype": "text/x-python",
   "name": "python",
   "nbconvert_exporter": "python",
   "pygments_lexer": "ipython3",
   "version": "3.7.3"
  },
  "orig_nbformat": 4,
  "vscode": {
   "interpreter": {
    "hash": "ad2bdc8ecc057115af97d19610ffacc2b4e99fae6737bb82f5d7fb13d2f2c186"
   }
  }
 },
 "nbformat": 4,
 "nbformat_minor": 2
}
