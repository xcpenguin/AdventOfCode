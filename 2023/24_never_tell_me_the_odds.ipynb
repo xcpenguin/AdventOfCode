{
 "cells": [
  {
   "attachments": {},
   "cell_type": "markdown",
   "metadata": {},
   "source": [
    "# December 24, 2023\n",
    "\n",
    "https://adventofcode.com/2023/day/24"
   ]
  },
  {
   "cell_type": "code",
   "execution_count": 240,
   "metadata": {},
   "outputs": [],
   "source": [
    "import numpy as np\n",
    "from sympy import factorint, divisors"
   ]
  },
  {
   "cell_type": "code",
   "execution_count": 15,
   "metadata": {},
   "outputs": [],
   "source": [
    "def parse_input(text):\n",
    "    init = list()\n",
    "    vel = list()\n",
    "    for line in text:\n",
    "        one, two = line.split(\" @ \")\n",
    "        init.append( [ int(x) for x in one.split(\", \") ] )\n",
    "        vel.append( [ int(x) for x in two.split(\", \") ] )\n",
    "    return {\"init\":init, \"vel\":vel}"
   ]
  },
  {
   "cell_type": "code",
   "execution_count": 16,
   "metadata": {},
   "outputs": [],
   "source": [
    "text = f'''19, 13, 30 @ -2,  1, -2\n",
    "18, 19, 22 @ -1, -1, -2\n",
    "20, 25, 34 @ -2, -2, -4\n",
    "12, 31, 28 @ -1, -2, -1\n",
    "20, 19, 15 @  1, -5, -3'''\n",
    "\n",
    "test = parse_input(text.split(\"\\n\"))"
   ]
  },
  {
   "cell_type": "code",
   "execution_count": 17,
   "metadata": {},
   "outputs": [],
   "source": [
    "fn = \"data/24.txt\"\n",
    "with open(fn, \"r\") as file:\n",
    "    text = file.readlines()\n",
    "puzz = parse_input(text)"
   ]
  },
  {
   "cell_type": "markdown",
   "metadata": {},
   "source": [
    "### Part 1"
   ]
  },
  {
   "cell_type": "code",
   "execution_count": 18,
   "metadata": {},
   "outputs": [
    {
     "data": {
      "text/plain": [
       "{'init': [[19, 13, 30],\n",
       "  [18, 19, 22],\n",
       "  [20, 25, 34],\n",
       "  [12, 31, 28],\n",
       "  [20, 19, 15]],\n",
       " 'vel': [[-2, 1, -2], [-1, -1, -2], [-2, -2, -4], [-1, -2, -1], [1, -5, -3]]}"
      ]
     },
     "execution_count": 18,
     "metadata": {},
     "output_type": "execute_result"
    }
   ],
   "source": [
    "test"
   ]
  },
  {
   "cell_type": "code",
   "execution_count": 82,
   "metadata": {},
   "outputs": [],
   "source": [
    "def linear_eq( p0, v0, p1, v1, eps=1e-12 ):\n",
    "\n",
    "    # check for parallel lines:\n",
    "    if (v1[1]/v0[1] == v1[0]/v0[0]):\n",
    "        return None\n",
    "        \n",
    "    # determine time and x and y coordinates where the paths intersect\n",
    "    x = ( (p0[1] - p1[1]) + ( p1[0]*v1[1]/v1[0] - p0[0]*v0[1]/v0[0] ) ) / (v1[1]/v1[0] - v0[1]/v0[0] )\n",
    "\n",
    "    t0 = (x - p0[0]) / v0[0]\n",
    "    t1 = (x - p1[0]) / v1[0]\n",
    "\n",
    "    y = p0[1] + v0[1]*t0\n",
    "    \n",
    "    # check intersection: y's should match too\n",
    "    #y1 = p1[1] + v1[1]*t1\n",
    "    #if abs(y-y1) > eps:\n",
    "    #    print( p0, v0, p1, v1, t0, t1, x, y)\n",
    "    #    raise Exception(\"intersection check fail\")\n",
    "    #assert abs(y-y1) < eps\n",
    "\n",
    "    return t0, t1, x, y    "
   ]
  },
  {
   "cell_type": "code",
   "execution_count": 83,
   "metadata": {},
   "outputs": [],
   "source": [
    "def part1(puzz, xlim, ylim, verbose = False):\n",
    "    pvec = puzz[\"init\"]\n",
    "    vvec = puzz[\"vel\"]\n",
    "    \n",
    "    smorsh = 0\n",
    "    for i, p0 in enumerate(pvec):\n",
    "        if verbose:\n",
    "            print(i)\n",
    "        v0 = vvec[i]\n",
    "        for j in range(i+1, len(pvec), 1):\n",
    "            p1 = pvec[j]\n",
    "            v1 = vvec[j]\n",
    "\n",
    "            intersection = linear_eq( p0, v0, p1, v1 )\n",
    "            if intersection is None:\n",
    "                continue\n",
    "            t0, t1, x, y = intersection\n",
    "            if ( t0 >= 0 and t1 >= 0 and x >= xlim[0] and x <= xlim[1] and y >= ylim[0] and y <= ylim[1] ):\n",
    "                smorsh += 1\n",
    "                if verbose:\n",
    "                    print(f\"SMORSH! {i}, {j}\")\n",
    "\n",
    "    return smorsh\n",
    "\n"
   ]
  },
  {
   "cell_type": "code",
   "execution_count": 84,
   "metadata": {},
   "outputs": [
    {
     "name": "stdout",
     "output_type": "stream",
     "text": [
      "0\n",
      "SMORSH! 0, 1\n",
      "SMORSH! 0, 2\n",
      "1\n",
      "2\n",
      "3\n",
      "4\n"
     ]
    },
    {
     "data": {
      "text/plain": [
       "2"
      ]
     },
     "execution_count": 84,
     "metadata": {},
     "output_type": "execute_result"
    }
   ],
   "source": [
    "part1(test, [7,27], [7,27], verbose=True )"
   ]
  },
  {
   "cell_type": "code",
   "execution_count": 86,
   "metadata": {},
   "outputs": [
    {
     "data": {
      "text/plain": [
       "15889"
      ]
     },
     "execution_count": 86,
     "metadata": {},
     "output_type": "execute_result"
    }
   ],
   "source": [
    "part1(puzz, [200000000000000, 400000000000000], [200000000000000, 400000000000000])"
   ]
  },
  {
   "attachments": {},
   "cell_type": "markdown",
   "metadata": {},
   "source": [
    "### Part 2"
   ]
  },
  {
   "cell_type": "code",
   "execution_count": 185,
   "metadata": {},
   "outputs": [],
   "source": [
    "# some functions for getting all factors of an integer\n",
    "\n",
    "def prime_factors(x, known={1:[]}):\n",
    "    if x in known:\n",
    "        return known[x]\n",
    "\n",
    "    primes = [2,3,5,7,11,13,17,19,23,29,31,37]\n",
    "    for p in primes:\n",
    "        if x % p == 0:\n",
    "            pf = [p] + prime_factors( int(x/p) )\n",
    "            known[x] = pf\n",
    "            return known[x]\n",
    "\n",
    "    known[x] = [x]\n",
    "    return known[x]\n",
    "\n",
    "def factors(x):\n",
    "    if x == 1:\n",
    "        return [1]\n",
    "\n",
    "    pf = prime_factors(x)\n",
    "    return _all_products( pf )\n",
    "\n",
    "def _all_products(pf):\n",
    "    if len(pf) == 1:\n",
    "        return set([1,pf[0]])\n",
    "\n",
    "    facs = _all_products(pf[1:])\n",
    "    facs |= set([pf[0]*f for f in facs])\n",
    "    return facs\n",
    "\n"
   ]
  },
  {
   "cell_type": "code",
   "execution_count": 283,
   "metadata": {},
   "outputs": [],
   "source": [
    "def possible_speeds( pos0, pos1, vel0 ):\n",
    "    '''if two hailstones have the same speed, it puts constraints on projectile speed'''\n",
    "\n",
    "    # if rock hits further (from 0) hailstone first, then vel0 - vrock must be a factor of |pos1-pos0|\n",
    "    # this is because the other hailstone must catch up\n",
    "    # and it does so at a rate of vel0 - vrock per nanosecond\n",
    "\n",
    "    # if rock hits closer (to 0) hailstone first, then vrock - vel0 must be a factor of |pos1-pos|\n",
    "    # same reason, but the rock is catching up to the hailstone\n",
    "    delta = abs(pos1 - pos0)\n",
    "    facs = divisors(delta)\n",
    "    poss = set( [vel0 + f for f in facs] + [vel0 - f for f in facs])\n",
    "\n",
    "    # if vel0 < 0:\n",
    "    #     pass\n",
    "    #     print(\"negating\")\n",
    "    #     print(poss)\n",
    "    #     poss = set( [ -vel for vel in poss ] )\n",
    "    #     print(poss)\n",
    "    \n",
    "    return poss"
   ]
  },
  {
   "cell_type": "code",
   "execution_count": 356,
   "metadata": {},
   "outputs": [],
   "source": [
    "def determine_speed( pvec, vvec ):\n",
    "    poss = set()\n",
    "    order = np.argsort( vvec )\n",
    "\n",
    "    for i, idx in enumerate(order[:-1]):\n",
    "        j = i + 1\n",
    "        jdx = order[j]\n",
    "        \n",
    "        # keep trying the next position and see if it's a matching speed\n",
    "        while (j < len(order) and vvec[jdx] == vvec[idx]):\n",
    "            #print(f'''Considering {idx} ({pvec[idx]}; {vvec[idx]}) and {jdx} ({pvec[jdx]}; {vvec[jdx]})''')\n",
    "            new_poss = possible_speeds( pvec[idx], pvec[jdx], vvec[idx] )\n",
    "            #print(\"new poss:\", new_poss)\n",
    "            if len(poss) == 0:\n",
    "                poss = new_poss\n",
    "            else:\n",
    "                poss &= new_poss\n",
    "\n",
    "            #print(\"updated poss:\", poss)\n",
    "            if len(poss) == 0:\n",
    "                raise BaseException(\"I don't know what I'm doing\")\n",
    "            if len(poss) == 1:\n",
    "                return poss.pop()\n",
    "\n",
    "            j += 1\n",
    "            jdx = order[j]\n",
    "\n",
    "    print(\"Warning: Multiple speeds are possible...\")\n",
    "    return poss\n",
    "\n",
    "def determine_pos( pvec, vvec, vrock ):\n",
    "    idx = 285\n",
    "    jdx = 197\n",
    "    idx, jdx = 0, 1\n",
    "    a = np.array( [ [1, 0, 0, vrock[0]-vvec[idx][0], 0],\n",
    "                    [0, 1, 0, vrock[1]-vvec[idx][1], 0],\n",
    "                    [0, 0, 1, vrock[2]-vvec[idx][2], 0],\n",
    "                    [1, 0, 0, 0, vrock[0]-vvec[jdx][0]],\n",
    "                    [0, 1, 0, 0, vrock[1]-vvec[jdx][1]]\n",
    "    ])\n",
    "\n",
    "\n",
    "    b = np.array( [pvec[idx][0], pvec[idx][1], pvec[idx][2], pvec[jdx][0], pvec[jdx][1]] )\n",
    "\n",
    "    coefs = np.linalg.solve(a, b) # rounding errors?\n",
    "    print(\"x0, y0, z0, t1, t2:\", *coefs)\n",
    "\n",
    "    final = [ int(np.round(x)) for x in coefs[:3]]\n",
    "    return final"
   ]
  },
  {
   "cell_type": "code",
   "execution_count": 357,
   "metadata": {},
   "outputs": [],
   "source": [
    "def part2( puzz ):\n",
    "    # determine xspeed:\n",
    "    px = [ p[0] for p in puzz[\"init\"] ]\n",
    "    vx = [ p[0] for p in puzz[\"vel\"] ]\n",
    "    dx = determine_speed( px, vx )\n",
    "\n",
    "    py = [ p[1] for p in puzz[\"init\"] ]\n",
    "    vy = [ p[1] for p in puzz[\"vel\"] ]\n",
    "    dy = determine_speed( py, vy )\n",
    "\n",
    "    pz = [ p[2] for p in puzz[\"init\"] ]\n",
    "    vz = [ p[2] for p in puzz[\"vel\"] ]\n",
    "    dz = determine_speed( pz, vz )\n",
    "\n",
    "    print(f'''Rock velocity: @ {dx}, {dy}, {dz}''')\n",
    "\n",
    "    x0, y0, z0 = determine_pos( puzz[\"init\"], puzz[\"vel\"], (dx, dy, dz) )\n",
    "    print(f'''\\nInit position: {x0}, {y0}, {z0}''')\n",
    "\n",
    "    return x0 + y0 + z0"
   ]
  },
  {
   "cell_type": "code",
   "execution_count": 358,
   "metadata": {},
   "outputs": [
    {
     "name": "stdout",
     "output_type": "stream",
     "text": [
      "Rock velocity: @ 136, -237, 110\n",
      "x0, y0, z0, t1, t2: 181540669791003.88 404991404832784.06 214854400593114.3 751758998126.0012 514753497469.0005\n",
      "\n",
      "Init position: 181540669791004, 404991404832784, 214854400593114\n"
     ]
    },
    {
     "data": {
      "text/plain": [
       "801386475216902"
      ]
     },
     "execution_count": 358,
     "metadata": {},
     "output_type": "execute_result"
    }
   ],
   "source": [
    "part2(puzz)"
   ]
  }
 ],
 "metadata": {
  "kernelspec": {
   "display_name": "base",
   "language": "python",
   "name": "python3"
  },
  "language_info": {
   "codemirror_mode": {
    "name": "ipython",
    "version": 3
   },
   "file_extension": ".py",
   "mimetype": "text/x-python",
   "name": "python",
   "nbconvert_exporter": "python",
   "pygments_lexer": "ipython3",
   "version": "3.7.3"
  },
  "orig_nbformat": 4,
  "vscode": {
   "interpreter": {
    "hash": "ad2bdc8ecc057115af97d19610ffacc2b4e99fae6737bb82f5d7fb13d2f2c186"
   }
  }
 },
 "nbformat": 4,
 "nbformat_minor": 2
}
