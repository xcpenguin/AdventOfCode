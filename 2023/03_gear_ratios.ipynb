{
 "cells": [
  {
   "attachments": {},
   "cell_type": "markdown",
   "metadata": {},
   "source": [
    "# December 03, 2023\n",
    "\n",
    "https://adventofcode.com/2023/day/3"
   ]
  },
  {
   "cell_type": "code",
   "execution_count": 6,
   "metadata": {},
   "outputs": [],
   "source": [
    "import re\n",
    "#from collections import defaultdict"
   ]
  },
  {
   "cell_type": "code",
   "execution_count": 2,
   "metadata": {},
   "outputs": [],
   "source": [
    "fn = \"../data/2023/03.txt\"\n",
    "with open(fn, \"r\") as file:\n",
    "    text = file.readlines()\n",
    "\n",
    "text = [x[:-1] for x in text]"
   ]
  },
  {
   "cell_type": "code",
   "execution_count": 139,
   "metadata": {},
   "outputs": [],
   "source": [
    "class Schematic:\n",
    "    def __init__( self, text ):\n",
    "        '''text as list of strings'''\n",
    "\n",
    "        self.nrow = len(text)\n",
    "        self.ncol = len(text[0])\n",
    "        self.parts = list()\n",
    "        self.symbols = list()\n",
    "\n",
    "        for line in text:\n",
    "            line_parts, line_symbols = self.__parse_line__( line )\n",
    "            self.parts.append( line_parts )\n",
    "            self.symbols.append( line_symbols )    \n",
    "\n",
    "    ### INIT METHODS ###\n",
    "    def __parse_line__( self, line ):\n",
    "        '''return a dict of parts {pos: num} and symbols {pos: symbol}'''\n",
    "\n",
    "        buffer = line\n",
    "        parts = {}\n",
    "        symbols = {}\n",
    "        # read all the part ids and record their line positions\n",
    "\n",
    "        cursor = 0\n",
    "        while cursor < len(line):\n",
    "            m = re.match( \"(\\.*)(\\d+|[^\\d\\.]|$)\", line[cursor:])\n",
    "\n",
    "            if len(m[2]) == 0:\n",
    "                break\n",
    "\n",
    "            \n",
    "            if re.match(\"\\d\", m[2]):\n",
    "                # record number and position of part number\n",
    "                parts[cursor + len(m[1])] = int(m[2])\n",
    "            else:\n",
    "                # record symbol and position\n",
    "                symbols[cursor + len(m[1])] = m[2]\n",
    "\n",
    "            # advance cursor\n",
    "            cursor += len(m[1]) + len(m[2])\n",
    "        \n",
    "        return parts, symbols\n",
    "    \n",
    "    ### PART 1 METHODS ###\n",
    "    def __check_for_symbol__( self, row, col ):\n",
    "        if (row > 0 and row < self.nrow and\n",
    "            col > 0 and col < self.ncol and \n",
    "            col in self.symbols[row].keys()):\n",
    "                return self.symbols[row][col]\n",
    "        \n",
    "        return None\n",
    "\n",
    "    def __find_part_symbol__( self, part_id, row, col ):\n",
    "        '''return the first symbol found or None if no symbols adjacent'''\n",
    "\n",
    "        # rightmost position of the part_id\n",
    "        rcol = col + len(str(part_id)) - 1\n",
    "\n",
    "        # check above\n",
    "        for pos in range( col-1, rcol+2 ):\n",
    "            sym = self.__check_for_symbol__( row-1, pos )\n",
    "            if sym is not None:\n",
    "                return sym\n",
    "    \n",
    "        # check left/right\n",
    "        sym = self.__check_for_symbol__( row, col-1 )\n",
    "        if sym is not None:\n",
    "            return sym\n",
    "        sym = self.__check_for_symbol__( row, rcol+1 )\n",
    "        if sym is not None:\n",
    "            return sym\n",
    "        \n",
    "        # look out below!\n",
    "        for pos in range( col-1, rcol+2 ):\n",
    "            sym = self.__check_for_symbol__( row+1, pos )\n",
    "            if sym is not None:\n",
    "                return sym\n",
    "\n",
    "        return None\n",
    "    \n",
    "    def sum_part_numbers( self ):\n",
    "        '''sum part numbers that are adjacent to a symbold'''\n",
    "        tot = 0\n",
    "        for i, d in enumerate(self.parts):\n",
    "            for j, id in d.items():\n",
    "                if self.__find_part_symbol__( id, i, j ) is not None:\n",
    "                    tot += id\n",
    "                #print(i, j, id, tot)\n",
    "        return tot\n",
    "    \n",
    "    ### PART 2 METHODS ###\n",
    "    @staticmethod\n",
    "    def __part_is_adjacent__( id, part_row, part_col, sym_row, sym_col ):\n",
    "        part_rcol = part_col + len(str(id)) - 1\n",
    "\n",
    "        # check above/on/below row\n",
    "        if abs(part_row - sym_row) > 1:\n",
    "            return False\n",
    "\n",
    "        # check col\n",
    "        if (sym_col >= part_col - 1) and (sym_col <= part_rcol + 1):\n",
    "            return True\n",
    "\n",
    "        return False\n",
    "    \n",
    "    def __find_adjacent_parts__( self, sym_row, sym_col ):\n",
    "        adj_parts = []\n",
    "        # find adj parts on row above\n",
    "        if sym_row > 0:\n",
    "            for col, id in self.parts[sym_row-1].items():\n",
    "                if self.__part_is_adjacent__( id, sym_row-1, col, sym_row, sym_col ):\n",
    "                    adj_parts.append( id )\n",
    "\n",
    "        # find adj parts on same row\n",
    "        for col, id in self.parts[sym_row].items():\n",
    "                if self.__part_is_adjacent__( id, sym_row-1, col, sym_row, sym_col ):\n",
    "                    adj_parts.append( id )\n",
    "\n",
    "        if sym_row < self.nrow - 1:\n",
    "            for col, id in self.parts[sym_row+1].items():\n",
    "                if self.__part_is_adjacent__( id, sym_row+1, col, sym_row, sym_col ):\n",
    "                    adj_parts.append( id )\n",
    "\n",
    "        return adj_parts\n",
    "    \n",
    "    def __gear_ratio__( self, sym, sym_row, sym_col ):\n",
    "        '''returns gear_ratio for gears and 0 for non-gears'''\n",
    "        if sym != \"*\":\n",
    "            return 0\n",
    "        \n",
    "        adj_parts = self.__find_adjacent_parts__( sym_row, sym_col )\n",
    "        \n",
    "        #print(\"* at\", sym_row, sym_col)\n",
    "        #print(adj_parts)\n",
    "        if len( adj_parts ) != 2:\n",
    "            return 0\n",
    "        \n",
    "        #print(\"Found gear at\", sym_row, sym_col )\n",
    "        #print(\"Parts\", *adj_parts )\n",
    "        return adj_parts[0] * adj_parts[1]\n",
    "    \n",
    "    def sum_gear_ratios( self ):\n",
    "        gear_tot = 0\n",
    "        for sym_row, sym_dict in enumerate(self.symbols):\n",
    "            for sym_col, sym in sym_dict.items():\n",
    "                gear_tot += self.__gear_ratio__( sym, sym_row, sym_col )\n",
    "        \n",
    "        return gear_tot\n",
    "\n",
    "    \n",
    "\n",
    "\n",
    "\n",
    "\n",
    "         \n",
    "\n",
    "        "
   ]
  },
  {
   "cell_type": "markdown",
   "metadata": {},
   "source": [
    "### Dev"
   ]
  },
  {
   "cell_type": "code",
   "execution_count": 47,
   "metadata": {},
   "outputs": [],
   "source": [
    "test = [\n",
    "    '467..114..',\n",
    "    '...*......',\n",
    "    '..35..633.',\n",
    "    '......#...',\n",
    "    '617*......',\n",
    "    '.....+.58.',\n",
    "    '..592.....',\n",
    "    '......755.',\n",
    "    '...$.*....',\n",
    "    '.664.598..',\n",
    "]\n"
   ]
  },
  {
   "cell_type": "code",
   "execution_count": 137,
   "metadata": {},
   "outputs": [
    {
     "data": {
      "text/plain": [
       "4361"
      ]
     },
     "execution_count": 137,
     "metadata": {},
     "output_type": "execute_result"
    }
   ],
   "source": [
    "schem = Schematic(test)\n",
    "schem.sum_part_numbers()\n"
   ]
  },
  {
   "cell_type": "code",
   "execution_count": 138,
   "metadata": {},
   "outputs": [
    {
     "name": "stdout",
     "output_type": "stream",
     "text": [
      "* at 1 3\n",
      "[467, 35]\n",
      "Found gear at 1 3\n",
      "Parts 467 35\n",
      "* at 4 3\n",
      "[617]\n",
      "* at 8 5\n",
      "[755, 598]\n",
      "Found gear at 8 5\n",
      "Parts 755 598\n"
     ]
    },
    {
     "data": {
      "text/plain": [
       "467835"
      ]
     },
     "execution_count": 138,
     "metadata": {},
     "output_type": "execute_result"
    }
   ],
   "source": [
    "schem.sum_gear_ratios()"
   ]
  },
  {
   "attachments": {},
   "cell_type": "markdown",
   "metadata": {},
   "source": [
    "### Part 1"
   ]
  },
  {
   "cell_type": "code",
   "execution_count": 140,
   "metadata": {},
   "outputs": [
    {
     "data": {
      "text/plain": [
       "557705"
      ]
     },
     "execution_count": 140,
     "metadata": {},
     "output_type": "execute_result"
    }
   ],
   "source": [
    "p1 = Schematic(text)\n",
    "p1.sum_part_numbers()"
   ]
  },
  {
   "cell_type": "markdown",
   "metadata": {},
   "source": [
    "### Part 2"
   ]
  },
  {
   "cell_type": "code",
   "execution_count": 141,
   "metadata": {},
   "outputs": [
    {
     "data": {
      "text/plain": [
       "84266818"
      ]
     },
     "execution_count": 141,
     "metadata": {},
     "output_type": "execute_result"
    }
   ],
   "source": [
    "p2 = Schematic(text)\n",
    "p2.sum_gear_ratios()"
   ]
  }
 ],
 "metadata": {
  "kernelspec": {
   "display_name": "base",
   "language": "python",
   "name": "python3"
  },
  "language_info": {
   "codemirror_mode": {
    "name": "ipython",
    "version": 3
   },
   "file_extension": ".py",
   "mimetype": "text/x-python",
   "name": "python",
   "nbconvert_exporter": "python",
   "pygments_lexer": "ipython3",
   "version": "3.7.3"
  },
  "orig_nbformat": 4,
  "vscode": {
   "interpreter": {
    "hash": "ad2bdc8ecc057115af97d19610ffacc2b4e99fae6737bb82f5d7fb13d2f2c186"
   }
  }
 },
 "nbformat": 4,
 "nbformat_minor": 2
}
