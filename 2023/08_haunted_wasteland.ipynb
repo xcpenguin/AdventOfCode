{
 "cells": [
  {
   "attachments": {},
   "cell_type": "markdown",
   "metadata": {},
   "source": [
    "# December 08, 2023\n",
    "\n",
    "https://adventofcode.com/2023/day/8"
   ]
  },
  {
   "cell_type": "code",
   "execution_count": 3,
   "metadata": {},
   "outputs": [],
   "source": [
    "import re"
   ]
  },
  {
   "cell_type": "code",
   "execution_count": 4,
   "metadata": {},
   "outputs": [],
   "source": [
    "test_str = f'''RL\n",
    "\n",
    "AAA = (BBB, CCC)\n",
    "BBB = (DDD, EEE)\n",
    "CCC = (ZZZ, GGG)\n",
    "DDD = (DDD, DDD)\n",
    "EEE = (EEE, EEE)\n",
    "GGG = (GGG, GGG)\n",
    "ZZZ = (ZZZ, ZZZ)'''\n",
    "\n",
    "test_str = test_str.split(\"\\n\")"
   ]
  },
  {
   "cell_type": "code",
   "execution_count": 5,
   "metadata": {},
   "outputs": [],
   "source": [
    "test_str2 = f'''LLR\n",
    "\n",
    "AAA = (BBB, BBB)\n",
    "BBB = (AAA, ZZZ)\n",
    "ZZZ = (ZZZ, ZZZ)'''\n",
    "\n",
    "test_str2 = test_str2.split(\"\\n\")"
   ]
  },
  {
   "cell_type": "code",
   "execution_count": 1,
   "metadata": {},
   "outputs": [],
   "source": [
    "fn = \"../data/2023/08.txt\"\n",
    "with open(fn, \"r\") as file:\n",
    "    text = file.readlines()\n",
    "\n",
    "text = [x.strip() for x in text]"
   ]
  },
  {
   "cell_type": "code",
   "execution_count": 7,
   "metadata": {},
   "outputs": [],
   "source": [
    "def parse_input( text ):\n",
    "    steps = [0 if x==\"L\" else 1 for x in text[0] ]\n",
    "\n",
    "    nodes = dict()\n",
    "    for line in text[2:]:\n",
    "        #print(line)\n",
    "        m = re.fullmatch(\"(\\w\\w\\w) = \\((\\w\\w\\w), (\\w\\w\\w)\\)\", line)\n",
    "        #print(m)\n",
    "        nodes[m[1]] = (m[2], m[3])\n",
    "    return {'steps':steps, 'nodes':nodes}\n"
   ]
  },
  {
   "cell_type": "code",
   "execution_count": 8,
   "metadata": {},
   "outputs": [],
   "source": [
    "test = parse_input(test_str)\n",
    "test2 = parse_input(test_str2)\n",
    "puzz = parse_input(text)"
   ]
  },
  {
   "attachments": {},
   "cell_type": "markdown",
   "metadata": {},
   "source": [
    "### Part 1"
   ]
  },
  {
   "cell_type": "code",
   "execution_count": 13,
   "metadata": {},
   "outputs": [],
   "source": [
    "def part1( puzz, start='AAA', goal='ZZZ', verbose=False ):\n",
    "    steps = puzz['steps']\n",
    "    nodes = puzz['nodes']\n",
    "\n",
    "    cur = start\n",
    "    moves = 0\n",
    "    while cur != goal:\n",
    "        if verbose:\n",
    "            print(f'''[{moves}] {cur}''')\n",
    "        go = steps[ moves % len(steps) ]\n",
    "        cur = nodes[ cur ][ go ]\n",
    "        moves += 1\n",
    "\n",
    "    return moves\n"
   ]
  },
  {
   "cell_type": "code",
   "execution_count": 10,
   "metadata": {},
   "outputs": [
    {
     "name": "stdout",
     "output_type": "stream",
     "text": [
      "[0] AAA\n",
      "[1] CCC\n"
     ]
    },
    {
     "data": {
      "text/plain": [
       "2"
      ]
     },
     "execution_count": 10,
     "metadata": {},
     "output_type": "execute_result"
    }
   ],
   "source": [
    "part1(test, verbose=True)"
   ]
  },
  {
   "cell_type": "code",
   "execution_count": 14,
   "metadata": {},
   "outputs": [
    {
     "name": "stdout",
     "output_type": "stream",
     "text": [
      "[0] AAA\n",
      "[1] BBB\n",
      "[2] AAA\n",
      "[3] BBB\n",
      "[4] AAA\n",
      "[5] BBB\n"
     ]
    },
    {
     "data": {
      "text/plain": [
       "6"
      ]
     },
     "execution_count": 14,
     "metadata": {},
     "output_type": "execute_result"
    }
   ],
   "source": [
    "part1(test2, verbose=True)"
   ]
  },
  {
   "cell_type": "code",
   "execution_count": 15,
   "metadata": {},
   "outputs": [
    {
     "data": {
      "text/plain": [
       "20513"
      ]
     },
     "execution_count": 15,
     "metadata": {},
     "output_type": "execute_result"
    }
   ],
   "source": [
    "part1(puzz)"
   ]
  },
  {
   "attachments": {},
   "cell_type": "markdown",
   "metadata": {},
   "source": [
    "### Part 2\n",
    "\n"
   ]
  },
  {
   "cell_type": "code",
   "execution_count": 16,
   "metadata": {},
   "outputs": [],
   "source": [
    "test_str3 = f'''LR\n",
    "\n",
    "11A = (11B, XXX)\n",
    "11B = (XXX, 11Z)\n",
    "11Z = (11B, XXX)\n",
    "22A = (22B, XXX)\n",
    "22B = (22C, 22C)\n",
    "22C = (22Z, 22Z)\n",
    "22Z = (22B, 22B)\n",
    "XXX = (XXX, XXX)'''\n",
    "\n",
    "test_str3 = test_str3.split(\"\\n\")\n",
    "test3 = parse_input( test_str3 )"
   ]
  },
  {
   "cell_type": "code",
   "execution_count": 17,
   "metadata": {},
   "outputs": [],
   "source": [
    "def part2( puzz, max_ghosts=None, verbose=False ):\n",
    "    steps = puzz['steps']\n",
    "    nodes = puzz['nodes']\n",
    "\n",
    "    cur = [ k for k in list(nodes.keys()) if k[-1] == \"A\" ]\n",
    "    if max_ghosts is not None and max_ghosts < len(cur):\n",
    "        cur = cur[:max_ghosts]\n",
    "    moves = 0\n",
    "\n",
    "    while not all( [k[-1] == 'Z' for k in cur] ):\n",
    "        if verbose or moves % 1e6 == 0:\n",
    "            print(f'''[{moves}] {\", \".join(cur)}''')\n",
    "        go = steps[ moves % len(steps) ]\n",
    "        cur = [nodes[x][go] for x in cur]\n",
    "        moves += 1\n",
    "    \n",
    "    print(f'''[{moves}] {\", \".join(cur)}''')\n",
    "    return moves"
   ]
  },
  {
   "cell_type": "code",
   "execution_count": 18,
   "metadata": {},
   "outputs": [
    {
     "name": "stdout",
     "output_type": "stream",
     "text": [
      "[0] 11A, 22A\n",
      "[1] 11B, 22B\n",
      "[2] 11Z, 22C\n",
      "[3] 11B, 22Z\n",
      "[4] 11Z, 22B\n",
      "[5] 11B, 22C\n",
      "[6] 11Z, 22Z\n"
     ]
    },
    {
     "data": {
      "text/plain": [
       "6"
      ]
     },
     "execution_count": 18,
     "metadata": {},
     "output_type": "execute_result"
    }
   ],
   "source": [
    "part2( test3, verbose=True )"
   ]
  },
  {
   "cell_type": "code",
   "execution_count": 19,
   "metadata": {},
   "outputs": [
    {
     "name": "stdout",
     "output_type": "stream",
     "text": [
      "[0] MSA\n",
      "[14893] XHZ\n"
     ]
    },
    {
     "data": {
      "text/plain": [
       "14893"
      ]
     },
     "execution_count": 19,
     "metadata": {},
     "output_type": "execute_result"
    }
   ],
   "source": [
    "part2(puzz, 1)"
   ]
  },
  {
   "cell_type": "code",
   "execution_count": 20,
   "metadata": {},
   "outputs": [
    {
     "name": "stdout",
     "output_type": "stream",
     "text": [
      "[0] MSA, AAA\n",
      "[1000000] CNC, JBR\n",
      "[1087189] XHZ, ZZZ\n"
     ]
    },
    {
     "data": {
      "text/plain": [
       "1087189"
      ]
     },
     "execution_count": 20,
     "metadata": {},
     "output_type": "execute_result"
    }
   ],
   "source": [
    "part2(puzz, 2)"
   ]
  },
  {
   "cell_type": "code",
   "execution_count": 21,
   "metadata": {},
   "outputs": [],
   "source": [
    "# takes too long!!!\n",
    "#part2(puzz, 3)"
   ]
  },
  {
   "cell_type": "code",
   "execution_count": 25,
   "metadata": {},
   "outputs": [],
   "source": [
    "def trace_path( puzz, start ):\n",
    "    nodes = puzz['nodes']\n",
    "    steps = puzz['steps']\n",
    "\n",
    "    node_dict = {start: {0:0}}\n",
    "    cur = start\n",
    "    moves = 0\n",
    "    pos = 0\n",
    "\n",
    "    while True:\n",
    "        cur = nodes[cur][ steps[pos] ]\n",
    "        moves += 1\n",
    "        pos = (pos + 1) % len(steps) # possible wraparound\n",
    "\n",
    "        if cur in node_dict.keys():\n",
    "            # we've been here before... see if it's a cycle\n",
    "            if pos in node_dict[cur].keys():\n",
    "                break\n",
    "            node_dict[cur][pos] = moves\n",
    "        else:\n",
    "            node_dict[cur] = {pos: moves}\n",
    "    # end while loop\n",
    "\n",
    "    finishes = list()\n",
    "    for node, d in node_dict.items():\n",
    "        if node[-1] == 'Z':\n",
    "            finishes += list( d.values() )\n",
    "\n",
    "    finishes = list(set(finishes))\n",
    "    cycle = [node_dict[cur][pos], moves]\n",
    "    return cycle, finishes\n",
    "            \n",
    "\n",
    "\n",
    "    "
   ]
  },
  {
   "cell_type": "code",
   "execution_count": 23,
   "metadata": {},
   "outputs": [
    {
     "data": {
      "text/plain": [
       "{'steps': [0, 1],\n",
       " 'nodes': {'11A': ('11B', 'XXX'),\n",
       "  '11B': ('XXX', '11Z'),\n",
       "  '11Z': ('11B', 'XXX'),\n",
       "  '22A': ('22B', 'XXX'),\n",
       "  '22B': ('22C', '22C'),\n",
       "  '22C': ('22Z', '22Z'),\n",
       "  '22Z': ('22B', '22B'),\n",
       "  'XXX': ('XXX', 'XXX')}}"
      ]
     },
     "execution_count": 23,
     "metadata": {},
     "output_type": "execute_result"
    }
   ],
   "source": [
    "test3"
   ]
  },
  {
   "cell_type": "code",
   "execution_count": 30,
   "metadata": {},
   "outputs": [
    {
     "data": {
      "text/plain": [
       "([1, 3], [2])"
      ]
     },
     "execution_count": 30,
     "metadata": {},
     "output_type": "execute_result"
    }
   ],
   "source": [
    "trace_path( test3, '11A' )"
   ]
  },
  {
   "cell_type": "code",
   "execution_count": 31,
   "metadata": {},
   "outputs": [
    {
     "data": {
      "text/plain": [
       "([8, 20521], [20513])"
      ]
     },
     "execution_count": 31,
     "metadata": {},
     "output_type": "execute_result"
    }
   ],
   "source": [
    "trace_path( puzz, 'AAA' )"
   ]
  },
  {
   "cell_type": "code",
   "execution_count": 33,
   "metadata": {},
   "outputs": [],
   "source": [
    "starts = [x for x in puzz['nodes'].keys() if x[-1] == 'A']\n",
    "\n",
    "cycles = list()\n",
    "finishes = list()\n",
    "for s in starts:\n",
    "    c, f = trace_path( puzz, s )\n",
    "    cycles.append(c)\n",
    "    finishes.append(f)\n",
    "    "
   ]
  },
  {
   "cell_type": "code",
   "execution_count": 34,
   "metadata": {},
   "outputs": [
    {
     "data": {
      "text/plain": [
       "[[2, 14895], [8, 20521], [3, 22202], [2, 19953], [2, 17143], [4, 12087]]"
      ]
     },
     "execution_count": 34,
     "metadata": {},
     "output_type": "execute_result"
    }
   ],
   "source": [
    "cycles"
   ]
  },
  {
   "cell_type": "code",
   "execution_count": 35,
   "metadata": {},
   "outputs": [
    {
     "data": {
      "text/plain": [
       "[[14893], [20513], [22199], [19951], [17141], [12083]]"
      ]
     },
     "execution_count": 35,
     "metadata": {},
     "output_type": "execute_result"
    }
   ],
   "source": [
    "finishes"
   ]
  },
  {
   "cell_type": "code",
   "execution_count": 43,
   "metadata": {},
   "outputs": [
    {
     "data": {
      "text/plain": [
       "([14893, 20513, 22199, 19951, 17141, 12083],\n",
       " [14893, 20513, 22199, 19951, 17141, 12083])"
      ]
     },
     "execution_count": 43,
     "metadata": {},
     "output_type": "execute_result"
    }
   ],
   "source": [
    "# fairly simple case since each has only one finish and they're repeatable\n",
    "\n",
    "ghost_times = [x[0] for x in finishes]\n",
    "loop_lens = [ x[1]-x[0] for x in cycles]\n",
    "\n",
    "ghost_times, loop_lens"
   ]
  },
  {
   "cell_type": "code",
   "execution_count": 48,
   "metadata": {},
   "outputs": [],
   "source": [
    "def find_factors(x):\n",
    "    fac = [1]\n",
    "    for i in range(2,x+1):\n",
    "        if x % i == 0:\n",
    "            fac.append(i)\n",
    "\n",
    "    return fac\n",
    "\n",
    "all_factors = []\n",
    "for g in ghost_times:\n",
    "    all_factors.append( find_factors(g) )"
   ]
  },
  {
   "cell_type": "code",
   "execution_count": 49,
   "metadata": {},
   "outputs": [
    {
     "data": {
      "text/plain": [
       "[[1, 53, 281, 14893],\n",
       " [1, 73, 281, 20513],\n",
       " [1, 79, 281, 22199],\n",
       " [1, 71, 281, 19951],\n",
       " [1, 61, 281, 17141],\n",
       " [1, 43, 281, 12083]]"
      ]
     },
     "execution_count": 49,
     "metadata": {},
     "output_type": "execute_result"
    }
   ],
   "source": [
    "all_factors"
   ]
  },
  {
   "cell_type": "code",
   "execution_count": 63,
   "metadata": {},
   "outputs": [
    {
     "data": {
      "text/plain": [
       "[1074005711.0,\n",
       " 779757571.0,\n",
       " 720535477.0,\n",
       " 801722573.0,\n",
       " 933152503.0,\n",
       " 1323774481.0]"
      ]
     },
     "execution_count": 63,
     "metadata": {},
     "output_type": "execute_result"
    }
   ],
   "source": [
    "# max factor is 281 so gcf is the\n",
    "x = 53*73*79*71*61*43*281\n",
    "[x / g for g in ghost_times]"
   ]
  },
  {
   "cell_type": "code",
   "execution_count": 64,
   "metadata": {},
   "outputs": [
    {
     "data": {
      "text/plain": [
       "15995167053923"
      ]
     },
     "execution_count": 64,
     "metadata": {},
     "output_type": "execute_result"
    }
   ],
   "source": [
    "x"
   ]
  }
 ],
 "metadata": {
  "kernelspec": {
   "display_name": "base",
   "language": "python",
   "name": "python3"
  },
  "language_info": {
   "codemirror_mode": {
    "name": "ipython",
    "version": 3
   },
   "file_extension": ".py",
   "mimetype": "text/x-python",
   "name": "python",
   "nbconvert_exporter": "python",
   "pygments_lexer": "ipython3",
   "version": "3.7.3"
  },
  "orig_nbformat": 4,
  "vscode": {
   "interpreter": {
    "hash": "ad2bdc8ecc057115af97d19610ffacc2b4e99fae6737bb82f5d7fb13d2f2c186"
   }
  }
 },
 "nbformat": 4,
 "nbformat_minor": 2
}
