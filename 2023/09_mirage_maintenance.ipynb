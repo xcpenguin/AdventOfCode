{
 "cells": [
  {
   "attachments": {},
   "cell_type": "markdown",
   "metadata": {},
   "source": [
    "# December 09, 2023\n",
    "\n",
    "https://adventofcode.com/2023/day/9"
   ]
  },
  {
   "cell_type": "code",
   "execution_count": 3,
   "metadata": {},
   "outputs": [],
   "source": [
    "import re"
   ]
  },
  {
   "cell_type": "code",
   "execution_count": 4,
   "metadata": {},
   "outputs": [],
   "source": [
    "test = [\n",
    "    [0,3,6,9,12,15],\n",
    "    [1,3,6,10,15,21],\n",
    "    [10,13,16,21,30,45]\n",
    "]"
   ]
  },
  {
   "cell_type": "code",
   "execution_count": 33,
   "metadata": {},
   "outputs": [],
   "source": [
    "fn = \"data/09.txt\"\n",
    "with open(fn, \"r\") as file:\n",
    "    text = file.readlines()\n",
    "\n",
    "text = [x.strip() for x in text]\n",
    "puzz = [ [int(x) for x in line.split()] for line in text]"
   ]
  },
  {
   "attachments": {},
   "cell_type": "markdown",
   "metadata": {},
   "source": [
    "### Part 1"
   ]
  },
  {
   "cell_type": "code",
   "execution_count": 28,
   "metadata": {},
   "outputs": [],
   "source": [
    "def differencer( seq ):\n",
    "    return [ seq[i+1] - seq[i] for i in range(len(seq)-1) ]\n",
    "\n",
    "def solver( seq, verbose=False ):\n",
    "    if verbose:\n",
    "        print(seq)\n",
    "    if min(seq) == max(seq):\n",
    "        return seq + [seq[-1]]\n",
    "    else:\n",
    "        seq2 = solver( differencer(seq), verbose=verbose )\n",
    "        if verbose:\n",
    "            print(seq2)\n",
    "        return seq + [seq[-1] + seq2[-1]]\n"
   ]
  },
  {
   "cell_type": "code",
   "execution_count": 30,
   "metadata": {},
   "outputs": [
    {
     "name": "stdout",
     "output_type": "stream",
     "text": [
      "[0, 3, 6, 9, 12, 15]\n",
      "[3, 3, 3, 3, 3]\n",
      "[3, 3, 3, 3, 3, 3]\n",
      "[0, 3, 6, 9, 12, 15, 18]\n",
      "\n",
      "\n",
      "[1, 3, 6, 10, 15, 21]\n",
      "[2, 3, 4, 5, 6]\n",
      "[1, 1, 1, 1]\n",
      "[1, 1, 1, 1, 1]\n",
      "[2, 3, 4, 5, 6, 7]\n",
      "[1, 3, 6, 10, 15, 21, 28]\n",
      "\n",
      "\n",
      "[10, 13, 16, 21, 30, 45]\n",
      "[3, 3, 5, 9, 15]\n",
      "[0, 2, 4, 6]\n",
      "[2, 2, 2]\n",
      "[2, 2, 2, 2]\n",
      "[0, 2, 4, 6, 8]\n",
      "[3, 3, 5, 9, 15, 23]\n",
      "[10, 13, 16, 21, 30, 45, 68]\n",
      "\n",
      "\n"
     ]
    }
   ],
   "source": [
    "for t in test:\n",
    "    out = solver(t, verbose=True)\n",
    "    print(out)\n",
    "    print(\"\\n\")"
   ]
  },
  {
   "cell_type": "code",
   "execution_count": 32,
   "metadata": {},
   "outputs": [
    {
     "data": {
      "text/plain": [
       "114"
      ]
     },
     "execution_count": 32,
     "metadata": {},
     "output_type": "execute_result"
    }
   ],
   "source": [
    "18+28+68"
   ]
  },
  {
   "cell_type": "code",
   "execution_count": 35,
   "metadata": {},
   "outputs": [
    {
     "data": {
      "text/plain": [
       "1702218515"
      ]
     },
     "execution_count": 35,
     "metadata": {},
     "output_type": "execute_result"
    }
   ],
   "source": [
    "tot = 0\n",
    "for t in puzz:\n",
    "    out = solver(t, verbose=False)\n",
    "    tot += out[-1]\n",
    "\n",
    "tot"
   ]
  },
  {
   "attachments": {},
   "cell_type": "markdown",
   "metadata": {},
   "source": [
    "### Part 2\n",
    "\n"
   ]
  },
  {
   "cell_type": "code",
   "execution_count": 39,
   "metadata": {},
   "outputs": [],
   "source": [
    "def rsolver( seq, verbose=False ):\n",
    "    if verbose:\n",
    "        print(seq)\n",
    "    if min(seq) == max(seq):\n",
    "        return [seq[0]] + seq\n",
    "    else:\n",
    "        seq2 = rsolver( differencer(seq), verbose=verbose )\n",
    "        if verbose:\n",
    "            print(seq2)\n",
    "        return [seq[0] - seq2[0]] + seq\n"
   ]
  },
  {
   "cell_type": "code",
   "execution_count": 40,
   "metadata": {},
   "outputs": [
    {
     "name": "stdout",
     "output_type": "stream",
     "text": [
      "[0, 3, 6, 9, 12, 15]\n",
      "[3, 3, 3, 3, 3]\n",
      "[3, 3, 3, 3, 3, 3]\n",
      "[-3, 0, 3, 6, 9, 12, 15]\n",
      "\n",
      "\n",
      "[1, 3, 6, 10, 15, 21]\n",
      "[2, 3, 4, 5, 6]\n",
      "[1, 1, 1, 1]\n",
      "[1, 1, 1, 1, 1]\n",
      "[1, 2, 3, 4, 5, 6]\n",
      "[0, 1, 3, 6, 10, 15, 21]\n",
      "\n",
      "\n",
      "[10, 13, 16, 21, 30, 45]\n",
      "[3, 3, 5, 9, 15]\n",
      "[0, 2, 4, 6]\n",
      "[2, 2, 2]\n",
      "[2, 2, 2, 2]\n",
      "[-2, 0, 2, 4, 6]\n",
      "[5, 3, 3, 5, 9, 15]\n",
      "[5, 10, 13, 16, 21, 30, 45]\n",
      "\n",
      "\n"
     ]
    }
   ],
   "source": [
    "for t in test:\n",
    "    out = rsolver(t, verbose=True)\n",
    "    print(out)\n",
    "    print(\"\\n\")"
   ]
  },
  {
   "cell_type": "code",
   "execution_count": 41,
   "metadata": {},
   "outputs": [
    {
     "data": {
      "text/plain": [
       "925"
      ]
     },
     "execution_count": 41,
     "metadata": {},
     "output_type": "execute_result"
    }
   ],
   "source": [
    "tot = 0\n",
    "for t in puzz:\n",
    "    out = rsolver(t, verbose=False)\n",
    "    tot += out[0]\n",
    "tot"
   ]
  },
  {
   "cell_type": "code",
   "execution_count": null,
   "metadata": {},
   "outputs": [],
   "source": []
  }
 ],
 "metadata": {
  "kernelspec": {
   "display_name": "base",
   "language": "python",
   "name": "python3"
  },
  "language_info": {
   "codemirror_mode": {
    "name": "ipython",
    "version": 3
   },
   "file_extension": ".py",
   "mimetype": "text/x-python",
   "name": "python",
   "nbconvert_exporter": "python",
   "pygments_lexer": "ipython3",
   "version": "3.7.3"
  },
  "orig_nbformat": 4,
  "vscode": {
   "interpreter": {
    "hash": "ad2bdc8ecc057115af97d19610ffacc2b4e99fae6737bb82f5d7fb13d2f2c186"
   }
  }
 },
 "nbformat": 4,
 "nbformat_minor": 2
}
