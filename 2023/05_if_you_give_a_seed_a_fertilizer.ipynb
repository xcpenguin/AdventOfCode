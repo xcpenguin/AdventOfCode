{
 "cells": [
  {
   "attachments": {},
   "cell_type": "markdown",
   "metadata": {},
   "source": [
    "# December 04, 2023\n",
    "\n",
    "https://adventofcode.com/2023/day/4"
   ]
  },
  {
   "cell_type": "code",
   "execution_count": 1,
   "metadata": {},
   "outputs": [],
   "source": [
    "import re\n",
    "#from collections import defaultdict"
   ]
  },
  {
   "cell_type": "code",
   "execution_count": 49,
   "metadata": {},
   "outputs": [],
   "source": [
    "test_str = f'''seeds: 79 14 55 13\n",
    "\n",
    "seed-to-soil map:\n",
    "50 98 2\n",
    "52 50 48\n",
    "\n",
    "soil-to-fertilizer map:\n",
    "0 15 37\n",
    "37 52 2\n",
    "39 0 15\n",
    "\n",
    "fertilizer-to-water map:\n",
    "49 53 8\n",
    "0 11 42\n",
    "42 0 7\n",
    "57 7 4\n",
    "\n",
    "water-to-light map:\n",
    "88 18 7\n",
    "18 25 70\n",
    "\n",
    "light-to-temperature map:\n",
    "45 77 23\n",
    "81 45 19\n",
    "68 64 13\n",
    "\n",
    "temperature-to-humidity map:\n",
    "0 69 1\n",
    "1 0 69\n",
    "\n",
    "humidity-to-location map:\n",
    "60 56 37\n",
    "56 93 4'''\n",
    "\n",
    "test_str = test_str.split(\"\\n\")"
   ]
  },
  {
   "cell_type": "code",
   "execution_count": 132,
   "metadata": {},
   "outputs": [
    {
     "name": "stdout",
     "output_type": "stream",
     "text": [
      "1 12\n",
      "3 100\n",
      "2 11\n"
     ]
    }
   ],
   "source": [
    "tmp = dict()\n",
    "tmp[1] = 12\n",
    "tmp[3] = 100\n",
    "tmp[2] = 11\n",
    "\n",
    "for k,v in tmp.items():\n",
    "    print(k,v)"
   ]
  },
  {
   "cell_type": "code",
   "execution_count": 169,
   "metadata": {},
   "outputs": [],
   "source": [
    "class Map:\n",
    "    def __init__( self, lines ):\n",
    "        m = re.fullmatch(\"^(.*)-to-(.*) map:$\", lines[0])\n",
    "        self.input, self.output = m[1], m[2]\n",
    "        \n",
    "        self.ranges = []\n",
    "        self.ranges = [ [int(x) for x in y.strip().split()] for y in lines[1:]]\n",
    "\n",
    "    def map_input( self, x ):\n",
    "        for r in self.ranges:\n",
    "            diff = x - r[1]\n",
    "            if diff >= 0 and diff < r[2]:\n",
    "                return r[0] + diff\n",
    "            \n",
    "        return x\n",
    "    \n",
    "    def map_range( self, start, len ):\n",
    "\n",
    "        matched_starts = list()\n",
    "        matched_lens = dict()\n",
    "\n",
    "        ranges = []\n",
    "        for r in self.ranges:\n",
    "            if (start + len <= r[1]) or (start >= r[1] + r[2]):\n",
    "                continue\n",
    "\n",
    "            intx_start = max( start, r[1] )\n",
    "            intx_stop = min( start + len - 1, r[1] + r[2] - 1)\n",
    "\n",
    "            # Add to the output\n",
    "            ranges.append( [intx_start + r[0] - r[1], intx_stop - intx_start + 1] )\n",
    "\n",
    "            # Keep track of which numbers were matched\n",
    "            matched_starts.append( intx_start )\n",
    "            matched_lens[intx_start] = intx_stop - intx_start + 1\n",
    "\n",
    "        # Determine unmatched regions\n",
    "        # we cycle through all the matched regions from high to low\n",
    "        # and keep track of any subranges in our input range that were never matched\n",
    "        matched_starts.sort()\n",
    "        cur = start\n",
    "        for s in matched_starts:\n",
    "            if cur < s:\n",
    "                ranges.append( [cur, s-cur] ) # mark the numbers between cur and s as unmatched\n",
    "            cur = max(cur, s + matched_lens[s] ) # move current to the spot after this matched region if it's in this matched range\n",
    "            \n",
    "            if cur >= start + len: # no more numbers to check\n",
    "                break\n",
    "\n",
    "        if cur < start + len:\n",
    "            ranges.append( [cur, start + len - cur] )\n",
    "                \n",
    "            \n",
    "\n",
    "        return ranges\n",
    "\n",
    "\n",
    "\n"
   ]
  },
  {
   "cell_type": "code",
   "execution_count": 170,
   "metadata": {},
   "outputs": [],
   "source": [
    "def parse_input( lines ):\n",
    "    seeds = [int(x) for x in re.sub(\"seeds: \", \"\", lines[0]).strip().split()]\n",
    "    \n",
    "    lines = lines[2:]\n",
    "    paragraph = []\n",
    "\n",
    "    maps = dict()\n",
    "    for line in lines:\n",
    "        if line == \"\":\n",
    "            next_map = Map(paragraph)\n",
    "            maps[ next_map.input ] = next_map\n",
    "            paragraph = []\n",
    "\n",
    "        else:\n",
    "            paragraph.append(line)\n",
    "\n",
    "    # extra step to map the last paragraph\n",
    "    next_map = Map(paragraph)\n",
    "    maps[ next_map.input ] = next_map\n",
    "    return seeds, maps\n",
    "\n",
    "seeds, maps = parse_input(test_str)\n",
    "test = {'seeds':seeds, 'maps':maps}"
   ]
  },
  {
   "cell_type": "code",
   "execution_count": 171,
   "metadata": {},
   "outputs": [
    {
     "name": "stdout",
     "output_type": "stream",
     "text": [
      "Mapping seed to soil\n",
      "[79, 14]\n",
      "     ->[[81, 14]]\n",
      "[55, 13]\n",
      "     ->[[57, 13]]\n",
      "Mapping soil to fertilizer\n",
      "[81, 14]\n",
      "     ->[[81, 14]]\n",
      "[57, 13]\n",
      "     ->[[57, 13]]\n",
      "Mapping fertilizer to water\n",
      "[81, 14]\n",
      "     ->[[81, 14]]\n",
      "[57, 13]\n",
      "     ->[[53, 4], [61, 9]]\n",
      "Mapping water to light\n",
      "[81, 14]\n",
      "     ->[[74, 14]]\n",
      "[53, 4]\n",
      "     ->[[46, 4]]\n",
      "[61, 9]\n",
      "     ->[[54, 9]]\n",
      "Mapping light to temperature\n",
      "[74, 14]\n",
      "     ->[[45, 11], [78, 3]]\n",
      "[46, 4]\n",
      "     ->[[82, 4]]\n",
      "[54, 9]\n",
      "     ->[[90, 9]]\n",
      "Mapping temperature to humidity\n",
      "[45, 11]\n",
      "     ->[[46, 11]]\n",
      "[78, 3]\n",
      "     ->[[78, 3]]\n",
      "[82, 4]\n",
      "     ->[[82, 4]]\n",
      "[90, 9]\n",
      "     ->[[90, 9]]\n",
      "Mapping humidity to location\n",
      "[46, 11]\n",
      "     ->[[60, 1], [46, 10]]\n",
      "[78, 3]\n",
      "     ->[[82, 3]]\n",
      "[82, 4]\n",
      "     ->[[86, 4]]\n",
      "[90, 9]\n",
      "     ->[[94, 3], [56, 4], [97, 2]]\n"
     ]
    },
    {
     "data": {
      "text/plain": [
       "[[60, 1], [46, 10], [82, 3], [86, 4], [94, 3], [56, 4], [97, 2]]"
      ]
     },
     "execution_count": 171,
     "metadata": {},
     "output_type": "execute_result"
    }
   ],
   "source": [
    "\n",
    "part2( test['seeds'], test['maps'] , True)"
   ]
  },
  {
   "cell_type": "code",
   "execution_count": 172,
   "metadata": {},
   "outputs": [],
   "source": [
    "fn = \"data/05.txt\"\n",
    "with open(fn, \"r\") as file:\n",
    "    text = file.readlines()\n",
    "\n",
    "text = [x[:-1] for x in text]\n",
    "seeds, maps = parse_input(text)\n",
    "puzz = {'seeds':seeds, 'maps':maps}\n"
   ]
  },
  {
   "attachments": {},
   "cell_type": "markdown",
   "metadata": {},
   "source": [
    "### Part 1"
   ]
  },
  {
   "cell_type": "code",
   "execution_count": 71,
   "metadata": {},
   "outputs": [],
   "source": [
    "def find_location( seed, maps, verbose = False ):\n",
    "    output = seed\n",
    "    output_type = 'seed'\n",
    "    if verbose:\n",
    "        print(\"Mapping seed #\", seed)\n",
    "    while output_type != 'location':\n",
    "        output = maps[output_type].map_input(output)\n",
    "        output_type = maps[output_type].output\n",
    "        if verbose:\n",
    "            print(\"    ->\", output_type, output)\n",
    "\n",
    "    return output\n"
   ]
  },
  {
   "cell_type": "code",
   "execution_count": 72,
   "metadata": {},
   "outputs": [
    {
     "name": "stdout",
     "output_type": "stream",
     "text": [
      "Mapping seed # 79\n",
      "    -> soil 81\n",
      "    -> fertilizer 81\n",
      "    -> water 81\n",
      "    -> light 74\n",
      "    -> temperature 78\n",
      "    -> humidity 78\n",
      "    -> location 82\n",
      "Mapping seed # 14\n",
      "    -> soil 14\n",
      "    -> fertilizer 53\n",
      "    -> water 49\n",
      "    -> light 42\n",
      "    -> temperature 42\n",
      "    -> humidity 43\n",
      "    -> location 43\n",
      "Mapping seed # 55\n",
      "    -> soil 57\n",
      "    -> fertilizer 57\n",
      "    -> water 53\n",
      "    -> light 46\n",
      "    -> temperature 82\n",
      "    -> humidity 82\n",
      "    -> location 86\n",
      "Mapping seed # 13\n",
      "    -> soil 13\n",
      "    -> fertilizer 52\n",
      "    -> water 41\n",
      "    -> light 34\n",
      "    -> temperature 34\n",
      "    -> humidity 35\n",
      "    -> location 35\n"
     ]
    }
   ],
   "source": [
    "for s in test['seeds']:\n",
    "    find_location( s, test['maps'], True)"
   ]
  },
  {
   "cell_type": "code",
   "execution_count": 84,
   "metadata": {},
   "outputs": [],
   "source": [
    "locs = [find_location(x, puzz['maps']) for x in puzz['seeds']]"
   ]
  },
  {
   "cell_type": "code",
   "execution_count": 85,
   "metadata": {},
   "outputs": [
    {
     "data": {
      "text/plain": [
       "621354867"
      ]
     },
     "execution_count": 85,
     "metadata": {},
     "output_type": "execute_result"
    }
   ],
   "source": [
    "min(locs)"
   ]
  },
  {
   "cell_type": "markdown",
   "metadata": {},
   "source": [
    "### Part 2"
   ]
  },
  {
   "cell_type": "code",
   "execution_count": 175,
   "metadata": {},
   "outputs": [
    {
     "name": "stdout",
     "output_type": "stream",
     "text": [
      "Mapping seed to soil\n",
      "[79, 14]\n",
      "     ->[[81, 14]]\n",
      "[55, 13]\n",
      "     ->[[57, 13]]\n",
      "Mapping soil to fertilizer\n",
      "[81, 14]\n",
      "     ->[[81, 14]]\n",
      "[57, 13]\n",
      "     ->[[57, 13]]\n",
      "Mapping fertilizer to water\n",
      "[81, 14]\n",
      "     ->[[81, 14]]\n",
      "[57, 13]\n",
      "     ->[[53, 4], [61, 9]]\n",
      "Mapping water to light\n",
      "[81, 14]\n",
      "     ->[[74, 14]]\n",
      "[53, 4]\n",
      "     ->[[46, 4]]\n",
      "[61, 9]\n",
      "     ->[[54, 9]]\n",
      "Mapping light to temperature\n",
      "[74, 14]\n",
      "     ->[[45, 11], [78, 3]]\n",
      "[46, 4]\n",
      "     ->[[82, 4]]\n",
      "[54, 9]\n",
      "     ->[[90, 9]]\n",
      "Mapping temperature to humidity\n",
      "[45, 11]\n",
      "     ->[[46, 11]]\n",
      "[78, 3]\n",
      "     ->[[78, 3]]\n",
      "[82, 4]\n",
      "     ->[[82, 4]]\n",
      "[90, 9]\n",
      "     ->[[90, 9]]\n",
      "Mapping humidity to location\n",
      "[46, 11]\n",
      "     ->[[60, 1], [46, 10]]\n",
      "[78, 3]\n",
      "     ->[[82, 3]]\n",
      "[82, 4]\n",
      "     ->[[86, 4]]\n",
      "[90, 9]\n",
      "     ->[[94, 3], [56, 4], [97, 2]]\n"
     ]
    },
    {
     "data": {
      "text/plain": [
       "[[60, 1], [46, 10], [82, 3], [86, 4], [94, 3], [56, 4], [97, 2]]"
      ]
     },
     "execution_count": 175,
     "metadata": {},
     "output_type": "execute_result"
    }
   ],
   "source": [
    "def part2( seeds, maps, verbose = False ):\n",
    "    output_ranges = [ [seeds[i], seeds[i+1]] for i in range(0, len(seeds), 2) ]\n",
    "    output_type = 'seed'\n",
    "\n",
    "    while output_type != 'location':\n",
    "        print('Mapping', output_type, 'to', maps[output_type].output)\n",
    "        new_ranges = []\n",
    "        for rng in output_ranges:\n",
    "            if verbose:\n",
    "                print(rng)\n",
    "            mapped = maps[output_type].map_range( rng[0], rng[1] )\n",
    "            if verbose:\n",
    "                print(\"     ->\", end='')\n",
    "                print( mapped )\n",
    "            new_ranges += mapped\n",
    "\n",
    "        output_ranges = new_ranges\n",
    "        output_type = maps[output_type].output\n",
    "\n",
    "    return output_ranges\n",
    "\n",
    "\n",
    "part2(test['seeds'], test['maps'], True )"
   ]
  },
  {
   "cell_type": "code",
   "execution_count": 177,
   "metadata": {},
   "outputs": [
    {
     "name": "stdout",
     "output_type": "stream",
     "text": [
      "Mapping seed to soil\n",
      "Mapping soil to fertilizer\n",
      "Mapping fertilizer to water\n",
      "Mapping water to light\n",
      "Mapping light to temperature\n",
      "Mapping temperature to humidity\n",
      "Mapping humidity to location\n"
     ]
    },
    {
     "data": {
      "text/plain": [
       "15880236"
      ]
     },
     "execution_count": 177,
     "metadata": {},
     "output_type": "execute_result"
    }
   ],
   "source": [
    "locations = part2( puzz['seeds'], puzz['maps'] , False)\n",
    "min( [x[0] for x in locations] )"
   ]
  }
 ],
 "metadata": {
  "kernelspec": {
   "display_name": "base",
   "language": "python",
   "name": "python3"
  },
  "language_info": {
   "codemirror_mode": {
    "name": "ipython",
    "version": 3
   },
   "file_extension": ".py",
   "mimetype": "text/x-python",
   "name": "python",
   "nbconvert_exporter": "python",
   "pygments_lexer": "ipython3",
   "version": "3.7.3"
  },
  "orig_nbformat": 4,
  "vscode": {
   "interpreter": {
    "hash": "ad2bdc8ecc057115af97d19610ffacc2b4e99fae6737bb82f5d7fb13d2f2c186"
   }
  }
 },
 "nbformat": 4,
 "nbformat_minor": 2
}
