{
 "cells": [
  {
   "attachments": {},
   "cell_type": "markdown",
   "metadata": {},
   "source": [
    "\n",
    "# December 01, 2023\n",
    "\n",
    "https://adventofcode.com/2023/day/1"
   ]
  },
  {
   "cell_type": "code",
   "execution_count": 33,
   "metadata": {},
   "outputs": [],
   "source": [
    "import re\n",
    "from collections import defaultdict"
   ]
  },
  {
   "cell_type": "code",
   "execution_count": 1,
   "metadata": {},
   "outputs": [],
   "source": [
    "fn = \"data/02.txt\"\n",
    "with open(fn, \"r\") as file:\n",
    "    text = file.readlines()\n",
    "\n",
    "text = [x[:-1] for x in text]"
   ]
  },
  {
   "cell_type": "code",
   "execution_count": 30,
   "metadata": {},
   "outputs": [
    {
     "data": {
      "text/plain": [
       "(1,\n",
       " [['4 red', '3 blue'],\n",
       "  ['6 blue', '16 green'],\n",
       "  ['9 blue', '13 green', '1 red'],\n",
       "  ['10 green', '4 red', '6 blue']])"
      ]
     },
     "execution_count": 30,
     "metadata": {},
     "output_type": "execute_result"
    }
   ],
   "source": [
    "def parse_line( line ):\n",
    "    m = re.fullmatch( \"^Game (\\d+): (.*)$\", line )\n",
    "\n",
    "    id = int(m[1])\n",
    "    specs = m[2].split(\"; \")\n",
    "\n",
    "    pulls = [ x.split(\", \") for x in specs ]\n",
    "    return id, pulls\n",
    "\n",
    "parse_line(text[0])"
   ]
  },
  {
   "attachments": {},
   "cell_type": "markdown",
   "metadata": {},
   "source": [
    "### Part 1"
   ]
  },
  {
   "cell_type": "code",
   "execution_count": 58,
   "metadata": {},
   "outputs": [],
   "source": [
    "def get_max_balls( game ):\n",
    "    maxes = defaultdict( int )\n",
    "    for pull in game:\n",
    "        for color in pull:\n",
    "            num, clr = color.split(\" \")\n",
    "            num = int(num)\n",
    "            if maxes[clr] < num:\n",
    "                maxes[clr] = num\n",
    "    return maxes\n",
    "\n",
    "def check_game( game, ball_dict ):\n",
    "    maxes = get_max_balls( game )\n",
    "    for clr, num in ball_dict.items():\n",
    "        if maxes[clr] > num:\n",
    "            return False\n",
    "\n",
    "    return True\n",
    "\n",
    "def check_all_games( games, ball_dict ):\n",
    "    tot = 0\n",
    "    for id, g in games.items():\n",
    "        if check_game( g, ball_dict ):\n",
    "            tot += id\n",
    "\n",
    "    return tot"
   ]
  },
  {
   "cell_type": "code",
   "execution_count": 59,
   "metadata": {},
   "outputs": [
    {
     "data": {
      "text/plain": [
       "2105"
      ]
     },
     "execution_count": 59,
     "metadata": {},
     "output_type": "execute_result"
    }
   ],
   "source": [
    "check_all_games( games, {\"red\": 12, \"green\": 13, \"blue\": 14} )"
   ]
  },
  {
   "cell_type": "markdown",
   "metadata": {},
   "source": [
    "### Part 2"
   ]
  },
  {
   "cell_type": "code",
   "execution_count": 67,
   "metadata": {},
   "outputs": [],
   "source": [
    "def game_power( game ):\n",
    "    power = 1\n",
    "    maxes = get_max_balls( game )\n",
    "    for num in maxes.values():\n",
    "        power *= num\n",
    "    \n",
    "    return power\n",
    "\n",
    "def tot_power( games ):\n",
    "    tot = 0\n",
    "    for g in games.values():\n",
    "        tot += game_power( g )\n",
    "\n",
    "    return tot\n"
   ]
  },
  {
   "cell_type": "code",
   "execution_count": 68,
   "metadata": {},
   "outputs": [
    {
     "data": {
      "text/plain": [
       "72422"
      ]
     },
     "execution_count": 68,
     "metadata": {},
     "output_type": "execute_result"
    }
   ],
   "source": [
    "tot_power( games )"
   ]
  }
 ],
 "metadata": {
  "kernelspec": {
   "display_name": "base",
   "language": "python",
   "name": "python3"
  },
  "language_info": {
   "codemirror_mode": {
    "name": "ipython",
    "version": 3
   },
   "file_extension": ".py",
   "mimetype": "text/x-python",
   "name": "python",
   "nbconvert_exporter": "python",
   "pygments_lexer": "ipython3",
   "version": "3.7.3"
  },
  "orig_nbformat": 4,
  "vscode": {
   "interpreter": {
    "hash": "ad2bdc8ecc057115af97d19610ffacc2b4e99fae6737bb82f5d7fb13d2f2c186"
   }
  }
 },
 "nbformat": 4,
 "nbformat_minor": 2
}
