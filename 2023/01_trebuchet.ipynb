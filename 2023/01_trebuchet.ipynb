{
 "cells": [
  {
   "attachments": {},
   "cell_type": "markdown",
   "metadata": {},
   "source": [
    "\n",
    "# December 01, 2023\n",
    "\n",
    "https://adventofcode.com/2023/day/1"
   ]
  },
  {
   "cell_type": "code",
   "execution_count": 2,
   "metadata": {},
   "outputs": [],
   "source": [
    "import re"
   ]
  },
  {
   "cell_type": "code",
   "execution_count": 1,
   "metadata": {},
   "outputs": [],
   "source": [
    "fn = \"../data/2023/01.txt\"\n",
    "with open(fn, \"r\") as file:\n",
    "    text = file.readlines()\n",
    "\n",
    "text = [x[:-1] for x in text]"
   ]
  },
  {
   "cell_type": "code",
   "execution_count": 197,
   "metadata": {},
   "outputs": [
    {
     "data": {
      "text/plain": [
       "['1abc2', 'pqr3stu8vwx', 'a1b2c3d4e5f', 'treb7uchet']"
      ]
     },
     "execution_count": 197,
     "metadata": {},
     "output_type": "execute_result"
    }
   ],
   "source": [
    "test = '''1abc2\n",
    "pqr3stu8vwx\n",
    "a1b2c3d4e5f\n",
    "treb7uchet'''\n",
    "\n",
    "test = test.split('\\n')\n",
    "test"
   ]
  },
  {
   "cell_type": "code",
   "execution_count": 198,
   "metadata": {},
   "outputs": [],
   "source": [
    "def map_line( s ):\n",
    "    match = re.search( '(\\d).*?(\\d?)\\D*$', s )\n",
    "\n",
    "    x = match[1]\n",
    "    if len(match[2]) == 0:\n",
    "        y = x\n",
    "    else:\n",
    "        y = match[2]\n",
    "    \n",
    "    return int( x+y )\n",
    "    "
   ]
  },
  {
   "cell_type": "code",
   "execution_count": 199,
   "metadata": {},
   "outputs": [
    {
     "data": {
      "text/plain": [
       "142"
      ]
     },
     "execution_count": 199,
     "metadata": {},
     "output_type": "execute_result"
    }
   ],
   "source": [
    "sum( [ map_line(s) for s in test ] )"
   ]
  },
  {
   "attachments": {},
   "cell_type": "markdown",
   "metadata": {},
   "source": [
    "### Part 1"
   ]
  },
  {
   "cell_type": "code",
   "execution_count": 200,
   "metadata": {},
   "outputs": [],
   "source": [
    "map = [ map_line(s) for s in text ]"
   ]
  },
  {
   "cell_type": "code",
   "execution_count": 201,
   "metadata": {},
   "outputs": [
    {
     "data": {
      "text/plain": [
       "[45, 22, 66, 22, 84, 88, 55, 22, 46, 33]"
      ]
     },
     "execution_count": 201,
     "metadata": {},
     "output_type": "execute_result"
    }
   ],
   "source": [
    "map[:10]"
   ]
  },
  {
   "cell_type": "code",
   "execution_count": 202,
   "metadata": {},
   "outputs": [
    {
     "data": {
      "text/plain": [
       "56049"
      ]
     },
     "execution_count": 202,
     "metadata": {},
     "output_type": "execute_result"
    }
   ],
   "source": [
    "sum(map)"
   ]
  },
  {
   "cell_type": "markdown",
   "metadata": {},
   "source": [
    "### Part 2"
   ]
  },
  {
   "cell_type": "code",
   "execution_count": 249,
   "metadata": {},
   "outputs": [],
   "source": [
    "spelled = {\"one\":1, \"two\":2, \"three\":3, \"four\":4, \"five\":5, \"six\":6, \"seven\":7, \"eight\":8, \"nine\":9}\n",
    "targ = \"|\".join(spelled.keys()) + \"|\\\\d\"\n",
    "pattern = f'''({targ}).*?({targ}?)(?!{targ}.*$'''\n",
    "\n",
    "def convert(x, pairs):\n",
    "    try:\n",
    "        val = pairs[x]\n",
    "    except:\n",
    "        val = int(x)\n",
    "    return val\n",
    "\n",
    "def map_line2(s):\n",
    "    spelled = {\"one\":1, \"two\":2, \"three\":3, \"four\":4, \"five\":5, \"six\":6, \"seven\":7, \"eight\":8, \"nine\":9}\n",
    "    targ = \"(\" + \"|\".join(spelled.keys()) + \"|\\d)\"\n",
    "    neg = \"(?!.*\" + \"|.*\".join(spelled.keys()) + \"|.*\\d)\"\n",
    "\n",
    "    # This was a very difficult regex to write and it doesn't work!\n",
    "    # It fails for cases when numbers overlap, like eightwo, which should get two instead of eight\n",
    "    # pattern = f'''{targ}.*?{targ}?{neg}.*$'''\n",
    "    # m = re.search(pattern, s)\n",
    "    # x = m[1]\n",
    "    # y = m[2]\n",
    "    # if y is None:\n",
    "    #     y = m[1]\n",
    "\n",
    "    x = re.search( f'''^.*?{targ}.*$''', s)[1]\n",
    "    y = re.search( f'''^.*{targ}.*?$''', s)[1]\n",
    "    \n",
    "    x = convert(x, spelled)\n",
    "    y = convert(y, spelled)\n",
    "    return 10*x + y\n"
   ]
  },
  {
   "cell_type": "code",
   "execution_count": 240,
   "metadata": {},
   "outputs": [
    {
     "name": "stdout",
     "output_type": "stream",
     "text": [
      "twolnine\n",
      "29\n",
      "eightwothree\n",
      "83\n",
      "abcone2threexyz\n",
      "13\n",
      "xtwone3four\n",
      "24\n",
      "4nineeightseven2\n",
      "42\n",
      "zoneight234\n",
      "14\n",
      "7pqrstsixteen\n",
      "76\n",
      "281\n"
     ]
    }
   ],
   "source": [
    "test2 = f'''twolnine\n",
    "eightwothree\n",
    "abcone2threexyz\n",
    "xtwone3four\n",
    "4nineeightseven2\n",
    "zoneight234\n",
    "7pqrstsixteen'''.split(\"\\n\")\n",
    "\n",
    "tot = 0\n",
    "for s in test2:\n",
    "    print(s)\n",
    "    x = map_line2(s)\n",
    "    print(x)\n",
    "    tot += x\n",
    "\n",
    "print(tot)"
   ]
  },
  {
   "cell_type": "code",
   "execution_count": 248,
   "metadata": {},
   "outputs": [
    {
     "name": "stdout",
     "output_type": "stream",
     "text": [
      "54538\n"
     ]
    },
    {
     "data": {
      "text/plain": [
       "'qljrvrprxthree1fiveeightwoj: 38'"
      ]
     },
     "execution_count": 248,
     "metadata": {},
     "output_type": "execute_result"
    }
   ],
   "source": [
    "### Old and wrong\n",
    "mapped = [map_line2(s) for s in text]\n",
    "print( sum(mapped) )\n",
    "\n",
    "f'''{text[84]}: {mapped[84]}'''"
   ]
  },
  {
   "cell_type": "code",
   "execution_count": 250,
   "metadata": {},
   "outputs": [
    {
     "name": "stdout",
     "output_type": "stream",
     "text": [
      "54530\n"
     ]
    },
    {
     "data": {
      "text/plain": [
       "'qljrvrprxthree1fiveeightwoj: 32'"
      ]
     },
     "execution_count": 250,
     "metadata": {},
     "output_type": "execute_result"
    }
   ],
   "source": [
    "### New and right??\n",
    "mapped = [map_line2(s) for s in text]\n",
    "print( sum(mapped) )\n",
    "\n",
    "f'''{text[84]}: {mapped[84]}'''"
   ]
  }
 ],
 "metadata": {
  "kernelspec": {
   "display_name": "base",
   "language": "python",
   "name": "python3"
  },
  "language_info": {
   "codemirror_mode": {
    "name": "ipython",
    "version": 3
   },
   "file_extension": ".py",
   "mimetype": "text/x-python",
   "name": "python",
   "nbconvert_exporter": "python",
   "pygments_lexer": "ipython3",
   "version": "3.7.3"
  },
  "orig_nbformat": 4,
  "vscode": {
   "interpreter": {
    "hash": "ad2bdc8ecc057115af97d19610ffacc2b4e99fae6737bb82f5d7fb13d2f2c186"
   }
  }
 },
 "nbformat": 4,
 "nbformat_minor": 2
}
