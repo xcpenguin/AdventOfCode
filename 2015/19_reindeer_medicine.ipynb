{
 "cells": [
  {
   "cell_type": "markdown",
   "metadata": {},
   "source": [
    "# December 19, 2015\n",
    "https://adventofcode.com/2015/day/19"
   ]
  },
  {
   "cell_type": "code",
   "execution_count": 1,
   "metadata": {},
   "outputs": [],
   "source": [
    "fn = \"../data/2015/19.txt\"\n",
    "\n",
    "ops = {}\n",
    "with open(fn, \"r\") as file:\n",
    "    while True:\n",
    "        line = file.readline()\n",
    "        if line == \"\\n\":\n",
    "            break\n",
    "\n",
    "        start, stop = line.strip(\"\\n\").split(\" => \")\n",
    "        if start in ops.keys():\n",
    "            ops[start].append(stop)\n",
    "        else:\n",
    "            ops[start] = [stop]\n",
    "\n",
    "    compound = file.readline().strip()"
   ]
  },
  {
   "cell_type": "code",
   "execution_count": 2,
   "metadata": {},
   "outputs": [
    {
     "name": "stdout",
     "output_type": "stream",
     "text": [
      "CRnSiRnCaPTiMgYCaPTiRnFArSiThFArCaSiThSiThPBCaCaSiRnSiRnTiTiMgArPBCaPMgYPTiRnFArFArCaSiRnBPMgArPRnCaPTiRnFArCaSiThCaCaFArPBCaCaPTiTiRnFArCaSiRnSiAlYSiThRnFArArCaSiRnBFArCaCaSiRnSiThCaCaCaFYCaPTiBCaSiThCaSiThPMgArSiRnCaPBFYCaCaFArCaCaCaCaSiThCaSiRnPRnFArPBSiThPRnFArSiRnMgArCaFYFArCaSiRnSiAlArTiTiTiTiTiTiTiRnPMgArPTiTiTiBSiRnSiAlArTiTiRnPMgArCaFYBPBPTiRnSiRnMgArSiThCaFArCaSiThFArPRnFArCaSiRnTiBSiThSiRnSiAlYCaFArPRnFArSiThCaFArCaCaSiThCaCaCaSiRnPRnCaFArFYPMgArCaPBCaPBSiRnFYPBCaFArCaSiAl\n"
     ]
    },
    {
     "data": {
      "text/plain": [
       "{'Al': ['ThF', 'ThRnFAr'],\n",
       " 'B': ['BCa', 'TiB', 'TiRnFAr'],\n",
       " 'Ca': ['CaCa', 'PB', 'PRnFAr', 'SiRnFYFAr', 'SiRnMgAr', 'SiTh'],\n",
       " 'F': ['CaF', 'PMg', 'SiAl'],\n",
       " 'H': ['CRnAlAr',\n",
       "  'CRnFYFYFAr',\n",
       "  'CRnFYMgAr',\n",
       "  'CRnMgYFAr',\n",
       "  'HCa',\n",
       "  'NRnFYFAr',\n",
       "  'NRnMgAr',\n",
       "  'NTh',\n",
       "  'OB',\n",
       "  'ORnFAr'],\n",
       " 'Mg': ['BF', 'TiMg'],\n",
       " 'N': ['CRnFAr', 'HSi'],\n",
       " 'O': ['CRnFYFAr', 'CRnMgAr', 'HP', 'NRnFAr', 'OTi'],\n",
       " 'P': ['CaP', 'PTi', 'SiRnFAr'],\n",
       " 'Si': ['CaSi'],\n",
       " 'Th': ['ThCa'],\n",
       " 'Ti': ['BP', 'TiTi'],\n",
       " 'e': ['HF', 'NAl', 'OMg']}"
      ]
     },
     "execution_count": 2,
     "metadata": {},
     "output_type": "execute_result"
    }
   ],
   "source": [
    "print(compound)\n",
    "ops"
   ]
  },
  {
   "cell_type": "code",
   "execution_count": 3,
   "metadata": {},
   "outputs": [],
   "source": [
    "test_ops = {\"H\": [\"HO\", \"OH\"], \"O\": [\"HH\"], \"e\": [\"H\", \"O\"]}\n",
    "test_cmp = \"HOH\""
   ]
  },
  {
   "attachments": {},
   "cell_type": "markdown",
   "metadata": {},
   "source": [
    "### Part 1"
   ]
  },
  {
   "cell_type": "code",
   "execution_count": 4,
   "metadata": {},
   "outputs": [],
   "source": [
    "def find_all_results( ops, compound ):\n",
    "    results = set()\n",
    "    pos = 0\n",
    "    while pos < len(compound):\n",
    "        if pos+1 < len(compound) and compound[pos+1] == compound[pos+1].lower():\n",
    "            # two-letter element\n",
    "            el_len = 2\n",
    "        else:\n",
    "            # one-letter element\n",
    "            el_len = 1\n",
    "\n",
    "        # read element abbreviation\n",
    "        el = compound[pos:pos+el_len]\n",
    "\n",
    "        if el in ops.keys():\n",
    "            # scan through all possible reaction outputs\n",
    "            for rxn in ops[el]:\n",
    "                result = compound[:pos] + rxn + compound[pos+el_len:]\n",
    "                results.add( result )\n",
    "        \n",
    "        pos += el_len\n",
    "    return results\n"
   ]
  },
  {
   "cell_type": "code",
   "execution_count": 5,
   "metadata": {},
   "outputs": [
    {
     "data": {
      "text/plain": [
       "{'HHHH', 'HOHO', 'HOOH', 'OHOH'}"
      ]
     },
     "execution_count": 5,
     "metadata": {},
     "output_type": "execute_result"
    }
   ],
   "source": [
    "find_all_results( test_ops, test_cmp )"
   ]
  },
  {
   "cell_type": "code",
   "execution_count": 6,
   "metadata": {},
   "outputs": [
    {
     "name": "stdout",
     "output_type": "stream",
     "text": [
      "518\n"
     ]
    }
   ],
   "source": [
    "part1 = find_all_results( ops, compound )\n",
    "print(len(list(part1)))"
   ]
  },
  {
   "cell_type": "markdown",
   "metadata": {},
   "source": [
    "### Part 2"
   ]
  },
  {
   "cell_type": "code",
   "execution_count": 7,
   "metadata": {},
   "outputs": [
    {
     "data": {
      "text/plain": [
       "{'ThF': {'Al'},\n",
       " 'ThRnFAr': {'Al'},\n",
       " 'BCa': {'B'},\n",
       " 'TiB': {'B'},\n",
       " 'TiRnFAr': {'B'},\n",
       " 'CaCa': {'Ca'},\n",
       " 'PB': {'Ca'},\n",
       " 'PRnFAr': {'Ca'},\n",
       " 'SiRnFYFAr': {'Ca'},\n",
       " 'SiRnMgAr': {'Ca'},\n",
       " 'SiTh': {'Ca'},\n",
       " 'CaF': {'F'},\n",
       " 'PMg': {'F'},\n",
       " 'SiAl': {'F'},\n",
       " 'CRnAlAr': {'H'},\n",
       " 'CRnFYFYFAr': {'H'},\n",
       " 'CRnFYMgAr': {'H'},\n",
       " 'CRnMgYFAr': {'H'},\n",
       " 'HCa': {'H'},\n",
       " 'NRnFYFAr': {'H'},\n",
       " 'NRnMgAr': {'H'},\n",
       " 'NTh': {'H'},\n",
       " 'OB': {'H'},\n",
       " 'ORnFAr': {'H'},\n",
       " 'BF': {'Mg'},\n",
       " 'TiMg': {'Mg'},\n",
       " 'CRnFAr': {'N'},\n",
       " 'HSi': {'N'},\n",
       " 'CRnFYFAr': {'O'},\n",
       " 'CRnMgAr': {'O'},\n",
       " 'HP': {'O'},\n",
       " 'NRnFAr': {'O'},\n",
       " 'OTi': {'O'},\n",
       " 'CaP': {'P'},\n",
       " 'PTi': {'P'},\n",
       " 'SiRnFAr': {'P'},\n",
       " 'CaSi': {'Si'},\n",
       " 'ThCa': {'Th'},\n",
       " 'BP': {'Ti'},\n",
       " 'TiTi': {'Ti'},\n",
       " 'HF': {'e'},\n",
       " 'NAl': {'e'},\n",
       " 'OMg': {'e'}}"
      ]
     },
     "execution_count": 7,
     "metadata": {},
     "output_type": "execute_result"
    }
   ],
   "source": [
    "rev = {}\n",
    "for k,v in ops.items():\n",
    "    for rxn in v:\n",
    "        if rxn in rev.keys():\n",
    "            rev[rxn].add(k)\n",
    "        else:\n",
    "            rev[rxn] = set([k])\n",
    "\n",
    "rev"
   ]
  },
  {
   "cell_type": "code",
   "execution_count": 8,
   "metadata": {},
   "outputs": [
    {
     "name": "stdout",
     "output_type": "stream",
     "text": [
      "1\n"
     ]
    }
   ],
   "source": [
    "max_len = 0\n",
    "for k,v in rev.items():\n",
    "    max_len = max( [max_len, len(list(v))] )\n",
    "print(max_len)\n",
    "\n",
    "# seems each result is generated by a unique item, so let's simplify\n",
    "for k in rev.keys():\n",
    "    rev[k] = list(k)[0]"
   ]
  },
  {
   "cell_type": "markdown",
   "metadata": {},
   "source": [
    "First Attempt: Recursion -- Takes too long"
   ]
  },
  {
   "cell_type": "code",
   "execution_count": 9,
   "metadata": {},
   "outputs": [],
   "source": [
    "# First attempt takes too long\n",
    "def min_steps( ops, compound, max_print_depth=4, iter=[], depth = 1):\n",
    "    #print(\"Depth:\", depth)\n",
    "    # Cheatery\n",
    "    global best_memo\n",
    "    if depth == 1:#len(iter) == 0:\n",
    "        best_memo = {}\n",
    "\n",
    "    # Base Case\n",
    "    if compound in ops.keys() and ops[compound] == 'e':\n",
    "        return 1\n",
    "\n",
    "    # Memo Case\n",
    "    if compound in best_memo.keys():\n",
    "        return best_memo[compound]\n",
    "\n",
    "    # Do some Iterating!\n",
    "    else:\n",
    "        best = None\n",
    "        max_key_len = max( [len(x) for x in ops.keys()] )\n",
    "\n",
    "        #if len(iter) <= max_print_depth:\n",
    "        #    iter.append(0)\n",
    "\n",
    "        for pos in range(len(compound)):\n",
    "            #if len(iter) <= max_print_depth:\n",
    "            #    iter[-1] = pos\n",
    "            #    print(\"At pos: \", \"-\".join([str(x) for x in iter]))\n",
    "                \n",
    "            # key must start with capital\n",
    "            if compound[pos] == compound[pos].lower():\n",
    "                continue\n",
    "\n",
    "            # check possible key lengths\n",
    "            for i in range(max_key_len):\n",
    "                # we've gone too far, quit and try next pos\n",
    "                if pos + i >= len(compound):\n",
    "                    break\n",
    "\n",
    "                sub = compound[pos:pos+i+1]\n",
    "                if sub in ops.keys():\n",
    "                    if ops[sub] == \"e\":\n",
    "                        continue\n",
    "\n",
    "                    new_compound = compound[:pos] + ops[sub] + compound[pos+i+1:]\n",
    "                    steps = min_steps( ops, new_compound, max_print_depth=max_print_depth, iter=iter, depth=depth+1 )\n",
    "                    if steps is not None:\n",
    "                        # found a path, see if it's better\n",
    "                        if best is None:\n",
    "                            best = steps + 1\n",
    "                        else:\n",
    "                            best = min( [steps+1, best] )\n",
    "            # move to next character in chain\n",
    "\n",
    "        return best   "
   ]
  },
  {
   "cell_type": "code",
   "execution_count": 10,
   "metadata": {},
   "outputs": [
    {
     "name": "stdout",
     "output_type": "stream",
     "text": [
      "test 1: 3\n",
      "test 2: 6\n"
     ]
    }
   ],
   "source": [
    "test_rev = {\"HH\": \"O\", \"HO\": \"H\", \"OH\": \"H\", \"H\":\"e\", \"O\":\"e\"}\n",
    "print(\"test 1:\", min_steps(test_rev, \"HOH\"))\n",
    "print(\"test 2:\", min_steps(test_rev, \"HOHOHO\"))"
   ]
  },
  {
   "cell_type": "code",
   "execution_count": 11,
   "metadata": {},
   "outputs": [
    {
     "name": "stdout",
     "output_type": "stream",
     "text": [
      "488\n"
     ]
    }
   ],
   "source": [
    "print(len(compound))\n",
    "min_steps(rev, compound, max_print_depth=100)"
   ]
  },
  {
   "cell_type": "markdown",
   "metadata": {},
   "source": [
    "Second Attempt: Build from beginning -- too much memory\n",
    "(probably also takes too long :D)"
   ]
  },
  {
   "cell_type": "code",
   "execution_count": 32,
   "metadata": {},
   "outputs": [],
   "source": [
    "def find_min( ops, goal_compound, max_iter=9999 ):\n",
    "    longest = 1\n",
    "    solved = set(ops['e'])\n",
    "    while True:\n",
    "        print(longest+1)\n",
    "        new_solved = set()\n",
    "        \n",
    "        # iterate all the longest chain reactions\n",
    "        for cmp in solved:\n",
    "            pos = 0\n",
    "            # for each of those chain rxns, iterate over the molecule and see its possibilities\n",
    "            while pos < len(cmp):\n",
    "                # get next element in compound\n",
    "                if pos+1 < len(cmp) and cmp[pos+1] == cmp[pos+1].lower():\n",
    "                    el_len = 2\n",
    "                else:\n",
    "                    el_len = 1\n",
    "                el = cmp[pos:pos+el_len]\n",
    "\n",
    "                if el in ops.keys():\n",
    "                    # add those next step chain rxns to our list\n",
    "                    for rxn in ops[el]:\n",
    "                        new_compound = cmp[:pos] + rxn + cmp[pos+el_len:]\n",
    "                        if new_compound == goal_compound:\n",
    "                            return longest + 1\n",
    "                        new_solved.add( new_compound )\n",
    "\n",
    "                pos = pos + el_len\n",
    "        solved = new_solved\n",
    "        longest += 1\n",
    "\n",
    "        if longest >= max_iter:\n",
    "            break\n",
    "\n",
    "    print(\"did not solve :(\")\n",
    "    return longest, solved"
   ]
  },
  {
   "cell_type": "code",
   "execution_count": 33,
   "metadata": {},
   "outputs": [
    {
     "name": "stdout",
     "output_type": "stream",
     "text": [
      "2\n",
      "3\n"
     ]
    },
    {
     "data": {
      "text/plain": [
       "3"
      ]
     },
     "execution_count": 33,
     "metadata": {},
     "output_type": "execute_result"
    }
   ],
   "source": [
    "find_min(test_ops, \"HOH\")"
   ]
  },
  {
   "cell_type": "code",
   "execution_count": 34,
   "metadata": {},
   "outputs": [
    {
     "name": "stdout",
     "output_type": "stream",
     "text": [
      "2\n",
      "3\n",
      "4\n",
      "5\n",
      "6\n"
     ]
    },
    {
     "data": {
      "text/plain": [
       "6"
      ]
     },
     "execution_count": 34,
     "metadata": {},
     "output_type": "execute_result"
    }
   ],
   "source": [
    "find_min(test_ops, \"HOHOHO\")"
   ]
  },
  {
   "cell_type": "code",
   "execution_count": 39,
   "metadata": {},
   "outputs": [
    {
     "name": "stdout",
     "output_type": "stream",
     "text": [
      "2\n",
      "3\n",
      "4\n",
      "5\n",
      "6\n",
      "7\n",
      "8\n",
      "9\n",
      "10\n"
     ]
    },
    {
     "ename": "",
     "evalue": "",
     "output_type": "error",
     "traceback": [
      "\u001b[1;31mCanceled future for execute_request message before replies were done"
     ]
    },
    {
     "ename": "",
     "evalue": "",
     "output_type": "error",
     "traceback": [
      "\u001b[1;31mThe Kernel crashed while executing code in the the current cell or a previous cell. Please review the code in the cell(s) to identify a possible cause of the failure. Click <a href='https://aka.ms/vscodeJupyterKernelCrash'>here</a> for more info. View Jupyter <a href='command:jupyter.viewOutput'>log</a> for further details."
     ]
    }
   ],
   "source": [
    "find_min(ops, compound, max_iter = 20)"
   ]
  },
  {
   "attachments": {},
   "cell_type": "markdown",
   "metadata": {},
   "source": [
    "Third Attempt:\n",
    "* CRn only occurs at beginning of compound\n",
    "* Nothing can transform to RnX\n",
    "* Rn always appears second on the rxn output\n",
    "* Rn does not transform\n",
    "* Reactions always add go from 1 element to 2 elements, except those that insert Rn\n",
    "\n",
    "Therefore:\n",
    "1. Once you have Rn...Rn, the stuff between the Rn's is independent of the rest of the compound\n",
    "2. And the last transformation to achieve WRnXZ will be ?Z -> WRnXZ,\n",
    "where W is the last element before the Rn, ? => WRnX, and Z is some unknown chain of elements\n",
    "\n",
    "Also C only appears as first element in the compound. We should probably work left-to-right on the sub-chains"
   ]
  },
  {
   "attachments": {},
   "cell_type": "markdown",
   "metadata": {},
   "source": [
    "## Notes\n",
    "\n",
    "1. Seed solution with one of the front reactions CRn*\n",
    "2. target is Rn(^Rn*)Rn\n",
    "3. tlen is len(target)"
   ]
  },
  {
   "cell_type": "code",
   "execution_count": 12,
   "metadata": {},
   "outputs": [
    {
     "data": {
      "text/plain": [
       "['C',\n",
       " 'Rn',\n",
       " 'Si',\n",
       " 'Rn',\n",
       " 'Ca',\n",
       " 'P',\n",
       " 'Ti',\n",
       " 'Mg',\n",
       " 'Y',\n",
       " 'Ca',\n",
       " 'P',\n",
       " 'Ti',\n",
       " 'Rn',\n",
       " 'F',\n",
       " 'Ar',\n",
       " 'Si',\n",
       " 'Th',\n",
       " 'F',\n",
       " 'Ar',\n",
       " 'Ca',\n",
       " 'Si',\n",
       " 'Th',\n",
       " 'Si',\n",
       " 'Th',\n",
       " 'P',\n",
       " 'B',\n",
       " 'Ca',\n",
       " 'Ca',\n",
       " 'Si',\n",
       " 'Rn',\n",
       " 'Si',\n",
       " 'Rn',\n",
       " 'Ti',\n",
       " 'Ti',\n",
       " 'Mg',\n",
       " 'Ar',\n",
       " 'P',\n",
       " 'B',\n",
       " 'Ca',\n",
       " 'P',\n",
       " 'Mg',\n",
       " 'Y',\n",
       " 'P',\n",
       " 'Ti',\n",
       " 'Rn',\n",
       " 'F',\n",
       " 'Ar',\n",
       " 'F',\n",
       " 'Ar',\n",
       " 'Ca',\n",
       " 'Si',\n",
       " 'Rn',\n",
       " 'B',\n",
       " 'P',\n",
       " 'Mg',\n",
       " 'Ar',\n",
       " 'P',\n",
       " 'Rn',\n",
       " 'Ca',\n",
       " 'P',\n",
       " 'Ti',\n",
       " 'Rn',\n",
       " 'F',\n",
       " 'Ar',\n",
       " 'Ca',\n",
       " 'Si',\n",
       " 'Th',\n",
       " 'Ca',\n",
       " 'Ca',\n",
       " 'F',\n",
       " 'Ar',\n",
       " 'P',\n",
       " 'B',\n",
       " 'Ca',\n",
       " 'Ca',\n",
       " 'P',\n",
       " 'Ti',\n",
       " 'Ti',\n",
       " 'Rn',\n",
       " 'F',\n",
       " 'Ar',\n",
       " 'Ca',\n",
       " 'Si',\n",
       " 'Rn',\n",
       " 'Si',\n",
       " 'Al',\n",
       " 'Y',\n",
       " 'Si',\n",
       " 'Th',\n",
       " 'Rn',\n",
       " 'F',\n",
       " 'Ar',\n",
       " 'Ar',\n",
       " 'Ca',\n",
       " 'Si',\n",
       " 'Rn',\n",
       " 'B',\n",
       " 'F',\n",
       " 'Ar',\n",
       " 'Ca',\n",
       " 'Ca',\n",
       " 'Si',\n",
       " 'Rn',\n",
       " 'Si',\n",
       " 'Th',\n",
       " 'Ca',\n",
       " 'Ca',\n",
       " 'Ca',\n",
       " 'F',\n",
       " 'Y',\n",
       " 'Ca',\n",
       " 'P',\n",
       " 'Ti',\n",
       " 'B',\n",
       " 'Ca',\n",
       " 'Si',\n",
       " 'Th',\n",
       " 'Ca',\n",
       " 'Si',\n",
       " 'Th',\n",
       " 'P',\n",
       " 'Mg',\n",
       " 'Ar',\n",
       " 'Si',\n",
       " 'Rn',\n",
       " 'Ca',\n",
       " 'P',\n",
       " 'B',\n",
       " 'F',\n",
       " 'Y',\n",
       " 'Ca',\n",
       " 'Ca',\n",
       " 'F',\n",
       " 'Ar',\n",
       " 'Ca',\n",
       " 'Ca',\n",
       " 'Ca',\n",
       " 'Ca',\n",
       " 'Si',\n",
       " 'Th',\n",
       " 'Ca',\n",
       " 'Si',\n",
       " 'Rn',\n",
       " 'P',\n",
       " 'Rn',\n",
       " 'F',\n",
       " 'Ar',\n",
       " 'P',\n",
       " 'B',\n",
       " 'Si',\n",
       " 'Th',\n",
       " 'P',\n",
       " 'Rn',\n",
       " 'F',\n",
       " 'Ar',\n",
       " 'Si',\n",
       " 'Rn',\n",
       " 'Mg',\n",
       " 'Ar',\n",
       " 'Ca',\n",
       " 'F',\n",
       " 'Y',\n",
       " 'F',\n",
       " 'Ar',\n",
       " 'Ca',\n",
       " 'Si',\n",
       " 'Rn',\n",
       " 'Si',\n",
       " 'Al',\n",
       " 'Ar',\n",
       " 'Ti',\n",
       " 'Ti',\n",
       " 'Ti',\n",
       " 'Ti',\n",
       " 'Ti',\n",
       " 'Ti',\n",
       " 'Ti',\n",
       " 'Rn',\n",
       " 'P',\n",
       " 'Mg',\n",
       " 'Ar',\n",
       " 'P',\n",
       " 'Ti',\n",
       " 'Ti',\n",
       " 'Ti',\n",
       " 'B',\n",
       " 'Si',\n",
       " 'Rn',\n",
       " 'Si',\n",
       " 'Al',\n",
       " 'Ar',\n",
       " 'Ti',\n",
       " 'Ti',\n",
       " 'Rn',\n",
       " 'P',\n",
       " 'Mg',\n",
       " 'Ar',\n",
       " 'Ca',\n",
       " 'F',\n",
       " 'Y',\n",
       " 'B',\n",
       " 'P',\n",
       " 'B',\n",
       " 'P',\n",
       " 'Ti',\n",
       " 'Rn',\n",
       " 'Si',\n",
       " 'Rn',\n",
       " 'Mg',\n",
       " 'Ar',\n",
       " 'Si',\n",
       " 'Th',\n",
       " 'Ca',\n",
       " 'F',\n",
       " 'Ar',\n",
       " 'Ca',\n",
       " 'Si',\n",
       " 'Th',\n",
       " 'F',\n",
       " 'Ar',\n",
       " 'P',\n",
       " 'Rn',\n",
       " 'F',\n",
       " 'Ar',\n",
       " 'Ca',\n",
       " 'Si',\n",
       " 'Rn',\n",
       " 'Ti',\n",
       " 'B',\n",
       " 'Si',\n",
       " 'Th',\n",
       " 'Si',\n",
       " 'Rn',\n",
       " 'Si',\n",
       " 'Al',\n",
       " 'Y',\n",
       " 'Ca',\n",
       " 'F',\n",
       " 'Ar',\n",
       " 'P',\n",
       " 'Rn',\n",
       " 'F',\n",
       " 'Ar',\n",
       " 'Si',\n",
       " 'Th',\n",
       " 'Ca',\n",
       " 'F',\n",
       " 'Ar',\n",
       " 'Ca',\n",
       " 'Ca',\n",
       " 'Si',\n",
       " 'Th',\n",
       " 'Ca',\n",
       " 'Ca',\n",
       " 'Ca',\n",
       " 'Si',\n",
       " 'Rn',\n",
       " 'P',\n",
       " 'Rn',\n",
       " 'Ca',\n",
       " 'F',\n",
       " 'Ar',\n",
       " 'F',\n",
       " 'Y',\n",
       " 'P',\n",
       " 'Mg',\n",
       " 'Ar',\n",
       " 'Ca',\n",
       " 'P',\n",
       " 'B',\n",
       " 'Ca',\n",
       " 'P',\n",
       " 'B',\n",
       " 'Si',\n",
       " 'Rn',\n",
       " 'F',\n",
       " 'Y',\n",
       " 'P',\n",
       " 'B',\n",
       " 'Ca',\n",
       " 'F',\n",
       " 'Ar',\n",
       " 'Ca',\n",
       " 'Si',\n",
       " 'Al']"
      ]
     },
     "execution_count": 12,
     "metadata": {},
     "output_type": "execute_result"
    }
   ],
   "source": [
    "import re\n",
    "def listify_compound( cmp ):\n",
    "    return re.findall( \"[A-Z][a-z]?\", cmp )\n",
    "listify_compound( compound )\n"
   ]
  },
  {
   "cell_type": "code",
   "execution_count": 17,
   "metadata": {},
   "outputs": [
    {
     "name": "stdout",
     "output_type": "stream",
     "text": [
      "[['H', ['C', 'Rn', 'Al', 'Ar']], ['H', ['C', 'Rn', 'F', 'Y', 'F', 'Y', 'F', 'Ar']], ['H', ['C', 'Rn', 'F', 'Y', 'Mg', 'Ar']], ['H', ['C', 'Rn', 'Mg', 'Y', 'F', 'Ar']], ['N', ['C', 'Rn', 'F', 'Ar']], ['O', ['C', 'Rn', 'F', 'Y', 'F', 'Ar']], ['O', ['C', 'Rn', 'Mg', 'Ar']]]\n",
      "----\n",
      "[['Al', ['Th', 'Rn', 'F', 'Ar']], ['B', ['Ti', 'Rn', 'F', 'Ar']], ['Ca', ['P', 'Rn', 'F', 'Ar']], ['Ca', ['Si', 'Rn', 'F', 'Y', 'F', 'Ar']], ['Ca', ['Si', 'Rn', 'Mg', 'Ar']], ['H', ['N', 'Rn', 'F', 'Y', 'F', 'Ar']], ['H', ['N', 'Rn', 'Mg', 'Ar']], ['H', ['O', 'Rn', 'F', 'Ar']], ['O', ['N', 'Rn', 'F', 'Ar']], ['P', ['Si', 'Rn', 'F', 'Ar']]]\n",
      "----\n",
      "[['Al', ['Th', 'F']], ['B', ['B', 'Ca']], ['B', ['Ti', 'B']], ['Ca', ['Ca', 'Ca']], ['Ca', ['P', 'B']], ['Ca', ['Si', 'Th']], ['F', ['Ca', 'F']], ['F', ['P', 'Mg']], ['F', ['Si', 'Al']], ['H', ['H', 'Ca']], ['H', ['N', 'Th']], ['H', ['O', 'B']], ['Mg', ['B', 'F']], ['Mg', ['Ti', 'Mg']], ['N', ['H', 'Si']], ['O', ['H', 'P']], ['O', ['O', 'Ti']], ['P', ['Ca', 'P']], ['P', ['P', 'Ti']], ['Si', ['Ca', 'Si']], ['Th', ['Th', 'Ca']], ['Ti', ['B', 'P']], ['Ti', ['Ti', 'Ti']], ['e', ['H', 'F']], ['e', ['N', 'Al']], ['e', ['O', 'Mg']]]\n"
     ]
    }
   ],
   "source": [
    "start_ops = []\n",
    "end_ops = []\n",
    "mid_ops = []\n",
    "\n",
    "for k, v in ops.items():\n",
    "    for rxn in v:\n",
    "        rxn = listify_compound( rxn )\n",
    "        if rxn[0] == \"C\":\n",
    "            start_ops.append( [k, rxn] )\n",
    "        elif rxn[1] == \"Rn\":\n",
    "            end_ops.append( [k, rxn] )\n",
    "        else:\n",
    "            mid_ops.append( [k, rxn] )\n",
    "\n",
    "print( start_ops )\n",
    "print(\"----\")\n",
    "print(end_ops)\n",
    "print(\"----\")\n",
    "print(mid_ops)"
   ]
  },
  {
   "cell_type": "code",
   "execution_count": 20,
   "metadata": {},
   "outputs": [
    {
     "data": {
      "text/plain": [
       "False"
      ]
     },
     "execution_count": 20,
     "metadata": {},
     "output_type": "execute_result"
    }
   ],
   "source": [
    "x = [1,2,3]\n",
    "y = [1,1,2,3]\n",
    "x == y"
   ]
  },
  {
   "cell_type": "code",
   "execution_count": 41,
   "metadata": {},
   "outputs": [],
   "source": [
    "def mid_solve( have, want, mid_ops, return_ops = False ):\n",
    "    # figure out if operations can get from have to want without adding any more Rn\n",
    "    # returns None if impossible, or returns the operations to perform or just the number of ops depending on return_ops\n",
    "    # For numeric case, result should be None or len(want) - len(have)\n",
    "    \n",
    "    # trivial base case\n",
    "    if have == want:\n",
    "        if return_ops:\n",
    "            return []\n",
    "        else:\n",
    "            return 0\n",
    "    # each step increases length, so this is impossible\n",
    "    if len(have) == len(want):\n",
    "        return None\n",
    "\n",
    "    if have[0] != want[0]:\n",
    "        # we need to change the first element, so start with that\n",
    "        to_check = [op for op in mid_ops if op[0] == have[0]] # get all ops that xform the first elem of have\n",
    "        for op in to_check:\n",
    "            # see if we can solve after changing first element of have with the result of op\n",
    "            result = mid_solve( op[1] + have[1:], want, mid_ops, return_ops )\n",
    "            if result is not None:\n",
    "                if return_ops:\n",
    "                    return [op, *result]\n",
    "                else:\n",
    "                    return result + 1\n",
    "        # couldn't get there after fixing first element. oh well :(\n",
    "        return None\n",
    "\n",
    "    if have[-1] != want[-1]:\n",
    "        # we need to change the last element, so start with that\n",
    "        to_check = [op for op in mid_ops if op[0] == have[-1]] # get all ops that xform the last elem of have\n",
    "        for op in to_check:\n",
    "            # see if we can solve after changing last element of have with the result of op\n",
    "            result = mid_solve( have[:-1] + op[1], want, mid_ops, return_ops )\n",
    "            if result is not None:\n",
    "                if return_ops:\n",
    "                    return [op, *result]\n",
    "                else:\n",
    "                    return result + 1\n",
    "        # couldn't get there after fixing last element. oh well :(\n",
    "        return None\n",
    "\n",
    "    # first and last element are fine\n",
    "    # we could possible create more hard rules, but let's just brute force it from here\n",
    "    # we have to change at element, it could even be the first/last since some ops maintain the front element\n",
    "    for i, el in enumerate(have):\n",
    "        # test all substitutions of the ith element\n",
    "        to_check = [op for op in mid_ops if op[0] == el]\n",
    "        for op in to_check:\n",
    "            result = mid_solve( have[:i] + op[1] + have[i+1:], want, mid_ops, return_ops )\n",
    "            if result is not None:\n",
    "                if return_ops:\n",
    "                    return [op, *result]\n",
    "                else:\n",
    "                    return result + 1\n",
    "        # no luck, try subbing the next element\n",
    "    # end for\n",
    "\n",
    "    # We tried everything! This is impossible!\n",
    "    return None\n",
    "    \n",
    "\n",
    "\n",
    "    "
   ]
  },
  {
   "cell_type": "code",
   "execution_count": 48,
   "metadata": {},
   "outputs": [
    {
     "name": "stdout",
     "output_type": "stream",
     "text": [
      "[['F', ['P', 'Mg']]]\n",
      "[['Mg', ['Ti', 'Mg']]]\n",
      "[['F', ['P', 'Mg']], ['Mg', ['B', 'F']], ['P', ['P', 'Ti']], ['P', ['P', 'Ti']]]\n",
      "None\n",
      "8\n",
      "None\n"
     ]
    }
   ],
   "source": [
    "inp = [\"F\", \"Y\", \"Mg\"]\n",
    "out = [\"P\", \"Ti\", \"Ti\", \"Mg\", \"Y\", \"B\", \"F\"]\n",
    "print( mid_solve( inp, [\"P\", \"Mg\", \"Y\", \"Mg\"], mid_ops, return_ops = True ) )\n",
    "print( mid_solve( inp, [\"F\", \"Y\", \"Ti\", \"Mg\"], mid_ops, return_ops = True ) )\n",
    "print( mid_solve(inp, out, mid_ops, return_ops = True) )\n",
    "print( mid_solve(inp, out[:len(inp)], mid_ops) )\n",
    "\n",
    "print( mid_solve( inp, [\"Ca\"]*8 + inp, mid_ops) )\n",
    "print( mid_solve( inp, [\"Mg\"] + [\"Ca\"]*8 + inp, mid_ops) )"
   ]
  },
  {
   "cell_type": "code",
   "execution_count": 8,
   "metadata": {},
   "outputs": [],
   "source": [
    "current = \"AlAr\"\n",
    "goal = \"SiRn\"\n",
    "last = \"Si\"\n",
    "goal1 = [ key for key in ops.keys() if any([ last + \"Rn\" == v[:len(last)+2] for v in ops[key]]) ]\n"
   ]
  },
  {
   "cell_type": "code",
   "execution_count": 7,
   "metadata": {},
   "outputs": [
    {
     "data": {
      "text/plain": [
       "True"
      ]
     },
     "execution_count": 7,
     "metadata": {},
     "output_type": "execute_result"
    }
   ],
   "source": [
    "keys for any([\"Si\" + \"Rn\" == v[:4] for v in ops[\"P\"]])"
   ]
  },
  {
   "cell_type": "code",
   "execution_count": 9,
   "metadata": {},
   "outputs": [
    {
     "data": {
      "text/plain": [
       "['Ca', 'P']"
      ]
     },
     "execution_count": 9,
     "metadata": {},
     "output_type": "execute_result"
    }
   ],
   "source": [
    "goal1"
   ]
  },
  {
   "cell_type": "code",
   "execution_count": 23,
   "metadata": {},
   "outputs": [
    {
     "name": "stdout",
     "output_type": "stream",
     "text": [
      "SiRn\n"
     ]
    }
   ],
   "source": [
    "import re\n",
    "# could switch to lists of elements, but ehhh\n",
    "target = \"SiRn\"\n",
    "end = target[-3:] if target[-3] == target[-3].upper() else target[-4:]\n",
    "\n",
    "end_len = len(target)\n",
    "\n",
    "possibles = [key for key in ops.keys() if any( [rxn[:end_len] == end for rxn in ops[key][:end_len]] ) ]\n",
    "\n",
    "\n",
    "#end = re.match(r\"(.*Rn)\", target).groups(1)\n",
    "print(end)\n",
    "#solutions = [key in ops.keys() if ops[key]]\n",
    "#start = []"
   ]
  },
  {
   "cell_type": "code",
   "execution_count": 22,
   "metadata": {},
   "outputs": [
    {
     "data": {
      "text/plain": [
       "['Ca', 'P']"
      ]
     },
     "execution_count": 22,
     "metadata": {},
     "output_type": "execute_result"
    }
   ],
   "source": [
    "possibles"
   ]
  },
  {
   "cell_type": "code",
   "execution_count": 20,
   "metadata": {},
   "outputs": [
    {
     "data": {
      "text/plain": [
       "{'Al': ['ThF', 'ThRnFAr'],\n",
       " 'B': ['BCa', 'TiB', 'TiRnFAr'],\n",
       " 'Ca': ['CaCa', 'PB', 'PRnFAr', 'SiRnFYFAr', 'SiRnMgAr', 'SiTh'],\n",
       " 'F': ['CaF', 'PMg', 'SiAl'],\n",
       " 'H': ['CRnAlAr',\n",
       "  'CRnFYFYFAr',\n",
       "  'CRnFYMgAr',\n",
       "  'CRnMgYFAr',\n",
       "  'HCa',\n",
       "  'NRnFYFAr',\n",
       "  'NRnMgAr',\n",
       "  'NTh',\n",
       "  'OB',\n",
       "  'ORnFAr'],\n",
       " 'Mg': ['BF', 'TiMg'],\n",
       " 'N': ['CRnFAr', 'HSi'],\n",
       " 'O': ['CRnFYFAr', 'CRnMgAr', 'HP', 'NRnFAr', 'OTi'],\n",
       " 'P': ['CaP', 'PTi', 'SiRnFAr'],\n",
       " 'Si': ['CaSi'],\n",
       " 'Th': ['ThCa'],\n",
       " 'Ti': ['BP', 'TiTi'],\n",
       " 'e': ['HF', 'NAl', 'OMg']}"
      ]
     },
     "execution_count": 20,
     "metadata": {},
     "output_type": "execute_result"
    }
   ],
   "source": [
    "ops"
   ]
  }
 ],
 "metadata": {
  "kernelspec": {
   "display_name": "Python 3.10.4 64-bit",
   "language": "python",
   "name": "python3"
  },
  "language_info": {
   "codemirror_mode": {
    "name": "ipython",
    "version": 3
   },
   "file_extension": ".py",
   "mimetype": "text/x-python",
   "name": "python",
   "nbconvert_exporter": "python",
   "pygments_lexer": "ipython3",
   "version": "3.10.4"
  },
  "orig_nbformat": 4,
  "vscode": {
   "interpreter": {
    "hash": "3ad933181bd8a04b432d3370b9dc3b0662ad032c4dfaa4e4f1596c548f763858"
   }
  }
 },
 "nbformat": 4,
 "nbformat_minor": 2
}
