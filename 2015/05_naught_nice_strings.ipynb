{
 "cells": [
  {
   "attachments": {},
   "cell_type": "markdown",
   "metadata": {},
   "source": [
    "# December 05, 2022\n",
    "https://adventofcode.com/2015/day/5"
   ]
  },
  {
   "cell_type": "code",
   "execution_count": 6,
   "metadata": {},
   "outputs": [],
   "source": [
    "import re"
   ]
  },
  {
   "cell_type": "code",
   "execution_count": 7,
   "metadata": {},
   "outputs": [],
   "source": [
    "fn = \"data/05.txt\"\n",
    "with open(fn, \"r\") as f:\n",
    "    input = f.readlines()\n",
    "    input = [x.strip() for x in input]\n"
   ]
  },
  {
   "cell_type": "markdown",
   "metadata": {},
   "source": [
    "### Part 1"
   ]
  },
  {
   "cell_type": "code",
   "execution_count": 24,
   "metadata": {},
   "outputs": [],
   "source": [
    "def test1a( word ):\n",
    "    # at least three vowels (aeiou)\n",
    "    return re.search( r'[aeiou].*[aeiou].*[aeiou]', word) is not None\n",
    "\n",
    "def test1b( word ):\n",
    "    # must have double letter\n",
    "    return re.search( r'(\\w)\\1', word ) is not None\n",
    "\n",
    "def test1c( word ):\n",
    "    # must not contain ab, cd, pq, or xy\n",
    "    return re.search( r'ab|cd|pq|xy', word) is None\n",
    "\n",
    "def test1( word ):\n",
    "    return test1a(word) and test1b(word) and test1c(word)"
   ]
  },
  {
   "cell_type": "code",
   "execution_count": 25,
   "metadata": {},
   "outputs": [
    {
     "data": {
      "text/plain": [
       "255"
      ]
     },
     "execution_count": 25,
     "metadata": {},
     "output_type": "execute_result"
    }
   ],
   "source": [
    "len( [x for x in input if test1(x)] )"
   ]
  },
  {
   "cell_type": "markdown",
   "metadata": {},
   "source": [
    "### Part 2"
   ]
  },
  {
   "cell_type": "code",
   "execution_count": 31,
   "metadata": {},
   "outputs": [],
   "source": [
    "def test2a( word ):\n",
    "    # at least one pair of letters that repeats without overlapping\n",
    "    return re.search( r'(\\w\\w).*\\1', word) is not None\n",
    "\n",
    "def test2b( word ):\n",
    "    # must have double letter separated by exactly one letter\n",
    "    return re.search( r'(\\w)\\w\\1', word ) is not None\n",
    "\n",
    "def test2( word ):\n",
    "    return test2a(word) and test2b(word)"
   ]
  },
  {
   "cell_type": "code",
   "execution_count": 32,
   "metadata": {},
   "outputs": [
    {
     "data": {
      "text/plain": [
       "55"
      ]
     },
     "execution_count": 32,
     "metadata": {},
     "output_type": "execute_result"
    }
   ],
   "source": [
    "len( [x for x in input if test2(x)] )"
   ]
  }
 ],
 "metadata": {
  "kernelspec": {
   "display_name": "Python 3.10.4 64-bit",
   "language": "python",
   "name": "python3"
  },
  "language_info": {
   "codemirror_mode": {
    "name": "ipython",
    "version": 3
   },
   "file_extension": ".py",
   "mimetype": "text/x-python",
   "name": "python",
   "nbconvert_exporter": "python",
   "pygments_lexer": "ipython3",
   "version": "3.10.4"
  },
  "orig_nbformat": 4,
  "vscode": {
   "interpreter": {
    "hash": "3ad933181bd8a04b432d3370b9dc3b0662ad032c4dfaa4e4f1596c548f763858"
   }
  }
 },
 "nbformat": 4,
 "nbformat_minor": 2
}
