{
 "cells": [
  {
   "attachments": {},
   "cell_type": "markdown",
   "metadata": {},
   "source": [
    "# December 04, 2022\n",
    "https://adventofcode.com/2015/day/4"
   ]
  },
  {
   "cell_type": "code",
   "execution_count": 15,
   "metadata": {},
   "outputs": [
    {
     "name": "stdout",
     "output_type": "stream",
     "text": [
      "Solved part1: 117946\n",
      "Solved part2: 3938038\n"
     ]
    }
   ],
   "source": [
    "prefix = \"ckczppom\"\n",
    "\n",
    "import hashlib\n",
    "\n",
    "i = 1\n",
    "part1 = None\n",
    "part2 = None\n",
    "while True:\n",
    "    hash = hashlib.md5( (prefix + str(i)).encode() ).hexdigest()\n",
    "    if hash[:5] == \"00000\":\n",
    "        if part1 is None:\n",
    "            print(\"Solved part1:\", i)\n",
    "            part1 = i\n",
    "    if hash[:6] == \"000000\":\n",
    "        # part1 solved first, so we know part2 not solved if we're still iterating\n",
    "        print(\"Solved part2:\", i)\n",
    "        part2 = i\n",
    "        break\n",
    "    i += 1"
   ]
  },
  {
   "cell_type": "code",
   "execution_count": null,
   "metadata": {},
   "outputs": [],
   "source": []
  }
 ],
 "metadata": {
  "kernelspec": {
   "display_name": "Python 3.10.4 64-bit",
   "language": "python",
   "name": "python3"
  },
  "language_info": {
   "codemirror_mode": {
    "name": "ipython",
    "version": 3
   },
   "file_extension": ".py",
   "mimetype": "text/x-python",
   "name": "python",
   "nbconvert_exporter": "python",
   "pygments_lexer": "ipython3",
   "version": "3.10.4"
  },
  "orig_nbformat": 4,
  "vscode": {
   "interpreter": {
    "hash": "3ad933181bd8a04b432d3370b9dc3b0662ad032c4dfaa4e4f1596c548f763858"
   }
  }
 },
 "nbformat": 4,
 "nbformat_minor": 2
}
