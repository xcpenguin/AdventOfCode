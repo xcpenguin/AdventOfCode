{
 "cells": [
  {
   "attachments": {},
   "cell_type": "markdown",
   "metadata": {},
   "source": [
    "# December 03, 2015\n",
    "https://adventofcode.com/2015/day/3"
   ]
  },
  {
   "cell_type": "code",
   "execution_count": 2,
   "metadata": {},
   "outputs": [],
   "source": [
    "fn = \"data/03.txt\"\n",
    "with open(fn, \"r\") as f:\n",
    "    input = f.readline()"
   ]
  },
  {
   "cell_type": "markdown",
   "metadata": {},
   "source": [
    "### Part 1"
   ]
  },
  {
   "cell_type": "code",
   "execution_count": 19,
   "metadata": {},
   "outputs": [],
   "source": [
    "pos_list = [[0,0]]\n",
    "\n",
    "for char in input:\n",
    "    pos = pos_list[-1].copy()\n",
    "    if char == \"^\":\n",
    "        pos[1] += 1\n",
    "    elif char == \"v\":\n",
    "        pos[1] -= 1\n",
    "    elif char == \"<\":\n",
    "        pos[0] -= 1\n",
    "    elif char == \">\":\n",
    "        pos[0] += 1\n",
    "    pos_list.append(pos)\n"
   ]
  },
  {
   "cell_type": "code",
   "execution_count": 20,
   "metadata": {},
   "outputs": [
    {
     "data": {
      "text/plain": [
       "2565"
      ]
     },
     "execution_count": 20,
     "metadata": {},
     "output_type": "execute_result"
    }
   ],
   "source": [
    "uniq_pos = set( [f\"{pos[0]},{pos[1]}\" for pos in pos_list] )\n",
    "len(uniq_pos)"
   ]
  },
  {
   "cell_type": "markdown",
   "metadata": {},
   "source": [
    "### Part 2"
   ]
  },
  {
   "cell_type": "code",
   "execution_count": 22,
   "metadata": {},
   "outputs": [],
   "source": [
    "santa_list = [[0,0]]\n",
    "bot_list = [[0,0]]\n",
    "who = \"santa\"\n",
    "\n",
    "for char in input:\n",
    "    if who == \"santa\":\n",
    "        pos_list = santa_list\n",
    "        who = \"bot\"\n",
    "    else:\n",
    "        pos_list = bot_list\n",
    "        who = \"santa\"\n",
    "        \n",
    "    pos = pos_list[-1].copy()\n",
    "    if char == \"^\":\n",
    "        pos[1] += 1\n",
    "    elif char == \"v\":\n",
    "        pos[1] -= 1\n",
    "    elif char == \"<\":\n",
    "        pos[0] -= 1\n",
    "    elif char == \">\":\n",
    "        pos[0] += 1\n",
    "    pos_list.append(pos)\n"
   ]
  },
  {
   "cell_type": "code",
   "execution_count": 25,
   "metadata": {},
   "outputs": [
    {
     "data": {
      "text/plain": [
       "2639"
      ]
     },
     "execution_count": 25,
     "metadata": {},
     "output_type": "execute_result"
    }
   ],
   "source": [
    "len(set( [f\"{pos[0]},{pos[1]}\" for pos in santa_list + bot_list] ))"
   ]
  }
 ],
 "metadata": {
  "kernelspec": {
   "display_name": "Python 3.10.4 64-bit",
   "language": "python",
   "name": "python3"
  },
  "language_info": {
   "codemirror_mode": {
    "name": "ipython",
    "version": 3
   },
   "file_extension": ".py",
   "mimetype": "text/x-python",
   "name": "python",
   "nbconvert_exporter": "python",
   "pygments_lexer": "ipython3",
   "version": "3.10.4"
  },
  "orig_nbformat": 4,
  "vscode": {
   "interpreter": {
    "hash": "3ad933181bd8a04b432d3370b9dc3b0662ad032c4dfaa4e4f1596c548f763858"
   }
  }
 },
 "nbformat": 4,
 "nbformat_minor": 2
}
