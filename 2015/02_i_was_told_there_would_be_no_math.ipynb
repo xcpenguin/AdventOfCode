{
 "cells": [
  {
   "attachments": {},
   "cell_type": "markdown",
   "metadata": {},
   "source": [
    "# December 02, 2015\n",
    "https://adventofcode.com/2015/day/2"
   ]
  },
  {
   "cell_type": "code",
   "execution_count": 1,
   "metadata": {},
   "outputs": [],
   "source": [
    "import pandas as pd"
   ]
  },
  {
   "cell_type": "code",
   "execution_count": 1,
   "metadata": {},
   "outputs": [],
   "source": [
    "specs = []\n",
    "with open(\"../data/2015/02.txt\", \"r\") as f:\n",
    "    while True:\n",
    "        line = f.readline()\n",
    "        if not line:\n",
    "            break\n",
    "        specs.append( [int(y) for y in line.strip().split(\"x\")] )"
   ]
  },
  {
   "cell_type": "markdown",
   "metadata": {},
   "source": [
    "### Part 1"
   ]
  },
  {
   "cell_type": "code",
   "execution_count": null,
   "metadata": {},
   "outputs": [],
   "source": [
    "specs = pd.DataFrame(specs, columns=[\"l\", \"w\", \"h\"])\n",
    "specs[\"lw\"] = specs[\"l\"]*specs[\"w\"]\n",
    "specs[\"lh\"] = specs[\"l\"]*specs[\"h\"]\n",
    "specs[\"wh\"] = specs[\"w\"]*specs[\"h\"]\n",
    "specs[\"min\"] = specs[[\"lw\", \"lh\", \"wh\"]].apply(min, axis=1)\n",
    "specs[\"need\"] = 2*(specs[\"lw\"] + specs[\"lh\"] + specs[\"wh\"]) + specs[\"min\"]"
   ]
  },
  {
   "cell_type": "code",
   "execution_count": 28,
   "metadata": {},
   "outputs": [
    {
     "data": {
      "text/plain": [
       "1606483"
      ]
     },
     "execution_count": 28,
     "metadata": {},
     "output_type": "execute_result"
    }
   ],
   "source": [
    "sum(specs[\"need\"])"
   ]
  },
  {
   "cell_type": "markdown",
   "metadata": {},
   "source": [
    "### Part 2"
   ]
  },
  {
   "cell_type": "code",
   "execution_count": null,
   "metadata": {},
   "outputs": [],
   "source": [
    "specs[\"max_dim\"] = specs[[\"l\", \"w\", \"h\"]].apply(max, axis=1)\n",
    "specs[\"min_perim\"] = 2*(specs[\"l\"] + specs[\"w\"] + specs[\"h\"] - specs[\"max_dim\"])\n",
    "specs[\"vol\"] = specs[\"l\"] * specs[\"w\"] * specs[\"h\"]\n",
    "specs[\"ribbon\"] = specs[\"min_perim\"] + specs[\"vol\"]"
   ]
  },
  {
   "cell_type": "code",
   "execution_count": 30,
   "metadata": {},
   "outputs": [
    {
     "data": {
      "text/plain": [
       "3842356"
      ]
     },
     "execution_count": 30,
     "metadata": {},
     "output_type": "execute_result"
    }
   ],
   "source": [
    "sum(specs[\"ribbon\"])"
   ]
  }
 ],
 "metadata": {
  "kernelspec": {
   "display_name": "Python 3.10.4 64-bit",
   "language": "python",
   "name": "python3"
  },
  "language_info": {
   "codemirror_mode": {
    "name": "ipython",
    "version": 3
   },
   "file_extension": ".py",
   "mimetype": "text/x-python",
   "name": "python",
   "nbconvert_exporter": "python",
   "pygments_lexer": "ipython3",
   "version": "3.7.3"
  },
  "orig_nbformat": 4,
  "vscode": {
   "interpreter": {
    "hash": "3ad933181bd8a04b432d3370b9dc3b0662ad032c4dfaa4e4f1596c548f763858"
   }
  }
 },
 "nbformat": 4,
 "nbformat_minor": 2
}
