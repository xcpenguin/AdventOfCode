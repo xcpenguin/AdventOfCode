{
 "cells": [
  {
   "attachments": {},
   "cell_type": "markdown",
   "metadata": {},
   "source": [
    "# December 04, 2024\n",
    "\n",
    "https://adventofcode.com/2024/day/04"
   ]
  },
  {
   "cell_type": "code",
   "execution_count": 1,
   "metadata": {},
   "outputs": [],
   "source": [
    "test = f'''MMMSXXMASM\n",
    "MSAMXMSMSA\n",
    "AMXSXMAAMM\n",
    "MSAMASMSMX\n",
    "XMASAMXAMM\n",
    "XXAMMXXAMA\n",
    "SMSMSASXSS\n",
    "SAXAMASAAA\n",
    "MAMMMXMMMM\n",
    "MXMXAXMASX'''\n",
    "\n",
    "test = test.split(\"\\n\")"
   ]
  },
  {
   "cell_type": "code",
   "execution_count": 2,
   "metadata": {},
   "outputs": [],
   "source": [
    "fn = \"../data/2024/04.txt\"\n",
    "with open(fn, \"r\") as file:\n",
    "    text = file.readlines()\n",
    "puzz = [line.strip() for line in text]"
   ]
  },
  {
   "cell_type": "markdown",
   "metadata": {},
   "source": [
    "# Part 1"
   ]
  },
  {
   "cell_type": "code",
   "execution_count": 4,
   "metadata": {},
   "outputs": [],
   "source": [
    "def search_grid( lines, verbose=False ):\n",
    "    count = 0\n",
    "    w = len(lines[0])\n",
    "\n",
    "    # boundary dashes prevent finding a false horizontal that actually spans two consecutive lines\n",
    "    # in retrospect, this didn't help much and is a bit confusing. haha\n",
    "    S = \"-\".join(lines)\n",
    "    nc = len(S)\n",
    "    \n",
    "    #\n",
    "    vert = w+1\n",
    "    nesw = w+2\n",
    "    nwse = w\n",
    "    \n",
    "\n",
    "\n",
    "\n",
    "    for i,c in enumerate(S):\n",
    "        if c == \"X\":\n",
    "            # right\n",
    "            if i < len(S) - 4 and S[i:(i+4)] == \"XMAS\":\n",
    "                if verbose:\n",
    "                    print(i, \"right\")\n",
    "                count += 1\n",
    "            # left\n",
    "            if i>=3 and S[(i-3):(i+1)] == \"SAMX\":\n",
    "                if verbose:\n",
    "                    print(i, \"left\")\n",
    "                count += 1\n",
    "            # up\n",
    "            if i>=3*vert and (S[i-vert] == \"M\") and (S[i-2*vert] == \"A\") and (S[i-3*vert]==\"S\"):\n",
    "                if verbose:\n",
    "                    print(i, \"up\")\n",
    "                count += 1\n",
    "            # down\n",
    "            if i < len(S)-3*vert and (S[i+vert] == \"M\") and (S[i+2*vert] == \"A\") and (S[i+3*vert]==\"S\"):\n",
    "                if verbose:\n",
    "                    print(i, \"down\")\n",
    "                count += 1\n",
    "            # upleft\n",
    "            if i >= 3*nesw and (S[i-nesw] == \"M\") and (S[i-2*nesw] == \"A\") and (S[i-3*nesw]==\"S\"):\n",
    "                if verbose:\n",
    "                    print(i, \"up-left\")\n",
    "                count += 1\n",
    "            # downright\n",
    "            if i < len(S) - 3*nesw and (S[i+nesw] == \"M\") and (S[i+2*nesw] == \"A\") and (S[i+3*nesw]==\"S\"):\n",
    "                if verbose:\n",
    "                    print(i, \"down-right\")\n",
    "                count += 1\n",
    "            # upright\n",
    "            if i >= 3*nwse and (S[i-nwse] == \"M\") and (S[i-2*nwse] == \"A\") and (S[i-3*nwse]==\"S\"):\n",
    "                if verbose:\n",
    "                    print(i, \"up-right\")\n",
    "                count += 1\n",
    "            # downleft\n",
    "            if i < len(S) - 3*nwse and (S[i+nwse] == \"M\") and (S[i+2*nwse] == \"A\") and (S[i+3*nwse]==\"S\"):\n",
    "                if verbose:\n",
    "                    print(i, \"down-left\")\n",
    "                count += 1\n",
    "\n",
    "    return count\n"
   ]
  },
  {
   "cell_type": "code",
   "execution_count": 5,
   "metadata": {},
   "outputs": [
    {
     "name": "stdout",
     "output_type": "stream",
     "text": [
      "4 down-right\n",
      "5 right\n",
      "15 left\n",
      "42 down\n",
      "42 down-left\n",
      "44 right\n",
      "50 left\n",
      "50 up\n",
      "55 up-right\n",
      "61 up-left\n",
      "100 up-right\n",
      "102 up-left\n",
      "102 up-right\n",
      "104 right\n",
      "104 up-left\n",
      "104 up-right\n",
      "108 up\n",
      "108 up-left\n"
     ]
    },
    {
     "data": {
      "text/plain": [
       "18"
      ]
     },
     "execution_count": 5,
     "metadata": {},
     "output_type": "execute_result"
    }
   ],
   "source": [
    "search_grid(test, True)"
   ]
  },
  {
   "cell_type": "code",
   "execution_count": 6,
   "metadata": {},
   "outputs": [
    {
     "data": {
      "text/plain": [
       "2557"
      ]
     },
     "execution_count": 6,
     "metadata": {},
     "output_type": "execute_result"
    }
   ],
   "source": [
    "search_grid(puzz)"
   ]
  },
  {
   "cell_type": "markdown",
   "metadata": {},
   "source": [
    "# Part 2"
   ]
  },
  {
   "cell_type": "code",
   "execution_count": 26,
   "metadata": {},
   "outputs": [],
   "source": [
    "def search_grid2( lines, verbose=False ):\n",
    "    count = 0\n",
    "    w = len(lines[0])\n",
    "\n",
    "    for i in range( 1, (len(lines)-1) ):\n",
    "        for j in range( 1, (len(lines[0])-1) ):\n",
    "            nesw = nwse = False\n",
    "            if lines[i][j] == \"A\":\n",
    "                if verbose:\n",
    "                    print(i,j,  lines[i-1][(j-1):(j+2)], lines[i][(j-1):(j+2)], lines[i+1][(j-1):(j+2)])\n",
    "                if (\n",
    "                    (lines[i-1][j-1] == \"M\" and lines[i+1][j+1] == \"S\") or\n",
    "                    (lines[i+1][j+1] == \"M\" and lines[i-1][j-1] == \"S\")\n",
    "                ):\n",
    "                    nesw = True\n",
    "                if (\n",
    "                    (lines[i-1][j+1] == \"M\" and lines[i+1][j-1] == \"S\") or\n",
    "                    (lines[i+1][j-1] == \"M\" and lines[i-1][j+1] == \"S\")\n",
    "                ):\n",
    "                    nwse = True\n",
    "                if verbose:\n",
    "                    print(nesw, nwse)\n",
    "                \n",
    "                count += nesw*nwse\n",
    "\n",
    "    return count\n"
   ]
  },
  {
   "cell_type": "code",
   "execution_count": 27,
   "metadata": {},
   "outputs": [
    {
     "data": {
      "text/plain": [
       "9"
      ]
     },
     "execution_count": 27,
     "metadata": {},
     "output_type": "execute_result"
    }
   ],
   "source": [
    "search_grid2(test)"
   ]
  },
  {
   "cell_type": "code",
   "execution_count": 28,
   "metadata": {},
   "outputs": [
    {
     "data": {
      "text/plain": [
       "1854"
      ]
     },
     "execution_count": 28,
     "metadata": {},
     "output_type": "execute_result"
    }
   ],
   "source": [
    "search_grid2(puzz)"
   ]
  },
  {
   "cell_type": "code",
   "execution_count": null,
   "metadata": {},
   "outputs": [],
   "source": []
  }
 ],
 "metadata": {
  "kernelspec": {
   "display_name": "Python 3",
   "language": "python",
   "name": "python3"
  },
  "language_info": {
   "codemirror_mode": {
    "name": "ipython",
    "version": 3
   },
   "file_extension": ".py",
   "mimetype": "text/x-python",
   "name": "python",
   "nbconvert_exporter": "python",
   "pygments_lexer": "ipython3",
   "version": "3.11.9"
  },
  "orig_nbformat": 4
 },
 "nbformat": 4,
 "nbformat_minor": 2
}
