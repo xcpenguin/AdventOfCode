{
 "cells": [
  {
   "attachments": {},
   "cell_type": "markdown",
   "metadata": {},
   "source": [
    "# December 21, 2024\n",
    "\n",
    "https://adventofcode.com/2024/day/21"
   ]
  },
  {
   "cell_type": "code",
   "execution_count": 1,
   "metadata": {},
   "outputs": [],
   "source": [
    "# abstract base classes\n",
    "import abc"
   ]
  },
  {
   "cell_type": "code",
   "execution_count": 2,
   "metadata": {},
   "outputs": [],
   "source": [
    "DEBUG = False\n",
    "def dprint( *args ):\n",
    "    if DEBUG:\n",
    "        return print(*args)\n"
   ]
  },
  {
   "cell_type": "code",
   "execution_count": 4,
   "metadata": {},
   "outputs": [],
   "source": [
    "test_str = f'''029A\n",
    "980A\n",
    "179A\n",
    "456A\n",
    "379A'''\n",
    "test = [x.strip() for x in test_str.split(\"\\n\")]"
   ]
  },
  {
   "cell_type": "code",
   "execution_count": 5,
   "metadata": {},
   "outputs": [],
   "source": [
    "fn = \"../data/2024/21.txt\"\n",
    "with open(fn, \"r\") as file:\n",
    "    text = file.readlines()\n",
    "puzz = [x.strip() for x in text]"
   ]
  },
  {
   "cell_type": "markdown",
   "metadata": {},
   "source": [
    "Numeric:\n",
    "```\n",
    "+---+---+---+  \n",
    "| 7 | 8 | 9 |  \n",
    "+---+---+---+  \n",
    "| 4 | 5 | 6 |  \n",
    "+---+---+---+  \n",
    "| 1 | 2 | 3 |  \n",
    "+---+---+---+  \n",
    "    | 0 | A |  \n",
    "    +---+---+  \n",
    "```\n",
    "\n",
    "Directional\n",
    "```\n",
    "    +---+---+  \n",
    "    | ^ | A |  \n",
    "+---+---+---+  \n",
    "| < | v | > |  \n",
    "+---+---+---+  \n",
    "```"
   ]
  },
  {
   "cell_type": "markdown",
   "metadata": {},
   "source": [
    "# Part 1"
   ]
  },
  {
   "cell_type": "code",
   "execution_count": 6,
   "metadata": {},
   "outputs": [],
   "source": [
    "class Robot(metaclass=abc.ABCMeta):\n",
    "# directional\n",
    "\n",
    "    @abc.abstractmethod\n",
    "    def __init__(self, keypad=None):\n",
    "        self.keypad = keypad\n",
    "\n",
    "    def paths(self, btn0, btn1):\n",
    "        '''find all relevant paths from btn0 to btn1'''\n",
    "        # assumes that the gap is in a corner\n",
    "        # there's no use mixing up horizontals and verticals because it will make the next level up more expensive\n",
    "\n",
    "        # first find x and y locs\n",
    "        y0, x0 = self.keypad[btn0]\n",
    "        y1, x1 = self.keypad[btn1]\n",
    "        ygap, xgap = self.keypad[\"X\"]\n",
    "\n",
    "        # figure out the horizontal and vertical moves needed\n",
    "        dx = x0 - x1\n",
    "        dy = y0 - y1\n",
    "\n",
    "        if dx < 0:\n",
    "            hor = '>' * abs(dx)\n",
    "        else:\n",
    "            hor = '<' * abs(dx)\n",
    "        if dy < 0:\n",
    "            ver = 'v' * abs(dy)\n",
    "        else:\n",
    "            ver = '^' * abs(dy)\n",
    "\n",
    "        # if staying same row or same col, then only one type of move needed\n",
    "        if dx == 0:\n",
    "            return [ver]\n",
    "        if dy == 0:\n",
    "           return [hor]\n",
    "\n",
    "        # otherwise, determine if the gap forces a particular path\n",
    "        if ygap == y0 and xgap == x1:\n",
    "            paths = [ver + hor]\n",
    "        elif ygap == y1 and xgap == x0:\n",
    "            paths = [hor + ver]\n",
    "        # gap won't get in way, so we can go ver then hor or vice versa\n",
    "        # prioritize ^ or >, then v, then < to be last, since they are closer to the A button for the supervising robot\n",
    "        else:\n",
    "            #paths = [ver + hor, hor + ver]\n",
    "            if dy > 0: # ^\n",
    "                if dx < 0: # ^ and > which tie, so it's arbitrary\n",
    "                    paths = [ver + hor]#, hor + ver]\n",
    "                else: # < before v\n",
    "                    paths = [hor + ver]\n",
    "            else: # v\n",
    "                if dx < 0: # > after v\n",
    "                    paths = [ver + hor]\n",
    "                else: # < before v\n",
    "                    paths = [hor + ver]\n",
    "\n",
    "\n",
    "        return paths\n",
    "    \n",
    "    def len_seq_path( self, seq ):\n",
    "        all_paths = self.seq_path( seq )\n",
    "        return min( [len(x) for x in all_paths] )\n",
    "    \n",
    "\n",
    "class Dirbot(Robot):\n",
    "    def __init__(self):\n",
    "        #keypad = [['7','8','9'],['4','5','6'],['1','2','3'],['X', '0', 'A']]\n",
    "        keypad = {\n",
    "            'X': [0,0],\n",
    "            '^': [0,1],\n",
    "            'A': [0,2],\n",
    "            '<': [1,0],\n",
    "            'v': [1,1],\n",
    "            '>': [1,2]\n",
    "        }\n",
    "        \n",
    "        super(Dirbot, self).__init__(keypad)\n",
    "\n",
    "    def seq_path( self, seq ):\n",
    "        child_paths = self.child.seq_path( seq )\n",
    "\n",
    "        all_paths = list()\n",
    "        for cp in child_paths:\n",
    "            seq = 'A' + cp\n",
    "        \n",
    "            parts = list()\n",
    "            for i in range(len(seq)-1):\n",
    "                paths = self.paths(seq[i], seq[i+1])\n",
    "                for i, p in enumerate(paths):\n",
    "                    paths[i] = p + 'A'\n",
    "                parts.append(paths)\n",
    "\n",
    "\n",
    "            so_far = parts[-1]\n",
    "            for p in parts[-2::-1]:\n",
    "                iter = list()\n",
    "                for seq in p:\n",
    "                    iter += [seq + x for x in so_far]\n",
    "                so_far = iter\n",
    "\n",
    "            all_paths += so_far\n",
    "\n",
    "        # return only the shortest paths\n",
    "        best_len = 9e99\n",
    "        best_paths = list()\n",
    "        for p in all_paths:\n",
    "            #if self.__prio__(p) < best_len:\n",
    "            if len(p) < best_len:\n",
    "                best_len = len(p)\n",
    "                best_paths = [p]\n",
    "            #elif self.__prio__(p) == best_len:\n",
    "            elif len(p) == best_len:\n",
    "                best_paths.append(p)\n",
    "\n",
    "        dprint(len(best_paths))\n",
    "\n",
    "        return best_paths\n",
    "\n",
    "\n",
    "\n",
    "\n",
    "class Numbot(Robot):\n",
    "    def __init__(self):\n",
    "        keypad = {\n",
    "            '7': [0,0],\n",
    "            '8': [0,1],\n",
    "            '9': [0,2],\n",
    "            '4': [1,0],\n",
    "            '5': [1,1],\n",
    "            '6': [1,2],\n",
    "            '1': [2,0],\n",
    "            '2': [2,1],\n",
    "            '3': [2,2],\n",
    "            'X': [3,0],\n",
    "            '0': [3,1],\n",
    "            'A': [3,2]\n",
    "        }\n",
    "        super(Numbot, self).__init__(keypad)\n",
    "\n",
    "    def seq_path( self, seq ):\n",
    "        seq = 'A' + seq\n",
    "        parts = list()\n",
    "        for i in range(len(seq)-1):\n",
    "            paths = self.paths(seq[i], seq[i+1])\n",
    "            for i, p in enumerate(paths):\n",
    "                paths[i] = p + 'A'\n",
    "            parts.append(paths)\n",
    "\n",
    "\n",
    "        so_far = parts[-1]\n",
    "        for p in parts[-2::-1]:\n",
    "            iter = list()\n",
    "            for seq in p:\n",
    "                iter += [seq + x for x in so_far]\n",
    "            so_far = iter\n",
    "\n",
    "        return so_far"
   ]
  },
  {
   "cell_type": "code",
   "execution_count": 7,
   "metadata": {},
   "outputs": [],
   "source": [
    "def part1( puzz ):\n",
    "    numbot = Numbot()\n",
    "    dirbot1 = Dirbot()\n",
    "    dirbot1.child = numbot\n",
    "    dirbot2 = Dirbot()\n",
    "    dirbot2.child = dirbot1\n",
    "\n",
    "    tot = 0\n",
    "    lengths = list()\n",
    "    for seq in puzz:\n",
    "        dprint(\"----------\")\n",
    "        dprint(seq)\n",
    "        slen = dirbot2.len_seq_path(seq)\n",
    "        lengths.append(slen)\n",
    "        num = int(seq[:-1])\n",
    "        tot += slen*num\n",
    "\n",
    "    return tot, lengths\n"
   ]
  },
  {
   "cell_type": "code",
   "execution_count": 9,
   "metadata": {},
   "outputs": [
    {
     "name": "stdout",
     "output_type": "stream",
     "text": [
      "----------\n",
      "029A\n",
      "1\n",
      "1\n",
      "----------\n",
      "980A\n",
      "1\n",
      "1\n",
      "----------\n",
      "179A\n",
      "1\n",
      "1\n",
      "----------\n",
      "456A\n",
      "1\n",
      "1\n",
      "----------\n",
      "379A\n",
      "1\n",
      "1\n"
     ]
    },
    {
     "data": {
      "text/plain": [
       "(126384, [68, 60, 68, 64, 64])"
      ]
     },
     "execution_count": 9,
     "metadata": {},
     "output_type": "execute_result"
    }
   ],
   "source": [
    "# best len, prioritze < before v before ^/>\n",
    "DEBUG = True\n",
    "part1( test )"
   ]
  },
  {
   "cell_type": "code",
   "execution_count": 10,
   "metadata": {},
   "outputs": [
    {
     "name": "stdout",
     "output_type": "stream",
     "text": [
      "----------\n",
      "540A\n",
      "1\n",
      "1\n",
      "----------\n",
      "582A\n",
      "1\n",
      "1\n",
      "----------\n",
      "169A\n",
      "1\n",
      "1\n",
      "----------\n",
      "593A\n",
      "1\n",
      "1\n",
      "----------\n",
      "579A\n",
      "1\n",
      "1\n"
     ]
    },
    {
     "data": {
      "text/plain": [
       "(176870, [72, 68, 76, 74, 72])"
      ]
     },
     "execution_count": 10,
     "metadata": {},
     "output_type": "execute_result"
    }
   ],
   "source": [
    "# best len, prioritze < before v before ^ before >\n",
    "DEBUG = True\n",
    "part1( puzz )"
   ]
  },
  {
   "cell_type": "markdown",
   "metadata": {},
   "source": [
    "# Part2"
   ]
  },
  {
   "cell_type": "code",
   "execution_count": 12,
   "metadata": {},
   "outputs": [],
   "source": [
    "def part2( puzz, num_dirbots = 25 ):\n",
    "    #dbone = Dirbot()\n",
    "    #dbone.child = Numbot()\n",
    "    dblist = [ Dirbot() ]\n",
    "    dblist[0].child = Numbot()\n",
    "    for i in range(1, num_dirbots):\n",
    "        dblist.append( Dirbot() )\n",
    "        dblist[i].child = dblist[i-1]\n",
    "        #dbtwo.child = dbone\n",
    "        #dbone = dbtwo\n",
    "\n",
    "    tot = 0\n",
    "    lengths = list()\n",
    "    for seq in puzz:\n",
    "        dprint(\"----------\")\n",
    "        print(seq)\n",
    "        slen = dblist[-1].len_seq_path(seq)\n",
    "        lengths.append(slen)\n",
    "        num = int(seq[:-1])\n",
    "        tot += slen*num\n",
    "\n",
    "    return tot, lengths\n"
   ]
  },
  {
   "cell_type": "markdown",
   "metadata": {},
   "source": [
    "This method takes too long!"
   ]
  },
  {
   "cell_type": "markdown",
   "metadata": {},
   "source": [
    "# Part2 Redux:\n",
    "### Memoize"
   ]
  },
  {
   "cell_type": "code",
   "execution_count": 14,
   "metadata": {},
   "outputs": [],
   "source": [
    "def numpad( btn0, btn1 ):\n",
    "    '''return the movement sequence for the numbot to get from btn0 to btn1'''\n",
    "    keypad = {\n",
    "        '7': [0,0],\n",
    "        '8': [0,1],\n",
    "        '9': [0,2],\n",
    "        '4': [1,0],\n",
    "        '5': [1,1],\n",
    "        '6': [1,2],\n",
    "        '1': [2,0],\n",
    "        '2': [2,1],\n",
    "        '3': [2,2],\n",
    "        'X': [3,0],\n",
    "        '0': [3,1],\n",
    "        'A': [3,2]\n",
    "    }\n",
    "\n",
    "    # first find x and y locs\n",
    "    y0, x0 = keypad[btn0]\n",
    "    y1, x1 = keypad[btn1]\n",
    "    ygap, xgap = keypad[\"X\"]\n",
    "\n",
    "    # figure out the horizontal and vertical moves needed\n",
    "    dx = x0 - x1\n",
    "    dy = y0 - y1\n",
    "\n",
    "    if dx < 0:\n",
    "        hor = '>' * abs(dx)\n",
    "    else:\n",
    "        hor = '<' * abs(dx)\n",
    "    if dy < 0:\n",
    "        ver = 'v' * abs(dy)\n",
    "    else:\n",
    "        ver = '^' * abs(dy)\n",
    "\n",
    "    # if staying same row or same col, then only one type of move needed\n",
    "    if dx == 0:\n",
    "        return [ver]\n",
    "    if dy == 0:\n",
    "        return [hor]\n",
    "\n",
    "    # otherwise, determine if the gap forces a particular path\n",
    "    if ygap == y0 and xgap == x1:\n",
    "        paths = [ver + hor]\n",
    "    elif ygap == y1 and xgap == x0:\n",
    "        paths = [hor + ver]\n",
    "    # gap won't get in way, so we can go ver then hor or vice versa\n",
    "    # prioritize ^ or >, then v, then < to be last, since they are closer to the A button for the supervising robot\n",
    "    else:\n",
    "        #paths = [ver + hor, hor + ver]\n",
    "        if dy > 0: # ^\n",
    "            if dx < 0: # ^ and > which tie\n",
    "                paths = [ver + hor]#, hor + ver]\n",
    "            else: # < before v\n",
    "                paths = [hor + ver]\n",
    "        else: # v\n",
    "            if dx < 0: # > after v\n",
    "                paths = [ver + hor]\n",
    "            else: # < before v\n",
    "                paths = [hor + ver]\n",
    "    return paths\n",
    "    "
   ]
  },
  {
   "cell_type": "code",
   "execution_count": 15,
   "metadata": {},
   "outputs": [],
   "source": [
    "def seq_len( seq, n, memo=dict() ):\n",
    "    '''return the number of button presses to enter the given seq\n",
    "    with n levels of indirection'''\n",
    "    if n in memo.keys() and seq in memo[n]:\n",
    "        return memo[n][seq]\n",
    "    \n",
    "    if n == 0:\n",
    "        return len(seq)\n",
    "    \n",
    "    move_map = {\n",
    "        'A': { 'A': \"\", '^': \"<\", '<': \"v<<\", 'v': \"<v\", '>': \"v\" },\n",
    "        '^': { 'A': \">\", '^': \"\", '<': \"v<\", 'v': \"v\", '>': \"v>\" },\n",
    "        '<': { 'A': \">^^\", '^': \">^\", '<': \"\", 'v': \">\", '>': \">>\" },\n",
    "        'v': { 'A': \"^>\", '^': \"^\", '<': \"<\", 'v': \"\", '>': \">\" },\n",
    "        '>': { 'A': \"^\", '^': \"<^\", '<': \"<<\", 'v': \"<\", '>': \"\" }\n",
    "    }\n",
    "    \n",
    "    # finger starts over A button\n",
    "    seq = \"A\" + seq\n",
    "    tot = 0\n",
    "\n",
    "    # for each button press, the supervisor needs to follow the sequence in move_map then press A\n",
    "    for i in range(len(seq)-1):\n",
    "        btn0, btn1 = seq[i], seq[i+1]\n",
    "        tot += seq_len( move_map[ btn0 ][ btn1 ] + \"A\", n-1, memo )\n",
    "\n",
    "    # save results\n",
    "    if n not in memo.keys():\n",
    "        memo[n] = dict()\n",
    "    memo[n][seq[1:]] = tot\n",
    "\n",
    "    return tot"
   ]
  },
  {
   "cell_type": "code",
   "execution_count": 16,
   "metadata": {},
   "outputs": [],
   "source": [
    "def complexity( puzz, ndirbots = 2 ):\n",
    "    ans = 0\n",
    "    lengths = list()\n",
    "    for p in puzz:\n",
    "        seq = \"A\" + p\n",
    "        slen = 0\n",
    "        for i in range(len(seq)-1):\n",
    "            btn0 = seq[i]\n",
    "            btn1 = seq[i+1]\n",
    "            mv = numpad(btn0, btn1)[0]\n",
    "            slen +=  seq_len( mv + \"A\", ndirbots )\n",
    "\n",
    "        lengths.append(slen)\n",
    "        ans += int(p[:-1]) * slen\n",
    "    return ans, lengths\n",
    "\n",
    "    \n",
    "\n"
   ]
  },
  {
   "cell_type": "code",
   "execution_count": 17,
   "metadata": {},
   "outputs": [
    {
     "data": {
      "text/plain": [
       "(126384, [68, 60, 68, 64, 64])"
      ]
     },
     "execution_count": 17,
     "metadata": {},
     "output_type": "execute_result"
    }
   ],
   "source": [
    "debug = False\n",
    "complexity( test )"
   ]
  },
  {
   "cell_type": "code",
   "execution_count": 18,
   "metadata": {},
   "outputs": [
    {
     "data": {
      "text/plain": [
       "(176870, [72, 68, 76, 74, 72])"
      ]
     },
     "execution_count": 18,
     "metadata": {},
     "output_type": "execute_result"
    }
   ],
   "source": [
    "complexity( puzz )"
   ]
  },
  {
   "cell_type": "code",
   "execution_count": 19,
   "metadata": {},
   "outputs": [
    {
     "data": {
      "text/plain": [
       "(223902935165512,\n",
       " [91906526790, 86475783008, 91059074548, 93831469524, 91387668328])"
      ]
     },
     "execution_count": 19,
     "metadata": {},
     "output_type": "execute_result"
    }
   ],
   "source": [
    "complexity(puzz, 25)"
   ]
  }
 ],
 "metadata": {
  "kernelspec": {
   "display_name": "Python 3",
   "language": "python",
   "name": "python3"
  },
  "language_info": {
   "codemirror_mode": {
    "name": "ipython",
    "version": 3
   },
   "file_extension": ".py",
   "mimetype": "text/x-python",
   "name": "python",
   "nbconvert_exporter": "python",
   "pygments_lexer": "ipython3",
   "version": "3.11.9"
  },
  "orig_nbformat": 4
 },
 "nbformat": 4,
 "nbformat_minor": 2
}
