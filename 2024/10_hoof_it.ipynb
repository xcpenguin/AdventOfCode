{
 "cells": [
  {
   "attachments": {},
   "cell_type": "markdown",
   "metadata": {},
   "source": [
    "# December 10, 2024\n",
    "\n",
    "https://adventofcode.com/2024/day/10"
   ]
  },
  {
   "cell_type": "code",
   "execution_count": 6,
   "metadata": {},
   "outputs": [],
   "source": [
    "from collections import defaultdict"
   ]
  },
  {
   "cell_type": "code",
   "execution_count": 67,
   "metadata": {},
   "outputs": [],
   "source": [
    "DEBUG = False\n",
    "def dprint( *args ):\n",
    "    if DEBUG:\n",
    "        return print(*args)\n"
   ]
  },
  {
   "cell_type": "code",
   "execution_count": 3,
   "metadata": {},
   "outputs": [],
   "source": [
    "test_str = f'''89010123\n",
    "78121874\n",
    "87430965\n",
    "96549874\n",
    "45678903\n",
    "32019012\n",
    "01329801\n",
    "10456732'''\n",
    "test_str = [ x.strip() for x in test_str.split(\"\\n\")]"
   ]
  },
  {
   "cell_type": "code",
   "execution_count": 60,
   "metadata": {},
   "outputs": [],
   "source": [
    "fn = \"../data/2024/10.txt\"\n",
    "with open(fn, \"r\") as file:\n",
    "    text = file.readlines()\n",
    "puzz_str = [line.strip() for line in text]"
   ]
  },
  {
   "cell_type": "markdown",
   "metadata": {},
   "source": [
    "# Part 1"
   ]
  },
  {
   "cell_type": "code",
   "execution_count": 156,
   "metadata": {},
   "outputs": [],
   "source": [
    "class TopoMap:\n",
    "    def __init__( self, lines ):\n",
    "        self.nr = len(lines)\n",
    "        self.nc = len(lines[0])\n",
    "\n",
    "        # key by height and list all levels\n",
    "        self.levels = dict()\n",
    "\n",
    "        # key by [row][col] and give height and the views available starting from there\n",
    "        self.pos_info = dict()\n",
    "        for height in range(0,10):\n",
    "            self.levels[height] = list()\n",
    "\n",
    "        # iterate over input and build out both structs\n",
    "        for r, line in enumerate(lines):\n",
    "            self.pos_info[r] = dict()\n",
    "            for c, x in enumerate(line):\n",
    "                self.pos_info[r][c] = { \"height\": int(x), \"views\": None, \"trails\": None }\n",
    "                self.levels[int(x)].append( [r,c] )      \n",
    "\n",
    "    def part1(self):\n",
    "        view_counts = list()\n",
    "        for pos in self.levels[0]:\n",
    "            view_counts.append( self.__view_count__(pos) )\n",
    "\n",
    "        return sum( view_counts )\n",
    "    \n",
    "    def part2(self):\n",
    "        trail_counts = list()\n",
    "        for pos in self.levels[0]:\n",
    "            trail_counts.append( self.__trail_count__(pos) )\n",
    "\n",
    "        return sum( trail_counts )\n",
    "\n",
    "    def __view_count__( self, pos ):\n",
    "        # look up or find views from pos\n",
    "        views, _ = self.__find_views_and_trails__(pos)\n",
    "        return len(  views  )\n",
    "    \n",
    "    def __trail_count__( self, pos ):\n",
    "        _, trails = self.__find_views_and_trails__(pos)\n",
    "        return trails\n",
    "\n",
    "    \n",
    "    def __find_views_and_trails__(self, pos, height=None ):\n",
    "        # return the level-9 views reachable from pos by rising 1 level each step\n",
    "        r,c = pos\n",
    "        views = self.pos_info[r][c][\"views\"]\n",
    "        trails = self.pos_info[r][c][\"trails\"]\n",
    "\n",
    "        # return this if we've alredy computed this value earlier\n",
    "        if views is not None:\n",
    "            dprint(\"Using \", pos, \"prev values:\", views, \"and\", trails)\n",
    "            return views, trails\n",
    "\n",
    "        # lookup height if it isn't supplied\n",
    "        if height is None:\n",
    "            height = self.__get_height_from_pos__( pos )\n",
    "        dprint(pos, height)\n",
    "\n",
    "        \n",
    "        # base case: We're already at the view\n",
    "        if height == 9:\n",
    "            self.pos_info[r][c][\"views\"] = [pos]\n",
    "            self.pos_info[r][c][\"trails\"] = 1\n",
    "            return self.pos_info[r][c][\"views\"], self.pos_info[r][c][\"trails\"]\n",
    "         \n",
    "        # recursion: look at neighbors to develop the answer\n",
    "        # importantly, we only need neighbors that are hegith h+1, so we avoid inf recursion\n",
    "        views = list()\n",
    "        trails = 0\n",
    "        nbrs = self.__get_neighbors__( pos )\n",
    "        dprint(\"nbrs:\", nbrs)\n",
    "\n",
    "\n",
    "        for n in nbrs:\n",
    "            h = self.__get_height_from_pos__( n )\n",
    "            if h == height + 1:\n",
    "                dprint(\"checking\", n )\n",
    "                # we can get from pos to this n, so get the number of views accessible from there\n",
    "                iter_views, iter_trails = self.__find_views_and_trails__( n, h )\n",
    "                # maintain uniqueness for views!\n",
    "                for iv in iter_views:\n",
    "                    if iv not in views:\n",
    "                        views.append(iv)\n",
    "\n",
    "                dprint(n, \"has\", iter_views, \"views and\", iter_trails, \"trails\" )\n",
    "\n",
    "\n",
    "                trails += iter_trails\n",
    "\n",
    "        self.pos_info[r][c][\"views\"] = views\n",
    "        self.pos_info[r][c][\"trails\"] = trails\n",
    "\n",
    "        return self.pos_info[r][c][\"views\"], self.pos_info[r][c][\"trails\"]\n",
    "\n",
    "    def __get_height_from_pos__( self, pos ):\n",
    "        return self.pos_info[pos[0]][pos[1]][\"height\"]\n",
    "    \n",
    "    def __get_neighbors__( self, pos ):\n",
    "        # get the neighbors of pos that are in bounds\n",
    "        r = pos[0]\n",
    "        c = pos[1]\n",
    "        nbr = list()\n",
    "\n",
    "        if r > 0:\n",
    "            nbr.append( [r-1, c] )\n",
    "        if r < self.nr - 1:\n",
    "            nbr.append( [r+1, c] )\n",
    "        if c > 0:\n",
    "            nbr.append( [r, c-1] )\n",
    "        if c < self.nc - 1:\n",
    "            nbr.append( [r, c+1] )\n",
    "\n",
    "        return nbr\n",
    "\n",
    "\n"
   ]
  },
  {
   "cell_type": "code",
   "execution_count": 157,
   "metadata": {},
   "outputs": [],
   "source": [
    "test = TopoMap(test_str)"
   ]
  },
  {
   "cell_type": "code",
   "execution_count": 158,
   "metadata": {},
   "outputs": [
    {
     "data": {
      "text/plain": [
       "36"
      ]
     },
     "execution_count": 158,
     "metadata": {},
     "output_type": "execute_result"
    }
   ],
   "source": [
    "DEBUG = False\n",
    "test.part1()"
   ]
  },
  {
   "cell_type": "code",
   "execution_count": 159,
   "metadata": {},
   "outputs": [
    {
     "data": {
      "text/plain": [
       "430"
      ]
     },
     "execution_count": 159,
     "metadata": {},
     "output_type": "execute_result"
    }
   ],
   "source": [
    "puzz = TopoMap(puzz_str)\n",
    "puzz.part1()"
   ]
  },
  {
   "cell_type": "markdown",
   "metadata": {},
   "source": [
    "# Part 2"
   ]
  },
  {
   "cell_type": "code",
   "execution_count": 160,
   "metadata": {},
   "outputs": [
    {
     "data": {
      "text/plain": [
       "81"
      ]
     },
     "execution_count": 160,
     "metadata": {},
     "output_type": "execute_result"
    }
   ],
   "source": [
    "test.part2()"
   ]
  },
  {
   "cell_type": "code",
   "execution_count": 161,
   "metadata": {},
   "outputs": [
    {
     "data": {
      "text/plain": [
       "928"
      ]
     },
     "execution_count": 161,
     "metadata": {},
     "output_type": "execute_result"
    }
   ],
   "source": [
    "puzz.part2()"
   ]
  }
 ],
 "metadata": {
  "kernelspec": {
   "display_name": "Python 3",
   "language": "python",
   "name": "python3"
  },
  "language_info": {
   "codemirror_mode": {
    "name": "ipython",
    "version": 3
   },
   "file_extension": ".py",
   "mimetype": "text/x-python",
   "name": "python",
   "nbconvert_exporter": "python",
   "pygments_lexer": "ipython3",
   "version": "3.11.9"
  },
  "orig_nbformat": 4
 },
 "nbformat": 4,
 "nbformat_minor": 2
}
