{
 "cells": [
  {
   "attachments": {},
   "cell_type": "markdown",
   "metadata": {},
   "source": [
    "# December 02, 2024\n",
    "\n",
    "https://adventofcode.com/2024/day/02"
   ]
  },
  {
   "cell_type": "code",
   "execution_count": 1,
   "metadata": {},
   "outputs": [],
   "source": [
    "import numpy as np\n",
    "from collections import defaultdict"
   ]
  },
  {
   "cell_type": "code",
   "execution_count": 2,
   "metadata": {},
   "outputs": [],
   "source": [
    "def parse_input(text):\n",
    "    lol = list()\n",
    "\n",
    "    for line in text:\n",
    "        lol.append( [int(x) for x in line.split()] )\n",
    "\n",
    "    return lol"
   ]
  },
  {
   "cell_type": "code",
   "execution_count": 3,
   "metadata": {},
   "outputs": [],
   "source": [
    "text = f'''7 6 4 2 1\n",
    "1 2 7 8 9\n",
    "9 7 6 2 1\n",
    "1 3 2 4 5\n",
    "8 6 4 4 1\n",
    "1 3 6 7 9'''\n",
    "\n",
    "test = parse_input(text.split(\"\\n\"))"
   ]
  },
  {
   "cell_type": "code",
   "execution_count": 4,
   "metadata": {},
   "outputs": [],
   "source": [
    "fn = \"../data/2024/02.txt\"\n",
    "with open(fn, \"r\") as file:\n",
    "    text = file.readlines()\n",
    "text = [line.strip() for line in text]\n",
    "puzz = parse_input(text)"
   ]
  },
  {
   "cell_type": "markdown",
   "metadata": {},
   "source": [
    "# Part 1"
   ]
  },
  {
   "cell_type": "code",
   "execution_count": 5,
   "metadata": {},
   "outputs": [],
   "source": [
    "def check_list( arr ):\n",
    "    inc = (arr[1]-arr[0] > 0)\n",
    "\n",
    "    for x,y in zip(arr[:-1], arr[1:]):\n",
    "        # increasing list, make sure the step up is between 1 and 3\n",
    "        if inc and ( y-x < 1 or y-x > 3 ):\n",
    "            return False\n",
    "        \n",
    "        # decreasing list, make sure the step down is between 1 and 3\n",
    "        if not inc and (x-y < 1 or x-y > 3):\n",
    "            return False\n",
    "        \n",
    "    # Looks safe!\n",
    "    return True\n",
    "\n",
    "def count_safe_lists( puzz ):\n",
    "    num_safe = 0\n",
    "    for arr in puzz:\n",
    "        safe = check_list(arr)\n",
    "        if safe:\n",
    "            num_safe += 1\n",
    "    return num_safe"
   ]
  },
  {
   "cell_type": "code",
   "execution_count": 6,
   "metadata": {},
   "outputs": [
    {
     "data": {
      "text/plain": [
       "2"
      ]
     },
     "execution_count": 6,
     "metadata": {},
     "output_type": "execute_result"
    }
   ],
   "source": [
    "count_safe_lists(test)"
   ]
  },
  {
   "cell_type": "code",
   "execution_count": 7,
   "metadata": {},
   "outputs": [
    {
     "data": {
      "text/plain": [
       "371"
      ]
     },
     "execution_count": 7,
     "metadata": {},
     "output_type": "execute_result"
    }
   ],
   "source": [
    "count_safe_lists(puzz)"
   ]
  },
  {
   "cell_type": "markdown",
   "metadata": {},
   "source": [
    "# Part 2"
   ]
  },
  {
   "cell_type": "markdown",
   "metadata": {},
   "source": [
    "### wrong answers\n",
    "423 < too low"
   ]
  },
  {
   "cell_type": "code",
   "execution_count": 8,
   "metadata": {},
   "outputs": [],
   "source": [
    "def check_list( arr, die_hard=False ):\n",
    "    def _what_to_do( arr, i ):\n",
    "        # problem between items i and i+1... try removing each one\n",
    "        # -- remove i\n",
    "        subtest1 = check_list( arr[:i] + arr[(i+1):] )\n",
    "        # -- remove i+1\n",
    "        subtest2 = check_list( arr[:(i+1)] + arr[(i+2):] )\n",
    "\n",
    "        # It's also possible that we just need to get rid of the first element because that gave us the wrong direction for the\n",
    "        # monotonicity check\n",
    "        if i == 1:\n",
    "            # this only shows up when i = 1. for i >1, then we already have two steps in the same direction and we can only remove 1\n",
    "            subtest3 = check_list( arr[1:] )\n",
    "        else:\n",
    "            subtest3 = False\n",
    "\n",
    "        return subtest1 or subtest2 or subtest3\n",
    "\n",
    "\n",
    "    inc = (arr[1]-arr[0] > 0)\n",
    "\n",
    "    for i, xy in enumerate(zip(arr[:-1], arr[1:])):\n",
    "        x,y = xy\n",
    "\n",
    "        # increasing list, make sure the step up is between 1 and 3\n",
    "        if inc and ( y-x < 1 or y-x > 3 ):\n",
    "            if die_hard:\n",
    "                return _what_to_do( arr, i)\n",
    "            else:\n",
    "                return False\n",
    "        \n",
    "        # decreasing list, make sure the step down is between 1 and 3\n",
    "        if not inc and (x-y < 1 or x-y > 3):\n",
    "            if die_hard:\n",
    "                return _what_to_do( arr, i)\n",
    "            else:\n",
    "                return False\n",
    "        \n",
    "    # Looks safe!\n",
    "    return True\n",
    "\n",
    "def count_safe_lists( puzz, die_hard=False, verbose=False ):\n",
    "    num_safe = 0\n",
    "    for arr in puzz:\n",
    "        safe = check_list(arr, die_hard)\n",
    "        if verbose:\n",
    "            print(safe)\n",
    "        if safe:\n",
    "            num_safe += 1\n",
    "    return num_safe\n",
    "\n",
    "def find_safe_lists( puzz ):\n",
    "    safe = list()\n",
    "    for arr in puzz:\n",
    "        safe.append( check_list(arr) )\n",
    "    return safe"
   ]
  },
  {
   "cell_type": "code",
   "execution_count": 9,
   "metadata": {},
   "outputs": [
    {
     "name": "stdout",
     "output_type": "stream",
     "text": [
      "True\n",
      "False\n",
      "False\n",
      "True\n",
      "True\n",
      "True\n"
     ]
    },
    {
     "data": {
      "text/plain": [
       "4"
      ]
     },
     "execution_count": 9,
     "metadata": {},
     "output_type": "execute_result"
    }
   ],
   "source": [
    "count_safe_lists( test, die_hard=True, verbose=True )"
   ]
  },
  {
   "cell_type": "code",
   "execution_count": 10,
   "metadata": {},
   "outputs": [
    {
     "data": {
      "text/plain": [
       "0"
      ]
     },
     "execution_count": 10,
     "metadata": {},
     "output_type": "execute_result"
    }
   ],
   "source": [
    "count_safe_lists( [[17, 20, 23, 21, 22, 23, 24, 22]], die_hard=True)"
   ]
  },
  {
   "cell_type": "code",
   "execution_count": 11,
   "metadata": {},
   "outputs": [
    {
     "data": {
      "text/plain": [
       "426"
      ]
     },
     "execution_count": 11,
     "metadata": {},
     "output_type": "execute_result"
    }
   ],
   "source": [
    "count_safe_lists( puzz, die_hard=True )"
   ]
  },
  {
   "cell_type": "code",
   "execution_count": null,
   "metadata": {},
   "outputs": [],
   "source": []
  }
 ],
 "metadata": {
  "kernelspec": {
   "display_name": "Python 3",
   "language": "python",
   "name": "python3"
  },
  "language_info": {
   "codemirror_mode": {
    "name": "ipython",
    "version": 3
   },
   "file_extension": ".py",
   "mimetype": "text/x-python",
   "name": "python",
   "nbconvert_exporter": "python",
   "pygments_lexer": "ipython3",
   "version": "3.11.9"
  },
  "orig_nbformat": 4
 },
 "nbformat": 4,
 "nbformat_minor": 2
}
