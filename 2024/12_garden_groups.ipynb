{
 "cells": [
  {
   "attachments": {},
   "cell_type": "markdown",
   "metadata": {},
   "source": [
    "# December 12, 2024\n",
    "\n",
    "https://adventofcode.com/2024/day/12"
   ]
  },
  {
   "cell_type": "code",
   "execution_count": 3,
   "metadata": {},
   "outputs": [],
   "source": [
    "from collections import defaultdict"
   ]
  },
  {
   "cell_type": "code",
   "execution_count": 4,
   "metadata": {},
   "outputs": [],
   "source": [
    "DEBUG = False\n",
    "def dprint( *args ):\n",
    "    if DEBUG:\n",
    "        return print(*args)\n"
   ]
  },
  {
   "cell_type": "code",
   "execution_count": 5,
   "metadata": {},
   "outputs": [],
   "source": [
    "test_str1 = f'''AAAA\n",
    "BBCD\n",
    "BBCC\n",
    "EEEC'''\n",
    "test_str1 = [ list(x) for x in test_str1.split(\"\\n\") ]\n",
    "\n",
    "test_str2 = f'''OOOOO\n",
    "OXOXO\n",
    "OOOOO\n",
    "OXOXO\n",
    "OOOOO'''\n",
    "test_str2 = [ list(x) for x in test_str2.split(\"\\n\") ]\n",
    "\n",
    "test_str3 = f'''RRRRIICCFF\n",
    "RRRRIICCCF\n",
    "VVRRRCCFFF\n",
    "VVRCCCJFFF\n",
    "VVVVCJJCFE\n",
    "VVIVCCJJEE\n",
    "VVIIICJJEE\n",
    "MIIIIIJJEE\n",
    "MIIISIJEEE\n",
    "MMMISSJEEE'''\n",
    "test_str3 = [list(x) for x in test_str3.split(\"\\n\") ]"
   ]
  },
  {
   "cell_type": "code",
   "execution_count": 7,
   "metadata": {},
   "outputs": [],
   "source": [
    "fn = \"../data/2024/12.txt\"\n",
    "with open(fn, \"r\") as file:\n",
    "    text = file.readlines()\n",
    "puzz_str = [x.strip() for x in text]"
   ]
  },
  {
   "cell_type": "markdown",
   "metadata": {},
   "source": [
    "# Part 1\n"
   ]
  },
  {
   "cell_type": "code",
   "execution_count": 63,
   "metadata": {},
   "outputs": [],
   "source": [
    "class Region:\n",
    "    def __init__(self, value, adj, locs):\n",
    "        self.value = value\n",
    "        \n",
    "        self.locs = locs\n",
    "\n",
    "        # keep track of how many adjacencies are in the region\n",
    "        # 2x2 region has 4\n",
    "        # 4x1 region has 3\n",
    "        # This + area is enough to calculate perimeter\n",
    "        self.adjacencies = adj\n",
    "\n",
    "        self.area = len(locs)\n",
    "        self.perimeter = 4*self.area - self.adjacencies\n",
    "        self.__sides = None\n",
    "\n",
    "    def sides(self):\n",
    "        return self.__sides or self.count_sides()\n",
    "\n",
    "\n",
    "    def count_sides(self):\n",
    "        # create two dicts, one keyed by row and one keyed by col\n",
    "        loc_dict = defaultdict(set)\n",
    "    \n",
    "        min_r = 9e99\n",
    "        max_r = 0\n",
    "        for loc in self.locs:\n",
    "            r,c = loc\n",
    "            loc_dict[r].add(c)\n",
    "            if r < min_r:\n",
    "                min_r = r\n",
    "            if r > max_r:\n",
    "                max_r = r\n",
    "\n",
    "        loc_dict[min_r-1] = set()\n",
    "        loc_dict[max_r+1] = set()\n",
    "\n",
    "\n",
    "        sides = 0\n",
    "        # we count borders only if its the leftmost for horizontal border\n",
    "        # or topmost for a vertical border\n",
    "        for r, cols in loc_dict.items():\n",
    "            for c in cols:\n",
    "                # border up, check if it's part of a prev side\n",
    "                if c not in loc_dict[r-1]:\n",
    "                    # @ is the current location, [r,c]\n",
    "                    # count these cases\n",
    "                    #    xx   Ax    Ax   <-- I think this third option is two sides    \n",
    "                    #    x@   A@    x@\n",
    "                    if (c-1 not in loc_dict[r]) or (c-1 in loc_dict[r-1]):\n",
    "                        sides += 1\n",
    "\n",
    "                # border down\n",
    "                #    x@   A@    x@   <-- I think this third option is two sides    \n",
    "                #    xx   Ax    Ax\n",
    "                if c not in loc_dict[r+1]:\n",
    "                    if (c-1 not in loc_dict[r]) or (c-1 in loc_dict[r+1]):\n",
    "                        sides += 1\n",
    "                # border left\n",
    "                #    xx   AA    Ax\n",
    "                #    x@   A@    A@\n",
    "                if c-1 not in loc_dict[r]:\n",
    "                    if (c not in loc_dict[r-1]) or (c-1 in loc_dict[r-1]):\n",
    "                        sides += 1\n",
    "\n",
    "                # border right\n",
    "                #   xx   AA   xA\n",
    "                #   @x   @x   @x\n",
    "                if c+1 not in loc_dict[r]:\n",
    "                    if (c not in loc_dict[r-1]) or (c+1 in loc_dict[r-1]):\n",
    "                        sides += 1\n",
    "\n",
    "        self.__sides = sides\n",
    "        return self.__sides\n",
    "\n",
    "\n",
    "\n",
    "\n",
    "    def __str__(self):\n",
    "        return f\"Region({self.value}: Size {self.area}, Peri {self.perimeter})\"\n",
    "\n",
    "    def __repr__(self):\n",
    "        return f\"Region({self.value}: Size {self.area}, Peri {self.perimeter})\"\n",
    "        "
   ]
  },
  {
   "cell_type": "code",
   "execution_count": 64,
   "metadata": {},
   "outputs": [],
   "source": [
    "class Garden:\n",
    "    def __init__(self, lines):\n",
    "        self.nr = len(lines)\n",
    "        self.nc = len(lines[0])\n",
    "        self.map = [ [x for x in y] for y in lines ]\n",
    "        # replace letters with blanks when they are explored\n",
    "        self.unexplored = [ [x for x in y] for y in lines ]\n",
    "        self.regions = defaultdict(list)\n",
    "\n",
    "        for r in range(0, self.nr):\n",
    "            for c in range(0, self.nc):\n",
    "                if self.unexplored[r][c] != \"#\":\n",
    "                    self.__add_region__([r,c])\n",
    "\n",
    "    \n",
    "    def __add_region__( self, loc ):\n",
    "        val = self.unexplored[ loc[0] ][ loc[1] ]\n",
    "        if val == \"#\":\n",
    "            raise BaseException(\"Location already mapped\")\n",
    "        \n",
    "        # start a new region\n",
    "        self.unexplored[ loc[0] ][ loc[1] ] = \"#\"\n",
    "        all_locs, adjacencies = self.__map_region__(val, loc )\n",
    "\n",
    "        new_region = Region( val, adjacencies, all_locs )\n",
    "        self.regions[val].append(new_region)        \n",
    "        \n",
    "        \n",
    "    def __map_region__( self, val, loc ):\n",
    "        all_locs = [loc]\n",
    "        adjacencies = 0\n",
    "\n",
    "        # iterate over neighbors\n",
    "        nbrs = self.__get_neighbors__(loc)\n",
    "        for n in nbrs:\n",
    "            # Add the adjency always\n",
    "            if self.map[ n[0] ][ n[1] ] == val:\n",
    "                adjacencies += 1\n",
    "\n",
    "            # if it's not explored, also explore it.\n",
    "            if self.unexplored[ n[0] ][ n[1] ] == val:\n",
    "                self.unexplored[ n[0] ][ n[1] ] = \"#\"\n",
    "                new_locs, new_adj = self.__map_region__(val, n )\n",
    "                adjacencies += new_adj\n",
    "                all_locs += new_locs\n",
    "\n",
    "        return all_locs, adjacencies\n",
    "\n",
    "    def __get_neighbors__(self, loc):\n",
    "        r,c = loc\n",
    "        nbrs = list()\n",
    "        if r > 0:\n",
    "            nbrs.append( [r-1, c] )\n",
    "        if r < self.nr - 1:\n",
    "            nbrs.append( [r+1, c] )\n",
    "        if c > 0:\n",
    "            nbrs.append( [r, c-1] )\n",
    "        if c < self.nc - 1:\n",
    "            nbrs.append( [r, c+1] )\n",
    "        return nbrs"
   ]
  },
  {
   "cell_type": "code",
   "execution_count": 65,
   "metadata": {},
   "outputs": [],
   "source": [
    "def part1( text ):\n",
    "    jardin = Garden(text)\n",
    "    ans = 0\n",
    "    for val, region_list in jardin.regions.items():\n",
    "        for reg in region_list:\n",
    "            ans += reg.area * reg.perimeter\n",
    "\n",
    "    return ans\n"
   ]
  },
  {
   "cell_type": "code",
   "execution_count": 66,
   "metadata": {},
   "outputs": [
    {
     "data": {
      "text/plain": [
       "140"
      ]
     },
     "execution_count": 66,
     "metadata": {},
     "output_type": "execute_result"
    }
   ],
   "source": [
    "part1( test_str1 )"
   ]
  },
  {
   "cell_type": "code",
   "execution_count": 67,
   "metadata": {},
   "outputs": [
    {
     "data": {
      "text/plain": [
       "772"
      ]
     },
     "execution_count": 67,
     "metadata": {},
     "output_type": "execute_result"
    }
   ],
   "source": [
    "part1( test_str2 )"
   ]
  },
  {
   "cell_type": "code",
   "execution_count": 68,
   "metadata": {},
   "outputs": [
    {
     "data": {
      "text/plain": [
       "1930"
      ]
     },
     "execution_count": 68,
     "metadata": {},
     "output_type": "execute_result"
    }
   ],
   "source": [
    "part1( test_str3 )"
   ]
  },
  {
   "cell_type": "code",
   "execution_count": 69,
   "metadata": {},
   "outputs": [
    {
     "data": {
      "text/plain": [
       "1471452"
      ]
     },
     "execution_count": 69,
     "metadata": {},
     "output_type": "execute_result"
    }
   ],
   "source": [
    "part1( puzz_str )"
   ]
  },
  {
   "cell_type": "markdown",
   "metadata": {},
   "source": [
    "# Part 2"
   ]
  },
  {
   "cell_type": "code",
   "execution_count": 70,
   "metadata": {},
   "outputs": [],
   "source": [
    "test_str4 = f'''EEEEE\n",
    "EXXXX\n",
    "EEEEE\n",
    "EXXXX\n",
    "EEEEE'''.split(\"\\n\")\n",
    "\n",
    "test_str5 = f'''AAAAAA\n",
    "AAABBA\n",
    "AAABBA\n",
    "ABBAAA\n",
    "ABBAAA\n",
    "AAAAAA'''.split(\"\\n\")"
   ]
  },
  {
   "cell_type": "code",
   "execution_count": 71,
   "metadata": {},
   "outputs": [],
   "source": [
    "def part2( text ):\n",
    "    jardin = Garden(text)\n",
    "    #return jardin\n",
    "    ans = 0\n",
    "    for val, region_list in jardin.regions.items():\n",
    "        for reg in region_list:\n",
    "            ans += reg.area * reg.sides()\n",
    "\n",
    "    return ans\n"
   ]
  },
  {
   "cell_type": "code",
   "execution_count": 73,
   "metadata": {},
   "outputs": [
    {
     "data": {
      "text/plain": [
       "80"
      ]
     },
     "execution_count": 73,
     "metadata": {},
     "output_type": "execute_result"
    }
   ],
   "source": [
    "part2(test_str1)"
   ]
  },
  {
   "cell_type": "code",
   "execution_count": 74,
   "metadata": {},
   "outputs": [
    {
     "data": {
      "text/plain": [
       "236"
      ]
     },
     "execution_count": 74,
     "metadata": {},
     "output_type": "execute_result"
    }
   ],
   "source": [
    "part2(test_str4)"
   ]
  },
  {
   "cell_type": "code",
   "execution_count": 76,
   "metadata": {},
   "outputs": [
    {
     "data": {
      "text/plain": [
       "1206"
      ]
     },
     "execution_count": 76,
     "metadata": {},
     "output_type": "execute_result"
    }
   ],
   "source": [
    "part2(test_str3)"
   ]
  },
  {
   "cell_type": "code",
   "execution_count": 77,
   "metadata": {},
   "outputs": [
    {
     "data": {
      "text/plain": [
       "863366"
      ]
     },
     "execution_count": 77,
     "metadata": {},
     "output_type": "execute_result"
    }
   ],
   "source": [
    "part2(puzz_str)"
   ]
  }
 ],
 "metadata": {
  "kernelspec": {
   "display_name": "Python 3",
   "language": "python",
   "name": "python3"
  },
  "language_info": {
   "codemirror_mode": {
    "name": "ipython",
    "version": 3
   },
   "file_extension": ".py",
   "mimetype": "text/x-python",
   "name": "python",
   "nbconvert_exporter": "python",
   "pygments_lexer": "ipython3",
   "version": "3.11.9"
  },
  "orig_nbformat": 4
 },
 "nbformat": 4,
 "nbformat_minor": 2
}
