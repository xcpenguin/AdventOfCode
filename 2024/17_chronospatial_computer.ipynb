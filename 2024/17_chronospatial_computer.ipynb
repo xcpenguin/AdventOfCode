{
 "cells": [
  {
   "attachments": {},
   "cell_type": "markdown",
   "metadata": {},
   "source": [
    "# December 17, 2024\n",
    "\n",
    "https://adventofcode.com/2024/day/17"
   ]
  },
  {
   "cell_type": "code",
   "execution_count": 55,
   "metadata": {},
   "outputs": [],
   "source": [
    "import re\n",
    "from math import log"
   ]
  },
  {
   "cell_type": "code",
   "execution_count": 2,
   "metadata": {},
   "outputs": [],
   "source": [
    "DEBUG = False\n",
    "def dprint( *args ):\n",
    "    if DEBUG:\n",
    "        return print(*args)\n"
   ]
  },
  {
   "cell_type": "code",
   "execution_count": 3,
   "metadata": {},
   "outputs": [],
   "source": [
    "test_str = f'''Register A: 729\n",
    "Register B: 0\n",
    "Register C: 0\n",
    "\n",
    "Program: 0,1,5,4,3,0'''\n",
    "test_str = test_str.split(\"\\n\")"
   ]
  },
  {
   "cell_type": "code",
   "execution_count": 4,
   "metadata": {},
   "outputs": [],
   "source": [
    "fn = \"../data/2024/17.txt\"\n",
    "with open(fn, \"r\") as file:\n",
    "    text = file.readlines()\n",
    "puzz_str = [x.strip() for x in text]"
   ]
  },
  {
   "cell_type": "markdown",
   "metadata": {},
   "source": [
    "# Part 1\n"
   ]
  },
  {
   "cell_type": "code",
   "execution_count": 5,
   "metadata": {},
   "outputs": [],
   "source": [
    "class Computer:\n",
    "    def __init__(self, text):\n",
    "        self.A = int(re.search(\"\\d+$\", text[0])[0])\n",
    "        self.B = int(re.search(\"\\d+$\", text[1])[0])\n",
    "        self.C = int(re.search(\"\\d+$\", text[2])[0])\n",
    "        self.program = [int(x) for x in text[4][9:].split(\",\") ]\n",
    "\n",
    "        # points at current index in program sequence\n",
    "        self.ptr = 0\n",
    "\n",
    "        # numerical output buffer \n",
    "        self.output = list()\n",
    "\n",
    "    def run(self):\n",
    "        while self.ptr < len(self.program):\n",
    "            self.execute()\n",
    "\n",
    "\n",
    "        return \",\".join( [str(x) for x in self.output] )\n",
    "    \n",
    "    def execute(self):\n",
    "        op_list = [\"adv\", \"bxl\", \"bst\", \"jnz\", \"bxc\", \"out\", \"bdv\", \"cdv\"]\n",
    "        opno = self.program[ self.ptr ]\n",
    "        operand = self.program[ self.ptr + 1]\n",
    "        self.ptr += 2\n",
    "        op = getattr(self, op_list[opno])\n",
    "        return op( operand )\n",
    "        \n",
    "    # operand interpretation\n",
    "    def combo(self, n):\n",
    "        if n <= 3:\n",
    "            return n\n",
    "        if n == 4:\n",
    "            return self.A\n",
    "        if n == 5:\n",
    "            return self.B\n",
    "        if n == 6:\n",
    "            return self.C\n",
    "        if n == 7:\n",
    "            raise BaseException(\"Combo operand 7 is invald\")\n",
    "        \n",
    "    def literal(self, n):\n",
    "        return n\n",
    "\n",
    "    # operator implementation\n",
    "    def adv(self, operand):\n",
    "        # op 0\n",
    "        x = self.combo(operand)\n",
    "        self.A = int( self.A / (2**x) )\n",
    "        return self.A\n",
    "    \n",
    "    def bxl(self, operand):\n",
    "        # op 1\n",
    "        x = self.literal(operand)\n",
    "        self.B ^= x\n",
    "        return self.B\n",
    "    \n",
    "    def bst(self, operand):\n",
    "        # op 2\n",
    "        x = self.combo(operand)\n",
    "        self.B = x % 8\n",
    "        return self.B\n",
    "    \n",
    "    def jnz(self, operand):\n",
    "        # op 3\n",
    "        x = self.literal(operand)\n",
    "        if self.A != 0:\n",
    "            self.ptr = x\n",
    "        return None\n",
    "    \n",
    "    def bxc(self, operand):\n",
    "        # op 4\n",
    "        self.B ^= self.C\n",
    "        return self.B\n",
    "    \n",
    "    def out(self, operand):\n",
    "        # op 5\n",
    "        x = self.combo(operand)\n",
    "        self.output.append( x % 8 )\n",
    "        return None\n",
    "    \n",
    "    def bdv(self, operand):\n",
    "        # op 6\n",
    "        x = self.combo(operand)\n",
    "        self.B = int( self.A / (2**x) )\n",
    "        return self.B\n",
    "    \n",
    "    def cdv(self, operand):\n",
    "        # op 7\n",
    "        x = self.combo(operand)\n",
    "        self.C = int( self.A / (2**x) )\n",
    "        return self.C"
   ]
  },
  {
   "cell_type": "code",
   "execution_count": 6,
   "metadata": {},
   "outputs": [
    {
     "data": {
      "text/plain": [
       "'4,6,3,5,6,3,5,2,1,0'"
      ]
     },
     "execution_count": 6,
     "metadata": {},
     "output_type": "execute_result"
    }
   ],
   "source": [
    "test = Computer(test_str)\n",
    "test.run()"
   ]
  },
  {
   "cell_type": "code",
   "execution_count": 7,
   "metadata": {},
   "outputs": [
    {
     "data": {
      "text/plain": [
       "'7,0,3,1,2,6,3,7,1'"
      ]
     },
     "execution_count": 7,
     "metadata": {},
     "output_type": "execute_result"
    }
   ],
   "source": [
    "Computer(puzz_str).run()"
   ]
  },
  {
   "cell_type": "markdown",
   "metadata": {},
   "source": [
    "# Part 2\n",
    "\n",
    "The trick here is to solve from right to left."
   ]
  },
  {
   "cell_type": "code",
   "execution_count": 112,
   "metadata": {},
   "outputs": [],
   "source": [
    "def part2_orig( text ):\n",
    "\n",
    "    compy = Computer(text)\n",
    "    target = compy.program\n",
    "    A = 0\n",
    "    while True:\n",
    "        dprint(\"byteprefix:\", A)\n",
    "        dprint(target)\n",
    "        solution = solve( target, A, text )\n",
    "        if solution is not None:\n",
    "            break\n",
    "        A += 1\n",
    "\n",
    "    print(\"Found a solution starting with byte prefix\", A)\n",
    "    compy.A = solution\n",
    "    out = compy.run()\n",
    "    result = [int(x) for x in out.split(\",\")]\n",
    "    assert compy.program == result\n",
    "    return solution\n",
    "\n",
    "def solve( target, A_so_far, text ):\n",
    "    if len(target) == 0:\n",
    "        return A_so_far\n",
    "    \n",
    "    # find possibilities to hit the next target\n",
    "    nbo = next_byte_options( target[-1], A_so_far, text )\n",
    "\n",
    "    # try each of those possibilities\n",
    "    for nb in nbo:\n",
    "        result = solve( target[:-1], A_so_far*8 + nb, text )\n",
    "        if result is not None:\n",
    "            return result\n",
    "        \n",
    "    # poo -- no solution found\n",
    "    dprint(\"No solution for target\", target, \"starting with A\", A_so_far)\n",
    "    return None\n",
    "\n",
    "\n",
    "\n",
    "def next_byte_options( target, A_so_far, text ):\n",
    "    nbo = list()\n",
    "    for n in range(0,8):\n",
    "        comp = Computer(text)\n",
    "        comp.A = A_so_far * 8 + n\n",
    "        out = comp.run()\n",
    "        byte = int(out[0])\n",
    "        if byte == target:\n",
    "            nbo.append(n)\n",
    "\n",
    "    return nbo"
   ]
  },
  {
   "cell_type": "code",
   "execution_count": 158,
   "metadata": {},
   "outputs": [],
   "source": [
    "def part2( text ):\n",
    "\n",
    "    compy = Computer(text)\n",
    "    target = compy.program\n",
    "\n",
    "    # It turns out that the byteprefix HAS to be 000 or else the program won't end!\n",
    "    # This program fails when the potential solution starts with \n",
    "    A = 0\n",
    "    while True:\n",
    "        dprint(\"byteprefix:\", A)\n",
    "        #print(\"A = \", A)\n",
    "        dprint(target)\n",
    "\n",
    "        solution = solve( target, A, text )\n",
    "        if solution is not None:\n",
    "            # This catches an edge case where there's a bad solution starting with \"000 000\"\n",
    "            # This fails because one (possibly more) characters will not be printed\n",
    "            # This is a hack to figure out the first byte using a different method\n",
    "            # and then recursing from that starting place\n",
    "\n",
    "            print(\"checking\", solution)\n",
    "            dprint( log(solution, 8) )\n",
    "            if log(solution, 8) >= len(target) - 1:\n",
    "                break\n",
    "\n",
    "            A = find_first_digit( text )\n",
    "            target = target[:-1]\n",
    "        else:\n",
    "            raise BaseException(\"No solution found!\")\n",
    "\n",
    "\n",
    "\n",
    "    # one final check\n",
    "    compy.A = solution\n",
    "    compy.B = compy.C = 0\n",
    "    out = compy.run()\n",
    "    result = [int(x) for x in out.split(\",\")]\n",
    "\n",
    "    if result != compy.program:\n",
    "        print(\"Warning, final check failed!\")\n",
    "\n",
    "    return solution\n",
    "\n",
    "def find_first_digit( text ):\n",
    "    hack = Computer( text )\n",
    "    # manually find the first digit...\n",
    "    target = hack.program[-1]\n",
    "    \n",
    "    for x in range(1, 8):\n",
    "        hack = Computer( text )\n",
    "        hack.A = x\n",
    "        out = int( hack.run() )\n",
    "        if out == target:\n",
    "            return x\n",
    "        \n",
    "    raise BaseException(\"Could not find starting digit!\")"
   ]
  },
  {
   "cell_type": "code",
   "execution_count": 159,
   "metadata": {},
   "outputs": [
    {
     "name": "stdout",
     "output_type": "stream",
     "text": [
      "checking 109020013201563\n"
     ]
    },
    {
     "data": {
      "text/plain": [
       "109020013201563"
      ]
     },
     "execution_count": 159,
     "metadata": {},
     "output_type": "execute_result"
    }
   ],
   "source": [
    "DEBUG = False\n",
    "part2(puzz_str)"
   ]
  },
  {
   "cell_type": "code",
   "execution_count": 161,
   "metadata": {},
   "outputs": [],
   "source": [
    "fn = \"../data/2024/17_alt.txt\"\n",
    "with open(fn, \"r\") as file:\n",
    "    text = file.readlines()\n",
    "puzz_str2 = [x.strip() for x in text]"
   ]
  }
 ],
 "metadata": {
  "kernelspec": {
   "display_name": "Python 3",
   "language": "python",
   "name": "python3"
  },
  "language_info": {
   "codemirror_mode": {
    "name": "ipython",
    "version": 3
   },
   "file_extension": ".py",
   "mimetype": "text/x-python",
   "name": "python",
   "nbconvert_exporter": "python",
   "pygments_lexer": "ipython3",
   "version": "3.11.9"
  },
  "orig_nbformat": 4
 },
 "nbformat": 4,
 "nbformat_minor": 2
}
