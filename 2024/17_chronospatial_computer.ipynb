{
 "cells": [
  {
   "attachments": {},
   "cell_type": "markdown",
   "metadata": {},
   "source": [
    "# December 17, 2024\n",
    "\n",
    "https://adventofcode.com/2024/day/17"
   ]
  },
  {
   "cell_type": "code",
   "execution_count": 4,
   "metadata": {},
   "outputs": [],
   "source": [
    "import re"
   ]
  },
  {
   "cell_type": "code",
   "execution_count": 1,
   "metadata": {},
   "outputs": [],
   "source": [
    "DEBUG = False\n",
    "def dprint( *args ):\n",
    "    if DEBUG:\n",
    "        return print(*args)\n"
   ]
  },
  {
   "cell_type": "code",
   "execution_count": 6,
   "metadata": {},
   "outputs": [],
   "source": [
    "test_str = f'''Register A: 729\n",
    "Register B: 0\n",
    "Register C: 0\n",
    "\n",
    "Program: 0,1,5,4,3,0'''\n",
    "test_str = test_str.split(\"\\n\")"
   ]
  },
  {
   "cell_type": "code",
   "execution_count": 3,
   "metadata": {},
   "outputs": [],
   "source": [
    "fn = \"../data/2024/17.txt\"\n",
    "with open(fn, \"r\") as file:\n",
    "    text = file.readlines()\n",
    "puzz_str = [x.strip() for x in text]"
   ]
  },
  {
   "cell_type": "markdown",
   "metadata": {},
   "source": [
    "# Part 1\n"
   ]
  },
  {
   "cell_type": "code",
   "execution_count": 54,
   "metadata": {},
   "outputs": [],
   "source": [
    "class Computer:\n",
    "    def __init__(self, text):\n",
    "        self.A = int(re.search(\"\\d+$\", text[0])[0])\n",
    "        self.B = int(re.search(\"\\d+$\", text[1])[0])\n",
    "        self.C = int(re.search(\"\\d+$\", text[2])[0])\n",
    "        self.program = [int(x) for x in text[4][9:].split(\",\") ]\n",
    "\n",
    "        # points at current index in program sequence\n",
    "        self.ptr = 0\n",
    "\n",
    "        # numerical output buffer \n",
    "        self.output = list()\n",
    "\n",
    "    def run(self):\n",
    "        while self.ptr < len(self.program):\n",
    "            self.execute()\n",
    "\n",
    "\n",
    "        return \",\".join( [str(x) for x in self.output] )\n",
    "    \n",
    "    def execute(self):\n",
    "        op_list = [\"adv\", \"bxl\", \"bst\", \"jnz\", \"bxc\", \"out\", \"bdv\", \"cdv\"]\n",
    "        opno = self.program[ self.ptr ]\n",
    "        operand = self.program[ self.ptr + 1]\n",
    "        self.ptr += 2\n",
    "        op = getattr(self, op_list[opno])\n",
    "        return op( operand )\n",
    "        \n",
    "    # operand interpretation\n",
    "    def combo(self, n):\n",
    "        if n <= 3:\n",
    "            return n\n",
    "        if n == 4:\n",
    "            return self.A\n",
    "        if n == 5:\n",
    "            return self.B\n",
    "        if n == 6:\n",
    "            return self.C\n",
    "        if n == 7:\n",
    "            raise BaseException(\"Combo operand 7 is invald\")\n",
    "        \n",
    "    def literal(self, n):\n",
    "        return n\n",
    "\n",
    "    # operator implementation\n",
    "    def adv(self, operand):\n",
    "        # op 0\n",
    "        x = self.combo(operand)\n",
    "        self.A = int( self.A / (2**x) )\n",
    "        return self.A\n",
    "    \n",
    "    def bxl(self, operand):\n",
    "        # op 1\n",
    "        x = self.literal(operand)\n",
    "        self.B ^= x\n",
    "        return self.B\n",
    "    \n",
    "    def bst(self, operand):\n",
    "        # op 2\n",
    "        x = self.combo(operand)\n",
    "        self.B = x % 8\n",
    "        return self.B\n",
    "    \n",
    "    def jnz(self, operand):\n",
    "        # op 3\n",
    "        x = self.literal(operand)\n",
    "        if self.A != 0:\n",
    "            self.ptr = x\n",
    "        return None\n",
    "    \n",
    "    def bxc(self, operand):\n",
    "        # op 4\n",
    "        self.B ^= self.C\n",
    "        return self.B\n",
    "    \n",
    "    def out(self, operand):\n",
    "        # op 5\n",
    "        x = self.combo(operand)\n",
    "        self.output.append( x % 8 )\n",
    "        return None\n",
    "    \n",
    "    def bdv(self, operand):\n",
    "        # op 6\n",
    "        x = self.combo(operand)\n",
    "        self.B = int( self.A / (2**x) )\n",
    "        return self.B\n",
    "    \n",
    "    def cdv(self, operand):\n",
    "        # op 7\n",
    "        x = self.combo(operand)\n",
    "        self.C = int( self.A / (2**x) )\n",
    "        return self.C"
   ]
  },
  {
   "cell_type": "code",
   "execution_count": 55,
   "metadata": {},
   "outputs": [
    {
     "data": {
      "text/plain": [
       "'4,6,3,5,6,3,5,2,1,0'"
      ]
     },
     "execution_count": 55,
     "metadata": {},
     "output_type": "execute_result"
    }
   ],
   "source": [
    "test = Computer(test_str)\n",
    "test.run()"
   ]
  },
  {
   "cell_type": "code",
   "execution_count": 56,
   "metadata": {},
   "outputs": [
    {
     "data": {
      "text/plain": [
       "'7,0,3,1,2,6,3,7,1'"
      ]
     },
     "execution_count": 56,
     "metadata": {},
     "output_type": "execute_result"
    }
   ],
   "source": [
    "Computer(puzz_str).run()"
   ]
  },
  {
   "cell_type": "markdown",
   "metadata": {},
   "source": [
    "# Part 2\n",
    "\n",
    "The trick here is to solve from right to left."
   ]
  },
  {
   "cell_type": "code",
   "execution_count": 304,
   "metadata": {},
   "outputs": [],
   "source": [
    "def part2( text ):\n",
    "\n",
    "    compy = Computer(text)\n",
    "    target = compy.program\n",
    "    A = 0\n",
    "    while True:\n",
    "        dprint(\"byteprefix:\", A)\n",
    "        solution = solve( target, A, text )\n",
    "        if solution is not None:\n",
    "            break\n",
    "        A += 1\n",
    "\n",
    "    print(\"Found a solution starting with byte prefix\", A)\n",
    "    compy.A = solution\n",
    "    out = compy.run()\n",
    "    result = [int(x) for x in out.split(\",\")]\n",
    "    assert compy.program == result\n",
    "    return solution\n",
    "\n",
    "def solve( target, A_so_far, text ):\n",
    "    if len(target) == 0:\n",
    "        return A_so_far\n",
    "    \n",
    "    # find possibilities to hit the next target\n",
    "    nbo = next_byte_options( target[-1], A_so_far, text )\n",
    "\n",
    "    # try each of those possibilities\n",
    "    for nb in nbo:\n",
    "        result = solve( target[:-1], A_so_far*8 + nb, text )\n",
    "        if result is not None:\n",
    "            return result\n",
    "        \n",
    "    # poo -- no solution found\n",
    "    dprint(\"No solution for target\", target, \"starting with A\", A_so_far)\n",
    "    return None\n",
    "\n",
    "\n",
    "\n",
    "def next_byte_options( target, A_so_far, text ):\n",
    "    nbo = list()\n",
    "    for n in range(0,8):\n",
    "        comp = Computer(text)\n",
    "        comp.A = A_so_far * 8 + n\n",
    "        out = comp.run()\n",
    "        byte = int(out[0])\n",
    "        if byte == target:\n",
    "            nbo.append(n)\n",
    "\n",
    "    return nbo"
   ]
  },
  {
   "cell_type": "code",
   "execution_count": 305,
   "metadata": {},
   "outputs": [
    {
     "name": "stdout",
     "output_type": "stream",
     "text": [
      "byteprefix: 0\n",
      "No solution for target [2, 4, 1, 5, 7, 5, 0, 3, 4, 1, 1, 6] starting with A 1538\n",
      "No solution for target [2, 4, 1, 5, 7, 5, 0, 3, 4, 1, 1, 6] starting with A 1540\n",
      "No solution for target [2, 4, 1, 5, 7, 5, 0, 3, 4, 1, 1, 6] starting with A 1542\n",
      "No solution for target [2, 4, 1, 5, 7, 5, 0, 3, 4, 1, 1, 6] starting with A 1543\n",
      "No solution for target [2, 4, 1, 5, 7, 5, 0, 3, 4, 1, 1, 6, 5] starting with A 192\n",
      "No solution for target [2, 4, 1, 5, 7, 5, 0, 3, 4, 1, 1, 6] starting with A 1570\n",
      "No solution for target [2, 4, 1, 5, 7, 5, 0, 3, 4, 1, 1, 6] starting with A 1572\n",
      "No solution for target [2, 4, 1, 5, 7, 5, 0, 3, 4, 1, 1, 6] starting with A 1575\n",
      "No solution for target [2, 4, 1, 5, 7, 5, 0, 3, 4, 1, 1, 6, 5] starting with A 196\n",
      "Found a solution starting with byte prefix 0\n"
     ]
    },
    {
     "data": {
      "text/plain": [
       "109020013201563"
      ]
     },
     "execution_count": 305,
     "metadata": {},
     "output_type": "execute_result"
    }
   ],
   "source": [
    "part2(puzz_str)"
   ]
  }
 ],
 "metadata": {
  "kernelspec": {
   "display_name": "Python 3",
   "language": "python",
   "name": "python3"
  },
  "language_info": {
   "codemirror_mode": {
    "name": "ipython",
    "version": 3
   },
   "file_extension": ".py",
   "mimetype": "text/x-python",
   "name": "python",
   "nbconvert_exporter": "python",
   "pygments_lexer": "ipython3",
   "version": "3.11.9"
  },
  "orig_nbformat": 4
 },
 "nbformat": 4,
 "nbformat_minor": 2
}
