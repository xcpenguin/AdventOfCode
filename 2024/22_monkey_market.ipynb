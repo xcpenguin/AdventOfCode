{
 "cells": [
  {
   "attachments": {},
   "cell_type": "markdown",
   "metadata": {},
   "source": [
    "# December 22, 2024\n",
    "\n",
    "https://adventofcode.com/2024/day/22"
   ]
  },
  {
   "cell_type": "code",
   "execution_count": 2,
   "metadata": {},
   "outputs": [],
   "source": [
    "DEBUG = False\n",
    "def dprint( *args ):\n",
    "    if DEBUG:\n",
    "        return print(*args)\n"
   ]
  },
  {
   "cell_type": "code",
   "execution_count": 15,
   "metadata": {},
   "outputs": [],
   "source": [
    "test = [1,10,100,2024]"
   ]
  },
  {
   "cell_type": "code",
   "execution_count": 13,
   "metadata": {},
   "outputs": [],
   "source": [
    "fn = \"../data/2024/22.txt\"\n",
    "with open(fn, \"r\") as file:\n",
    "    text = file.readlines()\n",
    "puzz = [int(x.strip()) for x in text]"
   ]
  },
  {
   "cell_type": "code",
   "execution_count": 2,
   "metadata": {},
   "outputs": [
    {
     "data": {
      "text/plain": [
       "10"
      ]
     },
     "execution_count": 2,
     "metadata": {},
     "output_type": "execute_result"
    }
   ],
   "source": [
    "int(10.9)"
   ]
  },
  {
   "cell_type": "markdown",
   "metadata": {},
   "source": [
    "# Part 1"
   ]
  },
  {
   "cell_type": "code",
   "execution_count": 18,
   "metadata": {},
   "outputs": [],
   "source": [
    "def evolve( x, n = 1 ):\n",
    "\n",
    "    for i in range(0, n):\n",
    "        y = x * 64\n",
    "        x ^= y\n",
    "        x = x % 16777216\n",
    "\n",
    "        y = int( x / 32 )\n",
    "        x ^= y\n",
    "        x = x % 16777216\n",
    "\n",
    "        y = x * 2048\n",
    "        x ^= y\n",
    "        x = x % 16777216\n",
    "    return x\n"
   ]
  },
  {
   "cell_type": "code",
   "execution_count": 19,
   "metadata": {},
   "outputs": [
    {
     "name": "stdout",
     "output_type": "stream",
     "text": [
      "15887950\n",
      "16495136\n",
      "527345\n",
      "704524\n",
      "1553684\n",
      "12683156\n",
      "11100544\n",
      "12249484\n",
      "7753432\n",
      "5908254\n"
     ]
    }
   ],
   "source": [
    "x = 123\n",
    "for i in range(0,10):\n",
    "    x = evolve(x)\n",
    "    print(x)"
   ]
  },
  {
   "cell_type": "code",
   "execution_count": 20,
   "metadata": {},
   "outputs": [],
   "source": [
    "def part1(puzz, n=2000):\n",
    "    secret = [ evolve(x, n) for x in puzz ]\n",
    "    return sum(secret), secret\n"
   ]
  },
  {
   "cell_type": "code",
   "execution_count": 21,
   "metadata": {},
   "outputs": [
    {
     "data": {
      "text/plain": [
       "(37327623, [8685429, 4700978, 15273692, 8667524])"
      ]
     },
     "execution_count": 21,
     "metadata": {},
     "output_type": "execute_result"
    }
   ],
   "source": [
    "part1(test)"
   ]
  },
  {
   "cell_type": "code",
   "execution_count": 23,
   "metadata": {},
   "outputs": [
    {
     "data": {
      "text/plain": [
       "13022553808"
      ]
     },
     "execution_count": 23,
     "metadata": {},
     "output_type": "execute_result"
    }
   ],
   "source": [
    "out = part1(puzz)\n",
    "out[0]"
   ]
  },
  {
   "cell_type": "code",
   "execution_count": null,
   "metadata": {},
   "outputs": [],
   "source": []
  },
  {
   "cell_type": "markdown",
   "metadata": {},
   "source": [
    "# Part2"
   ]
  },
  {
   "cell_type": "markdown",
   "metadata": {},
   "source": [
    "### Wrong answers\n",
    "1814 (too high)"
   ]
  },
  {
   "cell_type": "code",
   "execution_count": 134,
   "metadata": {},
   "outputs": [],
   "source": [
    "def tokey(diffs):\n",
    "    return tuple(diffs)\n",
    "\n",
    "def assess_buyer( x, n ):\n",
    "    price_dict = dict()\n",
    "    diffs = list()\n",
    "    y = x % 10\n",
    "    \n",
    "    for i in range(0,n):\n",
    "        x = evolve(x)\n",
    "        y2 = x % 10\n",
    "        delta = y2 - y\n",
    "\n",
    "        if len(diffs) < 4:\n",
    "            diffs.append(delta)\n",
    "        else:\n",
    "            diffs = diffs[1:] + [delta]\n",
    "\n",
    "        if len(diffs) == 4:\n",
    "            key = tokey(diffs)\n",
    "            if key not in price_dict:\n",
    "                price_dict[key] = y2\n",
    "\n",
    "        y = y2\n",
    "\n",
    "    return price_dict"
   ]
  },
  {
   "cell_type": "code",
   "execution_count": 135,
   "metadata": {},
   "outputs": [],
   "source": [
    "def add_dict( this, that ):\n",
    "    # For everything in this, add the value in that if any\n",
    "    for k in this:\n",
    "        if k in that:\n",
    "            this[k] += that[k]\n",
    "\n",
    "    # For everything missing from this, just take that's value\n",
    "    for k in that:\n",
    "        if k not in this:\n",
    "            this[k] = that[k]\n",
    "\n",
    "    return this\n"
   ]
  },
  {
   "cell_type": "code",
   "execution_count": 136,
   "metadata": {},
   "outputs": [],
   "source": [
    "def part2( puzz, n ):\n",
    "    # get initial price_dict\n",
    "    price_dict = assess_buyer( puzz[0], n)\n",
    "    \n",
    "    # add in results from other buyers\n",
    "    for buyer in puzz[1:]:\n",
    "        #print(buyer)\n",
    "        next_dict = assess_buyer( buyer, n )\n",
    "        price_dict = add_dict( price_dict, next_dict )\n",
    "        \n",
    "    # find the best result:\n",
    "    best = 0\n",
    "    keys = None\n",
    "    for k, v in price_dict.items():\n",
    "        if v > best:\n",
    "            best = v\n",
    "            keys = k\n",
    "\n",
    "    return best, keys, price_dict"
   ]
  },
  {
   "cell_type": "code",
   "execution_count": 137,
   "metadata": {},
   "outputs": [],
   "source": [
    "out = part2( [1,2,3,2024], 2000 )"
   ]
  },
  {
   "cell_type": "code",
   "execution_count": 138,
   "metadata": {},
   "outputs": [
    {
     "data": {
      "text/plain": [
       "(23, (-2, 1, -1, 3))"
      ]
     },
     "execution_count": 138,
     "metadata": {},
     "output_type": "execute_result"
    }
   ],
   "source": [
    "out[:2]"
   ]
  },
  {
   "cell_type": "code",
   "execution_count": 139,
   "metadata": {},
   "outputs": [],
   "source": [
    "out = part2( puzz, 2000 )"
   ]
  },
  {
   "cell_type": "code",
   "execution_count": 140,
   "metadata": {},
   "outputs": [
    {
     "data": {
      "text/plain": [
       "(1555, (-1, 2, 0, 0))"
      ]
     },
     "execution_count": 140,
     "metadata": {},
     "output_type": "execute_result"
    }
   ],
   "source": [
    "out[:2]"
   ]
  }
 ],
 "metadata": {
  "kernelspec": {
   "display_name": "Python 3",
   "language": "python",
   "name": "python3"
  },
  "language_info": {
   "codemirror_mode": {
    "name": "ipython",
    "version": 3
   },
   "file_extension": ".py",
   "mimetype": "text/x-python",
   "name": "python",
   "nbconvert_exporter": "python",
   "pygments_lexer": "ipython3",
   "version": "3.11.9"
  },
  "orig_nbformat": 4
 },
 "nbformat": 4,
 "nbformat_minor": 2
}
