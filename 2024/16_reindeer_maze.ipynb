{
 "cells": [
  {
   "attachments": {},
   "cell_type": "markdown",
   "metadata": {},
   "source": [
    "# December 16, 2024\n",
    "\n",
    "https://adventofcode.com/2024/day/16"
   ]
  },
  {
   "cell_type": "code",
   "execution_count": 9,
   "metadata": {},
   "outputs": [],
   "source": [
    "from queue import PriorityQueue"
   ]
  },
  {
   "cell_type": "code",
   "execution_count": 56,
   "metadata": {},
   "outputs": [],
   "source": [
    "DEBUG = False\n",
    "def dprint( *args ):\n",
    "    if DEBUG:\n",
    "        return print(*args)\n"
   ]
  },
  {
   "cell_type": "code",
   "execution_count": 88,
   "metadata": {},
   "outputs": [],
   "source": [
    "# direction dict\n",
    "dirct = {\n",
    "    \"^\": [-1,0],\n",
    "    \"v\": [+1,0],\n",
    "    \"<\": [0,-1],\n",
    "    \">\": [0,+1]\n",
    "}\n",
    "\n",
    "WALL = \"#\"\n",
    "SPACE = \".\"\n",
    "BOX = \"O\"\n",
    "BOXL = \"[\"\n",
    "BOXR = \"]\"\n",
    "ROBOT = \"@\""
   ]
  },
  {
   "cell_type": "code",
   "execution_count": 31,
   "metadata": {},
   "outputs": [],
   "source": [
    "test_str1 = f'''###############\n",
    "#.......#....E#\n",
    "#.#.###.#.###.#\n",
    "#.....#.#...#.#\n",
    "#.###.#####.#.#\n",
    "#.#.#.......#.#\n",
    "#.#.#####.###.#\n",
    "#...........#.#\n",
    "###.#.#####.#.#\n",
    "#...#.....#.#.#\n",
    "#.#.#.###.#.#.#\n",
    "#.....#...#.#.#\n",
    "#.###.#.#.#.#.#\n",
    "#S..#.....#...#\n",
    "###############'''\n",
    "test_str1 = test_str1.split(\"\\n\")\n",
    "\n",
    "test_str2 = f'''#################\n",
    "#...#...#...#..E#\n",
    "#.#.#.#.#.#.#.#.#\n",
    "#.#.#.#...#...#.#\n",
    "#.#.#.#.###.#.#.#\n",
    "#...#.#.#.....#.#\n",
    "#.#.#.#.#.#####.#\n",
    "#.#...#.#.#.....#\n",
    "#.#.#####.#.###.#\n",
    "#.#.#.......#...#\n",
    "#.#.###.#####.###\n",
    "#.#.#...#.....#.#\n",
    "#.#.#.#####.###.#\n",
    "#.#.#.........#.#\n",
    "#.#.#.#########.#\n",
    "#S#.............#\n",
    "#################'''\n",
    "test_str2 = test_str2.split(\"\\n\")"
   ]
  },
  {
   "cell_type": "code",
   "execution_count": 32,
   "metadata": {},
   "outputs": [],
   "source": [
    "fn = \"../data/2024/16.txt\"\n",
    "with open(fn, \"r\") as file:\n",
    "    text = file.readlines()\n",
    "puzz_str = [x.strip() for x in text]"
   ]
  },
  {
   "cell_type": "code",
   "execution_count": 33,
   "metadata": {},
   "outputs": [],
   "source": [
    "def parse_input( text ):\n",
    "    walls = set()\n",
    "    for r, line in enumerate(text):\n",
    "        for c, x in enumerate(line):\n",
    "            if x == \"#\":\n",
    "                walls.add( (r,c) )\n",
    "            elif x == \"E\":\n",
    "                goal = (r,c)\n",
    "            elif x == \"S\":\n",
    "                start = (\">\", r, c)\n",
    "\n",
    "    return {\"start\":start, \"goal\":goal, \"walls\":walls}"
   ]
  },
  {
   "cell_type": "markdown",
   "metadata": {},
   "source": [
    "# Part 1\n"
   ]
  },
  {
   "cell_type": "code",
   "execution_count": 47,
   "metadata": {},
   "outputs": [],
   "source": [
    "# direction dictionary\n",
    "# gives dr, dc when moving in the given direction\n",
    "dirct = {\n",
    "    \"^\": [-1,0],\n",
    "    \"v\": [+1,0],\n",
    "    \"<\": [0,-1],\n",
    "    \">\": [0,+1]\n",
    "}\n"
   ]
  },
  {
   "cell_type": "code",
   "execution_count": 48,
   "metadata": {},
   "outputs": [],
   "source": [
    "def heuristic( goal, state ):\n",
    "    '''\n",
    "    Assumes no walls in the way: minimal number of moves and turns'''\n",
    "    bearing, r, c = state\n",
    "    gr, gc = goal\n",
    "\n",
    "    moves = abs(gr-r) + abs(gc-c)\n",
    "\n",
    "    turns = 0\n",
    "    if gr < r:\n",
    "        # need to go up: 1 turn from sideways, 2 turns from down\n",
    "        turns += (bearing != \"^\") + (bearing == \"v\")\n",
    "    if gr > r:\n",
    "        # need to go down: 1 turn from sideways, 2 turns from up\n",
    "        turns += (bearing != \"v\") + (bearing == \"^\")\n",
    "    if gc < c:\n",
    "        # need to go left: 1 turn from vertical, 2 turns from right\n",
    "        turns += (bearing != \"<\") + (bearing == \">\")\n",
    "    if gc > c:\n",
    "        # need to go right: 1 turn from vertical, 2 turns from left\n",
    "        turns += (bearing != \">\") + (bearing == \"<\")\n",
    "\n",
    "    # The max number of turns you need is two, because if you're facing the opposite direction\n",
    "    # You can do your orthogonal moves first.\n",
    "    # for example, going upright while facing left... you can turn up, move up, turn right, move right\n",
    "    turns = min(turns, 2)\n",
    "\n",
    "    return 1000*turns + moves\n",
    "\n",
    "\n"
   ]
  },
  {
   "cell_type": "code",
   "execution_count": 49,
   "metadata": {},
   "outputs": [],
   "source": [
    "def get_neighbors( state, walls ):\n",
    "    '''\n",
    "    Return the neighbor states\n",
    "    This includes turning or moving, but not both\n",
    "    '''\n",
    "    bearing, r, c = state\n",
    "    dr, dc = dirct[bearing]\n",
    "    r2, c2 = (r + dr, c + dc)\n",
    "\n",
    "    nbrs = set()\n",
    "    if (r2, c2) not in walls:\n",
    "        nbrs.add( (bearing, r2, c2) )\n",
    "\n",
    "    if bearing in (\"^\", \"v\"):\n",
    "        nbrs.add( (\"<\", r, c) )\n",
    "        nbrs.add( (\">\", r, c) )\n",
    "    else:\n",
    "        nbrs.add( (\"^\", r, c) )\n",
    "        nbrs.add( (\"v\", r, c) )\n",
    "\n",
    "    return nbrs"
   ]
  },
  {
   "cell_type": "code",
   "execution_count": 50,
   "metadata": {},
   "outputs": [],
   "source": [
    "def get_cost( current, next ):\n",
    "    '''state = (bearing, row, col). This function assumes one move xor one turn'''    \n",
    "    if current[0] == next[0]:\n",
    "        cost = abs(current[1] - next[1]) + abs(current[2] - next[2])\n",
    "    else:\n",
    "        cost = 1000\n",
    "\n",
    "    return cost"
   ]
  },
  {
   "cell_type": "code",
   "execution_count": 64,
   "metadata": {},
   "outputs": [],
   "source": [
    "def Astar( start, goal, walls ):\n",
    "   \n",
    "   frontier = PriorityQueue()\n",
    "   frontier.put( (0, start) )\n",
    "   came_from = dict()\n",
    "   cost_so_far = dict()\n",
    "   came_from[start] = None\n",
    "   cost_so_far[start] = 0\n",
    "\n",
    "\n",
    "   while not frontier.empty():\n",
    "      current = frontier.get()[1] #[0] is the priority, [1] is the value\n",
    "      dprint(current)\n",
    "\n",
    "      # ignore current[0] which is the bearing\n",
    "      if current[1:] == goal:\n",
    "         break\n",
    "\n",
    "   \n",
    "      for next in get_neighbors(current, walls):\n",
    "         dprint(next)\n",
    "         new_cost = cost_so_far[current] + get_cost(current, next)\n",
    "      \n",
    "         if next not in cost_so_far or new_cost < cost_so_far[next]:\n",
    "            cost_so_far[next] = new_cost\n",
    "            priority = new_cost + heuristic(goal, next)\n",
    "\n",
    "            frontier.put( (priority, next) )\n",
    "            came_from[next] = current\n",
    "\n",
    "   return cost_so_far[current]"
   ]
  },
  {
   "cell_type": "code",
   "execution_count": 152,
   "metadata": {},
   "outputs": [
    {
     "data": {
      "text/plain": [
       "7036"
      ]
     },
     "execution_count": 152,
     "metadata": {},
     "output_type": "execute_result"
    }
   ],
   "source": [
    "DEBUG = False\n",
    "puzz = parse_input(test_str1)\n",
    "Astar( **puzz )"
   ]
  },
  {
   "cell_type": "code",
   "execution_count": 153,
   "metadata": {},
   "outputs": [
    {
     "data": {
      "text/plain": [
       "11048"
      ]
     },
     "execution_count": 153,
     "metadata": {},
     "output_type": "execute_result"
    }
   ],
   "source": [
    "DEBUG = False\n",
    "puzz = parse_input(test_str2)\n",
    "Astar( **puzz )"
   ]
  },
  {
   "cell_type": "code",
   "execution_count": 154,
   "metadata": {},
   "outputs": [
    {
     "data": {
      "text/plain": [
       "102460"
      ]
     },
     "execution_count": 154,
     "metadata": {},
     "output_type": "execute_result"
    }
   ],
   "source": [
    "DEBUG = False\n",
    "puzz = parse_input(puzz_str)\n",
    "Astar( **puzz )"
   ]
  },
  {
   "cell_type": "markdown",
   "metadata": {},
   "source": [
    "# Part 2"
   ]
  },
  {
   "cell_type": "code",
   "execution_count": 175,
   "metadata": {},
   "outputs": [],
   "source": [
    "def Astar_multi( start, goal, walls ):\n",
    "   '''\n",
    "   modified Astart to return all best paths\n",
    "   '''\n",
    "   frontier = PriorityQueue()\n",
    "   frontier.put( (0, start) )\n",
    "   came_from = dict()\n",
    "   cost_so_far = dict()\n",
    "   came_from[start] = None\n",
    "   cost_so_far[start] = 0\n",
    "\n",
    "   best_cost = None\n",
    "\n",
    "\n",
    "   while not frontier.empty():\n",
    "      item = frontier.get() #[0] is the priority, [1] is the value\n",
    "      prio = item[0]\n",
    "      current = item[1]\n",
    "      \n",
    "      dprint(prio, current)\n",
    "\n",
    "\n",
    "      #* if prio > best_cost, then no more solutions exist\n",
    "      if best_cost is not None and prio > best_cost:\n",
    "         break\n",
    "\n",
    "      #* don't quit early until we look for alternate solutions   \n",
    "      if current[1:] == goal:\n",
    "         best_cost = cost_so_far[current]\n",
    "         continue\n",
    "\n",
    "   \n",
    "      for next in get_neighbors(current, walls):\n",
    "         dprint(next)\n",
    "         new_cost = cost_so_far[current] + get_cost(current, next)\n",
    "      \n",
    "\n",
    "         \n",
    "         if next not in cost_so_far or new_cost < cost_so_far[next]:\n",
    "               cost_so_far[next] = new_cost\n",
    "               priority = new_cost + heuristic(goal, next)\n",
    "               frontier.put( (priority, next) )\n",
    "               came_from[next] = set((current,))\n",
    "         elif new_cost == cost_so_far[next]:\n",
    "               #* for ties, we add an alternate path, but don't update costs or priorities\n",
    "               came_from[next].add((current))\n",
    "\n",
    "   return came_from"
   ]
  },
  {
   "cell_type": "code",
   "execution_count": 176,
   "metadata": {},
   "outputs": [],
   "source": [
    "def find_best_seats( came_from, state ):\n",
    "    dprint(state)\n",
    "    path = set( (state[1:],) )\n",
    "    if came_from[state] is not None:\n",
    "\n",
    "        for prev in came_from[state]:\n",
    "            #dprint(prev)\n",
    "            path = path.union( find_best_seats( came_from, prev ) )\n",
    "    return path\n",
    "\n",
    "def find_all_seats( came_from, goal ):\n",
    "    goals = set( ((\"^\", *goal), (\">\", *goal), (\"v\", *goal), (\"<\", *goal)) )\n",
    "    goals = goals.intersection( set(came_from) )\n",
    "    \n",
    "    seats = set()\n",
    "    for g in goals:\n",
    "        seats = seats.union( find_best_seats(came_from, g) )\n",
    "    seats.add(goal)\n",
    "\n",
    "    return seats"
   ]
  },
  {
   "cell_type": "code",
   "execution_count": 181,
   "metadata": {},
   "outputs": [],
   "source": [
    "def part2( text ):\n",
    "    puzz = parse_input( text )\n",
    "    came_from = Astar_multi( **puzz )\n",
    "    seats = find_all_seats( came_from, puzz[\"goal\"] )\n",
    "    return len(seats)"
   ]
  },
  {
   "cell_type": "code",
   "execution_count": 182,
   "metadata": {},
   "outputs": [
    {
     "data": {
      "text/plain": [
       "45"
      ]
     },
     "execution_count": 182,
     "metadata": {},
     "output_type": "execute_result"
    }
   ],
   "source": [
    "part2(test_str1)"
   ]
  },
  {
   "cell_type": "code",
   "execution_count": 183,
   "metadata": {},
   "outputs": [
    {
     "data": {
      "text/plain": [
       "64"
      ]
     },
     "execution_count": 183,
     "metadata": {},
     "output_type": "execute_result"
    }
   ],
   "source": [
    "part2(test_str2)"
   ]
  },
  {
   "cell_type": "code",
   "execution_count": 185,
   "metadata": {},
   "outputs": [
    {
     "data": {
      "text/plain": [
       "527"
      ]
     },
     "execution_count": 185,
     "metadata": {},
     "output_type": "execute_result"
    }
   ],
   "source": [
    "part2(puzz_str)"
   ]
  }
 ],
 "metadata": {
  "kernelspec": {
   "display_name": "Python 3",
   "language": "python",
   "name": "python3"
  },
  "language_info": {
   "codemirror_mode": {
    "name": "ipython",
    "version": 3
   },
   "file_extension": ".py",
   "mimetype": "text/x-python",
   "name": "python",
   "nbconvert_exporter": "python",
   "pygments_lexer": "ipython3",
   "version": "3.11.9"
  },
  "orig_nbformat": 4
 },
 "nbformat": 4,
 "nbformat_minor": 2
}
