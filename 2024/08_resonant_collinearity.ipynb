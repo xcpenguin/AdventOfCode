{
 "cells": [
  {
   "attachments": {},
   "cell_type": "markdown",
   "metadata": {},
   "source": [
    "# December 08, 2024\n",
    "\n",
    "https://adventofcode.com/2024/day/08"
   ]
  },
  {
   "cell_type": "code",
   "execution_count": 6,
   "metadata": {},
   "outputs": [],
   "source": [
    "from collections import defaultdict"
   ]
  },
  {
   "cell_type": "code",
   "execution_count": 8,
   "metadata": {},
   "outputs": [],
   "source": [
    "def parse_input( lines ):\n",
    "    answers = list()\n",
    "    operands = list()\n",
    "\n",
    "    for line in lines:\n",
    "        step1 = line.split(\":\")\n",
    "        ans = int(step1[0])\n",
    "        ops = [int(x) for x in step1[1][1:].split()]\n",
    "        answers.append(ans)\n",
    "        operands.append(ops)\n",
    "\n",
    "    return {\"ans\":answers, \"ops\":operands}"
   ]
  },
  {
   "cell_type": "code",
   "execution_count": 14,
   "metadata": {},
   "outputs": [],
   "source": [
    "test_str = f'''............\n",
    "........0...\n",
    ".....0......\n",
    ".......0....\n",
    "....0.......\n",
    "......A.....\n",
    "............\n",
    "............\n",
    "........A...\n",
    ".........A..\n",
    "............\n",
    "............'''\n",
    "\n",
    "test_str = test_str.split(\"\\n\")"
   ]
  },
  {
   "cell_type": "code",
   "execution_count": 81,
   "metadata": {},
   "outputs": [],
   "source": [
    "fn = \"../data/2024/08.txt\"\n",
    "with open(fn, \"r\") as file:\n",
    "    text = file.readlines()\n",
    "puzz_str = [line.strip() for line in text]"
   ]
  },
  {
   "cell_type": "markdown",
   "metadata": {},
   "source": [
    "# Part 1"
   ]
  },
  {
   "cell_type": "code",
   "execution_count": 76,
   "metadata": {},
   "outputs": [],
   "source": [
    "class Antenna_Map:\n",
    "    def __init__(self, lines):\n",
    "        self.nr = len(lines)\n",
    "        self.nc = len(lines[0])\n",
    "        self.antinodes = None\n",
    "\n",
    "        self.antennae = defaultdict(list)\n",
    "        for r, line in enumerate(lines):\n",
    "            for c, char in enumerate(line):\n",
    "                if char != \".\":\n",
    "                    self.antennae[char].append(([r,c]))\n",
    "\n",
    "\n",
    "    def count_antinodes(self):\n",
    "        if self.antinodes is None:\n",
    "            self.determine_antinodes()\n",
    "\n",
    "        tot = 0\n",
    "        for val in self.antinodes.values():\n",
    "            tot += len(val)\n",
    "        return(tot)\n",
    "\n",
    "\n",
    "    def determine_antinodes( self ):\n",
    "        self.antinodes = defaultdict(set)\n",
    "        for freq in self.antennae:\n",
    "            self.solve_freq( freq )\n",
    "\n",
    "    def solve_freq( self, freq ):\n",
    "        pos_list = self.antennae[freq]\n",
    "        for i, pos1 in enumerate(pos_list[:-1]):\n",
    "            for pos2 in pos_list[(i+1):]:\n",
    "                dr = pos1[0] - pos2[0]\n",
    "                dc = pos1[1] - pos2[1]\n",
    "                anti1 = [ pos1[0] + dr, pos1[1] + dc ]\n",
    "                anti2 = [ pos2[0] - dr, pos2[1] - dc ]\n",
    "\n",
    "                \n",
    "                if self.check_bounds( anti1 ):\n",
    "                    self.antinodes[anti1[0]].add(anti1[1])\n",
    "                if self.check_bounds( anti2 ):\n",
    "                    self.antinodes[anti2[0]].add(anti2[1])\n",
    "\n",
    "\n",
    "\n",
    "    def check_bounds( self, pos ):\n",
    "        return 0 <= pos[0] and pos[0] < self.nr and 0 <= pos[1] and pos[1] < self.nc\n",
    "\n",
    "    def __str__( self ):\n",
    "        rep = [f'''Antenna Map ({self.nr}x{self.nc})''']\n",
    "        for freq, pos_list in self.antennae.items():\n",
    "            ant = freq + \":\"\n",
    "            for pos in pos_list:\n",
    "                ant += \" \" + str(pos)\n",
    "            rep.append(ant)\n",
    "\n",
    "        return \"\\n\".join(rep)\n",
    "    \n",
    "    def __repr__( self ):\n",
    "        return self.__str__()"
   ]
  },
  {
   "cell_type": "code",
   "execution_count": 77,
   "metadata": {},
   "outputs": [],
   "source": [
    "test = Antenna_Map(test_str)"
   ]
  },
  {
   "cell_type": "code",
   "execution_count": 78,
   "metadata": {},
   "outputs": [
    {
     "data": {
      "text/plain": [
       "Antenna Map (12x12)\n",
       "0: [1, 8] [2, 5] [3, 7] [4, 4]\n",
       "A: [5, 6] [8, 8] [9, 9]"
      ]
     },
     "execution_count": 78,
     "metadata": {},
     "output_type": "execute_result"
    }
   ],
   "source": [
    "test"
   ]
  },
  {
   "cell_type": "code",
   "execution_count": 79,
   "metadata": {},
   "outputs": [
    {
     "data": {
      "text/plain": [
       "14"
      ]
     },
     "execution_count": 79,
     "metadata": {},
     "output_type": "execute_result"
    }
   ],
   "source": [
    "test.count_antinodes()"
   ]
  },
  {
   "cell_type": "code",
   "execution_count": 80,
   "metadata": {},
   "outputs": [
    {
     "data": {
      "text/plain": [
       "354"
      ]
     },
     "execution_count": 80,
     "metadata": {},
     "output_type": "execute_result"
    }
   ],
   "source": [
    "puzz = Antenna_Map(puzz_str)\n",
    "puzz.count_antinodes()"
   ]
  },
  {
   "cell_type": "markdown",
   "metadata": {},
   "source": [
    "# Part 2"
   ]
  },
  {
   "cell_type": "code",
   "execution_count": 93,
   "metadata": {},
   "outputs": [],
   "source": [
    "class Antenna_Map2:\n",
    "    def __init__(self, lines):\n",
    "        self.nr = len(lines)\n",
    "        self.nc = len(lines[0])\n",
    "        self.antinodes = None\n",
    "\n",
    "        self.antennae = defaultdict(list)\n",
    "        for r, line in enumerate(lines):\n",
    "            for c, char in enumerate(line):\n",
    "                if char != \".\":\n",
    "                    self.antennae[char].append(([r,c]))\n",
    "\n",
    "\n",
    "    def count_antinodes(self):\n",
    "        if self.antinodes is None:\n",
    "            self.determine_antinodes()\n",
    "\n",
    "        tot = 0\n",
    "        for val in self.antinodes.values():\n",
    "            tot += len(val)\n",
    "        return(tot)\n",
    "\n",
    "\n",
    "    def determine_antinodes( self ):\n",
    "        self.antinodes = defaultdict(set)\n",
    "        for freq in self.antennae:\n",
    "            self.solve_freq( freq )\n",
    "\n",
    "    def solve_freq( self, freq ):\n",
    "        pos_list = self.antennae[freq]\n",
    "        for i, pos1 in enumerate(pos_list[:-1]):\n",
    "            for pos2 in pos_list[(i+1):]:\n",
    "                dr = pos1[0] - pos2[0]\n",
    "                dc = pos1[1] - pos2[1]\n",
    "\n",
    "                anti = pos1\n",
    "                while self.check_bounds(anti):\n",
    "                    self.antinodes[anti[0]].add(anti[1])\n",
    "                    anti = [anti[0] + dr, anti[1] + dc]\n",
    "\n",
    "                anti = pos2\n",
    "                while self.check_bounds(anti):\n",
    "                    self.antinodes[anti[0]].add(anti[1])\n",
    "                    anti = [anti[0] - dr, anti[1] - dc]\n",
    "\n",
    "\n",
    "\n",
    "\n",
    "    def check_bounds( self, pos ):\n",
    "        return 0 <= pos[0] and pos[0] < self.nr and 0 <= pos[1] and pos[1] < self.nc\n",
    "\n",
    "    def __str__( self ):\n",
    "        rep = [f'''Antenna Map ({self.nr}x{self.nc})''']\n",
    "        for freq, pos_list in self.antennae.items():\n",
    "            ant = freq + \":\"\n",
    "            for pos in pos_list:\n",
    "                ant += \" \" + str(pos)\n",
    "            rep.append(ant)\n",
    "\n",
    "        return \"\\n\".join(rep)\n",
    "    \n",
    "    def __repr__( self ):\n",
    "        return self.__str__()"
   ]
  },
  {
   "cell_type": "code",
   "execution_count": 94,
   "metadata": {},
   "outputs": [],
   "source": [
    "test = Antenna_Map2(test_str)"
   ]
  },
  {
   "cell_type": "code",
   "execution_count": 95,
   "metadata": {},
   "outputs": [
    {
     "data": {
      "text/plain": [
       "34"
      ]
     },
     "execution_count": 95,
     "metadata": {},
     "output_type": "execute_result"
    }
   ],
   "source": [
    "test.count_antinodes()"
   ]
  },
  {
   "cell_type": "code",
   "execution_count": 96,
   "metadata": {},
   "outputs": [
    {
     "data": {
      "text/plain": [
       "1263"
      ]
     },
     "execution_count": 96,
     "metadata": {},
     "output_type": "execute_result"
    }
   ],
   "source": [
    "puzz = Antenna_Map2(puzz_str)\n",
    "puzz.count_antinodes()"
   ]
  }
 ],
 "metadata": {
  "kernelspec": {
   "display_name": "Python 3",
   "language": "python",
   "name": "python3"
  },
  "language_info": {
   "codemirror_mode": {
    "name": "ipython",
    "version": 3
   },
   "file_extension": ".py",
   "mimetype": "text/x-python",
   "name": "python",
   "nbconvert_exporter": "python",
   "pygments_lexer": "ipython3",
   "version": "3.11.9"
  },
  "orig_nbformat": 4
 },
 "nbformat": 4,
 "nbformat_minor": 2
}
