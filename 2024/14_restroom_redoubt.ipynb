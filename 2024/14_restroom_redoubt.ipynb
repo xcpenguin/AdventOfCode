{
 "cells": [
  {
   "attachments": {},
   "cell_type": "markdown",
   "metadata": {},
   "source": [
    "# December 14, 2024\n",
    "\n",
    "https://adventofcode.com/2024/day/14"
   ]
  },
  {
   "cell_type": "code",
   "execution_count": 1,
   "metadata": {},
   "outputs": [],
   "source": [
    "import re"
   ]
  },
  {
   "cell_type": "code",
   "execution_count": 2,
   "metadata": {},
   "outputs": [],
   "source": [
    "DEBUG = False\n",
    "def dprint( *args ):\n",
    "    if DEBUG:\n",
    "        return print(*args)\n"
   ]
  },
  {
   "cell_type": "code",
   "execution_count": 3,
   "metadata": {},
   "outputs": [],
   "source": [
    "test_str = f'''p=0,4 v=3,-3\n",
    "p=6,3 v=-1,-3\n",
    "p=10,3 v=-1,2\n",
    "p=2,0 v=2,-1\n",
    "p=0,0 v=1,3\n",
    "p=3,0 v=-2,-2\n",
    "p=7,6 v=-1,-3\n",
    "p=3,0 v=-1,-2\n",
    "p=9,3 v=2,3\n",
    "p=7,3 v=-1,2\n",
    "p=2,4 v=2,-3\n",
    "p=9,5 v=-3,-3'''\n",
    "test_str = test_str.split(\"\\n\")"
   ]
  },
  {
   "cell_type": "code",
   "execution_count": 4,
   "metadata": {},
   "outputs": [],
   "source": [
    "fn = \"../data/2024/14.txt\"\n",
    "with open(fn, \"r\") as file:\n",
    "    text = file.readlines()\n",
    "puzz_str = [x.strip() for x in text]"
   ]
  },
  {
   "cell_type": "code",
   "execution_count": 9,
   "metadata": {},
   "outputs": [],
   "source": [
    "def parse_input( text ):\n",
    "    locs = list()\n",
    "    vels = list()\n",
    "    for line in text:\n",
    "        m = re.fullmatch(\"p=(\\d+),(\\d+) v=(-?\\d+),(-?\\d+)\", line)\n",
    "        locs.append( [int(m[1]), int(m[2])] )\n",
    "        vels.append( [int(m[3]), int(m[4])] )\n",
    "\n",
    "    return {\"locs\":locs, \"vels\":vels}"
   ]
  },
  {
   "cell_type": "code",
   "execution_count": 37,
   "metadata": {},
   "outputs": [],
   "source": [
    "test = parse_input(test_str)\n",
    "puzz = parse_input(puzz_str)"
   ]
  },
  {
   "cell_type": "markdown",
   "metadata": {},
   "source": [
    "# Part 1\n"
   ]
  },
  {
   "cell_type": "code",
   "execution_count": 41,
   "metadata": {},
   "outputs": [],
   "source": [
    "def pred_locs( locs, vels, time, dim=[101,103] ):\n",
    "    new_locs = list()\n",
    "    for i in range(0, len(locs) ):\n",
    "        x1,y1 = locs[i]\n",
    "        dx, dy = vels[i]\n",
    "\n",
    "        x2 = (x1 + dx*time) % dim[0]\n",
    "        y2 = (y1 + dy*time) % dim[1]\n",
    "\n",
    "        new_locs.append( [x2, y2] )\n",
    "    return new_locs\n",
    "\n",
    "def safety_factor ( locs, dim=[101,103] ):\n",
    "    quads = [0,0,0,0]\n",
    "    for loc in locs:\n",
    "        # this would be more readable as if-thens, but not as fun!\n",
    "        quads[ (loc[0] > (dim[0]-1)/2) + 2*(loc[1] > (dim[1]-1)/2) ] += (loc[0] != (dim[0]-1)/2) * (loc[1] != (dim[1]-1)/2)\n",
    "        \n",
    "    return quads[0] * quads[1] * quads[2] * quads[3]\n",
    "\n",
    "def part1( puzz, time, dim=[101,103] ):\n",
    "    new_locs = pred_locs( puzz[\"locs\"], puzz[\"vels\"], time, dim )\n",
    "    return safety_factor( new_locs, dim )\n",
    "    \n"
   ]
  },
  {
   "cell_type": "code",
   "execution_count": 42,
   "metadata": {},
   "outputs": [
    {
     "data": {
      "text/plain": [
       "12"
      ]
     },
     "execution_count": 42,
     "metadata": {},
     "output_type": "execute_result"
    }
   ],
   "source": [
    "part1(test, 100, dim=[11,7])"
   ]
  },
  {
   "cell_type": "code",
   "execution_count": 43,
   "metadata": {},
   "outputs": [
    {
     "data": {
      "text/plain": [
       "216772608"
      ]
     },
     "execution_count": 43,
     "metadata": {},
     "output_type": "execute_result"
    }
   ],
   "source": [
    "part1( puzz, 100 )"
   ]
  },
  {
   "cell_type": "markdown",
   "metadata": {},
   "source": [
    "# Part 2"
   ]
  },
  {
   "cell_type": "code",
   "execution_count": 58,
   "metadata": {},
   "outputs": [],
   "source": [
    "def str_robots( locs, dim=[101,103] ):\n",
    "    img = \"\"\n",
    "    for x in range(0, dim[0]):\n",
    "        for y in range(1, dim[1]):\n",
    "            if [x,y] in locs:\n",
    "                img += \"@\"\n",
    "            else:\n",
    "                img += \" \"\n",
    "        img += \"\\n\"\n",
    "    return img\n",
    "\n",
    "def part2( locs, vels, start=0, steps=1, dim=[101,103] ):\n",
    "    # deep copy\n",
    "    new_locs = [[x[0], x[1]] for x in locs]\n",
    "    for i in range(start, start+steps):\n",
    "        new_locs = pred_locs( new_locs, vels, 1, dim )\n",
    "        print(\"\\nSteps:\", i+1)\n",
    "        print( str_robots( new_locs, dim ) )\n",
    "\n",
    "\n",
    "    return new_locs, i+1"
   ]
  },
  {
   "cell_type": "code",
   "execution_count": null,
   "metadata": {},
   "outputs": [],
   "source": [
    "# Soln: 6888\n",
    "# nl, time = part2( puzz[\"locs\"], puzz[\"vels\"], start=0, steps=101*103 )"
   ]
  }
 ],
 "metadata": {
  "kernelspec": {
   "display_name": "Python 3",
   "language": "python",
   "name": "python3"
  },
  "language_info": {
   "codemirror_mode": {
    "name": "ipython",
    "version": 3
   },
   "file_extension": ".py",
   "mimetype": "text/x-python",
   "name": "python",
   "nbconvert_exporter": "python",
   "pygments_lexer": "ipython3",
   "version": "3.11.9"
  },
  "orig_nbformat": 4
 },
 "nbformat": 4,
 "nbformat_minor": 2
}
