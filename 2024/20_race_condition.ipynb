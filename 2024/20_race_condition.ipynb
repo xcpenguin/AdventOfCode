{
 "cells": [
  {
   "attachments": {},
   "cell_type": "markdown",
   "metadata": {},
   "source": [
    "# December 20, 2024\n",
    "\n",
    "https://adventofcode.com/2024/day/20"
   ]
  },
  {
   "cell_type": "code",
   "execution_count": 1,
   "metadata": {},
   "outputs": [],
   "source": [
    "DEBUG = False\n",
    "def dprint( *args ):\n",
    "    if DEBUG:\n",
    "        return print(*args)\n"
   ]
  },
  {
   "cell_type": "code",
   "execution_count": 4,
   "metadata": {},
   "outputs": [],
   "source": [
    "def parse_input( text ):\n",
    "    maze = [ [x for x in line] for line in text ]\n",
    "\n",
    "    for r, line in enumerate(maze):\n",
    "        for c, x in enumerate(line):\n",
    "            if maze[r][c] == \"S\":\n",
    "                start = (r,c)\n",
    "            elif maze[r][c] == \"E\":\n",
    "                goal = (r,c)\n",
    "    return {\"maze\":maze, \"start\":start, \"goal\":goal}"
   ]
  },
  {
   "cell_type": "code",
   "execution_count": 5,
   "metadata": {},
   "outputs": [],
   "source": [
    "test_str = f'''###############\n",
    "#...#...#.....#\n",
    "#.#.#.#.#.###.#\n",
    "#S#...#.#.#...#\n",
    "#######.#.#.###\n",
    "#######.#.#...#\n",
    "#######.#.###.#\n",
    "###..E#...#...#\n",
    "###.#######.###\n",
    "#...###...#...#\n",
    "#.#####.#.###.#\n",
    "#.#...#.#.#...#\n",
    "#.#.#.#.#.#.###\n",
    "#...#...#...###\n",
    "###############'''\n",
    "test = parse_input(test_str.split(\"\\n\"))"
   ]
  },
  {
   "cell_type": "code",
   "execution_count": 8,
   "metadata": {},
   "outputs": [],
   "source": [
    "fn = \"../data/2024/20.txt\"\n",
    "with open(fn, \"r\") as file:\n",
    "    text = file.readlines()\n",
    "puzz_str = [x.strip() for x in text]\n",
    "puzz = parse_input(puzz_str)"
   ]
  },
  {
   "cell_type": "markdown",
   "metadata": {},
   "source": [
    "# Part 1 & 2\n"
   ]
  },
  {
   "cell_type": "code",
   "execution_count": 67,
   "metadata": {},
   "outputs": [],
   "source": [
    "def find_path( maze, start, goal ):\n",
    "    offsets = ( (-1,0), (+1,0), (0,-1), (0,+1) )\n",
    "    \n",
    "    # adding start twice to prevent out of index on first loop\n",
    "    # we remove it later\n",
    "    path = [start, start]\n",
    "\n",
    "    while path[-1] != goal:\n",
    "        r,c = path[-1]\n",
    "        for d in offsets:\n",
    "            nbr = ( r+d[0], c+d[1] )\n",
    "            if nbr == path[-2]: # don't backtrack\n",
    "                continue\n",
    "\n",
    "            if maze[nbr[0]][nbr[1]] != \"#\":\n",
    "                path.append(nbr)\n",
    "                break\n",
    "\n",
    "    return path[1:]"
   ]
  },
  {
   "cell_type": "code",
   "execution_count": 68,
   "metadata": {},
   "outputs": [],
   "source": [
    "def find_cheats( path, min_gain = 2, max_len=2 ):\n",
    "    cheats = list()\n",
    "    # start and end of cheat must be at least mg steps apart\n",
    "    mg = min_gain + 2\n",
    "    \n",
    "    for i, p in enumerate(path):\n",
    "        if i + mg >= len(path):\n",
    "            break\n",
    "\n",
    "        for j, q in enumerate( path[i+mg:] ):\n",
    "            # the length of the cheat from p to q \n",
    "            cheat_len = abs(p[0]-q[0]) + abs(p[1]-q[1])\n",
    "\n",
    "            if cheat_len >= 2 and cheat_len <= max_len:\n",
    "                    gain = j + mg - cheat_len\n",
    "                    if gain >= min_gain:\n",
    "                        cheats.append( [p,q, gain])\n",
    "\n",
    "    return cheats\n",
    "\n",
    "\n"
   ]
  },
  {
   "cell_type": "code",
   "execution_count": 73,
   "metadata": {},
   "outputs": [],
   "source": [
    "def cheat_finder( puzz, min_gain=2, max_len=2 ):\n",
    "    long_path = find_path( **puzz )\n",
    "    cheats = find_cheats( long_path, min_gain, max_len)\n",
    "    return len(cheats)    "
   ]
  },
  {
   "cell_type": "code",
   "execution_count": 74,
   "metadata": {},
   "outputs": [
    {
     "data": {
      "text/plain": [
       "44"
      ]
     },
     "execution_count": 74,
     "metadata": {},
     "output_type": "execute_result"
    }
   ],
   "source": [
    "cheat_finder(test)"
   ]
  },
  {
   "cell_type": "code",
   "execution_count": 75,
   "metadata": {},
   "outputs": [
    {
     "data": {
      "text/plain": [
       "1450"
      ]
     },
     "execution_count": 75,
     "metadata": {},
     "output_type": "execute_result"
    }
   ],
   "source": [
    "cheat_finder(puzz, 100)"
   ]
  },
  {
   "cell_type": "code",
   "execution_count": 76,
   "metadata": {},
   "outputs": [
    {
     "data": {
      "text/plain": [
       "285"
      ]
     },
     "execution_count": 76,
     "metadata": {},
     "output_type": "execute_result"
    }
   ],
   "source": [
    "cheat_finder(test, min_gain=50, max_len=20)"
   ]
  },
  {
   "cell_type": "code",
   "execution_count": 77,
   "metadata": {},
   "outputs": [
    {
     "data": {
      "text/plain": [
       "1015247"
      ]
     },
     "execution_count": 77,
     "metadata": {},
     "output_type": "execute_result"
    }
   ],
   "source": [
    "cheat_finder(puzz, min_gain=100, max_len=20)"
   ]
  }
 ],
 "metadata": {
  "kernelspec": {
   "display_name": "Python 3",
   "language": "python",
   "name": "python3"
  },
  "language_info": {
   "codemirror_mode": {
    "name": "ipython",
    "version": 3
   },
   "file_extension": ".py",
   "mimetype": "text/x-python",
   "name": "python",
   "nbconvert_exporter": "python",
   "pygments_lexer": "ipython3",
   "version": "3.11.9"
  },
  "orig_nbformat": 4
 },
 "nbformat": 4,
 "nbformat_minor": 2
}
