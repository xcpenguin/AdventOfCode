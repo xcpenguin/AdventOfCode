{
 "cells": [
  {
   "attachments": {},
   "cell_type": "markdown",
   "metadata": {},
   "source": [
    "# December 05, 2024\n",
    "\n",
    "https://adventofcode.com/2024/day/05"
   ]
  },
  {
   "cell_type": "code",
   "execution_count": 41,
   "metadata": {},
   "outputs": [],
   "source": [
    "from collections import defaultdict\n",
    "from itertools import chain"
   ]
  },
  {
   "cell_type": "code",
   "execution_count": 10,
   "metadata": {},
   "outputs": [],
   "source": [
    "def parse_input( lines ):\n",
    "    rules = list()\n",
    "    updates = list()\n",
    "    for line in lines:\n",
    "        if len(line) == 0:\n",
    "            continue\n",
    "        if \"|\" in line:\n",
    "            x,y = line.split(\"|\")\n",
    "            rules.append( [int(x) for x in line.split(\"|\")] )\n",
    "        else:\n",
    "            updates.append( [int(x) for x in line.split(\",\")] )\n",
    "\n",
    "    return rules, updates"
   ]
  },
  {
   "cell_type": "code",
   "execution_count": 11,
   "metadata": {},
   "outputs": [],
   "source": [
    "test = f'''47|53\n",
    "97|13\n",
    "97|61\n",
    "97|47\n",
    "75|29\n",
    "61|13\n",
    "75|53\n",
    "29|13\n",
    "97|29\n",
    "53|29\n",
    "61|53\n",
    "97|53\n",
    "61|29\n",
    "47|13\n",
    "75|47\n",
    "97|75\n",
    "47|61\n",
    "75|61\n",
    "47|29\n",
    "75|13\n",
    "53|13\n",
    "\n",
    "75,47,61,53,29\n",
    "97,61,53,29,13\n",
    "75,29,13\n",
    "75,97,47,61,53\n",
    "61,13,29\n",
    "97,13,75,29,47'''\n",
    "\n",
    "test = test.split(\"\\n\")\n",
    "test = parse_input(test)"
   ]
  },
  {
   "cell_type": "code",
   "execution_count": 14,
   "metadata": {},
   "outputs": [],
   "source": [
    "fn = \"../data/2024/05.txt\"\n",
    "with open(fn, \"r\") as file:\n",
    "    text = file.readlines()\n",
    "puzz = [line.strip() for line in text]\n",
    "puzz = parse_input(puzz)"
   ]
  },
  {
   "cell_type": "markdown",
   "metadata": {},
   "source": [
    "# Part 1"
   ]
  },
  {
   "cell_type": "code",
   "execution_count": 23,
   "metadata": {},
   "outputs": [],
   "source": [
    "def create_rule_dict( rules ):\n",
    "    '''key = page; value = list of pages that can't follow it'''\n",
    "    rule_dict = defaultdict(list)\n",
    "    for rule in rules:\n",
    "        rule_dict[rule[1]].append(rule[0])\n",
    "\n",
    "    return rule_dict"
   ]
  },
  {
   "cell_type": "code",
   "execution_count": 25,
   "metadata": {},
   "outputs": [],
   "source": [
    "nono = create_rule_dict(test[0])"
   ]
  },
  {
   "cell_type": "code",
   "execution_count": 26,
   "metadata": {},
   "outputs": [
    {
     "data": {
      "text/plain": [
       "defaultdict(list,\n",
       "            {53: [47, 75, 61, 97],\n",
       "             13: [97, 61, 29, 47, 75, 53],\n",
       "             61: [97, 47, 75],\n",
       "             47: [97, 75],\n",
       "             29: [75, 97, 53, 61, 47],\n",
       "             75: [97]})"
      ]
     },
     "execution_count": 26,
     "metadata": {},
     "output_type": "execute_result"
    }
   ],
   "source": [
    "nono"
   ]
  },
  {
   "cell_type": "code",
   "execution_count": 34,
   "metadata": {},
   "outputs": [],
   "source": [
    "def check_update( update, nono ):\n",
    "    # is there a better algo than n^2?\n",
    "    for i, p0 in enumerate(update):\n",
    "        for p1 in update[(i+1):]:\n",
    "            if p1 in nono[p0]:\n",
    "                return 0\n",
    "    \n",
    "    # valid ordering; return the middle page number\n",
    "    return update[ int((len(update)-1)/2) ]"
   ]
  },
  {
   "cell_type": "code",
   "execution_count": 35,
   "metadata": {},
   "outputs": [
    {
     "name": "stdout",
     "output_type": "stream",
     "text": [
      "61\n",
      "53\n",
      "29\n",
      "0\n",
      "0\n",
      "0\n"
     ]
    }
   ],
   "source": [
    "for up in test[1]:\n",
    "    print(check_update(up, nono))"
   ]
  },
  {
   "cell_type": "code",
   "execution_count": 36,
   "metadata": {},
   "outputs": [],
   "source": [
    "def part1( rules, updates ):\n",
    "    nono = create_rule_dict( rules )\n",
    "\n",
    "    tot = 0\n",
    "    for up in updates:\n",
    "        tot += check_update( up, nono )\n",
    "\n",
    "    return tot"
   ]
  },
  {
   "cell_type": "code",
   "execution_count": 38,
   "metadata": {},
   "outputs": [
    {
     "data": {
      "text/plain": [
       "143"
      ]
     },
     "execution_count": 38,
     "metadata": {},
     "output_type": "execute_result"
    }
   ],
   "source": [
    "part1(*test)"
   ]
  },
  {
   "cell_type": "code",
   "execution_count": 39,
   "metadata": {},
   "outputs": [
    {
     "data": {
      "text/plain": [
       "5091"
      ]
     },
     "execution_count": 39,
     "metadata": {},
     "output_type": "execute_result"
    }
   ],
   "source": [
    "part1(*puzz)"
   ]
  },
  {
   "cell_type": "markdown",
   "metadata": {},
   "source": [
    "# Part 2"
   ]
  },
  {
   "cell_type": "code",
   "execution_count": 93,
   "metadata": {},
   "outputs": [],
   "source": [
    "def fix_order( update, nono ):\n",
    "    fixed = [update[0]]\n",
    "\n",
    "    # iterate over pages and make sure the follow all the rules\n",
    "    for new_page in update[1:]:\n",
    "        min_pos = 0\n",
    "        max_pos = len(fixed)\n",
    "\n",
    "        for pos, pg in enumerate(fixed):\n",
    "            \n",
    "            # check if this page can precede current page.\n",
    "            if pg in nono[new_page]:\n",
    "                # pg cannot follow new_page\n",
    "                min_pos = max(min_pos, pos+1)\n",
    "            if new_page in nono[pg]:\n",
    "                # new_page cannot follow pg\n",
    "                max_pos = min(max_pos, pos)\n",
    "\n",
    "        assert min_pos <= max_pos\n",
    "\n",
    "        fixed = fixed[:min_pos] + [new_page] + fixed[min_pos:]\n",
    "    return fixed\n",
    "\n",
    "def part2( rules, updates ):\n",
    "    nono = create_rule_dict( rules )\n",
    "\n",
    "    to_fix = list()\n",
    "    for up in updates:\n",
    "        if check_update( up, nono ) == 0:\n",
    "            # this one doesn't work!\n",
    "            to_fix.append( up )\n",
    "\n",
    "    tot = 0\n",
    "    for up in to_fix:\n",
    "        fixed = fix_order( up, nono )\n",
    "        tot += fixed[ int( (len(fixed)-1)/2) ]\n",
    "\n",
    "    return tot\n"
   ]
  },
  {
   "cell_type": "code",
   "execution_count": 94,
   "metadata": {},
   "outputs": [
    {
     "data": {
      "text/plain": [
       "123"
      ]
     },
     "execution_count": 94,
     "metadata": {},
     "output_type": "execute_result"
    }
   ],
   "source": [
    "part2( *test )"
   ]
  },
  {
   "cell_type": "code",
   "execution_count": 95,
   "metadata": {},
   "outputs": [
    {
     "data": {
      "text/plain": [
       "4681"
      ]
     },
     "execution_count": 95,
     "metadata": {},
     "output_type": "execute_result"
    }
   ],
   "source": [
    "part2(*puzz)"
   ]
  },
  {
   "cell_type": "code",
   "execution_count": null,
   "metadata": {},
   "outputs": [],
   "source": []
  }
 ],
 "metadata": {
  "kernelspec": {
   "display_name": "Python 3",
   "language": "python",
   "name": "python3"
  },
  "language_info": {
   "codemirror_mode": {
    "name": "ipython",
    "version": 3
   },
   "file_extension": ".py",
   "mimetype": "text/x-python",
   "name": "python",
   "nbconvert_exporter": "python",
   "pygments_lexer": "ipython3",
   "version": "3.11.9"
  },
  "orig_nbformat": 4
 },
 "nbformat": 4,
 "nbformat_minor": 2
}
