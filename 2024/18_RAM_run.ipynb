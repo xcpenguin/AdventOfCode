{
 "cells": [
  {
   "attachments": {},
   "cell_type": "markdown",
   "metadata": {},
   "source": [
    "# December 18, 2024\n",
    "\n",
    "https://adventofcode.com/2024/day/18"
   ]
  },
  {
   "cell_type": "code",
   "execution_count": 2,
   "metadata": {},
   "outputs": [],
   "source": [
    "from queue import PriorityQueue"
   ]
  },
  {
   "cell_type": "code",
   "execution_count": 3,
   "metadata": {},
   "outputs": [],
   "source": [
    "DEBUG = False\n",
    "def dprint( *args ):\n",
    "    if DEBUG:\n",
    "        return print(*args)\n"
   ]
  },
  {
   "cell_type": "code",
   "execution_count": 44,
   "metadata": {},
   "outputs": [],
   "source": [
    "def parse_input( text ):\n",
    "    walls = list()\n",
    "    for xy in text:\n",
    "        x,y = [int(x) for x in xy.split(\",\")]\n",
    "        walls.append( (y,x) )\n",
    "    return walls"
   ]
  },
  {
   "cell_type": "code",
   "execution_count": 45,
   "metadata": {},
   "outputs": [],
   "source": [
    "test_str = f'''5,4\n",
    "4,2\n",
    "4,5\n",
    "3,0\n",
    "2,1\n",
    "6,3\n",
    "2,4\n",
    "1,5\n",
    "0,6\n",
    "3,3\n",
    "2,6\n",
    "5,1\n",
    "1,2\n",
    "5,5\n",
    "2,5\n",
    "6,5\n",
    "1,4\n",
    "0,4\n",
    "6,4\n",
    "1,1\n",
    "6,1\n",
    "1,0\n",
    "0,5\n",
    "1,6\n",
    "2,0'''\n",
    "test_str = test_str.split(\"\\n\")\n",
    "test = parse_input(test_str)"
   ]
  },
  {
   "cell_type": "code",
   "execution_count": 70,
   "metadata": {},
   "outputs": [],
   "source": [
    "fn = \"../data/2024/18.txt\"\n",
    "with open(fn, \"r\") as file:\n",
    "    text = file.readlines()\n",
    "puzz_str = [x.strip() for x in text]\n",
    "puzz = parse_input(puzz_str)"
   ]
  },
  {
   "cell_type": "markdown",
   "metadata": {},
   "source": [
    "# Part 1\n"
   ]
  },
  {
   "cell_type": "code",
   "execution_count": 19,
   "metadata": {},
   "outputs": [],
   "source": [
    "def heuristic( here, goal ):\n",
    "    return abs(goal[0]-here[0]) + abs(goal[1]-here[1])"
   ]
  },
  {
   "cell_type": "code",
   "execution_count": 18,
   "metadata": {},
   "outputs": [],
   "source": [
    "def get_neighbors( loc, walls, dim ):\n",
    "    '''\n",
    "    Return the neighbor states\n",
    "    This includes turning or moving, but not both\n",
    "    '''\n",
    "\n",
    "    nbr = list()\n",
    "    r,c = loc\n",
    "    maxr, maxc = dim\n",
    "\n",
    "    if r > 0 and (r-1, c) not in walls:\n",
    "        nbr.append( (r-1, c) )\n",
    "    if r < maxr - 1 and (r+1, c) not in walls:\n",
    "        nbr.append( (r+1, c) )\n",
    "    if c > 0 and (r,c-1) not in walls:\n",
    "        nbr.append( (r,c-1) )\n",
    "    if c < maxc - 1 and (r, c+1) not in walls:\n",
    "        nbr.append( (r, c+1) )\n",
    "\n",
    "    return nbr"
   ]
  },
  {
   "cell_type": "code",
   "execution_count": 26,
   "metadata": {},
   "outputs": [],
   "source": [
    "def get_cost( loc, next ):\n",
    "    return 1"
   ]
  },
  {
   "cell_type": "code",
   "execution_count": 39,
   "metadata": {},
   "outputs": [],
   "source": [
    "def trace_path( come_from, current ):\n",
    "    path = [current]\n",
    "    while come_from[current] is not None:\n",
    "        current = come_from[current]\n",
    "        path = [current] + path\n",
    "\n",
    "    return path"
   ]
  },
  {
   "cell_type": "code",
   "execution_count": 72,
   "metadata": {},
   "outputs": [],
   "source": [
    "def Astar( walls, start=(0,0), goal=(70,70), dim=None ):\n",
    "   \n",
    "   if dim is None:\n",
    "      dim = [goal[0]+1, goal[1]+1]\n",
    "\n",
    "   frontier = PriorityQueue()\n",
    "   frontier.put( (0, start)) \n",
    "   came_from = dict()\n",
    "   cost_so_far = dict()\n",
    "   came_from[start] = None\n",
    "   cost_so_far[start] = 0\n",
    "\n",
    "\n",
    "   while not frontier.empty():\n",
    "      current = frontier.get()[1] #[0] is the priority, [1] is the value\n",
    "      dprint(current)\n",
    "      dprint(get_neighbors(current, walls, dim))\n",
    "\n",
    "      # ignore current[0] which is the bearing\n",
    "      if current == goal:\n",
    "         break\n",
    "\n",
    "   \n",
    "      for next in get_neighbors(current, walls, dim):\n",
    "         dprint(next)\n",
    "         new_cost = cost_so_far[current] + get_cost(current, next)\n",
    "      \n",
    "         if next not in cost_so_far or new_cost < cost_so_far[next]:\n",
    "            cost_so_far[next] = new_cost\n",
    "            priority = new_cost + heuristic(goal, next)\n",
    "\n",
    "            frontier.put( (priority, next) )\n",
    "            came_from[next] = current\n",
    "\n",
    "   if current == goal:\n",
    "      return cost_so_far[current]\n",
    "   else:\n",
    "      return None"
   ]
  },
  {
   "cell_type": "code",
   "execution_count": 73,
   "metadata": {},
   "outputs": [
    {
     "data": {
      "text/plain": [
       "22"
      ]
     },
     "execution_count": 73,
     "metadata": {},
     "output_type": "execute_result"
    }
   ],
   "source": [
    "Astar( test[:12], goal=(6,6) )"
   ]
  },
  {
   "cell_type": "code",
   "execution_count": 74,
   "metadata": {},
   "outputs": [
    {
     "data": {
      "text/plain": [
       "248"
      ]
     },
     "execution_count": 74,
     "metadata": {},
     "output_type": "execute_result"
    }
   ],
   "source": [
    "Astar( puzz[:1024], goal=(70,70) )"
   ]
  },
  {
   "cell_type": "markdown",
   "metadata": {},
   "source": [
    "# Part 2"
   ]
  },
  {
   "cell_type": "markdown",
   "metadata": {},
   "source": [
    "Cheesing this. I'm not even implementing a grid search. XD"
   ]
  },
  {
   "cell_type": "code",
   "execution_count": 80,
   "metadata": {},
   "outputs": [
    {
     "name": "stdout",
     "output_type": "stream",
     "text": [
      "6,1\n"
     ]
    }
   ],
   "source": [
    "for n in range(13, len(test) ):\n",
    "    out = Astar(test[:n], goal=(6,6) )\n",
    "    if out is None:\n",
    "        break\n",
    "\n",
    "yx = test[n-1]\n",
    "print( f\"{yx[1]},{yx[0]}\" )"
   ]
  },
  {
   "cell_type": "code",
   "execution_count": 81,
   "metadata": {},
   "outputs": [
    {
     "name": "stdout",
     "output_type": "stream",
     "text": [
      "1100\n",
      "1200\n",
      "1300\n",
      "1400\n",
      "1500\n",
      "1600\n",
      "1700\n",
      "1800\n",
      "1900\n",
      "2000\n",
      "2100\n",
      "2200\n",
      "2300\n",
      "2400\n",
      "2500\n",
      "2600\n",
      "2700\n",
      "2800\n",
      "32,55\n"
     ]
    }
   ],
   "source": [
    "for n in range(1025, len(puzz)):\n",
    "    out = Astar(puzz[:n], goal=(70,70))\n",
    "    if out is None:\n",
    "        break\n",
    "    if n % 100 == 0:\n",
    "        print(n)\n",
    "yx = puzz[n-1]\n",
    "print( f\"{yx[1]},{yx[0]}\" )"
   ]
  }
 ],
 "metadata": {
  "kernelspec": {
   "display_name": "Python 3",
   "language": "python",
   "name": "python3"
  },
  "language_info": {
   "codemirror_mode": {
    "name": "ipython",
    "version": 3
   },
   "file_extension": ".py",
   "mimetype": "text/x-python",
   "name": "python",
   "nbconvert_exporter": "python",
   "pygments_lexer": "ipython3",
   "version": "3.11.9"
  },
  "orig_nbformat": 4
 },
 "nbformat": 4,
 "nbformat_minor": 2
}
