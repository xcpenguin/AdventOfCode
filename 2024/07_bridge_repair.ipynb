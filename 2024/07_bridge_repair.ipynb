{
 "cells": [
  {
   "attachments": {},
   "cell_type": "markdown",
   "metadata": {},
   "source": [
    "# December 07, 2024\n",
    "\n",
    "https://adventofcode.com/2024/day/07"
   ]
  },
  {
   "cell_type": "code",
   "execution_count": 3,
   "metadata": {},
   "outputs": [],
   "source": [
    "from collections import defaultdict"
   ]
  },
  {
   "cell_type": "code",
   "execution_count": 5,
   "metadata": {},
   "outputs": [],
   "source": [
    "line = \"921381619: 151 17 53 4 115 9\"\n"
   ]
  },
  {
   "cell_type": "code",
   "execution_count": 6,
   "metadata": {},
   "outputs": [
    {
     "data": {
      "text/plain": [
       "(921381619, [151, 17, 53, 4, 115, 9])"
      ]
     },
     "execution_count": 6,
     "metadata": {},
     "output_type": "execute_result"
    }
   ],
   "source": [
    "step1 = line.split(\":\")\n"
   ]
  },
  {
   "cell_type": "code",
   "execution_count": 8,
   "metadata": {},
   "outputs": [],
   "source": [
    "def parse_input( lines ):\n",
    "    answers = list()\n",
    "    operands = list()\n",
    "\n",
    "    for line in lines:\n",
    "        step1 = line.split(\":\")\n",
    "        ans = int(step1[0])\n",
    "        ops = [int(x) for x in step1[1][1:].split()]\n",
    "        answers.append(ans)\n",
    "        operands.append(ops)\n",
    "\n",
    "    return {\"ans\":answers, \"ops\":operands}"
   ]
  },
  {
   "cell_type": "code",
   "execution_count": 11,
   "metadata": {},
   "outputs": [],
   "source": [
    "test = f'''190: 10 19\n",
    "3267: 81 40 27\n",
    "83: 17 5\n",
    "156: 15 6\n",
    "7290: 6 8 6 15\n",
    "161011: 16 10 13\n",
    "192: 17 8 14\n",
    "21037: 9 7 18 13\n",
    "292: 11 6 16 20'''\n",
    "\n",
    "test = test.split(\"\\n\")\n",
    "test = parse_input(test)"
   ]
  },
  {
   "cell_type": "code",
   "execution_count": 13,
   "metadata": {},
   "outputs": [],
   "source": [
    "fn = \"../data/2024/07.txt\"\n",
    "with open(fn, \"r\") as file:\n",
    "    text = file.readlines()\n",
    "puzz = [line.strip() for line in text]\n",
    "puzz = parse_input(puzz)"
   ]
  },
  {
   "cell_type": "code",
   "execution_count": 17,
   "metadata": {},
   "outputs": [
    {
     "name": "stdout",
     "output_type": "stream",
     "text": [
      "Total iterations: 38311\n"
     ]
    }
   ],
   "source": [
    "tot = 0\n",
    "for xx in puzz[\"ops\"]:\n",
    "    tot += (len(xx)-1)**2\n",
    "print(\"Total iterations:\", tot)"
   ]
  },
  {
   "cell_type": "markdown",
   "metadata": {},
   "source": [
    "# Part 1 and Part 2"
   ]
  },
  {
   "cell_type": "code",
   "execution_count": 96,
   "metadata": {},
   "outputs": [],
   "source": [
    "def check_eqn( target, operands ):\n",
    "    nops = len(operands)-1\n",
    "    top = 2**(nops)\n",
    "\n",
    "   # print(top)\n",
    "    for code in range(0, top):\n",
    "\n",
    "        bin = f'''{code:b}'''\n",
    "        padding = nops-len(bin)\n",
    "        bin = \"0\"*padding + bin\n",
    "        #print(bin)\n",
    "\n",
    "        val = operands[0]\n",
    "        for i, op in enumerate(operands[1:]):\n",
    "            if bin[i] == \"1\":\n",
    "                val *= op\n",
    "            else:\n",
    "                val += op\n",
    "            #print(val)\n",
    "        if target == val:\n",
    "            return True\n",
    "        \n",
    "    return False\n",
    "\n",
    "\n",
    "\n",
    "\n"
   ]
  },
  {
   "cell_type": "code",
   "execution_count": 118,
   "metadata": {},
   "outputs": [],
   "source": [
    "def encode_integer( num, base=2, digits=0 ):\n",
    "    # create string representation of num in given base\n",
    "    # result will be at least digits long\n",
    "    string = \"\"\n",
    "    while num > 0:\n",
    "        digit = num % base\n",
    "        string = str(digit) + string\n",
    "        num = int( (num - digit)/base )\n",
    "\n",
    "    if len(string) < digits:\n",
    "        string = \"0\"* (digits-len(string)) + string\n",
    "    return string\n",
    "\n",
    "\n"
   ]
  },
  {
   "cell_type": "code",
   "execution_count": 119,
   "metadata": {},
   "outputs": [],
   "source": [
    "def check_eqn( target, operands, base=2 ):\n",
    "    # see if target can be created from operands\n",
    "    # base gives number of possible operators\n",
    "    #    0:+, 1:*, 2:||\n",
    "    nops = len(operands)-1 # number of operators needed\n",
    "    top = base**(nops) # number of combinations possible\n",
    "\n",
    "    for code in range(0, top):\n",
    "        operator_string = encode_integer( code, base, nops)\n",
    "\n",
    "        val = operands[0]\n",
    "        for i, op in enumerate(operands[1:]):\n",
    "            if operator_string[i] == \"2\":\n",
    "                # concat\n",
    "                val = int( str(val) + str(op) )\n",
    "            elif operator_string[i] == \"1\":\n",
    "                val *= op\n",
    "            elif operator_string[i] == \"0\":\n",
    "                val += op\n",
    "            else:\n",
    "                # undefined!\n",
    "                raise \"This is an illegal operation!\"\n",
    "        if target == val:\n",
    "            # early exit - checking for existence only\n",
    "            return True\n",
    "        \n",
    "    return False"
   ]
  },
  {
   "cell_type": "code",
   "execution_count": 120,
   "metadata": {},
   "outputs": [],
   "source": [
    "def solve_puzzle( puzz, base=2 ):\n",
    "    total = 0\n",
    "    for i in range(0, len(puzz[\"ans\"])):\n",
    "        answer = puzz[\"ans\"][i]\n",
    "        operands = puzz[\"ops\"][i]\n",
    "\n",
    "        if check_eqn( answer, operands, base ):\n",
    "            total += answer\n",
    "\n",
    "    return total"
   ]
  },
  {
   "cell_type": "code",
   "execution_count": 121,
   "metadata": {},
   "outputs": [
    {
     "data": {
      "text/plain": [
       "3749"
      ]
     },
     "execution_count": 121,
     "metadata": {},
     "output_type": "execute_result"
    }
   ],
   "source": [
    "solve_puzzle(test)"
   ]
  },
  {
   "cell_type": "code",
   "execution_count": 122,
   "metadata": {},
   "outputs": [
    {
     "data": {
      "text/plain": [
       "42283209483350"
      ]
     },
     "execution_count": 122,
     "metadata": {},
     "output_type": "execute_result"
    }
   ],
   "source": [
    "solve_puzzle(puzz)"
   ]
  },
  {
   "cell_type": "code",
   "execution_count": 123,
   "metadata": {},
   "outputs": [
    {
     "data": {
      "text/plain": [
       "11387"
      ]
     },
     "execution_count": 123,
     "metadata": {},
     "output_type": "execute_result"
    }
   ],
   "source": [
    "solve_puzzle(test, base=3)"
   ]
  },
  {
   "cell_type": "code",
   "execution_count": 124,
   "metadata": {},
   "outputs": [
    {
     "data": {
      "text/plain": [
       "1026766857276279"
      ]
     },
     "execution_count": 124,
     "metadata": {},
     "output_type": "execute_result"
    }
   ],
   "source": [
    "solve_puzzle(puzz, base=3)"
   ]
  }
 ],
 "metadata": {
  "kernelspec": {
   "display_name": "Python 3",
   "language": "python",
   "name": "python3"
  },
  "language_info": {
   "codemirror_mode": {
    "name": "ipython",
    "version": 3
   },
   "file_extension": ".py",
   "mimetype": "text/x-python",
   "name": "python",
   "nbconvert_exporter": "python",
   "pygments_lexer": "ipython3",
   "version": "3.11.9"
  },
  "orig_nbformat": 4
 },
 "nbformat": 4,
 "nbformat_minor": 2
}
