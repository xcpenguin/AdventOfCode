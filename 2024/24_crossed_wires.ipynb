{
 "cells": [
  {
   "attachments": {},
   "cell_type": "markdown",
   "metadata": {},
   "source": [
    "# December 24, 2024\n",
    "\n",
    "https://adventofcode.com/2024/day/24"
   ]
  },
  {
   "cell_type": "code",
   "execution_count": 87,
   "metadata": {},
   "outputs": [],
   "source": [
    "import re"
   ]
  },
  {
   "cell_type": "code",
   "execution_count": 37,
   "metadata": {},
   "outputs": [],
   "source": [
    "DEBUG = False\n",
    "def dprint( *args ):\n",
    "    if DEBUG:\n",
    "        return print(*args)\n"
   ]
  },
  {
   "cell_type": "code",
   "execution_count": 38,
   "metadata": {},
   "outputs": [],
   "source": [
    "test_str1 = f'''x00: 1\n",
    "x01: 1\n",
    "x02: 1\n",
    "y00: 0\n",
    "y01: 1\n",
    "y02: 0\n",
    "\n",
    "x00 AND y00 -> z00\n",
    "x01 XOR y01 -> z01\n",
    "x02 OR y02 -> z02'''\n",
    "test_str1 = test_str1.split(\"\\n\")\n",
    "\n",
    "test_str2 = f'''x00: 1\n",
    "x01: 0\n",
    "x02: 1\n",
    "x03: 1\n",
    "x04: 0\n",
    "y00: 1\n",
    "y01: 1\n",
    "y02: 1\n",
    "y03: 1\n",
    "y04: 1\n",
    "\n",
    "ntg XOR fgs -> mjb\n",
    "y02 OR x01 -> tnw\n",
    "kwq OR kpj -> z05\n",
    "x00 OR x03 -> fst\n",
    "tgd XOR rvg -> z01\n",
    "vdt OR tnw -> bfw\n",
    "bfw AND frj -> z10\n",
    "ffh OR nrd -> bqk\n",
    "y00 AND y03 -> djm\n",
    "y03 OR y00 -> psh\n",
    "bqk OR frj -> z08\n",
    "tnw OR fst -> frj\n",
    "gnj AND tgd -> z11\n",
    "bfw XOR mjb -> z00\n",
    "x03 OR x00 -> vdt\n",
    "gnj AND wpb -> z02\n",
    "x04 AND y00 -> kjc\n",
    "djm OR pbm -> qhw\n",
    "nrd AND vdt -> hwm\n",
    "kjc AND fst -> rvg\n",
    "y04 OR y02 -> fgs\n",
    "y01 AND x02 -> pbm\n",
    "ntg OR kjc -> kwq\n",
    "psh XOR fgs -> tgd\n",
    "qhw XOR tgd -> z09\n",
    "pbm OR djm -> kpj\n",
    "x03 XOR y03 -> ffh\n",
    "x00 XOR y04 -> ntg\n",
    "bfw OR bqk -> z06\n",
    "nrd XOR fgs -> wpb\n",
    "frj XOR qhw -> z04\n",
    "bqk OR frj -> z07\n",
    "y03 OR x01 -> nrd\n",
    "hwm AND bqk -> z03\n",
    "tgd XOR rvg -> z12\n",
    "tnw OR pbm -> gnj'''\n",
    "test_str2 = test_str2.split(\"\\n\")"
   ]
  },
  {
   "cell_type": "code",
   "execution_count": 48,
   "metadata": {},
   "outputs": [],
   "source": [
    "fn = \"../data/2024/24.txt\"\n",
    "with open(fn, \"r\") as file:\n",
    "    text = file.readlines()\n",
    "puzz_str = [x.strip() for x in text]"
   ]
  },
  {
   "cell_type": "markdown",
   "metadata": {},
   "source": [
    "# Part 1"
   ]
  },
  {
   "cell_type": "code",
   "execution_count": 40,
   "metadata": {},
   "outputs": [],
   "source": [
    "class Gate:\n",
    "    def __init__(self, logic, parents ):\n",
    "        self.logic = logic\n",
    "        if logic == \"const\":\n",
    "            self.parents = None\n",
    "            self.value = parents\n",
    "        else:\n",
    "            self.parents = parents\n",
    "            self.value = None\n",
    "\n",
    "    def set_value(self, val0, val1):\n",
    "        if self.logic == \"OR\":\n",
    "            self.value = max(val0, val1)\n",
    "        elif self.logic == \"XOR\":\n",
    "            self.value = int( val0 != val1 )\n",
    "        elif self.logic == \"AND\":\n",
    "            self.value = min(val0, val1)\n"
   ]
  },
  {
   "cell_type": "code",
   "execution_count": 41,
   "metadata": {},
   "outputs": [],
   "source": [
    "def parse_input( text ):\n",
    "    wires = dict()\n",
    "\n",
    "    for line in text:\n",
    "        if \":\" in line:\n",
    "            nombre = line[:3]\n",
    "            val = int(line[-1])\n",
    "            wires[nombre] = Gate(\"const\", val)\n",
    "\n",
    "        if len(line) == 0:\n",
    "            continue\n",
    "\n",
    "        if \"-\" in line:\n",
    "            pieces = line.split(\" \")\n",
    "            par1 = pieces[0]\n",
    "            par2 = pieces[2]\n",
    "            logic = pieces[1]\n",
    "            nombre = pieces[4]\n",
    "            wires[ nombre ] = Gate( logic, [par1, par2] )\n",
    "    return wires\n"
   ]
  },
  {
   "cell_type": "code",
   "execution_count": 43,
   "metadata": {},
   "outputs": [],
   "source": [
    "def solve_gates( puzz ):\n",
    "    done = False\n",
    "    while not done:\n",
    "        done = True\n",
    "        for name, gate in puzz.items():\n",
    "            if gate.value is None:\n",
    "                parents = gate.parents\n",
    "                val0 = puzz[parents[0]].value\n",
    "                val1 = puzz[parents[1]].value\n",
    "                if val0 is not None and val1 is not None:\n",
    "                    dprint(\"setting value for\", name)\n",
    "                    gate.set_value( val0, val1 )\n",
    "                else:\n",
    "                    done = False"
   ]
  },
  {
   "cell_type": "code",
   "execution_count": 44,
   "metadata": {},
   "outputs": [],
   "source": [
    "def part1( text ):\n",
    "    puzz = parse_input(text)\n",
    "    solve_gates(puzz)\n",
    "    \n",
    "    tot = 0\n",
    "    for name, gate in puzz.items():\n",
    "        if name[0] == \"z\" and gate.value == 1:\n",
    "            tot += (2 ** int(name[1:3]))\n",
    "\n",
    "    return tot\n"
   ]
  },
  {
   "cell_type": "code",
   "execution_count": 45,
   "metadata": {},
   "outputs": [
    {
     "data": {
      "text/plain": [
       "4"
      ]
     },
     "execution_count": 45,
     "metadata": {},
     "output_type": "execute_result"
    }
   ],
   "source": [
    "part1( test_str1 )"
   ]
  },
  {
   "cell_type": "code",
   "execution_count": 46,
   "metadata": {},
   "outputs": [
    {
     "data": {
      "text/plain": [
       "2024"
      ]
     },
     "execution_count": 46,
     "metadata": {},
     "output_type": "execute_result"
    }
   ],
   "source": [
    "part1( test_str2 )"
   ]
  },
  {
   "cell_type": "code",
   "execution_count": 49,
   "metadata": {},
   "outputs": [
    {
     "data": {
      "text/plain": [
       "47666458872582"
      ]
     },
     "execution_count": 49,
     "metadata": {},
     "output_type": "execute_result"
    }
   ],
   "source": [
    "part1( puzz_str )"
   ]
  },
  {
   "cell_type": "markdown",
   "metadata": {},
   "source": [
    "# Part2"
   ]
  },
  {
   "cell_type": "code",
   "execution_count": 85,
   "metadata": {},
   "outputs": [],
   "source": [
    "def read_gates( text ):\n",
    "    gates = dict()\n",
    "    for line in text:\n",
    "        if \":\" in line or len(line) == 0:\n",
    "            continue\n",
    "\n",
    "        if \"-\" in line:\n",
    "            pieces = line.split(\" \")\n",
    "            par1 = pieces[0]\n",
    "            par2 = pieces[2]\n",
    "            logic = pieces[1]\n",
    "            nombre = pieces[4]\n",
    "            gates[ nombre ] = (logic, par1, par2) \n",
    "\n",
    "    return gates"
   ]
  },
  {
   "cell_type": "markdown",
   "metadata": {},
   "source": [
    "Process to calculate a value for z[i], i >= 2\n",
    "\n",
    "1. x[i-1] AND y[i-1] = carry[i] (Check if the prior digits are both 1 causing a carry)\n",
    "2. x[i] XOR y[i] = digit[i] (Check if the current digits would result in 0 or 1 before accounting for carries)\n",
    "3. both[i-1] AND digit[i-1] = chain[i] (Check if the prior digits caused a double carry from the digits twice prior)\n",
    "4. chain[i] OR carry[i] = both[i] (Check if the regular carry or chain carry is adding a 1 here)\n",
    "5. digit[i] XOR both[i] = z[i] (Final value for the digit if exactly one of these is adding a 1, if both are 1s it will carry to the next place)"
   ]
  },
  {
   "cell_type": "code",
   "execution_count": 198,
   "metadata": {},
   "outputs": [],
   "source": [
    "def checkxy( spec ):\n",
    "    '''check if the input wires are x[nn] and y[nn]'''\n",
    "    # X inputs can only appear alongside the matching y input, so we only need to check one.\n",
    "    return re.fullmatch(\"(x|y)(\\d\\d)\", spec[1])\n",
    "\n",
    "def identify_gates( gates ):\n",
    "    # identifies all the parts of the logic, assuming it's correct.\n",
    "    # we'll verify later to id the broken bits\n",
    "    lenz = 1 + max( [int(k[1:]) for k in gates if k[0] == \"z\"] )\n",
    "\n",
    "    carry = [\"\"] * lenz\n",
    "    digit = [\"\"] * lenz\n",
    "    chain = [\"\"] * lenz\n",
    "    both = [\"\"] * lenz\n",
    "    \n",
    "    # First identify the carry and digit gates, because those have known inputs\n",
    "    for k, v in gates.items():\n",
    "        # Check for carry gate\n",
    "        # x[i-1] AND x[i-1] -> carry[i]\n",
    "        if v[0] == \"AND\" and checkxy(v):\n",
    "            carry[int(v[1][1:])+1] = k\n",
    "\n",
    "        # Check for a digit gate:\n",
    "        # x[i] XOR y[i] -> digit[i]\n",
    "        if v[0] == \"XOR\" and checkxy(v):\n",
    "            digit[int(v[1][1:])] = k \n",
    "\n",
    "    # hack to make some later logic work due to z01 working differently\n",
    "    both[1] = carry[1]\n",
    "                    \n",
    "    # Now identify the chain gates based on digit and carry gates\n",
    "    for k, v in gates.items():\n",
    "        # carry[i-1] AND digit[i-1] -> chain[i]\n",
    "        if v[0] == \"AND\" and not checkxy(v):\n",
    "            for i, name in enumerate(digit):\n",
    "                if name in v[1:]:\n",
    "                    chain[i+1] = k\n",
    "                    break\n",
    "    \n",
    "    # Now identify the both gates based on chain and carry gates\n",
    "    for k, v in gates.items():\n",
    "        # carry[i-1] OR digit[i-1] -> chain[i]\n",
    "        if v[0] == \"OR\":\n",
    "            for i, name in enumerate(carry):\n",
    "                if name in v[1:]:\n",
    "                    both[i] = k\n",
    "                    break\n",
    "\n",
    "    return {\"carry\":carry, \"digit\":digit, \"chain\":chain, \"both\":both}"
   ]
  },
  {
   "cell_type": "code",
   "execution_count": 249,
   "metadata": {},
   "outputs": [],
   "source": [
    "def check_spec( gate, spec ):\n",
    "    return gate[0] == spec[0] and set(gate[1:]) == set(spec[1:])\n",
    "\n",
    "def check_digit( gates, design, n ):\n",
    "    '''check if the 5 gates to identify the nth digit are correct'''\n",
    "    \n",
    "    if n == 0:\n",
    "        if design[\"digit\"][0] != \"z00\":\n",
    "            raise BaseException(\"fixing z00 not implemented\")\n",
    "        return None\n",
    "    if n == 1:\n",
    "        if set(gates[\"z01\"][1:]) != set([design[\"carry\"][1], design[\"digit\"][1]]):\n",
    "            raise BaseException(\"fixing z01 not implemented\")\n",
    "        return None\n",
    "    \n",
    "    # Check chain gate\n",
    "    chainn = design[\"chain\"][n]\n",
    "    if len(chainn) == 0:\n",
    "        raise BaseException(\"Fix not implemented for missing CHAIN gate name.\")\n",
    "    \n",
    "    chain_spec = [\"AND\", design[\"both\"][n-1], design[\"digit\"][n-1]]\n",
    "    if not check_spec( gates[chainn], chain_spec ):\n",
    "        return chainn, chain_spec\n",
    "    \n",
    "    # Check chain both\n",
    "    bothn = design[\"both\"][n]\n",
    "    if len(bothn) == 0:\n",
    "        raise BaseException(\"Fix not implemented for missing BOTH gate name.\")\n",
    "\n",
    "    both_spec = [\"OR\", design[\"carry\"][n], design[\"chain\"][n]]\n",
    "    if not check_spec( gates[bothn], both_spec ):\n",
    "        return bothn, both_spec\n",
    "    \n",
    "    # Check final calc\n",
    "    znn = f\"z{n:02d}\"\n",
    "    znn_spec = [\"XOR\", design[\"digit\"][n], design[\"both\"][n]]\n",
    "    if not check_spec( gates[znn], znn_spec ):\n",
    "        return znn, znn_spec\n",
    "    \n",
    "    return None\n",
    "\n",
    "def find_first_error( gates, design ):\n",
    "    '''iterate and find the first error.\n",
    "    We go least to most significant because later digits rely on having correct names for earlier digits'''\n",
    "    lenz = len(design[\"carry\"])\n",
    "    for i in range(0, lenz):\n",
    "        result = check_digit( gates, design, i )\n",
    "        if result is not None:\n",
    "            print(\"SPEC FOR\", i)\n",
    "            print( \"carry\", design[\"carry\"][i], gates[ design[\"carry\"][i] ] )\n",
    "            print( \"digit\", design[\"digit\"][i], gates[ design[\"digit\"][i] ] )\n",
    "            print( \"chain\", design[\"chain\"][i], gates[ design[\"chain\"][i] ] )\n",
    "            print( \"both\", design[\"both\"][i], gates[ design[\"both\"][i] ] )\n",
    "            print( \"final\", f\"z{i:02d}\", gates[f\"z{i:02d}\"] )\n",
    "\n",
    "            print(\"BOTH\", i-1, \":\", design[\"both\"][i-1])\n",
    "            print(\"DIGIT\", i-1, \":\", design[\"digit\"][i-1])\n",
    "            return result\n",
    "\n",
    "    return None"
   ]
  },
  {
   "cell_type": "code",
   "execution_count": 250,
   "metadata": {},
   "outputs": [],
   "source": [
    "def find_gate_by_spec( gates, spec ):\n",
    "    '''once we id the faulty digit, we want to identify the output that is incorrectly wired to the relevant gate'''\n",
    "    for k, v in gates.items():\n",
    "        if v[0] == spec[0] and set(v[1:]) == set(spec[1:]):\n",
    "            return k"
   ]
  },
  {
   "cell_type": "code",
   "execution_count": 274,
   "metadata": {},
   "outputs": [],
   "source": [
    "gates = read_gates( puzz_str )\n",
    "design = identify_gates( gates )"
   ]
  },
  {
   "cell_type": "code",
   "execution_count": 275,
   "metadata": {},
   "outputs": [
    {
     "name": "stdout",
     "output_type": "stream",
     "text": [
      "SPEC FOR 5\n",
      "carry kff ('AND', 'x04', 'y04')\n",
      "digit tvp ('XOR', 'y05', 'x05')\n",
      "chain rkg ('AND', 'bjc', 'tkj')\n",
      "both ggh ('OR', 'rkg', 'kff')\n",
      "final z05 ('OR', 'sgt', 'bhb')\n",
      "BOTH 4 : tkj\n",
      "DIGIT 4 : bjc\n"
     ]
    }
   ],
   "source": [
    "result = find_first_error(gates, design)"
   ]
  },
  {
   "cell_type": "code",
   "execution_count": 276,
   "metadata": {},
   "outputs": [
    {
     "data": {
      "text/plain": [
       "'jst'"
      ]
     },
     "execution_count": 276,
     "metadata": {},
     "output_type": "execute_result"
    }
   ],
   "source": [
    "# z05 isn't even an XOR gate so it's the wrong output for that gate.\n",
    "find_gate_by_spec( gates, result[1] )"
   ]
  },
  {
   "cell_type": "code",
   "execution_count": 277,
   "metadata": {},
   "outputs": [],
   "source": [
    "# fix this by swapping jst and z05\n",
    "gates[\"z05\"], gates[\"jst\"] = gates[\"jst\"], gates[\"z05\"]"
   ]
  },
  {
   "cell_type": "code",
   "execution_count": 278,
   "metadata": {},
   "outputs": [
    {
     "name": "stdout",
     "output_type": "stream",
     "text": [
      "SPEC FOR 10\n",
      "carry hrq ('AND', 'y09', 'x09')\n",
      "digit gdf ('XOR', 'y10', 'x10')\n",
      "chain mcc ('AND', 'mnk', 'cgq')\n",
      "both tdw ('OR', 'mcc', 'hrq')\n",
      "final z10 ('XOR', 'mcm', 'tdw')\n",
      "BOTH 9 : cgq\n",
      "DIGIT 9 : mnk\n"
     ]
    }
   ],
   "source": [
    "design = identify_gates( gates )\n",
    "result = find_first_error(gates, design)"
   ]
  },
  {
   "cell_type": "code",
   "execution_count": 279,
   "metadata": {},
   "outputs": [],
   "source": [
    "# z10 should be digit10 XOR both10. Conclude that digit10 should be mcm instead of gdf\n",
    "gates[\"gdf\"], gates[\"mcm\"] = gates[\"mcm\"], gates[\"gdf\"]"
   ]
  },
  {
   "cell_type": "code",
   "execution_count": 280,
   "metadata": {},
   "outputs": [
    {
     "name": "stdout",
     "output_type": "stream",
     "text": [
      "SPEC FOR 15\n",
      "carry hdb ('AND', 'y14', 'x14')\n",
      "digit dvj ('XOR', 'x15', 'y15')\n",
      "chain rkf ('AND', 'kkk', 'jhf')\n",
      "both vhr ('OR', 'hdb', 'rkf')\n",
      "final z15 ('AND', 'y15', 'x15')\n",
      "BOTH 14 : kkk\n",
      "DIGIT 14 : jhf\n"
     ]
    }
   ],
   "source": [
    "design = identify_gates( gates )\n",
    "result = find_first_error(gates, design)"
   ]
  },
  {
   "cell_type": "code",
   "execution_count": 281,
   "metadata": {},
   "outputs": [
    {
     "data": {
      "text/plain": [
       "'dnt'"
      ]
     },
     "execution_count": 281,
     "metadata": {},
     "output_type": "execute_result"
    }
   ],
   "source": [
    "# z15 is the wrong type of gate, find the one that's digit15 XOR both15\n",
    "find_gate_by_spec( gates, result[1] )"
   ]
  },
  {
   "cell_type": "code",
   "execution_count": 282,
   "metadata": {},
   "outputs": [],
   "source": [
    "gates[\"dnt\"], gates[\"z15\"] = gates[\"z15\"], gates[\"dnt\"]"
   ]
  },
  {
   "cell_type": "code",
   "execution_count": 283,
   "metadata": {},
   "outputs": [
    {
     "name": "stdout",
     "output_type": "stream",
     "text": [
      "SPEC FOR 30\n",
      "carry cfp ('AND', 'x29', 'y29')\n",
      "digit vrg ('XOR', 'x30', 'y30')\n",
      "chain nqs ('AND', 'fhn', 'fkb')\n",
      "both kgr ('OR', 'cfp', 'nqs')\n",
      "final z30 ('AND', 'kgr', 'vrg')\n",
      "BOTH 29 : fhn\n",
      "DIGIT 29 : fkb\n"
     ]
    }
   ],
   "source": [
    "design = identify_gates( gates )\n",
    "result = find_first_error(gates, design)"
   ]
  },
  {
   "cell_type": "code",
   "execution_count": 287,
   "metadata": {},
   "outputs": [
    {
     "name": "stdout",
     "output_type": "stream",
     "text": [
      "gwc\n"
     ]
    }
   ],
   "source": [
    "# Once more, z30 isn't the correct type of gate, so find the logic for z30\n",
    "swap = find_gate_by_spec( gates, result[1] )\n",
    "print(swap)\n",
    "gates[\"z30\"], gates[swap] = gates[swap], gates[\"z30\"]"
   ]
  },
  {
   "cell_type": "code",
   "execution_count": 285,
   "metadata": {},
   "outputs": [
    {
     "name": "stdout",
     "output_type": "stream",
     "text": [
      "SPEC FOR 45\n",
      "carry nng ('AND', 'x44', 'y44')\n"
     ]
    },
    {
     "ename": "KeyError",
     "evalue": "''",
     "output_type": "error",
     "traceback": [
      "\u001b[1;31m---------------------------------------------------------------------------\u001b[0m",
      "\u001b[1;31mKeyError\u001b[0m                                  Traceback (most recent call last)",
      "Cell \u001b[1;32mIn[285], line 2\u001b[0m\n\u001b[0;32m      1\u001b[0m design \u001b[38;5;241m=\u001b[39m identify_gates( gates )\n\u001b[1;32m----> 2\u001b[0m result \u001b[38;5;241m=\u001b[39m \u001b[43mfind_first_error\u001b[49m\u001b[43m(\u001b[49m\u001b[43mgates\u001b[49m\u001b[43m,\u001b[49m\u001b[43m \u001b[49m\u001b[43mdesign\u001b[49m\u001b[43m)\u001b[49m\n",
      "Cell \u001b[1;32mIn[249], line 51\u001b[0m, in \u001b[0;36mfind_first_error\u001b[1;34m(gates, design)\u001b[0m\n\u001b[0;32m     49\u001b[0m \u001b[38;5;28mprint\u001b[39m(\u001b[38;5;124m\"\u001b[39m\u001b[38;5;124mSPEC FOR\u001b[39m\u001b[38;5;124m\"\u001b[39m, i)\n\u001b[0;32m     50\u001b[0m \u001b[38;5;28mprint\u001b[39m( \u001b[38;5;124m\"\u001b[39m\u001b[38;5;124mcarry\u001b[39m\u001b[38;5;124m\"\u001b[39m, design[\u001b[38;5;124m\"\u001b[39m\u001b[38;5;124mcarry\u001b[39m\u001b[38;5;124m\"\u001b[39m][i], gates[ design[\u001b[38;5;124m\"\u001b[39m\u001b[38;5;124mcarry\u001b[39m\u001b[38;5;124m\"\u001b[39m][i] ] )\n\u001b[1;32m---> 51\u001b[0m \u001b[38;5;28mprint\u001b[39m( \u001b[38;5;124m\"\u001b[39m\u001b[38;5;124mdigit\u001b[39m\u001b[38;5;124m\"\u001b[39m, design[\u001b[38;5;124m\"\u001b[39m\u001b[38;5;124mdigit\u001b[39m\u001b[38;5;124m\"\u001b[39m][i], \u001b[43mgates\u001b[49m\u001b[43m[\u001b[49m\u001b[43m \u001b[49m\u001b[43mdesign\u001b[49m\u001b[43m[\u001b[49m\u001b[38;5;124;43m\"\u001b[39;49m\u001b[38;5;124;43mdigit\u001b[39;49m\u001b[38;5;124;43m\"\u001b[39;49m\u001b[43m]\u001b[49m\u001b[43m[\u001b[49m\u001b[43mi\u001b[49m\u001b[43m]\u001b[49m\u001b[43m \u001b[49m\u001b[43m]\u001b[49m )\n\u001b[0;32m     52\u001b[0m \u001b[38;5;28mprint\u001b[39m( \u001b[38;5;124m\"\u001b[39m\u001b[38;5;124mchain\u001b[39m\u001b[38;5;124m\"\u001b[39m, design[\u001b[38;5;124m\"\u001b[39m\u001b[38;5;124mchain\u001b[39m\u001b[38;5;124m\"\u001b[39m][i], gates[ design[\u001b[38;5;124m\"\u001b[39m\u001b[38;5;124mchain\u001b[39m\u001b[38;5;124m\"\u001b[39m][i] ] )\n\u001b[0;32m     53\u001b[0m \u001b[38;5;28mprint\u001b[39m( \u001b[38;5;124m\"\u001b[39m\u001b[38;5;124mboth\u001b[39m\u001b[38;5;124m\"\u001b[39m, design[\u001b[38;5;124m\"\u001b[39m\u001b[38;5;124mboth\u001b[39m\u001b[38;5;124m\"\u001b[39m][i], gates[ design[\u001b[38;5;124m\"\u001b[39m\u001b[38;5;124mboth\u001b[39m\u001b[38;5;124m\"\u001b[39m][i] ] )\n",
      "\u001b[1;31mKeyError\u001b[0m: ''"
     ]
    }
   ],
   "source": [
    "design = identify_gates( gates )\n",
    "result = find_first_error(gates, design)"
   ]
  },
  {
   "cell_type": "code",
   "execution_count": null,
   "metadata": {},
   "outputs": [],
   "source": [
    "# This error is because the logic for z45 is different"
   ]
  },
  {
   "cell_type": "code",
   "execution_count": 286,
   "metadata": {},
   "outputs": [
    {
     "data": {
      "text/plain": [
       "'gwc'"
      ]
     },
     "execution_count": 286,
     "metadata": {},
     "output_type": "execute_result"
    }
   ],
   "source": [
    "# INCORRECT!!!\n",
    "#  Swaps\n",
    "#z05\n",
    "#jst\n",
    "#mcm\n",
    "#gdf\n",
    "#z15\n",
    "#dnt \n",
    "#z30\n",
    "#gwc\n",
    "#dnt,gdf,gwc,jst,mcm,z05,z15,z30 <-- not sure why this didn't work!\n",
    "#dnt,gdf,gwc,mcm,jst,z05,z15,z30\n",
    "#dnt,gdf,gwc,jst,mcm,z05,z15,z30"
   ]
  },
  {
   "cell_type": "code",
   "execution_count": 290,
   "metadata": {},
   "outputs": [
    {
     "data": {
      "text/plain": [
       "'dnt,gdf,gwc,jst,mcm,z05,z15,z30'"
      ]
     },
     "execution_count": 290,
     "metadata": {},
     "output_type": "execute_result"
    }
   ],
   "source": [
    "swaps = [\"dnt\", \"gdf\", \"gwc\", \"jst\", \"mcm\", \"z05\", \"z15\", \"z30\"]\n",
    "swaps.sort()\n",
    "\",\".join(swaps)"
   ]
  },
  {
   "cell_type": "markdown",
   "metadata": {},
   "source": [
    "# Scratch\n",
    "non-working auto-solver"
   ]
  },
  {
   "cell_type": "code",
   "execution_count": null,
   "metadata": {},
   "outputs": [],
   "source": [
    "def find_first_error( gates, design ):\n",
    "    '''iterate and find the first error.\n",
    "    We go least to most significant because later digits rely on having correct names for earlier digits'''\n",
    "    lenz = len(design[\"carry\"])\n",
    "    for i in range(0, lenz):\n",
    "        result = check_digit( gates, design, i )\n",
    "        print(i, result)\n",
    "        if result is not None:\n",
    "            return result\n",
    "\n",
    "    return None\n",
    "\n",
    "def fix_design( gates ):\n",
    "    '''Doesn't work!'''\n",
    "    while True:\n",
    "        design = identify_gates( gates )\n",
    "        result = find_first_error( gates, design )\n",
    "        # we done!\n",
    "        if result is None:\n",
    "            break\n",
    "\n",
    "        # chain[i] should be correct because it relies on both[i-1] and digit[i-1], which we assume are correct\n",
    "        if result[0][0] == \"z\":\n",
    "            # should be digit[i] XOR both[i]\n",
    "            if gates[ result[0] ] != \"XOR\":\n",
    "                # All Z gates should be XOR, so this is coming from the wrong gate:\n",
    "                swap1 = find_gate_by_spec( gates, result[1] )\n",
    "            elif:\n",
    "                \n",
    "            \n",
    "            \n",
    "\n",
    "\n",
    "        print(result)\n",
    "        swap0 = result[0]\n",
    "        swap1 = find_gate_by_spec( gates, result[1] )\n",
    "        if swap1 is None:\n",
    "            return design\n",
    "        \n",
    "        print(f\"Swapping {swap0} and {swap1}\")\n",
    "        gates[swap0], gates[swap1] = gates[swap1], gates[swap0]       \n",
    "    "
   ]
  }
 ],
 "metadata": {
  "kernelspec": {
   "display_name": "Python 3",
   "language": "python",
   "name": "python3"
  },
  "language_info": {
   "codemirror_mode": {
    "name": "ipython",
    "version": 3
   },
   "file_extension": ".py",
   "mimetype": "text/x-python",
   "name": "python",
   "nbconvert_exporter": "python",
   "pygments_lexer": "ipython3",
   "version": "3.11.9"
  },
  "orig_nbformat": 4
 },
 "nbformat": 4,
 "nbformat_minor": 2
}
