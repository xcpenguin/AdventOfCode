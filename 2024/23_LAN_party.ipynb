{
 "cells": [
  {
   "attachments": {},
   "cell_type": "markdown",
   "metadata": {},
   "source": [
    "# December 23, 2024\n",
    "\n",
    "https://adventofcode.com/2024/day/23"
   ]
  },
  {
   "cell_type": "code",
   "execution_count": 2,
   "metadata": {},
   "outputs": [],
   "source": [
    "from collections import defaultdict"
   ]
  },
  {
   "cell_type": "code",
   "execution_count": 1,
   "metadata": {},
   "outputs": [],
   "source": [
    "DEBUG = False\n",
    "def dprint( *args ):\n",
    "    if DEBUG:\n",
    "        return print(*args)\n"
   ]
  },
  {
   "cell_type": "code",
   "execution_count": 35,
   "metadata": {},
   "outputs": [],
   "source": [
    "def parse_input( text ):\n",
    "    edges = defaultdict(list)\n",
    "    for line in text:\n",
    "        x,y = line.split(\"-\")\n",
    "        if x < y:\n",
    "            edges[x].append(y)\n",
    "        else:\n",
    "            edges[y].append(x)\n",
    "\n",
    "    return edges"
   ]
  },
  {
   "cell_type": "code",
   "execution_count": 31,
   "metadata": {},
   "outputs": [],
   "source": [
    "test_str = f'''kh-tc\n",
    "qp-kh\n",
    "de-cg\n",
    "ka-co\n",
    "yn-aq\n",
    "qp-ub\n",
    "cg-tb\n",
    "vc-aq\n",
    "tb-ka\n",
    "wh-tc\n",
    "yn-cg\n",
    "kh-ub\n",
    "ta-co\n",
    "de-co\n",
    "tc-td\n",
    "tb-wq\n",
    "wh-td\n",
    "ta-ka\n",
    "td-qp\n",
    "aq-cg\n",
    "wq-ub\n",
    "ub-vc\n",
    "de-ta\n",
    "wq-aq\n",
    "wq-vc\n",
    "wh-yn\n",
    "ka-de\n",
    "kh-ta\n",
    "co-tc\n",
    "wh-qp\n",
    "tb-vc\n",
    "td-yn'''\n",
    "test = parse_input(test_str.split(\"\\n\"))"
   ]
  },
  {
   "cell_type": "code",
   "execution_count": 32,
   "metadata": {},
   "outputs": [],
   "source": [
    "fn = \"../data/2024/23.txt\"\n",
    "with open(fn, \"r\") as file:\n",
    "    text = file.readlines()\n",
    "text = [x.strip() for x in text]\n",
    "puzz = parse_input(text)"
   ]
  },
  {
   "cell_type": "markdown",
   "metadata": {},
   "source": [
    "# Part 1"
   ]
  },
  {
   "cell_type": "code",
   "execution_count": 38,
   "metadata": {},
   "outputs": [
    {
     "data": {
      "text/plain": [
       "defaultdict(int, {1: 12})"
      ]
     },
     "execution_count": 38,
     "metadata": {},
     "output_type": "execute_result"
    }
   ],
   "source": [
    "tmp = defaultdict(int)\n",
    "tmp[1] = 12\n",
    "tmp"
   ]
  },
  {
   "cell_type": "code",
   "execution_count": 39,
   "metadata": {},
   "outputs": [
    {
     "data": {
      "text/plain": [
       "defaultdict(int, {1: 12})"
      ]
     },
     "execution_count": 39,
     "metadata": {},
     "output_type": "execute_result"
    }
   ],
   "source": [
    "if \"a\" in tmp:\n",
    "    print(\"a\")\n",
    "tmp"
   ]
  },
  {
   "cell_type": "code",
   "execution_count": 47,
   "metadata": {},
   "outputs": [],
   "source": [
    "def edge_exists( puzz, com1, com2 ):\n",
    "    if com1 > com2:\n",
    "        com1, com2 = com2, com1\n",
    "    return com1 in puzz and com2 in puzz[com1]\n",
    "\n",
    "def find_triangles( puzz ):\n",
    "    triangles = set()\n",
    "    for com1, links in puzz.items():\n",
    "        for i, com2 in enumerate(links):\n",
    "            for com3 in links[(i+1):]:\n",
    "                if edge_exists( puzz, com2, com3 ):\n",
    "                    triangles.add( (com1, com2, com3) )\n",
    "        \n",
    "    return triangles\n",
    "\n",
    "def count_possibilities( triangles ):\n",
    "    poss = 0\n",
    "    for tri in triangles:\n",
    "        if tri[0][0] == \"t\" or tri[1][0] == \"t\" or tri[2][0] == \"t\":\n",
    "            poss += 1\n",
    "\n",
    "    return poss\n",
    "\n",
    "def part1( puzz ):\n",
    "    triangles = find_triangles( puzz )\n",
    "    return count_possibilities( triangles )"
   ]
  },
  {
   "cell_type": "code",
   "execution_count": 48,
   "metadata": {},
   "outputs": [
    {
     "data": {
      "text/plain": [
       "7"
      ]
     },
     "execution_count": 48,
     "metadata": {},
     "output_type": "execute_result"
    }
   ],
   "source": [
    "part1(test)"
   ]
  },
  {
   "cell_type": "code",
   "execution_count": 49,
   "metadata": {},
   "outputs": [
    {
     "data": {
      "text/plain": [
       "1054"
      ]
     },
     "execution_count": 49,
     "metadata": {},
     "output_type": "execute_result"
    }
   ],
   "source": [
    "part1(puzz)"
   ]
  },
  {
   "cell_type": "markdown",
   "metadata": {},
   "source": [
    "# Part2"
   ]
  },
  {
   "cell_type": "markdown",
   "metadata": {},
   "source": [
    "algorithm BronKerbosch1(R, P, X) is  \n",
    "    if P and X are both empty then  \n",
    "        report R as a maximal clique  \n",
    "    for each vertex v in P do  \n",
    "        BronKerbosch1(R ⋃ {v}, P ⋂ N(v), X ⋂ N(v))  \n",
    "        P := P \\ {v}  \n",
    "        X := X ⋃ {v}  "
   ]
  },
  {
   "cell_type": "code",
   "execution_count": 89,
   "metadata": {},
   "outputs": [],
   "source": [
    "#algorithm BronKerbosch2(R, P, X) is\n",
    "#    if P and X are both empty then\n",
    "#        report R as a maximal clique\n",
    "#    choose a pivot vertex u in P ⋃ X\n",
    "#    for each vertex v in P \\ N(u) do\n",
    "#        BronKerbosch2(R ⋃ {v}, P ⋂ N(v), X ⋂ N(v))\n",
    "#        P := P \\ {v}\n",
    "#        X := X ⋃ {v}\n",
    "\n",
    "cliques = set()\n",
    "\n",
    "def find_neighbors(puzz, com):\n",
    "    nbr = set()\n",
    "    if com in puzz:\n",
    "        nbr = set( puzz[com] )\n",
    "\n",
    "    for com2 in puzz:\n",
    "        if com in puzz[com2]:\n",
    "            nbr.add(com2)\n",
    "    return nbr\n",
    "\n",
    "def BronKerbosch2(puzz, R, P, X):\n",
    "\n",
    "    if len(P) == 0 and len(X) == 0:\n",
    "        return [R]\n",
    "    \n",
    "    my_cliques = list()\n",
    "    # pivot -- any vertex in P ⋃ X\n",
    "    u = P.union(X).pop()\n",
    "    nbru = find_neighbors(puzz, u)\n",
    "\n",
    "    for v in P - nbru:\n",
    "        setv = set([v])\n",
    "        nbrv = find_neighbors(puzz, v)\n",
    "        my_cliques += BronKerbosch2(puzz, R.union(setv), P.intersection(nbrv), X.intersection(nbrv))\n",
    "        P = P - setv\n",
    "        X = X.union( setv )\n",
    "\n",
    "    return my_cliques\n",
    "\n",
    "\n",
    "def find_cliques( puzz ):\n",
    "    # initialize R,X empty, P to be all vertices\n",
    "    R = set()\n",
    "    X = set()\n",
    "    \n",
    "    P = set()\n",
    "    for com, links in puzz.items():\n",
    "        P.add(com)\n",
    "        P = P.union(set(links))\n",
    "\n",
    "    return BronKerbosch2( puzz, R, P, X )\n",
    "\n",
    "def find_largest_clique( cliques ):\n",
    "    biggest = set()\n",
    "    for c in cliques:\n",
    "        if len(c) > len(biggest):\n",
    "            biggest = c\n",
    "    return biggest\n",
    "\n",
    "def canonical_name( clique ):\n",
    "    node_list = list(clique)\n",
    "    node_list.sort()\n",
    "    return \",\".join(node_list)\n",
    "\n",
    "def part2( puzz ):\n",
    "    cliques = find_cliques( puzz )\n",
    "    biggest = find_largest_clique( cliques )\n",
    "    return canonical_name(biggest)\n",
    "\n",
    "    "
   ]
  },
  {
   "cell_type": "code",
   "execution_count": 90,
   "metadata": {},
   "outputs": [
    {
     "data": {
      "text/plain": [
       "'co,de,ka,ta'"
      ]
     },
     "execution_count": 90,
     "metadata": {},
     "output_type": "execute_result"
    }
   ],
   "source": [
    "part2(test)"
   ]
  },
  {
   "cell_type": "code",
   "execution_count": 91,
   "metadata": {},
   "outputs": [
    {
     "data": {
      "text/plain": [
       "'ch,cz,di,gb,ht,ku,lu,tw,vf,vt,wo,xz,zk'"
      ]
     },
     "execution_count": 91,
     "metadata": {},
     "output_type": "execute_result"
    }
   ],
   "source": [
    "part2(puzz)"
   ]
  }
 ],
 "metadata": {
  "kernelspec": {
   "display_name": "Python 3",
   "language": "python",
   "name": "python3"
  },
  "language_info": {
   "codemirror_mode": {
    "name": "ipython",
    "version": 3
   },
   "file_extension": ".py",
   "mimetype": "text/x-python",
   "name": "python",
   "nbconvert_exporter": "python",
   "pygments_lexer": "ipython3",
   "version": "3.11.9"
  },
  "orig_nbformat": 4
 },
 "nbformat": 4,
 "nbformat_minor": 2
}
