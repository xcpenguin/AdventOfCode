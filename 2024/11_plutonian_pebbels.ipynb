{
 "cells": [
  {
   "attachments": {},
   "cell_type": "markdown",
   "metadata": {},
   "source": [
    "# December 11, 2024\n",
    "\n",
    "https://adventofcode.com/2024/day/11"
   ]
  },
  {
   "cell_type": "code",
   "execution_count": 1,
   "metadata": {},
   "outputs": [],
   "source": [
    "from math import log, ceil\n",
    "from collections import defaultdict"
   ]
  },
  {
   "cell_type": "code",
   "execution_count": 2,
   "metadata": {},
   "outputs": [],
   "source": [
    "DEBUG = False\n",
    "def dprint( *args ):\n",
    "    if DEBUG:\n",
    "        return print(*args)\n"
   ]
  },
  {
   "cell_type": "code",
   "execution_count": 3,
   "metadata": {},
   "outputs": [
    {
     "data": {
      "text/plain": [
       "[125, 17]"
      ]
     },
     "execution_count": 3,
     "metadata": {},
     "output_type": "execute_result"
    }
   ],
   "source": [
    "test_str = f'''125 17'''\n",
    "test = [int(x) for x in test_str.split()]\n",
    "test"
   ]
  },
  {
   "cell_type": "code",
   "execution_count": 4,
   "metadata": {},
   "outputs": [],
   "source": [
    "fn = \"../data/2024/11.txt\"\n",
    "with open(fn, \"r\") as file:\n",
    "    text = file.readlines()\n",
    "puzz = [int(x) for x in  text[0].split()]"
   ]
  },
  {
   "cell_type": "markdown",
   "metadata": {},
   "source": [
    "# Part 1, Part 2"
   ]
  },
  {
   "cell_type": "code",
   "execution_count": 5,
   "metadata": {},
   "outputs": [],
   "source": [
    "def blink( stone, n=25, memo = defaultdict() ):\n",
    "    if n == 0:\n",
    "        return 1\n",
    "    \n",
    "    if stone in memo:\n",
    "        if n in memo[stone]:\n",
    "            return memo[stone][n]\n",
    "    else:\n",
    "        memo[stone] = dict()\n",
    "\n",
    "    if n in memo[stone]:\n",
    "        return memo[stone][n]\n",
    "    \n",
    "    # check for 0\n",
    "    if stone == 0:\n",
    "        count = blink(1, n-1, memo)\n",
    "\n",
    "    # check for even number of digits\n",
    "    else:\n",
    "        ndig = ceil(log(stone+1,10))\n",
    "        if ndig % 2 == 0:\n",
    "            half1 = int( stone / 10**(ndig/2) )\n",
    "            half2 = int( stone - half1 * 10**(ndig/2) )\n",
    "            count = blink(half1, n-1, memo) + blink(half2, n-1, memo)\n",
    "        else:\n",
    "            count = blink( stone*2024, n-1, memo )\n",
    "    \n",
    "    memo[stone][n] = count\n",
    "    return count    "
   ]
  },
  {
   "cell_type": "code",
   "execution_count": 6,
   "metadata": {},
   "outputs": [],
   "source": [
    "def run( stones, n, memo=dict() ):\n",
    "    counts = 0\n",
    "    for stone in stones:\n",
    "        counts += blink(stone, n, memo)\n",
    "\n",
    "    return counts"
   ]
  },
  {
   "cell_type": "code",
   "execution_count": 7,
   "metadata": {},
   "outputs": [
    {
     "data": {
      "text/plain": [
       "55312"
      ]
     },
     "execution_count": 7,
     "metadata": {},
     "output_type": "execute_result"
    }
   ],
   "source": [
    "run( test, 25 )"
   ]
  },
  {
   "cell_type": "code",
   "execution_count": 8,
   "metadata": {},
   "outputs": [
    {
     "data": {
      "text/plain": [
       "199753"
      ]
     },
     "execution_count": 8,
     "metadata": {},
     "output_type": "execute_result"
    }
   ],
   "source": [
    "run( puzz, 25 )"
   ]
  },
  {
   "cell_type": "code",
   "execution_count": 10,
   "metadata": {},
   "outputs": [
    {
     "data": {
      "text/plain": [
       "239413123020116"
      ]
     },
     "execution_count": 10,
     "metadata": {},
     "output_type": "execute_result"
    }
   ],
   "source": [
    "run( puzz, 75 )"
   ]
  },
  {
   "cell_type": "code",
   "execution_count": 11,
   "metadata": {},
   "outputs": [
    {
     "data": {
      "text/plain": [
       "156311158652502450371850174442621106126324400693194710007183009797450378593070521223149613851265939913214526619596055975421819083160727235724077231953133020257110844852389170463626051364706095672201133031628277669242031596477340467677515474386298709001197873087333260855441289102795820059958328010721425856769504401478758750961783438663589891151543789438227068428592678"
      ]
     },
     "execution_count": 11,
     "metadata": {},
     "output_type": "execute_result"
    }
   ],
   "source": [
    "run( puzz, 2024 )"
   ]
  }
 ],
 "metadata": {
  "kernelspec": {
   "display_name": "Python 3",
   "language": "python",
   "name": "python3"
  },
  "language_info": {
   "codemirror_mode": {
    "name": "ipython",
    "version": 3
   },
   "file_extension": ".py",
   "mimetype": "text/x-python",
   "name": "python",
   "nbconvert_exporter": "python",
   "pygments_lexer": "ipython3",
   "version": "3.11.9"
  },
  "orig_nbformat": 4
 },
 "nbformat": 4,
 "nbformat_minor": 2
}
