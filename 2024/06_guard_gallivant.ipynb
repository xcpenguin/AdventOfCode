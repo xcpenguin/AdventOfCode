{
 "cells": [
  {
   "attachments": {},
   "cell_type": "markdown",
   "metadata": {},
   "source": [
    "# December 06, 2024\n",
    "\n",
    "https://adventofcode.com/2024/day/06"
   ]
  },
  {
   "cell_type": "code",
   "execution_count": 3,
   "metadata": {},
   "outputs": [],
   "source": [
    "from collections import defaultdict"
   ]
  },
  {
   "cell_type": "code",
   "execution_count": 10,
   "metadata": {},
   "outputs": [],
   "source": [
    "def parse_input( lines ):\n",
    "    rules = list()\n",
    "    updates = list()\n",
    "    for line in lines:\n",
    "        if len(line) == 0:\n",
    "            continue\n",
    "        if \"|\" in line:\n",
    "            x,y = line.split(\"|\")\n",
    "            rules.append( [int(x) for x in line.split(\"|\")] )\n",
    "        else:\n",
    "            updates.append( [int(x) for x in line.split(\",\")] )\n",
    "\n",
    "    return rules, updates"
   ]
  },
  {
   "cell_type": "code",
   "execution_count": 15,
   "metadata": {},
   "outputs": [],
   "source": [
    "test = f'''....#.....\n",
    ".........#\n",
    "..........\n",
    "..#.......\n",
    ".......#..\n",
    "..........\n",
    ".#..^.....\n",
    "........#.\n",
    "#.........\n",
    "......#...'''\n",
    "\n",
    "test = test.split(\"\\n\")"
   ]
  },
  {
   "cell_type": "code",
   "execution_count": 18,
   "metadata": {},
   "outputs": [],
   "source": [
    "fn = \"../data/2024/06.txt\"\n",
    "with open(fn, \"r\") as file:\n",
    "    text = file.readlines()\n",
    "puzz = [line.strip() for line in text]"
   ]
  },
  {
   "cell_type": "markdown",
   "metadata": {},
   "source": [
    "# Part 1"
   ]
  },
  {
   "cell_type": "code",
   "execution_count": 149,
   "metadata": {},
   "outputs": [],
   "source": [
    "def step( guard, facing, obstacles, dim ):\n",
    "    def check_bounds( pos, dim ):\n",
    "        # return True if pos is within the dimensions\n",
    "        if pos[0] < 0 or pos[0] >= dim[0] or pos[1] < 0 or pos[1] >= dim[1]:\n",
    "            return False\n",
    "        return True\n",
    "    \n",
    "    def check_space( pos, obstacles ):\n",
    "        # return True if pos is free of obstacles\n",
    "        return not pos[1] in obstacles[pos[0]]\n",
    "    \n",
    "    \n",
    "    # before: after\n",
    "    turns = {\"^\":\">\", \">\":\"v\", \"v\":\"<\", \"<\":\"^\"}\n",
    "\n",
    "    # find the target space\n",
    "    if facing == \"^\":\n",
    "        new_pos = [ guard[0]-1, guard[1] ]\n",
    "    elif facing == \">\":\n",
    "        new_pos = [ guard[0], guard[1]+1 ]\n",
    "    elif facing == \"v\":\n",
    "        new_pos = [ guard[0]+1, guard[1] ]\n",
    "    else:\n",
    "        new_pos = [ guard[0], guard[1]-1 ]\n",
    "\n",
    "    if not check_bounds(new_pos, dim):\n",
    "        #print(f'''exit grid at {new_pos[0]}, {new_pos[1]}.''')\n",
    "        return None, facing\n",
    "    \n",
    "    if check_space(new_pos, obstacles):\n",
    "        guard = new_pos\n",
    "    else:\n",
    "        facing = turns[facing]\n",
    "        #print(f'''hit obstacle at {new_pos[0]}, {new_pos[1]}. Now facing {facing}''')\n",
    "\n",
    "    return guard, facing\n",
    "\n",
    "\n",
    "def follow_path( guard, facing, obstacles, dim ):\n",
    "    def track_step( pos, track ):\n",
    "        if pos is not None:\n",
    "            track[pos[0]].add( pos[1] )\n",
    "    \n",
    "    track = defaultdict(set)\n",
    "    track_step( guard, track )\n",
    "\n",
    "    while guard is not None:\n",
    "        guard, facing = step( guard, facing, obstacles, dim )\n",
    "        track_step(guard, track)\n",
    "\n",
    "    steps = 0\n",
    "    for val in track.values():\n",
    "        steps += len(val)\n",
    "\n",
    "    return steps\n",
    "\n",
    "\n",
    "def part1( puzz ):\n",
    "\n",
    "    dim = ( len(puzz), len(puzz[0]) )\n",
    "    # key = row, value = set of columns with #\n",
    "    obstacles = dict()\n",
    "\n",
    "    # first parse the input\n",
    "    for i, line in enumerate(puzz):\n",
    "        obstacles[i] = set()\n",
    "        for j, ch in enumerate(line):\n",
    "            if ch == \"#\":\n",
    "                obstacles[i].add(j)\n",
    "            elif ch in [\"^\", \">\", \"v\", \"<\"]:\n",
    "                guard = [i,j]\n",
    "                facing = ch\n",
    "    # end parsing\n",
    "\n",
    "    return follow_path( guard, facing, obstacles, dim )\n",
    "\n",
    "\n",
    "\n",
    "\n",
    "\n"
   ]
  },
  {
   "cell_type": "code",
   "execution_count": 49,
   "metadata": {},
   "outputs": [
    {
     "data": {
      "text/plain": [
       "['....#.....',\n",
       " '.........#',\n",
       " '..........',\n",
       " '..#.......',\n",
       " '.......#..',\n",
       " '..........',\n",
       " '.#..^.....',\n",
       " '........#.',\n",
       " '#.........',\n",
       " '......#...']"
      ]
     },
     "execution_count": 49,
     "metadata": {},
     "output_type": "execute_result"
    }
   ],
   "source": [
    "test"
   ]
  },
  {
   "cell_type": "code",
   "execution_count": 50,
   "metadata": {},
   "outputs": [
    {
     "data": {
      "text/plain": [
       "41"
      ]
     },
     "execution_count": 50,
     "metadata": {},
     "output_type": "execute_result"
    }
   ],
   "source": [
    "part1(test)"
   ]
  },
  {
   "cell_type": "code",
   "execution_count": 51,
   "metadata": {},
   "outputs": [
    {
     "data": {
      "text/plain": [
       "4559"
      ]
     },
     "execution_count": 51,
     "metadata": {},
     "output_type": "execute_result"
    }
   ],
   "source": [
    "part1(puzz)"
   ]
  },
  {
   "cell_type": "markdown",
   "metadata": {},
   "source": [
    "# Part 2"
   ]
  },
  {
   "cell_type": "markdown",
   "metadata": {},
   "source": [
    "wrong answers:\n",
    "1658 -- too high"
   ]
  },
  {
   "cell_type": "code",
   "execution_count": 197,
   "metadata": {},
   "outputs": [],
   "source": [
    "def follow_path2( guard, facing, obstacles, dim ):\n",
    "    # if return_path is True, return the list of steps the guard takes\n",
    "    # otherwise, return True if you're caught in a loop, otherwise return False\n",
    "    def track_step( pos, facing, track ):\n",
    "        if pos is not None:\n",
    "            track[facing][pos[0]].add( pos[1] )\n",
    "    \n",
    "    # for part two, we need to know both previous position and bearing\n",
    "    track = {\"^\":defaultdict(set),\n",
    "             \">\":defaultdict(set),\n",
    "             \"v\":defaultdict(set),\n",
    "             \"<\":defaultdict(set)\n",
    "    }\n",
    "\n",
    "    solutions = defaultdict(set)\n",
    "\n",
    "    \n",
    "    while guard is not None:\n",
    "        old_guard=[*guard]    \n",
    "        # caught in a loop!\n",
    "        if guard[1] in track[facing][guard[0]]:\n",
    "            #print(\"loop\")\n",
    "            return True, track\n",
    "\n",
    "            \n",
    "        track_step(guard, facing, track)\n",
    "        guard, facing = step( guard, facing, obstacles, dim )\n",
    "  \n",
    "\n",
    "\n",
    "    #print(\"exit at \", *old_guard)\n",
    "    return False, track\n",
    "\n",
    "\n",
    "def get_next_space( pos, facing ):\n",
    "    if facing == \"^\":\n",
    "        return pos[0]-1, pos[1]\n",
    "    elif facing == \">\":\n",
    "        return pos[0], pos[1]+1\n",
    "    elif facing == \"v\":\n",
    "        return pos[0]+1, pos[1]\n",
    "    elif facing == \"<\":\n",
    "        return pos[0], pos[1]-1\n",
    "    \n",
    "    raise( \"illegal face!\")\n",
    "\n",
    "def part2( puzz ):\n",
    "    \n",
    "    dim = ( len(puzz), len(puzz[0]) )\n",
    "    # key = row, value = set of columns with #\n",
    "    obstacles = defaultdict(set)\n",
    "\n",
    "    # first parse the input\n",
    "    for i, line in enumerate(puzz):\n",
    "        for j, ch in enumerate(line):\n",
    "            if ch == \"#\":\n",
    "                obstacles[i].add(j)\n",
    "            elif ch in [\"^\", \">\", \"v\", \"<\"]:\n",
    "                guard = [i,j]\n",
    "                facing = ch\n",
    "    # end parsing\n",
    "\n",
    "    loop, path = follow_path2( guard, facing, obstacles, dim )\n",
    "\n",
    "    # try placing an obstacle at every step\n",
    "    solutions = defaultdict(set)\n",
    "    for key, rowdict in path.items():\n",
    "        for row, colset in rowdict.items():\n",
    "            for col in colset:\n",
    "                new_obs = get_next_space( [row, col], key )\n",
    "                # There's already an obstacle. Nothing to check!\n",
    "                if new_obs[1] in obstacles[new_obs[0]]:\n",
    "                    continue\n",
    "\n",
    "                obstacles[new_obs[0]].add( new_obs[1] )\n",
    "\n",
    "                # check for a loop\n",
    "                looped, new_path = follow_path2( guard, facing, obstacles, dim )\n",
    "                if looped:\n",
    "                    solutions[new_obs[0]].add(new_obs[1])\n",
    "\n",
    "                obstacles[new_obs[0]].remove( new_obs[1] )\n",
    "\n",
    "    sol_count = 0\n",
    "    for sol_set in solutions.values():\n",
    "        sol_count += len(sol_set)\n",
    "    return path, sol_count\n",
    "\n",
    "\n"
   ]
  },
  {
   "cell_type": "code",
   "execution_count": 203,
   "metadata": {},
   "outputs": [
    {
     "data": {
      "text/plain": [
       "6"
      ]
     },
     "execution_count": 203,
     "metadata": {},
     "output_type": "execute_result"
    }
   ],
   "source": [
    "path, sc = part2(test)\n",
    "sc"
   ]
  },
  {
   "cell_type": "code",
   "execution_count": 207,
   "metadata": {},
   "outputs": [
    {
     "data": {
      "text/plain": [
       "1604"
      ]
     },
     "execution_count": 207,
     "metadata": {},
     "output_type": "execute_result"
    }
   ],
   "source": [
    "path, sc = part2(puzz)\n",
    "sc"
   ]
  },
  {
   "cell_type": "code",
   "execution_count": 206,
   "metadata": {},
   "outputs": [
    {
     "data": {
      "text/plain": [
       "(5113, 0.30254437869822487)"
      ]
     },
     "execution_count": 206,
     "metadata": {},
     "output_type": "execute_result"
    }
   ],
   "source": [
    "tot = 0\n",
    "for f, rd in path.items():\n",
    "    for r, cs in rd.items():\n",
    "        tot += len(cs)\n",
    "\n",
    "# how many options did I check?\n",
    "# what % of all possible answers is that?\n",
    "tot, tot/(130*130)"
   ]
  }
 ],
 "metadata": {
  "kernelspec": {
   "display_name": "Python 3",
   "language": "python",
   "name": "python3"
  },
  "language_info": {
   "codemirror_mode": {
    "name": "ipython",
    "version": 3
   },
   "file_extension": ".py",
   "mimetype": "text/x-python",
   "name": "python",
   "nbconvert_exporter": "python",
   "pygments_lexer": "ipython3",
   "version": "3.11.9"
  },
  "orig_nbformat": 4
 },
 "nbformat": 4,
 "nbformat_minor": 2
}
