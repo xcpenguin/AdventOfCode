{
 "cells": [
  {
   "attachments": {},
   "cell_type": "markdown",
   "metadata": {},
   "source": [
    "# December 25, 2024\n",
    "\n",
    "https://adventofcode.com/2024/day/25"
   ]
  },
  {
   "cell_type": "code",
   "execution_count": 87,
   "metadata": {},
   "outputs": [],
   "source": [
    "import re"
   ]
  },
  {
   "cell_type": "code",
   "execution_count": 37,
   "metadata": {},
   "outputs": [],
   "source": [
    "DEBUG = False\n",
    "def dprint( *args ):\n",
    "    if DEBUG:\n",
    "        return print(*args)\n"
   ]
  },
  {
   "cell_type": "code",
   "execution_count": 24,
   "metadata": {},
   "outputs": [],
   "source": [
    "def parse_schematic( text, what ):\n",
    "    if what == \"key\":\n",
    "        text.reverse()\n",
    "\n",
    "    obj = [0] * len(text[0])\n",
    "    for line in text:\n",
    "        for i, x in enumerate(line):\n",
    "            if x == \"#\":\n",
    "                obj[i] += 1\n",
    "    return obj\n",
    "\n",
    "def parse_input( text ):\n",
    "    locks = list()\n",
    "    keys = list()\n",
    "    \n",
    "    i = 0\n",
    "    while i < len(text):\n",
    "        schematic = list()\n",
    "        while i < len(text) and len(text[i]) > 0:\n",
    "            schematic.append(text[i])\n",
    "            i = i + 1\n",
    "        i = i + 1\n",
    "\n",
    "        if len(schematic) > 0:\n",
    "            if schematic[0][0] == \"#\":\n",
    "                locks.append( parse_schematic(schematic, \"lock\") )\n",
    "            else:\n",
    "                keys.append( parse_schematic(schematic, \"key\") )\n",
    "    return {\"locks\":locks, \"keys\":keys}\n",
    "\n",
    "                  \n"
   ]
  },
  {
   "cell_type": "code",
   "execution_count": 25,
   "metadata": {},
   "outputs": [],
   "source": [
    "test_str = f'''#####\n",
    ".####\n",
    ".####\n",
    ".####\n",
    ".#.#.\n",
    ".#...\n",
    ".....\n",
    "\n",
    "#####\n",
    "##.##\n",
    ".#.##\n",
    "...##\n",
    "...#.\n",
    "...#.\n",
    ".....\n",
    "\n",
    ".....\n",
    "#....\n",
    "#....\n",
    "#...#\n",
    "#.#.#\n",
    "#.###\n",
    "#####\n",
    "\n",
    ".....\n",
    ".....\n",
    "#.#..\n",
    "###..\n",
    "###.#\n",
    "###.#\n",
    "#####\n",
    "\n",
    ".....\n",
    ".....\n",
    ".....\n",
    "#....\n",
    "#.#..\n",
    "#.#.#\n",
    "#####'''\n",
    "test_str = test_str.split(\"\\n\")\n",
    "test = parse_input( test_str )"
   ]
  },
  {
   "cell_type": "code",
   "execution_count": 26,
   "metadata": {},
   "outputs": [],
   "source": [
    "fn = \"../data/2024/25.txt\"\n",
    "with open(fn, \"r\") as file:\n",
    "    text = file.readlines()\n",
    "puzz_str = [x.strip() for x in text]\n",
    "puzz = parse_input(puzz_str)"
   ]
  },
  {
   "cell_type": "markdown",
   "metadata": {},
   "source": [
    "# Part 1"
   ]
  },
  {
   "cell_type": "code",
   "execution_count": 40,
   "metadata": {},
   "outputs": [],
   "source": [
    "class Gate:\n",
    "    def __init__(self, logic, parents ):\n",
    "        self.logic = logic\n",
    "        if logic == \"const\":\n",
    "            self.parents = None\n",
    "            self.value = parents\n",
    "        else:\n",
    "            self.parents = parents\n",
    "            self.value = None\n",
    "\n",
    "    def set_value(self, val0, val1):\n",
    "        if self.logic == \"OR\":\n",
    "            self.value = max(val0, val1)\n",
    "        elif self.logic == \"XOR\":\n",
    "            self.value = int( val0 != val1 )\n",
    "        elif self.logic == \"AND\":\n",
    "            self.value = min(val0, val1)\n"
   ]
  },
  {
   "cell_type": "markdown",
   "metadata": {},
   "source": [
    "# Part2"
   ]
  }
 ],
 "metadata": {
  "kernelspec": {
   "display_name": "Python 3",
   "language": "python",
   "name": "python3"
  },
  "language_info": {
   "codemirror_mode": {
    "name": "ipython",
    "version": 3
   },
   "file_extension": ".py",
   "mimetype": "text/x-python",
   "name": "python",
   "nbconvert_exporter": "python",
   "pygments_lexer": "ipython3",
   "version": "3.11.9"
  },
  "orig_nbformat": 4
 },
 "nbformat": 4,
 "nbformat_minor": 2
}
