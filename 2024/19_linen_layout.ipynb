{
 "cells": [
  {
   "attachments": {},
   "cell_type": "markdown",
   "metadata": {},
   "source": [
    "# December 19, 2024\n",
    "\n",
    "https://adventofcode.com/2024/day/19"
   ]
  },
  {
   "cell_type": "code",
   "execution_count": 1,
   "metadata": {},
   "outputs": [],
   "source": [
    "DEBUG = False\n",
    "def dprint( *args ):\n",
    "    if DEBUG:\n",
    "        return print(*args)\n"
   ]
  },
  {
   "cell_type": "code",
   "execution_count": 2,
   "metadata": {},
   "outputs": [],
   "source": [
    "def parse_input( text ):\n",
    "\n",
    "\n",
    "    towels = text[0].split(\", \")\n",
    "    patterns = text[2:]\n",
    "\n",
    "    return {\"towels\": towels, \"patterns\": patterns}"
   ]
  },
  {
   "cell_type": "code",
   "execution_count": 3,
   "metadata": {},
   "outputs": [],
   "source": [
    "test_str = f'''r, wr, b, g, bwu, rb, gb, br\n",
    "\n",
    "brwrr\n",
    "bggr\n",
    "gbbr\n",
    "rrbgbr\n",
    "ubwu\n",
    "bwurrg\n",
    "brgr\n",
    "bbrgwb'''\n",
    "test_str = test_str.split(\"\\n\")"
   ]
  },
  {
   "cell_type": "code",
   "execution_count": 4,
   "metadata": {},
   "outputs": [],
   "source": [
    "fn = \"../data/2024/19.txt\"\n",
    "with open(fn, \"r\") as file:\n",
    "    text = file.readlines()\n",
    "puzz_str = [x.strip() for x in text]"
   ]
  },
  {
   "cell_type": "markdown",
   "metadata": {},
   "source": [
    "# Part 1\n"
   ]
  },
  {
   "cell_type": "code",
   "execution_count": 5,
   "metadata": {},
   "outputs": [],
   "source": [
    "def test_pattern( pattern, towels ):\n",
    "    if len(pattern) == 0:\n",
    "        return list()\n",
    "    \n",
    "    for t in towels:\n",
    "        n = len(t)\n",
    "        if pattern[:n] == t:\n",
    "            seq = test_pattern( pattern[n:], towels )\n",
    "            if seq is not None:\n",
    "                return [t] + seq\n",
    "            \n",
    "    return None"
   ]
  },
  {
   "cell_type": "code",
   "execution_count": 11,
   "metadata": {},
   "outputs": [],
   "source": [
    "def cull_towels( towels ):\n",
    "    '''figure out which towels can be created from smaller towels (drop) and which can't (keep)'''\n",
    "    keep_towels = list()\n",
    "    drop_towels = list()\n",
    "    for i, t in enumerate(towels):\n",
    "        if test_pattern( t, towels[:i] + towels[(i+1):] ) is None:\n",
    "            keep_towels.append(t)\n",
    "        else:\n",
    "            drop_towels.append(t)\n",
    "    return keep_towels, drop_towels"
   ]
  },
  {
   "cell_type": "code",
   "execution_count": 12,
   "metadata": {},
   "outputs": [],
   "source": [
    "def part1( text ):\n",
    "    puzz = parse_input( text )\n",
    "\n",
    "    len0 = len(puzz[\"towels\"])\n",
    "    keep, _ = cull_towels(puzz[\"towels\"])\n",
    "    len1 = len(keep)\n",
    "    print(f\"Culled {len0-len1} of {len0} towels. {len1} remain.\")\n",
    "\n",
    "    win = list()\n",
    "    for p in puzz[\"patterns\"]:\n",
    "        if test_pattern( p, keep ) is not None:\n",
    "            win.append(p)\n",
    "\n",
    "    return win"
   ]
  },
  {
   "cell_type": "code",
   "execution_count": 13,
   "metadata": {},
   "outputs": [
    {
     "name": "stdout",
     "output_type": "stream",
     "text": [
      "Culled 3 of 8 towels. 5 remain.\n"
     ]
    },
    {
     "data": {
      "text/plain": [
       "6"
      ]
     },
     "execution_count": 13,
     "metadata": {},
     "output_type": "execute_result"
    }
   ],
   "source": [
    "len( part1( test_str ) )"
   ]
  },
  {
   "cell_type": "code",
   "execution_count": 14,
   "metadata": {},
   "outputs": [
    {
     "name": "stdout",
     "output_type": "stream",
     "text": [
      "Culled 423 of 447 towels. 24 remain.\n"
     ]
    },
    {
     "data": {
      "text/plain": [
       "298"
      ]
     },
     "execution_count": 14,
     "metadata": {},
     "output_type": "execute_result"
    }
   ],
   "source": [
    "len( part1( puzz_str ) )"
   ]
  },
  {
   "cell_type": "markdown",
   "metadata": {},
   "source": [
    "# Part 2"
   ]
  },
  {
   "cell_type": "code",
   "execution_count": 21,
   "metadata": {},
   "outputs": [],
   "source": [
    "def count_sequences( pattern, towels, memo=dict() ):\n",
    "    if pattern in memo:\n",
    "        return memo[pattern]\n",
    "    \n",
    "    if len(pattern) == 0:\n",
    "        return 1\n",
    "    \n",
    "    count = 0\n",
    "    for t in towels:\n",
    "        \n",
    "        n = len(t)\n",
    "        if pattern[:n] == t:\n",
    "            count += count_sequences( pattern[n:], towels, memo=memo )\n",
    "\n",
    "    memo[pattern] = count\n",
    "    return count"
   ]
  },
  {
   "cell_type": "code",
   "execution_count": 24,
   "metadata": {},
   "outputs": [],
   "source": [
    "def part2( text ):\n",
    "    # cut out the bad patterns using the smaller towel set\n",
    "    good = part1( text )\n",
    "\n",
    "    # now use the full towel set to count the number of solutions for each good pattern\n",
    "    puzz = parse_input(text)\n",
    "    total = 0\n",
    "    memo = dict()\n",
    "    for pattern in good:\n",
    "        total += count_sequences( pattern, puzz[\"towels\"], memo )\n",
    "\n",
    "    return total"
   ]
  },
  {
   "cell_type": "code",
   "execution_count": 25,
   "metadata": {},
   "outputs": [
    {
     "name": "stdout",
     "output_type": "stream",
     "text": [
      "Culled 3 of 8 towels. 5 remain.\n"
     ]
    },
    {
     "data": {
      "text/plain": [
       "16"
      ]
     },
     "execution_count": 25,
     "metadata": {},
     "output_type": "execute_result"
    }
   ],
   "source": [
    "part2( test_str )"
   ]
  },
  {
   "cell_type": "code",
   "execution_count": 26,
   "metadata": {},
   "outputs": [
    {
     "name": "stdout",
     "output_type": "stream",
     "text": [
      "Culled 423 of 447 towels. 24 remain.\n"
     ]
    },
    {
     "data": {
      "text/plain": [
       "572248688842069"
      ]
     },
     "execution_count": 26,
     "metadata": {},
     "output_type": "execute_result"
    }
   ],
   "source": [
    "part2( puzz_str )"
   ]
  }
 ],
 "metadata": {
  "kernelspec": {
   "display_name": "Python 3",
   "language": "python",
   "name": "python3"
  },
  "language_info": {
   "codemirror_mode": {
    "name": "ipython",
    "version": 3
   },
   "file_extension": ".py",
   "mimetype": "text/x-python",
   "name": "python",
   "nbconvert_exporter": "python",
   "pygments_lexer": "ipython3",
   "version": "3.11.9"
  },
  "orig_nbformat": 4
 },
 "nbformat": 4,
 "nbformat_minor": 2
}
