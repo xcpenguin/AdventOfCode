{
 "cells": [
  {
   "attachments": {},
   "cell_type": "markdown",
   "metadata": {},
   "source": [
    "# December 09, 2024\n",
    "\n",
    "https://adventofcode.com/2024/day/089"
   ]
  },
  {
   "cell_type": "code",
   "execution_count": 6,
   "metadata": {},
   "outputs": [],
   "source": [
    "from collections import defaultdict"
   ]
  },
  {
   "cell_type": "code",
   "execution_count": 144,
   "metadata": {},
   "outputs": [],
   "source": [
    "def dprint( *args ):\n",
    "    if DEBUG:\n",
    "        return print(*args)\n"
   ]
  },
  {
   "cell_type": "code",
   "execution_count": 1,
   "metadata": {},
   "outputs": [],
   "source": [
    "test_str = f'''2333133121414131402'''"
   ]
  },
  {
   "cell_type": "code",
   "execution_count": 3,
   "metadata": {},
   "outputs": [],
   "source": [
    "fn = \"../data/2024/09.txt\"\n",
    "with open(fn, \"r\") as file:\n",
    "    text = file.readlines()\n",
    "puzz_str = [line.strip() for line in text][0]"
   ]
  },
  {
   "cell_type": "markdown",
   "metadata": {},
   "source": [
    "# Part 1"
   ]
  },
  {
   "cell_type": "code",
   "execution_count": 12,
   "metadata": {},
   "outputs": [
    {
     "data": {
      "text/plain": [
       "94972"
      ]
     },
     "execution_count": 12,
     "metadata": {},
     "output_type": "execute_result"
    }
   ],
   "source": [
    "tot = 0\n",
    "sum( [int(x) for x in puzz_str] )"
   ]
  },
  {
   "cell_type": "code",
   "execution_count": 13,
   "metadata": {},
   "outputs": [
    {
     "data": {
      "text/plain": [
       "19999"
      ]
     },
     "execution_count": 13,
     "metadata": {},
     "output_type": "execute_result"
    }
   ],
   "source": [
    "len(puzz_str)"
   ]
  },
  {
   "cell_type": "code",
   "execution_count": 68,
   "metadata": {},
   "outputs": [],
   "source": [
    "def create_disk_map( line ):\n",
    "    file_blocks = dict()\n",
    "    empty_blocks = list()\n",
    "\n",
    "    # toggle between reading a file spec or empty space spec\n",
    "    is_file = True\n",
    "    # count file_ids with each new file spec\n",
    "    file_id = 0\n",
    "    # keep track of position on the disk\n",
    "    disk_pos = 0\n",
    "\n",
    "    for x in line:\n",
    "        if is_file:\n",
    "            file_blocks[ file_id ] = [ disk_pos + counter for counter in range(0, int(x)) ]\n",
    "            file_id += 1\n",
    "        else:\n",
    "            empty_blocks += [ disk_pos + counter for counter in range(0, int(x)) ]\n",
    "\n",
    "        # advance pointer to disk position\n",
    "        disk_pos += int(x)\n",
    "        is_file = not is_file\n",
    "\n",
    "    return file_blocks, empty_blocks\n"
   ]
  },
  {
   "cell_type": "code",
   "execution_count": 69,
   "metadata": {},
   "outputs": [],
   "source": [
    "def defrag_disk( file_blocks, empty_space ):\n",
    "    for file_id in reversed(file_blocks):\n",
    "        for i, disk_pos in enumerate( file_blocks[file_id][::-1] ):\n",
    "            #print(file_id, i, disk_pos)\n",
    "\n",
    "            # only move file block if it goes left\n",
    "            old_block_pos = file_blocks[file_id][-(i+1)]\n",
    "            emp = empty_space[0]\n",
    "            if old_block_pos > emp:\n",
    "                file_blocks[file_id][-(i+1)] = emp\n",
    "                empty_space = empty_space[1:] + [old_block_pos]\n",
    "            # otherwise, exit now\n",
    "            else:\n",
    "                return file_blocks, empty_space"
   ]
  },
  {
   "cell_type": "code",
   "execution_count": 70,
   "metadata": {},
   "outputs": [],
   "source": [
    "def checksum( file_blocks ):\n",
    "    tot = 0\n",
    "    for file_id, disk_pos_list in file_blocks.items():\n",
    "        tot += file_id * sum(disk_pos_list)\n",
    "\n",
    "    return tot"
   ]
  },
  {
   "cell_type": "code",
   "execution_count": 71,
   "metadata": {},
   "outputs": [],
   "source": [
    "def part1( line ):\n",
    "    file_blocks, empty_space = create_disk_map( line )\n",
    "    file_blocks, empty_space = defrag_disk( file_blocks, empty_space )\n",
    "    return checksum( file_blocks )\n"
   ]
  },
  {
   "cell_type": "code",
   "execution_count": 72,
   "metadata": {},
   "outputs": [
    {
     "data": {
      "text/plain": [
       "1928"
      ]
     },
     "execution_count": 72,
     "metadata": {},
     "output_type": "execute_result"
    }
   ],
   "source": [
    "part1(test_str)"
   ]
  },
  {
   "cell_type": "code",
   "execution_count": 73,
   "metadata": {},
   "outputs": [
    {
     "data": {
      "text/plain": [
       "6430446922192"
      ]
     },
     "execution_count": 73,
     "metadata": {},
     "output_type": "execute_result"
    }
   ],
   "source": [
    "part1(puzz_str)"
   ]
  },
  {
   "cell_type": "markdown",
   "metadata": {},
   "source": [
    "# Part 2"
   ]
  },
  {
   "cell_type": "markdown",
   "metadata": {},
   "source": [
    "Just doing a completely different method for part 2 today"
   ]
  },
  {
   "cell_type": "code",
   "execution_count": 158,
   "metadata": {},
   "outputs": [],
   "source": [
    "def create_disk_map2( line ):\n",
    "    # characterized by start_pos and length\n",
    "    file_blocks = dict()\n",
    "    # in retrospect, this could be a list\n",
    "    empty_blocks = dict()\n",
    "\n",
    "    # toggle between reading a file spec or empty space spec\n",
    "    is_file = True\n",
    "    # count file_ids with each new file spec\n",
    "    file_id = 0\n",
    "    empty_id = 0\n",
    "    # keep track of position on the disk\n",
    "    disk_pos = 0\n",
    "\n",
    "    for x in line:\n",
    "        if is_file:\n",
    "            file_blocks[ file_id ] = [disk_pos, int(x)]\n",
    "            file_id += 1\n",
    "        else:\n",
    "            empty_blocks[ empty_id ] = [disk_pos, int(x)]\n",
    "            empty_id += 1\n",
    "\n",
    "        # advance pointer to disk position\n",
    "        disk_pos += int(x)\n",
    "        is_file = not is_file\n",
    "\n",
    "    return file_blocks, empty_blocks\n"
   ]
  },
  {
   "cell_type": "code",
   "execution_count": 201,
   "metadata": {},
   "outputs": [],
   "source": [
    "def clean_empty_space( empty_blocks ):\n",
    "    # simplify(?) things by removing len-0 empty space\n",
    "    \n",
    "    to_del = list()\n",
    "    for id, spec in empty_blocks.items():\n",
    "        if spec[1] == 0:\n",
    "            to_del.append( id )\n",
    "\n",
    "    if len(to_del) > 0:\n",
    "        dprint(\"Removing spaces\", \",\".join((str(x) for x in to_del)))\n",
    "        new_empty_dict = dict()\n",
    "        empty_id = 0\n",
    "        for id, spec in empty_blocks.items():\n",
    "            if id not in to_del:\n",
    "                new_empty_dict[empty_id] = spec\n",
    "                empty_id += 1\n",
    "\n",
    "    else:\n",
    "        new_empty_dict = empty_blocks\n",
    "\n",
    "    return new_empty_dict\n",
    "\n",
    "def create_space( empty_blocks, new_spec ):\n",
    "\n",
    "    new_empty_dict = dict()\n",
    "    space_added = False\n",
    "    empty_id = 0\n",
    "\n",
    "    # now sort them\n",
    "    for id, spec in empty_blocks.items():\n",
    "        if not space_added and new_spec[0] < spec[0]:\n",
    "            new_empty_dict[ empty_id ] = new_spec\n",
    "            empty_id += 1\n",
    "            space_added = True\n",
    "        \n",
    "        new_empty_dict[ empty_id ] = spec\n",
    "        empty_id += 1\n",
    "\n",
    "    return new_empty_dict\n",
    "\n",
    "\n",
    "\n",
    "def defrag_disk2( file_blocks, empty_blocks ):\n",
    "\n",
    "    for file_id in reversed( file_blocks ):\n",
    "        # skipping this resolves an edge case where there's no space immediately before the last file\n",
    "        # the extra spaces won't harm anything on the first iteration            \n",
    "\n",
    "        dprint(\"defrag\", file_id)\n",
    "        cur_pos = file_blocks[file_id][0]\n",
    "        req_space = file_blocks[file_id][1]\n",
    "\n",
    "        # after we move the file, we need to keep iterating over the empty space to update it with the recently vacated positions\n",
    "        file_moved = False\n",
    "\n",
    "        # This determines if a new space has been created...\n",
    "        # I'm starting to rethink this whole framework, should I include len-0 spaces going forward?\n",
    "        # I'm wondering if that will make identifying the appropriate space more difficult.\n",
    "        new_space = None\n",
    "\n",
    "        # look for space for this file...\n",
    "        for empty_id, spec in empty_blocks.items():\n",
    "\n",
    "            # see if we can move the file\n",
    "            if not file_moved:\n",
    "                # don't move stuff to the right - break early\n",
    "                if spec[0] > cur_pos:\n",
    "                    break\n",
    "\n",
    "                # did we find space?\n",
    "                if spec[1] >= req_space:\n",
    "                    \n",
    "                    dprint(\"moving to emptyblock\", empty_id, *spec)\n",
    "                    # yes! move that file in here!\n",
    "                    file_blocks[file_id][0] = spec[0]\n",
    "\n",
    "                    # note: deleting dict entry mid-loop causes runtime error. so just deal with a bunch of length-0 empty spaces\n",
    "                    # the empty block is now smaller and starts further right\n",
    "                    empty_blocks[empty_id][0] += req_space\n",
    "                    empty_blocks[empty_id][1] -= req_space\n",
    "\n",
    "                    file_moved = True\n",
    "\n",
    "            # see if we can fix the empty space description\n",
    "            else: # file_moved is True\n",
    "\n",
    "                # CASE 1: empty space precedes the file\n",
    "                if spec[0] + spec[1] == cur_pos:\n",
    "                    dprint(\"expanding empty space\", empty_id)\n",
    "                    # This is the empty block right before the file (before it moved)\n",
    "                    # create a bigger empty space combining this with the now empty file blocks\n",
    "                    empty_blocks[empty_id][1] += req_space\n",
    "\n",
    "                    # if the next empty space starts where this empty space ends, we need to combine them\n",
    "                    if empty_id < len(empty_blocks) - 1 and \\\n",
    "                         empty_blocks[empty_id+1][0] == empty_blocks[empty_id][0] + empty_blocks[empty_id][1]:\n",
    "                        # add the blocks from second space to the previous one\n",
    "\n",
    "                        empty_blocks[empty_id][1] += empty_blocks[empty_id+1][1]\n",
    "                        # remove them from the second space\n",
    "                        empty_blocks[empty_id+1][1] = 0\n",
    "\n",
    "                    empty_blocks = clean_empty_space( empty_blocks )\n",
    "                    # nothing left to update for this move\n",
    "                    break\n",
    "\n",
    "                # CASE 2: we create a new empty space\n",
    "                if spec[0] > cur_pos:\n",
    "\n",
    "                    # is there an empty space immediately after?\n",
    "                    if spec[0] == cur_pos + req_space:\n",
    "                        dprint(\"expanding following empty space\", empty_id)\n",
    "                        # yes - it starts at cur_pos now and has more blocks\n",
    "                        empty_blocks[empty_id][0] = cur_pos\n",
    "                        empty_blocks[empty_id][1] += req_space\n",
    "                        empty_blocks = clean_empty_space( empty_blocks )\n",
    "\n",
    "                    else:\n",
    "                        dprint(\"creating new empty space\")\n",
    "                        # no - create a new space\n",
    "                        # I think we can add a new key since we're about to break out of the loop anyway...\n",
    "                        empty_blocks = create_space( empty_blocks, [cur_pos, req_space] )\n",
    "                        empty_blocks = clean_empty_space( empty_blocks )\n",
    "\n",
    "                    break\n",
    "            \n",
    "        dprint(file_blocks)\n",
    "        dprint(empty_blocks)\n",
    "\n",
    "    dprint(\"done!\")\n",
    "    dprint(file_blocks)\n",
    "    dprint(empty_blocks)\n",
    "\n",
    "    return file_blocks, empty_blocks\n",
    "\n",
    "def checksum2( f ):\n",
    "    tot = 0\n",
    "    for id, spec in f.items():\n",
    "        # avg * len * file_id\n",
    "        val = (spec[0] + (spec[1]-1)/2) * spec[1] * id\n",
    "        dprint(id, val)\n",
    "        tot += val\n",
    "\n",
    "    return tot\n",
    "\n",
    "\n",
    "\n"
   ]
  },
  {
   "cell_type": "code",
   "execution_count": 217,
   "metadata": {},
   "outputs": [],
   "source": [
    "def part2( puzz ):\n",
    "    f,e = create_disk_map2( puzz )\n",
    "    f,e = defrag_disk2( f, e )\n",
    "    return checksum2( f )\n",
    "    "
   ]
  },
  {
   "cell_type": "code",
   "execution_count": 203,
   "metadata": {},
   "outputs": [
    {
     "name": "stdout",
     "output_type": "stream",
     "text": [
      "--- files ---\n",
      "{0: [0, 2], 1: [5, 3], 2: [11, 1], 3: [15, 3], 4: [19, 2], 5: [22, 4], 6: [27, 4], 7: [32, 3], 8: [36, 4], 9: [40, 2]}\n",
      "--- empty ---\n",
      "{0: [2, 3], 1: [8, 3], 2: [12, 3], 3: [18, 1], 4: [21, 1], 5: [26, 1], 6: [31, 1], 7: [35, 1], 8: [40, 0]}\n",
      "defrag 9\n",
      "moving to emptyblock 0 2 3\n",
      "expanding empty space 8\n",
      "{0: [0, 2], 1: [5, 3], 2: [11, 1], 3: [15, 3], 4: [19, 2], 5: [22, 4], 6: [27, 4], 7: [32, 3], 8: [36, 4], 9: [2, 2]}\n",
      "{0: [4, 1], 1: [8, 3], 2: [12, 3], 3: [18, 1], 4: [21, 1], 5: [26, 1], 6: [31, 1], 7: [35, 1], 8: [40, 2]}\n",
      "defrag 8\n",
      "{0: [0, 2], 1: [5, 3], 2: [11, 1], 3: [15, 3], 4: [19, 2], 5: [22, 4], 6: [27, 4], 7: [32, 3], 8: [36, 4], 9: [2, 2]}\n",
      "{0: [4, 1], 1: [8, 3], 2: [12, 3], 3: [18, 1], 4: [21, 1], 5: [26, 1], 6: [31, 1], 7: [35, 1], 8: [40, 2]}\n",
      "defrag 7\n",
      "moving to emptyblock 1 8 3\n",
      "expanding empty space 6\n",
      "Removing spaces 1,7\n",
      "{0: [0, 2], 1: [5, 3], 2: [11, 1], 3: [15, 3], 4: [19, 2], 5: [22, 4], 6: [27, 4], 7: [8, 3], 8: [36, 4], 9: [2, 2]}\n",
      "{0: [4, 1], 1: [12, 3], 2: [18, 1], 3: [21, 1], 4: [26, 1], 5: [31, 5], 6: [40, 2]}\n",
      "defrag 6\n",
      "{0: [0, 2], 1: [5, 3], 2: [11, 1], 3: [15, 3], 4: [19, 2], 5: [22, 4], 6: [27, 4], 7: [8, 3], 8: [36, 4], 9: [2, 2]}\n",
      "{0: [4, 1], 1: [12, 3], 2: [18, 1], 3: [21, 1], 4: [26, 1], 5: [31, 5], 6: [40, 2]}\n",
      "defrag 5\n",
      "{0: [0, 2], 1: [5, 3], 2: [11, 1], 3: [15, 3], 4: [19, 2], 5: [22, 4], 6: [27, 4], 7: [8, 3], 8: [36, 4], 9: [2, 2]}\n",
      "{0: [4, 1], 1: [12, 3], 2: [18, 1], 3: [21, 1], 4: [26, 1], 5: [31, 5], 6: [40, 2]}\n",
      "defrag 4\n",
      "moving to emptyblock 1 12 3\n",
      "expanding empty space 2\n",
      "Removing spaces 3\n",
      "{0: [0, 2], 1: [5, 3], 2: [11, 1], 3: [15, 3], 4: [12, 2], 5: [22, 4], 6: [27, 4], 7: [8, 3], 8: [36, 4], 9: [2, 2]}\n",
      "{0: [4, 1], 1: [14, 1], 2: [18, 4], 3: [26, 1], 4: [31, 5], 5: [40, 2]}\n",
      "defrag 3\n",
      "{0: [0, 2], 1: [5, 3], 2: [11, 1], 3: [15, 3], 4: [12, 2], 5: [22, 4], 6: [27, 4], 7: [8, 3], 8: [36, 4], 9: [2, 2]}\n",
      "{0: [4, 1], 1: [14, 1], 2: [18, 4], 3: [26, 1], 4: [31, 5], 5: [40, 2]}\n",
      "defrag 2\n",
      "moving to emptyblock 0 4 1\n",
      "creating new empty space\n",
      "Removing spaces 0\n",
      "{0: [0, 2], 1: [5, 3], 2: [4, 1], 3: [15, 3], 4: [12, 2], 5: [22, 4], 6: [27, 4], 7: [8, 3], 8: [36, 4], 9: [2, 2]}\n",
      "{0: [11, 1], 1: [14, 1], 2: [18, 4], 3: [26, 1], 4: [31, 5], 5: [40, 2]}\n",
      "defrag 1\n",
      "{0: [0, 2], 1: [5, 3], 2: [4, 1], 3: [15, 3], 4: [12, 2], 5: [22, 4], 6: [27, 4], 7: [8, 3], 8: [36, 4], 9: [2, 2]}\n",
      "{0: [11, 1], 1: [14, 1], 2: [18, 4], 3: [26, 1], 4: [31, 5], 5: [40, 2]}\n",
      "defrag 0\n",
      "{0: [0, 2], 1: [5, 3], 2: [4, 1], 3: [15, 3], 4: [12, 2], 5: [22, 4], 6: [27, 4], 7: [8, 3], 8: [36, 4], 9: [2, 2]}\n",
      "{0: [11, 1], 1: [14, 1], 2: [18, 4], 3: [26, 1], 4: [31, 5], 5: [40, 2]}\n",
      "done!\n",
      "{0: [0, 2], 1: [5, 3], 2: [4, 1], 3: [15, 3], 4: [12, 2], 5: [22, 4], 6: [27, 4], 7: [8, 3], 8: [36, 4], 9: [2, 2]}\n",
      "{0: [11, 1], 1: [14, 1], 2: [18, 4], 3: [26, 1], 4: [31, 5], 5: [40, 2]}\n",
      "\n",
      "--- files after ---\n",
      "{0: [0, 2], 1: [5, 3], 2: [4, 1], 3: [15, 3], 4: [12, 2], 5: [22, 4], 6: [27, 4], 7: [8, 3], 8: [36, 4], 9: [2, 2]}\n",
      "--- empty after ---\n",
      "{0: [11, 1], 1: [14, 1], 2: [18, 4], 3: [26, 1], 4: [31, 5], 5: [40, 2]}\n"
     ]
    }
   ],
   "source": [
    "DEBUG = True\n",
    "f, e = create_disk_map2( test_str )\n",
    "print(\"--- files ---\")\n",
    "print(f)\n",
    "print(\"--- empty ---\")\n",
    "print(e)\n",
    "\n",
    "f,e = defrag_disk2( f, e )\n",
    "print(\"\\n--- files after ---\")\n",
    "print(f)\n",
    "print(\"--- empty after ---\")\n",
    "print(e)"
   ]
  },
  {
   "cell_type": "code",
   "execution_count": 207,
   "metadata": {},
   "outputs": [
    {
     "name": "stdout",
     "output_type": "stream",
     "text": [
      "{0: [0, 2], 1: [5, 3], 2: [4, 1], 3: [15, 3], 4: [12, 2], 5: [22, 4], 6: [27, 4], 7: [8, 3], 8: [36, 4], 9: [2, 2]}\n",
      "0 0.0\n",
      "1 18.0\n",
      "2 8.0\n",
      "3 144.0\n",
      "4 100.0\n",
      "5 470.0\n",
      "6 684.0\n",
      "7 189.0\n",
      "8 1200.0\n",
      "9 45.0\n"
     ]
    },
    {
     "data": {
      "text/plain": [
       "2858.0"
      ]
     },
     "execution_count": 207,
     "metadata": {},
     "output_type": "execute_result"
    }
   ],
   "source": [
    "DEBUG = True\n",
    "print(f)\n",
    "checksum2( f )"
   ]
  },
  {
   "cell_type": "code",
   "execution_count": 218,
   "metadata": {},
   "outputs": [
    {
     "data": {
      "text/plain": [
       "2858.0"
      ]
     },
     "execution_count": 218,
     "metadata": {},
     "output_type": "execute_result"
    }
   ],
   "source": [
    "DEBUG = False\n",
    "part2( test_str )"
   ]
  },
  {
   "cell_type": "code",
   "execution_count": 219,
   "metadata": {},
   "outputs": [
    {
     "data": {
      "text/plain": [
       "6460170593016.0"
      ]
     },
     "execution_count": 219,
     "metadata": {},
     "output_type": "execute_result"
    }
   ],
   "source": [
    "part2( puzz_str )"
   ]
  }
 ],
 "metadata": {
  "kernelspec": {
   "display_name": "Python 3",
   "language": "python",
   "name": "python3"
  },
  "language_info": {
   "codemirror_mode": {
    "name": "ipython",
    "version": 3
   },
   "file_extension": ".py",
   "mimetype": "text/x-python",
   "name": "python",
   "nbconvert_exporter": "python",
   "pygments_lexer": "ipython3",
   "version": "3.11.9"
  },
  "orig_nbformat": 4
 },
 "nbformat": 4,
 "nbformat_minor": 2
}
