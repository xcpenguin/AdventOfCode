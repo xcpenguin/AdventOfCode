{
 "cells": [
  {
   "cell_type": "markdown",
   "metadata": {},
   "source": [
    "# December 22, 2022\n",
    "https://adventofcode.com/2022/day/22\n"
   ]
  },
  {
   "cell_type": "code",
   "execution_count": 1,
   "metadata": {},
   "outputs": [],
   "source": [
    "# too low: 7634\n",
    "\n",
    "# Part 2:\n",
    "# too low: 146241"
   ]
  },
  {
   "cell_type": "code",
   "execution_count": 106,
   "metadata": {},
   "outputs": [],
   "source": [
    "import re\n",
    "puz_fn = \"../data/2022/22.txt\"\n",
    "test_fn = \"../data/2022/22_test.txt\""
   ]
  },
  {
   "cell_type": "code",
   "execution_count": 83,
   "metadata": {},
   "outputs": [],
   "source": [
    "def read_input( fn ):\n",
    "    with open(fn, \"r\") as file:\n",
    "        input = file.readlines()\n",
    "\n",
    "    map = [ x.strip(\"\\n\") for x in input[:-2] ]\n",
    "    \n",
    "    # make map lines uniform length...\n",
    "    mx = max( [len(line) for line in map] )\n",
    "    map = [ line + \"\".join([\" \"]*(mx-len(line))) for line in map ]\n",
    "    \n",
    "    # parse instructions\n",
    "    dir_string = input[-1]\n",
    "    dir = []\n",
    "    while True:\n",
    "        ma = re.fullmatch( r\"(\\d+)([RL])(.*)\", dir_string )\n",
    "        if ma is None:\n",
    "            break\n",
    "        \n",
    "        dir.append( [int(ma.group(1)), ma.group(2)] )\n",
    "        dir_string = ma.group(3)\n",
    "\n",
    "    dir.append( [int(dir_string), \"X\"] )\n",
    "    return map, dir\n",
    "\n"
   ]
  },
  {
   "cell_type": "code",
   "execution_count": 129,
   "metadata": {},
   "outputs": [
    {
     "name": "stdout",
     "output_type": "stream",
     "text": [
      "        ...#    \n",
      "        .#..    \n",
      "        #...    \n",
      "        ....    \n",
      "...#.......#    \n",
      "........#...    \n",
      "..#....#....    \n",
      "..........#.    \n",
      "        ...#....\n",
      "        .....#..\n",
      "        .#......\n",
      "        ......#.\n",
      "[[10, 'R'], [5, 'L'], [5, 'R'], [10, 'L'], [4, 'R'], [5, 'L'], [5, 'X']]\n"
     ]
    }
   ],
   "source": [
    "test_map, test_dir = read_input(test_fn)\n",
    "print(\"\\n\".join(test_map))\n",
    "print(test_dir)"
   ]
  },
  {
   "cell_type": "code",
   "execution_count": 130,
   "metadata": {},
   "outputs": [],
   "source": [
    "puz_map, puz_dir = read_input( puz_fn )"
   ]
  },
  {
   "cell_type": "markdown",
   "metadata": {},
   "source": [
    "### Part 1"
   ]
  },
  {
   "cell_type": "code",
   "execution_count": 133,
   "metadata": {},
   "outputs": [],
   "source": [
    "def follow_directions( map, dir, verbose=False ):\n",
    "    ypos = 0\n",
    "    xpos = 0\n",
    "    while map[ypos][xpos] != \".\":\n",
    "        xpos += 1\n",
    "\n",
    "    if verbose:\n",
    "        print(f\"Starting pos: ({xpos}, {ypos})\")\n",
    "    # List of [xstep, ystep] depending on bearing\n",
    "    # Turning right goes to the next pair\n",
    "    # Turning left goes to the prev pair\n",
    "    steps = [ [1,0], [0,1], [-1,0], [0,-1] ]\n",
    "    path = [\">\", \"v\", \"<\", \"^\"]\n",
    "\n",
    "    bearing = 0\n",
    "    xlast, ylast = xpos, ypos\n",
    "    for dist, turn in dir:\n",
    "        xstep, ystep = steps[bearing][0], steps[bearing][1]\n",
    "        if verbose:\n",
    "            print(f\"Going {dist} steps with bearing {bearing} ({xstep}, {ystep})\")\n",
    "        i = 0\n",
    "        while i < dist:\n",
    "            xnew = (xpos + xstep) % len(map[0])\n",
    "            ynew = (ypos + ystep) % len(map)\n",
    "\n",
    "            # check for wall, in which case stop early\n",
    "            if map[ynew][xnew] == \"#\":\n",
    "                #print(f\"Found wall at ({ynew}, {xnew})\")\n",
    "                # keep track of last floor tile, in case the wall is after blank spaces (i.e. wraparound)\n",
    "                xpos = xlast\n",
    "                ypos = ylast \n",
    "                break\n",
    "            \n",
    "\n",
    "            xpos = xnew\n",
    "            ypos = ynew\n",
    "            # only count the step if it wasn't a blank tile\n",
    "            if map[ypos][xpos] != \" \":\n",
    "                map[ylast] = map[ylast][:xlast] + path[bearing] + map[ylast][(xlast+1):]\n",
    "                xlast = xpos\n",
    "                ylast = ypos\n",
    "                i += 1\n",
    "\n",
    "\n",
    "        # done moving, now turn:\n",
    "        if verbose:\n",
    "            print(f\"New pos: ({xpos}, {ypos})\")\n",
    "            print(f\"Turning {turn}\")\n",
    "        if turn == \"R\":\n",
    "            bearing = (bearing + 1) % 4\n",
    "        elif turn == \"L\":\n",
    "            bearing = (bearing - 1) % 4\n",
    "\n",
    "    map[ypos] = map[ypos][:xpos] + \"@\" + map[ypos][(xpos+1):]\n",
    "        \n",
    "       \n",
    "    return xpos, ypos, bearing"
   ]
  },
  {
   "cell_type": "code",
   "execution_count": 134,
   "metadata": {},
   "outputs": [
    {
     "name": "stdout",
     "output_type": "stream",
     "text": [
      "Starting pos: (8, 0)\n",
      "Going 10 steps with bearing 0 (1, 0)\n",
      "New pos: (10, 0)\n",
      "Turning R\n",
      "Going 5 steps with bearing 1 (0, 1)\n",
      "New pos: (10, 5)\n",
      "Turning L\n",
      "Going 5 steps with bearing 0 (1, 0)\n",
      "New pos: (3, 5)\n",
      "Turning R\n",
      "Going 10 steps with bearing 1 (0, 1)\n",
      "New pos: (3, 7)\n",
      "Turning L\n",
      "Going 4 steps with bearing 0 (1, 0)\n",
      "New pos: (7, 7)\n",
      "Turning R\n",
      "Going 5 steps with bearing 1 (0, 1)\n",
      "New pos: (7, 5)\n",
      "Turning L\n",
      "Going 5 steps with bearing 0 (1, 0)\n",
      "New pos: (7, 5)\n",
      "Turning X\n"
     ]
    },
    {
     "data": {
      "text/plain": [
       "(7, 5, 0)"
      ]
     },
     "execution_count": 134,
     "metadata": {},
     "output_type": "execute_result"
    }
   ],
   "source": [
    "test_map, test_dir = read_input(test_fn)\n",
    "follow_directions(test_map, test_dir, verbose = True)"
   ]
  },
  {
   "cell_type": "code",
   "execution_count": 135,
   "metadata": {},
   "outputs": [
    {
     "data": {
      "text/plain": [
       "['        >>v#    ',\n",
       " '        .#v.    ',\n",
       " '        #.v.    ',\n",
       " '        ..v.    ',\n",
       " '...#...v..v#    ',\n",
       " '>>>v...@#.>>    ',\n",
       " '..#v...#....    ',\n",
       " '...>>>>v..#.    ',\n",
       " '        ...#....',\n",
       " '        .....#..',\n",
       " '        .#......',\n",
       " '        ......#.']"
      ]
     },
     "execution_count": 135,
     "metadata": {},
     "output_type": "execute_result"
    }
   ],
   "source": [
    "test_map"
   ]
  },
  {
   "cell_type": "code",
   "execution_count": null,
   "metadata": {},
   "outputs": [],
   "source": [
    "puz_map, puz_dir = read_input( puz_fn )\n",
    "follow_directions(puz_map, puz_dir, verbose=True)"
   ]
  },
  {
   "cell_type": "code",
   "execution_count": 138,
   "metadata": {},
   "outputs": [
    {
     "data": {
      "text/plain": [
       "159034"
      ]
     },
     "execution_count": 138,
     "metadata": {},
     "output_type": "execute_result"
    }
   ],
   "source": [
    "(158+1)*1000 + (7+1)*4 + 2"
   ]
  },
  {
   "cell_type": "code",
   "execution_count": null,
   "metadata": {},
   "outputs": [],
   "source": [
    "print(\"\\n\".join(puz_map))"
   ]
  },
  {
   "attachments": {},
   "cell_type": "markdown",
   "metadata": {},
   "source": [
    "### Part 2\n",
    "\n",
    "My map has these faces  \n",
    "XAB  \n",
    "XCX  \n",
    "DEX  \n",
    "FXX\n",
    "\n",
    "A top -> F left  \n",
    "A left -> D left  \n",
    "B bottom -> C right  \n",
    "B top -> F bottom  \n",
    "B right E right  \n",
    "C left  -> D top  \n",
    "E bottom -> F right\n"
   ]
  },
  {
   "cell_type": "code",
   "execution_count": 149,
   "metadata": {},
   "outputs": [],
   "source": [
    "def step_forward( xpos, ypos, xstep, ystep ):\n",
    "    # going up the page:\n",
    "    if xstep == 0 and ystep == -1:\n",
    "        if ypos == 0 and (50 <= xpos < 100):\n",
    "            # go off top A to left F:\n",
    "            xnew = 0\n",
    "            ynew = 150 + (xpos - 50)\n",
    "            xstepnew = 1\n",
    "            ystepnew = 0\n",
    "        elif ypos == 0 and (100 <= xpos < 150):\n",
    "            # go off top B to bot F\n",
    "            xnew = (xpos-100)\n",
    "            ynew = 199\n",
    "            xstepnew = 0\n",
    "            ystepnew = -1\n",
    "        elif ypos == 100 and (0 <= xpos < 50):\n",
    "            # go off top D to left C\n",
    "            xnew = 50\n",
    "            ynew = 50 + xpos\n",
    "            xstepnew = 1\n",
    "            ystepnew = 0\n",
    "        else:\n",
    "            # normal move\n",
    "            xnew = xpos\n",
    "            ynew = ypos - 1 \n",
    "            xstepnew = xstep\n",
    "            ystepnew = ystep\n",
    "\n",
    "    # going right on page:\n",
    "    elif xstep == 1 and ystep == 0:\n",
    "        if xpos == 149 and (0 <= ypos < 50):\n",
    "            # go off right B to right E\n",
    "            xnew = 99\n",
    "            ynew = 100 + (49-ypos)\n",
    "            xstepnew = -1\n",
    "            ystepnew = 0\n",
    "        elif xpos == 99 and (50 <= ypos < 100):\n",
    "            # go off right C to bot B\n",
    "            xnew = 100 + (ypos - 50)\n",
    "            ynew = 49\n",
    "            xstepnew = 0\n",
    "            ystepnew = -1\n",
    "        elif xpos == 99 and (100 <= ypos < 150):\n",
    "            # go off right E to right B\n",
    "            xnew = 149\n",
    "            ynew = (149 - ypos)\n",
    "            xstepnew = -1\n",
    "            ystepnew = 0\n",
    "        elif xpos == 49 and (150 <= ypos < 200):\n",
    "            # go off right F to bot E\n",
    "            xnew = (ypos-150) + 50\n",
    "            ynew = 149\n",
    "            xstepnew = 0\n",
    "            ystepnew = -1\n",
    "        else:\n",
    "            xnew = xpos + 1\n",
    "            ynew = ypos\n",
    "            xstepnew = xstep\n",
    "            ystepnew = ystep\n",
    "\n",
    "    # going down the page:\n",
    "    elif xstep == 0 and ystep == 1:\n",
    "        if ypos == 49 and (100 <= xpos < 150):\n",
    "            # go off bot B to right C\n",
    "            xnew = 99\n",
    "            ynew = 50 + (xpos - 100)\n",
    "            xstepnew = -1\n",
    "            ystepnew = 0\n",
    "        elif ypos == 149 and (50 <= xpos < 100):\n",
    "            # go off bot E to right F\n",
    "            xnew = 49\n",
    "            ynew = 150 + (xpos - 50)\n",
    "            xstepnew = -1\n",
    "            ystepnew = 0\n",
    "        elif ypos == 199 and (0 <= xpos < 50):\n",
    "            # go off bot F to top B\n",
    "            xnew = 100 + xpos\n",
    "            ynew = 0\n",
    "            xstepnew = 0\n",
    "            ystepnew = 1\n",
    "        else:\n",
    "            xnew = xpos\n",
    "            ynew = ypos + 1\n",
    "            xstepnew = xstep\n",
    "            ystepnew = ystep\n",
    "\n",
    "    # going left on page\n",
    "    elif xstep == -1 and ystep == 0:\n",
    "        if xpos == 50 and (0 <= ypos < 50):\n",
    "            # go off left A to left D\n",
    "            xnew = 0\n",
    "            ynew = 100 + (49 - ypos)\n",
    "            xstepnew = 1\n",
    "            ystepnew = 0\n",
    "        elif xpos == 50 and (50 <= ypos < 100):\n",
    "            # go off left C to top D\n",
    "            xnew = (ypos - 50)\n",
    "            ynew = 100\n",
    "            xstepnew = 0\n",
    "            ystepnew = 1\n",
    "        elif xpos == 0 and (100 <= ypos < 150):\n",
    "            # go off left D to left A\n",
    "            xnew = 50\n",
    "            ynew = (149 - ypos)\n",
    "            xstepnew = 1\n",
    "            ystepnew = 0\n",
    "        elif xpos == 0 and (150 <= ypos < 200):\n",
    "            # go off left F to top A\n",
    "            xnew = (ypos - 150) + 50\n",
    "            ynew = 0\n",
    "            xstepnew = 0\n",
    "            ystepnew = 1\n",
    "        else:\n",
    "            xnew = xpos - 1\n",
    "            ynew = ypos\n",
    "            xstepnew = xstep\n",
    "            ystepnew = ystep\n",
    "\n",
    "    return xnew, ynew, xstepnew, ystepnew"
   ]
  },
  {
   "cell_type": "code",
   "execution_count": 155,
   "metadata": {},
   "outputs": [],
   "source": [
    "def follow_directions_now_in_3D( map, dir, verbose=False ):\n",
    "    xpos = 50\n",
    "    ypos = 0\n",
    "    xstep = 1\n",
    "    ystep = 0\n",
    "\n",
    "    for dist, turn in dir:\n",
    "\n",
    "        i = 0\n",
    "        while i < dist:\n",
    "\n",
    "            # draw current pos/bearing\n",
    "            if xstep == 1:\n",
    "                mark = \">\"\n",
    "            elif xstep == -1:\n",
    "                mark = \"<\"\n",
    "            elif ystep == 1:\n",
    "                mark = \"v\"\n",
    "            else:\n",
    "                mark = \"^\"\n",
    "            map[ypos] = map[ypos][:xpos] + mark + map[ypos][(xpos+1):]\n",
    "\n",
    "            # take a step in the given direction\n",
    "            if verbose:\n",
    "                print(xpos, ypos, xstep, ystep, \" ->  \", end=\"\")\n",
    "            xnew, ynew, xstepnew, ystepnew = step_forward( xpos, ypos, xstep, ystep )\n",
    "            if verbose:\n",
    "                print(xnew, ynew, xstepnew, ystepnew, end=\"\")\n",
    "\n",
    "            # check for wall, in which case stop early\n",
    "            if map[ynew][xnew] == \"#\":\n",
    "                # no move happened, don't update pos or bearing\n",
    "                if verbose:\n",
    "                    print(\" #\")\n",
    "                break\n",
    "            \n",
    "            # no longer possible to step on blank spaces\n",
    "            xpos = xnew\n",
    "            ypos = ynew\n",
    "            xstep = xstepnew\n",
    "            ystep = ystepnew\n",
    "            i += 1\n",
    "\n",
    "        # steps = [ [1,0], [0,1], [-1,0], [0,-1] ]\n",
    "        if turn == \"R\":\n",
    "            if xstep != 0:\n",
    "                ystep = xstep\n",
    "                xstep = 0\n",
    "            else:\n",
    "                xstep = ystep * -1\n",
    "                ystep = 0\n",
    "        if turn == \"L\":\n",
    "            if xstep != 0:\n",
    "                ystep = xstep * -1\n",
    "                xstep = 0\n",
    "            else:\n",
    "                xstep = ystep\n",
    "                ystep = 0\n",
    "    \n",
    "    map[ypos] = map[ypos][:xpos] + \"@\" + map[ypos][(xpos+1):]\n",
    "        \n",
    "    if xstep == 1:\n",
    "        bearing = 0\n",
    "    elif ystep == 1:\n",
    "        bearing = 1\n",
    "    elif xstep == -1:\n",
    "        bearing = 2\n",
    "    elif ystep == -1:\n",
    "        bearing = 3\n",
    "    return xpos, ypos, bearing"
   ]
  },
  {
   "cell_type": "code",
   "execution_count": 156,
   "metadata": {},
   "outputs": [
    {
     "data": {
      "text/plain": [
       "(60, 146, 1)"
      ]
     },
     "execution_count": 156,
     "metadata": {},
     "output_type": "execute_result"
    }
   ],
   "source": [
    "puz_map, puz_dir = read_input( puz_fn )\n",
    "follow_directions_now_in_3D(puz_map, puz_dir)"
   ]
  },
  {
   "cell_type": "code",
   "execution_count": 157,
   "metadata": {},
   "outputs": [
    {
     "data": {
      "text/plain": [
       "147245"
      ]
     },
     "execution_count": 157,
     "metadata": {},
     "output_type": "execute_result"
    }
   ],
   "source": [
    "(146+1)*1000+(60+1)*4+1"
   ]
  },
  {
   "cell_type": "code",
   "execution_count": null,
   "metadata": {},
   "outputs": [],
   "source": [
    "puz_map"
   ]
  }
 ],
 "metadata": {
  "kernelspec": {
   "display_name": "base",
   "language": "python",
   "name": "python3"
  },
  "language_info": {
   "codemirror_mode": {
    "name": "ipython",
    "version": 3
   },
   "file_extension": ".py",
   "mimetype": "text/x-python",
   "name": "python",
   "nbconvert_exporter": "python",
   "pygments_lexer": "ipython3",
   "version": "3.7.3"
  },
  "orig_nbformat": 4,
  "vscode": {
   "interpreter": {
    "hash": "ad2bdc8ecc057115af97d19610ffacc2b4e99fae6737bb82f5d7fb13d2f2c186"
   }
  }
 },
 "nbformat": 4,
 "nbformat_minor": 2
}
