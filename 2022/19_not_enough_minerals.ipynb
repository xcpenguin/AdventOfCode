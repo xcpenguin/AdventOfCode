{
 "cells": [
  {
   "cell_type": "markdown",
   "metadata": {},
   "source": [
    "# December 19, 2022\n",
    "https://adventofcode.com/2022/day/19"
   ]
  },
  {
   "cell_type": "code",
   "execution_count": 2,
   "metadata": {},
   "outputs": [],
   "source": [
    "from math import ceil\n",
    "import re"
   ]
  },
  {
   "cell_type": "code",
   "execution_count": 3,
   "metadata": {},
   "outputs": [],
   "source": [
    "def create_blueprint( orebot, claybot, obsbot_ore, obsbot_clay, geobot_ore, geobot_obs ):\n",
    "    return {\n",
    "        'orebot': {'ore': orebot},\n",
    "        'claybot': {'ore': claybot},\n",
    "        'obsbot': {'ore': obsbot_ore, 'clay': obsbot_clay},\n",
    "        'geobot': {'ore': geobot_ore, 'obs': geobot_obs}\n",
    "        }\n",
    "\n",
    "test_bps = [\n",
    "    create_blueprint( 4, 2, 3,14,  2,7 ),\n",
    "    create_blueprint( 2, 3,  3,8, 3,12 )\n",
    "]"
   ]
  },
  {
   "cell_type": "code",
   "execution_count": 4,
   "metadata": {},
   "outputs": [],
   "source": [
    "fn = \"../data/2022/19.txt\"\n",
    "puz_bps = []\n",
    "\n",
    "with open(fn, \"r\") as file:\n",
    "    while True:\n",
    "        line = file.readline().strip(\"\\n\")\n",
    "        if not line:\n",
    "            break\n",
    "        ma = re.search( r\"\\d+.*(\\d+)\\D+(\\d+)\\D+(\\d+)\\D+(\\d+)\\D+(\\d+)\\D+(\\d+)\\D+\", line )\n",
    "        specs = []\n",
    "        for i in range(1,7):\n",
    "            specs.append(int(ma.group(i)))\n",
    "        puz_bps.append( create_blueprint( *specs ) ) "
   ]
  },
  {
   "cell_type": "code",
   "execution_count": 36,
   "metadata": {},
   "outputs": [],
   "source": [
    "def robot_factory( time, bp, memoize = False, orebot=1, ore=0, claybot=0, clay=0, obsbot=0, obs=0, geobot=0  ):\n",
    "    '''This algo caps orebots at 3 so we don't waste time trying bad strats. This is not 100% guaranteed!'''\n",
    "\n",
    "    # No point in getting more bots than this because you can't spend it any faster.\n",
    "    max_orebot = max( bp['orebot']['ore'], bp['claybot']['ore'], bp['obsbot']['ore'], bp['geobot']['ore'] )\n",
    "    max_claybot = bp['obsbot']['clay']\n",
    "    max_obsbot = bp['geobot']['obs']\n",
    "\n",
    "    global memo\n",
    "    if memoize:\n",
    "        key = \".\".join([str(x) for x in [time,orebot,ore,claybot,clay,obsbot,obs]])\n",
    "        if key in memo:\n",
    "            return memo[key]\n",
    "\n",
    "    if time < 1:\n",
    "        return 0\n",
    "\n",
    "    # Once we start making geobots, we probably are past making orebots and claybots:\n",
    "    if geobot > 0:\n",
    "        max_orebot = orebot\n",
    "        max_claybot = claybot\n",
    "\n",
    "        # try another obsbot if it will possibly lead to another geobot\n",
    "        # This heuristic may lead to wrong answer. Don't use it\n",
    "        #pred_geobot = int( bp['geobot']['obs'] / (time*obsbot + obs) )\n",
    "        #poss_geobot = int( bp['geobot']['obs'] / (time*obsbot + obs + (time-1)) )\n",
    "        #if poss_geobot <= pred_geobot:\n",
    "        #    max_obsbot = obsbot\n",
    "\n",
    "   # print(time, orebot, ore, claybot, clay, obsbot, obs)\n",
    "\n",
    "    # Each branching point has four options: what to build next?\n",
    "    best = 0\n",
    "\n",
    "    ## Option 1: Build an Orebot ##\n",
    "    if orebot < max_orebot:\n",
    "        ore_req = bp['orebot']['ore']\n",
    "        ore_needed = max(ore_req-ore, 0)\n",
    "        time_needed = 1 + ceil( ore_needed / orebot ) # 1 time to build bot. ceil(.) may be 0 if we already have enough ore\n",
    "\n",
    "        # Is there enough time to make this orebot?\n",
    "        # using strict because we need time to make the robot and also time for it to do a thing\n",
    "        if time_needed < time:\n",
    "            # How much ore is gained while we wait?\n",
    "            # We may produce extra ore. e.g. if we need 1 but have 3 orebots.\n",
    "            # Actually, we always produce extra ore because the orebot continues collecting while we build\n",
    "            ore_gained = time_needed * orebot \n",
    "\n",
    "            # After waiting, we've gained some ore and spent some ore\n",
    "            ore_left = ore + ore_gained - ore_req\n",
    "            # We've also lost some time to collect ore and build the orebot\n",
    "            time_left = time - time_needed\n",
    "\n",
    "            # Plus we may gain other resources while we wait for ore\n",
    "            clay_left = clay + claybot * time_needed\n",
    "            obs_left = obs + obsbot * time_needed\n",
    "\n",
    "            # Iterate, but we have one more orebot, and a different amount of ore/clay/obs/time\n",
    "            gain = robot_factory( time_left, bp, memoize, orebot+1, ore_left, claybot, clay_left, obsbot, obs_left, geobot)\n",
    "            best = max( best, gain )\n",
    "\n",
    "    ## Option 2: Build a Claybot ##\n",
    "    if claybot < max_claybot:\n",
    "        ore_req = bp['claybot']['ore']\n",
    "        ore_needed = max(ore_req-ore, 0)\n",
    "        time_needed = 1 + ceil( ore_needed / orebot ) \n",
    "\n",
    "        if time_needed < time:\n",
    "            ore_gained = time_needed * orebot \n",
    "            ore_left = ore + ore_gained - ore_req\n",
    "            time_left = time - time_needed\n",
    "\n",
    "            clay_left = clay + claybot * time_needed\n",
    "            obs_left = obs + obsbot * time_needed\n",
    "\n",
    "            gain = robot_factory( time_left, bp, memoize, orebot, ore_left, claybot+1, clay_left, obsbot, obs_left, geobot )\n",
    "            best = max( best, gain )\n",
    "\n",
    "    ## Option 3: Build an Obsidianbot ##\n",
    "    if claybot > 0 and obsbot < max_obsbot:\n",
    "        ore_req = bp['obsbot']['ore']\n",
    "        clay_req = bp['obsbot']['clay']\n",
    "\n",
    "        ore_needed = max(ore_req-ore, 0)\n",
    "        clay_needed = max(clay_req-clay, 0)\n",
    "\n",
    "        time_needed = 1 + max( ceil(ore_needed/orebot), ceil(clay_needed/claybot) )\n",
    "\n",
    "        if time_needed < time:\n",
    "            ore_left  =  ore + (time_needed *  orebot) -  ore_req\n",
    "            clay_left = clay + (time_needed * claybot) - clay_req\n",
    "            time_left = time - time_needed\n",
    "            obs_left = obs + obsbot * time_needed\n",
    "\n",
    "            gain = robot_factory( time_left, bp, memoize, orebot, ore_left, claybot, clay_left, obsbot+1, obs_left, geobot )\n",
    "            best = max(best, gain)\n",
    "\n",
    "    ## Option 4: Build a Geodebot ##\n",
    "    if obsbot > 0:\n",
    "        ore_req = bp['geobot']['ore']\n",
    "        obs_req = bp['geobot']['obs']\n",
    "\n",
    "        ore_needed = max(ore_req-ore, 0)\n",
    "        obs_needed = max(obs_req-obs, 0)\n",
    "\n",
    "        time_needed = 1 + max( ceil(ore_needed/orebot), ceil(obs_needed/obsbot) )\n",
    "\n",
    "        if time_needed < time:\n",
    "            ore_left = ore + (time_needed * orebot) - ore_req\n",
    "            obs_left = obs + (time_needed * obsbot) - obs_req\n",
    "            clay_left = clay + claybot * time_needed\n",
    "            time_left = time - time_needed\n",
    "\n",
    "            direct_gain = time_left # Gain 1 geode per time\n",
    "            gain = direct_gain + robot_factory( time_left, bp, memoize, orebot, ore_left, claybot, clay_left, obsbot, obs_left, geobot+1 )\n",
    "            best = max(best, gain)\n",
    "\n",
    "    if memoize:\n",
    "        memo[key] = best\n",
    "    return best"
   ]
  },
  {
   "cell_type": "markdown",
   "metadata": {},
   "source": [
    "### Part 1"
   ]
  },
  {
   "cell_type": "code",
   "execution_count": 37,
   "metadata": {},
   "outputs": [
    {
     "data": {
      "text/plain": [
       "9"
      ]
     },
     "execution_count": 37,
     "metadata": {},
     "output_type": "execute_result"
    }
   ],
   "source": [
    "# 5s without memo\n",
    "# 2.5s with memo\n",
    "memo = {}\n",
    "robot_factory(24, test_bps[0], memoize=True)"
   ]
  },
  {
   "cell_type": "code",
   "execution_count": 38,
   "metadata": {},
   "outputs": [
    {
     "data": {
      "text/plain": [
       "12"
      ]
     },
     "execution_count": 38,
     "metadata": {},
     "output_type": "execute_result"
    }
   ],
   "source": [
    "# ~3s without memo\n",
    "# 2s with memo\n",
    "memo = {}\n",
    "robot_factory(24, test_bps[1], memoize=True)"
   ]
  },
  {
   "cell_type": "code",
   "execution_count": 39,
   "metadata": {},
   "outputs": [
    {
     "name": "stdout",
     "output_type": "stream",
     "text": [
      "4, 0, 12, 1, 0, 7, 3, 0, 1, 0, 9, 0, 1, 0, 2, 3, 12, 1, 2, 3, 13, 10, 2, 0, 1, 1, 2, 4, 0, 0\n",
      "Part1: 1382\n"
     ]
    }
   ],
   "source": [
    "# ~16s without memo\n",
    "# ~ 11s with memo\n",
    "out = []\n",
    "# I think some of these bps don't let you get any geodes...\n",
    "for bp in puz_bps:\n",
    "    memo = {}\n",
    "    ans = robot_factory(24, bp, memoize=True)\n",
    "    out.append(ans)\n",
    "\n",
    "print( \", \".join([str(x) for x in out]))\n",
    "\n",
    "part1 = sum( [(i+1)*x for i,x in enumerate(out)] )\n",
    "print(\"Part1:\", part1)"
   ]
  },
  {
   "attachments": {},
   "cell_type": "markdown",
   "metadata": {},
   "source": [
    "With orebot capped at 3:\n",
    "'4, 0, 12, 0, 0, 7, 2, 0, 1, 0, 8, 0, 1, 0, 2, 3, 12, 1, 1, 3, 13, 10, 1, 0, 0, 0, 2, 4, 0, 0'\n",
    "\n",
    "With orebot capped at 6:\n",
    "'4, 0, 12, 1, 0, 7, 3, 0, 1, 0, 9, 0, 1, 0, 2, 3, 12, 1, 2, 3, 13, 10, 2, 0, 1, 1, 2, 4, 0, 0'\n",
    "\n",
    "With all bots capped at max usage:\n",
    "'4, 0, 12, 1, 0, 7, 3, 0, 1, 0, 9, 0, 1, 0, 2, 3, 12, 1, 2, 3, 13, 10, 2, 0, 1, 1, 2, 4, 0, 0'"
   ]
  },
  {
   "cell_type": "markdown",
   "metadata": {},
   "source": [
    "### Part 2"
   ]
  },
  {
   "cell_type": "code",
   "execution_count": 43,
   "metadata": {},
   "outputs": [
    {
     "data": {
      "text/plain": [
       "9"
      ]
     },
     "execution_count": 43,
     "metadata": {},
     "output_type": "execute_result"
    }
   ],
   "source": [
    "memo = {}\n",
    "robot_factory(24, test_bps[0], memoize=True)\n"
   ]
  },
  {
   "cell_type": "code",
   "execution_count": 44,
   "metadata": {},
   "outputs": [
    {
     "data": {
      "text/plain": [
       "9"
      ]
     },
     "execution_count": 44,
     "metadata": {},
     "output_type": "execute_result"
    }
   ],
   "source": [
    "memo = {}\n",
    "robot_factory(24, test_bps[0], memoize=True)\n"
   ]
  },
  {
   "cell_type": "code",
   "execution_count": 45,
   "metadata": {},
   "outputs": [
    {
     "data": {
      "text/plain": [
       "12"
      ]
     },
     "execution_count": 45,
     "metadata": {},
     "output_type": "execute_result"
    }
   ],
   "source": [
    "memo = {}\n",
    "robot_factory(25, test_bps[0], memoize=True)\n"
   ]
  },
  {
   "cell_type": "code",
   "execution_count": 46,
   "metadata": {},
   "outputs": [
    {
     "data": {
      "text/plain": [
       "15"
      ]
     },
     "execution_count": 46,
     "metadata": {},
     "output_type": "execute_result"
    }
   ],
   "source": [
    "memo = {}\n",
    "robot_factory(26, test_bps[0], memoize=True)\n"
   ]
  },
  {
   "cell_type": "code",
   "execution_count": 47,
   "metadata": {},
   "outputs": [
    {
     "data": {
      "text/plain": [
       "20"
      ]
     },
     "execution_count": 47,
     "metadata": {},
     "output_type": "execute_result"
    }
   ],
   "source": [
    "memo = {}\n",
    "robot_factory(27, test_bps[0], memoize=True)\n"
   ]
  },
  {
   "cell_type": "code",
   "execution_count": 48,
   "metadata": {},
   "outputs": [
    {
     "data": {
      "text/plain": [
       "26"
      ]
     },
     "execution_count": 48,
     "metadata": {},
     "output_type": "execute_result"
    }
   ],
   "source": [
    "memo = {}\n",
    "robot_factory(28, test_bps[0], memoize=True)\n"
   ]
  },
  {
   "cell_type": "code",
   "execution_count": 49,
   "metadata": {},
   "outputs": [
    {
     "data": {
      "text/plain": [
       "32"
      ]
     },
     "execution_count": 49,
     "metadata": {},
     "output_type": "execute_result"
    }
   ],
   "source": [
    "memo = {}\n",
    "robot_factory(29, test_bps[0], memoize=True)\n"
   ]
  },
  {
   "cell_type": "code",
   "execution_count": 50,
   "metadata": {},
   "outputs": [
    {
     "data": {
      "text/plain": [
       "39"
      ]
     },
     "execution_count": 50,
     "metadata": {},
     "output_type": "execute_result"
    }
   ],
   "source": [
    "# Without memo... over 11minutes\n",
    "memo = {}\n",
    "robot_factory(30, test_bps[0], memoize=True)"
   ]
  },
  {
   "cell_type": "code",
   "execution_count": 51,
   "metadata": {},
   "outputs": [
    {
     "data": {
      "text/plain": [
       "47"
      ]
     },
     "execution_count": 51,
     "metadata": {},
     "output_type": "execute_result"
    }
   ],
   "source": [
    "# Without memo... over 11minutes\n",
    "memo = {}\n",
    "robot_factory(31, test_bps[0], memoize=True)"
   ]
  },
  {
   "cell_type": "code",
   "execution_count": 53,
   "metadata": {},
   "outputs": [
    {
     "data": {
      "text/plain": [
       "56"
      ]
     },
     "execution_count": 53,
     "metadata": {},
     "output_type": "execute_result"
    }
   ],
   "source": [
    "memo = {}\n",
    "robot_factory(32, test_bps[0], memoize=True)"
   ]
  },
  {
   "cell_type": "code",
   "execution_count": 56,
   "metadata": {},
   "outputs": [
    {
     "data": {
      "text/plain": [
       "62"
      ]
     },
     "execution_count": 56,
     "metadata": {},
     "output_type": "execute_result"
    }
   ],
   "source": [
    "memo = {}\n",
    "robot_factory(32, test_bps[1], memoize=True)"
   ]
  },
  {
   "cell_type": "code",
   "execution_count": 61,
   "metadata": {},
   "outputs": [
    {
     "name": "stdout",
     "output_type": "stream",
     "text": [
      "46, 10, 69\n",
      "31740\n"
     ]
    }
   ],
   "source": [
    "out = []\n",
    "# I think some of these bps don't let you get any geodes...\n",
    "for bp in puz_bps[:3]:\n",
    "    memo = {}\n",
    "    ans = robot_factory(32, bp, memoize=True)\n",
    "    out.append(ans)\n",
    "    \n",
    "print(\", \".join([str(x) for x in out]))\n",
    "part2 = out[0]*out[1]*out[2]\n",
    "print(part2)"
   ]
  }
 ],
 "metadata": {
  "kernelspec": {
   "display_name": "base",
   "language": "python",
   "name": "python3"
  },
  "language_info": {
   "codemirror_mode": {
    "name": "ipython",
    "version": 3
   },
   "file_extension": ".py",
   "mimetype": "text/x-python",
   "name": "python",
   "nbconvert_exporter": "python",
   "pygments_lexer": "ipython3",
   "version": "3.7.3"
  },
  "orig_nbformat": 4,
  "vscode": {
   "interpreter": {
    "hash": "ad2bdc8ecc057115af97d19610ffacc2b4e99fae6737bb82f5d7fb13d2f2c186"
   }
  }
 },
 "nbformat": 4,
 "nbformat_minor": 2
}
