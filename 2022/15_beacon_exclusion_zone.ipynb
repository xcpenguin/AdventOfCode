{
 "cells": [
  {
   "cell_type": "markdown",
   "metadata": {},
   "source": [
    "# December 15, 2022\n",
    "https://adventofcode.com/2022/day/15"
   ]
  },
  {
   "cell_type": "code",
   "execution_count": null,
   "metadata": {},
   "outputs": [],
   "source": [
    "# too high: 5461730"
   ]
  },
  {
   "cell_type": "code",
   "execution_count": 1,
   "metadata": {},
   "outputs": [],
   "source": [
    "import re\n",
    "\n",
    "fn = \"../data/2022/15.txt\"\n",
    "sensors = []\n",
    "beacons = []\n",
    "\n",
    "with open(fn, \"r\") as file:\n",
    "    while True:\n",
    "        line = file.readline()\n",
    "        if not line:\n",
    "            break\n",
    "\n",
    "        match = re.search(\".*x=(-?\\d+).*y=(-?\\d+).*x=(-?\\d+).*y=(-?\\d+)\", line)\n",
    "        sensors.append( [int(match.group(1)), int(match.group(2))] )\n",
    "        beacons.append( [int(match.group(3)), int(match.group(4))] )"
   ]
  },
  {
   "cell_type": "code",
   "execution_count": 2,
   "metadata": {},
   "outputs": [],
   "source": [
    "def manhattan( a, b ):\n",
    "    return abs(a[0] - b[0]) + abs(a[1] - b[1])\n",
    "\n",
    "def distance( a, b, type=\"manhattan\" ):\n",
    "    if type == \"manhattan\":\n",
    "        return manhattan(a,b)\n",
    "    else:\n",
    "        raise Exception(f'''Distance type {type} not known''')"
   ]
  },
  {
   "cell_type": "code",
   "execution_count": 102,
   "metadata": {},
   "outputs": [],
   "source": [
    "def reduce_borel_set( borel_set ):\n",
    "    i = 0\n",
    "    # use while loops since set length will change\n",
    "    while i < len(borel_set):\n",
    "        j = i+1\n",
    "        while j < len(borel_set):\n",
    "            un = union( borel_set[i], borel_set[j] )\n",
    "            if un:\n",
    "                # combine set j into set i\n",
    "                borel_set[i] = un\n",
    "                # drop set j\n",
    "                borel_set = borel_set[:j] + borel_set[j+1:]\n",
    "                # but now need to check for earlier overlaps!\n",
    "                j = i+1\n",
    "            else:\n",
    "                # nothing to do, keep going\n",
    "                j += 1\n",
    "        i += 1\n",
    "    borel_set.sort()\n",
    "    return borel_set\n",
    "\n",
    "def borel_size( borel_set ):\n",
    "    # for this problem, both ends are inclusive\n",
    "    return sum( x[1] - x[0] + 1 for x in borel_set )\n",
    "\n",
    "\n",
    "\n",
    "def do_intersect( set1, set2 ):\n",
    "    # two intervals overlap if one of their mins is within the other interval\n",
    "    return (\n",
    "               (set1[0] >= set2[0] and set1[0] <= set2[1]) or\n",
    "               (set2[0] >= set1[0] and set2[0] <= set1[1])\n",
    "    )\n",
    "\n",
    "def union( set1, set2 ):\n",
    "    if do_intersect( set1, set2 ):\n",
    "        return [min(set1[0], set2[0]), max(set1[1], set2[1])]\n",
    "    else:\n",
    "        return False\n",
    "\n"
   ]
  },
  {
   "cell_type": "code",
   "execution_count": 103,
   "metadata": {},
   "outputs": [
    {
     "data": {
      "text/plain": [
       "[[0, 100], [1000, 2000]]"
      ]
     },
     "execution_count": 103,
     "metadata": {},
     "output_type": "execute_result"
    }
   ],
   "source": [
    "reduce_borel_set( [[0,10], [5,15], [20, 100], [1000,2000], [13,50]] )"
   ]
  },
  {
   "cell_type": "markdown",
   "metadata": {},
   "source": [
    "### Part 1"
   ]
  },
  {
   "cell_type": "code",
   "execution_count": 104,
   "metadata": {},
   "outputs": [],
   "source": [
    "def scan_row( sensors, beacons, row = int(2e6), verbose=False ):\n",
    "    elim_set = []\n",
    "    for i in range(len(sensors)):\n",
    "        s = sensors[i]\n",
    "        b = beacons[i]\n",
    "\n",
    "        dist = distance(s,b)\n",
    "        ht = distance( s, [s[0], row] )\n",
    "        if verbose:\n",
    "            print(i)\n",
    "            print(\"SENSOR:\", *s)\n",
    "            print(\"BEACON:\", *b)\n",
    "            print(dist, ht)\n",
    "\n",
    "        if ht <= dist:\n",
    "            elim = [ s[0] - (dist-ht), s[0] + (dist-ht) ] \n",
    "            elim_set.append(elim)\n",
    "            if verbose:\n",
    "                print(elim)\n",
    "                print(\"\\n\")\n",
    "\n",
    "    return reduce_borel_set( elim_set )"
   ]
  },
  {
   "cell_type": "code",
   "execution_count": 110,
   "metadata": {},
   "outputs": [
    {
     "name": "stdout",
     "output_type": "stream",
     "text": [
      "[[-774791, 4686938]]\n",
      "No beacons in 5461729 spaces.\n"
     ]
    }
   ],
   "source": [
    "vref = 2000000\n",
    "elim = scan_row( sensors, beacons, row=vref )\n",
    "print(elim)\n",
    "\n",
    "count = borel_size( elim )\n",
    "# exclude spaces with beacons:\n",
    "count -= len(list(set( [x[0] for x in beacons if x[1]==vref] )))\n",
    "\n",
    "\n",
    "print(f'''No beacons in {count} spaces.''')"
   ]
  },
  {
   "attachments": {},
   "cell_type": "markdown",
   "metadata": {},
   "source": [
    "### Part 2\n",
    "This solution is not efficient because we handle each row independently, but it's a reasonable wait"
   ]
  },
  {
   "cell_type": "code",
   "execution_count": 112,
   "metadata": {},
   "outputs": [
    {
     "name": "stdout",
     "output_type": "stream",
     "text": [
      "0\n",
      "100000\n",
      "200000\n",
      "300000\n",
      "400000\n",
      "500000\n",
      "600000\n",
      "700000\n",
      "800000\n",
      "900000\n",
      "1000000\n",
      "1100000\n",
      "1200000\n",
      "1300000\n",
      "1400000\n",
      "1500000\n",
      "1600000\n",
      "1700000\n",
      "1800000\n",
      "1900000\n",
      "2000000\n",
      "2100000\n",
      "2200000\n",
      "2300000\n",
      "2400000\n",
      "2500000\n",
      "2600000\n",
      "2700000\n",
      "2800000\n",
      "2900000\n",
      "3000000\n",
      "3100000\n"
     ]
    }
   ],
   "source": [
    "minx = 0\n",
    "miny = 0\n",
    "maxx = 4000000\n",
    "maxy = 4000000\n",
    "\n",
    "pos = None\n",
    "for vref in range(miny, maxy+1):\n",
    "    if vref % 100000 == 0:\n",
    "        print(vref)\n",
    "    elim_set = scan_row( sensors, beacons, row=vref )\n",
    "    elim_set = reduce_borel_set( elim_set )\n",
    "\n",
    "    # check to left:\n",
    "    if elim_set[0][0] > minx:\n",
    "        pos = [0, vref]\n",
    "    # check to right:\n",
    "    elif elim_set[-1][1] < maxx:\n",
    "        pos = [maxx, vref]\n",
    "    # no holes to check, continue to next row\n",
    "    elif len(elim_set) == 1:\n",
    "        continue\n",
    "    # else check wholes in elim_set\n",
    "    else:\n",
    "        for i in range(len(elim_set)-1):\n",
    "            set1 = elim_set[i]\n",
    "            set2 = elim_set[i+1]\n",
    "\n",
    "            # there's a space to the right of first set\n",
    "            if set1[1] < maxx:\n",
    "                pos = [set1[1]+1, vref]\n",
    "            # there's a space to left of second set\n",
    "            elif set2[0] > minx: \n",
    "                pos = [set2[0]-1, vref]\n",
    "                break\n",
    "    if pos is not None:\n",
    "        break"
   ]
  },
  {
   "cell_type": "code",
   "execution_count": 113,
   "metadata": {},
   "outputs": [
    {
     "data": {
      "text/plain": [
       "[2655411, 3166538]"
      ]
     },
     "execution_count": 113,
     "metadata": {},
     "output_type": "execute_result"
    }
   ],
   "source": [
    "pos"
   ]
  },
  {
   "cell_type": "code",
   "execution_count": 115,
   "metadata": {},
   "outputs": [
    {
     "data": {
      "text/plain": [
       "10621647166538"
      ]
     },
     "execution_count": 115,
     "metadata": {},
     "output_type": "execute_result"
    }
   ],
   "source": [
    "pos[0]*4000000 + pos[1]"
   ]
  }
 ],
 "metadata": {
  "kernelspec": {
   "display_name": "Python 3",
   "language": "python",
   "name": "python3"
  },
  "language_info": {
   "codemirror_mode": {
    "name": "ipython",
    "version": 3
   },
   "file_extension": ".py",
   "mimetype": "text/x-python",
   "name": "python",
   "nbconvert_exporter": "python",
   "pygments_lexer": "ipython3",
   "version": "3.7.3"
  },
  "orig_nbformat": 4,
  "vscode": {
   "interpreter": {
    "hash": "3ad933181bd8a04b432d3370b9dc3b0662ad032c4dfaa4e4f1596c548f763858"
   }
  }
 },
 "nbformat": 4,
 "nbformat_minor": 2
}
