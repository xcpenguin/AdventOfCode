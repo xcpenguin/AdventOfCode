{
 "cells": [
  {
   "attachments": {},
   "cell_type": "markdown",
   "metadata": {},
   "source": [
    "# December 14, 2022\n",
    "https://adventofcode.com/2022/day/14"
   ]
  },
  {
   "cell_type": "code",
   "execution_count": 1,
   "metadata": {},
   "outputs": [],
   "source": [
    "fn = \"../data/2022/14.txt\"\n",
    "with open(fn, \"r\") as file:\n",
    "    lines = file.readlines()\n",
    "puz = [line.strip(\"\\n\") for line in lines]"
   ]
  },
  {
   "cell_type": "code",
   "execution_count": 2,
   "metadata": {},
   "outputs": [],
   "source": [
    "test = [\"498,4 -> 498,6 -> 496,6\", \"503,4 -> 502,4 -> 502,9 -> 494,9\"]"
   ]
  },
  {
   "cell_type": "code",
   "execution_count": 8,
   "metadata": {},
   "outputs": [],
   "source": [
    "import numpy as np\n",
    "\n",
    "class Regolith:  \n",
    "    def __init__( self, rock_array, floor = False ):\n",
    "        # floor = True is for Part 2\n",
    "        tmp = rock_array[0].split(\" -> \")[0].split(\",\")\n",
    "        self.minx = self.maxx = int(tmp[0])\n",
    "        self.miny = 0\n",
    "        self.maxy = int(tmp[1])\n",
    "        self.array = np.array( [[\".\"] * (self.maxy+1)] ).reshape([self.maxy+1,1])\n",
    "\n",
    "        for line in rock_array:\n",
    "           # print(line)\n",
    "            pairs = [ [int(n) for n in pair.split(\",\")] for pair in line.split(\" -> \") ]\n",
    "            for p0, p1 in zip( pairs[:-1], pairs[1:] ):\n",
    "                self.add_rock( p0, p1 )\n",
    "            \n",
    "        self.sand_count = 0\n",
    "        self.floor = floor\n",
    "\n",
    "    def add_rock( self, p0, p1 ):\n",
    "        # make sure there's room\n",
    "        x0 = min(p0[0], p1[0])\n",
    "        x1 = max(p0[0], p1[0])\n",
    "        y0 = min(p0[1], p1[1])\n",
    "        y1 = max(p0[1], p1[1])\n",
    "        self.expand( [x0,x1], [y0,y1] )\n",
    "       # print(\"\\n\", self.array)\n",
    "\n",
    "        x0 = self.getx(x0)\n",
    "        x1 = self.getx(x1)\n",
    "        y0 = self.gety(y0)\n",
    "        y1 = self.gety(y1)\n",
    "        self.array[y0:y1+1, x0:x1+1] = \"#\"\n",
    "       # print(\"\\n\", self.array)\n",
    "\n",
    "\n",
    "    # functions to convert absolute index to the array map\n",
    "    def getx( self, x ):\n",
    "        return x - self.minx\n",
    "    def gety( self, y ):\n",
    "        return y - self.miny\n",
    "\n",
    "    # add extra space as needed to array\n",
    "    def expand( self, xlim, ylim ):\n",
    "        if xlim[0] < self.minx:\n",
    "            dx = self.minx - xlim[0]\n",
    "            h = self.maxy - self.miny + 1\n",
    "            space = np.array( [\".\"]*dx*h ).reshape(h, dx )\n",
    "            self.array = np.concatenate( (space, self.array), axis=1 )\n",
    "            self.minx = xlim[0]\n",
    "        if xlim[1] > self.maxx:\n",
    "            dx = xlim[1] - self.maxx\n",
    "            h = self.maxy - self.miny + 1\n",
    "            space = np.array( [\".\"]*dx*h ).reshape(h, dx )\n",
    "            self.array = np.concatenate( (self.array, space), axis=1 )\n",
    "            self.maxx = xlim[1]\n",
    "        if ylim[0] < self.miny:\n",
    "            dy = self.miny - ylim[0]\n",
    "            w = self.maxx - self.minx + 1\n",
    "            space = np.array( [\".\"]*dy*w ).reshape(dy, w )\n",
    "            self.array = np.concatenate( (space, self.array), axis=0 )\n",
    "            self.miny = ylim[0]\n",
    "        if ylim[1] > self.maxy:\n",
    "            dy = ylim[1] - self.maxy\n",
    "            w = self.maxx - self.minx + 1\n",
    "            space = np.array( [\".\"]*dy*w ).reshape(dy, w )\n",
    "            self.array = np.concatenate( (self.array, space), axis=0 )\n",
    "            self.maxy = ylim[1]\n",
    "    \n",
    "    def drop_sand( self, x, y=0 ):\n",
    "        x = self.getx(x)\n",
    "        y = self.gety(y)\n",
    "        yinit = y\n",
    "        while y < self.array.shape[0] - 1:\n",
    "\n",
    "            if self.floor:\n",
    "                pad = 10\n",
    "                # add horizontal floor as needed\n",
    "                if x <= 0:\n",
    "                    self.expand( [self.minx-pad, self.maxx], [self.miny, self.maxy] )\n",
    "                    self.add_rock( [self.minx, self.maxy], [self.minx+10, self.maxy] )\n",
    "                    x += pad # true coord for x is now shifted to right due to padding\n",
    "                elif x >= self.array.shape[1]-2:\n",
    "                    self.expand( [self.maxx, self.maxx+pad], [self.miny, self.maxy] )\n",
    "                    self.add_rock( [self.maxx-pad, self.maxy], [self.maxx, self.maxy] )\n",
    "\n",
    "            if self.array[y+1, x] == \".\":\n",
    "                # fall down\n",
    "                y += 1\n",
    "            elif self.array[y+1, x-1] == \".\":\n",
    "                y += 1\n",
    "                x -= 1\n",
    "            elif self.array[y+1, x+1] == \".\":\n",
    "                y += 1\n",
    "                x += 1\n",
    "            elif y == yinit: # sand didn't fall at all!\n",
    "                self.array[y,x] = \"X\"\n",
    "                self.sand_count += 1\n",
    "                return False\n",
    "            else:\n",
    "                self.array[y, x] = \"o\"\n",
    "                self.sand_count += 1\n",
    "                return True\n",
    "            \n",
    "        return False\n",
    "\n",
    "    def __str__( self ):\n",
    "        viz = \"\"\n",
    "        for i in range(self.array.shape[0]):\n",
    "            viz += \"\\n\" + \"\".join( self.array[i] ) \n",
    "        return viz"
   ]
  },
  {
   "cell_type": "code",
   "execution_count": 9,
   "metadata": {},
   "outputs": [],
   "source": [
    "r = Regolith( test )"
   ]
  },
  {
   "cell_type": "code",
   "execution_count": 10,
   "metadata": {},
   "outputs": [
    {
     "name": "stdout",
     "output_type": "stream",
     "text": [
      "\n",
      "..........\n",
      "..........\n",
      "..........\n",
      "..........\n",
      "....#...##\n",
      "....#...#.\n",
      "..###...#.\n",
      "........#.\n",
      "........#.\n",
      "#########.\n"
     ]
    }
   ],
   "source": [
    "print(r)"
   ]
  },
  {
   "cell_type": "code",
   "execution_count": 11,
   "metadata": {},
   "outputs": [
    {
     "name": "stdout",
     "output_type": "stream",
     "text": [
      "24\n",
      "\n",
      "..........\n",
      "..........\n",
      "......o...\n",
      ".....ooo..\n",
      "....#ooo##\n",
      "...o#ooo#.\n",
      "..###ooo#.\n",
      "....oooo#.\n",
      ".o.ooooo#.\n",
      "#########.\n"
     ]
    }
   ],
   "source": [
    "while r.drop_sand(x=500):\n",
    "    pass\n",
    "print(r.sand_count)\n",
    "print(r)"
   ]
  },
  {
   "cell_type": "code",
   "execution_count": null,
   "metadata": {},
   "outputs": [],
   "source": [
    "r = Regolith(puz)\n",
    "print(r)"
   ]
  },
  {
   "cell_type": "code",
   "execution_count": null,
   "metadata": {},
   "outputs": [],
   "source": [
    "while r.drop_sand(x=500):\n",
    "    pass\n",
    "print(r.sand_count)\n",
    "print(r)"
   ]
  },
  {
   "cell_type": "markdown",
   "metadata": {},
   "source": [
    "### Part 2"
   ]
  },
  {
   "cell_type": "code",
   "execution_count": null,
   "metadata": {},
   "outputs": [],
   "source": [
    "r = Regolith(test, floor = True )\n",
    "r.add_rock( [r.minx, r.maxy+2], [r.maxx, r.maxy+2] )\n",
    "print(r)"
   ]
  },
  {
   "cell_type": "code",
   "execution_count": null,
   "metadata": {},
   "outputs": [],
   "source": [
    "while r.drop_sand(x=500):\n",
    "    pass\n",
    "print(r.sand_count)\n",
    "print(r)"
   ]
  },
  {
   "cell_type": "code",
   "execution_count": null,
   "metadata": {},
   "outputs": [],
   "source": [
    "r = Regolith(puz, floor = True )\n",
    "r.add_rock( [r.minx, r.maxy+2], [r.maxx, r.maxy+2] )\n",
    "print(r)"
   ]
  },
  {
   "cell_type": "code",
   "execution_count": null,
   "metadata": {},
   "outputs": [],
   "source": [
    "while r.drop_sand(x=500):\n",
    "    pass\n",
    "print(r.sand_count)\n",
    "print(r)"
   ]
  }
 ],
 "metadata": {
  "kernelspec": {
   "display_name": "Python 3",
   "language": "python",
   "name": "python3"
  },
  "language_info": {
   "codemirror_mode": {
    "name": "ipython",
    "version": 3
   },
   "file_extension": ".py",
   "mimetype": "text/x-python",
   "name": "python",
   "nbconvert_exporter": "python",
   "pygments_lexer": "ipython3",
   "version": "3.7.3"
  },
  "orig_nbformat": 4,
  "vscode": {
   "interpreter": {
    "hash": "3ad933181bd8a04b432d3370b9dc3b0662ad032c4dfaa4e4f1596c548f763858"
   }
  }
 },
 "nbformat": 4,
 "nbformat_minor": 2
}
