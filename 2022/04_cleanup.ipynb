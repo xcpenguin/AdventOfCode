{
 "cells": [
  {
   "attachments": {},
   "cell_type": "markdown",
   "metadata": {},
   "source": [
    "# December 04, 2022\n",
    "https://adventofcode.com/2022/day/4"
   ]
  },
  {
   "cell_type": "code",
   "execution_count": 1,
   "metadata": {},
   "outputs": [],
   "source": [
    "fn = \"data/04.txt\""
   ]
  },
  {
   "cell_type": "code",
   "execution_count": 20,
   "metadata": {},
   "outputs": [],
   "source": [
    "input = []\n",
    "\n",
    "with open(fn, \"r\") as f:\n",
    "    while True:\n",
    "        line = f.readline()#.strip()\n",
    "        if not line:\n",
    "            break\n",
    "        pair = [ [int(x) for x in y.split(\"-\")] for y in line.split(\",\") ]\n",
    "        input.append( pair )\n",
    "\n",
    "    \n",
    "\n",
    "    "
   ]
  },
  {
   "cell_type": "markdown",
   "metadata": {},
   "source": [
    "### Part 1"
   ]
  },
  {
   "cell_type": "code",
   "execution_count": 26,
   "metadata": {},
   "outputs": [],
   "source": [
    "pair = input[0]"
   ]
  },
  {
   "cell_type": "code",
   "execution_count": 31,
   "metadata": {},
   "outputs": [
    {
     "data": {
      "text/plain": [
       "[[[99, 99], [18, 99]],\n",
       " [[2, 86], [1, 86]],\n",
       " [[9, 21], [10, 22]],\n",
       " [[1, 24], [7, 23]],\n",
       " [[33, 37], [35, 38]],\n",
       " [[15, 57], [14, 56]],\n",
       " [[1, 88], [3, 89]],\n",
       " [[26, 56], [27, 57]],\n",
       " [[11, 94], [93, 98]],\n",
       " [[40, 92], [3, 91]]]"
      ]
     },
     "execution_count": 31,
     "metadata": {},
     "output_type": "execute_result"
    }
   ],
   "source": [
    "input[:10]"
   ]
  },
  {
   "cell_type": "code",
   "execution_count": 54,
   "metadata": {},
   "outputs": [],
   "source": [
    "def check_cleaning_crew( pair ):\n",
    "    if ((pair[0][0] < pair[1][0]) and (pair[0][1] < pair[1][1])) or \\\n",
    "        ((pair[1][0] < pair[0][0]) and (pair[1][1] < pair[0][1])):\n",
    "        #print(\"everyelf helping\")\n",
    "        return 0\n",
    "    else:\n",
    "        #print(\"someelf overdoing!\")\n",
    "        return 1\n"
   ]
  },
  {
   "cell_type": "code",
   "execution_count": 55,
   "metadata": {},
   "outputs": [
    {
     "name": "stdout",
     "output_type": "stream",
     "text": [
      "Answer: 424\n"
     ]
    }
   ],
   "source": [
    "count = 0\n",
    "for pair in input:\n",
    "    count = count + check_cleaning_crew(pair)\n",
    "print(\"Answer:\", count)"
   ]
  },
  {
   "cell_type": "markdown",
   "metadata": {},
   "source": [
    "### Part 2"
   ]
  },
  {
   "cell_type": "code",
   "execution_count": 56,
   "metadata": {},
   "outputs": [],
   "source": [
    "def do_overlap( pair ):\n",
    "    if ( pair[0][1] >= pair[1][0] and pair[1][1] >= pair[0][0] ):\n",
    "        return 1\n",
    "    else:\n",
    "        return 0\n"
   ]
  },
  {
   "cell_type": "code",
   "execution_count": 57,
   "metadata": {},
   "outputs": [
    {
     "name": "stdout",
     "output_type": "stream",
     "text": [
      "804\n"
     ]
    }
   ],
   "source": [
    "count = 0\n",
    "for pair in input:\n",
    "    count=count+do_overlap(pair)\n",
    "print(count)"
   ]
  }
 ],
 "metadata": {
  "kernelspec": {
   "display_name": "Python 3.10.4 64-bit",
   "language": "python",
   "name": "python3"
  },
  "language_info": {
   "codemirror_mode": {
    "name": "ipython",
    "version": 3
   },
   "file_extension": ".py",
   "mimetype": "text/x-python",
   "name": "python",
   "nbconvert_exporter": "python",
   "pygments_lexer": "ipython3",
   "version": "3.10.4"
  },
  "orig_nbformat": 4,
  "vscode": {
   "interpreter": {
    "hash": "3ad933181bd8a04b432d3370b9dc3b0662ad032c4dfaa4e4f1596c548f763858"
   }
  }
 },
 "nbformat": 4,
 "nbformat_minor": 2
}
