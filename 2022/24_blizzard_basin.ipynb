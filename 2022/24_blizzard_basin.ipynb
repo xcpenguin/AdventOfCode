{
 "cells": [
  {
   "cell_type": "markdown",
   "metadata": {},
   "source": [
    "# December 24, 2022\n",
    "https://adventofcode.com/2022/day/24"
   ]
  },
  {
   "cell_type": "code",
   "execution_count": 1,
   "metadata": {},
   "outputs": [],
   "source": [
    "from collections import defaultdict\n",
    "from queue import PriorityQueue"
   ]
  },
  {
   "cell_type": "code",
   "execution_count": 2,
   "metadata": {},
   "outputs": [],
   "source": [
    "mini_text = f'''#.#####\n",
    "#.....#\n",
    "#>....#\n",
    "#.....#\n",
    "#...v.#\n",
    "#.....#\n",
    "#####.#'''.split(\"\\n\")"
   ]
  },
  {
   "cell_type": "code",
   "execution_count": 3,
   "metadata": {},
   "outputs": [],
   "source": [
    "test_text = f'''#E######\n",
    "#>>.<^<#\n",
    "#.<..<<#\n",
    "#>v.><>#\n",
    "#<^v^^>#\n",
    "######.#'''.split(\"\\n\")"
   ]
  },
  {
   "cell_type": "code",
   "execution_count": 4,
   "metadata": {},
   "outputs": [],
   "source": [
    "fn = \"../data/2022/24.txt\"\n",
    "with open(fn, \"r\") as file:\n",
    "    puz_text = file.readlines()\n",
    "\n",
    "puz_text = [line.strip(\"\\n\") for line in puz_text]"
   ]
  },
  {
   "cell_type": "code",
   "execution_count": 36,
   "metadata": {},
   "outputs": [],
   "source": [
    "class BlizzardMap:\n",
    "    def __init__(self, text):\n",
    "        # exclude walls\n",
    "        self.width = len(text[0]) - 2\n",
    "        self.height = len(text) - 2\n",
    "\n",
    "        # get a list of blizzards and their pos/dir for each row and col\n",
    "        self.rbliz = defaultdict(list)\n",
    "        self.lbliz = defaultdict(list)\n",
    "        self.ubliz = defaultdict(list)\n",
    "        self.dbliz = defaultdict(list)\n",
    "\n",
    "        for y, line in enumerate(text[1:-1]):\n",
    "            for x, c in enumerate(line[1:-1]):\n",
    "                if c == \"<\":\n",
    "                    self.lbliz[y].append(x)\n",
    "                elif c == \">\":\n",
    "                    self.rbliz[y].append(x)\n",
    "                elif c == \"^\":\n",
    "                    self.ubliz[x].append(y)\n",
    "                elif c == \"v\":\n",
    "                    self.dbliz[x].append(y)\n",
    "\n",
    "    def check(self, x, y, t):\n",
    "        '''check if space x,y is safe at time t'''\n",
    "        # Assume entrance/exit tiles are safe from blizzards\n",
    "        if x == 0 and y == -1:\n",
    "            return True\n",
    "        if x == self.width-1 and y == self.height:\n",
    "            return True\n",
    "\n",
    "        # Boundary check\n",
    "        if x < 0 or x >= self.width or y < 0 or y >= self.height:\n",
    "            return False\n",
    "\n",
    "        # Left Blizzard?\n",
    "        check = (x+t) % self.width\n",
    "        if check in self.lbliz[y]:\n",
    "            return False\n",
    "\n",
    "        # Right Blizzard?\n",
    "        check = (x-t) % self.width\n",
    "        if check in self.rbliz[y]:\n",
    "            return False\n",
    "\n",
    "        # Up Blizzard?\n",
    "        check = (y+t) % self.height\n",
    "        if check in self.ubliz[x]:\n",
    "            return False\n",
    "\n",
    "        # Down Blizzard?\n",
    "        check = (y-t) % self.height\n",
    "        if check in self.dbliz[x]:\n",
    "            return False\n",
    "\n",
    "        return True\n",
    "\n",
    "    def get_moves(self, x, y, t):\n",
    "        '''get possible moves when at x,y at time t'''\n",
    "        moves = []\n",
    "        to_check = [ [x+1,y], [x,y+1], [x,y], [x-1,y], [x,y-1] ]\n",
    "        for xy in to_check:\n",
    "            if self.check(xy[0], xy[1], t+1):\n",
    "                moves.append(xy)\n",
    "        return moves\n",
    "\n",
    "    def heuristic(self, x, y, goalx, goaly):\n",
    "        '''best case is we walk to the exit with no backtracking'''\n",
    "        return abs(goalx - x) + abs(goaly - y)\n",
    "\n",
    "class Path:\n",
    "    def __init__(self, x, y, t):\n",
    "        self.x = x\n",
    "        self.y = y\n",
    "        self.time = t\n",
    "\n",
    "    def __eq__(self, other):\n",
    "        return self.x == other.x and self.y == other.y and self.time == other.time\n",
    "    def __ne__(self, other):\n",
    "        return not (self == other)\n",
    "    def __lt__(self, other):\n",
    "        if self.time == other.time:\n",
    "            if self.y == other.y:\n",
    "                return self.x < other.x\n",
    "            else:\n",
    "                return self.y < other.y\n",
    "        else:\n",
    "            return self.time < other.time\n",
    "\n",
    "    def __hash__(self):\n",
    "        return hash(str(self))\n",
    "\n",
    "    def __str__(self):\n",
    "        return f\"({self.x}, {self.y}, {self.time})\"\n",
    "    def __repr__(self):\n",
    "        return str(self)\n",
    "\n",
    "    \n"
   ]
  },
  {
   "cell_type": "code",
   "execution_count": 41,
   "metadata": {},
   "outputs": [],
   "source": [
    "def walk_in_winter_wonderland( text, start=\"start\", start_time=0 ):\n",
    "    map = BlizzardMap(text)\n",
    "\n",
    "    frontier = PriorityQueue()\n",
    "    # Assuming start is very left in top wall\n",
    "    # Assuming exit is very right in bottom wall\n",
    "    if start == \"start\":\n",
    "        frontier.put( (0, Path(0, -1, start_time)) )\n",
    "        goal = [map.width-1, map.height]\n",
    "    else:\n",
    "        frontier.put( (0, Path(map.width-1, map.height, start_time)) )\n",
    "        goal = [0, -1]\n",
    "    \n",
    "    # track which x,y,z triplets we've already looked at\n",
    "    seen = set()\n",
    "\n",
    "\n",
    "    while not frontier.empty():\n",
    "        # get next tile to check\n",
    "        cur = frontier.get()[1]\n",
    "\n",
    "        if [cur.x, cur.y] == goal:\n",
    "            break\n",
    "\n",
    "        for nbr in map.get_moves( cur.x, cur.y, cur.time ):\n",
    "            # see which moves are available to us and place them in queue\n",
    "            # Unlike typical A* we don't check to see if we know this tile... we may have to backtrack.\n",
    "            # We may queue the same triplet multiple times? We'll see if we need to improve that later\n",
    "            # Note -- turns out avoiding duplicates also avoided an infinite(?) loop\n",
    "            p = Path( nbr[0], nbr[1], cur.time+1 )\n",
    "            if p not in seen:\n",
    "                prio = map.heuristic( nbr[0], nbr[1], goal[0], goal[1] ) + p.time\n",
    "                frontier.put( (prio, p) )\n",
    "                seen.add( p )\n",
    "\n",
    "    if [cur.x, cur.y] == goal:\n",
    "        return cur.time\n",
    "    else:\n",
    "        return None"
   ]
  },
  {
   "cell_type": "markdown",
   "metadata": {},
   "source": [
    "### Part 1"
   ]
  },
  {
   "cell_type": "code",
   "execution_count": 42,
   "metadata": {},
   "outputs": [
    {
     "data": {
      "text/plain": [
       "10"
      ]
     },
     "execution_count": 42,
     "metadata": {},
     "output_type": "execute_result"
    }
   ],
   "source": [
    "walk_in_winter_wonderland(mini_text)"
   ]
  },
  {
   "cell_type": "code",
   "execution_count": 43,
   "metadata": {},
   "outputs": [
    {
     "data": {
      "text/plain": [
       "18"
      ]
     },
     "execution_count": 43,
     "metadata": {},
     "output_type": "execute_result"
    }
   ],
   "source": [
    "walk_in_winter_wonderland(test_text)"
   ]
  },
  {
   "cell_type": "code",
   "execution_count": 44,
   "metadata": {},
   "outputs": [
    {
     "data": {
      "text/plain": [
       "308"
      ]
     },
     "execution_count": 44,
     "metadata": {},
     "output_type": "execute_result"
    }
   ],
   "source": [
    "walk_in_winter_wonderland(puz_text)"
   ]
  },
  {
   "attachments": {},
   "cell_type": "markdown",
   "metadata": {},
   "source": [
    "### Part 2"
   ]
  },
  {
   "cell_type": "code",
   "execution_count": 47,
   "metadata": {},
   "outputs": [],
   "source": [
    "def there_and_back_again_and_there_again( text ):\n",
    "    # note return times are already cumulative\n",
    "    first = walk_in_winter_wonderland(text, start = \"start\")\n",
    "    then = walk_in_winter_wonderland(text, start = \"end\", start_time = first)\n",
    "    lastly = walk_in_winter_wonderland(text, start = \"start\", start_time = then)\n",
    "    \n",
    "    return lastly, [first, then-first, lastly-then]"
   ]
  },
  {
   "cell_type": "code",
   "execution_count": 48,
   "metadata": {},
   "outputs": [
    {
     "data": {
      "text/plain": [
       "(30, [10, 10, 10])"
      ]
     },
     "execution_count": 48,
     "metadata": {},
     "output_type": "execute_result"
    }
   ],
   "source": [
    "there_and_back_again_and_there_again( mini_text )"
   ]
  },
  {
   "cell_type": "code",
   "execution_count": 49,
   "metadata": {},
   "outputs": [
    {
     "data": {
      "text/plain": [
       "(54, [18, 23, 13])"
      ]
     },
     "execution_count": 49,
     "metadata": {},
     "output_type": "execute_result"
    }
   ],
   "source": [
    "there_and_back_again_and_there_again( test_text )"
   ]
  },
  {
   "cell_type": "code",
   "execution_count": 50,
   "metadata": {},
   "outputs": [
    {
     "data": {
      "text/plain": [
       "(908, [308, 290, 310])"
      ]
     },
     "execution_count": 50,
     "metadata": {},
     "output_type": "execute_result"
    }
   ],
   "source": [
    "there_and_back_again_and_there_again( puz_text )"
   ]
  }
 ],
 "metadata": {
  "kernelspec": {
   "display_name": "base",
   "language": "python",
   "name": "python3"
  },
  "language_info": {
   "codemirror_mode": {
    "name": "ipython",
    "version": 3
   },
   "file_extension": ".py",
   "mimetype": "text/x-python",
   "name": "python",
   "nbconvert_exporter": "python",
   "pygments_lexer": "ipython3",
   "version": "3.7.3"
  },
  "orig_nbformat": 4,
  "vscode": {
   "interpreter": {
    "hash": "ad2bdc8ecc057115af97d19610ffacc2b4e99fae6737bb82f5d7fb13d2f2c186"
   }
  }
 },
 "nbformat": 4,
 "nbformat_minor": 2
}
