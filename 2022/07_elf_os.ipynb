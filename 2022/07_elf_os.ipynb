{
 "cells": [
  {
   "attachments": {},
   "cell_type": "markdown",
   "metadata": {},
   "source": [
    "# December 07, 2022\n",
    "https://adventofcode.com/2022/day/7"
   ]
  },
  {
   "cell_type": "code",
   "execution_count": 1,
   "metadata": {},
   "outputs": [],
   "source": [
    "fn = \"../data/2022/07.txt\"\n",
    "puz = []\n",
    "with open(fn, \"r\") as f:\n",
    "    while True:\n",
    "        line = f.readline().strip(\"\\n\")\n",
    "        if not line:\n",
    "            break\n",
    "        puz.append( line )\n"
   ]
  },
  {
   "cell_type": "code",
   "execution_count": 106,
   "metadata": {},
   "outputs": [],
   "source": [
    "class Directory:\n",
    "    def __init__( self, name ):\n",
    "        self.name = name\n",
    "        self.children = {}\n",
    "        self.files = {}\n",
    "        self.size = None\n",
    "\n",
    "    def get_size( self ):\n",
    "        if self.size:\n",
    "            return self.size\n",
    "        else:\n",
    "            # size of files herein\n",
    "            self.size = sum( self.files.values() )\n",
    "            # plus size of subdirectories\n",
    "            self.size += sum( c.get_size() for c in self.children.values())\n",
    "            return self.size\n",
    "\n",
    "    def add_file( self, name, size ):\n",
    "        # add or overwrite filesize\n",
    "        self.files[name] = size\n",
    "\n",
    "    def add_child( self, child ):\n",
    "        # add or overwrite child directory\n",
    "        self.children[child.name] = child\n",
    "\n",
    "    def clear( self ):\n",
    "        # I should delete these instead of \n",
    "        self.files = []\n",
    "        self.children = []"
   ]
  },
  {
   "cell_type": "markdown",
   "metadata": {},
   "source": [
    "### scan file system"
   ]
  },
  {
   "cell_type": "code",
   "execution_count": 110,
   "metadata": {},
   "outputs": [],
   "source": [
    "root_dir = Directory(\"/\")\n",
    "file_sys = { \"/\": root_dir}\n",
    "\n",
    "for line in puz:\n",
    "    #print(line)\n",
    "    #print(loc)\n",
    "    \n",
    "    if line[0] == \"$\":\n",
    "        # command entered\n",
    "        args = line.split()\n",
    "\n",
    "        # change dir\n",
    "        if args[1] == \"cd\":\n",
    "            if args[2] == \"/\":\n",
    "                loc = \"/\"\n",
    "            elif args[2] == \"..\":\n",
    "                loc = \"/\".join( loc.split(\"/\")[:-2]) + \"/\"\n",
    "            else:\n",
    "                new_loc = loc + args[2] + \"/\"\n",
    "                # add new loc to file system if not there\n",
    "                # probably the input always will ls before cd but who knows?\n",
    "                if new_loc not in file_sys.keys():\n",
    "                    new_dir = Directory( new_loc )\n",
    "                    file_sys[loc].add_child( new_dir )\n",
    "                loc = new_loc\n",
    "                    \n",
    "        elif args[1] == \"ls\":\n",
    "            # list contents... handled by reading next several lines\n",
    "            continue\n",
    "\n",
    "    else:\n",
    "        # reading in ls output\n",
    "        out = line.split()\n",
    "        if out[0] == \"dir\":\n",
    "            new_loc = loc + out[1] + \"/\"\n",
    "            new_dir = Directory( new_loc )\n",
    "            file_sys[loc].add_child(new_dir)\n",
    "            file_sys[new_loc] = new_dir\n",
    "        else:\n",
    "            size = int(out[0])\n",
    "            new_file = out[1]\n",
    "            file_sys[loc].add_file(new_file, size)\n",
    "            "
   ]
  },
  {
   "cell_type": "markdown",
   "metadata": {},
   "source": [
    "### Part 1"
   ]
  },
  {
   "cell_type": "code",
   "execution_count": 111,
   "metadata": {},
   "outputs": [],
   "source": [
    "total_small_size = 0\n",
    "for name, d in file_sys.items():\n",
    "    s = d.get_size()\n",
    "    if s <= 100000:\n",
    "        total_small_size += s"
   ]
  },
  {
   "cell_type": "code",
   "execution_count": 112,
   "metadata": {},
   "outputs": [
    {
     "data": {
      "text/plain": [
       "1423358"
      ]
     },
     "execution_count": 112,
     "metadata": {},
     "output_type": "execute_result"
    }
   ],
   "source": [
    "total_small_size"
   ]
  },
  {
   "cell_type": "markdown",
   "metadata": {},
   "source": [
    "### Part 2"
   ]
  },
  {
   "cell_type": "code",
   "execution_count": 116,
   "metadata": {},
   "outputs": [
    {
     "name": "stdout",
     "output_type": "stream",
     "text": [
      "Currently used: 40532950\n",
      "Need to delete: 532950\n",
      "new best: / 40532950\n",
      "new best: /jmdf/ 1816052\n",
      "new best: /jmdf/rgrcs/ 1334780\n",
      "new best: /jmdf/rgrcs/drg/ 831785\n",
      "new best: /pdzrzbtf/nrnhgwgn/ 665625\n",
      "new best: /pdzrzbtf/pdzrzbtf/mrl/jstrsfww/ 578963\n",
      "new best: /pdzrzbtf/pdzrzbtf/mrl/nct/gtg/tfzqt/rwzjjnld/nfhwqc/ 549688\n",
      "new best: /pdzrzbtf/qlpvwf/wnmrcvqd/ 545729\n",
      "545729\n"
     ]
    }
   ],
   "source": [
    "space = 70000000\n",
    "need = 30000000\n",
    "used = file_sys[\"/\"].get_size()\n",
    "togo = need - (space - used)\n",
    "\n",
    "print(\"Currently used:\", used)\n",
    "print(\"Need to delete:\", togo)\n",
    "\n",
    "best = space+1\n",
    "for n,d in file_sys.items():\n",
    "    if d.get_size() >= togo and d.get_size() < best:\n",
    "        print(\"new best:\", n, d.get_size())\n",
    "        best = d.get_size()\n",
    "\n",
    "print(best)"
   ]
  },
  {
   "cell_type": "code",
   "execution_count": null,
   "metadata": {},
   "outputs": [],
   "source": []
  }
 ],
 "metadata": {
  "kernelspec": {
   "display_name": "Python 3",
   "language": "python",
   "name": "python3"
  },
  "language_info": {
   "codemirror_mode": {
    "name": "ipython",
    "version": 3
   },
   "file_extension": ".py",
   "mimetype": "text/x-python",
   "name": "python",
   "nbconvert_exporter": "python",
   "pygments_lexer": "ipython3",
   "version": "3.7.3"
  },
  "orig_nbformat": 4,
  "vscode": {
   "interpreter": {
    "hash": "3ad933181bd8a04b432d3370b9dc3b0662ad032c4dfaa4e4f1596c548f763858"
   }
  }
 },
 "nbformat": 4,
 "nbformat_minor": 2
}
