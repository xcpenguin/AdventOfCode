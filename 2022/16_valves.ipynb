{
 "cells": [
  {
   "attachments": {},
   "cell_type": "markdown",
   "metadata": {},
   "source": [
    "# December 16, 2022\n",
    "https://adventofcode.com/2022/day/16"
   ]
  },
  {
   "cell_type": "code",
   "execution_count": 39,
   "metadata": {},
   "outputs": [],
   "source": [
    "import re\n",
    "import numpy as np"
   ]
  },
  {
   "cell_type": "code",
   "execution_count": 45,
   "metadata": {},
   "outputs": [],
   "source": [
    "class Valve:\n",
    "    num_valves = 0\n",
    "\n",
    "    def __init__( self, name, flow, neighbors ):\n",
    "        self.name = name\n",
    "        self.flow = flow\n",
    "        self.status = \"on\" if self.flow == 0 else \"off\"\n",
    "        self.neighbors = {nbr:1 for nbr in neighbors}\n",
    "        self.id = Valve.num_valves\n",
    "        Valve.num_valves += 1\n",
    "\n",
    "    def is_on(self):\n",
    "        return True if self.status == \"on\" else False\n",
    "\n",
    "    def turn_on(self):\n",
    "        if self.is_on:\n",
    "            return 0\n",
    "        else:\n",
    "            self.status = \"on\"\n",
    "            return self.flow\n",
    "\n",
    "    def __str__(self):\n",
    "        return f'''Valve #{self.id} {self.name} is {self.status}. Flow = {self.flow}. Neighbors: {self.neighbors}'''\n",
    "\n",
    "    def __repr__(self):\n",
    "        return str(self)"
   ]
  },
  {
   "cell_type": "code",
   "execution_count": 46,
   "metadata": {},
   "outputs": [],
   "source": [
    "\n",
    "def parse_map( fn ):\n",
    "    valves = []\n",
    "\n",
    "    with open(fn, \"r\") as file:\n",
    "        while True:\n",
    "            line = file.readline().strip(\"\\n\")\n",
    "            if not line: break\n",
    "            ma = re.match(r'Valve (\\w+).*rate=(\\d+).*valves? ([\\w,\\s]*)', line)\n",
    "            name = ma.group(1)\n",
    "            flow = int(ma.group(2))\n",
    "            nbrs = ma.group(3).split(\", \")\n",
    "            valves.append( Valve(name, flow, nbrs) )\n",
    "\n",
    "    return valves\n"
   ]
  },
  {
   "cell_type": "code",
   "execution_count": 60,
   "metadata": {},
   "outputs": [],
   "source": [
    "test = parse_map(\"data/16_test.txt\")"
   ]
  },
  {
   "cell_type": "code",
   "execution_count": 48,
   "metadata": {},
   "outputs": [
    {
     "name": "stdout",
     "output_type": "stream",
     "text": [
      "Valve #0 AA is on. Flow = 0. Neighbors: {'DD': 1, 'II': 1, 'BB': 1}\n",
      "Valve #1 BB is off. Flow = 13. Neighbors: {'CC': 1, 'AA': 1}\n",
      "Valve #2 CC is off. Flow = 2. Neighbors: {'DD': 1, 'BB': 1}\n",
      "Valve #3 DD is off. Flow = 20. Neighbors: {'CC': 1, 'AA': 1, 'EE': 1}\n",
      "Valve #4 EE is off. Flow = 3. Neighbors: {'FF': 1, 'DD': 1}\n",
      "Valve #5 FF is on. Flow = 0. Neighbors: {'EE': 1, 'GG': 1}\n",
      "Valve #6 GG is on. Flow = 0. Neighbors: {'FF': 1, 'HH': 1}\n",
      "Valve #7 HH is off. Flow = 22. Neighbors: {'GG': 1}\n",
      "Valve #8 II is on. Flow = 0. Neighbors: {'AA': 1, 'JJ': 1}\n",
      "Valve #9 JJ is off. Flow = 21. Neighbors: {'II': 1}\n"
     ]
    }
   ],
   "source": [
    "print(\"\\n\".join([str(x) for x in test]))"
   ]
  },
  {
   "cell_type": "code",
   "execution_count": 53,
   "metadata": {},
   "outputs": [
    {
     "name": "stdout",
     "output_type": "stream",
     "text": [
      "1\n",
      "3\n",
      "4\n"
     ]
    }
   ],
   "source": [
    "x = set()\n",
    "x = x.union(set([1,3,4]))\n",
    "for i in x:\n",
    "    print(i)\n"
   ]
  },
  {
   "cell_type": "code",
   "execution_count": 64,
   "metadata": {},
   "outputs": [],
   "source": [
    "def create_graph( valves ):\n",
    "    N = len(valves)\n",
    "    name_map = {v.name:i for i,v in enumerate(valves)}\n",
    "    dist_array = np.array( [-1]*N*N ).reshape( [N,N])\n",
    "    for i in range(N):\n",
    "        dist_array[i,i] = 0\n",
    "\n",
    "    for cur_id, cur in enumerate(valves):\n",
    "        dist = 0\n",
    "        while True:\n",
    "            # list of valves not reached yet\n",
    "            tofind = [ i for i,d in enumerate( dist_array[cur_id,:] ) if d == -1 ]\n",
    "            \n",
    "            # end state is only the diagonals are 0\n",
    "            if len(tofind) == 0:\n",
    "                break\n",
    "            \n",
    "            # find most recent neighbors\n",
    "            cur_nbrs = [ i for i,d in enumerate( dist_array[cur_id,] ) if d == dist ]\n",
    "            if len(cur_nbrs) == 0:\n",
    "                # uhoh--- can't get there from here!\n",
    "                break\n",
    "\n",
    "            # find neighbors of neighbors that aren't already in the distance array\n",
    "            next_nbrs = set()\n",
    "            for d_nbr in cur_nbrs:\n",
    "                d_nbr_nbr = [ name_map[nbr] for nbr in valves[d_nbr].neighbors if name_map[nbr] in tofind ] \n",
    "                next_nbrs = next_nbrs.union( d_nbr_nbr )\n",
    "\n",
    "            # add the new neighbor to the distance arracy\n",
    "            dist += 1\n",
    "            for id in next_nbrs:\n",
    "                dist_array[cur_id, id] = dist\n",
    "                dist_array[id, cur_id] = dist\n",
    "\n",
    "            # end while loop for finding out cur_id distances\n",
    "    return dist_array\n",
    "\n",
    "\n",
    "\n",
    "\n",
    "\n",
    "\n",
    "\n",
    "\n",
    "\n",
    "\n"
   ]
  },
  {
   "cell_type": "code",
   "execution_count": 65,
   "metadata": {},
   "outputs": [
    {
     "data": {
      "text/plain": [
       "array([[0, 1, 2, 1, 2, 3, 4, 5, 1, 2],\n",
       "       [1, 0, 1, 2, 3, 4, 5, 6, 2, 3],\n",
       "       [2, 1, 0, 1, 2, 3, 4, 5, 3, 4],\n",
       "       [1, 2, 1, 0, 1, 2, 3, 4, 2, 3],\n",
       "       [2, 3, 2, 1, 0, 1, 2, 3, 3, 4],\n",
       "       [3, 4, 3, 2, 1, 0, 1, 2, 4, 5],\n",
       "       [4, 5, 4, 3, 2, 1, 0, 1, 5, 6],\n",
       "       [5, 6, 5, 4, 3, 2, 1, 0, 6, 7],\n",
       "       [1, 2, 3, 2, 3, 4, 5, 6, 0, 1],\n",
       "       [2, 3, 4, 3, 4, 5, 6, 7, 1, 0]])"
      ]
     },
     "execution_count": 65,
     "metadata": {},
     "output_type": "execute_result"
    }
   ],
   "source": [
    "create_graph(test)"
   ]
  },
  {
   "cell_type": "code",
   "execution_count": 61,
   "metadata": {},
   "outputs": [
    {
     "name": "stdout",
     "output_type": "stream",
     "text": [
      "Valve #10 AA is on. Flow = 0. Neighbors: {'DD': 1, 'II': 1, 'BB': 1}\n",
      "Valve #11 BB is off. Flow = 13. Neighbors: {'CC': 1, 'AA': 1}\n",
      "Valve #12 CC is off. Flow = 2. Neighbors: {'DD': 1, 'BB': 1}\n",
      "Valve #13 DD is off. Flow = 20. Neighbors: {'CC': 1, 'AA': 1, 'EE': 1}\n",
      "Valve #14 EE is off. Flow = 3. Neighbors: {'FF': 1, 'DD': 1}\n",
      "Valve #15 FF is on. Flow = 0. Neighbors: {'EE': 1, 'GG': 1}\n",
      "Valve #16 GG is on. Flow = 0. Neighbors: {'FF': 1, 'HH': 1}\n",
      "Valve #17 HH is off. Flow = 22. Neighbors: {'GG': 1}\n",
      "Valve #18 II is on. Flow = 0. Neighbors: {'AA': 1, 'JJ': 1}\n",
      "Valve #19 JJ is off. Flow = 21. Neighbors: {'II': 1}\n"
     ]
    }
   ],
   "source": [
    "for v in test:\n",
    "    print(v)"
   ]
  }
 ],
 "metadata": {
  "kernelspec": {
   "display_name": "base",
   "language": "python",
   "name": "python3"
  },
  "language_info": {
   "codemirror_mode": {
    "name": "ipython",
    "version": 3
   },
   "file_extension": ".py",
   "mimetype": "text/x-python",
   "name": "python",
   "nbconvert_exporter": "python",
   "pygments_lexer": "ipython3",
   "version": "3.7.3"
  },
  "orig_nbformat": 4,
  "vscode": {
   "interpreter": {
    "hash": "ad2bdc8ecc057115af97d19610ffacc2b4e99fae6737bb82f5d7fb13d2f2c186"
   }
  }
 },
 "nbformat": 4,
 "nbformat_minor": 2
}
