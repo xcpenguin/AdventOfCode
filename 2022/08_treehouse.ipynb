{
 "cells": [
  {
   "attachments": {},
   "cell_type": "markdown",
   "metadata": {},
   "source": [
    "# December 08, 2022\n",
    "https://adventofcode.com/2022/day/8"
   ]
  },
  {
   "cell_type": "code",
   "execution_count": 77,
   "metadata": {},
   "outputs": [],
   "source": [
    "fn = \"data/08.txt\"\n",
    "\n",
    "with open(fn, \"r\") as f:\n",
    "    tree_map = f.readlines()\n",
    "\n",
    "tree_grid = [ [int(x) for x in row.strip(\"\\n\")] for row in tree_map ]"
   ]
  },
  {
   "cell_type": "markdown",
   "metadata": {},
   "source": [
    "### Part 1"
   ]
  },
  {
   "cell_type": "code",
   "execution_count": 59,
   "metadata": {},
   "outputs": [],
   "source": [
    "def check_LR( tree_grid, dir ):\n",
    "    # Assume rectangular forest\n",
    "    R = len(tree_grid)\n",
    "    C = len(tree_grid[0])\n",
    "\n",
    "    if dir == \"right\":\n",
    "        step = -1\n",
    "    else:\n",
    "        step = 1\n",
    "\n",
    "    visible = set()\n",
    "    for r in range(R):\n",
    "        max_height = -1\n",
    "        for c in range(C)[::step]:\n",
    "            if tree_grid[r][c] > max_height:\n",
    "                # tree is visible from the left\n",
    "                visible.add( (r,c) )\n",
    "                max_height = tree_grid[r][c]\n",
    "    \n",
    "    return(visible)\n",
    "\n",
    "def check_UD( tree_grid, dir ):\n",
    "     # Assume rectangular forest\n",
    "    R = len(tree_grid)\n",
    "    C = len(tree_grid[0])\n",
    "\n",
    "    if dir == \"down\":\n",
    "        step = -1\n",
    "    else:\n",
    "        step = 1\n",
    "\n",
    "    visible = set()\n",
    "    for c in range(C):\n",
    "        max_height = -1\n",
    "        for r in range(R)[::step]:\n",
    "            if tree_grid[r][c] > max_height:\n",
    "                # tree is visible from the left\n",
    "                visible.add( (r,c) )\n",
    "                max_height = tree_grid[r][c]\n",
    "    \n",
    "    return(visible)\n",
    "\n"
   ]
  },
  {
   "cell_type": "code",
   "execution_count": 42,
   "metadata": {},
   "outputs": [],
   "source": [
    "test_string = \"\"\"30373\n",
    "25512\n",
    "65332\n",
    "33549\n",
    "35390\"\"\""
   ]
  },
  {
   "cell_type": "code",
   "execution_count": 43,
   "metadata": {},
   "outputs": [
    {
     "data": {
      "text/plain": [
       "[[3, 0, 3, 7, 3],\n",
       " [2, 5, 5, 1, 2],\n",
       " [6, 5, 3, 3, 2],\n",
       " [3, 3, 5, 4, 9],\n",
       " [3, 5, 3, 9, 0]]"
      ]
     },
     "execution_count": 43,
     "metadata": {},
     "output_type": "execute_result"
    }
   ],
   "source": [
    "test = [ [int(x) for x in row] for row in test_string.split(\"\\n\") ]\n",
    "test"
   ]
  },
  {
   "cell_type": "code",
   "execution_count": 65,
   "metadata": {},
   "outputs": [
    {
     "name": "stdout",
     "output_type": "stream",
     "text": [
      "{(0, 1), (2, 4), (4, 0), (1, 2), (3, 4), (0, 4), (4, 3), (2, 1), (0, 2), (1, 0), (3, 2), (4, 1), (4, 4), (0, 0), (1, 1), (0, 3), (2, 0), (1, 4), (3, 0), (2, 3), (4, 2)}\n",
      "21\n"
     ]
    }
   ],
   "source": [
    "left_vis = check_LR(test, \"left\")\n",
    "right_vis = check_LR(test, \"right\")\n",
    "up_vis = check_UD(test, \"up\")\n",
    "down_vis = check_UD(test, \"down\")\n",
    "\n",
    "vis = left_vis.union(right_vis).union(up_vis).union(down_vis)\n",
    "print(vis)\n",
    "print(len(list(vis)))"
   ]
  },
  {
   "cell_type": "code",
   "execution_count": 67,
   "metadata": {},
   "outputs": [
    {
     "name": "stdout",
     "output_type": "stream",
     "text": [
      "1713\n"
     ]
    }
   ],
   "source": [
    "left_vis = check_LR(tree_grid, \"left\")\n",
    "right_vis = check_LR(tree_grid, \"right\")\n",
    "up_vis = check_UD(tree_grid, \"up\")\n",
    "down_vis = check_UD(tree_grid, \"down\")\n",
    "\n",
    "vis = left_vis.union(right_vis).union(up_vis).union(down_vis)\n",
    "#print(vis)\n",
    "print(len(list(vis)))"
   ]
  },
  {
   "attachments": {},
   "cell_type": "markdown",
   "metadata": {},
   "source": [
    "### Part 2\n",
    "\n",
    "Seems strategy for Part 1 not readily extensible to Part 2 XD"
   ]
  },
  {
   "cell_type": "code",
   "execution_count": 78,
   "metadata": {},
   "outputs": [
    {
     "name": "stdout",
     "output_type": "stream",
     "text": [
      "New Best: 4\n",
      "New Best: 30\n",
      "New Best: 126\n",
      "New Best: 152\n",
      "New Best: 364\n",
      "New Best: 576\n",
      "New Best: 594\n",
      "New Best: 2400\n",
      "New Best: 3315\n",
      "New Best: 3740\n",
      "New Best: 9184\n",
      "New Best: 18720\n",
      "New Best: 115056\n",
      "New Best: 268464\n"
     ]
    }
   ],
   "source": [
    "best_score = 0\n",
    "R = len(tree_grid)\n",
    "C = len(tree_grid[0])\n",
    "\n",
    "for r in range(R):\n",
    "    # skip edge trees\n",
    "    if r in [0,R-1]:\n",
    "        continue\n",
    "\n",
    "    for c in range(C):\n",
    "        # and these edge trees\n",
    "        if c in [0,C-1]:\n",
    "            continue\n",
    "        \n",
    "        dist = [0,0,0,0]\n",
    "        # look up\n",
    "        for x in range(c-1,-1,-1):\n",
    "            dist[0] += 1\n",
    "            if( tree_grid[r][x] >= tree_grid[r][c] ):\n",
    "                break\n",
    "        # look down\n",
    "        for x in range(c+1,C, 1):\n",
    "            dist[1] += 1\n",
    "            if( tree_grid[r][x] >= tree_grid[r][c] ):\n",
    "                break\n",
    "        # look left\n",
    "        for x in range(r-1,-1,-1):\n",
    "            dist[2] += 1\n",
    "            if( tree_grid[x][c] >= tree_grid[r][c] ):\n",
    "                break\n",
    "        # look down\n",
    "        for x in range(r+1,R,1):\n",
    "            dist[3] += 1\n",
    "            if( tree_grid[x][c] >= tree_grid[r][c] ):\n",
    "                break\n",
    "\n",
    "        view_score = dist[0] * dist[1] * dist[2] * dist[3]\n",
    "        if view_score >= best_score:\n",
    "            print(\"New Best:\", view_score)\n",
    "            best_score = view_score\n",
    "\n",
    "\n",
    "\n"
   ]
  }
 ],
 "metadata": {
  "kernelspec": {
   "display_name": "Python 3",
   "language": "python",
   "name": "python3"
  },
  "language_info": {
   "codemirror_mode": {
    "name": "ipython",
    "version": 3
   },
   "file_extension": ".py",
   "mimetype": "text/x-python",
   "name": "python",
   "nbconvert_exporter": "python",
   "pygments_lexer": "ipython3",
   "version": "3.10.4"
  },
  "orig_nbformat": 4,
  "vscode": {
   "interpreter": {
    "hash": "3ad933181bd8a04b432d3370b9dc3b0662ad032c4dfaa4e4f1596c548f763858"
   }
  }
 },
 "nbformat": 4,
 "nbformat_minor": 2
}
