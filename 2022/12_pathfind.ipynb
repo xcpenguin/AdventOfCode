{
 "cells": [
  {
   "cell_type": "markdown",
   "metadata": {},
   "source": [
    "# December 12, 2022\n",
    "https://adventofcode.com/2022/day/12"
   ]
  },
  {
   "attachments": {},
   "cell_type": "markdown",
   "metadata": {},
   "source": [
    "Wrong answers  \n",
    "453"
   ]
  },
  {
   "cell_type": "code",
   "execution_count": 1,
   "metadata": {},
   "outputs": [],
   "source": [
    "from queue import PriorityQueue"
   ]
  },
  {
   "cell_type": "code",
   "execution_count": 2,
   "metadata": {},
   "outputs": [
    {
     "data": {
      "text/plain": [
       "['Sabqponm\\n', 'abcryxxl\\n', 'accszExk\\n', 'acctuvwj\\n', 'abdefghi\\n']"
      ]
     },
     "execution_count": 2,
     "metadata": {},
     "output_type": "execute_result"
    }
   ],
   "source": [
    "test = [\"Sabqponm\\n\"\n",
    ", \"abcryxxl\\n\"\n",
    ", \"accszExk\\n\"\n",
    ", \"acctuvwj\\n\"\n",
    ", \"abdefghi\\n\"]\n",
    "\n",
    "test"
   ]
  },
  {
   "cell_type": "code",
   "execution_count": 3,
   "metadata": {},
   "outputs": [],
   "source": [
    "fn = \"data/12.txt\"\n",
    "with open(fn, \"r\") as file:\n",
    "    puz = file.readlines()"
   ]
  },
  {
   "cell_type": "code",
   "execution_count": 4,
   "metadata": {},
   "outputs": [],
   "source": [
    "class Map:\n",
    "    def __init__( self, text ):\n",
    "        self.map = [ [c for c in line.strip(\"\\n\")] for line in text ]\n",
    "        self.h = len(self.map)\n",
    "        self.w = len(self.map[0])\n",
    "        self.start = None\n",
    "        self.goal = None\n",
    "\n",
    "        # Look for start and end\n",
    "        # Might consider updating heights for these places\n",
    "        for y in range(self.h):\n",
    "            for x in range(self.w):\n",
    "                if self.map[y][x] == \"S\":\n",
    "                    self.start = self.get_id( [y,x] )\n",
    "                    if self.goal is not None:\n",
    "                        break\n",
    "                elif self.map[y][x] == \"E\":\n",
    "                    self.goal = self.get_id( [y,x] )\n",
    "                    if self.goal is not None:\n",
    "                        break\n",
    "            if self.goal is not None and self.start is not None:\n",
    "                break\n",
    "\n",
    "    def height(self, yx):\n",
    "        '''height at yx coord pair'''\n",
    "        if self.map[yx[0]][yx[1]] == \"S\":\n",
    "            ht = \"a\"\n",
    "        elif self.map[yx[0]][yx[1]] == \"E\":\n",
    "            ht = \"z\"\n",
    "        else:\n",
    "            ht = self.map[yx[0]][yx[1]]\n",
    "\n",
    "        return ord(ht) - 97 # ord(\"a\")\n",
    "\n",
    "\n",
    "    @classmethod\n",
    "    def get_coords( cls, id ):\n",
    "        '''get coords given an id'''\n",
    "        return [ int(coord) for coord in id.split(\".\") ]\n",
    "    @classmethod\n",
    "    def get_id( cls, yx ):\n",
    "        '''get id from coords'''\n",
    "        return \".\".join( [str(coord) for coord in yx] )\n",
    "\n",
    "\n",
    "    @classmethod\n",
    "    def est_distance( cls, id0, id1 ):\n",
    "        # estimated distance from (y0,x0) to (y1,x1)\n",
    "        # this ignores path restrictions\n",
    "        yx0 = cls.get_coords(id0)\n",
    "        yx1 = cls.get_coords(id1)\n",
    "        return abs(yx1[0] - yx0[0]) + abs(yx1[1] - yx0[0])\n",
    "\n",
    "    def edge_weight( self, id0, id1 ):\n",
    "        '''edge weight from id0 to id1'''\n",
    "        # this is directional!\n",
    "        yx0 = self.get_coords(id0)\n",
    "        yx1 = self.get_coords(id1)\n",
    "        \n",
    "        if self.height(yx0) >= self.height(yx1) - 1:\n",
    "            return 1\n",
    "        else:\n",
    "            return None\n",
    "        \n",
    "\n",
    "    def get_neighbors( self, id ):\n",
    "        '''get neighbors given the id'''\n",
    "        # get neighbors, checking for edge conditions\n",
    "        yx = self.get_coords(id)\n",
    "        nbrs = []\n",
    "        if yx[0] > 0:\n",
    "            maybe = self.get_id( [yx[0]-1, yx[1]] )\n",
    "            if self.edge_weight(id, maybe) is not None:\n",
    "                nbrs.append(maybe)\n",
    "        if yx[1] > 0:\n",
    "            maybe = self.get_id( [yx[0], yx[1]-1 ] )\n",
    "            if self.edge_weight(id, maybe) is not None:\n",
    "                nbrs.append(maybe)\n",
    "        if yx[0] < self.h - 1:\n",
    "            maybe = self.get_id( [yx[0]+1, yx[1]] )\n",
    "            if self.edge_weight(id, maybe) is not None:\n",
    "                nbrs.append( maybe )\n",
    "        if yx[1] < self.w - 1:\n",
    "            maybe = self.get_id( [yx[0], yx[1]+1] )\n",
    "            if self.edge_weight(id, maybe) is not None:\n",
    "                nbrs.append( maybe )\n",
    "        return nbrs\n",
    "\n",
    "        \n",
    "\n",
    "    \n",
    "\n",
    "                    "
   ]
  },
  {
   "cell_type": "code",
   "execution_count": 5,
   "metadata": {},
   "outputs": [],
   "source": [
    "m = Map(test)"
   ]
  },
  {
   "cell_type": "code",
   "execution_count": 55,
   "metadata": {},
   "outputs": [],
   "source": [
    "def astar( map, start, goal ):\n",
    "    frontier = PriorityQueue() # est distance, object, distance from start\n",
    "    startId = map.start\n",
    "    goal = map.goal\n",
    "\n",
    "    frontier.put( startId, 0 ) # typically priority is est dist to goal, but not for start\n",
    "    dist_so_far = { startId: 0 } # distance from start to key\n",
    "    parents = { startId: None } # preceding tile to key on the path\n",
    "\n",
    "    explored = list() # object, parent, distance, path\n",
    "\n",
    "    while not frontier.empty():\n",
    "        cur = frontier.get()\n",
    "        dist_to_cur = dist_so_far[cur]\n",
    "\n",
    "        if cur == goal:\n",
    "            break\n",
    "        \n",
    "        for nbr in map.get_neighbors( cur ):\n",
    "            edge_weight = map.edge_weight( cur, nbr )\n",
    "            path_dist = dist_so_far[cur] + edge_weight\n",
    "\n",
    "            if nbr not in dist_so_far or path_dist < dist_so_far[nbr]:\n",
    "            # Either node is new or we found a shortcut\n",
    "                frontier.put( nbr, path_dist + map.est_distance(nbr, goal) )\n",
    "                dist_so_far[nbr] = path_dist\n",
    "                parents[nbr] = cur\n",
    "\n",
    "    return dist_so_far[goal], parents\n",
    "\n",
    "def construct_path( goal, parents ):\n",
    "    final_path = [ goal ]\n",
    "    while parents[ final_path[0] ] is not None:\n",
    "        final_path.insert( 0, parents[final_path[0]] )\n",
    "    return final_path"
   ]
  },
  {
   "cell_type": "code",
   "execution_count": 18,
   "metadata": {},
   "outputs": [
    {
     "name": "stdout",
     "output_type": "stream",
     "text": [
      "31\n"
     ]
    }
   ],
   "source": [
    "dist, path = astar(m, m.start, m.goal)\n",
    "print(dist)"
   ]
  },
  {
   "cell_type": "code",
   "execution_count": 54,
   "metadata": {},
   "outputs": [
    {
     "data": {
      "text/plain": [
       "'20.136'"
      ]
     },
     "execution_count": 54,
     "metadata": {},
     "output_type": "execute_result"
    }
   ],
   "source": [
    "path[puz_map.goal]"
   ]
  },
  {
   "cell_type": "code",
   "execution_count": 52,
   "metadata": {},
   "outputs": [
    {
     "data": {
      "text/plain": [
       "('20.136', '20.135')"
      ]
     },
     "execution_count": 52,
     "metadata": {},
     "output_type": "execute_result"
    }
   ],
   "source": [
    "final_path[-1], puz_map.goal"
   ]
  },
  {
   "cell_type": "code",
   "execution_count": 56,
   "metadata": {},
   "outputs": [
    {
     "name": "stdout",
     "output_type": "stream",
     "text": [
      "453 454\n"
     ]
    }
   ],
   "source": [
    "puz_map = Map(puz)\n",
    "dist, path = astar(puz_map, puz_map.start, puz_map.goal)\n",
    "final_path = construct_path(puz_map.goal, path)\n",
    "print(dist, len(final_path))"
   ]
  },
  {
   "cell_type": "code",
   "execution_count": null,
   "metadata": {},
   "outputs": [],
   "source": [
    "# first guess 453"
   ]
  },
  {
   "cell_type": "code",
   "execution_count": 57,
   "metadata": {},
   "outputs": [
    {
     "name": "stdout",
     "output_type": "stream",
     "text": [
      "...............................................................................................................................................................\n",
      "...............................................................................................................................................................\n",
      "...............................................................................................................................................................\n",
      "...............................................................................................................................................................\n",
      "...............................................................................................................................................................\n",
      "...............................................................................................................................................................\n",
      "...............................................................................................................................................................\n",
      "...............................................................................................................................................................\n",
      "...............................................................................................................................................................\n",
      ".................................................................................................................................>>>>>>>>>>>>>>>v..............\n",
      "...............................................................................................................................>>^..............>>>>v..........\n",
      "...............................................................................................................................^..>>>>>>>>>>>>>>>v..v..........\n",
      "..............................................................................................................................>^.>^..............>v.v..........\n",
      "..............................................................................................................................^..^................v.v..........\n",
      ".......................>>>>>>>>>>>>>>>>>v.....................................................................................^..^.>>>>>>>>>>>>v..v.>v.........\n",
      "..................>>>>>^................>>>>>>>>>>>>>>>>v.....................................................................^..^.^...........v..v..v.........\n",
      "..................^.....................................v....................................................................>^..^.^...........v..v..v.........\n",
      "................>>^.....................................v....................................................................^..>^.^...........v..v..v.........\n",
      "...>>>>>>>>>>>>>^.......................................>>>>>>>>>>>>>>>>>>>>>>>>v...........................................>^..^..^...........v..v..v.........\n",
      ">>>^............................................................................v...........................................^..>^.>^..>>>>v....v..v..v.........\n",
      "^...............................................................................v...........................................^..^..^..>^E<<<....v..v..v.........\n",
      "................................................................................v...........................................^..^..^..^.........v..v..v.........\n",
      "................................................................................v...........................................^..^..^..^.........v..v..v.........\n",
      "................................................................................v...........................................^..^..^..^<<......v<..v..v.........\n",
      "................................................................................>v..........................................^..^..^<<..^<..v<<<...v..v.........\n",
      ".................................................................................>>v........................................^..^<...^<<.^.v<....v<<..v.........\n",
      "...................................................................................>>>>>>>>>>>>>>>>>>>>>>>>>>>>>v...........^<..^<<...^.^<<.v<<<<...v<.........\n",
      "................................................................................................................v............^<...^<<.^<....v....v<<<..........\n",
      "................................................................................................................v.............^<<...^<.^<..v<.v<<<.............\n",
      "................................................................................................................v...............^<<..^..^<<<..v................\n",
      "................................................................................................................v.................^<.^<......v<................\n",
      "................................................................................................................>>>>>v.............^<.^<....v<.v<<<<<..........\n",
      ".....................................................................................................................>>>>>>>>>>>>v..^..^<<<<<.v<...>^..........\n",
      ".................................................................................................................................>v.^<........v..>>^...........\n",
      "..................................................................................................................................>v.^<.....v<<.>^.............\n",
      "...................................................................................................................................v..^<<<<<<...^..............\n",
      "...................................................................................................................................>v...........^..............\n",
      "....................................................................................................................................>v.........>^..............\n",
      ".....................................................................................................................................v...>>>>>>^...............\n",
      ".....................................................................................................................................v...^.....................\n",
      ".....................................................................................................................................>>>>^.....................\n"
     ]
    }
   ],
   "source": [
    "def print_path( path,h,w, goal ):\n",
    "    char_dict = { goal: \"E\" }\n",
    "    cur = path[0]\n",
    "    y0,x0 = [int(c) for c in path[0].split(\".\")]\n",
    "    for step in path[1:]:\n",
    "\n",
    "        y1,x1 = [int(c) for c in step.split(\".\")]\n",
    "        if y1-y0 == 1:\n",
    "            char = \"v\"\n",
    "        elif y0-y1 == 1:\n",
    "            char = \"^\"\n",
    "        elif x1-x0 == 1:\n",
    "            char = \">\"\n",
    "        elif x0-x1 == 1:\n",
    "            char = \"<\"\n",
    "        else:\n",
    "            print(cur, step, x0, y0, x1, y1)\n",
    "            raise Exception(\"No Direction\")\n",
    "\n",
    "        char_dict[cur] = char\n",
    "        cur = step\n",
    "        x0=x1\n",
    "        y0=y1\n",
    "\n",
    "\n",
    "    for y in range(h):\n",
    "        for x in range(w):\n",
    "            id = f\"{y}.{x}\"\n",
    "            if id in char_dict:\n",
    "                char = char_dict[id]\n",
    "            else:\n",
    "                char = \".\"\n",
    "            print(char, end=\"\")\n",
    "        print(\"\\n\", end=\"\")\n",
    "        \n",
    "\n",
    "        #print(char)\n",
    "\n",
    "print_path(final_path, puz_map.h, puz_map.w, puz_map.goal)\n"
   ]
  },
  {
   "cell_type": "code",
   "execution_count": null,
   "metadata": {},
   "outputs": [],
   "source": []
  }
 ],
 "metadata": {
  "kernelspec": {
   "display_name": "Python 3",
   "language": "python",
   "name": "python3"
  },
  "language_info": {
   "codemirror_mode": {
    "name": "ipython",
    "version": 3
   },
   "file_extension": ".py",
   "mimetype": "text/x-python",
   "name": "python",
   "nbconvert_exporter": "python",
   "pygments_lexer": "ipython3",
   "version": "3.10.4"
  },
  "orig_nbformat": 4,
  "vscode": {
   "interpreter": {
    "hash": "3ad933181bd8a04b432d3370b9dc3b0662ad032c4dfaa4e4f1596c548f763858"
   }
  }
 },
 "nbformat": 4,
 "nbformat_minor": 2
}
