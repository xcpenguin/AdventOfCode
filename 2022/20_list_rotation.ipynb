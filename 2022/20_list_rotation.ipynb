{
 "cells": [
  {
   "cell_type": "markdown",
   "metadata": {},
   "source": [
    "# December 20, 2022\n",
    "https://adventofcode.com/2022/day/20"
   ]
  },
  {
   "cell_type": "code",
   "execution_count": null,
   "metadata": {},
   "outputs": [],
   "source": [
    "# too low: 1888"
   ]
  },
  {
   "cell_type": "code",
   "execution_count": 1,
   "metadata": {},
   "outputs": [],
   "source": [
    "test = [1, 2, -3, 3, -2, 0, 4]"
   ]
  },
  {
   "cell_type": "code",
   "execution_count": 1,
   "metadata": {},
   "outputs": [],
   "source": [
    "fn = \"../data/2022/20.txt\"\n",
    "with open(fn, \"r\") as file:\n",
    "    text = file.readlines()\n",
    "\n",
    "puz = [int(x) for x in text]\n",
    "\n"
   ]
  },
  {
   "cell_type": "code",
   "execution_count": 8,
   "metadata": {},
   "outputs": [
    {
     "data": {
      "text/plain": [
       "(5000, 3605)"
      ]
     },
     "execution_count": 8,
     "metadata": {},
     "output_type": "execute_result"
    }
   ],
   "source": [
    "# Ha! The numbers aren't unique! Tricky!\n",
    "len(puz), len(list(set(puz)))"
   ]
  },
  {
   "cell_type": "code",
   "execution_count": 56,
   "metadata": {},
   "outputs": [],
   "source": [
    "def decrypt( arr, reps=1 ):\n",
    "    ops = []\n",
    "    N = len(arr)\n",
    "    # This might be a dumb way, but let's try tracking how the index changes over time\n",
    "    index = [i for i in range(N)]  # indexed by initial position, value is current position during/after encryption\n",
    "    zero_start = None # remember where 0 is.\n",
    "\n",
    "    for rep in range(reps):\n",
    "        for i in range(N):\n",
    "            curpos = index[i]\n",
    "            newpos = (curpos + arr[i]) % (N-1)\n",
    "            if arr[i] == 0:\n",
    "                zero_start = i\n",
    "            ops.append( [curpos, newpos] )\n",
    "\n",
    "            # opos is position in original array\n",
    "            # cpos is current position so far during encryption\n",
    "            for opos, cpos in enumerate(index):\n",
    "                # case: this is the currently moving value\n",
    "                if opos == i:\n",
    "                    index[opos] = newpos\n",
    "                # case the currently moving value pushed this value left\n",
    "                elif curpos < cpos <= newpos:\n",
    "                    index[opos] -= 1\n",
    "                # case: the currently moving value pushed this value right\n",
    "                elif newpos <= cpos < curpos:\n",
    "                    index[opos] += 1\n",
    "\n",
    "        out = [0]*N\n",
    "        for opos, cpos in enumerate(index):\n",
    "            out[cpos] = arr[opos]\n",
    "    \n",
    "    # solution:\n",
    "    zero_end = index[zero_start]\n",
    "    return out[(zero_end + 1000) % N] + out[(zero_end + 2000) % N] + out[(zero_end + 3000) % N]\n",
    "\n",
    "    return out, ops, index, zero_start\n"
   ]
  },
  {
   "cell_type": "code",
   "execution_count": 45,
   "metadata": {},
   "outputs": [
    {
     "data": {
      "text/plain": [
       "3"
      ]
     },
     "execution_count": 45,
     "metadata": {},
     "output_type": "execute_result"
    }
   ],
   "source": [
    "decrypt(test)"
   ]
  },
  {
   "cell_type": "code",
   "execution_count": 51,
   "metadata": {},
   "outputs": [
    {
     "data": {
      "text/plain": [
       "17490"
      ]
     },
     "execution_count": 51,
     "metadata": {},
     "output_type": "execute_result"
    }
   ],
   "source": [
    "decrypt(puz)"
   ]
  },
  {
   "cell_type": "markdown",
   "metadata": {},
   "source": [
    "### Part 2"
   ]
  },
  {
   "cell_type": "code",
   "execution_count": 57,
   "metadata": {},
   "outputs": [
    {
     "data": {
      "text/plain": [
       "1623178306"
      ]
     },
     "execution_count": 57,
     "metadata": {},
     "output_type": "execute_result"
    }
   ],
   "source": [
    "key = 811589153\n",
    "test2 = [x * key for x in test]\n",
    "decrypt( test2, reps = 10)"
   ]
  },
  {
   "cell_type": "code",
   "execution_count": 58,
   "metadata": {},
   "outputs": [
    {
     "data": {
      "text/plain": [
       "1632917375836"
      ]
     },
     "execution_count": 58,
     "metadata": {},
     "output_type": "execute_result"
    }
   ],
   "source": [
    "key = 811589153\n",
    "puz2 = [x * key for x in puz]\n",
    "decrypt( puz2, reps = 10)"
   ]
  }
 ],
 "metadata": {
  "kernelspec": {
   "display_name": "base",
   "language": "python",
   "name": "python3"
  },
  "language_info": {
   "codemirror_mode": {
    "name": "ipython",
    "version": 3
   },
   "file_extension": ".py",
   "mimetype": "text/x-python",
   "name": "python",
   "nbconvert_exporter": "python",
   "pygments_lexer": "ipython3",
   "version": "3.7.3"
  },
  "orig_nbformat": 4,
  "vscode": {
   "interpreter": {
    "hash": "ad2bdc8ecc057115af97d19610ffacc2b4e99fae6737bb82f5d7fb13d2f2c186"
   }
  }
 },
 "nbformat": 4,
 "nbformat_minor": 2
}
