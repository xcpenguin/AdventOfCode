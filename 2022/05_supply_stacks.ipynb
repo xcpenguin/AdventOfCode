{
 "cells": [
  {
   "attachments": {},
   "cell_type": "markdown",
   "metadata": {},
   "source": [
    "# December 05, 2022\n",
    "https://adventofcode.com/2022/day/5"
   ]
  },
  {
   "cell_type": "code",
   "execution_count": 103,
   "metadata": {},
   "outputs": [],
   "source": [
    "import re"
   ]
  },
  {
   "cell_type": "code",
   "execution_count": 131,
   "metadata": {},
   "outputs": [],
   "source": [
    "class crate_stack:\n",
    "    def __init__( self, crates ):\n",
    "        self.crates = crates\n",
    "\n",
    "    def rm( self, n ):\n",
    "        if n > len(self.crates):\n",
    "            raise Exception( f\"too few crates to rm {n}\" )\n",
    "        lop = self.crates[ -n: ]\n",
    "        self.crates = self.crates[: -n ]\n",
    "        return lop\n",
    "\n",
    "    def add( self, crates ):\n",
    "        self.crates += crates[::-1]\n",
    "\n",
    "    def add_all_at_once( self, crates ):\n",
    "        self.crates += crates\n",
    "\n",
    "    def top( self ):\n",
    "        return self.crates[-1]\n",
    "\n",
    "    def len( self ):\n",
    "        return len(self.crates)\n",
    "\n",
    "    def __str__( self ):\n",
    "        return str(self.crates)\n",
    "\n",
    "    def __repr__( self ):\n",
    "        return str(self)"
   ]
  },
  {
   "cell_type": "code",
   "execution_count": 1,
   "metadata": {},
   "outputs": [],
   "source": [
    "fn = \"../data/2022/05.txt\"\n",
    "\n",
    "stack_input = []\n",
    "n_stacks = None\n",
    "move_input = []\n",
    "\n",
    "with open(fn, \"r\") as file:\n",
    "    # read until we get to crate labels\n",
    "    while True:\n",
    "        line = file.readline()\n",
    "        if \"[\" not in line:\n",
    "            break\n",
    "        stack_input.append( line.strip(\"\\n\") )\n",
    "\n",
    "    n_stacks = max( [int(x) for x in line.split()] )\n",
    "    \n",
    "    # skip following whitespace\n",
    "    while True:\n",
    "        line = file.readline()\n",
    "        if line.strip() != \"\":\n",
    "            break\n",
    "\n",
    "    # read instructions\n",
    "    while line:\n",
    "        move_input.append( line.strip(\"\\n\") )\n",
    "        line = file.readline()"
   ]
  },
  {
   "cell_type": "code",
   "execution_count": 134,
   "metadata": {},
   "outputs": [],
   "source": [
    "# create crate stacks\n",
    "stacks = []\n",
    "\n",
    "for row in stack_input[::-1]:\n",
    "    for i in range(n_stacks):\n",
    "        crate = row[i*4+1]\n",
    "        # if there's a crate add it to a stack\n",
    "        if crate != \" \":\n",
    "            if len(stacks) <= i:\n",
    "                stacks.append( crate_stack([crate]) )\n",
    "            else:\n",
    "                stacks[i].add([crate])\n"
   ]
  },
  {
   "cell_type": "markdown",
   "metadata": {},
   "source": [
    "### Part 1 algo"
   ]
  },
  {
   "cell_type": "code",
   "execution_count": 128,
   "metadata": {},
   "outputs": [],
   "source": [
    "for line in move_input:\n",
    "    #print(line)\n",
    "    match = re.fullmatch( \"move (\\d+) from (\\d+) to (\\d+)\", line )\n",
    "    n = int(match.group(1))\n",
    "    fr = int(match.group(2))\n",
    "    to = int(match.group(3))\n",
    "    taken = stacks[fr-1].rm(n)\n",
    "    stacks[to-1].add(taken)\n"
   ]
  },
  {
   "cell_type": "code",
   "execution_count": 130,
   "metadata": {},
   "outputs": [
    {
     "name": "stdout",
     "output_type": "stream",
     "text": [
      "VRWBSFZWM\n"
     ]
    }
   ],
   "source": [
    "print( ''.join([x.top() for x in stacks]) )"
   ]
  },
  {
   "attachments": {},
   "cell_type": "markdown",
   "metadata": {},
   "source": [
    "### Part 2 algo"
   ]
  },
  {
   "cell_type": "code",
   "execution_count": 137,
   "metadata": {},
   "outputs": [],
   "source": [
    "for line in move_input:\n",
    "    #print(line)\n",
    "    match = re.fullmatch( \"move (\\d+) from (\\d+) to (\\d+)\", line )\n",
    "    n = int(match.group(1))\n",
    "    fr = int(match.group(2))\n",
    "    to = int(match.group(3))\n",
    "    taken = stacks[fr-1].rm(n)\n",
    "    stacks[to-1].add_all_at_once(taken)"
   ]
  },
  {
   "cell_type": "code",
   "execution_count": 138,
   "metadata": {},
   "outputs": [
    {
     "name": "stdout",
     "output_type": "stream",
     "text": [
      "RBTWJWMCF\n"
     ]
    }
   ],
   "source": [
    "print( ''.join([x.top() for x in stacks]) )"
   ]
  },
  {
   "cell_type": "code",
   "execution_count": null,
   "metadata": {},
   "outputs": [],
   "source": []
  }
 ],
 "metadata": {
  "kernelspec": {
   "display_name": "Python 3.10.4 64-bit",
   "language": "python",
   "name": "python3"
  },
  "language_info": {
   "codemirror_mode": {
    "name": "ipython",
    "version": 3
   },
   "file_extension": ".py",
   "mimetype": "text/x-python",
   "name": "python",
   "nbconvert_exporter": "python",
   "pygments_lexer": "ipython3",
   "version": "3.7.3"
  },
  "orig_nbformat": 4,
  "vscode": {
   "interpreter": {
    "hash": "3ad933181bd8a04b432d3370b9dc3b0662ad032c4dfaa4e4f1596c548f763858"
   }
  }
 },
 "nbformat": 4,
 "nbformat_minor": 2
}
