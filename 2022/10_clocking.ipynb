{
 "cells": [
  {
   "attachments": {},
   "cell_type": "markdown",
   "metadata": {},
   "source": [
    "# December 10, 2022\n",
    "https://adventofcode.com/2022/day/10"
   ]
  },
  {
   "cell_type": "code",
   "execution_count": 1,
   "metadata": {},
   "outputs": [],
   "source": [
    "fn = \"data/10.txt\"\n",
    "\n",
    "with open(fn, \"r\") as file:\n",
    "    puz = file.readlines()\n",
    "\n",
    "puz = [x.strip(\"\\n\") for x in puz]"
   ]
  },
  {
   "cell_type": "code",
   "execution_count": 4,
   "metadata": {},
   "outputs": [],
   "source": [
    "fn = \"data/10_test.txt\"\n",
    "\n",
    "with open(fn, \"r\") as file:\n",
    "    test = file.readlines()\n",
    "\n",
    "test = [x.strip(\"\\n\") for x in test]"
   ]
  },
  {
   "cell_type": "markdown",
   "metadata": {},
   "source": [
    "### Part 1"
   ]
  },
  {
   "cell_type": "code",
   "execution_count": 17,
   "metadata": {},
   "outputs": [],
   "source": [
    "def signal_strength( data ):\n",
    "    x = 1\n",
    "    clock = 0\n",
    "    mark = 20\n",
    "    strength = 0\n",
    "\n",
    "    for line in data:\n",
    "        if line == \"noop\":\n",
    "            operand = 0\n",
    "            clock += 1\n",
    "        else: ### addx\n",
    "            operand = int( line.split(\" \")[1] )\n",
    "            clock += 2\n",
    "\n",
    "        # operation went beyond mark, so use current value before adding\n",
    "        # Note: problem is ambiguous, but apparently you use the old value when clock == mark\n",
    "        #  even though the value is updated at the end of the tick\n",
    "        if clock >= mark:\n",
    "            print(mark, clock, x)\n",
    "            strength += mark * x\n",
    "            mark += 40\n",
    "\n",
    "        # add to x (operand = 0 if noop-ing)\n",
    "        x += operand\n",
    "\n",
    "    return strength"
   ]
  },
  {
   "cell_type": "code",
   "execution_count": 18,
   "metadata": {},
   "outputs": [
    {
     "name": "stdout",
     "output_type": "stream",
     "text": [
      "20 21 21\n",
      "60 61 19\n",
      "100 100 18\n",
      "140 141 21\n",
      "180 181 16\n",
      "220 220 18\n"
     ]
    },
    {
     "data": {
      "text/plain": [
       "13140"
      ]
     },
     "execution_count": 18,
     "metadata": {},
     "output_type": "execute_result"
    }
   ],
   "source": [
    "signal_strength(test)"
   ]
  },
  {
   "cell_type": "code",
   "execution_count": 19,
   "metadata": {},
   "outputs": [
    {
     "name": "stdout",
     "output_type": "stream",
     "text": [
      "20 20 21\n",
      "60 60 21\n",
      "100 100 21\n",
      "140 141 21\n",
      "180 180 14\n",
      "220 220 17\n"
     ]
    },
    {
     "data": {
      "text/plain": [
       "12980"
      ]
     },
     "execution_count": 19,
     "metadata": {},
     "output_type": "execute_result"
    }
   ],
   "source": [
    "signal_strength(puz)"
   ]
  },
  {
   "attachments": {},
   "cell_type": "markdown",
   "metadata": {},
   "source": [
    "### Part 2"
   ]
  },
  {
   "cell_type": "code",
   "execution_count": 28,
   "metadata": {},
   "outputs": [],
   "source": [
    "def CRT( data ):\n",
    "    screen = \"\"\n",
    "    crt = 0\n",
    "    x = 1\n",
    "    clock = 0\n",
    "\n",
    "    for line in data:\n",
    "        # during first tick of command\n",
    "        if abs(x - crt) <= 1:\n",
    "            screen += \"#\"\n",
    "        else:\n",
    "            screen += \".\"\n",
    "        \n",
    "        # one tick elapsed\n",
    "        clock += 1\n",
    "\n",
    "        # advance crt pixel\n",
    "        crt += 1\n",
    "        if crt == 40:\n",
    "            crt = 0\n",
    "        \n",
    "\n",
    "        if line == \"noop\": # command ends, start next\n",
    "            continue\n",
    "        \n",
    "        # second tick of command\n",
    "        if abs(x - crt) <= 1:\n",
    "            screen += \"#\"\n",
    "        else:\n",
    "            screen += \".\"\n",
    "\n",
    "        # one tick elapsed\n",
    "        clock += 1\n",
    "\n",
    "        # advance crt pixel\n",
    "        crt += 1\n",
    "        if crt == 40:\n",
    "            crt = 0\n",
    "\n",
    "        # update x register\n",
    "        x += int(line.split()[1])\n",
    "\n",
    "    # END CRT DRAW\n",
    "\n",
    "    for i in range(6):\n",
    "        print( screen[(i*40):(i+1)*40] )"
   ]
  },
  {
   "cell_type": "code",
   "execution_count": 29,
   "metadata": {},
   "outputs": [
    {
     "name": "stdout",
     "output_type": "stream",
     "text": [
      "##..##..##..##..##..##..##..##..##..##..\n",
      "###...###...###...###...###...###...###.\n",
      "####....####....####....####....####....\n",
      "#####.....#####.....#####.....#####.....\n",
      "######......######......######......####\n",
      "#######.......#######.......#######.....\n"
     ]
    }
   ],
   "source": [
    "CRT(test)"
   ]
  },
  {
   "cell_type": "code",
   "execution_count": 30,
   "metadata": {},
   "outputs": [
    {
     "name": "stdout",
     "output_type": "stream",
     "text": [
      "###..###....##.#....####.#..#.#....###..\n",
      "#..#.#..#....#.#....#....#..#.#....#..#.\n",
      "###..#..#....#.#....###..#..#.#....#..#.\n",
      "#..#.###.....#.#....#....#..#.#....###..\n",
      "#..#.#.#..#..#.#....#....#..#.#....#....\n",
      "###..#..#..##..####.#.....##..####.#....\n"
     ]
    }
   ],
   "source": [
    "CRT(puz)"
   ]
  },
  {
   "cell_type": "code",
   "execution_count": null,
   "metadata": {},
   "outputs": [],
   "source": []
  }
 ],
 "metadata": {
  "kernelspec": {
   "display_name": "Python 3",
   "language": "python",
   "name": "python3"
  },
  "language_info": {
   "codemirror_mode": {
    "name": "ipython",
    "version": 3
   },
   "file_extension": ".py",
   "mimetype": "text/x-python",
   "name": "python",
   "nbconvert_exporter": "python",
   "pygments_lexer": "ipython3",
   "version": "3.10.4"
  },
  "orig_nbformat": 4,
  "vscode": {
   "interpreter": {
    "hash": "3ad933181bd8a04b432d3370b9dc3b0662ad032c4dfaa4e4f1596c548f763858"
   }
  }
 },
 "nbformat": 4,
 "nbformat_minor": 2
}
