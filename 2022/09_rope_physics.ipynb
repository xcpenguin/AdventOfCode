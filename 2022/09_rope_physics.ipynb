{
 "cells": [
  {
   "attachments": {},
   "cell_type": "markdown",
   "metadata": {},
   "source": [
    "# December 09, 2022\n",
    "https://adventofcode.com/2022/day/9"
   ]
  },
  {
   "cell_type": "code",
   "execution_count": 1,
   "metadata": {},
   "outputs": [],
   "source": [
    "fn = \"../data/2022/09.txt\"\n",
    "with open(fn, \"r\") as f:\n",
    "    puz = f.readlines()\n",
    "\n",
    "puz = [line.strip() for line in puz]"
   ]
  },
  {
   "cell_type": "code",
   "execution_count": 19,
   "metadata": {},
   "outputs": [],
   "source": [
    "test = \"\"\"R 4\n",
    "U 4\n",
    "L 3\n",
    "D 1\n",
    "R 4\n",
    "D 1\n",
    "L 5\n",
    "R 2\"\"\"\n",
    "test = test.split(\"\\n\")"
   ]
  },
  {
   "cell_type": "code",
   "execution_count": 15,
   "metadata": {},
   "outputs": [],
   "source": [
    "def sign(x):\n",
    "    return int(x / abs(x))"
   ]
  },
  {
   "cell_type": "code",
   "execution_count": 64,
   "metadata": {},
   "outputs": [],
   "source": [
    "def map_tail_history( moves, knots=2 ):\n",
    "    knotx = [0] * knots\n",
    "    knoty = [0] * knots\n",
    "    \n",
    "    # can't hash list so each key (x) is a set of y-pairs\n",
    "    # the end of the rope is the last knotx & knoty\n",
    "    tail_history = { knotx[-1]: set([knoty[-1]])}\n",
    "\n",
    "    for line in moves:\n",
    "        direction = line[0]\n",
    "        steps = int(line.split()[1])\n",
    "\n",
    "        for s in range(steps):\n",
    "            # move head\n",
    "            if direction == \"L\":\n",
    "                knotx[0] -= 1\n",
    "            elif direction == \"R\":\n",
    "                knotx[0] += 1\n",
    "            elif direction == \"U\":\n",
    "                knoty[0] += 1\n",
    "            elif direction == \"D\":\n",
    "                knoty[0] -= 1\n",
    "\n",
    "            # Move knots:\n",
    "            for i in range(1, len(knotx)):\n",
    "\n",
    "                # distance to next knot\n",
    "                dx = knotx[i-1] - knotx[i]\n",
    "                dy = knoty[i-1] - knoty[i]\n",
    "\n",
    "                # already touching - no move\n",
    "                if abs(dx) <= 1 and abs(dy) <= 1:\n",
    "                    continue\n",
    "\n",
    "                if dx == 0:\n",
    "                    knoty[i] += sign(dy)\n",
    "                elif dy == 0:\n",
    "                    knotx[i] += sign(dx)\n",
    "                else:\n",
    "                    knoty[i] += sign(dy)\n",
    "                    knotx[i] += sign(dx)\n",
    "\n",
    "            # add position to history\n",
    "            if knotx[-1] in tail_history.keys():\n",
    "                tail_history[knotx[-1]].add(knoty[-1])\n",
    "            else:\n",
    "                tail_history[knotx[-1]] = set([knoty[-1]])\n",
    "\n",
    "    return tail_history\n",
    "\n",
    "def count_tail_positions( tail_history ):\n",
    "    return sum( [len(list(ty)) for ty in tail_history.values() ] )\n",
    "        \n",
    "\n",
    "    "
   ]
  },
  {
   "cell_type": "code",
   "execution_count": 65,
   "metadata": {},
   "outputs": [
    {
     "name": "stdout",
     "output_type": "stream",
     "text": [
      "{0: {0}, 1: {0, 2}, 2: {0, 2, 4}, 3: {0, 2, 3, 4}, 4: {1, 2, 3}}\n"
     ]
    },
    {
     "data": {
      "text/plain": [
       "13"
      ]
     },
     "execution_count": 65,
     "metadata": {},
     "output_type": "execute_result"
    }
   ],
   "source": [
    "mh = map_tail_history(test)\n",
    "print(mh)\n",
    "count_tail_positions(mh)"
   ]
  },
  {
   "cell_type": "code",
   "execution_count": 66,
   "metadata": {},
   "outputs": [
    {
     "data": {
      "text/plain": [
       "5960"
      ]
     },
     "execution_count": 66,
     "metadata": {},
     "output_type": "execute_result"
    }
   ],
   "source": [
    "mh = map_tail_history(puz)\n",
    "count_tail_positions(mh)\n"
   ]
  },
  {
   "cell_type": "code",
   "execution_count": 69,
   "metadata": {},
   "outputs": [
    {
     "data": {
      "text/plain": [
       "2327"
      ]
     },
     "execution_count": 69,
     "metadata": {},
     "output_type": "execute_result"
    }
   ],
   "source": [
    "mh = map_tail_history(puz, 10)\n",
    "count_tail_positions(mh)\n"
   ]
  }
 ],
 "metadata": {
  "kernelspec": {
   "display_name": "Python 3",
   "language": "python",
   "name": "python3"
  },
  "language_info": {
   "codemirror_mode": {
    "name": "ipython",
    "version": 3
   },
   "file_extension": ".py",
   "mimetype": "text/x-python",
   "name": "python",
   "nbconvert_exporter": "python",
   "pygments_lexer": "ipython3",
   "version": "3.7.3"
  },
  "orig_nbformat": 4,
  "vscode": {
   "interpreter": {
    "hash": "3ad933181bd8a04b432d3370b9dc3b0662ad032c4dfaa4e4f1596c548f763858"
   }
  }
 },
 "nbformat": 4,
 "nbformat_minor": 2
}
