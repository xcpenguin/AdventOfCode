{
 "cells": [
  {
   "attachments": {},
   "cell_type": "markdown",
   "metadata": {},
   "source": [
    "# December 09, 2022\n",
    "https://adventofcode.com/2022/day/9"
   ]
  },
  {
   "cell_type": "code",
   "execution_count": 38,
   "metadata": {},
   "outputs": [],
   "source": [
    "fn = \"data/09.txt\"\n",
    "with open(fn, \"r\") as f:\n",
    "    puz = f.readlines()\n",
    "\n",
    "puz = [line.strip() for line in puz]"
   ]
  },
  {
   "cell_type": "code",
   "execution_count": 19,
   "metadata": {},
   "outputs": [],
   "source": [
    "test = \"\"\"R 4\n",
    "U 4\n",
    "L 3\n",
    "D 1\n",
    "R 4\n",
    "D 1\n",
    "L 5\n",
    "R 2\"\"\"\n",
    "test = test.split(\"\\n\")"
   ]
  },
  {
   "cell_type": "code",
   "execution_count": 15,
   "metadata": {},
   "outputs": [],
   "source": [
    "def sign(x):\n",
    "    return int(x / abs(x))"
   ]
  },
  {
   "cell_type": "code",
   "execution_count": 35,
   "metadata": {},
   "outputs": [],
   "source": [
    "def map_tail_history( moves ):\n",
    "    hx = hy = tx = ty = 0\n",
    "\n",
    "    # can't hash list so each key (x) is a set of y-pairs\n",
    "    tail_history = {tx: set([ty])}\n",
    "\n",
    "    for line in moves:\n",
    "        direction = line[0]\n",
    "        steps = int(line.split()[1])\n",
    "\n",
    "        for s in range(steps):\n",
    "            # move head\n",
    "            if direction == \"L\":\n",
    "                hx -= 1\n",
    "            elif direction == \"R\":\n",
    "                hx += 1\n",
    "            elif direction == \"U\":\n",
    "                hy += 1\n",
    "            elif direction == \"D\":\n",
    "                hy -= 1\n",
    "\n",
    "            # move tail\n",
    "            dx = hx - tx\n",
    "            dy = hy - ty\n",
    "\n",
    "            # already touching - no move\n",
    "            if abs(dx) <= 1 and abs(dy) <= 1:\n",
    "                continue # don't need to check if position is new\n",
    "\n",
    "            if dx == 0:\n",
    "                ty += sign(dy)\n",
    "            elif dy == 0:\n",
    "                tx += sign(dx)\n",
    "            else:\n",
    "                tx += sign(dx)\n",
    "                ty += sign(dy)\n",
    "\n",
    "            # add position to history\n",
    "            if tx in tail_history.keys():\n",
    "                tail_history[tx].add(ty)\n",
    "            else:\n",
    "                tail_history[tx] = set([ty])\n",
    "\n",
    "    return tail_history\n",
    "\n",
    "def count_tail_positions( tail_history ):\n",
    "    return sum( [len(list(ty)) for ty in tail_history.values() ] )\n",
    "        \n",
    "\n",
    "    "
   ]
  },
  {
   "cell_type": "code",
   "execution_count": 37,
   "metadata": {},
   "outputs": [
    {
     "name": "stdout",
     "output_type": "stream",
     "text": [
      "{0: {0}, 1: {0, 2}, 2: {0, 2, 4}, 3: {0, 2, 3, 4}, 4: {1, 2, 3}}\n"
     ]
    },
    {
     "data": {
      "text/plain": [
       "13"
      ]
     },
     "execution_count": 37,
     "metadata": {},
     "output_type": "execute_result"
    }
   ],
   "source": [
    "mh = map_tail_history(test)\n",
    "print(mh)\n",
    "count_tail_positions(mh)"
   ]
  },
  {
   "cell_type": "code",
   "execution_count": 40,
   "metadata": {},
   "outputs": [
    {
     "data": {
      "text/plain": [
       "5960"
      ]
     },
     "execution_count": 40,
     "metadata": {},
     "output_type": "execute_result"
    }
   ],
   "source": [
    "mh = map_tail_history(puz)\n",
    "count_tail_positions(mh)\n"
   ]
  },
  {
   "cell_type": "markdown",
   "metadata": {},
   "source": [
    "hx = hy = tx = ty = 0\n",
    "\n",
    "# can't hash list so each key (x) is a set of y-pairs\n",
    "tail_history = {tx: set([ty])}\n",
    "\n",
    "for line in test:\n",
    "    direction = line[0]\n",
    "    steps = int(line.split()[1])\n",
    "\n",
    "    for s in range(steps):\n",
    "        # move head\n",
    "        if direction == \"L\":\n",
    "            hx -= 1\n",
    "        elif direction == \"R\":\n",
    "            hx += 1\n",
    "        elif direction == \"U\":\n",
    "            hy += 1\n",
    "        elif direction == \"D\":\n",
    "            hy -= 1\n",
    "\n",
    "        # move tail\n",
    "        dx = hx - tx\n",
    "        dy = hy - ty\n",
    "\n",
    "        # already touching - no move\n",
    "        if abs(dx) <= 1 and abs(dy) <= 1:\n",
    "            continue # don't need to check if position is new\n",
    "\n",
    "        if dx == 0:\n",
    "            ty += sign(dy)\n",
    "        elif dy == 0:\n",
    "            tx += sign(dy)\n",
    "        else:\n",
    "            tx += sign(dx)\n",
    "            ty += sign(dy)\n",
    "\n",
    "        # add position to history\n",
    "        if tx in tail_history.keys():\n",
    "            tail_history[tx].add(ty)\n",
    "        else:\n",
    "            tail_history[tx] = set([ty])\n",
    "        \n",
    "        \n"
   ]
  },
  {
   "cell_type": "code",
   "execution_count": 14,
   "metadata": {},
   "outputs": [
    {
     "ename": "NameError",
     "evalue": "name 'sign' is not defined",
     "output_type": "error",
     "traceback": [
      "\u001b[0;31m---------------------------------------------------------------------------\u001b[0m",
      "\u001b[0;31mNameError\u001b[0m                                 Traceback (most recent call last)",
      "Cell \u001b[0;32mIn[14], line 1\u001b[0m\n\u001b[0;32m----> 1\u001b[0m sign(\u001b[39m-\u001b[39m\u001b[39m13\u001b[39m)\n",
      "\u001b[0;31mNameError\u001b[0m: name 'sign' is not defined"
     ]
    }
   ],
   "source": []
  },
  {
   "cell_type": "code",
   "execution_count": 13,
   "metadata": {},
   "outputs": [
    {
     "data": {
      "text/plain": [
       "{0: {0}}"
      ]
     },
     "execution_count": 13,
     "metadata": {},
     "output_type": "execute_result"
    }
   ],
   "source": [
    "tail_history"
   ]
  },
  {
   "cell_type": "code",
   "execution_count": null,
   "metadata": {},
   "outputs": [],
   "source": []
  }
 ],
 "metadata": {
  "kernelspec": {
   "display_name": "Python 3",
   "language": "python",
   "name": "python3"
  },
  "language_info": {
   "codemirror_mode": {
    "name": "ipython",
    "version": 3
   },
   "file_extension": ".py",
   "mimetype": "text/x-python",
   "name": "python",
   "nbconvert_exporter": "python",
   "pygments_lexer": "ipython3",
   "version": "3.10.4"
  },
  "orig_nbformat": 4,
  "vscode": {
   "interpreter": {
    "hash": "3ad933181bd8a04b432d3370b9dc3b0662ad032c4dfaa4e4f1596c548f763858"
   }
  }
 },
 "nbformat": 4,
 "nbformat_minor": 2
}
