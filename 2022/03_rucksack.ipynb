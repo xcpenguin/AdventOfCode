{
 "cells": [
  {
   "cell_type": "markdown",
   "metadata": {},
   "source": [
    "# December 03, 2022"
   ]
  },
  {
   "cell_type": "code",
   "execution_count": 1,
   "metadata": {},
   "outputs": [],
   "source": [
    "input_file = \"data/03.txt\""
   ]
  },
  {
   "cell_type": "code",
   "execution_count": 2,
   "metadata": {},
   "outputs": [
    {
     "data": {
      "text/plain": [
       "['jVTBgVbgJQVrTLRRsLvRzWcZvnDs',\n",
       " 'dhtmhfdfNlNNldfqmPCflqGbNZDHsDWcRzvczWsczZNzHz',\n",
       " 'tmwwwCCfbJSMbwMb',\n",
       " 'hsrZZhHlhrHmPPbMbDFDQdnQgLfMFDdDQQ',\n",
       " 'GpBtwtqrcCcjgnLgqfgDDgRn',\n",
       " 'cJwVwpCpGJctJtBcCrSCGrVJhlsbvSvTvbmHmmsWmHslmsHm',\n",
       " 'gCtWJvmfmGGwVVMhJw',\n",
       " 'nzRSpZbSVFFRDFSDzcplddqplqMhQMclMp',\n",
       " 'zFLszzRTDnZnbTZTRZsVNgCjrvfvgtvNmtfvLW',\n",
       " 'glRQRpQQtQtGtQws']"
      ]
     },
     "execution_count": 2,
     "metadata": {},
     "output_type": "execute_result"
    }
   ],
   "source": [
    "with open(input_file, \"r\") as f:\n",
    "    lines = f.readlines()\n",
    "\n",
    "lines = [x.strip() for x in lines]\n",
    "lines[:10]\n"
   ]
  },
  {
   "cell_type": "markdown",
   "metadata": {},
   "source": [
    "### Part 1"
   ]
  },
  {
   "cell_type": "code",
   "execution_count": 3,
   "metadata": {},
   "outputs": [
    {
     "data": {
      "text/plain": [
       "'WtFtFvhvpLphNJJVSCbSNP'"
      ]
     },
     "execution_count": 3,
     "metadata": {},
     "output_type": "execute_result"
    }
   ],
   "source": [
    "sack = lines[200]\n",
    "sack"
   ]
  },
  {
   "cell_type": "code",
   "execution_count": 4,
   "metadata": {},
   "outputs": [
    {
     "name": "stdout",
     "output_type": "stream",
     "text": [
      "Items in sack:\n",
      "WtFtFvhvpLphNJJVSCbSNP\n",
      "This sack has 22 toys!\n",
      "Each pocket has 11 toys.\n",
      "Pocket 1 has WtFtFvhvpLp\n",
      "Pocket 2 has hNJJVSCbSNP\n",
      "Looking for W in pocket 2\n",
      "Looking for t in pocket 2\n",
      "Looking for F in pocket 2\n",
      "Looking for t in pocket 2\n",
      "Looking for F in pocket 2\n",
      "Looking for v in pocket 2\n",
      "Looking for h in pocket 2\n",
      "AHA! FOUND IT!\n"
     ]
    },
    {
     "data": {
      "text/plain": [
       "'h'"
      ]
     },
     "execution_count": 4,
     "metadata": {},
     "output_type": "execute_result"
    }
   ],
   "source": [
    "num_items = len(sack)\n",
    "print(\"Items in sack:\")\n",
    "print(sack)\n",
    "print(f\"This sack has {num_items} toys!\")\n",
    "pocket_size = int(num_items / 2)\n",
    "print(f\"Each pocket has {pocket_size} toys.\")\n",
    "\n",
    "\n",
    "pocket1 = sack[:pocket_size]\n",
    "pocket2 = sack[-pocket_size:]\n",
    "\n",
    "print(f\"Pocket 1 has {pocket1}\")\n",
    "print(f\"Pocket 2 has {pocket2}\")\n",
    "\n",
    "for toy in pocket1:\n",
    "    print(f\"Looking for {toy} in pocket 2\")\n",
    "    if toy in pocket2:\n",
    "        print(\"AHA! FOUND IT!\")\n",
    "        break\n",
    "toy"
   ]
  },
  {
   "cell_type": "code",
   "execution_count": 5,
   "metadata": {},
   "outputs": [],
   "source": [
    "def double_toy( sack ):\n",
    "    # separate the two pockets\n",
    "    num_items = len(sack)\n",
    "    pocket_size = int(num_items / 2)\n",
    "    pocket1 = sack[:pocket_size]\n",
    "    pocket2 = sack[-pocket_size:]\n",
    "\n",
    "    # look through pocket 1 for something in pocket 2\n",
    "    for toy in pocket1:\n",
    "        if toy in pocket2:\n",
    "            #print(f\"AHA! I found {toy} in both pockets!\")\n",
    "            break\n",
    "\n",
    "    return toy\n",
    "\n"
   ]
  },
  {
   "cell_type": "code",
   "execution_count": 6,
   "metadata": {},
   "outputs": [
    {
     "name": "stdout",
     "output_type": "stream",
     "text": [
      "💩abcdefghijklmnopqrstuvwxyzABCDEFGHIJKLMNOPQRSTUVWXYZ\n"
     ]
    },
    {
     "data": {
      "text/plain": [
       "1"
      ]
     },
     "execution_count": 6,
     "metadata": {},
     "output_type": "execute_result"
    }
   ],
   "source": [
    "toy = \"L\"\n",
    "toy=\"f\"\n",
    "letters = \"\\U0001F4A9abcdefghijklmnopqrstuvwxyzABCDEFGHIJKLMNOPQRSTUVWXYZ\"\n",
    "print(letters)\n",
    "letters.index(\"a\")"
   ]
  },
  {
   "cell_type": "code",
   "execution_count": 7,
   "metadata": {},
   "outputs": [],
   "source": [
    "def value_of_the_toy( toy ):\n",
    "    letters = \"\\U0001F4A9abcdefghijklmnopqrstuvwxyzABCDEFGHIJKLMNOPQRSTUVWXYZ\"\n",
    "    return letters.index(toy)"
   ]
  },
  {
   "cell_type": "code",
   "execution_count": 8,
   "metadata": {},
   "outputs": [
    {
     "name": "stdout",
     "output_type": "stream",
     "text": [
      "8109\n"
     ]
    }
   ],
   "source": [
    "total = 0\n",
    "for sack in lines:\n",
    "    toy = double_toy(sack)\n",
    "    value = value_of_the_toy(toy)\n",
    "    total = total + value\n",
    "print(total)"
   ]
  },
  {
   "cell_type": "markdown",
   "metadata": {},
   "source": [
    "### Part 2"
   ]
  },
  {
   "cell_type": "code",
   "execution_count": 9,
   "metadata": {},
   "outputs": [],
   "source": [
    "def triple_toy( sack1, sack2, sack3 ):\n",
    "    for toy in sack1:\n",
    "        if toy in sack2 and toy in sack3:\n",
    "            return toy\n",
    "\n",
    "    print(\"OH NO! We didn't find a triple toy\")\n",
    "    return None\n",
    "    "
   ]
  },
  {
   "cell_type": "code",
   "execution_count": 10,
   "metadata": {},
   "outputs": [
    {
     "name": "stdout",
     "output_type": "stream",
     "text": [
      "2738\n"
     ]
    }
   ],
   "source": [
    "total = 0\n",
    "for group_num in range(100):\n",
    "    toy = triple_toy( lines[group_num*3], lines[group_num*3+1], lines[group_num*3+2])\n",
    "    value = value_of_the_toy(toy)\n",
    "    total += value\n",
    "print(total)"
   ]
  }
 ],
 "metadata": {
  "kernelspec": {
   "display_name": "Python 3.10.4 64-bit",
   "language": "python",
   "name": "python3"
  },
  "language_info": {
   "codemirror_mode": {
    "name": "ipython",
    "version": 3
   },
   "file_extension": ".py",
   "mimetype": "text/x-python",
   "name": "python",
   "nbconvert_exporter": "python",
   "pygments_lexer": "ipython3",
   "version": "3.10.4"
  },
  "orig_nbformat": 4,
  "vscode": {
   "interpreter": {
    "hash": "3ad933181bd8a04b432d3370b9dc3b0662ad032c4dfaa4e4f1596c548f763858"
   }
  }
 },
 "nbformat": 4,
 "nbformat_minor": 2
}
