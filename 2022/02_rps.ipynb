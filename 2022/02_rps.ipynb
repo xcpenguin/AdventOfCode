{
 "cells": [
  {
   "cell_type": "code",
   "execution_count": 1,
   "metadata": {},
   "outputs": [],
   "source": [
    "fn = \"data/02_rps.txt\"\n",
    "opp = []\n",
    "me = []\n",
    "\n",
    "with open(fn, \"r\") as f:\n",
    "    for line in f:\n",
    "        opp.append(line[0])\n",
    "        me.append(line[2])"
   ]
  },
  {
   "cell_type": "code",
   "execution_count": 2,
   "metadata": {},
   "outputs": [],
   "source": [
    "def score_pair( x, y ):\n",
    "    # me rock\n",
    "    if y == \"X\":\n",
    "        score = 1\n",
    "        # you rock\n",
    "        if x == \"A\":\n",
    "            score += 3\n",
    "        # you scissors\n",
    "        elif x == \"C\":\n",
    "            score += 6\n",
    "    # me paper\n",
    "    elif y == \"Y\":\n",
    "        score = 2\n",
    "        # you paper\n",
    "        if x == \"B\":\n",
    "            score += 3\n",
    "        # you rock\n",
    "        elif x == \"A\":\n",
    "            score += 6\n",
    "    # me scissors\n",
    "    elif y == \"Z\":\n",
    "        score = 3\n",
    "        # you scissors\n",
    "        if x == \"C\":\n",
    "            score += 3\n",
    "        # you paper\n",
    "        elif x == \"B\":\n",
    "            score += 6\n",
    "    return score"
   ]
  },
  {
   "cell_type": "code",
   "execution_count": 3,
   "metadata": {},
   "outputs": [],
   "source": [
    "# part 2:\n",
    "def score_pair2( x, y ):\n",
    "    # me lose\n",
    "    if y == \"X\":\n",
    "        score = 0\n",
    "        if x == \"A\":\n",
    "            # you rock, me scissors\n",
    "            score += 3\n",
    "        elif x == \"B\":\n",
    "            # you paper, me rock\n",
    "            score += 1\n",
    "        elif x == \"C\":\n",
    "            # you scissors, me paper\n",
    "            score += 2\n",
    "    # me draw\n",
    "    elif y == \"Y\":\n",
    "        score = 3\n",
    "        if x == \"A\":\n",
    "            # we rock\n",
    "            score += 1\n",
    "        elif x == \"B\":\n",
    "            # we paper\n",
    "            score += 2\n",
    "        elif x == \"C\":\n",
    "            # we scissors\n",
    "            score += 3\n",
    "    # me win\n",
    "    elif y == \"Z\":\n",
    "        score = 6\n",
    "        if x == \"A\":\n",
    "            # you rock, me paper\n",
    "            score += 2\n",
    "        elif x == \"B\":\n",
    "            # you paper, me scissors\n",
    "            score += 3\n",
    "        elif x == \"C\":\n",
    "            # you scissors, me rock\n",
    "            score += 1\n",
    "    return score"
   ]
  },
  {
   "cell_type": "code",
   "execution_count": 4,
   "metadata": {},
   "outputs": [
    {
     "name": "stdout",
     "output_type": "stream",
     "text": [
      "12586\n",
      "13193\n"
     ]
    }
   ],
   "source": [
    "tot = 0\n",
    "tot2 = 0\n",
    "for x,y in zip(opp, me):\n",
    "    tot += score_pair(x,y)\n",
    "    tot2 += score_pair2(x,y)\n",
    "print(tot)\n",
    "print(tot2)"
   ]
  }
 ],
 "metadata": {
  "kernelspec": {
   "display_name": "Python 3.10.4 64-bit",
   "language": "python",
   "name": "python3"
  },
  "language_info": {
   "codemirror_mode": {
    "name": "ipython",
    "version": 3
   },
   "file_extension": ".py",
   "mimetype": "text/x-python",
   "name": "python",
   "nbconvert_exporter": "python",
   "pygments_lexer": "ipython3",
   "version": "3.10.4"
  },
  "orig_nbformat": 4,
  "vscode": {
   "interpreter": {
    "hash": "3ad933181bd8a04b432d3370b9dc3b0662ad032c4dfaa4e4f1596c548f763858"
   }
  }
 },
 "nbformat": 4,
 "nbformat_minor": 2
}
