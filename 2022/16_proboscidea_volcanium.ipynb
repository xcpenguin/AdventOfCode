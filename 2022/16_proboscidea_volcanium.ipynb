{
 "cells": [
  {
   "attachments": {},
   "cell_type": "markdown",
   "metadata": {},
   "source": [
    "# December 16, 2022\n",
    "https://adventofcode.com/2022/day/16"
   ]
  },
  {
   "cell_type": "code",
   "execution_count": null,
   "metadata": {},
   "outputs": [],
   "source": [
    "import re\n",
    "import numpy as np"
   ]
  },
  {
   "cell_type": "code",
   "execution_count": null,
   "metadata": {},
   "outputs": [],
   "source": [
    "class Valve:\n",
    "    num_valves = 0\n",
    "\n",
    "    def __init__( self, name, flow, neighbors ):\n",
    "        self.name = name\n",
    "        self.flow = flow\n",
    "        self.status = \"on\" if self.flow == 0 else \"off\"\n",
    "        self.neighbors = {nbr:1 for nbr in neighbors}\n",
    "        self.id = Valve.num_valves\n",
    "        Valve.num_valves += 1\n",
    "\n",
    "    def is_on(self):\n",
    "        return True if self.status == \"on\" else False\n",
    "\n",
    "    def turn_on(self):\n",
    "        if self.is_on:\n",
    "            return 0\n",
    "        else:\n",
    "            self.status = \"on\"\n",
    "            return self.flow\n",
    "\n",
    "    def __lt__(self, other):\n",
    "        return self.flow < other.flow\n",
    "    def __eq__(self, other):\n",
    "        return self.flow == other.flow\n",
    "    def __le__(self, other):\n",
    "        return self < other or self == other\n",
    "    def __str__(self):\n",
    "        return f'''Valve #{self.id} {self.name} is {self.status}. Flow = {self.flow}. Neighbors: {self.neighbors}'''\n",
    "\n",
    "    def __repr__(self):\n",
    "        return str(self)"
   ]
  },
  {
   "cell_type": "code",
   "execution_count": null,
   "metadata": {},
   "outputs": [],
   "source": [
    "def parse_map( fn ):\n",
    "    valves = []\n",
    "\n",
    "    with open(fn, \"r\") as file:\n",
    "        while True:\n",
    "            line = file.readline().strip(\"\\n\")\n",
    "            if not line: break\n",
    "            ma = re.match(r'Valve (\\w+).*rate=(\\d+).*valves? ([\\w,\\s]*)', line)\n",
    "            name = ma.group(1)\n",
    "            flow = int(ma.group(2))\n",
    "            nbrs = ma.group(3).split(\", \")\n",
    "            valves.append( Valve(name, flow, nbrs) )\n",
    "\n",
    "    valves.sort(reverse=True)\n",
    "\n",
    "    return valves\n"
   ]
  },
  {
   "cell_type": "code",
   "execution_count": null,
   "metadata": {},
   "outputs": [],
   "source": [
    "test = parse_map(\"../data/2022/16_test.txt\")"
   ]
  },
  {
   "cell_type": "code",
   "execution_count": null,
   "metadata": {},
   "outputs": [],
   "source": [
    "print(\"\\n\".join([str(x) for x in test]))"
   ]
  },
  {
   "cell_type": "code",
   "execution_count": null,
   "metadata": {},
   "outputs": [],
   "source": [
    "def create_graph( valves ):\n",
    "    N = len(valves)\n",
    "    name_map = {v.name:i for i,v in enumerate(valves)}\n",
    "    dist_array = np.array( [-1]*N*N ).reshape( [N,N])\n",
    "    for i in range(N):\n",
    "        dist_array[i,i] = 0\n",
    "\n",
    "    for cur_id, cur in enumerate(valves):\n",
    "        dist = 0\n",
    "        while True:\n",
    "            # list of valves not reached yet\n",
    "            tofind = [ i for i,d in enumerate( dist_array[cur_id,:] ) if d == -1 ]\n",
    "            \n",
    "            # end state is only the diagonals are 0\n",
    "            if len(tofind) == 0:\n",
    "                break\n",
    "            \n",
    "            # find most recent neighbors\n",
    "            cur_nbrs = [ i for i,d in enumerate( dist_array[cur_id,] ) if d == dist ]\n",
    "            if len(cur_nbrs) == 0:\n",
    "                # uhoh--- can't get there from here!\n",
    "                break\n",
    "\n",
    "            # find neighbors of neighbors that aren't already in the distance array\n",
    "            next_nbrs = set()\n",
    "            for d_nbr in cur_nbrs:\n",
    "                d_nbr_nbr = [ name_map[nbr] for nbr in valves[d_nbr].neighbors if name_map[nbr] in tofind ] \n",
    "                next_nbrs = next_nbrs.union( d_nbr_nbr )\n",
    "\n",
    "            # add the new neighbor to the distance arracy\n",
    "            dist += 1\n",
    "            for id in next_nbrs:\n",
    "                dist_array[cur_id, id] = dist\n",
    "                dist_array[id, cur_id] = dist\n",
    "\n",
    "            # end while loop for finding out cur_id distances\n",
    "\n",
    "    # remove paths that have zero flow other than starting space\n",
    "    off = [i for i,v in enumerate(valves) if v.flow==0 and v.name != \"AA\"]\n",
    "    for i in off[::-1]:\n",
    "        dist_array = np.delete(dist_array, i, 1)\n",
    "        dist_array = np.delete(dist_array, i, 0)\n",
    "        valves = valves[:i] + valves[i+1:]\n",
    "    \n",
    "    return dist_array, valves"
   ]
  },
  {
   "cell_type": "code",
   "execution_count": null,
   "metadata": {},
   "outputs": [],
   "source": [
    "test_graph, test = create_graph(test)\n",
    "test_graph"
   ]
  },
  {
   "cell_type": "code",
   "execution_count": null,
   "metadata": {},
   "outputs": [],
   "source": [
    "test"
   ]
  },
  {
   "cell_type": "markdown",
   "metadata": {},
   "source": [
    "### Part 1"
   ]
  },
  {
   "attachments": {},
   "cell_type": "markdown",
   "metadata": {},
   "source": [
    "Functions for memoization"
   ]
  },
  {
   "cell_type": "code",
   "execution_count": null,
   "metadata": {},
   "outputs": [],
   "source": [
    "def get_key( start, time_left, status ):\n",
    "    return f'''{start}.{time_left}.{\"\".join([str(s) for s in status])}'''\n",
    "\n",
    "def memoize( score, start, time_left, status, best=None ):\n",
    "    key = get_key(start, time_left, status)\n",
    "    if best is None:\n",
    "        best = {key:score}\n",
    "    else:\n",
    "        best[key] = score\n",
    "    return best\n",
    "\n",
    "def read_memo( start, time_left, status, best=None ):\n",
    "    if best is None:\n",
    "        return None\n",
    "    key = get_key(start, time_left, status)\n",
    "    if key in best:\n",
    "        return best[key]\n",
    "    else:\n",
    "        return None"
   ]
  },
  {
   "cell_type": "code",
   "execution_count": null,
   "metadata": {},
   "outputs": [],
   "source": [
    "def solve_map( valves, graph, start, time_left, status=None, best=None ):\n",
    "    # convert to status vector to a string so we don't need to copy the whole Valve object\n",
    "    if status is None:\n",
    "        status = [ 1 if v.status == \"on\" else 0 for v in valves ]\n",
    "\n",
    "    # read memo if possible\n",
    "    best_result = read_memo( start, time_left, status, best )\n",
    "    if best_result is not None:\n",
    "        return best_result\n",
    "\n",
    "    # Not previously solved. Let's solve it now!\n",
    "    best_result = 0\n",
    "\n",
    "\n",
    "    if time_left > 0:\n",
    "        # possible places we can make it to\n",
    "        # -- valve is off (s == 0)\n",
    "        # -- valve is reachable and not current position (dist > 0)\n",
    "        # -- valve is reachable in time (diat < time_left. We don't use <= since there must be time for an action there.)\n",
    "        poss = [i for i,s in enumerate(status) if s == 0 and graph[start,i] > 0 and graph[start,i] < time_left]\n",
    "\n",
    "        # Move to loc and turn on that valve\n",
    "        for loc in poss:\n",
    "            new_status = status.copy()\n",
    "            new_status[loc] = 1\n",
    "            new_time_left = time_left - graph[start, loc] - 1 # +1 for turning off that valve\n",
    "            result = valves[loc].flow * new_time_left\n",
    "            result += solve_map( valves, graph, loc, new_time_left, new_status, best )\n",
    "            best_result = max(best_result, result)\n",
    "\n",
    "    best = memoize( best_result, start, time_left, status, best=None )\n",
    "    return best_result    "
   ]
  },
  {
   "cell_type": "code",
   "execution_count": null,
   "metadata": {},
   "outputs": [],
   "source": [
    "### this is wrong now??\n",
    "\n",
    "solve_map( test, test_graph, 0, 30 )"
   ]
  },
  {
   "cell_type": "code",
   "execution_count": null,
   "metadata": {},
   "outputs": [],
   "source": [
    "# 16.7s without memoization\n",
    "# 8.1 with memoization\n",
    "puz = parse_map(\"data/16.txt\")\n",
    "puz_graph, puz = create_graph(puz)\n",
    "start = [i for i,v in enumerate(puz) if v.name==\"AA\"][0]\n",
    "print(f'''Starting at Valve #{start} ({puz[start].name}).''')\n",
    "solve_map( puz, puz_graph, start, 30 )\n"
   ]
  },
  {
   "cell_type": "markdown",
   "metadata": {},
   "source": [
    "### Part 2"
   ]
  },
  {
   "cell_type": "code",
   "execution_count": null,
   "metadata": {},
   "outputs": [],
   "source": [
    "def get_key( start1, start2, time_left1, time_left2, status ):\n",
    "    return f'''{start1}.{start2}.{time_left1}.{time_left2}.{\"\".join([str(s) for s in status])}'''\n",
    "\n",
    "def memoize( score, start1, start2, time_left1, time_left2, status, best=None ): \n",
    "    key = get_key( start1, start2, time_left1, time_left2, status)\n",
    "\n",
    "    if best is None:\n",
    "        best = {key: score}\n",
    "    else:\n",
    "        best[key] = score\n",
    "    return best\n",
    "\n",
    "def read_memo( start1, start2, time_left1, time_left2, status, best=None ):\n",
    "    key = get_key( start1, start2, time_left1, time_left2, status)\n",
    "\n",
    "    if best is not None and key in best:\n",
    "        best[key]\n",
    "    else:\n",
    "        return None\n",
    "\n",
    "def get_status_cd( status ):\n",
    "    return sum([ s*(10**i) for i,s in enumerate(status) ])\n",
    "\n",
    "def get_time_left_cd( tl1, tl2 ):\n",
    "    return tl1*100 + tl2\n",
    "\n",
    "def get_start_cd(start1, start2):\n",
    "    return start1*100 + start2"
   ]
  },
  {
   "cell_type": "code",
   "execution_count": null,
   "metadata": {},
   "outputs": [],
   "source": [
    "def solve_map( valves, graph, start1, start2, time_left1, time_left2, status=None, best=None ):\n",
    "    # convert to status vector to a string so we don't need to copy the whole Valve object\n",
    "    if status is None:\n",
    "        status = [ 1 if v.status == \"on\" else 0 for v in valves ]\n",
    "\n",
    "    if time_left2 > time_left1:\n",
    "        # simplify code by making id1 the person with more time left\n",
    "        tmp = start2\n",
    "        start2 = start1\n",
    "        start1 = tmp\n",
    "\n",
    "        tmp = time_left2\n",
    "        time_left2 = time_left1\n",
    "        time_left1 = tmp\n",
    "\n",
    "    # read memo if possible\n",
    "    best_result = read_memo( start1, start2, time_left1, time_left2, status, best )\n",
    "    if best_result is not None:\n",
    "        return best_result\n",
    "    \n",
    "    # Not previously solved. Let's solve it now!\n",
    "    best_result = 0\n",
    "\n",
    "\n",
    "    if time_left1 > 0 or time_left2 > 0:\n",
    "        # possible places we can make it to\n",
    "        # -- valve is off (s == 0)\n",
    "        # -- valve is reachable and not current position (dist > 0)\n",
    "        # -- valve is reachable in time (dist < time_left1. We don't use <= since there must be time for an action there.)\n",
    "        poss = [i for i,s in enumerate(status) if s == 0 and graph[start1,i] > 0 and graph[start1,i] < time_left1]\n",
    "\n",
    "        # edge case: person with less time is only one who can turn on an extra valve (ie. it's closer to one)\n",
    "        if len(poss) == 0:\n",
    "            result = solve_map(valves, graph, start1, start2, 0, time_left2, status, best)\n",
    "            best_result = max(best_result, result)\n",
    "        \n",
    "        else:\n",
    "            # Move to loc and turn on that valve\n",
    "            for loc in poss:\n",
    "                new_status = status.copy()\n",
    "                new_status[loc] = 1\n",
    "                new_time_left1 = time_left1 - graph[start1, loc] - 1 # +1 for turning off that valve\n",
    "                result = valves[loc].flow * new_time_left1\n",
    "                result += solve_map( valves, graph, loc, start2, new_time_left1, time_left2, new_status, best )\n",
    "                best_result = max(best_result, result)\n",
    "    else:\n",
    "        global end_count\n",
    "        end_count += 1\n",
    "        if end_count % 100000 == 0:\n",
    "            print(f'''Followed {end_count} chains to the end''')\n",
    "\n",
    "    # could improve by not memoizing 0s\n",
    "    best = memoize( best_result, start1, start2, time_left1, time_left2, status, best )\n",
    "\n",
    "    return best_result    "
   ]
  },
  {
   "cell_type": "code",
   "execution_count": null,
   "metadata": {},
   "outputs": [],
   "source": [
    "end_count = 0\n",
    "solve_map( test, test_graph, 0, 0, 26, 26 )\n"
   ]
  },
  {
   "cell_type": "code",
   "execution_count": null,
   "metadata": {},
   "outputs": [],
   "source": [
    "import sys\n",
    "puz = parse_map(\"data/16.txt\")\n",
    "puz_graph = create_graph(puz)\n",
    "start = [i for i,v in enumerate(puz) if v.name==\"AA\"][0]\n",
    "print(f'''Starting at Valve #{start} ({puz[start].name}).''')\n",
    "\n",
    "is_off = [i for i,v in enumerate(puz) if v.status==\"off\"]\n",
    "Noff = len(is_off)\n",
    "puz_off = np.zeros(Noff*Noff).reshape([Noff, Noff])\n",
    "for i in range(Noff):\n",
    "    for j in range(Noff):\n",
    "        puz_off[i,j] = puz_graph[is_off[i], is_off[j] ]\n",
    "\n",
    "# Looking for some meaningful structure to help eliminate paths\n",
    "# Nothing super obvious. Maybe the middle valves tend to be more centrally located\n",
    "np.set_printoptions(threshold=sys.maxsize)\n",
    "print(puz_off)"
   ]
  },
  {
   "cell_type": "code",
   "execution_count": null,
   "metadata": {},
   "outputs": [],
   "source": [
    "# 61m --- 11714002 end points (3 with tl==26)\n",
    "# + 624m --- \n",
    "end_count = 0\n",
    "#best = {}\n",
    "solve_map( puz, puz_graph, start, start, 26, 26, best=best )"
   ]
  },
  {
   "cell_type": "code",
   "execution_count": null,
   "metadata": {},
   "outputs": [],
   "source": [
    "len(best.keys())"
   ]
  },
  {
   "cell_type": "code",
   "execution_count": null,
   "metadata": {},
   "outputs": [],
   "source": [
    "tl = [int(k.split(\".\")[2]) for k in best.keys()]"
   ]
  },
  {
   "cell_type": "code",
   "execution_count": null,
   "metadata": {},
   "outputs": [],
   "source": [
    "sum([1 for x in tl if x ==26])"
   ]
  },
  {
   "cell_type": "code",
   "execution_count": null,
   "metadata": {},
   "outputs": [],
   "source": [
    "best"
   ]
  },
  {
   "attachments": {},
   "cell_type": "markdown",
   "metadata": {},
   "source": [
    "### Part 2 -- Again\n",
    "... new strat... try finding the lowest-cost path to the biggest valve\n",
    "but that didn't turn out to be very helpful"
   ]
  },
  {
   "attachments": {},
   "cell_type": "markdown",
   "metadata": {},
   "source": [
    "Thoughts:\n",
    "1. If you're going to turn on a valve, the best time to do it is when you're already there.\n",
    "2. If you will turn on a valve, do it the first time you visit. The cost is the same, but the benefit is greater.\n",
    "  * Turns out this is FALSE. There is extra cost in the form of delaying turning on other valves, possibly HUGE ones.\n",
    "3. \n",
    "\n"
   ]
  },
  {
   "cell_type": "code",
   "execution_count": null,
   "metadata": {},
   "outputs": [],
   "source": [
    "test"
   ]
  },
  {
   "cell_type": "code",
   "execution_count": null,
   "metadata": {},
   "outputs": [],
   "source": [
    "test_graph"
   ]
  },
  {
   "cell_type": "code",
   "execution_count": null,
   "metadata": {},
   "outputs": [],
   "source": [
    "def find_biggest_valve( valves ):\n",
    "    best_val = 0\n",
    "    for i, valve in enumerate(valves):\n",
    "        if valve.flow > best_val:\n",
    "            best_i = i\n",
    "            best_val = valve.flow\n",
    "\n",
    "    return best_i\n",
    "\n",
    "def midpoint_cost( valves, graph, time_left, start, mid, end ):\n",
    "    # additional cost of going to start to end via mid and turning on that valve\n",
    "    # indirect time includes one unit to turn on mid valve\n",
    "    indirect_time = min(time_left, graph[start][mid] + graph[mid][end] + 1 )\n",
    "    direct_time = min(time_left, graph[start][end])\n",
    "\n",
    "    # we miss out on some flow from the end valve\n",
    "    extra_cost = (indirect_time - direct_time) * valves[end].flow\n",
    "\n",
    "    # but get additional flow from the mid valve\n",
    "    bonus_flow_time = max(0, indirect_time - (graph[start][mid] + 1))\n",
    "    bonus_flow = bonus_flow_time * valves[mid].flow\n",
    "    return extra_cost - bonus_flow, indirect_time - direct_time\n",
    "\n",
    "def midpoint_flow( valves, graph, time_left, start, mid, end ):\n",
    "    # extra flow achieved by going start -> mid -> end and turning both valves on\n",
    "\n",
    "    # Time for mid valve and end valve to flow\n",
    "    mid_flow_time = max(time_left - graph[start][mid] - 1, 0)\n",
    "    end_flow_time = max(time_left - graph[start][mid] - 1 - graph[mid][end] - 1, 0)\n",
    "    # Flow time for end valve if go straight there\n",
    "    direct_flow_time = max(time_left - graph[start][end] - 1, 0)\n",
    "    # Extra time to stop and turn on mid\n",
    "    lost_time = end_flow_time - direct_flow_time \n",
    "    # Extra flow is the flow from mid - the lost flow from end for taking extra time to get there\n",
    "    extra_flow = mid_flow_time * valves[mid].flow - lost_time * valves[end].flow \n",
    "    \n",
    "    return extra_flow, lost_time"
   ]
  },
  {
   "cell_type": "code",
   "execution_count": null,
   "metadata": {},
   "outputs": [],
   "source": [
    "time_left = 26\n",
    "valves = test\n",
    "graph = test_graph\n",
    "start = 0\n",
    "end = find_biggest_valve( valves )\n",
    "# every minute of delay reduces flow by this amount\n",
    "\n",
    "status = [0] * len(valves)\n",
    "best_cost = 0\n",
    "best_i = end\n",
    "\n",
    "def paths_to_try( valves, graph, time_left, status, cur, end ):\n",
    "    # Get all valid paths from cur to end\n",
    "    # A path is valid if it's direct or it produces more flow\n",
    "    # More flow is not necessarily better since it costs more time\n",
    "    # But direct is better than any path with less flow\n",
    "    # Note: We are not comparing against paths that do attempt to reach end\n",
    "\n",
    "    # List of valid paths so far (excluding end)\n",
    "    paths = [ [start] ] \n",
    "\n",
    "    # amount of flow generated by using this path for duration of time_left\n",
    "    flows = [ (time_left - graph[start][end] - 1)*valves[end].flow ]\n",
    "    \n",
    "    # time for paths from start, but excluding end\n",
    "    times = [0]\n",
    "\n",
    "    id = 0\n",
    "    while id < len(paths):\n",
    "        cur = paths[id]\n",
    "\n",
    "        # see if we could add another step to the path\n",
    "        for i in range(len(valves)):\n",
    "            # this valve is already on path, or else the valve is off\n",
    "            if i == start or i == end or i in cur or status[i] == 1:\n",
    "                continue\n",
    "\n",
    "            # consider stopping at i en route to end.\n",
    "            # add to paths if it's possibly better than going from current path straight to end\n",
    "            extra_flow, lost_time = midpoint_flow( valves, graph, time_left - times[id], cur[-1], i, end)\n",
    "            if extra_flow > 0:\n",
    "                print( cur, i, extra_flow)\n",
    "                paths.append( cur + [i] )\n",
    "                flows.append( flows[id] + extra_flow )\n",
    "                times.append( times[id] + lost_time )\n",
    "        id += 1\n",
    "    return paths, \n",
    "\n",
    "best_cost = 1\n",
    "best_i = []\n",
    "for i, cost in enumerate(costs):\n",
    "    if cost < best_cost:\n",
    "        best_i = [i]\n",
    "        best_cost = cost\n",
    "    elif cost == best_cost and set():\n",
    "        best_i.append(i)\n",
    "\n",
    "\n"
   ]
  },
  {
   "cell_type": "code",
   "execution_count": null,
   "metadata": {},
   "outputs": [],
   "source": [
    "set([1,4,3]) == set([3,4,2])"
   ]
  },
  {
   "cell_type": "code",
   "execution_count": null,
   "metadata": {},
   "outputs": [],
   "source": [
    "paths"
   ]
  },
  {
   "cell_type": "code",
   "execution_count": null,
   "metadata": {},
   "outputs": [],
   "source": [
    "costs"
   ]
  },
  {
   "cell_type": "code",
   "execution_count": null,
   "metadata": {},
   "outputs": [],
   "source": [
    "costs"
   ]
  },
  {
   "cell_type": "code",
   "execution_count": null,
   "metadata": {},
   "outputs": [],
   "source": [
    "[\n",
    "    6*13 - 3*22,\n",
    "    4*20 - 22,\n",
    "    7*21 - 5*22,\n",
    "    7*13 + 4*20 - 4*22,\n",
    "    11*13 + 7*21 - 8*22,\n",
    "    10*21 + 6*13 - 8*22,\n",
    "    \n",
    "]"
   ]
  },
  {
   "cell_type": "code",
   "execution_count": null,
   "metadata": {},
   "outputs": [],
   "source": [
    "test_graph"
   ]
  },
  {
   "cell_type": "code",
   "execution_count": null,
   "metadata": {},
   "outputs": [],
   "source": [
    "midpoint_cost( valves, graph, 32, 0, 6, 5)"
   ]
  },
  {
   "cell_type": "code",
   "execution_count": null,
   "metadata": {},
   "outputs": [],
   "source": [
    "(3+2+4+2)*21 + (2+4+1)*13 + 4*20 - (14-5)*22"
   ]
  },
  {
   "cell_type": "code",
   "execution_count": null,
   "metadata": {},
   "outputs": [],
   "source": [
    "midpoint_cost(valves, graph, 32, 0, 1, 5)"
   ]
  },
  {
   "cell_type": "code",
   "execution_count": null,
   "metadata": {},
   "outputs": [],
   "source": [
    "test_graph"
   ]
  },
  {
   "cell_type": "code",
   "execution_count": null,
   "metadata": {},
   "outputs": [],
   "source": [
    "(3+3+4)*13 + (7*21) + 4*20 - 9*22"
   ]
  },
  {
   "cell_type": "code",
   "execution_count": null,
   "metadata": {},
   "outputs": [],
   "source": [
    "test"
   ]
  },
  {
   "cell_type": "markdown",
   "metadata": {},
   "source": [
    "### Part 2 -- Third attempt\n",
    "Let's try an A* type deal and avoid exploring paths that we know won't win"
   ]
  },
  {
   "attachments": {},
   "cell_type": "markdown",
   "metadata": {},
   "source": [
    "# Too low 2134, 2493, 2714\n",
    "# Too high 3000"
   ]
  },
  {
   "cell_type": "code",
   "execution_count": null,
   "metadata": {},
   "outputs": [],
   "source": [
    "from queue import PriorityQueue"
   ]
  },
  {
   "cell_type": "code",
   "execution_count": null,
   "metadata": {},
   "outputs": [],
   "source": [
    "class Strat:\n",
    "    next_id = 0\n",
    "\n",
    "    def __init__(self, phum, pele, thum, tele, score, prio=0, tarrh=[], tarre=[] ):\n",
    "        self.id = Strat.next_id\n",
    "        Strat.next_id += 1\n",
    "\n",
    "        # paths for human and elephant\n",
    "        self.phum = phum\n",
    "        self.pele = pele\n",
    "\n",
    "        # time left for them\n",
    "        self.thum = thum\n",
    "        self.tele = tele\n",
    "\n",
    "        self.score = score\n",
    "        self.prio = prio\n",
    "\n",
    "        # These are arrays of the time_left values at each point along path\n",
    "        # Not necessary, but it helped me debug\n",
    "        self.tarrh = tarrh\n",
    "        self.tarre = tarre\n",
    "\n",
    "        return\n",
    "\n",
    "    # Note: for our purpose < means has higher priority\n",
    "    def __lt__(self, other):\n",
    "        return self.prio > other.prio\n",
    "\n",
    "    def __eq__(self, other):\n",
    "        # Must have same score\n",
    "        if self.score != other.score:\n",
    "            return False\n",
    "\n",
    "        # With actors in same position at same time, possibly swapped though\n",
    "        if not (\n",
    "            (self.phum[-1] == other.phum[-1] and self.thum == other.thum\n",
    "                and self.pele[-1] == other.pele[-1] and self.tele == other.tele)\n",
    "            or \n",
    "            (self.phum[-1] == other.pele[-1] and self.thum == other.tele\n",
    "                and self.pele[-1] == other.phum[-1] and self.tele == other.thum)\n",
    "        ):\n",
    "            return False\n",
    "\n",
    "        # and the same valves must be on\n",
    "        on1 = set( self.phum + self.pele )\n",
    "        on2 = set( other.phum + other.pele )\n",
    "        if on1 != on2:\n",
    "            return False\n",
    "        \n",
    "        # in that case, previous history is immaterial\n",
    "        return True\n",
    "\n"
   ]
  },
  {
   "cell_type": "code",
   "execution_count": null,
   "metadata": {},
   "outputs": [],
   "source": [
    "def get_nbr( strat, graph ):\n",
    "    '''return valves we might check'''\n",
    "    # We assume starting valve has flow 0\n",
    "    return [i for i in range(graph.shape[0]) if i not in strat.phum and i not in strat.pele]\n"
   ]
  },
  {
   "cell_type": "code",
   "execution_count": null,
   "metadata": {},
   "outputs": [],
   "source": [
    "def calc_time_left( path, cur_time, nbr, graph ):\n",
    "    cur = path[-1]\n",
    "    dist = graph[cur][nbr]\n",
    "\n",
    "    # time left after reaching valve and turning it on, or 0 if you can't make it\n",
    "    return max(0, cur_time - dist - 1)\n",
    "\n",
    "def heuristic1( strat, valves, graph ):\n",
    "    '''An upper bound assuming all valves are 1 unit away from each other'''\n",
    "    # Assume valves are sorted\n",
    "    valves_left = get_nbr( strat, graph )\n",
    "    flows = [valves[id].flow for id in valves_left]\n",
    "    \n",
    "    # Upper bound assumes all valves are 1 unit away from each other\n",
    "    # we can improve on this upper bound if needed\n",
    "    ub = 0\n",
    "    t1 = strat.thum\n",
    "    t2 = strat.tele\n",
    "    for f in flows:\n",
    "        if t1 < t2 and t2 > 2:\n",
    "            ub += (t2-2)*f\n",
    "            t2 -= 2\n",
    "        elif t1 > 2:\n",
    "            ub += (t1-2)*f\n",
    "            t1 -= 2\n",
    "        else:\n",
    "            # no more time to turn stuff on\n",
    "            break\n",
    "\n",
    "    return ub\n",
    "\n",
    "def heuristic( strat, valves, graph ):\n",
    "    '''an upper bound assuming that you and ele can simultaneously go toward all remaining valves'''\n",
    "    # Assume valves are sorted\n",
    "    valves_left = get_nbr( strat, graph )\n",
    "    flows = [valves[id].flow for id in valves_left]\n",
    "    \n",
    "    curh = strat.phum[-1]\n",
    "    cure = strat.pele[-1]\n",
    "    tlh = strat.thum\n",
    "    tle = strat.tele\n",
    "\n",
    "    flow = [ valves[v].flow * max(0, tlh - graph[curh][v], tle - graph[cure][v]) for v in valves_left ]\n",
    "    return sum(flow) \n",
    "\n",
    "\n"
   ]
  },
  {
   "cell_type": "code",
   "execution_count": null,
   "metadata": {},
   "outputs": [],
   "source": [
    "import datetime as dt"
   ]
  },
  {
   "cell_type": "code",
   "execution_count": null,
   "metadata": {},
   "outputs": [],
   "source": [
    "def this_could_be_it( valves, graph, start, time ):\n",
    "    \n",
    "    # Heuristic will be max possible flow\n",
    "    # Priority will be negated to sort from high to low \n",
    "    frontier = PriorityQueue()\n",
    "\n",
    "    #   hum path, ele path, hum time, ele time, score\n",
    "    start = Strat( [start], [start], time, time, 0, 0, [time], [time] )\n",
    "    frontier.put( start )\n",
    "\n",
    "    # track which ones we've already investigated\n",
    "    seen = [start]\n",
    "    best_strat = start\n",
    "    best_score = -1\n",
    "    nbest = 1\n",
    "    \n",
    "    while not frontier.empty():\n",
    "        cur = frontier.get()\n",
    "\n",
    "        # this strat can't possibly win, skip it\n",
    "        # remember prio is negative of the upper bound on this strats final score\n",
    "        if cur.prio <= best_score:\n",
    "            continue\n",
    "\n",
    "        neighbors = get_nbr(cur, graph)\n",
    "        for nbr in neighbors:\n",
    "            \n",
    "            h_time_left = calc_time_left( cur.phum, cur.thum, nbr, graph )\n",
    "            e_time_left = calc_time_left( cur.pele, cur.tele, nbr, graph )\n",
    "\n",
    "            # I'm not 100% sure this works, but it will lead to heuristics that aren't so crazy inflated.\n",
    "            # This led quickly to a wrong answer of 2714 in ~43s\n",
    "\n",
    "            # On second thought this makes sense. Even if human ultimately goes to nbr,\n",
    "            # We can move the ele to its next destination first...\n",
    "            # Eventually ele will use up its extra time\n",
    "            # Maybe the bug earlier was because I had a strict inequality here?\n",
    "            \n",
    "            try_hum = h_time_left >= e_time_left\n",
    "            try_ele = e_time_left >= h_time_left and (cur.pele[-1] != cur.phum[-1] or cur.tele != cur.thum)\n",
    "\n",
    "            # better condition, if ele has time to turn on valve and return to spot, then no point in human doing it\n",
    "            # WHOOPS... the problem with this is it forces the elephant away from a possibly more efficient position... maybe?\n",
    "            # not sure, but I got the wrong answer of 2714 again\n",
    "            #try_hum = (h_time_left > e_time_left - graph[nbr][cur.pele[-1]])\n",
    "            #try_ele = (e_time_left > h_time_left - graph[nbr][cur.phum[-1]]\n",
    "            #            and (cur.pele[-1] != cur.phum[-1] or cur.tele != cur.thum))\n",
    "\n",
    "            # This MUST be okay... if both human and ele are in same spot at same time, it doesn't matter who moves\n",
    "            #try_hum = True\n",
    "            #try_ele = (cur.pele[-1] != cur.phum[-1] or cur.pele[-1] != cur.phum[-1])\n",
    "\n",
    "            # Try Human...\n",
    "            if try_hum:\n",
    "                time_left = h_time_left\n",
    "                new_score = cur.score + time_left * valves[nbr].flow # time_left = time when valve is opened, it starts flowing next minute\n",
    "\n",
    "                new_strat = Strat( [*cur.phum, nbr], cur.pele, time_left, cur.tele, new_score, 0, [*cur.tarrh, time_left], cur.tarre )\n",
    "                if True:#new_strat not in seen:\n",
    "                    if new_score > best_score:\n",
    "                        nbest += 1\n",
    "                        print(f\"Best [{nbest}]: {new_score}\")\n",
    "                        print(dt.datetime.now().isoformat())\n",
    "                        best_score = new_score\n",
    "                        best_strat = new_strat\n",
    "                    heur = heuristic( new_strat, valves, graph )\n",
    "                    prio = new_score + heur\n",
    "                    new_strat.prio = prio\n",
    "                    #seen.append( new_strat )\n",
    "\n",
    "                # don't bother queuing this new strat unless it could top the best score\n",
    "                # Note: if this is the current best_score, it means we only add if there's time to turn on more valves\n",
    "                if prio > best_score:\n",
    "                    frontier.put( new_strat )\n",
    "\n",
    "            # Try Elephant...\n",
    "            if try_ele:\n",
    "                time_left = e_time_left\n",
    "                new_score = cur.score + time_left * valves[nbr].flow # time_left = time for this valve to flow\n",
    "                new_strat = Strat( cur.phum, [*cur.pele, nbr], cur.thum, time_left, new_score, 0, cur.tarrh, [*cur.tarre, time_left] )\n",
    "\n",
    "                if True:#new_strat not in seen:\n",
    "                    if new_score > best_score:\n",
    "                        nbest += 1\n",
    "                        print(f\"Best [{nbest}]: {new_score}\")\n",
    "                        print(dt.datetime.now().isoformat())\n",
    "                        best_score = new_score\n",
    "                        best_strat = new_strat\n",
    "                    heur = heuristic( new_strat, valves, graph )\n",
    "                    prio = new_score + heur\n",
    "                    new_strat.prio = prio\n",
    "                    #seen.append(new_strat)\n",
    "\n",
    "                # don't bother queuing this new strat unless it could top the best score\n",
    "                # Note: if this is the current best_score, it means we only add if there's time to turn on more valves\n",
    "                if prio > best_score:\n",
    "                    frontier.put( new_strat )\n",
    "\n",
    "    # no more strats to check out\n",
    "    return best_score, best_strat\n",
    "\n",
    "            \n",
    "\n",
    "\n",
    "\n",
    "        \n",
    "\n"
   ]
  },
  {
   "cell_type": "code",
   "execution_count": null,
   "metadata": {},
   "outputs": [],
   "source": [
    "start = [i for i,v in enumerate(test) if v.name == \"AA\"][0]\n",
    "score, strat = this_could_be_it( test, test_graph, start, 26)\n",
    "print(score)"
   ]
  },
  {
   "cell_type": "code",
   "execution_count": null,
   "metadata": {},
   "outputs": [],
   "source": [
    "print([test[x].name for x in strat.phum])\n",
    "print([test[x].name for x in strat.pele])\n",
    "print(strat.thum)\n",
    "print(strat.tele)"
   ]
  },
  {
   "cell_type": "code",
   "execution_count": null,
   "metadata": {},
   "outputs": [],
   "source": [
    "def score_strat( strat, valves, graph, time=26, hum=1 ):\n",
    "    if hum == 1:\n",
    "        n1 = \"You turn\"\n",
    "        n2 = \"Ele turns\"\n",
    "    else:\n",
    "        n1 = \"Ele turns\"\n",
    "        n2 = \"You turn\"\n",
    "    \n",
    "    tl1 = tl2 = time\n",
    "    i1 = i2 = 0\n",
    "    fpt = 0\n",
    "    total_flow = 0\n",
    "    while tl1 > 0 or tl2 > 0:\n",
    "        print(i1, i2)\n",
    "        if i1 < len(strat.phum) - 1:\n",
    "            tl1b = tl1 - (graph[ strat.phum[i1] ][ strat.phum[i1+1] ] + 1)\n",
    "        else:\n",
    "            tl1b = 0\n",
    "        if i2 < len(strat.pele) - 1:\n",
    "            tl2b = tl2 - (graph[ strat.pele[i2] ][ strat.pele[i2+1] ] + 1)\n",
    "        else:\n",
    "            tl2b = 0\n",
    "        if tl1b == tl2b == 0:\n",
    "            break\n",
    "        \n",
    "        if tl1b >= tl2b:\n",
    "            i1 += 1\n",
    "            tl1 = tl1b\n",
    "            v = valves[ strat.phum[i1] ]\n",
    "            fpt += v.flow\n",
    "            total_flow += (tl1)*v.flow\n",
    "            print(f\"@{time-tl1} {n1} on Valve {v.name} releasing {v.flow} and increasing FPT to {fpt}.\")\n",
    "            print(\"Total =\", total_flow)\n",
    "        else:\n",
    "            i2 += 1\n",
    "            tl2 = tl2b\n",
    "            v = valves[ strat.pele[i2] ]\n",
    "            fpt += v.flow\n",
    "            total_flow += (tl2)*v.flow\n",
    "            print(f\"@{time-tl2} {n2} on Valve {v.name} releasing {v.flow} and increasing FPT to {fpt}.\")\n",
    "            print(\"Total =\", total_flow)\n",
    "\n",
    "    return total_flow\n",
    "\n",
    "\n",
    "    "
   ]
  },
  {
   "cell_type": "code",
   "execution_count": null,
   "metadata": {},
   "outputs": [],
   "source": [
    "score_strat( strat, test, test_graph, time=26, hum=1 )\n"
   ]
  },
  {
   "cell_type": "code",
   "execution_count": null,
   "metadata": {},
   "outputs": [],
   "source": [
    "def print_strat( strat, valves ):\n",
    "    print( \"One:\",  [f\"{valves[ strat.phum[i] ].name} @{26 - strat.tarrh[i]}\" for i in range(len(strat.phum))])\n",
    "    print( \"Two:\",[f\"{valves[ strat.pele[i] ].name} @{26 - strat.tarre[i]}\" for i in range(len(strat.pele))])"
   ]
  },
  {
   "cell_type": "code",
   "execution_count": null,
   "metadata": {},
   "outputs": [],
   "source": [
    "print_strat(strat, test)"
   ]
  },
  {
   "cell_type": "code",
   "execution_count": null,
   "metadata": {},
   "outputs": [],
   "source": [
    "print([f\"{v.name}: {v.flow}\" for v in test])\n",
    "test_graph"
   ]
  },
  {
   "cell_type": "code",
   "execution_count": null,
   "metadata": {},
   "outputs": [],
   "source": [
    "puz = parse_map(\"data/16.txt\")\n",
    "puz_graph, puz = create_graph(puz)"
   ]
  },
  {
   "cell_type": "code",
   "execution_count": null,
   "metadata": {},
   "outputs": [],
   "source": [
    "# The h_time_left <= e_time_left shortcut, which I now believe is good but with prio shortcut turned off\n",
    "# LMFAO! I had the wrong starting tile this entire time.... *sigh*\n",
    "start = len(puz)-1\n",
    "score, strat = this_could_be_it( puz, puz_graph, start, 26)\n",
    "print(score)"
   ]
  },
  {
   "cell_type": "code",
   "execution_count": null,
   "metadata": {},
   "outputs": [],
   "source": [
    "# The h_time_left <= e_time_left shortcut, which I now believe is good\n",
    "# gets 2714 in ~43s\n",
    "score, strat = this_could_be_it( puz, puz_graph, start, 26)\n",
    "print(score)"
   ]
  },
  {
   "cell_type": "code",
   "execution_count": null,
   "metadata": {},
   "outputs": [],
   "source": [
    "# The only shortcut here is if human and ele are in same spot at same time, we only try moving one of them\n",
    "# it gives wrong answer of 2714 in 13'48\"\n",
    "score, strat = this_could_be_it( puz, puz_graph, start, 26)\n",
    "print(score)"
   ]
  },
  {
   "cell_type": "code",
   "execution_count": null,
   "metadata": {},
   "outputs": [],
   "source": [
    "# This one had condition where if ele can turn on valve and return to its spot, then no need for human to move\n",
    "# it gives the wrong answer of 2714 in 13'22\"\n",
    "score, strat = this_could_be_it( puz, puz_graph, start, 26)\n",
    "print(score)"
   ]
  },
  {
   "cell_type": "code",
   "execution_count": null,
   "metadata": {},
   "outputs": [],
   "source": [
    "score, strat = this_could_be_it( puz, puz_graph, start, 26)\n",
    "print(score)"
   ]
  },
  {
   "cell_type": "code",
   "execution_count": null,
   "metadata": {},
   "outputs": [],
   "source": [
    "# I forget what I added here, but it took too long anyway\n",
    "score, strat = this_could_be_it( puz, puz_graph, start, 26)\n",
    "print(score)"
   ]
  },
  {
   "cell_type": "code",
   "execution_count": null,
   "metadata": {},
   "outputs": [],
   "source": [
    "print_strat(strat, puz)"
   ]
  },
  {
   "cell_type": "code",
   "execution_count": null,
   "metadata": {},
   "outputs": [],
   "source": [
    "strat.phum, strat.tarrh, strat.pele, strat.pele"
   ]
  },
  {
   "cell_type": "code",
   "execution_count": null,
   "metadata": {},
   "outputs": [],
   "source": [
    "get_nbr(strat,puz)"
   ]
  },
  {
   "cell_type": "code",
   "execution_count": null,
   "metadata": {},
   "outputs": [],
   "source": [
    "strat"
   ]
  },
  {
   "cell_type": "code",
   "execution_count": null,
   "metadata": {},
   "outputs": [],
   "source": [
    "print([f\"{v.name}: {v.flow}\" for v in puz])\n",
    "puz_graph"
   ]
  },
  {
   "cell_type": "code",
   "execution_count": null,
   "metadata": {},
   "outputs": [],
   "source": [
    "#long_strat = strat\n",
    "#long_score = score\n",
    "print_strat(long_strat, puz)"
   ]
  },
  {
   "cell_type": "code",
   "execution_count": null,
   "metadata": {},
   "outputs": [],
   "source": [
    "#fast_strat = strat\n",
    "#fast_score = score\n",
    "print_strat(fast_strat, puz)"
   ]
  },
  {
   "cell_type": "code",
   "execution_count": null,
   "metadata": {},
   "outputs": [],
   "source": [
    "score_strat( fast_strat, puz, puz_graph )"
   ]
  },
  {
   "cell_type": "code",
   "execution_count": null,
   "metadata": {},
   "outputs": [],
   "source": [
    "strat.phum, strat.thum, strat.tarrh"
   ]
  },
  {
   "cell_type": "code",
   "execution_count": null,
   "metadata": {},
   "outputs": [],
   "source": [
    "puz_graph"
   ]
  }
 ],
 "metadata": {
  "kernelspec": {
   "display_name": "base",
   "language": "python",
   "name": "python3"
  },
  "language_info": {
   "codemirror_mode": {
    "name": "ipython",
    "version": 3
   },
   "file_extension": ".py",
   "mimetype": "text/x-python",
   "name": "python",
   "nbconvert_exporter": "python",
   "pygments_lexer": "ipython3",
   "version": "3.7.3"
  },
  "orig_nbformat": 4,
  "vscode": {
   "interpreter": {
    "hash": "ad2bdc8ecc057115af97d19610ffacc2b4e99fae6737bb82f5d7fb13d2f2c186"
   }
  }
 },
 "nbformat": 4,
 "nbformat_minor": 2
}
