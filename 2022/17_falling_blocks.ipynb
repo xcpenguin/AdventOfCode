{
 "cells": [
  {
   "cell_type": "markdown",
   "metadata": {},
   "source": [
    "# December 17, 2022\n",
    "https://adventofcode.com/2022/day/17"
   ]
  },
  {
   "cell_type": "code",
   "execution_count": 1,
   "metadata": {},
   "outputs": [],
   "source": [
    "# Too low: 3132, 3133\n",
    "# Too high: 5256"
   ]
  },
  {
   "cell_type": "code",
   "execution_count": 2,
   "metadata": {},
   "outputs": [],
   "source": [
    "test = \">>><<><>><<<>><>>><<<>>><<<><<<>><>><<>>\""
   ]
  },
  {
   "cell_type": "code",
   "execution_count": 3,
   "metadata": {},
   "outputs": [],
   "source": [
    "fn = \"data/17.txt\"\n",
    "with open(fn, \"r\") as file:\n",
    "    puz = file.readline()"
   ]
  },
  {
   "cell_type": "code",
   "execution_count": 4,
   "metadata": {},
   "outputs": [],
   "source": [
    "# Tower is oriented [x,y] with [0,0] being left/bottom\n",
    "class Tower:\n",
    "    def __init__(self, jets, width=7, retain_rows = 0):\n",
    "        # Note: bank() method only works for width 4-7!\n",
    "        self.width = width\n",
    "\n",
    "        # track which gust comes next\n",
    "        self.jets = jets\n",
    "        self.jet_pos = 0\n",
    "\n",
    "        # instantiate map with floor\n",
    "        # self.map is recorded from bottom up\n",
    "        self.map = [ ['-']*self.width ]\n",
    "        self.height = 0\n",
    "        self.banked_height = 0\n",
    "        self.retain_rows = retain_rows\n",
    "        if retain_rows == 0:\n",
    "            self.banking = False\n",
    "        else:\n",
    "            self.banking = True\n",
    "            \n",
    "        \n",
    "        # track current active block\n",
    "        # 0Flat, Cross, 2Ell, 3Pipe, 4Tuba\n",
    "        self.next = 0\n",
    "        self.block_count = 0\n",
    "        self.spawn_x = 2\n",
    "        self.spawn_dy = 4\n",
    "        self.new_block()\n",
    "\n",
    "\n",
    "\n",
    "    def check(self, x, y):\n",
    "       # print(\"Checking\",x,y)\n",
    "        # walls are closed\n",
    "        if x < 0 or x >= self.width:\n",
    "            return False\n",
    "\n",
    "        # open above\n",
    "        if y > self.height:\n",
    "            return True\n",
    "\n",
    "        # otherwise check map\n",
    "       # print(\"Looking at map\")\n",
    "       # print(self.map[y][x])\n",
    "        return  (self.map[y][x]=='.') # using this for blank\n",
    "\n",
    "    def bank(self):\n",
    "\n",
    "        if self.height > self.retain_rows:\n",
    "            to_bank = self.height - self.retain_rows\n",
    "            self.map = self.map[-(1+self.retain_rows):]\n",
    "            self.height = self.retain_rows\n",
    "            self.banked_height += to_bank\n",
    "\n",
    "            if self.block is not None:\n",
    "                #print(\"Block at\", self.block.x, self.block.y, \"Banking\", to_bank)\n",
    "                self.block.y -= to_bank\n",
    "                #print(\"Mapped to\", self.block.x, self.block.y)\n",
    "                # if block is below the retain line, we're assuming it doesn't matter\n",
    "                if self.block.y <= 0:\n",
    "                  #  pixels = self.block.pixels()\n",
    "                  #  for xy in pixels:\n",
    "                  #      if xy[1] > 0:\n",
    "                  #          print(xy)\n",
    "                  #          self.solidify(xy[0], xy[1], self.block.char)\n",
    "                    self.new_block()\n",
    "        else:\n",
    "            pass\n",
    "        return\n",
    "    \n",
    "\n",
    "    def new_block(self):\n",
    "        y = self.height + self.spawn_dy\n",
    "        if self.next == 0:\n",
    "            self.block = Flat(self.spawn_x, y, self)\n",
    "        elif self.next == 1:\n",
    "            self.block = Cross(self.spawn_x,y, self)\n",
    "        elif self.next == 2:\n",
    "            self.block = Ell(self.spawn_x,y, self)\n",
    "        elif self.next == 3:\n",
    "            self.block = Pipe(self.spawn_x,y, self)\n",
    "        elif self.next == 4:\n",
    "            self.block = Tuba(self.spawn_x,y, self)\n",
    "        self.next = (self.next + 1) % 5\n",
    "        self.block_count += 1\n",
    "\n",
    "    def gust(self):\n",
    "        jet = self.jets[self.jet_pos]\n",
    "        if jet == \"<\":\n",
    "            if self.block.check_left():\n",
    "                self.block.x -= 1\n",
    "        else: # jet == \">\":\n",
    "            if self.block.check_right():\n",
    "                self.block.x += 1\n",
    "        self.jet_pos = (self.jet_pos + 1) % len(self.jets)\n",
    "        if self.jet_pos == 0 and self.banking:\n",
    "            self.bank()\n",
    "\n",
    "\n",
    "    def drop(self):\n",
    "        # return True if block dropped, False if it's stuck\n",
    "        if self.block.check_down():\n",
    "            self.block.y -= 1\n",
    "            if self.block.y == 0: # assume the block falls into oblivion and doesn't affect tower height\n",
    "                self.new_block()\n",
    "                return False\n",
    "            return True\n",
    "        else:\n",
    "            pixels = self.block.pixels()\n",
    "            for xy in pixels:\n",
    "                self.solidify(xy[0], xy[1], self.block.char)\n",
    "            if not any( [x == '.' for x in self.map[-1]] ):\n",
    "                print(\"Flat line:\", self.block_count)\n",
    "            self.new_block()\n",
    "            return False\n",
    "\n",
    "    def solidify(self, x, y, char):\n",
    "        # add to tower height as needed\n",
    "        dy = y - self.height\n",
    "        for i in range(dy):\n",
    "            self.map += [ ['.']*self.width ]\n",
    "            self.height += 1\n",
    "\n",
    "        self.map[y][x] = char\n",
    "\n",
    "    def __str__(self):\n",
    "        addendum = []\n",
    "        out = []\n",
    "\n",
    "        if self.block is not None:\n",
    "            dy = self.block.y + (self.block.height-1) - self.height\n",
    "            pixels = self.block.pixels()\n",
    "            for y in range(dy):\n",
    "                addendum.append( ['.']*self.width )\n",
    "\n",
    "            for xy in pixels:\n",
    "                if xy[1] > self.height:\n",
    "                    # add to addendum\n",
    "                    y2 = xy[1]-1 - self.height\n",
    "                    addendum[y2][xy[0]] = '@'\n",
    "                else:\n",
    "                    self.map[xy[1]][xy[0]] = '@'\n",
    "\n",
    "            for line in addendum[::-1]:\n",
    "                out.append( \"\".join(line) )\n",
    "        \n",
    "        for line in self.map[::-1]:\n",
    "            out.append( \"\".join(line) )\n",
    "\n",
    "        if self.block is not None:\n",
    "            # reset the map's block spaces\n",
    "            for xy in pixels:\n",
    "                if xy[1] <= self.height:\n",
    "                    self.map[xy[1]][xy[0]] = '.'\n",
    "                \n",
    "        return \"\\n\".join(out)\n",
    "    \n",
    "    def __repr__(self):\n",
    "        return self.__str__(self)\n",
    "\n",
    "class Block:\n",
    "    pass\n",
    "\n",
    "class Flat(Block):\n",
    "    # refpoint is left-most\n",
    "    def __init__(self, x, y, tower):\n",
    "        self.x = x\n",
    "        self.y = y\n",
    "        self.tower = tower\n",
    "        self.type = \"Flat\"\n",
    "        self.height = 1\n",
    "        self.char = \"A\"\n",
    "\n",
    "    def check_right(self):\n",
    "        return self.tower.check(self.x+4, self.y)\n",
    "    def check_left(self):\n",
    "        return self.tower.check(self.x-1, self.y)\n",
    "    def check_down(self):\n",
    "        for x in range(self.x, self.x+4):\n",
    "            if not self.tower.check(x, self.y-1):\n",
    "                return False\n",
    "        return True\n",
    "    def pixels(self):\n",
    "        return [ [self.x, self.y], [self.x+1, self.y], [self.x+2, self.y], [self.x+3, self.y] ]\n",
    "\n",
    "class Cross(Block):\n",
    "    # refpoint is bottom-left (empty space)\n",
    "    def __init__(self, x, y, tower):\n",
    "        self.x = x\n",
    "        self.y = y\n",
    "        self.tower = tower\n",
    "        self.type = \"Cross\"\n",
    "        self.height = 3\n",
    "        self.char = \"B\"\n",
    "\n",
    "\n",
    "    def check_right(self):\n",
    "        return (self.tower.check(self.x+2, self.y)\n",
    "                and self.tower.check(self.x+3, self.y+1)\n",
    "                and self.tower.check(self.x+2, self.y+2))\n",
    "    def check_left(self):\n",
    "        return (self.tower.check(self.x, self.y)\n",
    "                and self.tower.check(self.x-1, self.y+1)\n",
    "                and self.tower.check(self.x, self.y+2))\n",
    "    def check_down(self):\n",
    "        return (self.tower.check(self.x, self.y)\n",
    "                and self.tower.check(self.x+1, self.y-1)\n",
    "                and self.tower.check(self.x+2, self.y))\n",
    "    def pixels(self):\n",
    "        return [ [self.x+1, self.y], [self.x, self.y+1], [self.x+1, self.y+1], [self.x+2, self.y+1], [self.x+1, self.y+2] ]\n",
    "\n",
    "class Ell(Block):\n",
    "    # refpoint is bottom-left (empty space)\n",
    "    def __init__(self, x, y, tower):\n",
    "        self.x = x\n",
    "        self.y = y\n",
    "        self.tower = tower\n",
    "        self.type = \"Ell\"\n",
    "        self.height = 3\n",
    "        self.char = \"C\"\n",
    "\n",
    "    def check_right(self):\n",
    "        return (self.tower.check(self.x+3, self.y)\n",
    "                and self.tower.check(self.x+3, self.y+1)\n",
    "                and self.tower.check(self.x+3, self.y+2))\n",
    "    def check_left(self):\n",
    "        return (self.tower.check(self.x-1, self.y)\n",
    "                and self.tower.check(self.x+1, self.y+1)\n",
    "                and self.tower.check(self.x+1, self.y+2))\n",
    "    def check_down(self):\n",
    "        return (self.tower.check(self.x, self.y-1)\n",
    "                and self.tower.check(self.x+1, self.y-1)\n",
    "                and self.tower.check(self.x+2, self.y-1))\n",
    "    def pixels(self):\n",
    "        return [ [self.x, self.y], [self.x+1, self.y], [self.x+2, self.y], [self.x+2, self.y+1], [self.x+2, self.y+2] ]\n",
    "\n",
    "class Pipe(Block):\n",
    "    # refpoint is bottom-left (empty space)\n",
    "    def __init__(self, x, y, tower):\n",
    "        self.x = x\n",
    "        self.y = y\n",
    "        self.tower = tower\n",
    "        self.type = \"Pipe\"\n",
    "        self.height = 4\n",
    "        self.char = \"D\"\n",
    "\n",
    "\n",
    "    def check_right(self):\n",
    "        return (self.tower.check(self.x+1, self.y)\n",
    "                and self.tower.check(self.x+1, self.y+1)\n",
    "                and self.tower.check(self.x+1, self.y+2)\n",
    "                and self.tower.check(self.x+1, self.y+3))\n",
    "    def check_left(self):\n",
    "        return (self.tower.check(self.x-1, self.y)\n",
    "                and self.tower.check(self.x-1, self.y+1)\n",
    "                and self.tower.check(self.x-1, self.y+2)\n",
    "                and self.tower.check(self.x-1, self.y+3))\n",
    "    def check_down(self):\n",
    "        return self.tower.check(self.x, self.y-1)\n",
    "    def pixels(self):\n",
    "        return [ [self.x, self.y], [self.x, self.y+1], [self.x, self.y+2], [self.x, self.y+3] ]\n",
    "\n",
    "class Tuba(Block): # Two-buh-two\n",
    "    # refpoint is bottom-left (empty space)\n",
    "    def __init__(self, x, y, tower):\n",
    "        self.x = x\n",
    "        self.y = y\n",
    "        self.tower = tower\n",
    "        self.type = \"Tuba\"\n",
    "        self.height = 2\n",
    "        self.char = \"E\"\n",
    "\n",
    "\n",
    "    def check_right(self):\n",
    "        return (self.tower.check(self.x+2, self.y)\n",
    "                and self.tower.check(self.x+2, self.y+1))\n",
    "    def check_left(self):\n",
    "        return (self.tower.check(self.x-1, self.y)\n",
    "                and self.tower.check(self.x-1, self.y+1))\n",
    "    def check_down(self):\n",
    "        return (self.tower.check(self.x, self.y-1)\n",
    "                and self.tower.check(self.x+1, self.y-1))\n",
    "    def pixels(self):\n",
    "        return [ [self.x, self.y], [self.x+1, self.y], [self.x, self.y+1], [self.x+1, self.y+1] ]\n"
   ]
  },
  {
   "cell_type": "code",
   "execution_count": 5,
   "metadata": {},
   "outputs": [],
   "source": [
    "def play_game( tower, until=2023, verbose=0 ):\n",
    "    while tower.block_count < until:\n",
    "        #print(tower.jets[tower.jet_pos], tower.block.type)\n",
    "        if verbose >= 2:\n",
    "            print(\"\\n\", tower.jets[tower.jet_pos], tower.block.type)\n",
    "        tower.gust()\n",
    "        if verbose >= 4:\n",
    "            print(tower)\n",
    "        success = tower.drop()\n",
    "        if (not success and verbose >=1) or verbose >= 3:\n",
    "            print(\"\\n\", tower, \"\\n\", sep=\"\")"
   ]
  },
  {
   "cell_type": "markdown",
   "metadata": {},
   "source": [
    "### Part 1"
   ]
  },
  {
   "cell_type": "code",
   "execution_count": 6,
   "metadata": {},
   "outputs": [
    {
     "name": "stdout",
     "output_type": "stream",
     "text": [
      "3068\n"
     ]
    }
   ],
   "source": [
    "test_tower = Tower(test)\n",
    "play_game(test_tower, 2023)\n",
    "true_ans = test_tower.height + test_tower.banked_height\n",
    "print(true_ans)"
   ]
  },
  {
   "cell_type": "code",
   "execution_count": 7,
   "metadata": {},
   "outputs": [
    {
     "name": "stdout",
     "output_type": "stream",
     "text": [
      "Flat line: 136\n",
      "3181\n"
     ]
    }
   ],
   "source": [
    "puz_tower = Tower(puz, )\n",
    "play_game(puz_tower, 2023)\n",
    "part1 = puz_tower.height + puz_tower.banked_height\n",
    "print(part1)"
   ]
  },
  {
   "cell_type": "code",
   "execution_count": 124,
   "metadata": {},
   "outputs": [
    {
     "name": "stdout",
     "output_type": "stream",
     "text": [
      "50 785238\n",
      "100 785238\n",
      "200 785238\n",
      "500 785238\n",
      "1000 785238\n"
     ]
    }
   ],
   "source": [
    "# 50 rows appears to be enough memory ---\n",
    "# but then we have C*2^50 maps to memoize :(\n",
    "for i in [50,100,200,500,1000]:\n",
    "    puz_tower = Tower(puz, retain_rows=i)\n",
    "    play_game(puz_tower, 500000)\n",
    "    ans = puz_tower.height + puz_tower.banked_height\n",
    "    print(i, ans)"
   ]
  },
  {
   "cell_type": "code",
   "execution_count": 127,
   "metadata": {},
   "outputs": [
    {
     "name": "stdout",
     "output_type": "stream",
     "text": [
      "Flat line: 136\n",
      "1570454\n"
     ]
    }
   ],
   "source": [
    "# Flat lines are too rare to memoize based on that...\n",
    "puz_tower = Tower(puz, retain_rows=50)\n",
    "play_game(puz_tower, 1000000)\n",
    "ans = puz_tower.height + puz_tower.banked_height\n",
    "print(ans)"
   ]
  },
  {
   "cell_type": "code",
   "execution_count": 8,
   "metadata": {},
   "outputs": [
    {
     "data": {
      "text/plain": [
       "(1570454000000, 1514285714288)"
      ]
     },
     "execution_count": 8,
     "metadata": {},
     "output_type": "execute_result"
    }
   ],
   "source": [
    "1570454*1000000, 1514285714288"
   ]
  },
  {
   "cell_type": "code",
   "execution_count": null,
   "metadata": {},
   "outputs": [],
   "source": []
  },
  {
   "cell_type": "code",
   "execution_count": null,
   "metadata": {},
   "outputs": [],
   "source": []
  },
  {
   "cell_type": "code",
   "execution_count": null,
   "metadata": {},
   "outputs": [],
   "source": []
  },
  {
   "cell_type": "code",
   "execution_count": null,
   "metadata": {},
   "outputs": [],
   "source": []
  },
  {
   "cell_type": "code",
   "execution_count": 37,
   "metadata": {},
   "outputs": [
    {
     "ename": "KeyboardInterrupt",
     "evalue": "",
     "output_type": "error",
     "traceback": [
      "\u001b[1;31m---------------------------------------------------------------------------\u001b[0m",
      "\u001b[1;31mKeyboardInterrupt\u001b[0m                         Traceback (most recent call last)",
      "\u001b[1;32m<ipython-input-37-7d3c71c9a4ac>\u001b[0m in \u001b[0;36m<module>\u001b[1;34m\u001b[0m\n\u001b[0;32m      1\u001b[0m \u001b[0mtest_tower\u001b[0m \u001b[1;33m=\u001b[0m \u001b[0mTower\u001b[0m\u001b[1;33m(\u001b[0m\u001b[0mtest\u001b[0m\u001b[1;33m)\u001b[0m\u001b[1;33m\u001b[0m\u001b[1;33m\u001b[0m\u001b[0m\n\u001b[1;32m----> 2\u001b[1;33m \u001b[0mplay_game\u001b[0m\u001b[1;33m(\u001b[0m\u001b[0mtest_tower\u001b[0m\u001b[1;33m,\u001b[0m \u001b[1;36m1000000000000\u001b[0m\u001b[1;33m)\u001b[0m\u001b[1;33m\u001b[0m\u001b[1;33m\u001b[0m\u001b[0m\n\u001b[0m\u001b[0;32m      3\u001b[0m \u001b[0mprint\u001b[0m\u001b[1;33m(\u001b[0m\u001b[0mtest_tower\u001b[0m\u001b[1;33m.\u001b[0m\u001b[0mheight\u001b[0m \u001b[1;33m+\u001b[0m \u001b[0mtest_tower\u001b[0m\u001b[1;33m.\u001b[0m\u001b[0mbanked_height\u001b[0m\u001b[1;33m)\u001b[0m\u001b[1;33m\u001b[0m\u001b[1;33m\u001b[0m\u001b[0m\n",
      "\u001b[1;32m<ipython-input-29-814c89a87cb2>\u001b[0m in \u001b[0;36mplay_game\u001b[1;34m(tower, until, verbose)\u001b[0m\n\u001b[0;32m      7\u001b[0m         \u001b[1;32mif\u001b[0m \u001b[0mverbose\u001b[0m \u001b[1;33m>=\u001b[0m \u001b[1;36m4\u001b[0m\u001b[1;33m:\u001b[0m\u001b[1;33m\u001b[0m\u001b[1;33m\u001b[0m\u001b[0m\n\u001b[0;32m      8\u001b[0m             \u001b[0mprint\u001b[0m\u001b[1;33m(\u001b[0m\u001b[0mtower\u001b[0m\u001b[1;33m)\u001b[0m\u001b[1;33m\u001b[0m\u001b[1;33m\u001b[0m\u001b[0m\n\u001b[1;32m----> 9\u001b[1;33m         \u001b[0msuccess\u001b[0m \u001b[1;33m=\u001b[0m \u001b[0mtower\u001b[0m\u001b[1;33m.\u001b[0m\u001b[0mdrop\u001b[0m\u001b[1;33m(\u001b[0m\u001b[1;33m)\u001b[0m\u001b[1;33m\u001b[0m\u001b[1;33m\u001b[0m\u001b[0m\n\u001b[0m\u001b[0;32m     10\u001b[0m         \u001b[1;32mif\u001b[0m \u001b[1;33m(\u001b[0m\u001b[1;32mnot\u001b[0m \u001b[0msuccess\u001b[0m \u001b[1;32mand\u001b[0m \u001b[0mverbose\u001b[0m \u001b[1;33m>=\u001b[0m\u001b[1;36m1\u001b[0m\u001b[1;33m)\u001b[0m \u001b[1;32mor\u001b[0m \u001b[0mverbose\u001b[0m \u001b[1;33m>=\u001b[0m \u001b[1;36m3\u001b[0m\u001b[1;33m:\u001b[0m\u001b[1;33m\u001b[0m\u001b[1;33m\u001b[0m\u001b[0m\n\u001b[0;32m     11\u001b[0m             \u001b[0mprint\u001b[0m\u001b[1;33m(\u001b[0m\u001b[1;34m\"\\n\"\u001b[0m\u001b[1;33m,\u001b[0m \u001b[0mtower\u001b[0m\u001b[1;33m,\u001b[0m \u001b[1;34m\"\\n\"\u001b[0m\u001b[1;33m,\u001b[0m \u001b[0msep\u001b[0m\u001b[1;33m=\u001b[0m\u001b[1;34m\"\"\u001b[0m\u001b[1;33m)\u001b[0m\u001b[1;33m\u001b[0m\u001b[1;33m\u001b[0m\u001b[0m\n",
      "\u001b[1;32m<ipython-input-32-473c6658787d>\u001b[0m in \u001b[0;36mdrop\u001b[1;34m(self)\u001b[0m\n\u001b[0;32m    122\u001b[0m             \u001b[0mpixels\u001b[0m \u001b[1;33m=\u001b[0m \u001b[0mself\u001b[0m\u001b[1;33m.\u001b[0m\u001b[0mblock\u001b[0m\u001b[1;33m.\u001b[0m\u001b[0mpixels\u001b[0m\u001b[1;33m(\u001b[0m\u001b[1;33m)\u001b[0m\u001b[1;33m\u001b[0m\u001b[1;33m\u001b[0m\u001b[0m\n\u001b[0;32m    123\u001b[0m             \u001b[1;32mfor\u001b[0m \u001b[0mxy\u001b[0m \u001b[1;32min\u001b[0m \u001b[0mpixels\u001b[0m\u001b[1;33m:\u001b[0m\u001b[1;33m\u001b[0m\u001b[1;33m\u001b[0m\u001b[0m\n\u001b[1;32m--> 124\u001b[1;33m                 \u001b[0mself\u001b[0m\u001b[1;33m.\u001b[0m\u001b[0msolidify\u001b[0m\u001b[1;33m(\u001b[0m\u001b[0mxy\u001b[0m\u001b[1;33m[\u001b[0m\u001b[1;36m0\u001b[0m\u001b[1;33m]\u001b[0m\u001b[1;33m,\u001b[0m \u001b[0mxy\u001b[0m\u001b[1;33m[\u001b[0m\u001b[1;36m1\u001b[0m\u001b[1;33m]\u001b[0m\u001b[1;33m,\u001b[0m \u001b[0mself\u001b[0m\u001b[1;33m.\u001b[0m\u001b[0mblock\u001b[0m\u001b[1;33m.\u001b[0m\u001b[0mchar\u001b[0m\u001b[1;33m)\u001b[0m\u001b[1;33m\u001b[0m\u001b[1;33m\u001b[0m\u001b[0m\n\u001b[0m\u001b[0;32m    125\u001b[0m             \u001b[0mself\u001b[0m\u001b[1;33m.\u001b[0m\u001b[0mnew_block\u001b[0m\u001b[1;33m(\u001b[0m\u001b[1;33m)\u001b[0m\u001b[1;33m\u001b[0m\u001b[1;33m\u001b[0m\u001b[0m\n\u001b[0;32m    126\u001b[0m             \u001b[1;32mreturn\u001b[0m \u001b[1;32mFalse\u001b[0m\u001b[1;33m\u001b[0m\u001b[1;33m\u001b[0m\u001b[0m\n",
      "\u001b[1;32m<ipython-input-32-473c6658787d>\u001b[0m in \u001b[0;36msolidify\u001b[1;34m(self, x, y, char)\u001b[0m\n\u001b[0;32m    130\u001b[0m         \u001b[0mdy\u001b[0m \u001b[1;33m=\u001b[0m \u001b[0my\u001b[0m \u001b[1;33m-\u001b[0m \u001b[0mself\u001b[0m\u001b[1;33m.\u001b[0m\u001b[0mheight\u001b[0m\u001b[1;33m\u001b[0m\u001b[1;33m\u001b[0m\u001b[0m\n\u001b[0;32m    131\u001b[0m         \u001b[1;32mfor\u001b[0m \u001b[0mi\u001b[0m \u001b[1;32min\u001b[0m \u001b[0mrange\u001b[0m\u001b[1;33m(\u001b[0m\u001b[0mdy\u001b[0m\u001b[1;33m)\u001b[0m\u001b[1;33m:\u001b[0m\u001b[1;33m\u001b[0m\u001b[1;33m\u001b[0m\u001b[0m\n\u001b[1;32m--> 132\u001b[1;33m             \u001b[0mself\u001b[0m\u001b[1;33m.\u001b[0m\u001b[0mmap\u001b[0m \u001b[1;33m+=\u001b[0m \u001b[1;33m[\u001b[0m \u001b[1;33m[\u001b[0m\u001b[1;34m'.'\u001b[0m\u001b[1;33m]\u001b[0m\u001b[1;33m*\u001b[0m\u001b[0mself\u001b[0m\u001b[1;33m.\u001b[0m\u001b[0mwidth\u001b[0m \u001b[1;33m]\u001b[0m\u001b[1;33m\u001b[0m\u001b[1;33m\u001b[0m\u001b[0m\n\u001b[0m\u001b[0;32m    133\u001b[0m             \u001b[0mself\u001b[0m\u001b[1;33m.\u001b[0m\u001b[0mheight\u001b[0m \u001b[1;33m+=\u001b[0m \u001b[1;36m1\u001b[0m\u001b[1;33m\u001b[0m\u001b[1;33m\u001b[0m\u001b[0m\n\u001b[0;32m    134\u001b[0m \u001b[1;33m\u001b[0m\u001b[0m\n",
      "\u001b[1;31mKeyboardInterrupt\u001b[0m: "
     ]
    }
   ],
   "source": [
    "test_tower = Tower(test)\n",
    "play_game(test_tower, 1000000000000)\n",
    "print(test_tower.height + test_tower.banked_height)"
   ]
  },
  {
   "cell_type": "code",
   "execution_count": 38,
   "metadata": {},
   "outputs": [
    {
     "data": {
      "text/plain": [
       "(1736524, 575863.0459469607)"
      ]
     },
     "execution_count": 38,
     "metadata": {},
     "output_type": "execute_result"
    }
   ],
   "source": [
    "test_tower.block_count, 1000000000000/test_tower.block_count"
   ]
  },
  {
   "cell_type": "code",
   "execution_count": 39,
   "metadata": {},
   "outputs": [
    {
     "data": {
      "text/plain": [
       "9597.716666666667"
      ]
     },
     "execution_count": 39,
     "metadata": {},
     "output_type": "execute_result"
    }
   ],
   "source": [
    "575863/60"
   ]
  }
 ],
 "metadata": {
  "kernelspec": {
   "display_name": "base",
   "language": "python",
   "name": "python3"
  },
  "language_info": {
   "codemirror_mode": {
    "name": "ipython",
    "version": 3
   },
   "file_extension": ".py",
   "mimetype": "text/x-python",
   "name": "python",
   "nbconvert_exporter": "python",
   "pygments_lexer": "ipython3",
   "version": "3.7.3 (default, Mar 27 2019, 17:13:21) [MSC v.1915 64 bit (AMD64)]"
  },
  "orig_nbformat": 4,
  "vscode": {
   "interpreter": {
    "hash": "ad2bdc8ecc057115af97d19610ffacc2b4e99fae6737bb82f5d7fb13d2f2c186"
   }
  }
 },
 "nbformat": 4,
 "nbformat_minor": 2
}
