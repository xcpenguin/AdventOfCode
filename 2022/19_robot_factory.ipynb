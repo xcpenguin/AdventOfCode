{
 "cells": [
  {
   "cell_type": "markdown",
   "metadata": {},
   "source": [
    "# December 19, 2022\n",
    "https://adventofcode.com/2022/day/19"
   ]
  },
  {
   "cell_type": "code",
   "execution_count": null,
   "metadata": {},
   "outputs": [],
   "source": [
    "# 1267 too low"
   ]
  },
  {
   "cell_type": "code",
   "execution_count": 35,
   "metadata": {},
   "outputs": [],
   "source": [
    "from math import ceil\n",
    "import re"
   ]
  },
  {
   "cell_type": "code",
   "execution_count": null,
   "metadata": {},
   "outputs": [],
   "source": [
    "def create_blueprint( orebot, claybot, obsbot_ore, obsbot_clay, geobot_ore, geobot_obs ):\n",
    "    return {\n",
    "        'orebot': {'ore': orebot},\n",
    "        'claybot': {'ore': claybot},\n",
    "        'obsbot': {'ore': obsbot_ore, 'clay': obsbot_clay},\n",
    "        'geobot': {'ore': geobot_ore, 'obs': geobot_obs}\n",
    "        }\n",
    "\n",
    "test_bps = [\n",
    "    create_blueprint( 4, 2, 3,14,  2,7 ),\n",
    "    create_blueprint( 2, 3,  3,8, 3,12 )\n",
    "]"
   ]
  },
  {
   "cell_type": "code",
   "execution_count": 72,
   "metadata": {},
   "outputs": [],
   "source": [
    "fn = \"data/19.txt\"\n",
    "puz_bps = []\n",
    "\n",
    "with open(fn, \"r\") as file:\n",
    "    while True:\n",
    "        line = file.readline().strip(\"\\n\")\n",
    "        if not line:\n",
    "            break\n",
    "        ma = re.search( r\"\\d+.*(\\d+)\\D+(\\d+)\\D+(\\d+)\\D+(\\d+)\\D+(\\d+)\\D+(\\d+)\\D+\", line )\n",
    "        specs = []\n",
    "        for i in range(1,7):\n",
    "            specs.append(int(ma.group(i)))\n",
    "        puz_bps.append( create_blueprint( *specs ) ) "
   ]
  },
  {
   "cell_type": "code",
   "execution_count": 90,
   "metadata": {},
   "outputs": [
    {
     "name": "stdout",
     "output_type": "stream",
     "text": [
      "24\n"
     ]
    }
   ],
   "source": [
    "x = 12\n",
    "def tmp(y):\n",
    "    global x\n",
    "    x = x*y\n",
    "\n",
    "tmp(2)\n",
    "print(x)"
   ]
  },
  {
   "cell_type": "code",
   "execution_count": 91,
   "metadata": {},
   "outputs": [],
   "source": [
    "def robot_factory( time, bp, orebot=1, ore=0, claybot=0, clay=0, obsbot=0, obs=0 ):\n",
    "    '''This algo caps orebots at 3 so we don't waste time trying bad strats. This is not 100% guaranteed!'''\n",
    "\n",
    "    max_ore_bots = 6 # tune speed (low) vs. thoroughness (high)\n",
    "    global memo\n",
    "\n",
    "    if time < 1:\n",
    "        return 0\n",
    "    key = \".\".join([str(x) for x in [time,orebot,ore,claybot,clay,obsbot,obs]])\n",
    "    if key in memo:\n",
    "        return memo[key]\n",
    "\n",
    "   # print(time, orebot, ore, claybot, clay, obsbot, obs)\n",
    "\n",
    "    # Each branching point has four options: what to build next?\n",
    "    best = 0\n",
    "\n",
    "    ## Option 1: Build an Orebot ##\n",
    "    ore_req = bp['orebot']['ore']\n",
    "    ore_needed = max(ore_req-ore, 0)\n",
    "    time_needed = 1 + ceil( ore_needed / orebot ) # 1 time to build bot. ceil(.) may be 0 if we already have enough ore\n",
    "\n",
    "    # Is there enough time to make this orebot?\n",
    "    # using strict because we need time to make the robot and also time for it to do a thing\n",
    "    if orebot < max_ore_bots and time_needed < time:\n",
    "        # How much ore is gained while we wait?\n",
    "        # We may produce extra ore. e.g. if we need 1 but have 3 orebots.\n",
    "        # Actually, we always produce extra ore because the orebot continues collecting while we build\n",
    "        ore_gained = time_needed * orebot \n",
    "\n",
    "        # After waiting, we've gained some ore and spent some ore\n",
    "        ore_left = ore + ore_gained - ore_req\n",
    "        # We've also lost some time to collect ore and build the orebot\n",
    "        time_left = time - time_needed\n",
    "\n",
    "        # Plus we may gain other resources while we wait for ore\n",
    "        clay_left = clay + claybot * time_needed\n",
    "        obs_left = obs + obsbot * time_needed\n",
    "\n",
    "        # Iterate, but we have one more orebot, and a different amount of ore/clay/obs/time\n",
    "        gain = robot_factory( time_left, bp, orebot+1, ore_left, claybot, clay_left, obsbot, obs_left)\n",
    "        best = max( best, gain )\n",
    "\n",
    "    ## Option 2: Build a Claybot ##\n",
    "    ore_req = bp['claybot']['ore']\n",
    "    ore_needed = max(ore_req-ore, 0)\n",
    "    time_needed = 1 + ceil( ore_needed / orebot ) \n",
    "\n",
    "    if time_needed < time:\n",
    "        ore_gained = time_needed * orebot \n",
    "        ore_left = ore + ore_gained - ore_req\n",
    "        time_left = time - time_needed\n",
    "\n",
    "        clay_left = clay + claybot * time_needed\n",
    "        obs_left = obs + obsbot * time_needed\n",
    "\n",
    "        gain = robot_factory( time_left, bp,orebot, ore_left, claybot+1, clay_left, obsbot, obs_left )\n",
    "        best = max( best, gain )\n",
    "\n",
    "    ## Option 3: Build an Obsidianbot ##\n",
    "    if claybot > 0:\n",
    "        ore_req = bp['obsbot']['ore']\n",
    "        clay_req = bp['obsbot']['clay']\n",
    "\n",
    "        ore_needed = max(ore_req-ore, 0)\n",
    "        clay_needed = max(clay_req-clay, 0)\n",
    "\n",
    "        time_needed = 1 + max( ceil(ore_needed/orebot), ceil(clay_needed/claybot) )\n",
    "\n",
    "        if time_needed < time:\n",
    "            ore_left  =  ore + (time_needed *  orebot) -  ore_req\n",
    "            clay_left = clay + (time_needed * claybot) - clay_req\n",
    "            time_left = time - time_needed\n",
    "            obs_left = obs + obsbot * time_needed\n",
    "\n",
    "            gain = robot_factory( time_left, bp, orebot, ore_left, claybot, clay_left, obsbot+1, obs_left )\n",
    "            best = max(best, gain)\n",
    "\n",
    "    ## Option 4: Build a Geodebot ##\n",
    "    if obsbot > 0:\n",
    "        ore_req = bp['geobot']['ore']\n",
    "        obs_req = bp['geobot']['obs']\n",
    "\n",
    "        ore_needed = max(ore_req-ore, 0)\n",
    "        obs_needed = max(obs_req-obs, 0)\n",
    "\n",
    "        time_needed = 1 + max( ceil(ore_needed/orebot), ceil(obs_needed/obsbot) )\n",
    "\n",
    "        if time_needed < time:\n",
    "            ore_left = ore + (time_needed * orebot) - ore_req\n",
    "            obs_left = obs + (time_needed * obsbot) - obs_req\n",
    "            clay_left = clay + claybot * time_needed\n",
    "            time_left = time - time_needed\n",
    "\n",
    "            direct_gain = time_left # Gain 1 geode per time\n",
    "            gain = direct_gain + robot_factory( time_left, bp, orebot, ore_left, claybot, clay_left, obsbot, obs_left )\n",
    "            best = max(best, gain)\n",
    "\n",
    "    memo[key] = best\n",
    "    return best"
   ]
  },
  {
   "cell_type": "code",
   "execution_count": 93,
   "metadata": {},
   "outputs": [
    {
     "data": {
      "text/plain": [
       "9"
      ]
     },
     "execution_count": 93,
     "metadata": {},
     "output_type": "execute_result"
    }
   ],
   "source": [
    "memo = {}\n",
    "robot_factory(24, test_bps[0])"
   ]
  },
  {
   "cell_type": "code",
   "execution_count": 95,
   "metadata": {},
   "outputs": [
    {
     "data": {
      "text/plain": [
       "12"
      ]
     },
     "execution_count": 95,
     "metadata": {},
     "output_type": "execute_result"
    }
   ],
   "source": [
    "memo = {}\n",
    "robot_factory(24, test_bps[1])"
   ]
  },
  {
   "cell_type": "code",
   "execution_count": 83,
   "metadata": {},
   "outputs": [
    {
     "name": "stdout",
     "output_type": "stream",
     "text": [
      "4\n",
      "0\n",
      "12\n",
      "1\n",
      "0\n",
      "7\n",
      "3\n",
      "0\n",
      "1\n",
      "0\n",
      "9\n",
      "0\n",
      "1\n",
      "0\n",
      "2\n",
      "3\n",
      "12\n",
      "1\n",
      "2\n",
      "3\n",
      "13\n",
      "10\n",
      "2\n",
      "0\n",
      "1\n",
      "1\n",
      "2\n",
      "4\n",
      "0\n",
      "0\n"
     ]
    }
   ],
   "source": [
    "out = []\n",
    "# I think some of these bps don't let you get any geodes...\n",
    "for bp in puz_bps:\n",
    "    ans = robot_factory(24, bp)\n",
    "    print(ans)\n",
    "    out.append(ans)"
   ]
  },
  {
   "attachments": {},
   "cell_type": "markdown",
   "metadata": {},
   "source": [
    "With orebot capped at 3:\n",
    "'4, 0, 12, 0, 0, 7, 2, 0, 1, 0, 8, 0, 1, 0, 2, 3, 12, 1, 1, 3, 13, 10, 1, 0, 0, 0, 2, 4, 0, 0'\n",
    "\n",
    "With orebot capped at 6:\n",
    "'4, 0, 12, 1, 0, 7, 3, 0, 1, 0, 9, 0, 1, 0, 2, 3, 12, 1, 2, 3, 13, 10, 2, 0, 1, 1, 2, 4, 0, 0'"
   ]
  },
  {
   "cell_type": "code",
   "execution_count": null,
   "metadata": {},
   "outputs": [
    {
     "data": {
      "text/plain": [
       "1382"
      ]
     },
     "metadata": {},
     "output_type": "display_data"
    }
   ],
   "source": [
    "sum( [(i+1)*x for i,x in enumerate(out)] )"
   ]
  },
  {
   "cell_type": "markdown",
   "metadata": {},
   "source": [
    "### Part 2"
   ]
  },
  {
   "cell_type": "code",
   "execution_count": 97,
   "metadata": {},
   "outputs": [
    {
     "ename": "KeyboardInterrupt",
     "evalue": "",
     "output_type": "error",
     "traceback": [
      "\u001b[1;31m---------------------------------------------------------------------------\u001b[0m",
      "\u001b[1;31mKeyboardInterrupt\u001b[0m                         Traceback (most recent call last)",
      "\u001b[1;32m<ipython-input-97-1f12eb6a97f9>\u001b[0m in \u001b[0;36m<module>\u001b[1;34m\u001b[0m\n\u001b[0;32m      1\u001b[0m \u001b[0mmemo\u001b[0m \u001b[1;33m=\u001b[0m \u001b[1;33m{\u001b[0m\u001b[1;33m}\u001b[0m\u001b[1;33m\u001b[0m\u001b[1;33m\u001b[0m\u001b[0m\n\u001b[1;32m----> 2\u001b[1;33m \u001b[0mrobot_factory\u001b[0m\u001b[1;33m(\u001b[0m\u001b[1;36m32\u001b[0m\u001b[1;33m,\u001b[0m \u001b[0mtest_bps\u001b[0m\u001b[1;33m[\u001b[0m\u001b[1;36m0\u001b[0m\u001b[1;33m]\u001b[0m\u001b[1;33m)\u001b[0m\u001b[1;33m\u001b[0m\u001b[1;33m\u001b[0m\u001b[0m\n\u001b[0m",
      "\u001b[1;32m<ipython-input-91-4ac28100bc0a>\u001b[0m in \u001b[0;36mrobot_factory\u001b[1;34m(time, bp, orebot, ore, claybot, clay, obsbot, obs)\u001b[0m\n\u001b[0;32m     39\u001b[0m \u001b[1;33m\u001b[0m\u001b[0m\n\u001b[0;32m     40\u001b[0m         \u001b[1;31m# Iterate, but we have one more orebot, and a different amount of ore/clay/obs/time\u001b[0m\u001b[1;33m\u001b[0m\u001b[1;33m\u001b[0m\u001b[1;33m\u001b[0m\u001b[0m\n\u001b[1;32m---> 41\u001b[1;33m         \u001b[0mgain\u001b[0m \u001b[1;33m=\u001b[0m \u001b[0mrobot_factory\u001b[0m\u001b[1;33m(\u001b[0m \u001b[0mtime_left\u001b[0m\u001b[1;33m,\u001b[0m \u001b[0mbp\u001b[0m\u001b[1;33m,\u001b[0m \u001b[0morebot\u001b[0m\u001b[1;33m+\u001b[0m\u001b[1;36m1\u001b[0m\u001b[1;33m,\u001b[0m \u001b[0more_left\u001b[0m\u001b[1;33m,\u001b[0m \u001b[0mclaybot\u001b[0m\u001b[1;33m,\u001b[0m \u001b[0mclay_left\u001b[0m\u001b[1;33m,\u001b[0m \u001b[0mobsbot\u001b[0m\u001b[1;33m,\u001b[0m \u001b[0mobs_left\u001b[0m\u001b[1;33m)\u001b[0m\u001b[1;33m\u001b[0m\u001b[1;33m\u001b[0m\u001b[0m\n\u001b[0m\u001b[0;32m     42\u001b[0m         \u001b[0mbest\u001b[0m \u001b[1;33m=\u001b[0m \u001b[0mmax\u001b[0m\u001b[1;33m(\u001b[0m \u001b[0mbest\u001b[0m\u001b[1;33m,\u001b[0m \u001b[0mgain\u001b[0m \u001b[1;33m)\u001b[0m\u001b[1;33m\u001b[0m\u001b[1;33m\u001b[0m\u001b[0m\n\u001b[0;32m     43\u001b[0m \u001b[1;33m\u001b[0m\u001b[0m\n",
      "\u001b[1;32m<ipython-input-91-4ac28100bc0a>\u001b[0m in \u001b[0;36mrobot_factory\u001b[1;34m(time, bp, orebot, ore, claybot, clay, obsbot, obs)\u001b[0m\n\u001b[0;32m     55\u001b[0m         \u001b[0mobs_left\u001b[0m \u001b[1;33m=\u001b[0m \u001b[0mobs\u001b[0m \u001b[1;33m+\u001b[0m \u001b[0mobsbot\u001b[0m \u001b[1;33m*\u001b[0m \u001b[0mtime_needed\u001b[0m\u001b[1;33m\u001b[0m\u001b[1;33m\u001b[0m\u001b[0m\n\u001b[0;32m     56\u001b[0m \u001b[1;33m\u001b[0m\u001b[0m\n\u001b[1;32m---> 57\u001b[1;33m         \u001b[0mgain\u001b[0m \u001b[1;33m=\u001b[0m \u001b[0mrobot_factory\u001b[0m\u001b[1;33m(\u001b[0m \u001b[0mtime_left\u001b[0m\u001b[1;33m,\u001b[0m \u001b[0mbp\u001b[0m\u001b[1;33m,\u001b[0m\u001b[0morebot\u001b[0m\u001b[1;33m,\u001b[0m \u001b[0more_left\u001b[0m\u001b[1;33m,\u001b[0m \u001b[0mclaybot\u001b[0m\u001b[1;33m+\u001b[0m\u001b[1;36m1\u001b[0m\u001b[1;33m,\u001b[0m \u001b[0mclay_left\u001b[0m\u001b[1;33m,\u001b[0m \u001b[0mobsbot\u001b[0m\u001b[1;33m,\u001b[0m \u001b[0mobs_left\u001b[0m \u001b[1;33m)\u001b[0m\u001b[1;33m\u001b[0m\u001b[1;33m\u001b[0m\u001b[0m\n\u001b[0m\u001b[0;32m     58\u001b[0m         \u001b[0mbest\u001b[0m \u001b[1;33m=\u001b[0m \u001b[0mmax\u001b[0m\u001b[1;33m(\u001b[0m \u001b[0mbest\u001b[0m\u001b[1;33m,\u001b[0m \u001b[0mgain\u001b[0m \u001b[1;33m)\u001b[0m\u001b[1;33m\u001b[0m\u001b[1;33m\u001b[0m\u001b[0m\n\u001b[0;32m     59\u001b[0m \u001b[1;33m\u001b[0m\u001b[0m\n",
      "\u001b[1;32m<ipython-input-91-4ac28100bc0a>\u001b[0m in \u001b[0;36mrobot_factory\u001b[1;34m(time, bp, orebot, ore, claybot, clay, obsbot, obs)\u001b[0m\n\u001b[0;32m     55\u001b[0m         \u001b[0mobs_left\u001b[0m \u001b[1;33m=\u001b[0m \u001b[0mobs\u001b[0m \u001b[1;33m+\u001b[0m \u001b[0mobsbot\u001b[0m \u001b[1;33m*\u001b[0m \u001b[0mtime_needed\u001b[0m\u001b[1;33m\u001b[0m\u001b[1;33m\u001b[0m\u001b[0m\n\u001b[0;32m     56\u001b[0m \u001b[1;33m\u001b[0m\u001b[0m\n\u001b[1;32m---> 57\u001b[1;33m         \u001b[0mgain\u001b[0m \u001b[1;33m=\u001b[0m \u001b[0mrobot_factory\u001b[0m\u001b[1;33m(\u001b[0m \u001b[0mtime_left\u001b[0m\u001b[1;33m,\u001b[0m \u001b[0mbp\u001b[0m\u001b[1;33m,\u001b[0m\u001b[0morebot\u001b[0m\u001b[1;33m,\u001b[0m \u001b[0more_left\u001b[0m\u001b[1;33m,\u001b[0m \u001b[0mclaybot\u001b[0m\u001b[1;33m+\u001b[0m\u001b[1;36m1\u001b[0m\u001b[1;33m,\u001b[0m \u001b[0mclay_left\u001b[0m\u001b[1;33m,\u001b[0m \u001b[0mobsbot\u001b[0m\u001b[1;33m,\u001b[0m \u001b[0mobs_left\u001b[0m \u001b[1;33m)\u001b[0m\u001b[1;33m\u001b[0m\u001b[1;33m\u001b[0m\u001b[0m\n\u001b[0m\u001b[0;32m     58\u001b[0m         \u001b[0mbest\u001b[0m \u001b[1;33m=\u001b[0m \u001b[0mmax\u001b[0m\u001b[1;33m(\u001b[0m \u001b[0mbest\u001b[0m\u001b[1;33m,\u001b[0m \u001b[0mgain\u001b[0m \u001b[1;33m)\u001b[0m\u001b[1;33m\u001b[0m\u001b[1;33m\u001b[0m\u001b[0m\n\u001b[0;32m     59\u001b[0m \u001b[1;33m\u001b[0m\u001b[0m\n",
      "\u001b[1;32m<ipython-input-91-4ac28100bc0a>\u001b[0m in \u001b[0;36mrobot_factory\u001b[1;34m(time, bp, orebot, ore, claybot, clay, obsbot, obs)\u001b[0m\n\u001b[0;32m     55\u001b[0m         \u001b[0mobs_left\u001b[0m \u001b[1;33m=\u001b[0m \u001b[0mobs\u001b[0m \u001b[1;33m+\u001b[0m \u001b[0mobsbot\u001b[0m \u001b[1;33m*\u001b[0m \u001b[0mtime_needed\u001b[0m\u001b[1;33m\u001b[0m\u001b[1;33m\u001b[0m\u001b[0m\n\u001b[0;32m     56\u001b[0m \u001b[1;33m\u001b[0m\u001b[0m\n\u001b[1;32m---> 57\u001b[1;33m         \u001b[0mgain\u001b[0m \u001b[1;33m=\u001b[0m \u001b[0mrobot_factory\u001b[0m\u001b[1;33m(\u001b[0m \u001b[0mtime_left\u001b[0m\u001b[1;33m,\u001b[0m \u001b[0mbp\u001b[0m\u001b[1;33m,\u001b[0m\u001b[0morebot\u001b[0m\u001b[1;33m,\u001b[0m \u001b[0more_left\u001b[0m\u001b[1;33m,\u001b[0m \u001b[0mclaybot\u001b[0m\u001b[1;33m+\u001b[0m\u001b[1;36m1\u001b[0m\u001b[1;33m,\u001b[0m \u001b[0mclay_left\u001b[0m\u001b[1;33m,\u001b[0m \u001b[0mobsbot\u001b[0m\u001b[1;33m,\u001b[0m \u001b[0mobs_left\u001b[0m \u001b[1;33m)\u001b[0m\u001b[1;33m\u001b[0m\u001b[1;33m\u001b[0m\u001b[0m\n\u001b[0m\u001b[0;32m     58\u001b[0m         \u001b[0mbest\u001b[0m \u001b[1;33m=\u001b[0m \u001b[0mmax\u001b[0m\u001b[1;33m(\u001b[0m \u001b[0mbest\u001b[0m\u001b[1;33m,\u001b[0m \u001b[0mgain\u001b[0m \u001b[1;33m)\u001b[0m\u001b[1;33m\u001b[0m\u001b[1;33m\u001b[0m\u001b[0m\n\u001b[0;32m     59\u001b[0m \u001b[1;33m\u001b[0m\u001b[0m\n",
      "\u001b[1;32m<ipython-input-91-4ac28100bc0a>\u001b[0m in \u001b[0;36mrobot_factory\u001b[1;34m(time, bp, orebot, ore, claybot, clay, obsbot, obs)\u001b[0m\n\u001b[0;32m     39\u001b[0m \u001b[1;33m\u001b[0m\u001b[0m\n\u001b[0;32m     40\u001b[0m         \u001b[1;31m# Iterate, but we have one more orebot, and a different amount of ore/clay/obs/time\u001b[0m\u001b[1;33m\u001b[0m\u001b[1;33m\u001b[0m\u001b[1;33m\u001b[0m\u001b[0m\n\u001b[1;32m---> 41\u001b[1;33m         \u001b[0mgain\u001b[0m \u001b[1;33m=\u001b[0m \u001b[0mrobot_factory\u001b[0m\u001b[1;33m(\u001b[0m \u001b[0mtime_left\u001b[0m\u001b[1;33m,\u001b[0m \u001b[0mbp\u001b[0m\u001b[1;33m,\u001b[0m \u001b[0morebot\u001b[0m\u001b[1;33m+\u001b[0m\u001b[1;36m1\u001b[0m\u001b[1;33m,\u001b[0m \u001b[0more_left\u001b[0m\u001b[1;33m,\u001b[0m \u001b[0mclaybot\u001b[0m\u001b[1;33m,\u001b[0m \u001b[0mclay_left\u001b[0m\u001b[1;33m,\u001b[0m \u001b[0mobsbot\u001b[0m\u001b[1;33m,\u001b[0m \u001b[0mobs_left\u001b[0m\u001b[1;33m)\u001b[0m\u001b[1;33m\u001b[0m\u001b[1;33m\u001b[0m\u001b[0m\n\u001b[0m\u001b[0;32m     42\u001b[0m         \u001b[0mbest\u001b[0m \u001b[1;33m=\u001b[0m \u001b[0mmax\u001b[0m\u001b[1;33m(\u001b[0m \u001b[0mbest\u001b[0m\u001b[1;33m,\u001b[0m \u001b[0mgain\u001b[0m \u001b[1;33m)\u001b[0m\u001b[1;33m\u001b[0m\u001b[1;33m\u001b[0m\u001b[0m\n\u001b[0;32m     43\u001b[0m \u001b[1;33m\u001b[0m\u001b[0m\n",
      "\u001b[1;32m<ipython-input-91-4ac28100bc0a>\u001b[0m in \u001b[0;36mrobot_factory\u001b[1;34m(time, bp, orebot, ore, claybot, clay, obsbot, obs)\u001b[0m\n\u001b[0;32m     55\u001b[0m         \u001b[0mobs_left\u001b[0m \u001b[1;33m=\u001b[0m \u001b[0mobs\u001b[0m \u001b[1;33m+\u001b[0m \u001b[0mobsbot\u001b[0m \u001b[1;33m*\u001b[0m \u001b[0mtime_needed\u001b[0m\u001b[1;33m\u001b[0m\u001b[1;33m\u001b[0m\u001b[0m\n\u001b[0;32m     56\u001b[0m \u001b[1;33m\u001b[0m\u001b[0m\n\u001b[1;32m---> 57\u001b[1;33m         \u001b[0mgain\u001b[0m \u001b[1;33m=\u001b[0m \u001b[0mrobot_factory\u001b[0m\u001b[1;33m(\u001b[0m \u001b[0mtime_left\u001b[0m\u001b[1;33m,\u001b[0m \u001b[0mbp\u001b[0m\u001b[1;33m,\u001b[0m\u001b[0morebot\u001b[0m\u001b[1;33m,\u001b[0m \u001b[0more_left\u001b[0m\u001b[1;33m,\u001b[0m \u001b[0mclaybot\u001b[0m\u001b[1;33m+\u001b[0m\u001b[1;36m1\u001b[0m\u001b[1;33m,\u001b[0m \u001b[0mclay_left\u001b[0m\u001b[1;33m,\u001b[0m \u001b[0mobsbot\u001b[0m\u001b[1;33m,\u001b[0m \u001b[0mobs_left\u001b[0m \u001b[1;33m)\u001b[0m\u001b[1;33m\u001b[0m\u001b[1;33m\u001b[0m\u001b[0m\n\u001b[0m\u001b[0;32m     58\u001b[0m         \u001b[0mbest\u001b[0m \u001b[1;33m=\u001b[0m \u001b[0mmax\u001b[0m\u001b[1;33m(\u001b[0m \u001b[0mbest\u001b[0m\u001b[1;33m,\u001b[0m \u001b[0mgain\u001b[0m \u001b[1;33m)\u001b[0m\u001b[1;33m\u001b[0m\u001b[1;33m\u001b[0m\u001b[0m\n\u001b[0;32m     59\u001b[0m \u001b[1;33m\u001b[0m\u001b[0m\n",
      "\u001b[1;32m<ipython-input-91-4ac28100bc0a>\u001b[0m in \u001b[0;36mrobot_factory\u001b[1;34m(time, bp, orebot, ore, claybot, clay, obsbot, obs)\u001b[0m\n\u001b[0;32m     55\u001b[0m         \u001b[0mobs_left\u001b[0m \u001b[1;33m=\u001b[0m \u001b[0mobs\u001b[0m \u001b[1;33m+\u001b[0m \u001b[0mobsbot\u001b[0m \u001b[1;33m*\u001b[0m \u001b[0mtime_needed\u001b[0m\u001b[1;33m\u001b[0m\u001b[1;33m\u001b[0m\u001b[0m\n\u001b[0;32m     56\u001b[0m \u001b[1;33m\u001b[0m\u001b[0m\n\u001b[1;32m---> 57\u001b[1;33m         \u001b[0mgain\u001b[0m \u001b[1;33m=\u001b[0m \u001b[0mrobot_factory\u001b[0m\u001b[1;33m(\u001b[0m \u001b[0mtime_left\u001b[0m\u001b[1;33m,\u001b[0m \u001b[0mbp\u001b[0m\u001b[1;33m,\u001b[0m\u001b[0morebot\u001b[0m\u001b[1;33m,\u001b[0m \u001b[0more_left\u001b[0m\u001b[1;33m,\u001b[0m \u001b[0mclaybot\u001b[0m\u001b[1;33m+\u001b[0m\u001b[1;36m1\u001b[0m\u001b[1;33m,\u001b[0m \u001b[0mclay_left\u001b[0m\u001b[1;33m,\u001b[0m \u001b[0mobsbot\u001b[0m\u001b[1;33m,\u001b[0m \u001b[0mobs_left\u001b[0m \u001b[1;33m)\u001b[0m\u001b[1;33m\u001b[0m\u001b[1;33m\u001b[0m\u001b[0m\n\u001b[0m\u001b[0;32m     58\u001b[0m         \u001b[0mbest\u001b[0m \u001b[1;33m=\u001b[0m \u001b[0mmax\u001b[0m\u001b[1;33m(\u001b[0m \u001b[0mbest\u001b[0m\u001b[1;33m,\u001b[0m \u001b[0mgain\u001b[0m \u001b[1;33m)\u001b[0m\u001b[1;33m\u001b[0m\u001b[1;33m\u001b[0m\u001b[0m\n\u001b[0;32m     59\u001b[0m \u001b[1;33m\u001b[0m\u001b[0m\n",
      "\u001b[1;32m<ipython-input-91-4ac28100bc0a>\u001b[0m in \u001b[0;36mrobot_factory\u001b[1;34m(time, bp, orebot, ore, claybot, clay, obsbot, obs)\u001b[0m\n\u001b[0;32m     55\u001b[0m         \u001b[0mobs_left\u001b[0m \u001b[1;33m=\u001b[0m \u001b[0mobs\u001b[0m \u001b[1;33m+\u001b[0m \u001b[0mobsbot\u001b[0m \u001b[1;33m*\u001b[0m \u001b[0mtime_needed\u001b[0m\u001b[1;33m\u001b[0m\u001b[1;33m\u001b[0m\u001b[0m\n\u001b[0;32m     56\u001b[0m \u001b[1;33m\u001b[0m\u001b[0m\n\u001b[1;32m---> 57\u001b[1;33m         \u001b[0mgain\u001b[0m \u001b[1;33m=\u001b[0m \u001b[0mrobot_factory\u001b[0m\u001b[1;33m(\u001b[0m \u001b[0mtime_left\u001b[0m\u001b[1;33m,\u001b[0m \u001b[0mbp\u001b[0m\u001b[1;33m,\u001b[0m\u001b[0morebot\u001b[0m\u001b[1;33m,\u001b[0m \u001b[0more_left\u001b[0m\u001b[1;33m,\u001b[0m \u001b[0mclaybot\u001b[0m\u001b[1;33m+\u001b[0m\u001b[1;36m1\u001b[0m\u001b[1;33m,\u001b[0m \u001b[0mclay_left\u001b[0m\u001b[1;33m,\u001b[0m \u001b[0mobsbot\u001b[0m\u001b[1;33m,\u001b[0m \u001b[0mobs_left\u001b[0m \u001b[1;33m)\u001b[0m\u001b[1;33m\u001b[0m\u001b[1;33m\u001b[0m\u001b[0m\n\u001b[0m\u001b[0;32m     58\u001b[0m         \u001b[0mbest\u001b[0m \u001b[1;33m=\u001b[0m \u001b[0mmax\u001b[0m\u001b[1;33m(\u001b[0m \u001b[0mbest\u001b[0m\u001b[1;33m,\u001b[0m \u001b[0mgain\u001b[0m \u001b[1;33m)\u001b[0m\u001b[1;33m\u001b[0m\u001b[1;33m\u001b[0m\u001b[0m\n\u001b[0;32m     59\u001b[0m \u001b[1;33m\u001b[0m\u001b[0m\n",
      "\u001b[1;32m<ipython-input-91-4ac28100bc0a>\u001b[0m in \u001b[0;36mrobot_factory\u001b[1;34m(time, bp, orebot, ore, claybot, clay, obsbot, obs)\u001b[0m\n\u001b[0;32m     55\u001b[0m         \u001b[0mobs_left\u001b[0m \u001b[1;33m=\u001b[0m \u001b[0mobs\u001b[0m \u001b[1;33m+\u001b[0m \u001b[0mobsbot\u001b[0m \u001b[1;33m*\u001b[0m \u001b[0mtime_needed\u001b[0m\u001b[1;33m\u001b[0m\u001b[1;33m\u001b[0m\u001b[0m\n\u001b[0;32m     56\u001b[0m \u001b[1;33m\u001b[0m\u001b[0m\n\u001b[1;32m---> 57\u001b[1;33m         \u001b[0mgain\u001b[0m \u001b[1;33m=\u001b[0m \u001b[0mrobot_factory\u001b[0m\u001b[1;33m(\u001b[0m \u001b[0mtime_left\u001b[0m\u001b[1;33m,\u001b[0m \u001b[0mbp\u001b[0m\u001b[1;33m,\u001b[0m\u001b[0morebot\u001b[0m\u001b[1;33m,\u001b[0m \u001b[0more_left\u001b[0m\u001b[1;33m,\u001b[0m \u001b[0mclaybot\u001b[0m\u001b[1;33m+\u001b[0m\u001b[1;36m1\u001b[0m\u001b[1;33m,\u001b[0m \u001b[0mclay_left\u001b[0m\u001b[1;33m,\u001b[0m \u001b[0mobsbot\u001b[0m\u001b[1;33m,\u001b[0m \u001b[0mobs_left\u001b[0m \u001b[1;33m)\u001b[0m\u001b[1;33m\u001b[0m\u001b[1;33m\u001b[0m\u001b[0m\n\u001b[0m\u001b[0;32m     58\u001b[0m         \u001b[0mbest\u001b[0m \u001b[1;33m=\u001b[0m \u001b[0mmax\u001b[0m\u001b[1;33m(\u001b[0m \u001b[0mbest\u001b[0m\u001b[1;33m,\u001b[0m \u001b[0mgain\u001b[0m \u001b[1;33m)\u001b[0m\u001b[1;33m\u001b[0m\u001b[1;33m\u001b[0m\u001b[0m\n\u001b[0;32m     59\u001b[0m \u001b[1;33m\u001b[0m\u001b[0m\n",
      "\u001b[1;32m<ipython-input-91-4ac28100bc0a>\u001b[0m in \u001b[0;36mrobot_factory\u001b[1;34m(time, bp, orebot, ore, claybot, clay, obsbot, obs)\u001b[0m\n\u001b[0;32m     55\u001b[0m         \u001b[0mobs_left\u001b[0m \u001b[1;33m=\u001b[0m \u001b[0mobs\u001b[0m \u001b[1;33m+\u001b[0m \u001b[0mobsbot\u001b[0m \u001b[1;33m*\u001b[0m \u001b[0mtime_needed\u001b[0m\u001b[1;33m\u001b[0m\u001b[1;33m\u001b[0m\u001b[0m\n\u001b[0;32m     56\u001b[0m \u001b[1;33m\u001b[0m\u001b[0m\n\u001b[1;32m---> 57\u001b[1;33m         \u001b[0mgain\u001b[0m \u001b[1;33m=\u001b[0m \u001b[0mrobot_factory\u001b[0m\u001b[1;33m(\u001b[0m \u001b[0mtime_left\u001b[0m\u001b[1;33m,\u001b[0m \u001b[0mbp\u001b[0m\u001b[1;33m,\u001b[0m\u001b[0morebot\u001b[0m\u001b[1;33m,\u001b[0m \u001b[0more_left\u001b[0m\u001b[1;33m,\u001b[0m \u001b[0mclaybot\u001b[0m\u001b[1;33m+\u001b[0m\u001b[1;36m1\u001b[0m\u001b[1;33m,\u001b[0m \u001b[0mclay_left\u001b[0m\u001b[1;33m,\u001b[0m \u001b[0mobsbot\u001b[0m\u001b[1;33m,\u001b[0m \u001b[0mobs_left\u001b[0m \u001b[1;33m)\u001b[0m\u001b[1;33m\u001b[0m\u001b[1;33m\u001b[0m\u001b[0m\n\u001b[0m\u001b[0;32m     58\u001b[0m         \u001b[0mbest\u001b[0m \u001b[1;33m=\u001b[0m \u001b[0mmax\u001b[0m\u001b[1;33m(\u001b[0m \u001b[0mbest\u001b[0m\u001b[1;33m,\u001b[0m \u001b[0mgain\u001b[0m \u001b[1;33m)\u001b[0m\u001b[1;33m\u001b[0m\u001b[1;33m\u001b[0m\u001b[0m\n\u001b[0;32m     59\u001b[0m \u001b[1;33m\u001b[0m\u001b[0m\n",
      "\u001b[1;32m<ipython-input-91-4ac28100bc0a>\u001b[0m in \u001b[0;36mrobot_factory\u001b[1;34m(time, bp, orebot, ore, claybot, clay, obsbot, obs)\u001b[0m\n\u001b[0;32m     74\u001b[0m             \u001b[0mobs_left\u001b[0m \u001b[1;33m=\u001b[0m \u001b[0mobs\u001b[0m \u001b[1;33m+\u001b[0m \u001b[0mobsbot\u001b[0m \u001b[1;33m*\u001b[0m \u001b[0mtime_needed\u001b[0m\u001b[1;33m\u001b[0m\u001b[1;33m\u001b[0m\u001b[0m\n\u001b[0;32m     75\u001b[0m \u001b[1;33m\u001b[0m\u001b[0m\n\u001b[1;32m---> 76\u001b[1;33m             \u001b[0mgain\u001b[0m \u001b[1;33m=\u001b[0m \u001b[0mrobot_factory\u001b[0m\u001b[1;33m(\u001b[0m \u001b[0mtime_left\u001b[0m\u001b[1;33m,\u001b[0m \u001b[0mbp\u001b[0m\u001b[1;33m,\u001b[0m \u001b[0morebot\u001b[0m\u001b[1;33m,\u001b[0m \u001b[0more_left\u001b[0m\u001b[1;33m,\u001b[0m \u001b[0mclaybot\u001b[0m\u001b[1;33m,\u001b[0m \u001b[0mclay_left\u001b[0m\u001b[1;33m,\u001b[0m \u001b[0mobsbot\u001b[0m\u001b[1;33m+\u001b[0m\u001b[1;36m1\u001b[0m\u001b[1;33m,\u001b[0m \u001b[0mobs_left\u001b[0m \u001b[1;33m)\u001b[0m\u001b[1;33m\u001b[0m\u001b[1;33m\u001b[0m\u001b[0m\n\u001b[0m\u001b[0;32m     77\u001b[0m             \u001b[0mbest\u001b[0m \u001b[1;33m=\u001b[0m \u001b[0mmax\u001b[0m\u001b[1;33m(\u001b[0m\u001b[0mbest\u001b[0m\u001b[1;33m,\u001b[0m \u001b[0mgain\u001b[0m\u001b[1;33m)\u001b[0m\u001b[1;33m\u001b[0m\u001b[1;33m\u001b[0m\u001b[0m\n\u001b[0;32m     78\u001b[0m \u001b[1;33m\u001b[0m\u001b[0m\n",
      "\u001b[1;32m<ipython-input-91-4ac28100bc0a>\u001b[0m in \u001b[0;36mrobot_factory\u001b[1;34m(time, bp, orebot, ore, claybot, clay, obsbot, obs)\u001b[0m\n\u001b[0;32m     39\u001b[0m \u001b[1;33m\u001b[0m\u001b[0m\n\u001b[0;32m     40\u001b[0m         \u001b[1;31m# Iterate, but we have one more orebot, and a different amount of ore/clay/obs/time\u001b[0m\u001b[1;33m\u001b[0m\u001b[1;33m\u001b[0m\u001b[1;33m\u001b[0m\u001b[0m\n\u001b[1;32m---> 41\u001b[1;33m         \u001b[0mgain\u001b[0m \u001b[1;33m=\u001b[0m \u001b[0mrobot_factory\u001b[0m\u001b[1;33m(\u001b[0m \u001b[0mtime_left\u001b[0m\u001b[1;33m,\u001b[0m \u001b[0mbp\u001b[0m\u001b[1;33m,\u001b[0m \u001b[0morebot\u001b[0m\u001b[1;33m+\u001b[0m\u001b[1;36m1\u001b[0m\u001b[1;33m,\u001b[0m \u001b[0more_left\u001b[0m\u001b[1;33m,\u001b[0m \u001b[0mclaybot\u001b[0m\u001b[1;33m,\u001b[0m \u001b[0mclay_left\u001b[0m\u001b[1;33m,\u001b[0m \u001b[0mobsbot\u001b[0m\u001b[1;33m,\u001b[0m \u001b[0mobs_left\u001b[0m\u001b[1;33m)\u001b[0m\u001b[1;33m\u001b[0m\u001b[1;33m\u001b[0m\u001b[0m\n\u001b[0m\u001b[0;32m     42\u001b[0m         \u001b[0mbest\u001b[0m \u001b[1;33m=\u001b[0m \u001b[0mmax\u001b[0m\u001b[1;33m(\u001b[0m \u001b[0mbest\u001b[0m\u001b[1;33m,\u001b[0m \u001b[0mgain\u001b[0m \u001b[1;33m)\u001b[0m\u001b[1;33m\u001b[0m\u001b[1;33m\u001b[0m\u001b[0m\n\u001b[0;32m     43\u001b[0m \u001b[1;33m\u001b[0m\u001b[0m\n",
      "\u001b[1;32m<ipython-input-91-4ac28100bc0a>\u001b[0m in \u001b[0;36mrobot_factory\u001b[1;34m(time, bp, orebot, ore, claybot, clay, obsbot, obs)\u001b[0m\n\u001b[0;32m     74\u001b[0m             \u001b[0mobs_left\u001b[0m \u001b[1;33m=\u001b[0m \u001b[0mobs\u001b[0m \u001b[1;33m+\u001b[0m \u001b[0mobsbot\u001b[0m \u001b[1;33m*\u001b[0m \u001b[0mtime_needed\u001b[0m\u001b[1;33m\u001b[0m\u001b[1;33m\u001b[0m\u001b[0m\n\u001b[0;32m     75\u001b[0m \u001b[1;33m\u001b[0m\u001b[0m\n\u001b[1;32m---> 76\u001b[1;33m             \u001b[0mgain\u001b[0m \u001b[1;33m=\u001b[0m \u001b[0mrobot_factory\u001b[0m\u001b[1;33m(\u001b[0m \u001b[0mtime_left\u001b[0m\u001b[1;33m,\u001b[0m \u001b[0mbp\u001b[0m\u001b[1;33m,\u001b[0m \u001b[0morebot\u001b[0m\u001b[1;33m,\u001b[0m \u001b[0more_left\u001b[0m\u001b[1;33m,\u001b[0m \u001b[0mclaybot\u001b[0m\u001b[1;33m,\u001b[0m \u001b[0mclay_left\u001b[0m\u001b[1;33m,\u001b[0m \u001b[0mobsbot\u001b[0m\u001b[1;33m+\u001b[0m\u001b[1;36m1\u001b[0m\u001b[1;33m,\u001b[0m \u001b[0mobs_left\u001b[0m \u001b[1;33m)\u001b[0m\u001b[1;33m\u001b[0m\u001b[1;33m\u001b[0m\u001b[0m\n\u001b[0m\u001b[0;32m     77\u001b[0m             \u001b[0mbest\u001b[0m \u001b[1;33m=\u001b[0m \u001b[0mmax\u001b[0m\u001b[1;33m(\u001b[0m\u001b[0mbest\u001b[0m\u001b[1;33m,\u001b[0m \u001b[0mgain\u001b[0m\u001b[1;33m)\u001b[0m\u001b[1;33m\u001b[0m\u001b[1;33m\u001b[0m\u001b[0m\n\u001b[0;32m     78\u001b[0m \u001b[1;33m\u001b[0m\u001b[0m\n",
      "\u001b[1;32m<ipython-input-91-4ac28100bc0a>\u001b[0m in \u001b[0;36mrobot_factory\u001b[1;34m(time, bp, orebot, ore, claybot, clay, obsbot, obs)\u001b[0m\n\u001b[0;32m     74\u001b[0m             \u001b[0mobs_left\u001b[0m \u001b[1;33m=\u001b[0m \u001b[0mobs\u001b[0m \u001b[1;33m+\u001b[0m \u001b[0mobsbot\u001b[0m \u001b[1;33m*\u001b[0m \u001b[0mtime_needed\u001b[0m\u001b[1;33m\u001b[0m\u001b[1;33m\u001b[0m\u001b[0m\n\u001b[0;32m     75\u001b[0m \u001b[1;33m\u001b[0m\u001b[0m\n\u001b[1;32m---> 76\u001b[1;33m             \u001b[0mgain\u001b[0m \u001b[1;33m=\u001b[0m \u001b[0mrobot_factory\u001b[0m\u001b[1;33m(\u001b[0m \u001b[0mtime_left\u001b[0m\u001b[1;33m,\u001b[0m \u001b[0mbp\u001b[0m\u001b[1;33m,\u001b[0m \u001b[0morebot\u001b[0m\u001b[1;33m,\u001b[0m \u001b[0more_left\u001b[0m\u001b[1;33m,\u001b[0m \u001b[0mclaybot\u001b[0m\u001b[1;33m,\u001b[0m \u001b[0mclay_left\u001b[0m\u001b[1;33m,\u001b[0m \u001b[0mobsbot\u001b[0m\u001b[1;33m+\u001b[0m\u001b[1;36m1\u001b[0m\u001b[1;33m,\u001b[0m \u001b[0mobs_left\u001b[0m \u001b[1;33m)\u001b[0m\u001b[1;33m\u001b[0m\u001b[1;33m\u001b[0m\u001b[0m\n\u001b[0m\u001b[0;32m     77\u001b[0m             \u001b[0mbest\u001b[0m \u001b[1;33m=\u001b[0m \u001b[0mmax\u001b[0m\u001b[1;33m(\u001b[0m\u001b[0mbest\u001b[0m\u001b[1;33m,\u001b[0m \u001b[0mgain\u001b[0m\u001b[1;33m)\u001b[0m\u001b[1;33m\u001b[0m\u001b[1;33m\u001b[0m\u001b[0m\n\u001b[0;32m     78\u001b[0m \u001b[1;33m\u001b[0m\u001b[0m\n",
      "\u001b[1;32m<ipython-input-91-4ac28100bc0a>\u001b[0m in \u001b[0;36mrobot_factory\u001b[1;34m(time, bp, orebot, ore, claybot, clay, obsbot, obs)\u001b[0m\n\u001b[0;32m     74\u001b[0m             \u001b[0mobs_left\u001b[0m \u001b[1;33m=\u001b[0m \u001b[0mobs\u001b[0m \u001b[1;33m+\u001b[0m \u001b[0mobsbot\u001b[0m \u001b[1;33m*\u001b[0m \u001b[0mtime_needed\u001b[0m\u001b[1;33m\u001b[0m\u001b[1;33m\u001b[0m\u001b[0m\n\u001b[0;32m     75\u001b[0m \u001b[1;33m\u001b[0m\u001b[0m\n\u001b[1;32m---> 76\u001b[1;33m             \u001b[0mgain\u001b[0m \u001b[1;33m=\u001b[0m \u001b[0mrobot_factory\u001b[0m\u001b[1;33m(\u001b[0m \u001b[0mtime_left\u001b[0m\u001b[1;33m,\u001b[0m \u001b[0mbp\u001b[0m\u001b[1;33m,\u001b[0m \u001b[0morebot\u001b[0m\u001b[1;33m,\u001b[0m \u001b[0more_left\u001b[0m\u001b[1;33m,\u001b[0m \u001b[0mclaybot\u001b[0m\u001b[1;33m,\u001b[0m \u001b[0mclay_left\u001b[0m\u001b[1;33m,\u001b[0m \u001b[0mobsbot\u001b[0m\u001b[1;33m+\u001b[0m\u001b[1;36m1\u001b[0m\u001b[1;33m,\u001b[0m \u001b[0mobs_left\u001b[0m \u001b[1;33m)\u001b[0m\u001b[1;33m\u001b[0m\u001b[1;33m\u001b[0m\u001b[0m\n\u001b[0m\u001b[0;32m     77\u001b[0m             \u001b[0mbest\u001b[0m \u001b[1;33m=\u001b[0m \u001b[0mmax\u001b[0m\u001b[1;33m(\u001b[0m\u001b[0mbest\u001b[0m\u001b[1;33m,\u001b[0m \u001b[0mgain\u001b[0m\u001b[1;33m)\u001b[0m\u001b[1;33m\u001b[0m\u001b[1;33m\u001b[0m\u001b[0m\n\u001b[0;32m     78\u001b[0m \u001b[1;33m\u001b[0m\u001b[0m\n",
      "\u001b[1;32m<ipython-input-91-4ac28100bc0a>\u001b[0m in \u001b[0;36mrobot_factory\u001b[1;34m(time, bp, orebot, ore, claybot, clay, obsbot, obs)\u001b[0m\n\u001b[0;32m     74\u001b[0m             \u001b[0mobs_left\u001b[0m \u001b[1;33m=\u001b[0m \u001b[0mobs\u001b[0m \u001b[1;33m+\u001b[0m \u001b[0mobsbot\u001b[0m \u001b[1;33m*\u001b[0m \u001b[0mtime_needed\u001b[0m\u001b[1;33m\u001b[0m\u001b[1;33m\u001b[0m\u001b[0m\n\u001b[0;32m     75\u001b[0m \u001b[1;33m\u001b[0m\u001b[0m\n\u001b[1;32m---> 76\u001b[1;33m             \u001b[0mgain\u001b[0m \u001b[1;33m=\u001b[0m \u001b[0mrobot_factory\u001b[0m\u001b[1;33m(\u001b[0m \u001b[0mtime_left\u001b[0m\u001b[1;33m,\u001b[0m \u001b[0mbp\u001b[0m\u001b[1;33m,\u001b[0m \u001b[0morebot\u001b[0m\u001b[1;33m,\u001b[0m \u001b[0more_left\u001b[0m\u001b[1;33m,\u001b[0m \u001b[0mclaybot\u001b[0m\u001b[1;33m,\u001b[0m \u001b[0mclay_left\u001b[0m\u001b[1;33m,\u001b[0m \u001b[0mobsbot\u001b[0m\u001b[1;33m+\u001b[0m\u001b[1;36m1\u001b[0m\u001b[1;33m,\u001b[0m \u001b[0mobs_left\u001b[0m \u001b[1;33m)\u001b[0m\u001b[1;33m\u001b[0m\u001b[1;33m\u001b[0m\u001b[0m\n\u001b[0m\u001b[0;32m     77\u001b[0m             \u001b[0mbest\u001b[0m \u001b[1;33m=\u001b[0m \u001b[0mmax\u001b[0m\u001b[1;33m(\u001b[0m\u001b[0mbest\u001b[0m\u001b[1;33m,\u001b[0m \u001b[0mgain\u001b[0m\u001b[1;33m)\u001b[0m\u001b[1;33m\u001b[0m\u001b[1;33m\u001b[0m\u001b[0m\n\u001b[0;32m     78\u001b[0m \u001b[1;33m\u001b[0m\u001b[0m\n",
      "\u001b[1;32m<ipython-input-91-4ac28100bc0a>\u001b[0m in \u001b[0;36mrobot_factory\u001b[1;34m(time, bp, orebot, ore, claybot, clay, obsbot, obs)\u001b[0m\n\u001b[0;32m     74\u001b[0m             \u001b[0mobs_left\u001b[0m \u001b[1;33m=\u001b[0m \u001b[0mobs\u001b[0m \u001b[1;33m+\u001b[0m \u001b[0mobsbot\u001b[0m \u001b[1;33m*\u001b[0m \u001b[0mtime_needed\u001b[0m\u001b[1;33m\u001b[0m\u001b[1;33m\u001b[0m\u001b[0m\n\u001b[0;32m     75\u001b[0m \u001b[1;33m\u001b[0m\u001b[0m\n\u001b[1;32m---> 76\u001b[1;33m             \u001b[0mgain\u001b[0m \u001b[1;33m=\u001b[0m \u001b[0mrobot_factory\u001b[0m\u001b[1;33m(\u001b[0m \u001b[0mtime_left\u001b[0m\u001b[1;33m,\u001b[0m \u001b[0mbp\u001b[0m\u001b[1;33m,\u001b[0m \u001b[0morebot\u001b[0m\u001b[1;33m,\u001b[0m \u001b[0more_left\u001b[0m\u001b[1;33m,\u001b[0m \u001b[0mclaybot\u001b[0m\u001b[1;33m,\u001b[0m \u001b[0mclay_left\u001b[0m\u001b[1;33m,\u001b[0m \u001b[0mobsbot\u001b[0m\u001b[1;33m+\u001b[0m\u001b[1;36m1\u001b[0m\u001b[1;33m,\u001b[0m \u001b[0mobs_left\u001b[0m \u001b[1;33m)\u001b[0m\u001b[1;33m\u001b[0m\u001b[1;33m\u001b[0m\u001b[0m\n\u001b[0m\u001b[0;32m     77\u001b[0m             \u001b[0mbest\u001b[0m \u001b[1;33m=\u001b[0m \u001b[0mmax\u001b[0m\u001b[1;33m(\u001b[0m\u001b[0mbest\u001b[0m\u001b[1;33m,\u001b[0m \u001b[0mgain\u001b[0m\u001b[1;33m)\u001b[0m\u001b[1;33m\u001b[0m\u001b[1;33m\u001b[0m\u001b[0m\n\u001b[0;32m     78\u001b[0m \u001b[1;33m\u001b[0m\u001b[0m\n",
      "\u001b[1;32m<ipython-input-91-4ac28100bc0a>\u001b[0m in \u001b[0;36mrobot_factory\u001b[1;34m(time, bp, orebot, ore, claybot, clay, obsbot, obs)\u001b[0m\n\u001b[0;32m     74\u001b[0m             \u001b[0mobs_left\u001b[0m \u001b[1;33m=\u001b[0m \u001b[0mobs\u001b[0m \u001b[1;33m+\u001b[0m \u001b[0mobsbot\u001b[0m \u001b[1;33m*\u001b[0m \u001b[0mtime_needed\u001b[0m\u001b[1;33m\u001b[0m\u001b[1;33m\u001b[0m\u001b[0m\n\u001b[0;32m     75\u001b[0m \u001b[1;33m\u001b[0m\u001b[0m\n\u001b[1;32m---> 76\u001b[1;33m             \u001b[0mgain\u001b[0m \u001b[1;33m=\u001b[0m \u001b[0mrobot_factory\u001b[0m\u001b[1;33m(\u001b[0m \u001b[0mtime_left\u001b[0m\u001b[1;33m,\u001b[0m \u001b[0mbp\u001b[0m\u001b[1;33m,\u001b[0m \u001b[0morebot\u001b[0m\u001b[1;33m,\u001b[0m \u001b[0more_left\u001b[0m\u001b[1;33m,\u001b[0m \u001b[0mclaybot\u001b[0m\u001b[1;33m,\u001b[0m \u001b[0mclay_left\u001b[0m\u001b[1;33m,\u001b[0m \u001b[0mobsbot\u001b[0m\u001b[1;33m+\u001b[0m\u001b[1;36m1\u001b[0m\u001b[1;33m,\u001b[0m \u001b[0mobs_left\u001b[0m \u001b[1;33m)\u001b[0m\u001b[1;33m\u001b[0m\u001b[1;33m\u001b[0m\u001b[0m\n\u001b[0m\u001b[0;32m     77\u001b[0m             \u001b[0mbest\u001b[0m \u001b[1;33m=\u001b[0m \u001b[0mmax\u001b[0m\u001b[1;33m(\u001b[0m\u001b[0mbest\u001b[0m\u001b[1;33m,\u001b[0m \u001b[0mgain\u001b[0m\u001b[1;33m)\u001b[0m\u001b[1;33m\u001b[0m\u001b[1;33m\u001b[0m\u001b[0m\n\u001b[0;32m     78\u001b[0m \u001b[1;33m\u001b[0m\u001b[0m\n",
      "\u001b[1;32m<ipython-input-91-4ac28100bc0a>\u001b[0m in \u001b[0;36mrobot_factory\u001b[1;34m(time, bp, orebot, ore, claybot, clay, obsbot, obs)\u001b[0m\n\u001b[0;32m     74\u001b[0m             \u001b[0mobs_left\u001b[0m \u001b[1;33m=\u001b[0m \u001b[0mobs\u001b[0m \u001b[1;33m+\u001b[0m \u001b[0mobsbot\u001b[0m \u001b[1;33m*\u001b[0m \u001b[0mtime_needed\u001b[0m\u001b[1;33m\u001b[0m\u001b[1;33m\u001b[0m\u001b[0m\n\u001b[0;32m     75\u001b[0m \u001b[1;33m\u001b[0m\u001b[0m\n\u001b[1;32m---> 76\u001b[1;33m             \u001b[0mgain\u001b[0m \u001b[1;33m=\u001b[0m \u001b[0mrobot_factory\u001b[0m\u001b[1;33m(\u001b[0m \u001b[0mtime_left\u001b[0m\u001b[1;33m,\u001b[0m \u001b[0mbp\u001b[0m\u001b[1;33m,\u001b[0m \u001b[0morebot\u001b[0m\u001b[1;33m,\u001b[0m \u001b[0more_left\u001b[0m\u001b[1;33m,\u001b[0m \u001b[0mclaybot\u001b[0m\u001b[1;33m,\u001b[0m \u001b[0mclay_left\u001b[0m\u001b[1;33m,\u001b[0m \u001b[0mobsbot\u001b[0m\u001b[1;33m+\u001b[0m\u001b[1;36m1\u001b[0m\u001b[1;33m,\u001b[0m \u001b[0mobs_left\u001b[0m \u001b[1;33m)\u001b[0m\u001b[1;33m\u001b[0m\u001b[1;33m\u001b[0m\u001b[0m\n\u001b[0m\u001b[0;32m     77\u001b[0m             \u001b[0mbest\u001b[0m \u001b[1;33m=\u001b[0m \u001b[0mmax\u001b[0m\u001b[1;33m(\u001b[0m\u001b[0mbest\u001b[0m\u001b[1;33m,\u001b[0m \u001b[0mgain\u001b[0m\u001b[1;33m)\u001b[0m\u001b[1;33m\u001b[0m\u001b[1;33m\u001b[0m\u001b[0m\n\u001b[0;32m     78\u001b[0m \u001b[1;33m\u001b[0m\u001b[0m\n",
      "\u001b[1;32m<ipython-input-91-4ac28100bc0a>\u001b[0m in \u001b[0;36mrobot_factory\u001b[1;34m(time, bp, orebot, ore, claybot, clay, obsbot, obs)\u001b[0m\n\u001b[0;32m     94\u001b[0m \u001b[1;33m\u001b[0m\u001b[0m\n\u001b[0;32m     95\u001b[0m             \u001b[0mdirect_gain\u001b[0m \u001b[1;33m=\u001b[0m \u001b[0mtime_left\u001b[0m \u001b[1;31m# Gain 1 geode per time\u001b[0m\u001b[1;33m\u001b[0m\u001b[1;33m\u001b[0m\u001b[0m\n\u001b[1;32m---> 96\u001b[1;33m             \u001b[0mgain\u001b[0m \u001b[1;33m=\u001b[0m \u001b[0mdirect_gain\u001b[0m \u001b[1;33m+\u001b[0m \u001b[0mrobot_factory\u001b[0m\u001b[1;33m(\u001b[0m \u001b[0mtime_left\u001b[0m\u001b[1;33m,\u001b[0m \u001b[0mbp\u001b[0m\u001b[1;33m,\u001b[0m \u001b[0morebot\u001b[0m\u001b[1;33m,\u001b[0m \u001b[0more_left\u001b[0m\u001b[1;33m,\u001b[0m \u001b[0mclaybot\u001b[0m\u001b[1;33m,\u001b[0m \u001b[0mclay_left\u001b[0m\u001b[1;33m,\u001b[0m \u001b[0mobsbot\u001b[0m\u001b[1;33m,\u001b[0m \u001b[0mobs_left\u001b[0m \u001b[1;33m)\u001b[0m\u001b[1;33m\u001b[0m\u001b[1;33m\u001b[0m\u001b[0m\n\u001b[0m\u001b[0;32m     97\u001b[0m             \u001b[0mbest\u001b[0m \u001b[1;33m=\u001b[0m \u001b[0mmax\u001b[0m\u001b[1;33m(\u001b[0m\u001b[0mbest\u001b[0m\u001b[1;33m,\u001b[0m \u001b[0mgain\u001b[0m\u001b[1;33m)\u001b[0m\u001b[1;33m\u001b[0m\u001b[1;33m\u001b[0m\u001b[0m\n\u001b[0;32m     98\u001b[0m \u001b[1;33m\u001b[0m\u001b[0m\n",
      "\u001b[1;32m<ipython-input-91-4ac28100bc0a>\u001b[0m in \u001b[0;36mrobot_factory\u001b[1;34m(time, bp, orebot, ore, claybot, clay, obsbot, obs)\u001b[0m\n\u001b[0;32m     94\u001b[0m \u001b[1;33m\u001b[0m\u001b[0m\n\u001b[0;32m     95\u001b[0m             \u001b[0mdirect_gain\u001b[0m \u001b[1;33m=\u001b[0m \u001b[0mtime_left\u001b[0m \u001b[1;31m# Gain 1 geode per time\u001b[0m\u001b[1;33m\u001b[0m\u001b[1;33m\u001b[0m\u001b[0m\n\u001b[1;32m---> 96\u001b[1;33m             \u001b[0mgain\u001b[0m \u001b[1;33m=\u001b[0m \u001b[0mdirect_gain\u001b[0m \u001b[1;33m+\u001b[0m \u001b[0mrobot_factory\u001b[0m\u001b[1;33m(\u001b[0m \u001b[0mtime_left\u001b[0m\u001b[1;33m,\u001b[0m \u001b[0mbp\u001b[0m\u001b[1;33m,\u001b[0m \u001b[0morebot\u001b[0m\u001b[1;33m,\u001b[0m \u001b[0more_left\u001b[0m\u001b[1;33m,\u001b[0m \u001b[0mclaybot\u001b[0m\u001b[1;33m,\u001b[0m \u001b[0mclay_left\u001b[0m\u001b[1;33m,\u001b[0m \u001b[0mobsbot\u001b[0m\u001b[1;33m,\u001b[0m \u001b[0mobs_left\u001b[0m \u001b[1;33m)\u001b[0m\u001b[1;33m\u001b[0m\u001b[1;33m\u001b[0m\u001b[0m\n\u001b[0m\u001b[0;32m     97\u001b[0m             \u001b[0mbest\u001b[0m \u001b[1;33m=\u001b[0m \u001b[0mmax\u001b[0m\u001b[1;33m(\u001b[0m\u001b[0mbest\u001b[0m\u001b[1;33m,\u001b[0m \u001b[0mgain\u001b[0m\u001b[1;33m)\u001b[0m\u001b[1;33m\u001b[0m\u001b[1;33m\u001b[0m\u001b[0m\n\u001b[0;32m     98\u001b[0m \u001b[1;33m\u001b[0m\u001b[0m\n",
      "\u001b[1;32m<ipython-input-91-4ac28100bc0a>\u001b[0m in \u001b[0;36mrobot_factory\u001b[1;34m(time, bp, orebot, ore, claybot, clay, obsbot, obs)\u001b[0m\n\u001b[0;32m     94\u001b[0m \u001b[1;33m\u001b[0m\u001b[0m\n\u001b[0;32m     95\u001b[0m             \u001b[0mdirect_gain\u001b[0m \u001b[1;33m=\u001b[0m \u001b[0mtime_left\u001b[0m \u001b[1;31m# Gain 1 geode per time\u001b[0m\u001b[1;33m\u001b[0m\u001b[1;33m\u001b[0m\u001b[0m\n\u001b[1;32m---> 96\u001b[1;33m             \u001b[0mgain\u001b[0m \u001b[1;33m=\u001b[0m \u001b[0mdirect_gain\u001b[0m \u001b[1;33m+\u001b[0m \u001b[0mrobot_factory\u001b[0m\u001b[1;33m(\u001b[0m \u001b[0mtime_left\u001b[0m\u001b[1;33m,\u001b[0m \u001b[0mbp\u001b[0m\u001b[1;33m,\u001b[0m \u001b[0morebot\u001b[0m\u001b[1;33m,\u001b[0m \u001b[0more_left\u001b[0m\u001b[1;33m,\u001b[0m \u001b[0mclaybot\u001b[0m\u001b[1;33m,\u001b[0m \u001b[0mclay_left\u001b[0m\u001b[1;33m,\u001b[0m \u001b[0mobsbot\u001b[0m\u001b[1;33m,\u001b[0m \u001b[0mobs_left\u001b[0m \u001b[1;33m)\u001b[0m\u001b[1;33m\u001b[0m\u001b[1;33m\u001b[0m\u001b[0m\n\u001b[0m\u001b[0;32m     97\u001b[0m             \u001b[0mbest\u001b[0m \u001b[1;33m=\u001b[0m \u001b[0mmax\u001b[0m\u001b[1;33m(\u001b[0m\u001b[0mbest\u001b[0m\u001b[1;33m,\u001b[0m \u001b[0mgain\u001b[0m\u001b[1;33m)\u001b[0m\u001b[1;33m\u001b[0m\u001b[1;33m\u001b[0m\u001b[0m\n\u001b[0;32m     98\u001b[0m \u001b[1;33m\u001b[0m\u001b[0m\n",
      "\u001b[1;32m<ipython-input-91-4ac28100bc0a>\u001b[0m in \u001b[0;36mrobot_factory\u001b[1;34m(time, bp, orebot, ore, claybot, clay, obsbot, obs)\u001b[0m\n\u001b[0;32m     17\u001b[0m \u001b[1;33m\u001b[0m\u001b[0m\n\u001b[0;32m     18\u001b[0m     \u001b[1;31m## Option 1: Build an Orebot ##\u001b[0m\u001b[1;33m\u001b[0m\u001b[1;33m\u001b[0m\u001b[1;33m\u001b[0m\u001b[0m\n\u001b[1;32m---> 19\u001b[1;33m     \u001b[0more_req\u001b[0m \u001b[1;33m=\u001b[0m \u001b[0mbp\u001b[0m\u001b[1;33m[\u001b[0m\u001b[1;34m'orebot'\u001b[0m\u001b[1;33m]\u001b[0m\u001b[1;33m[\u001b[0m\u001b[1;34m'ore'\u001b[0m\u001b[1;33m]\u001b[0m\u001b[1;33m\u001b[0m\u001b[1;33m\u001b[0m\u001b[0m\n\u001b[0m\u001b[0;32m     20\u001b[0m     \u001b[0more_needed\u001b[0m \u001b[1;33m=\u001b[0m \u001b[0mmax\u001b[0m\u001b[1;33m(\u001b[0m\u001b[0more_req\u001b[0m\u001b[1;33m-\u001b[0m\u001b[0more\u001b[0m\u001b[1;33m,\u001b[0m \u001b[1;36m0\u001b[0m\u001b[1;33m)\u001b[0m\u001b[1;33m\u001b[0m\u001b[1;33m\u001b[0m\u001b[0m\n\u001b[0;32m     21\u001b[0m     \u001b[0mtime_needed\u001b[0m \u001b[1;33m=\u001b[0m \u001b[1;36m1\u001b[0m \u001b[1;33m+\u001b[0m \u001b[0mceil\u001b[0m\u001b[1;33m(\u001b[0m \u001b[0more_needed\u001b[0m \u001b[1;33m/\u001b[0m \u001b[0morebot\u001b[0m \u001b[1;33m)\u001b[0m \u001b[1;31m# 1 time to build bot. ceil(.) may be 0 if we already have enough ore\u001b[0m\u001b[1;33m\u001b[0m\u001b[1;33m\u001b[0m\u001b[0m\n",
      "\u001b[1;31mKeyboardInterrupt\u001b[0m: "
     ]
    }
   ],
   "source": [
    "memo = {}\n",
    "robot_factory(32, test_bps[0])"
   ]
  },
  {
   "cell_type": "code",
   "execution_count": null,
   "metadata": {},
   "outputs": [],
   "source": [
    "memo = {}\n",
    "robot_factory(32, test_bps[1])"
   ]
  },
  {
   "cell_type": "code",
   "execution_count": null,
   "metadata": {},
   "outputs": [
    {
     "ename": "KeyboardInterrupt",
     "evalue": "",
     "output_type": "error",
     "traceback": [
      "\u001b[1;31m---------------------------------------------------------------------------\u001b[0m",
      "\u001b[1;31mKeyboardInterrupt\u001b[0m                         Traceback (most recent call last)",
      "\u001b[1;32m<ipython-input-89-b8ff30ff7a80>\u001b[0m in \u001b[0;36m<module>\u001b[1;34m\u001b[0m\n\u001b[0;32m      2\u001b[0m \u001b[1;31m# I think some of these bps don't let you get any geodes...\u001b[0m\u001b[1;33m\u001b[0m\u001b[1;33m\u001b[0m\u001b[1;33m\u001b[0m\u001b[0m\n\u001b[0;32m      3\u001b[0m \u001b[1;32mfor\u001b[0m \u001b[0mbp\u001b[0m \u001b[1;32min\u001b[0m \u001b[0mpuz_bps\u001b[0m\u001b[1;33m[\u001b[0m\u001b[1;33m:\u001b[0m\u001b[1;36m3\u001b[0m\u001b[1;33m]\u001b[0m\u001b[1;33m:\u001b[0m\u001b[1;33m\u001b[0m\u001b[1;33m\u001b[0m\u001b[0m\n\u001b[1;32m----> 4\u001b[1;33m     \u001b[0mans\u001b[0m \u001b[1;33m=\u001b[0m \u001b[0mrobot_factory\u001b[0m\u001b[1;33m(\u001b[0m\u001b[1;36m32\u001b[0m\u001b[1;33m,\u001b[0m \u001b[0mbp\u001b[0m\u001b[1;33m)\u001b[0m\u001b[1;33m\u001b[0m\u001b[1;33m\u001b[0m\u001b[0m\n\u001b[0m\u001b[0;32m      5\u001b[0m     \u001b[0mprint\u001b[0m\u001b[1;33m(\u001b[0m\u001b[0mans\u001b[0m\u001b[1;33m)\u001b[0m\u001b[1;33m\u001b[0m\u001b[1;33m\u001b[0m\u001b[0m\n\u001b[0;32m      6\u001b[0m     \u001b[0mout\u001b[0m\u001b[1;33m.\u001b[0m\u001b[0mappend\u001b[0m\u001b[1;33m(\u001b[0m\u001b[0mans\u001b[0m\u001b[1;33m)\u001b[0m\u001b[1;33m\u001b[0m\u001b[1;33m\u001b[0m\u001b[0m\n",
      "\u001b[1;32m<ipython-input-87-424c67224b8b>\u001b[0m in \u001b[0;36mrobot_factory\u001b[1;34m(time, bp, orebot, ore, claybot, clay, obsbot, obs)\u001b[0m\n\u001b[0;32m     35\u001b[0m \u001b[1;33m\u001b[0m\u001b[0m\n\u001b[0;32m     36\u001b[0m         \u001b[1;31m# Iterate, but we have one more orebot, and a different amount of ore/clay/obs/time\u001b[0m\u001b[1;33m\u001b[0m\u001b[1;33m\u001b[0m\u001b[1;33m\u001b[0m\u001b[0m\n\u001b[1;32m---> 37\u001b[1;33m         \u001b[0mgain\u001b[0m \u001b[1;33m=\u001b[0m \u001b[0mrobot_factory\u001b[0m\u001b[1;33m(\u001b[0m \u001b[0mtime_left\u001b[0m\u001b[1;33m,\u001b[0m \u001b[0mbp\u001b[0m\u001b[1;33m,\u001b[0m \u001b[0morebot\u001b[0m\u001b[1;33m+\u001b[0m\u001b[1;36m1\u001b[0m\u001b[1;33m,\u001b[0m \u001b[0more_left\u001b[0m\u001b[1;33m,\u001b[0m \u001b[0mclaybot\u001b[0m\u001b[1;33m,\u001b[0m \u001b[0mclay_left\u001b[0m\u001b[1;33m,\u001b[0m \u001b[0mobsbot\u001b[0m\u001b[1;33m,\u001b[0m \u001b[0mobs_left\u001b[0m\u001b[1;33m)\u001b[0m\u001b[1;33m\u001b[0m\u001b[1;33m\u001b[0m\u001b[0m\n\u001b[0m\u001b[0;32m     38\u001b[0m         \u001b[0mbest\u001b[0m \u001b[1;33m=\u001b[0m \u001b[0mmax\u001b[0m\u001b[1;33m(\u001b[0m \u001b[0mbest\u001b[0m\u001b[1;33m,\u001b[0m \u001b[0mgain\u001b[0m \u001b[1;33m)\u001b[0m\u001b[1;33m\u001b[0m\u001b[1;33m\u001b[0m\u001b[0m\n\u001b[0;32m     39\u001b[0m \u001b[1;33m\u001b[0m\u001b[0m\n",
      "\u001b[1;32m<ipython-input-87-424c67224b8b>\u001b[0m in \u001b[0;36mrobot_factory\u001b[1;34m(time, bp, orebot, ore, claybot, clay, obsbot, obs)\u001b[0m\n\u001b[0;32m     35\u001b[0m \u001b[1;33m\u001b[0m\u001b[0m\n\u001b[0;32m     36\u001b[0m         \u001b[1;31m# Iterate, but we have one more orebot, and a different amount of ore/clay/obs/time\u001b[0m\u001b[1;33m\u001b[0m\u001b[1;33m\u001b[0m\u001b[1;33m\u001b[0m\u001b[0m\n\u001b[1;32m---> 37\u001b[1;33m         \u001b[0mgain\u001b[0m \u001b[1;33m=\u001b[0m \u001b[0mrobot_factory\u001b[0m\u001b[1;33m(\u001b[0m \u001b[0mtime_left\u001b[0m\u001b[1;33m,\u001b[0m \u001b[0mbp\u001b[0m\u001b[1;33m,\u001b[0m \u001b[0morebot\u001b[0m\u001b[1;33m+\u001b[0m\u001b[1;36m1\u001b[0m\u001b[1;33m,\u001b[0m \u001b[0more_left\u001b[0m\u001b[1;33m,\u001b[0m \u001b[0mclaybot\u001b[0m\u001b[1;33m,\u001b[0m \u001b[0mclay_left\u001b[0m\u001b[1;33m,\u001b[0m \u001b[0mobsbot\u001b[0m\u001b[1;33m,\u001b[0m \u001b[0mobs_left\u001b[0m\u001b[1;33m)\u001b[0m\u001b[1;33m\u001b[0m\u001b[1;33m\u001b[0m\u001b[0m\n\u001b[0m\u001b[0;32m     38\u001b[0m         \u001b[0mbest\u001b[0m \u001b[1;33m=\u001b[0m \u001b[0mmax\u001b[0m\u001b[1;33m(\u001b[0m \u001b[0mbest\u001b[0m\u001b[1;33m,\u001b[0m \u001b[0mgain\u001b[0m \u001b[1;33m)\u001b[0m\u001b[1;33m\u001b[0m\u001b[1;33m\u001b[0m\u001b[0m\n\u001b[0;32m     39\u001b[0m \u001b[1;33m\u001b[0m\u001b[0m\n",
      "\u001b[1;32m<ipython-input-87-424c67224b8b>\u001b[0m in \u001b[0;36mrobot_factory\u001b[1;34m(time, bp, orebot, ore, claybot, clay, obsbot, obs)\u001b[0m\n\u001b[0;32m     35\u001b[0m \u001b[1;33m\u001b[0m\u001b[0m\n\u001b[0;32m     36\u001b[0m         \u001b[1;31m# Iterate, but we have one more orebot, and a different amount of ore/clay/obs/time\u001b[0m\u001b[1;33m\u001b[0m\u001b[1;33m\u001b[0m\u001b[1;33m\u001b[0m\u001b[0m\n\u001b[1;32m---> 37\u001b[1;33m         \u001b[0mgain\u001b[0m \u001b[1;33m=\u001b[0m \u001b[0mrobot_factory\u001b[0m\u001b[1;33m(\u001b[0m \u001b[0mtime_left\u001b[0m\u001b[1;33m,\u001b[0m \u001b[0mbp\u001b[0m\u001b[1;33m,\u001b[0m \u001b[0morebot\u001b[0m\u001b[1;33m+\u001b[0m\u001b[1;36m1\u001b[0m\u001b[1;33m,\u001b[0m \u001b[0more_left\u001b[0m\u001b[1;33m,\u001b[0m \u001b[0mclaybot\u001b[0m\u001b[1;33m,\u001b[0m \u001b[0mclay_left\u001b[0m\u001b[1;33m,\u001b[0m \u001b[0mobsbot\u001b[0m\u001b[1;33m,\u001b[0m \u001b[0mobs_left\u001b[0m\u001b[1;33m)\u001b[0m\u001b[1;33m\u001b[0m\u001b[1;33m\u001b[0m\u001b[0m\n\u001b[0m\u001b[0;32m     38\u001b[0m         \u001b[0mbest\u001b[0m \u001b[1;33m=\u001b[0m \u001b[0mmax\u001b[0m\u001b[1;33m(\u001b[0m \u001b[0mbest\u001b[0m\u001b[1;33m,\u001b[0m \u001b[0mgain\u001b[0m \u001b[1;33m)\u001b[0m\u001b[1;33m\u001b[0m\u001b[1;33m\u001b[0m\u001b[0m\n\u001b[0;32m     39\u001b[0m \u001b[1;33m\u001b[0m\u001b[0m\n",
      "\u001b[1;32m<ipython-input-87-424c67224b8b>\u001b[0m in \u001b[0;36mrobot_factory\u001b[1;34m(time, bp, orebot, ore, claybot, clay, obsbot, obs)\u001b[0m\n\u001b[0;32m     35\u001b[0m \u001b[1;33m\u001b[0m\u001b[0m\n\u001b[0;32m     36\u001b[0m         \u001b[1;31m# Iterate, but we have one more orebot, and a different amount of ore/clay/obs/time\u001b[0m\u001b[1;33m\u001b[0m\u001b[1;33m\u001b[0m\u001b[1;33m\u001b[0m\u001b[0m\n\u001b[1;32m---> 37\u001b[1;33m         \u001b[0mgain\u001b[0m \u001b[1;33m=\u001b[0m \u001b[0mrobot_factory\u001b[0m\u001b[1;33m(\u001b[0m \u001b[0mtime_left\u001b[0m\u001b[1;33m,\u001b[0m \u001b[0mbp\u001b[0m\u001b[1;33m,\u001b[0m \u001b[0morebot\u001b[0m\u001b[1;33m+\u001b[0m\u001b[1;36m1\u001b[0m\u001b[1;33m,\u001b[0m \u001b[0more_left\u001b[0m\u001b[1;33m,\u001b[0m \u001b[0mclaybot\u001b[0m\u001b[1;33m,\u001b[0m \u001b[0mclay_left\u001b[0m\u001b[1;33m,\u001b[0m \u001b[0mobsbot\u001b[0m\u001b[1;33m,\u001b[0m \u001b[0mobs_left\u001b[0m\u001b[1;33m)\u001b[0m\u001b[1;33m\u001b[0m\u001b[1;33m\u001b[0m\u001b[0m\n\u001b[0m\u001b[0;32m     38\u001b[0m         \u001b[0mbest\u001b[0m \u001b[1;33m=\u001b[0m \u001b[0mmax\u001b[0m\u001b[1;33m(\u001b[0m \u001b[0mbest\u001b[0m\u001b[1;33m,\u001b[0m \u001b[0mgain\u001b[0m \u001b[1;33m)\u001b[0m\u001b[1;33m\u001b[0m\u001b[1;33m\u001b[0m\u001b[0m\n\u001b[0;32m     39\u001b[0m \u001b[1;33m\u001b[0m\u001b[0m\n",
      "\u001b[1;32m<ipython-input-87-424c67224b8b>\u001b[0m in \u001b[0;36mrobot_factory\u001b[1;34m(time, bp, orebot, ore, claybot, clay, obsbot, obs)\u001b[0m\n\u001b[0;32m     51\u001b[0m         \u001b[0mobs_left\u001b[0m \u001b[1;33m=\u001b[0m \u001b[0mobs\u001b[0m \u001b[1;33m+\u001b[0m \u001b[0mobsbot\u001b[0m \u001b[1;33m*\u001b[0m \u001b[0mtime_needed\u001b[0m\u001b[1;33m\u001b[0m\u001b[1;33m\u001b[0m\u001b[0m\n\u001b[0;32m     52\u001b[0m \u001b[1;33m\u001b[0m\u001b[0m\n\u001b[1;32m---> 53\u001b[1;33m         \u001b[0mgain\u001b[0m \u001b[1;33m=\u001b[0m \u001b[0mrobot_factory\u001b[0m\u001b[1;33m(\u001b[0m \u001b[0mtime_left\u001b[0m\u001b[1;33m,\u001b[0m \u001b[0mbp\u001b[0m\u001b[1;33m,\u001b[0m\u001b[0morebot\u001b[0m\u001b[1;33m,\u001b[0m \u001b[0more_left\u001b[0m\u001b[1;33m,\u001b[0m \u001b[0mclaybot\u001b[0m\u001b[1;33m+\u001b[0m\u001b[1;36m1\u001b[0m\u001b[1;33m,\u001b[0m \u001b[0mclay_left\u001b[0m\u001b[1;33m,\u001b[0m \u001b[0mobsbot\u001b[0m\u001b[1;33m,\u001b[0m \u001b[0mobs_left\u001b[0m \u001b[1;33m)\u001b[0m\u001b[1;33m\u001b[0m\u001b[1;33m\u001b[0m\u001b[0m\n\u001b[0m\u001b[0;32m     54\u001b[0m         \u001b[0mbest\u001b[0m \u001b[1;33m=\u001b[0m \u001b[0mmax\u001b[0m\u001b[1;33m(\u001b[0m \u001b[0mbest\u001b[0m\u001b[1;33m,\u001b[0m \u001b[0mgain\u001b[0m \u001b[1;33m)\u001b[0m\u001b[1;33m\u001b[0m\u001b[1;33m\u001b[0m\u001b[0m\n\u001b[0;32m     55\u001b[0m \u001b[1;33m\u001b[0m\u001b[0m\n",
      "\u001b[1;32m<ipython-input-87-424c67224b8b>\u001b[0m in \u001b[0;36mrobot_factory\u001b[1;34m(time, bp, orebot, ore, claybot, clay, obsbot, obs)\u001b[0m\n\u001b[0;32m     51\u001b[0m         \u001b[0mobs_left\u001b[0m \u001b[1;33m=\u001b[0m \u001b[0mobs\u001b[0m \u001b[1;33m+\u001b[0m \u001b[0mobsbot\u001b[0m \u001b[1;33m*\u001b[0m \u001b[0mtime_needed\u001b[0m\u001b[1;33m\u001b[0m\u001b[1;33m\u001b[0m\u001b[0m\n\u001b[0;32m     52\u001b[0m \u001b[1;33m\u001b[0m\u001b[0m\n\u001b[1;32m---> 53\u001b[1;33m         \u001b[0mgain\u001b[0m \u001b[1;33m=\u001b[0m \u001b[0mrobot_factory\u001b[0m\u001b[1;33m(\u001b[0m \u001b[0mtime_left\u001b[0m\u001b[1;33m,\u001b[0m \u001b[0mbp\u001b[0m\u001b[1;33m,\u001b[0m\u001b[0morebot\u001b[0m\u001b[1;33m,\u001b[0m \u001b[0more_left\u001b[0m\u001b[1;33m,\u001b[0m \u001b[0mclaybot\u001b[0m\u001b[1;33m+\u001b[0m\u001b[1;36m1\u001b[0m\u001b[1;33m,\u001b[0m \u001b[0mclay_left\u001b[0m\u001b[1;33m,\u001b[0m \u001b[0mobsbot\u001b[0m\u001b[1;33m,\u001b[0m \u001b[0mobs_left\u001b[0m \u001b[1;33m)\u001b[0m\u001b[1;33m\u001b[0m\u001b[1;33m\u001b[0m\u001b[0m\n\u001b[0m\u001b[0;32m     54\u001b[0m         \u001b[0mbest\u001b[0m \u001b[1;33m=\u001b[0m \u001b[0mmax\u001b[0m\u001b[1;33m(\u001b[0m \u001b[0mbest\u001b[0m\u001b[1;33m,\u001b[0m \u001b[0mgain\u001b[0m \u001b[1;33m)\u001b[0m\u001b[1;33m\u001b[0m\u001b[1;33m\u001b[0m\u001b[0m\n\u001b[0;32m     55\u001b[0m \u001b[1;33m\u001b[0m\u001b[0m\n",
      "\u001b[1;32m<ipython-input-87-424c67224b8b>\u001b[0m in \u001b[0;36mrobot_factory\u001b[1;34m(time, bp, orebot, ore, claybot, clay, obsbot, obs)\u001b[0m\n\u001b[0;32m     51\u001b[0m         \u001b[0mobs_left\u001b[0m \u001b[1;33m=\u001b[0m \u001b[0mobs\u001b[0m \u001b[1;33m+\u001b[0m \u001b[0mobsbot\u001b[0m \u001b[1;33m*\u001b[0m \u001b[0mtime_needed\u001b[0m\u001b[1;33m\u001b[0m\u001b[1;33m\u001b[0m\u001b[0m\n\u001b[0;32m     52\u001b[0m \u001b[1;33m\u001b[0m\u001b[0m\n\u001b[1;32m---> 53\u001b[1;33m         \u001b[0mgain\u001b[0m \u001b[1;33m=\u001b[0m \u001b[0mrobot_factory\u001b[0m\u001b[1;33m(\u001b[0m \u001b[0mtime_left\u001b[0m\u001b[1;33m,\u001b[0m \u001b[0mbp\u001b[0m\u001b[1;33m,\u001b[0m\u001b[0morebot\u001b[0m\u001b[1;33m,\u001b[0m \u001b[0more_left\u001b[0m\u001b[1;33m,\u001b[0m \u001b[0mclaybot\u001b[0m\u001b[1;33m+\u001b[0m\u001b[1;36m1\u001b[0m\u001b[1;33m,\u001b[0m \u001b[0mclay_left\u001b[0m\u001b[1;33m,\u001b[0m \u001b[0mobsbot\u001b[0m\u001b[1;33m,\u001b[0m \u001b[0mobs_left\u001b[0m \u001b[1;33m)\u001b[0m\u001b[1;33m\u001b[0m\u001b[1;33m\u001b[0m\u001b[0m\n\u001b[0m\u001b[0;32m     54\u001b[0m         \u001b[0mbest\u001b[0m \u001b[1;33m=\u001b[0m \u001b[0mmax\u001b[0m\u001b[1;33m(\u001b[0m \u001b[0mbest\u001b[0m\u001b[1;33m,\u001b[0m \u001b[0mgain\u001b[0m \u001b[1;33m)\u001b[0m\u001b[1;33m\u001b[0m\u001b[1;33m\u001b[0m\u001b[0m\n\u001b[0;32m     55\u001b[0m \u001b[1;33m\u001b[0m\u001b[0m\n",
      "\u001b[1;32m<ipython-input-87-424c67224b8b>\u001b[0m in \u001b[0;36mrobot_factory\u001b[1;34m(time, bp, orebot, ore, claybot, clay, obsbot, obs)\u001b[0m\n\u001b[0;32m     51\u001b[0m         \u001b[0mobs_left\u001b[0m \u001b[1;33m=\u001b[0m \u001b[0mobs\u001b[0m \u001b[1;33m+\u001b[0m \u001b[0mobsbot\u001b[0m \u001b[1;33m*\u001b[0m \u001b[0mtime_needed\u001b[0m\u001b[1;33m\u001b[0m\u001b[1;33m\u001b[0m\u001b[0m\n\u001b[0;32m     52\u001b[0m \u001b[1;33m\u001b[0m\u001b[0m\n\u001b[1;32m---> 53\u001b[1;33m         \u001b[0mgain\u001b[0m \u001b[1;33m=\u001b[0m \u001b[0mrobot_factory\u001b[0m\u001b[1;33m(\u001b[0m \u001b[0mtime_left\u001b[0m\u001b[1;33m,\u001b[0m \u001b[0mbp\u001b[0m\u001b[1;33m,\u001b[0m\u001b[0morebot\u001b[0m\u001b[1;33m,\u001b[0m \u001b[0more_left\u001b[0m\u001b[1;33m,\u001b[0m \u001b[0mclaybot\u001b[0m\u001b[1;33m+\u001b[0m\u001b[1;36m1\u001b[0m\u001b[1;33m,\u001b[0m \u001b[0mclay_left\u001b[0m\u001b[1;33m,\u001b[0m \u001b[0mobsbot\u001b[0m\u001b[1;33m,\u001b[0m \u001b[0mobs_left\u001b[0m \u001b[1;33m)\u001b[0m\u001b[1;33m\u001b[0m\u001b[1;33m\u001b[0m\u001b[0m\n\u001b[0m\u001b[0;32m     54\u001b[0m         \u001b[0mbest\u001b[0m \u001b[1;33m=\u001b[0m \u001b[0mmax\u001b[0m\u001b[1;33m(\u001b[0m \u001b[0mbest\u001b[0m\u001b[1;33m,\u001b[0m \u001b[0mgain\u001b[0m \u001b[1;33m)\u001b[0m\u001b[1;33m\u001b[0m\u001b[1;33m\u001b[0m\u001b[0m\n\u001b[0;32m     55\u001b[0m \u001b[1;33m\u001b[0m\u001b[0m\n",
      "\u001b[1;32m<ipython-input-87-424c67224b8b>\u001b[0m in \u001b[0;36mrobot_factory\u001b[1;34m(time, bp, orebot, ore, claybot, clay, obsbot, obs)\u001b[0m\n\u001b[0;32m     51\u001b[0m         \u001b[0mobs_left\u001b[0m \u001b[1;33m=\u001b[0m \u001b[0mobs\u001b[0m \u001b[1;33m+\u001b[0m \u001b[0mobsbot\u001b[0m \u001b[1;33m*\u001b[0m \u001b[0mtime_needed\u001b[0m\u001b[1;33m\u001b[0m\u001b[1;33m\u001b[0m\u001b[0m\n\u001b[0;32m     52\u001b[0m \u001b[1;33m\u001b[0m\u001b[0m\n\u001b[1;32m---> 53\u001b[1;33m         \u001b[0mgain\u001b[0m \u001b[1;33m=\u001b[0m \u001b[0mrobot_factory\u001b[0m\u001b[1;33m(\u001b[0m \u001b[0mtime_left\u001b[0m\u001b[1;33m,\u001b[0m \u001b[0mbp\u001b[0m\u001b[1;33m,\u001b[0m\u001b[0morebot\u001b[0m\u001b[1;33m,\u001b[0m \u001b[0more_left\u001b[0m\u001b[1;33m,\u001b[0m \u001b[0mclaybot\u001b[0m\u001b[1;33m+\u001b[0m\u001b[1;36m1\u001b[0m\u001b[1;33m,\u001b[0m \u001b[0mclay_left\u001b[0m\u001b[1;33m,\u001b[0m \u001b[0mobsbot\u001b[0m\u001b[1;33m,\u001b[0m \u001b[0mobs_left\u001b[0m \u001b[1;33m)\u001b[0m\u001b[1;33m\u001b[0m\u001b[1;33m\u001b[0m\u001b[0m\n\u001b[0m\u001b[0;32m     54\u001b[0m         \u001b[0mbest\u001b[0m \u001b[1;33m=\u001b[0m \u001b[0mmax\u001b[0m\u001b[1;33m(\u001b[0m \u001b[0mbest\u001b[0m\u001b[1;33m,\u001b[0m \u001b[0mgain\u001b[0m \u001b[1;33m)\u001b[0m\u001b[1;33m\u001b[0m\u001b[1;33m\u001b[0m\u001b[0m\n\u001b[0;32m     55\u001b[0m \u001b[1;33m\u001b[0m\u001b[0m\n",
      "\u001b[1;32m<ipython-input-87-424c67224b8b>\u001b[0m in \u001b[0;36mrobot_factory\u001b[1;34m(time, bp, orebot, ore, claybot, clay, obsbot, obs)\u001b[0m\n\u001b[0;32m     51\u001b[0m         \u001b[0mobs_left\u001b[0m \u001b[1;33m=\u001b[0m \u001b[0mobs\u001b[0m \u001b[1;33m+\u001b[0m \u001b[0mobsbot\u001b[0m \u001b[1;33m*\u001b[0m \u001b[0mtime_needed\u001b[0m\u001b[1;33m\u001b[0m\u001b[1;33m\u001b[0m\u001b[0m\n\u001b[0;32m     52\u001b[0m \u001b[1;33m\u001b[0m\u001b[0m\n\u001b[1;32m---> 53\u001b[1;33m         \u001b[0mgain\u001b[0m \u001b[1;33m=\u001b[0m \u001b[0mrobot_factory\u001b[0m\u001b[1;33m(\u001b[0m \u001b[0mtime_left\u001b[0m\u001b[1;33m,\u001b[0m \u001b[0mbp\u001b[0m\u001b[1;33m,\u001b[0m\u001b[0morebot\u001b[0m\u001b[1;33m,\u001b[0m \u001b[0more_left\u001b[0m\u001b[1;33m,\u001b[0m \u001b[0mclaybot\u001b[0m\u001b[1;33m+\u001b[0m\u001b[1;36m1\u001b[0m\u001b[1;33m,\u001b[0m \u001b[0mclay_left\u001b[0m\u001b[1;33m,\u001b[0m \u001b[0mobsbot\u001b[0m\u001b[1;33m,\u001b[0m \u001b[0mobs_left\u001b[0m \u001b[1;33m)\u001b[0m\u001b[1;33m\u001b[0m\u001b[1;33m\u001b[0m\u001b[0m\n\u001b[0m\u001b[0;32m     54\u001b[0m         \u001b[0mbest\u001b[0m \u001b[1;33m=\u001b[0m \u001b[0mmax\u001b[0m\u001b[1;33m(\u001b[0m \u001b[0mbest\u001b[0m\u001b[1;33m,\u001b[0m \u001b[0mgain\u001b[0m \u001b[1;33m)\u001b[0m\u001b[1;33m\u001b[0m\u001b[1;33m\u001b[0m\u001b[0m\n\u001b[0;32m     55\u001b[0m \u001b[1;33m\u001b[0m\u001b[0m\n",
      "\u001b[1;32m<ipython-input-87-424c67224b8b>\u001b[0m in \u001b[0;36mrobot_factory\u001b[1;34m(time, bp, orebot, ore, claybot, clay, obsbot, obs)\u001b[0m\n\u001b[0;32m     51\u001b[0m         \u001b[0mobs_left\u001b[0m \u001b[1;33m=\u001b[0m \u001b[0mobs\u001b[0m \u001b[1;33m+\u001b[0m \u001b[0mobsbot\u001b[0m \u001b[1;33m*\u001b[0m \u001b[0mtime_needed\u001b[0m\u001b[1;33m\u001b[0m\u001b[1;33m\u001b[0m\u001b[0m\n\u001b[0;32m     52\u001b[0m \u001b[1;33m\u001b[0m\u001b[0m\n\u001b[1;32m---> 53\u001b[1;33m         \u001b[0mgain\u001b[0m \u001b[1;33m=\u001b[0m \u001b[0mrobot_factory\u001b[0m\u001b[1;33m(\u001b[0m \u001b[0mtime_left\u001b[0m\u001b[1;33m,\u001b[0m \u001b[0mbp\u001b[0m\u001b[1;33m,\u001b[0m\u001b[0morebot\u001b[0m\u001b[1;33m,\u001b[0m \u001b[0more_left\u001b[0m\u001b[1;33m,\u001b[0m \u001b[0mclaybot\u001b[0m\u001b[1;33m+\u001b[0m\u001b[1;36m1\u001b[0m\u001b[1;33m,\u001b[0m \u001b[0mclay_left\u001b[0m\u001b[1;33m,\u001b[0m \u001b[0mobsbot\u001b[0m\u001b[1;33m,\u001b[0m \u001b[0mobs_left\u001b[0m \u001b[1;33m)\u001b[0m\u001b[1;33m\u001b[0m\u001b[1;33m\u001b[0m\u001b[0m\n\u001b[0m\u001b[0;32m     54\u001b[0m         \u001b[0mbest\u001b[0m \u001b[1;33m=\u001b[0m \u001b[0mmax\u001b[0m\u001b[1;33m(\u001b[0m \u001b[0mbest\u001b[0m\u001b[1;33m,\u001b[0m \u001b[0mgain\u001b[0m \u001b[1;33m)\u001b[0m\u001b[1;33m\u001b[0m\u001b[1;33m\u001b[0m\u001b[0m\n\u001b[0;32m     55\u001b[0m \u001b[1;33m\u001b[0m\u001b[0m\n",
      "\u001b[1;32m<ipython-input-87-424c67224b8b>\u001b[0m in \u001b[0;36mrobot_factory\u001b[1;34m(time, bp, orebot, ore, claybot, clay, obsbot, obs)\u001b[0m\n\u001b[0;32m     70\u001b[0m             \u001b[0mobs_left\u001b[0m \u001b[1;33m=\u001b[0m \u001b[0mobs\u001b[0m \u001b[1;33m+\u001b[0m \u001b[0mobsbot\u001b[0m \u001b[1;33m*\u001b[0m \u001b[0mtime_needed\u001b[0m\u001b[1;33m\u001b[0m\u001b[1;33m\u001b[0m\u001b[0m\n\u001b[0;32m     71\u001b[0m \u001b[1;33m\u001b[0m\u001b[0m\n\u001b[1;32m---> 72\u001b[1;33m             \u001b[0mgain\u001b[0m \u001b[1;33m=\u001b[0m \u001b[0mrobot_factory\u001b[0m\u001b[1;33m(\u001b[0m \u001b[0mtime_left\u001b[0m\u001b[1;33m,\u001b[0m \u001b[0mbp\u001b[0m\u001b[1;33m,\u001b[0m \u001b[0morebot\u001b[0m\u001b[1;33m,\u001b[0m \u001b[0more_left\u001b[0m\u001b[1;33m,\u001b[0m \u001b[0mclaybot\u001b[0m\u001b[1;33m,\u001b[0m \u001b[0mclay_left\u001b[0m\u001b[1;33m,\u001b[0m \u001b[0mobsbot\u001b[0m\u001b[1;33m+\u001b[0m\u001b[1;36m1\u001b[0m\u001b[1;33m,\u001b[0m \u001b[0mobs_left\u001b[0m \u001b[1;33m)\u001b[0m\u001b[1;33m\u001b[0m\u001b[1;33m\u001b[0m\u001b[0m\n\u001b[0m\u001b[0;32m     73\u001b[0m             \u001b[0mbest\u001b[0m \u001b[1;33m=\u001b[0m \u001b[0mmax\u001b[0m\u001b[1;33m(\u001b[0m\u001b[0mbest\u001b[0m\u001b[1;33m,\u001b[0m \u001b[0mgain\u001b[0m\u001b[1;33m)\u001b[0m\u001b[1;33m\u001b[0m\u001b[1;33m\u001b[0m\u001b[0m\n\u001b[0;32m     74\u001b[0m \u001b[1;33m\u001b[0m\u001b[0m\n",
      "\u001b[1;32m<ipython-input-87-424c67224b8b>\u001b[0m in \u001b[0;36mrobot_factory\u001b[1;34m(time, bp, orebot, ore, claybot, clay, obsbot, obs)\u001b[0m\n\u001b[0;32m     35\u001b[0m \u001b[1;33m\u001b[0m\u001b[0m\n\u001b[0;32m     36\u001b[0m         \u001b[1;31m# Iterate, but we have one more orebot, and a different amount of ore/clay/obs/time\u001b[0m\u001b[1;33m\u001b[0m\u001b[1;33m\u001b[0m\u001b[1;33m\u001b[0m\u001b[0m\n\u001b[1;32m---> 37\u001b[1;33m         \u001b[0mgain\u001b[0m \u001b[1;33m=\u001b[0m \u001b[0mrobot_factory\u001b[0m\u001b[1;33m(\u001b[0m \u001b[0mtime_left\u001b[0m\u001b[1;33m,\u001b[0m \u001b[0mbp\u001b[0m\u001b[1;33m,\u001b[0m \u001b[0morebot\u001b[0m\u001b[1;33m+\u001b[0m\u001b[1;36m1\u001b[0m\u001b[1;33m,\u001b[0m \u001b[0more_left\u001b[0m\u001b[1;33m,\u001b[0m \u001b[0mclaybot\u001b[0m\u001b[1;33m,\u001b[0m \u001b[0mclay_left\u001b[0m\u001b[1;33m,\u001b[0m \u001b[0mobsbot\u001b[0m\u001b[1;33m,\u001b[0m \u001b[0mobs_left\u001b[0m\u001b[1;33m)\u001b[0m\u001b[1;33m\u001b[0m\u001b[1;33m\u001b[0m\u001b[0m\n\u001b[0m\u001b[0;32m     38\u001b[0m         \u001b[0mbest\u001b[0m \u001b[1;33m=\u001b[0m \u001b[0mmax\u001b[0m\u001b[1;33m(\u001b[0m \u001b[0mbest\u001b[0m\u001b[1;33m,\u001b[0m \u001b[0mgain\u001b[0m \u001b[1;33m)\u001b[0m\u001b[1;33m\u001b[0m\u001b[1;33m\u001b[0m\u001b[0m\n\u001b[0;32m     39\u001b[0m \u001b[1;33m\u001b[0m\u001b[0m\n",
      "\u001b[1;32m<ipython-input-87-424c67224b8b>\u001b[0m in \u001b[0;36mrobot_factory\u001b[1;34m(time, bp, orebot, ore, claybot, clay, obsbot, obs)\u001b[0m\n\u001b[0;32m     51\u001b[0m         \u001b[0mobs_left\u001b[0m \u001b[1;33m=\u001b[0m \u001b[0mobs\u001b[0m \u001b[1;33m+\u001b[0m \u001b[0mobsbot\u001b[0m \u001b[1;33m*\u001b[0m \u001b[0mtime_needed\u001b[0m\u001b[1;33m\u001b[0m\u001b[1;33m\u001b[0m\u001b[0m\n\u001b[0;32m     52\u001b[0m \u001b[1;33m\u001b[0m\u001b[0m\n\u001b[1;32m---> 53\u001b[1;33m         \u001b[0mgain\u001b[0m \u001b[1;33m=\u001b[0m \u001b[0mrobot_factory\u001b[0m\u001b[1;33m(\u001b[0m \u001b[0mtime_left\u001b[0m\u001b[1;33m,\u001b[0m \u001b[0mbp\u001b[0m\u001b[1;33m,\u001b[0m\u001b[0morebot\u001b[0m\u001b[1;33m,\u001b[0m \u001b[0more_left\u001b[0m\u001b[1;33m,\u001b[0m \u001b[0mclaybot\u001b[0m\u001b[1;33m+\u001b[0m\u001b[1;36m1\u001b[0m\u001b[1;33m,\u001b[0m \u001b[0mclay_left\u001b[0m\u001b[1;33m,\u001b[0m \u001b[0mobsbot\u001b[0m\u001b[1;33m,\u001b[0m \u001b[0mobs_left\u001b[0m \u001b[1;33m)\u001b[0m\u001b[1;33m\u001b[0m\u001b[1;33m\u001b[0m\u001b[0m\n\u001b[0m\u001b[0;32m     54\u001b[0m         \u001b[0mbest\u001b[0m \u001b[1;33m=\u001b[0m \u001b[0mmax\u001b[0m\u001b[1;33m(\u001b[0m \u001b[0mbest\u001b[0m\u001b[1;33m,\u001b[0m \u001b[0mgain\u001b[0m \u001b[1;33m)\u001b[0m\u001b[1;33m\u001b[0m\u001b[1;33m\u001b[0m\u001b[0m\n\u001b[0;32m     55\u001b[0m \u001b[1;33m\u001b[0m\u001b[0m\n",
      "\u001b[1;32m<ipython-input-87-424c67224b8b>\u001b[0m in \u001b[0;36mrobot_factory\u001b[1;34m(time, bp, orebot, ore, claybot, clay, obsbot, obs)\u001b[0m\n\u001b[0;32m     51\u001b[0m         \u001b[0mobs_left\u001b[0m \u001b[1;33m=\u001b[0m \u001b[0mobs\u001b[0m \u001b[1;33m+\u001b[0m \u001b[0mobsbot\u001b[0m \u001b[1;33m*\u001b[0m \u001b[0mtime_needed\u001b[0m\u001b[1;33m\u001b[0m\u001b[1;33m\u001b[0m\u001b[0m\n\u001b[0;32m     52\u001b[0m \u001b[1;33m\u001b[0m\u001b[0m\n\u001b[1;32m---> 53\u001b[1;33m         \u001b[0mgain\u001b[0m \u001b[1;33m=\u001b[0m \u001b[0mrobot_factory\u001b[0m\u001b[1;33m(\u001b[0m \u001b[0mtime_left\u001b[0m\u001b[1;33m,\u001b[0m \u001b[0mbp\u001b[0m\u001b[1;33m,\u001b[0m\u001b[0morebot\u001b[0m\u001b[1;33m,\u001b[0m \u001b[0more_left\u001b[0m\u001b[1;33m,\u001b[0m \u001b[0mclaybot\u001b[0m\u001b[1;33m+\u001b[0m\u001b[1;36m1\u001b[0m\u001b[1;33m,\u001b[0m \u001b[0mclay_left\u001b[0m\u001b[1;33m,\u001b[0m \u001b[0mobsbot\u001b[0m\u001b[1;33m,\u001b[0m \u001b[0mobs_left\u001b[0m \u001b[1;33m)\u001b[0m\u001b[1;33m\u001b[0m\u001b[1;33m\u001b[0m\u001b[0m\n\u001b[0m\u001b[0;32m     54\u001b[0m         \u001b[0mbest\u001b[0m \u001b[1;33m=\u001b[0m \u001b[0mmax\u001b[0m\u001b[1;33m(\u001b[0m \u001b[0mbest\u001b[0m\u001b[1;33m,\u001b[0m \u001b[0mgain\u001b[0m \u001b[1;33m)\u001b[0m\u001b[1;33m\u001b[0m\u001b[1;33m\u001b[0m\u001b[0m\n\u001b[0;32m     55\u001b[0m \u001b[1;33m\u001b[0m\u001b[0m\n",
      "\u001b[1;32m<ipython-input-87-424c67224b8b>\u001b[0m in \u001b[0;36mrobot_factory\u001b[1;34m(time, bp, orebot, ore, claybot, clay, obsbot, obs)\u001b[0m\n\u001b[0;32m     70\u001b[0m             \u001b[0mobs_left\u001b[0m \u001b[1;33m=\u001b[0m \u001b[0mobs\u001b[0m \u001b[1;33m+\u001b[0m \u001b[0mobsbot\u001b[0m \u001b[1;33m*\u001b[0m \u001b[0mtime_needed\u001b[0m\u001b[1;33m\u001b[0m\u001b[1;33m\u001b[0m\u001b[0m\n\u001b[0;32m     71\u001b[0m \u001b[1;33m\u001b[0m\u001b[0m\n\u001b[1;32m---> 72\u001b[1;33m             \u001b[0mgain\u001b[0m \u001b[1;33m=\u001b[0m \u001b[0mrobot_factory\u001b[0m\u001b[1;33m(\u001b[0m \u001b[0mtime_left\u001b[0m\u001b[1;33m,\u001b[0m \u001b[0mbp\u001b[0m\u001b[1;33m,\u001b[0m \u001b[0morebot\u001b[0m\u001b[1;33m,\u001b[0m \u001b[0more_left\u001b[0m\u001b[1;33m,\u001b[0m \u001b[0mclaybot\u001b[0m\u001b[1;33m,\u001b[0m \u001b[0mclay_left\u001b[0m\u001b[1;33m,\u001b[0m \u001b[0mobsbot\u001b[0m\u001b[1;33m+\u001b[0m\u001b[1;36m1\u001b[0m\u001b[1;33m,\u001b[0m \u001b[0mobs_left\u001b[0m \u001b[1;33m)\u001b[0m\u001b[1;33m\u001b[0m\u001b[1;33m\u001b[0m\u001b[0m\n\u001b[0m\u001b[0;32m     73\u001b[0m             \u001b[0mbest\u001b[0m \u001b[1;33m=\u001b[0m \u001b[0mmax\u001b[0m\u001b[1;33m(\u001b[0m\u001b[0mbest\u001b[0m\u001b[1;33m,\u001b[0m \u001b[0mgain\u001b[0m\u001b[1;33m)\u001b[0m\u001b[1;33m\u001b[0m\u001b[1;33m\u001b[0m\u001b[0m\n\u001b[0;32m     74\u001b[0m \u001b[1;33m\u001b[0m\u001b[0m\n",
      "\u001b[1;32m<ipython-input-87-424c67224b8b>\u001b[0m in \u001b[0;36mrobot_factory\u001b[1;34m(time, bp, orebot, ore, claybot, clay, obsbot, obs)\u001b[0m\n\u001b[0;32m     70\u001b[0m             \u001b[0mobs_left\u001b[0m \u001b[1;33m=\u001b[0m \u001b[0mobs\u001b[0m \u001b[1;33m+\u001b[0m \u001b[0mobsbot\u001b[0m \u001b[1;33m*\u001b[0m \u001b[0mtime_needed\u001b[0m\u001b[1;33m\u001b[0m\u001b[1;33m\u001b[0m\u001b[0m\n\u001b[0;32m     71\u001b[0m \u001b[1;33m\u001b[0m\u001b[0m\n\u001b[1;32m---> 72\u001b[1;33m             \u001b[0mgain\u001b[0m \u001b[1;33m=\u001b[0m \u001b[0mrobot_factory\u001b[0m\u001b[1;33m(\u001b[0m \u001b[0mtime_left\u001b[0m\u001b[1;33m,\u001b[0m \u001b[0mbp\u001b[0m\u001b[1;33m,\u001b[0m \u001b[0morebot\u001b[0m\u001b[1;33m,\u001b[0m \u001b[0more_left\u001b[0m\u001b[1;33m,\u001b[0m \u001b[0mclaybot\u001b[0m\u001b[1;33m,\u001b[0m \u001b[0mclay_left\u001b[0m\u001b[1;33m,\u001b[0m \u001b[0mobsbot\u001b[0m\u001b[1;33m+\u001b[0m\u001b[1;36m1\u001b[0m\u001b[1;33m,\u001b[0m \u001b[0mobs_left\u001b[0m \u001b[1;33m)\u001b[0m\u001b[1;33m\u001b[0m\u001b[1;33m\u001b[0m\u001b[0m\n\u001b[0m\u001b[0;32m     73\u001b[0m             \u001b[0mbest\u001b[0m \u001b[1;33m=\u001b[0m \u001b[0mmax\u001b[0m\u001b[1;33m(\u001b[0m\u001b[0mbest\u001b[0m\u001b[1;33m,\u001b[0m \u001b[0mgain\u001b[0m\u001b[1;33m)\u001b[0m\u001b[1;33m\u001b[0m\u001b[1;33m\u001b[0m\u001b[0m\n\u001b[0;32m     74\u001b[0m \u001b[1;33m\u001b[0m\u001b[0m\n",
      "\u001b[1;32m<ipython-input-87-424c67224b8b>\u001b[0m in \u001b[0;36mrobot_factory\u001b[1;34m(time, bp, orebot, ore, claybot, clay, obsbot, obs)\u001b[0m\n\u001b[0;32m     70\u001b[0m             \u001b[0mobs_left\u001b[0m \u001b[1;33m=\u001b[0m \u001b[0mobs\u001b[0m \u001b[1;33m+\u001b[0m \u001b[0mobsbot\u001b[0m \u001b[1;33m*\u001b[0m \u001b[0mtime_needed\u001b[0m\u001b[1;33m\u001b[0m\u001b[1;33m\u001b[0m\u001b[0m\n\u001b[0;32m     71\u001b[0m \u001b[1;33m\u001b[0m\u001b[0m\n\u001b[1;32m---> 72\u001b[1;33m             \u001b[0mgain\u001b[0m \u001b[1;33m=\u001b[0m \u001b[0mrobot_factory\u001b[0m\u001b[1;33m(\u001b[0m \u001b[0mtime_left\u001b[0m\u001b[1;33m,\u001b[0m \u001b[0mbp\u001b[0m\u001b[1;33m,\u001b[0m \u001b[0morebot\u001b[0m\u001b[1;33m,\u001b[0m \u001b[0more_left\u001b[0m\u001b[1;33m,\u001b[0m \u001b[0mclaybot\u001b[0m\u001b[1;33m,\u001b[0m \u001b[0mclay_left\u001b[0m\u001b[1;33m,\u001b[0m \u001b[0mobsbot\u001b[0m\u001b[1;33m+\u001b[0m\u001b[1;36m1\u001b[0m\u001b[1;33m,\u001b[0m \u001b[0mobs_left\u001b[0m \u001b[1;33m)\u001b[0m\u001b[1;33m\u001b[0m\u001b[1;33m\u001b[0m\u001b[0m\n\u001b[0m\u001b[0;32m     73\u001b[0m             \u001b[0mbest\u001b[0m \u001b[1;33m=\u001b[0m \u001b[0mmax\u001b[0m\u001b[1;33m(\u001b[0m\u001b[0mbest\u001b[0m\u001b[1;33m,\u001b[0m \u001b[0mgain\u001b[0m\u001b[1;33m)\u001b[0m\u001b[1;33m\u001b[0m\u001b[1;33m\u001b[0m\u001b[0m\n\u001b[0;32m     74\u001b[0m \u001b[1;33m\u001b[0m\u001b[0m\n",
      "\u001b[1;32m<ipython-input-87-424c67224b8b>\u001b[0m in \u001b[0;36mrobot_factory\u001b[1;34m(time, bp, orebot, ore, claybot, clay, obsbot, obs)\u001b[0m\n\u001b[0;32m     70\u001b[0m             \u001b[0mobs_left\u001b[0m \u001b[1;33m=\u001b[0m \u001b[0mobs\u001b[0m \u001b[1;33m+\u001b[0m \u001b[0mobsbot\u001b[0m \u001b[1;33m*\u001b[0m \u001b[0mtime_needed\u001b[0m\u001b[1;33m\u001b[0m\u001b[1;33m\u001b[0m\u001b[0m\n\u001b[0;32m     71\u001b[0m \u001b[1;33m\u001b[0m\u001b[0m\n\u001b[1;32m---> 72\u001b[1;33m             \u001b[0mgain\u001b[0m \u001b[1;33m=\u001b[0m \u001b[0mrobot_factory\u001b[0m\u001b[1;33m(\u001b[0m \u001b[0mtime_left\u001b[0m\u001b[1;33m,\u001b[0m \u001b[0mbp\u001b[0m\u001b[1;33m,\u001b[0m \u001b[0morebot\u001b[0m\u001b[1;33m,\u001b[0m \u001b[0more_left\u001b[0m\u001b[1;33m,\u001b[0m \u001b[0mclaybot\u001b[0m\u001b[1;33m,\u001b[0m \u001b[0mclay_left\u001b[0m\u001b[1;33m,\u001b[0m \u001b[0mobsbot\u001b[0m\u001b[1;33m+\u001b[0m\u001b[1;36m1\u001b[0m\u001b[1;33m,\u001b[0m \u001b[0mobs_left\u001b[0m \u001b[1;33m)\u001b[0m\u001b[1;33m\u001b[0m\u001b[1;33m\u001b[0m\u001b[0m\n\u001b[0m\u001b[0;32m     73\u001b[0m             \u001b[0mbest\u001b[0m \u001b[1;33m=\u001b[0m \u001b[0mmax\u001b[0m\u001b[1;33m(\u001b[0m\u001b[0mbest\u001b[0m\u001b[1;33m,\u001b[0m \u001b[0mgain\u001b[0m\u001b[1;33m)\u001b[0m\u001b[1;33m\u001b[0m\u001b[1;33m\u001b[0m\u001b[0m\n\u001b[0;32m     74\u001b[0m \u001b[1;33m\u001b[0m\u001b[0m\n",
      "\u001b[1;32m<ipython-input-87-424c67224b8b>\u001b[0m in \u001b[0;36mrobot_factory\u001b[1;34m(time, bp, orebot, ore, claybot, clay, obsbot, obs)\u001b[0m\n\u001b[0;32m     70\u001b[0m             \u001b[0mobs_left\u001b[0m \u001b[1;33m=\u001b[0m \u001b[0mobs\u001b[0m \u001b[1;33m+\u001b[0m \u001b[0mobsbot\u001b[0m \u001b[1;33m*\u001b[0m \u001b[0mtime_needed\u001b[0m\u001b[1;33m\u001b[0m\u001b[1;33m\u001b[0m\u001b[0m\n\u001b[0;32m     71\u001b[0m \u001b[1;33m\u001b[0m\u001b[0m\n\u001b[1;32m---> 72\u001b[1;33m             \u001b[0mgain\u001b[0m \u001b[1;33m=\u001b[0m \u001b[0mrobot_factory\u001b[0m\u001b[1;33m(\u001b[0m \u001b[0mtime_left\u001b[0m\u001b[1;33m,\u001b[0m \u001b[0mbp\u001b[0m\u001b[1;33m,\u001b[0m \u001b[0morebot\u001b[0m\u001b[1;33m,\u001b[0m \u001b[0more_left\u001b[0m\u001b[1;33m,\u001b[0m \u001b[0mclaybot\u001b[0m\u001b[1;33m,\u001b[0m \u001b[0mclay_left\u001b[0m\u001b[1;33m,\u001b[0m \u001b[0mobsbot\u001b[0m\u001b[1;33m+\u001b[0m\u001b[1;36m1\u001b[0m\u001b[1;33m,\u001b[0m \u001b[0mobs_left\u001b[0m \u001b[1;33m)\u001b[0m\u001b[1;33m\u001b[0m\u001b[1;33m\u001b[0m\u001b[0m\n\u001b[0m\u001b[0;32m     73\u001b[0m             \u001b[0mbest\u001b[0m \u001b[1;33m=\u001b[0m \u001b[0mmax\u001b[0m\u001b[1;33m(\u001b[0m\u001b[0mbest\u001b[0m\u001b[1;33m,\u001b[0m \u001b[0mgain\u001b[0m\u001b[1;33m)\u001b[0m\u001b[1;33m\u001b[0m\u001b[1;33m\u001b[0m\u001b[0m\n\u001b[0;32m     74\u001b[0m \u001b[1;33m\u001b[0m\u001b[0m\n",
      "\u001b[1;32m<ipython-input-87-424c67224b8b>\u001b[0m in \u001b[0;36mrobot_factory\u001b[1;34m(time, bp, orebot, ore, claybot, clay, obsbot, obs)\u001b[0m\n\u001b[0;32m     51\u001b[0m         \u001b[0mobs_left\u001b[0m \u001b[1;33m=\u001b[0m \u001b[0mobs\u001b[0m \u001b[1;33m+\u001b[0m \u001b[0mobsbot\u001b[0m \u001b[1;33m*\u001b[0m \u001b[0mtime_needed\u001b[0m\u001b[1;33m\u001b[0m\u001b[1;33m\u001b[0m\u001b[0m\n\u001b[0;32m     52\u001b[0m \u001b[1;33m\u001b[0m\u001b[0m\n\u001b[1;32m---> 53\u001b[1;33m         \u001b[0mgain\u001b[0m \u001b[1;33m=\u001b[0m \u001b[0mrobot_factory\u001b[0m\u001b[1;33m(\u001b[0m \u001b[0mtime_left\u001b[0m\u001b[1;33m,\u001b[0m \u001b[0mbp\u001b[0m\u001b[1;33m,\u001b[0m\u001b[0morebot\u001b[0m\u001b[1;33m,\u001b[0m \u001b[0more_left\u001b[0m\u001b[1;33m,\u001b[0m \u001b[0mclaybot\u001b[0m\u001b[1;33m+\u001b[0m\u001b[1;36m1\u001b[0m\u001b[1;33m,\u001b[0m \u001b[0mclay_left\u001b[0m\u001b[1;33m,\u001b[0m \u001b[0mobsbot\u001b[0m\u001b[1;33m,\u001b[0m \u001b[0mobs_left\u001b[0m \u001b[1;33m)\u001b[0m\u001b[1;33m\u001b[0m\u001b[1;33m\u001b[0m\u001b[0m\n\u001b[0m\u001b[0;32m     54\u001b[0m         \u001b[0mbest\u001b[0m \u001b[1;33m=\u001b[0m \u001b[0mmax\u001b[0m\u001b[1;33m(\u001b[0m \u001b[0mbest\u001b[0m\u001b[1;33m,\u001b[0m \u001b[0mgain\u001b[0m \u001b[1;33m)\u001b[0m\u001b[1;33m\u001b[0m\u001b[1;33m\u001b[0m\u001b[0m\n\u001b[0;32m     55\u001b[0m \u001b[1;33m\u001b[0m\u001b[0m\n",
      "\u001b[1;32m<ipython-input-87-424c67224b8b>\u001b[0m in \u001b[0;36mrobot_factory\u001b[1;34m(time, bp, orebot, ore, claybot, clay, obsbot, obs)\u001b[0m\n\u001b[0;32m     51\u001b[0m         \u001b[0mobs_left\u001b[0m \u001b[1;33m=\u001b[0m \u001b[0mobs\u001b[0m \u001b[1;33m+\u001b[0m \u001b[0mobsbot\u001b[0m \u001b[1;33m*\u001b[0m \u001b[0mtime_needed\u001b[0m\u001b[1;33m\u001b[0m\u001b[1;33m\u001b[0m\u001b[0m\n\u001b[0;32m     52\u001b[0m \u001b[1;33m\u001b[0m\u001b[0m\n\u001b[1;32m---> 53\u001b[1;33m         \u001b[0mgain\u001b[0m \u001b[1;33m=\u001b[0m \u001b[0mrobot_factory\u001b[0m\u001b[1;33m(\u001b[0m \u001b[0mtime_left\u001b[0m\u001b[1;33m,\u001b[0m \u001b[0mbp\u001b[0m\u001b[1;33m,\u001b[0m\u001b[0morebot\u001b[0m\u001b[1;33m,\u001b[0m \u001b[0more_left\u001b[0m\u001b[1;33m,\u001b[0m \u001b[0mclaybot\u001b[0m\u001b[1;33m+\u001b[0m\u001b[1;36m1\u001b[0m\u001b[1;33m,\u001b[0m \u001b[0mclay_left\u001b[0m\u001b[1;33m,\u001b[0m \u001b[0mobsbot\u001b[0m\u001b[1;33m,\u001b[0m \u001b[0mobs_left\u001b[0m \u001b[1;33m)\u001b[0m\u001b[1;33m\u001b[0m\u001b[1;33m\u001b[0m\u001b[0m\n\u001b[0m\u001b[0;32m     54\u001b[0m         \u001b[0mbest\u001b[0m \u001b[1;33m=\u001b[0m \u001b[0mmax\u001b[0m\u001b[1;33m(\u001b[0m \u001b[0mbest\u001b[0m\u001b[1;33m,\u001b[0m \u001b[0mgain\u001b[0m \u001b[1;33m)\u001b[0m\u001b[1;33m\u001b[0m\u001b[1;33m\u001b[0m\u001b[0m\n\u001b[0;32m     55\u001b[0m \u001b[1;33m\u001b[0m\u001b[0m\n",
      "\u001b[1;32m<ipython-input-87-424c67224b8b>\u001b[0m in \u001b[0;36mrobot_factory\u001b[1;34m(time, bp, orebot, ore, claybot, clay, obsbot, obs)\u001b[0m\n\u001b[0;32m     70\u001b[0m             \u001b[0mobs_left\u001b[0m \u001b[1;33m=\u001b[0m \u001b[0mobs\u001b[0m \u001b[1;33m+\u001b[0m \u001b[0mobsbot\u001b[0m \u001b[1;33m*\u001b[0m \u001b[0mtime_needed\u001b[0m\u001b[1;33m\u001b[0m\u001b[1;33m\u001b[0m\u001b[0m\n\u001b[0;32m     71\u001b[0m \u001b[1;33m\u001b[0m\u001b[0m\n\u001b[1;32m---> 72\u001b[1;33m             \u001b[0mgain\u001b[0m \u001b[1;33m=\u001b[0m \u001b[0mrobot_factory\u001b[0m\u001b[1;33m(\u001b[0m \u001b[0mtime_left\u001b[0m\u001b[1;33m,\u001b[0m \u001b[0mbp\u001b[0m\u001b[1;33m,\u001b[0m \u001b[0morebot\u001b[0m\u001b[1;33m,\u001b[0m \u001b[0more_left\u001b[0m\u001b[1;33m,\u001b[0m \u001b[0mclaybot\u001b[0m\u001b[1;33m,\u001b[0m \u001b[0mclay_left\u001b[0m\u001b[1;33m,\u001b[0m \u001b[0mobsbot\u001b[0m\u001b[1;33m+\u001b[0m\u001b[1;36m1\u001b[0m\u001b[1;33m,\u001b[0m \u001b[0mobs_left\u001b[0m \u001b[1;33m)\u001b[0m\u001b[1;33m\u001b[0m\u001b[1;33m\u001b[0m\u001b[0m\n\u001b[0m\u001b[0;32m     73\u001b[0m             \u001b[0mbest\u001b[0m \u001b[1;33m=\u001b[0m \u001b[0mmax\u001b[0m\u001b[1;33m(\u001b[0m\u001b[0mbest\u001b[0m\u001b[1;33m,\u001b[0m \u001b[0mgain\u001b[0m\u001b[1;33m)\u001b[0m\u001b[1;33m\u001b[0m\u001b[1;33m\u001b[0m\u001b[0m\n\u001b[0;32m     74\u001b[0m \u001b[1;33m\u001b[0m\u001b[0m\n",
      "\u001b[1;32m<ipython-input-87-424c67224b8b>\u001b[0m in \u001b[0;36mrobot_factory\u001b[1;34m(time, bp, orebot, ore, claybot, clay, obsbot, obs)\u001b[0m\n\u001b[0;32m     51\u001b[0m         \u001b[0mobs_left\u001b[0m \u001b[1;33m=\u001b[0m \u001b[0mobs\u001b[0m \u001b[1;33m+\u001b[0m \u001b[0mobsbot\u001b[0m \u001b[1;33m*\u001b[0m \u001b[0mtime_needed\u001b[0m\u001b[1;33m\u001b[0m\u001b[1;33m\u001b[0m\u001b[0m\n\u001b[0;32m     52\u001b[0m \u001b[1;33m\u001b[0m\u001b[0m\n\u001b[1;32m---> 53\u001b[1;33m         \u001b[0mgain\u001b[0m \u001b[1;33m=\u001b[0m \u001b[0mrobot_factory\u001b[0m\u001b[1;33m(\u001b[0m \u001b[0mtime_left\u001b[0m\u001b[1;33m,\u001b[0m \u001b[0mbp\u001b[0m\u001b[1;33m,\u001b[0m\u001b[0morebot\u001b[0m\u001b[1;33m,\u001b[0m \u001b[0more_left\u001b[0m\u001b[1;33m,\u001b[0m \u001b[0mclaybot\u001b[0m\u001b[1;33m+\u001b[0m\u001b[1;36m1\u001b[0m\u001b[1;33m,\u001b[0m \u001b[0mclay_left\u001b[0m\u001b[1;33m,\u001b[0m \u001b[0mobsbot\u001b[0m\u001b[1;33m,\u001b[0m \u001b[0mobs_left\u001b[0m \u001b[1;33m)\u001b[0m\u001b[1;33m\u001b[0m\u001b[1;33m\u001b[0m\u001b[0m\n\u001b[0m\u001b[0;32m     54\u001b[0m         \u001b[0mbest\u001b[0m \u001b[1;33m=\u001b[0m \u001b[0mmax\u001b[0m\u001b[1;33m(\u001b[0m \u001b[0mbest\u001b[0m\u001b[1;33m,\u001b[0m \u001b[0mgain\u001b[0m \u001b[1;33m)\u001b[0m\u001b[1;33m\u001b[0m\u001b[1;33m\u001b[0m\u001b[0m\n\u001b[0;32m     55\u001b[0m \u001b[1;33m\u001b[0m\u001b[0m\n",
      "\u001b[1;32m<ipython-input-87-424c67224b8b>\u001b[0m in \u001b[0;36mrobot_factory\u001b[1;34m(time, bp, orebot, ore, claybot, clay, obsbot, obs)\u001b[0m\n\u001b[0;32m     51\u001b[0m         \u001b[0mobs_left\u001b[0m \u001b[1;33m=\u001b[0m \u001b[0mobs\u001b[0m \u001b[1;33m+\u001b[0m \u001b[0mobsbot\u001b[0m \u001b[1;33m*\u001b[0m \u001b[0mtime_needed\u001b[0m\u001b[1;33m\u001b[0m\u001b[1;33m\u001b[0m\u001b[0m\n\u001b[0;32m     52\u001b[0m \u001b[1;33m\u001b[0m\u001b[0m\n\u001b[1;32m---> 53\u001b[1;33m         \u001b[0mgain\u001b[0m \u001b[1;33m=\u001b[0m \u001b[0mrobot_factory\u001b[0m\u001b[1;33m(\u001b[0m \u001b[0mtime_left\u001b[0m\u001b[1;33m,\u001b[0m \u001b[0mbp\u001b[0m\u001b[1;33m,\u001b[0m\u001b[0morebot\u001b[0m\u001b[1;33m,\u001b[0m \u001b[0more_left\u001b[0m\u001b[1;33m,\u001b[0m \u001b[0mclaybot\u001b[0m\u001b[1;33m+\u001b[0m\u001b[1;36m1\u001b[0m\u001b[1;33m,\u001b[0m \u001b[0mclay_left\u001b[0m\u001b[1;33m,\u001b[0m \u001b[0mobsbot\u001b[0m\u001b[1;33m,\u001b[0m \u001b[0mobs_left\u001b[0m \u001b[1;33m)\u001b[0m\u001b[1;33m\u001b[0m\u001b[1;33m\u001b[0m\u001b[0m\n\u001b[0m\u001b[0;32m     54\u001b[0m         \u001b[0mbest\u001b[0m \u001b[1;33m=\u001b[0m \u001b[0mmax\u001b[0m\u001b[1;33m(\u001b[0m \u001b[0mbest\u001b[0m\u001b[1;33m,\u001b[0m \u001b[0mgain\u001b[0m \u001b[1;33m)\u001b[0m\u001b[1;33m\u001b[0m\u001b[1;33m\u001b[0m\u001b[0m\n\u001b[0;32m     55\u001b[0m \u001b[1;33m\u001b[0m\u001b[0m\n",
      "\u001b[1;32m<ipython-input-87-424c67224b8b>\u001b[0m in \u001b[0;36mrobot_factory\u001b[1;34m(time, bp, orebot, ore, claybot, clay, obsbot, obs)\u001b[0m\n\u001b[0;32m     70\u001b[0m             \u001b[0mobs_left\u001b[0m \u001b[1;33m=\u001b[0m \u001b[0mobs\u001b[0m \u001b[1;33m+\u001b[0m \u001b[0mobsbot\u001b[0m \u001b[1;33m*\u001b[0m \u001b[0mtime_needed\u001b[0m\u001b[1;33m\u001b[0m\u001b[1;33m\u001b[0m\u001b[0m\n\u001b[0;32m     71\u001b[0m \u001b[1;33m\u001b[0m\u001b[0m\n\u001b[1;32m---> 72\u001b[1;33m             \u001b[0mgain\u001b[0m \u001b[1;33m=\u001b[0m \u001b[0mrobot_factory\u001b[0m\u001b[1;33m(\u001b[0m \u001b[0mtime_left\u001b[0m\u001b[1;33m,\u001b[0m \u001b[0mbp\u001b[0m\u001b[1;33m,\u001b[0m \u001b[0morebot\u001b[0m\u001b[1;33m,\u001b[0m \u001b[0more_left\u001b[0m\u001b[1;33m,\u001b[0m \u001b[0mclaybot\u001b[0m\u001b[1;33m,\u001b[0m \u001b[0mclay_left\u001b[0m\u001b[1;33m,\u001b[0m \u001b[0mobsbot\u001b[0m\u001b[1;33m+\u001b[0m\u001b[1;36m1\u001b[0m\u001b[1;33m,\u001b[0m \u001b[0mobs_left\u001b[0m \u001b[1;33m)\u001b[0m\u001b[1;33m\u001b[0m\u001b[1;33m\u001b[0m\u001b[0m\n\u001b[0m\u001b[0;32m     73\u001b[0m             \u001b[0mbest\u001b[0m \u001b[1;33m=\u001b[0m \u001b[0mmax\u001b[0m\u001b[1;33m(\u001b[0m\u001b[0mbest\u001b[0m\u001b[1;33m,\u001b[0m \u001b[0mgain\u001b[0m\u001b[1;33m)\u001b[0m\u001b[1;33m\u001b[0m\u001b[1;33m\u001b[0m\u001b[0m\n\u001b[0;32m     74\u001b[0m \u001b[1;33m\u001b[0m\u001b[0m\n",
      "\u001b[1;32m<ipython-input-87-424c67224b8b>\u001b[0m in \u001b[0;36mrobot_factory\u001b[1;34m(time, bp, orebot, ore, claybot, clay, obsbot, obs)\u001b[0m\n\u001b[0;32m     62\u001b[0m         \u001b[0mclay_needed\u001b[0m \u001b[1;33m=\u001b[0m \u001b[0mmax\u001b[0m\u001b[1;33m(\u001b[0m\u001b[0mclay_req\u001b[0m\u001b[1;33m-\u001b[0m\u001b[0mclay\u001b[0m\u001b[1;33m,\u001b[0m \u001b[1;36m0\u001b[0m\u001b[1;33m)\u001b[0m\u001b[1;33m\u001b[0m\u001b[1;33m\u001b[0m\u001b[0m\n\u001b[0;32m     63\u001b[0m \u001b[1;33m\u001b[0m\u001b[0m\n\u001b[1;32m---> 64\u001b[1;33m         \u001b[0mtime_needed\u001b[0m \u001b[1;33m=\u001b[0m \u001b[1;36m1\u001b[0m \u001b[1;33m+\u001b[0m \u001b[0mmax\u001b[0m\u001b[1;33m(\u001b[0m \u001b[0mceil\u001b[0m\u001b[1;33m(\u001b[0m\u001b[0more_needed\u001b[0m\u001b[1;33m/\u001b[0m\u001b[0morebot\u001b[0m\u001b[1;33m)\u001b[0m\u001b[1;33m,\u001b[0m \u001b[0mceil\u001b[0m\u001b[1;33m(\u001b[0m\u001b[0mclay_needed\u001b[0m\u001b[1;33m/\u001b[0m\u001b[0mclaybot\u001b[0m\u001b[1;33m)\u001b[0m \u001b[1;33m)\u001b[0m\u001b[1;33m\u001b[0m\u001b[1;33m\u001b[0m\u001b[0m\n\u001b[0m\u001b[0;32m     65\u001b[0m \u001b[1;33m\u001b[0m\u001b[0m\n\u001b[0;32m     66\u001b[0m         \u001b[1;32mif\u001b[0m \u001b[0mtime_needed\u001b[0m \u001b[1;33m<\u001b[0m \u001b[0mtime\u001b[0m\u001b[1;33m:\u001b[0m\u001b[1;33m\u001b[0m\u001b[1;33m\u001b[0m\u001b[0m\n",
      "\u001b[1;31mKeyboardInterrupt\u001b[0m: "
     ]
    }
   ],
   "source": [
    "out = []\n",
    "# I think some of these bps don't let you get any geodes...\n",
    "for bp in puz_bps[:3]:\n",
    "    memo = {}\n",
    "    ans = robot_factory(32, bp)\n",
    "    print(ans)\n",
    "    out.append(ans)"
   ]
  },
  {
   "cell_type": "code",
   "execution_count": null,
   "metadata": {},
   "outputs": [],
   "source": [
    "out[0] * out[1] * out[2]"
   ]
  }
 ],
 "metadata": {
  "kernelspec": {
   "display_name": "base",
   "language": "python",
   "name": "python3"
  },
  "language_info": {
   "codemirror_mode": {
    "name": "ipython",
    "version": 3
   },
   "file_extension": ".py",
   "mimetype": "text/x-python",
   "name": "python",
   "nbconvert_exporter": "python",
   "pygments_lexer": "ipython3",
   "version": "3.7.3"
  },
  "orig_nbformat": 4,
  "vscode": {
   "interpreter": {
    "hash": "ad2bdc8ecc057115af97d19610ffacc2b4e99fae6737bb82f5d7fb13d2f2c186"
   }
  }
 },
 "nbformat": 4,
 "nbformat_minor": 2
}
