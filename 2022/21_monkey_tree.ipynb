{
 "cells": [
  {
   "cell_type": "markdown",
   "metadata": {},
   "source": [
    "# December 21, 2022\n",
    "https://adventofcode.com/2022/day/21"
   ]
  },
  {
   "cell_type": "code",
   "execution_count": 4,
   "metadata": {},
   "outputs": [],
   "source": [
    "import re\n",
    "test_fn = \"data/21_test.txt\"\n",
    "puz_fn = \"data/21.txt\""
   ]
  },
  {
   "cell_type": "code",
   "execution_count": 42,
   "metadata": {},
   "outputs": [],
   "source": [
    "class MonkeyTree:\n",
    "    def __init__( self, fn ):\n",
    "        self.dict = {}\n",
    "        with open(fn, \"r\") as file:\n",
    "            while True:\n",
    "                line = file.readline().strip(\"\\n\")\n",
    "                if not line:\n",
    "                    break\n",
    "                simian = Monkey(line, self)\n",
    "                self.dict[ simian.name ] = simian\n",
    "\n",
    "    def get( self, monkey ):\n",
    "        return self.dict[monkey].value()\n",
    "\n",
    "    def __str__( self ):\n",
    "        return \"\\n\".join( [str(monkey) for monkey in self.dict.values()] )\n",
    "    def __repr__( self ):\n",
    "        return str(self)\n",
    "    \n",
    "class Monkey:\n",
    "    def __init__( self, line, tree ):\n",
    "        self.tree = tree\n",
    "        self.name, spec = line.split(\": \")\n",
    "        if re.fullmatch( r\"\\d+\", spec):\n",
    "            self.left = self.right = self.op = None\n",
    "            self.number = int(spec)\n",
    "        else:\n",
    "            self.left, self.op, self.right = spec.split(\" \")\n",
    "            self.number = None\n",
    "\n",
    "    def value(self):\n",
    "        if self.number is not None:\n",
    "            return self.number\n",
    "\n",
    "        # We could make this cooler by overloading these operators\n",
    "        if self.op == \"+\":\n",
    "            return self.tree.dict[self.left].value() + self.tree.dict[self.right].value()\n",
    "        if self.op == \"-\":\n",
    "            return self.tree.dict[self.left].value() - self.tree.dict[self.right].value()\n",
    "        if self.op == \"*\":\n",
    "            return self.tree.dict[self.left].value() * self.tree.dict[self.right].value()\n",
    "        if self.op == \"/\":\n",
    "            return self.tree.dict[self.left].value() / self.tree.dict[self.right].value()\n",
    "\n",
    "\n",
    "    def __str__(self):\n",
    "        if self.left is None:\n",
    "            return f'''{self.name} = {self.number}'''\n",
    "        else:\n",
    "            text = f'''{self.name} = {self.left} {self.op} {self.right} = '''\n",
    "            if self.number is None:\n",
    "                text += \"?\"\n",
    "            else:\n",
    "                text += self.number\n",
    "\n",
    "        return text\n",
    "\n",
    "    def __repr__(self):\n",
    "        return str(self)"
   ]
  },
  {
   "cell_type": "code",
   "execution_count": 28,
   "metadata": {},
   "outputs": [
    {
     "data": {
      "text/plain": [
       "root = pppw + sjmn = ?"
      ]
     },
     "execution_count": 28,
     "metadata": {},
     "output_type": "execute_result"
    }
   ],
   "source": [
    "Monkey(\"root: pppw + sjmn\", None)"
   ]
  },
  {
   "cell_type": "code",
   "execution_count": 29,
   "metadata": {},
   "outputs": [
    {
     "data": {
      "text/plain": [
       "zczc = 2"
      ]
     },
     "execution_count": 29,
     "metadata": {},
     "output_type": "execute_result"
    }
   ],
   "source": [
    "Monkey(\"zczc: 2\", None)"
   ]
  },
  {
   "cell_type": "markdown",
   "metadata": {},
   "source": [
    "### Part 1"
   ]
  },
  {
   "cell_type": "code",
   "execution_count": 43,
   "metadata": {},
   "outputs": [
    {
     "data": {
      "text/plain": [
       "root = pppw + sjmn = ?\n",
       "dbpl = 5\n",
       "cczh = sllz + lgvd = ?\n",
       "zczc = 2\n",
       "ptdq = humn - dvpt = ?\n",
       "dvpt = 3\n",
       "lfqf = 4\n",
       "humn = 5\n",
       "ljgn = 2\n",
       "sjmn = drzm * dbpl = ?\n",
       "sllz = 4\n",
       "pppw = cczh / lfqf = ?\n",
       "lgvd = ljgn * ptdq = ?\n",
       "drzm = hmdt - zczc = ?\n",
       "hmdt = 32"
      ]
     },
     "execution_count": 43,
     "metadata": {},
     "output_type": "execute_result"
    }
   ],
   "source": [
    "jungle = MonkeyTree( test_fn )\n",
    "jungle"
   ]
  },
  {
   "cell_type": "code",
   "execution_count": 45,
   "metadata": {},
   "outputs": [
    {
     "data": {
      "text/plain": [
       "152.0"
      ]
     },
     "execution_count": 45,
     "metadata": {},
     "output_type": "execute_result"
    }
   ],
   "source": [
    "jungle.get(\"root\")"
   ]
  },
  {
   "cell_type": "code",
   "execution_count": 46,
   "metadata": {},
   "outputs": [
    {
     "data": {
      "text/plain": [
       "169525884255464.0"
      ]
     },
     "execution_count": 46,
     "metadata": {},
     "output_type": "execute_result"
    }
   ],
   "source": [
    "jungle = MonkeyTree( puz_fn )\n",
    "jungle.get(\"root\")"
   ]
  },
  {
   "cell_type": "markdown",
   "metadata": {},
   "source": [
    "### Part 2\n",
    "Haha! I noticed that one monkey was named humn"
   ]
  },
  {
   "cell_type": "code",
   "execution_count": 73,
   "metadata": {},
   "outputs": [],
   "source": [
    "# Update class to treat humn specially\n",
    "\n",
    "class MonkeyTree:\n",
    "    def __init__( self, fn ):\n",
    "        self.dict = {}\n",
    "        with open(fn, \"r\") as file:\n",
    "            while True:\n",
    "                line = file.readline().strip(\"\\n\")\n",
    "                if not line:\n",
    "                    break\n",
    "                simian = Monkey(line, self)\n",
    "                self.dict[ simian.name ] = simian\n",
    "\n",
    "    def get( self, monkey ):\n",
    "        return self.dict[monkey].value()\n",
    "\n",
    "    def unknowns( self ):\n",
    "        return \"\\n\".join( [str(monkey) for monkey in self.dict.values() if monkey.value() is None])\n",
    "\n",
    "    def __str__( self ):\n",
    "        return \"\\n\".join( [str(monkey) for monkey in self.dict.values()] )\n",
    "    def __repr__( self ):\n",
    "        return str(self)\n",
    "    \n",
    "class Monkey:\n",
    "    def __init__( self, line, tree ):\n",
    "        self.tree = tree\n",
    "        self.name, spec = line.split(\": \")\n",
    "        if self.name == \"humn\":\n",
    "             self.left = self.right = self.op = self.number = None\n",
    "        elif re.fullmatch( r\"\\d+\", spec):\n",
    "            self.left = self.right = self.op = None\n",
    "            self.number = int(spec)\n",
    "        else:\n",
    "            self.left, self.op, self.right = spec.split(\" \")\n",
    "            self.number = None\n",
    "            if self.name == \"root\":\n",
    "                self.op = \"==\"\n",
    "\n",
    "    def value(self):\n",
    "        if self.number is not None:\n",
    "            return self.number\n",
    "\n",
    "        # Human doesn't know how to answer\n",
    "        if self.name == \"humn\":\n",
    "            return None\n",
    "\n",
    "        # We could make this cooler by overloading these operators\n",
    "        lv = self.tree.dict[self.left].value()\n",
    "        rv = self.tree.dict[self.right].value()\n",
    "        if lv is None or rv is None:\n",
    "            return None\n",
    "\n",
    "        if self.op == \"+\":\n",
    "            return lv + rv\n",
    "        if self.op == \"-\":\n",
    "            return lv - rv\n",
    "        if self.op == \"*\":\n",
    "            return lv * rv\n",
    "        if self.op == \"/\":\n",
    "            return lv / rv\n",
    "\n",
    "\n",
    "    def __str__(self):\n",
    "        if self.left is None:\n",
    "            return f'''{self.name} = {self.number}'''\n",
    "        else:\n",
    "            lv = self.tree.dict[self.left].value()\n",
    "            rv = self.tree.dict[self.right].value()\n",
    "            me = self.number\n",
    "            if lv is None:\n",
    "                lv = \"?\"\n",
    "            if rv is None:\n",
    "                rv = \"?\"\n",
    "            if self.number is None:\n",
    "                me = \"?\"\n",
    "            text = f'''{self.name} = {self.left} {self.op} {self.right} = {lv} {self.op} {rv} = {me}'''\n",
    "\n",
    "        return text\n",
    "\n",
    "    def __repr__(self):\n",
    "        return str(self)"
   ]
  },
  {
   "cell_type": "code",
   "execution_count": 81,
   "metadata": {},
   "outputs": [
    {
     "name": "stdout",
     "output_type": "stream",
     "text": [
      "root = pppw == sjmn = ? == 150 = ?\n",
      "cczh = sllz + lgvd = 4 + ? = ?\n",
      "ptdq = humn - dvpt = ? - 3 = ?\n",
      "humn = None\n",
      "pppw = cczh / lfqf = ? / 4 = ?\n",
      "lgvd = ljgn * ptdq = 2 * ? = ?\n"
     ]
    }
   ],
   "source": [
    "jungle = MonkeyTree( test_fn )\n",
    "jungle.get(\"root\")\n",
    "print( jungle.unknowns() )"
   ]
  },
  {
   "cell_type": "code",
   "execution_count": 82,
   "metadata": {},
   "outputs": [
    {
     "data": {
      "text/plain": [
       "301.0"
      ]
     },
     "execution_count": 82,
     "metadata": {},
     "output_type": "execute_result"
    }
   ],
   "source": [
    "# 150 == (4+(2*(x-3)))/4\n",
    "(((150 * 4) - 4) / 2) + 3"
   ]
  },
  {
   "cell_type": "code",
   "execution_count": 89,
   "metadata": {},
   "outputs": [],
   "source": [
    "def solve_human( jungle ):\n",
    "    root = jungle.dict[\"root\"]\n",
    "    lname = root.left\n",
    "    rname = root.right\n",
    "    lv = jungle.dict[lname].value()\n",
    "    rv = jungle.dict[rname].value()\n",
    "\n",
    "    if lv is None:\n",
    "        cur = rv\n",
    "        cmon = jungle.dict[lname]\n",
    "    else:\n",
    "        cur = lv\n",
    "        cmon = jungle.dict[rname]\n",
    "\n",
    "    # invert all the operations until we get back to humn\n",
    "    while cmon.name != \"humn\":\n",
    "        lmon = jungle.dict[ cmon.left ]\n",
    "        rmon = jungle.dict[ cmon.right ]\n",
    "        op, lv, rv = cmon.op, lmon.value(), rmon.value()\n",
    "        if lv is None:\n",
    "            if op == \"+\":\n",
    "                cur = cur - rv\n",
    "            elif op == \"-\":\n",
    "                cur = cur + rv\n",
    "            elif op == \"*\":\n",
    "                cur = cur / rv\n",
    "            else:\n",
    "                cur = cur * rv\n",
    "            # follow the unknown back to humn\n",
    "            cmon = lmon\n",
    "        else:\n",
    "            if op == \"+\":\n",
    "                cur = cur - lv\n",
    "            elif op == \"-\": \n",
    "                cur = lv - cur\n",
    "            elif op == \"*\":\n",
    "                cur = cur / lv\n",
    "            else:\n",
    "                cur = lv / cur\n",
    "            cmon = rmon\n",
    "\n",
    "    return cur"
   ]
  },
  {
   "cell_type": "code",
   "execution_count": 90,
   "metadata": {},
   "outputs": [
    {
     "data": {
      "text/plain": [
       "301.0"
      ]
     },
     "execution_count": 90,
     "metadata": {},
     "output_type": "execute_result"
    }
   ],
   "source": [
    "solve_human( jungle )"
   ]
  },
  {
   "cell_type": "code",
   "execution_count": 91,
   "metadata": {},
   "outputs": [
    {
     "data": {
      "text/plain": [
       "3247317268284.0"
      ]
     },
     "execution_count": 91,
     "metadata": {},
     "output_type": "execute_result"
    }
   ],
   "source": [
    "jungle = MonkeyTree( puz_fn )\n",
    "jungle.get(\"root\")\n",
    "solve_human( jungle )"
   ]
  }
 ],
 "metadata": {
  "kernelspec": {
   "display_name": "base",
   "language": "python",
   "name": "python3"
  },
  "language_info": {
   "codemirror_mode": {
    "name": "ipython",
    "version": 3
   },
   "file_extension": ".py",
   "mimetype": "text/x-python",
   "name": "python",
   "nbconvert_exporter": "python",
   "pygments_lexer": "ipython3",
   "version": "3.7.3"
  },
  "orig_nbformat": 4,
  "vscode": {
   "interpreter": {
    "hash": "ad2bdc8ecc057115af97d19610ffacc2b4e99fae6737bb82f5d7fb13d2f2c186"
   }
  }
 },
 "nbformat": 4,
 "nbformat_minor": 2
}
