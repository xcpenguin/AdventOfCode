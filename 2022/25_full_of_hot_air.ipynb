{
 "cells": [
  {
   "cell_type": "markdown",
   "metadata": {},
   "source": [
    "# Christmas 2022!\n",
    "https://adventofcode.com/2022/day/25"
   ]
  },
  {
   "cell_type": "code",
   "execution_count": 4,
   "metadata": {},
   "outputs": [],
   "source": [
    "import math"
   ]
  },
  {
   "cell_type": "code",
   "execution_count": null,
   "metadata": {},
   "outputs": [],
   "source": [
    "fn = \"../data/2022/25.txt\"\n",
    "with open(fn, \"r\") as file:\n",
    "    puz = [x.strip(\"\\n\") for x in file.readlines()]\n",
    "puz[:5], puz[-5:]\n"
   ]
  },
  {
   "cell_type": "code",
   "execution_count": 7,
   "metadata": {},
   "outputs": [],
   "source": [
    "brochure = {\n",
    "        0: [1,              \"1\"],\n",
    "        1: [2,              \"2\"],\n",
    "        2: [3,             \"1=\"],\n",
    "        3: [4,             \"1-\"],\n",
    "        4: [5,             \"10\"],\n",
    "        5: [6,             \"11\"],\n",
    "        6: [7,             \"12\"],\n",
    "        7: [8,             \"2=\"],\n",
    "        8: [9,             \"2-\"],\n",
    "        9: [10,             \"20\"],\n",
    "       10: [15,            \"1=0\"],\n",
    "       11: [20,            \"1-0\"],\n",
    "       12: [2022,         \"1=11-2\"],\n",
    "       13: [12345,        \"1-0---0\"],\n",
    "       14: [314159265,  \"1121-1110-1=0\"],\n",
    "}"
   ]
  },
  {
   "cell_type": "code",
   "execution_count": 8,
   "metadata": {},
   "outputs": [
    {
     "data": {
      "text/plain": [
       "{0: [1, '1'],\n",
       " 1: [2, '2'],\n",
       " 2: [3, '1='],\n",
       " 3: [4, '1-'],\n",
       " 4: [5, '10'],\n",
       " 5: [6, '11'],\n",
       " 6: [7, '12'],\n",
       " 7: [8, '2='],\n",
       " 8: [9, '2-'],\n",
       " 9: [10, '20'],\n",
       " 10: [15, '1=0'],\n",
       " 11: [20, '1-0'],\n",
       " 12: [2022, '1=11-2'],\n",
       " 13: [12345, '1-0---0'],\n",
       " 14: [314159265, '1121-1110-1=0']}"
      ]
     },
     "execution_count": 8,
     "metadata": {},
     "output_type": "execute_result"
    }
   ],
   "source": [
    "brochure"
   ]
  },
  {
   "cell_type": "code",
   "execution_count": 9,
   "metadata": {},
   "outputs": [],
   "source": [
    "def snafu_to_dec( s ):\n",
    "    smap = {\"2\":2, \"1\":1, \"0\":0, \"-\":-1, \"=\":-2 }\n",
    "\n",
    "    sdig = [smap[c] for c in s]\n",
    "    return sum( [5**i * x for i,x in enumerate(sdig[::-1])] )\n",
    "    \n",
    "def dec_to_snafu( d ):\n",
    "    dmap = {4:\"-\", 3: \"=\", 2:\"2\", 1:\"1\", 0:\"0\"}\n",
    "\n",
    "    sdig = []\n",
    "    pwr = 0\n",
    "    carry = 0\n",
    "    while d != 0:\n",
    "        place_value = d % 5\n",
    "        adj_place_value = place_value + carry\n",
    "        # mod needed in case we do a double carry to the following digit\n",
    "        sdig = [dmap[adj_place_value % 5]] + sdig\n",
    "        if adj_place_value > 2:\n",
    "            carry = 1\n",
    "        else:\n",
    "            carry = 0\n",
    "        d -= place_value\n",
    "        d /= 5\n",
    "\n",
    "    if carry != 0:\n",
    "        sdig = [dmap[carry]] + sdig\n",
    "\n",
    "    return \"\".join(sdig)\n",
    "\n",
    "\n",
    "\n"
   ]
  },
  {
   "cell_type": "code",
   "execution_count": 10,
   "metadata": {},
   "outputs": [
    {
     "name": "stdout",
     "output_type": "stream",
     "text": [
      "[1, '1']\n",
      "[2, '2']\n",
      "[3, '1=']\n",
      "[4, '1-']\n",
      "[5, '10']\n",
      "[6, '11']\n",
      "[7, '12']\n",
      "[8, '2=']\n",
      "[9, '2-']\n",
      "[10, '20']\n",
      "[15, '1=0']\n",
      "[20, '1-0']\n",
      "[2022, '1=11-2']\n",
      "[12345, '1-0---0']\n",
      "[314159265, '1121-1110-1=0']\n"
     ]
    }
   ],
   "source": [
    "for k, val in brochure.items():\n",
    "    print(val)\n",
    "    out = snafu_to_dec( val[1] )\n",
    "    if out != val[0]:\n",
    "        print(f\"Error in {k}: Expected {val[0]} got {out}\")\n",
    "    out = dec_to_snafu( val[0] )\n",
    "    if out != val[1]:\n",
    "        print(f\"Error in {k}: Expected {val[1]} got {out}\")"
   ]
  },
  {
   "cell_type": "code",
   "execution_count": 11,
   "metadata": {},
   "outputs": [],
   "source": [
    "def part1( arr ):\n",
    "    dec = sum( [snafu_to_dec(s) for s in arr] )\n",
    "    return dec_to_snafu(dec)\n"
   ]
  },
  {
   "cell_type": "code",
   "execution_count": 12,
   "metadata": {},
   "outputs": [
    {
     "data": {
      "text/plain": [
       "[1747, 906, 198, 11, 201, 31, 1257, 32, 353, 107, 7, 3, 37]"
      ]
     },
     "execution_count": 12,
     "metadata": {},
     "output_type": "execute_result"
    }
   ],
   "source": [
    "test = [\"1=-0-2\", \"12111\", \"2=0=\", \"21\", \"2=01\", \"111\", \"20012\", \"112\", \"1=-1=\", \"1-12\", \"12\", \"1=\", \"122\"]\n",
    "[snafu_to_dec(s) for s in test]"
   ]
  },
  {
   "cell_type": "code",
   "execution_count": 13,
   "metadata": {},
   "outputs": [
    {
     "data": {
      "text/plain": [
       "'2=-1=0'"
      ]
     },
     "execution_count": 13,
     "metadata": {},
     "output_type": "execute_result"
    }
   ],
   "source": [
    "part1(test)"
   ]
  },
  {
   "cell_type": "code",
   "execution_count": 14,
   "metadata": {},
   "outputs": [
    {
     "data": {
      "text/plain": [
       "'122-2=200-0111--=200'"
      ]
     },
     "execution_count": 14,
     "metadata": {},
     "output_type": "execute_result"
    }
   ],
   "source": [
    "part1(puz)"
   ]
  }
 ],
 "metadata": {
  "kernelspec": {
   "display_name": "base",
   "language": "python",
   "name": "python3"
  },
  "language_info": {
   "codemirror_mode": {
    "name": "ipython",
    "version": 3
   },
   "file_extension": ".py",
   "mimetype": "text/x-python",
   "name": "python",
   "nbconvert_exporter": "python",
   "pygments_lexer": "ipython3",
   "version": "3.7.3"
  },
  "orig_nbformat": 4,
  "vscode": {
   "interpreter": {
    "hash": "ad2bdc8ecc057115af97d19610ffacc2b4e99fae6737bb82f5d7fb13d2f2c186"
   }
  }
 },
 "nbformat": 4,
 "nbformat_minor": 2
}
