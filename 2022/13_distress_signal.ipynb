{
 "cells": [
  {
   "cell_type": "markdown",
   "metadata": {},
   "source": [
    "# December 13, 2022\n",
    "https://adventofcode.com/2022/day/13"
   ]
  },
  {
   "cell_type": "code",
   "execution_count": 1,
   "metadata": {},
   "outputs": [],
   "source": [
    "def list_parse( text, j = 0 ):\n",
    "    '''parse nested lists from a string'''\n",
    "    x = list()\n",
    "    buffer = \"\"\n",
    "\n",
    "    while j < len(text):\n",
    "        if text[j] == \"[\":\n",
    "            item, j = list_parse(text, j+1)\n",
    "            x.append( item )\n",
    "        elif text[j] == \"]\":\n",
    "            if buffer != \"\":\n",
    "                x.append(int(buffer))\n",
    "            return x, j\n",
    "        elif text[j] == \",\":\n",
    "            if buffer != \"\":\n",
    "                x.append(int(buffer))\n",
    "                buffer = \"\"\n",
    "        else:\n",
    "            buffer += text[j]\n",
    "        j += 1\n",
    "\n",
    "    # different return since for the top-level we don't want to return buffer position\n",
    "    # and current answer is inside a list\n",
    "    return x[0]"
   ]
  },
  {
   "cell_type": "code",
   "execution_count": 46,
   "metadata": {},
   "outputs": [],
   "source": [
    "def compare( lhs, rhs, verbose=False ):\n",
    "    if verbose:\n",
    "        print(lhs, \"\\n\", rhs, \"\\n---\", sep=\"\")\n",
    "    if \"__iter__\" in dir(lhs):\n",
    "        if \"__iter__\" in dir(rhs): # case: both lists\n",
    "            for i in range(len(lhs)):\n",
    "                if i == len(rhs):\n",
    "                    # rhs ran out return True\n",
    "                    return -1\n",
    "                comp = compare(lhs[i], rhs[i], verbose)\n",
    "                if comp == 0:\n",
    "                    # no decision yet\n",
    "                    continue\n",
    "                else:\n",
    "                    return comp\n",
    "            # lhs ran out... if rhs ran out, then it's a tie\n",
    "            if len(lhs) == len(rhs):\n",
    "                return 0\n",
    "            else:\n",
    "                return 1\n",
    "        else: # case: lhs list, rhs int\n",
    "            return compare( lhs, [rhs], verbose )\n",
    "    else:\n",
    "        if \"__iter__\" in dir(rhs): # case: lhs int, rhs list\n",
    "            return compare( [lhs], rhs, verbose)\n",
    "        else: # case: both ints\n",
    "            if lhs < rhs:\n",
    "                return 1\n",
    "            elif lhs > rhs:\n",
    "                return -1\n",
    "            else:\n",
    "                return 0\n",
    "\n"
   ]
  },
  {
   "cell_type": "code",
   "execution_count": 28,
   "metadata": {},
   "outputs": [
    {
     "data": {
      "text/plain": [
       "True"
      ]
     },
     "execution_count": 28,
     "metadata": {},
     "output_type": "execute_result"
    }
   ],
   "source": [
    "text = \"[[],[],[[],10,[[7,0,1,1,10],9,6],[1,[4,9,1],6,[4,6,0]],[0,3,0]],[1,[10,[7,4,3,4],[]],[2,2],7,[[10],5,3]]]\"\n",
    "ans = [[],[],[[],10,[[7,0,1,1,10],9,6],[1,[4,9,1],6,[4,6,0]],[0,3,0]],[1,[10,[7,4,3,4],[]],[2,2],7,[[10],5,3]]]\n",
    "out = list_parse(text)\n",
    "ans == out"
   ]
  },
  {
   "cell_type": "code",
   "execution_count": 29,
   "metadata": {},
   "outputs": [],
   "source": [
    "text2 = \"[[8,1,[2,3,3,[6,7,7,2,6]],[[8,10,1]],[9]],[1,7,[7,[3,6],7,7,10]]]\"\n",
    "out2 = list_parse(text2)"
   ]
  },
  {
   "cell_type": "code",
   "execution_count": 34,
   "metadata": {},
   "outputs": [
    {
     "name": "stdout",
     "output_type": "stream",
     "text": [
      "[[], [], [[], 10, [[7, 0, 1, 1, 10], 9, 6], [1, [4, 9, 1], 6, [4, 6, 0]], [0, 3, 0]], [1, [10, [7, 4, 3, 4], []], [2, 2], 7, [[10], 5, 3]]] \n",
      " [[8, 1, [2, 3, 3, [6, 7, 7, 2, 6]], [[8, 10, 1]], [9]], [1, 7, [7, [3, 6], 7, 7, 10]]] \n",
      "---\n",
      "[] \n",
      " [8, 1, [2, 3, 3, [6, 7, 7, 2, 6]], [[8, 10, 1]], [9]] \n",
      "---\n"
     ]
    },
    {
     "data": {
      "text/plain": [
       "1"
      ]
     },
     "execution_count": 34,
     "metadata": {},
     "output_type": "execute_result"
    }
   ],
   "source": [
    "compare(out, out2, True)"
   ]
  },
  {
   "cell_type": "markdown",
   "metadata": {},
   "source": [
    "### Part 1"
   ]
  },
  {
   "cell_type": "code",
   "execution_count": 44,
   "metadata": {},
   "outputs": [],
   "source": [
    "def compare_all( fn, verbose=False, max=0 ):\n",
    "    good = 0\n",
    "    i = 0\n",
    "\n",
    "    with open(fn, \"r\") as file:\n",
    "        while True:\n",
    "            i += 1\n",
    "            line1 = file.readline().strip(\"\\n\")\n",
    "            line2 = file.readline().strip(\"\\n\")\n",
    "\n",
    "            comp = compare(list_parse(line1), list_parse(line2), verbose)\n",
    "            if comp == 1:\n",
    "                good += i\n",
    "            if verbose:\n",
    "\n",
    "                print(f\"\"\"{i}: {comp}\"\"\")\n",
    "\n",
    "            blank = file.readline()\n",
    "            if not blank or i==max:\n",
    "                break\n",
    "\n",
    "    \n",
    "    return good\n",
    "\n"
   ]
  },
  {
   "cell_type": "code",
   "execution_count": 48,
   "metadata": {},
   "outputs": [
    {
     "name": "stdout",
     "output_type": "stream",
     "text": [
      "[1, 1, 3, 1, 1]\n",
      "[1, 1, 5, 1, 1]\n",
      "---\n",
      "1\n",
      "1\n",
      "---\n",
      "1\n",
      "1\n",
      "---\n",
      "3\n",
      "5\n",
      "---\n",
      "1: 1\n",
      "[[1], [2, 3, 4]]\n",
      "[[1], 4]\n",
      "---\n",
      "[1]\n",
      "[1]\n",
      "---\n",
      "1\n",
      "1\n",
      "---\n",
      "[2, 3, 4]\n",
      "4\n",
      "---\n",
      "[2, 3, 4]\n",
      "[4]\n",
      "---\n",
      "2\n",
      "4\n",
      "---\n",
      "2: 1\n",
      "[9]\n",
      "[[8, 7, 6]]\n",
      "---\n",
      "9\n",
      "[8, 7, 6]\n",
      "---\n",
      "[9]\n",
      "[8, 7, 6]\n",
      "---\n",
      "9\n",
      "8\n",
      "---\n",
      "3: -1\n",
      "[[4, 4], 4, 4]\n",
      "[[4, 4], 4, 4, 4]\n",
      "---\n",
      "[4, 4]\n",
      "[4, 4]\n",
      "---\n",
      "4\n",
      "4\n",
      "---\n",
      "4\n",
      "4\n",
      "---\n",
      "4\n",
      "4\n",
      "---\n",
      "4\n",
      "4\n",
      "---\n",
      "4: 1\n",
      "[7, 7, 7, 7]\n",
      "[7, 7, 7]\n",
      "---\n",
      "7\n",
      "7\n",
      "---\n",
      "7\n",
      "7\n",
      "---\n",
      "7\n",
      "7\n",
      "---\n",
      "5: -1\n",
      "[]\n",
      "[3]\n",
      "---\n",
      "6: 1\n",
      "[[[]]]\n",
      "[[]]\n",
      "---\n",
      "[[]]\n",
      "[]\n",
      "---\n",
      "7: -1\n",
      "[1, [2, [3, [4, [5, 6, 7]]]], 8, 9]\n",
      "[1, [2, [3, [4, [5, 6, 0]]]], 8, 9]\n",
      "---\n",
      "1\n",
      "1\n",
      "---\n",
      "[2, [3, [4, [5, 6, 7]]]]\n",
      "[2, [3, [4, [5, 6, 0]]]]\n",
      "---\n",
      "2\n",
      "2\n",
      "---\n",
      "[3, [4, [5, 6, 7]]]\n",
      "[3, [4, [5, 6, 0]]]\n",
      "---\n",
      "3\n",
      "3\n",
      "---\n",
      "[4, [5, 6, 7]]\n",
      "[4, [5, 6, 0]]\n",
      "---\n",
      "4\n",
      "4\n",
      "---\n",
      "[5, 6, 7]\n",
      "[5, 6, 0]\n",
      "---\n",
      "5\n",
      "5\n",
      "---\n",
      "6\n",
      "6\n",
      "---\n",
      "7\n",
      "0\n",
      "---\n",
      "8: -1\n"
     ]
    },
    {
     "data": {
      "text/plain": [
       "13"
      ]
     },
     "execution_count": 48,
     "metadata": {},
     "output_type": "execute_result"
    }
   ],
   "source": [
    "compare_all( \"../data/2022/13_test.txt\", True )"
   ]
  },
  {
   "cell_type": "code",
   "execution_count": 49,
   "metadata": {},
   "outputs": [
    {
     "data": {
      "text/plain": [
       "5808"
      ]
     },
     "execution_count": 49,
     "metadata": {},
     "output_type": "execute_result"
    }
   ],
   "source": [
    "compare_all( \"../data/2022/13.txt\", False )"
   ]
  },
  {
   "cell_type": "markdown",
   "metadata": {},
   "source": [
    "### Part 2"
   ]
  },
  {
   "cell_type": "code",
   "execution_count": 55,
   "metadata": {},
   "outputs": [
    {
     "data": {
      "text/plain": [
       "'\\n'"
      ]
     },
     "execution_count": 55,
     "metadata": {},
     "output_type": "execute_result"
    }
   ],
   "source": [
    "inp[2]"
   ]
  },
  {
   "cell_type": "code",
   "execution_count": 73,
   "metadata": {},
   "outputs": [],
   "source": [
    "def read_packets( fn ):\n",
    "    packets = list()\n",
    "    with open(fn, \"r\") as file:\n",
    "        while True:\n",
    "            inp = file.readline()\n",
    "            if not inp:\n",
    "                break\n",
    "            if inp != \"\\n\":\n",
    "                packets.append( list_parse(inp.strip(\"\\n\")) )\n",
    "    return packets\n",
    "\n",
    "def sort_packets( packets ):\n",
    "    '''lol bubble sort'''\n",
    "\n",
    "    # insert dividers\n",
    "    packets = [ [[2]], [[6]], *packets ]\n",
    "    div2 = 0\n",
    "    div6 = 1\n",
    "\n",
    "    for i in range(len(packets)):\n",
    "        for j in range(i+1, len(packets)):\n",
    "            comp = compare( packets[i], packets[j] )\n",
    "            if comp == -1:\n",
    "                # swap and...\n",
    "                temp = packets[i]\n",
    "                packets[i] = packets[j]\n",
    "                packets[j] = temp\n",
    "                # ... update div2 and div6 positions\n",
    "\n",
    "                if i == div2: # [[2]] moved from i to j\n",
    "                    div2 = j\n",
    "                elif j == div2:\n",
    "                    div2 = i\n",
    "\n",
    "                if i == div6:\n",
    "                    div6 = j\n",
    "                elif div6 == j:\n",
    "                    div6 = i\n",
    "    return (div2+1)*(div6+1), packets\n"
   ]
  },
  {
   "cell_type": "code",
   "execution_count": 70,
   "metadata": {},
   "outputs": [],
   "source": [
    "test = read_packets( \"data/13_test.txt\" )"
   ]
  },
  {
   "cell_type": "code",
   "execution_count": 74,
   "metadata": {},
   "outputs": [
    {
     "data": {
      "text/plain": [
       "(140,\n",
       " [[],\n",
       "  [[]],\n",
       "  [[[]]],\n",
       "  [1, 1, 3, 1, 1],\n",
       "  [1, 1, 5, 1, 1],\n",
       "  [[1], [2, 3, 4]],\n",
       "  [1, [2, [3, [4, [5, 6, 0]]]], 8, 9],\n",
       "  [1, [2, [3, [4, [5, 6, 7]]]], 8, 9],\n",
       "  [[1], 4],\n",
       "  [[2]],\n",
       "  [3],\n",
       "  [[4, 4], 4, 4],\n",
       "  [[4, 4], 4, 4, 4],\n",
       "  [[6]],\n",
       "  [7, 7, 7],\n",
       "  [7, 7, 7, 7],\n",
       "  [[8, 7, 6]],\n",
       "  [9]])"
      ]
     },
     "execution_count": 74,
     "metadata": {},
     "output_type": "execute_result"
    }
   ],
   "source": [
    "sort_packets( test )\n"
   ]
  },
  {
   "cell_type": "code",
   "execution_count": 77,
   "metadata": {},
   "outputs": [
    {
     "name": "stdout",
     "output_type": "stream",
     "text": [
      "22713\n"
     ]
    }
   ],
   "source": [
    "puz = read_packets( \"data/13.txt\" )\n",
    "ans, packets = sort_packets( puz )\n",
    "print(ans)"
   ]
  }
 ],
 "metadata": {
  "kernelspec": {
   "display_name": "Python 3",
   "language": "python",
   "name": "python3"
  },
  "language_info": {
   "codemirror_mode": {
    "name": "ipython",
    "version": 3
   },
   "file_extension": ".py",
   "mimetype": "text/x-python",
   "name": "python",
   "nbconvert_exporter": "python",
   "pygments_lexer": "ipython3",
   "version": "3.7.3"
  },
  "orig_nbformat": 4,
  "vscode": {
   "interpreter": {
    "hash": "3ad933181bd8a04b432d3370b9dc3b0662ad032c4dfaa4e4f1596c548f763858"
   }
  }
 },
 "nbformat": 4,
 "nbformat_minor": 2
}
