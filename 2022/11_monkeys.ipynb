{
 "cells": [
  {
   "cell_type": "markdown",
   "metadata": {},
   "source": [
    "# December 11, 2022\n",
    "https://adventofcode.com/2022/day/11"
   ]
  },
  {
   "cell_type": "code",
   "execution_count": 25,
   "metadata": {},
   "outputs": [],
   "source": [
    "fn = \"data/11.txt\"\n",
    "\n",
    "desc = []\n",
    "puz = []\n",
    "with open(fn, \"r\") as file:\n",
    "    while True:\n",
    "        \n",
    "        line = file.readline()\n",
    "\n",
    "        if not line:\n",
    "            break\n",
    "        \n",
    "        if line == \"\\n\":\n",
    "            puz.append(desc)\n",
    "            desc = []\n",
    "        else:\n",
    "            desc.append(line.strip())\n"
   ]
  },
  {
   "cell_type": "code",
   "execution_count": 70,
   "metadata": {},
   "outputs": [],
   "source": [
    "class Monkey:\n",
    "    def __init__( self, desc ):\n",
    "        # Parse items\n",
    "        item_list = desc[1][ len(\"Starting items: \"):]\n",
    "        self.items = [int(x) for x in item_list.split(\", \")]\n",
    "\n",
    "        # Parse inspection description\n",
    "        insp_desc = desc[2][ len(\"Operation: new = \"):]\n",
    "        insp_desc = insp_desc.split(\" \")\n",
    "\n",
    "        if insp_desc[1] == \"*\":\n",
    "            if insp_desc[2] == \"old\":\n",
    "                self.inspect_fun = lambda x: x*x\n",
    "            else:\n",
    "                self.inspect_fun = lambda x: x*int(insp_desc[2])\n",
    "        elif insp_desc[1] == \"+\":\n",
    "            if insp_desc[2] == \"old\":\n",
    "                self.inspect_fun = lambda x: x+x\n",
    "            else:\n",
    "                self.inspect_fun = lambda x: x+int(insp_desc[2])\n",
    "        else:\n",
    "            raise Exception(\"Did not understand inspection description!\")\n",
    "\n",
    "        # Parse test description\n",
    "        test_desc = desc[3][ len(\"Test: \"): ]\n",
    "        test_desc = test_desc.split()\n",
    "\n",
    "        if test_desc[0] == \"divisible\" and test_desc[1] == \"by\":\n",
    "            self.test_fun = lambda x: x % int(test_desc[2]) == 0\n",
    "\n",
    "        # Parse partner monkeys\n",
    "        self.monkey1 = int(desc[4][len(\"If true: throw to monkey \"):])\n",
    "        self.monkey0 = int(desc[5][len(\"If false: throw to monkey \"):])\n",
    "\n",
    "        # Start counter:\n",
    "        self.activity = 0\n",
    "\n",
    "    # inspect the next item and then toss it\n",
    "    def inspect( self ):\n",
    "        if len(self.items) == 0:\n",
    "            return None\n",
    "        \n",
    "        self.activity += 1\n",
    "        \n",
    "        # inspect the item\n",
    "        x = self.items[0]\n",
    "        x = int( self.inspect_fun( x ) / 3 )\n",
    "        flag = self.test_fun( x )\n",
    "\n",
    "        # toss it\n",
    "        self.items = self.items[1:]\n",
    "        if flag:\n",
    "            return self.monkey1, x\n",
    "        else:\n",
    "            return self.monkey0, x\n",
    "\n",
    "    def catch( self, item ):\n",
    "        self.items.append(item)"
   ]
  },
  {
   "cell_type": "code",
   "execution_count": 49,
   "metadata": {},
   "outputs": [
    {
     "data": {
      "text/plain": [
       "7"
      ]
     },
     "execution_count": 49,
     "metadata": {},
     "output_type": "execute_result"
    }
   ],
   "source": [
    "Monkey(monkeys[0]).monkey0"
   ]
  },
  {
   "cell_type": "code",
   "execution_count": 65,
   "metadata": {},
   "outputs": [],
   "source": [
    "test_monkey = f\"\"\"Monkey 0:\n",
    "  Starting items: 79, 98\n",
    "  Operation: new = old * 19\n",
    "  Test: divisible by 23\n",
    "    If true: throw to monkey 2\n",
    "    If false: throw to monkey 3\"\"\"\n",
    "\n",
    "test_monkey = [ x.strip() for x in test_monkey.split(\"\\n\") ]"
   ]
  },
  {
   "cell_type": "code",
   "execution_count": 71,
   "metadata": {},
   "outputs": [],
   "source": [
    "test = Monkey(test_monkey)"
   ]
  },
  {
   "cell_type": "code",
   "execution_count": 72,
   "metadata": {},
   "outputs": [
    {
     "data": {
      "text/plain": [
       "[79, 98]"
      ]
     },
     "execution_count": 72,
     "metadata": {},
     "output_type": "execute_result"
    }
   ],
   "source": [
    "\n",
    "test.items"
   ]
  },
  {
   "cell_type": "code",
   "execution_count": 73,
   "metadata": {},
   "outputs": [
    {
     "data": {
      "text/plain": [
       "(3, 500)"
      ]
     },
     "execution_count": 73,
     "metadata": {},
     "output_type": "execute_result"
    }
   ],
   "source": [
    "test.inspect()"
   ]
  },
  {
   "cell_type": "code",
   "execution_count": 74,
   "metadata": {},
   "outputs": [
    {
     "data": {
      "text/plain": [
       "['Monkey 0:',\n",
       " 'Starting items: 79, 98',\n",
       " 'Operation: new = old * 19',\n",
       " 'Test: divisible by 23',\n",
       " 'If true: throw to monkey 2',\n",
       " 'If false: throw to monkey 3']"
      ]
     },
     "execution_count": 74,
     "metadata": {},
     "output_type": "execute_result"
    }
   ],
   "source": [
    "test_monkey"
   ]
  },
  {
   "cell_type": "code",
   "execution_count": 75,
   "metadata": {},
   "outputs": [
    {
     "data": {
      "text/plain": [
       "(3, 620)"
      ]
     },
     "execution_count": 75,
     "metadata": {},
     "output_type": "execute_result"
    }
   ],
   "source": [
    "test.inspect()"
   ]
  },
  {
   "cell_type": "code",
   "execution_count": null,
   "metadata": {},
   "outputs": [],
   "source": []
  }
 ],
 "metadata": {
  "kernelspec": {
   "display_name": "Python 3",
   "language": "python",
   "name": "python3"
  },
  "language_info": {
   "codemirror_mode": {
    "name": "ipython",
    "version": 3
   },
   "file_extension": ".py",
   "mimetype": "text/x-python",
   "name": "python",
   "nbconvert_exporter": "python",
   "pygments_lexer": "ipython3",
   "version": "3.10.4"
  },
  "orig_nbformat": 4,
  "vscode": {
   "interpreter": {
    "hash": "3ad933181bd8a04b432d3370b9dc3b0662ad032c4dfaa4e4f1596c548f763858"
   }
  }
 },
 "nbformat": 4,
 "nbformat_minor": 2
}
