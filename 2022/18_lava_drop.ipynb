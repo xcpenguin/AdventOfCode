{
 "cells": [
  {
   "cell_type": "markdown",
   "metadata": {},
   "source": [
    "# December 18, 2022\n",
    "https://adventofcode.com/2022/day/18"
   ]
  },
  {
   "cell_type": "code",
   "execution_count": 2,
   "metadata": {},
   "outputs": [],
   "source": [
    "test_input = [\n",
    "    [2,2,2],\n",
    "    [1,2,2],\n",
    "    [3,2,2],\n",
    "    [2,1,2],\n",
    "    [2,3,2],\n",
    "    [2,2,1],\n",
    "    [2,2,3],\n",
    "    [2,2,4],\n",
    "    [2,2,6],\n",
    "    [1,2,5],\n",
    "    [3,2,5],\n",
    "    [2,1,5],\n",
    "    [2,3,5]\n",
    "]"
   ]
  },
  {
   "cell_type": "code",
   "execution_count": 28,
   "metadata": {},
   "outputs": [],
   "source": [
    "fn = \"data/18.txt\"\n",
    "puz_input = []\n",
    "with open(fn, \"r\") as file:\n",
    "    while True:\n",
    "        line = file.readline().strip(\"\\n\")\n",
    "        if not line:\n",
    "            break\n",
    "        puz_input.append( [int(x) for x in line.split(\",\")] )"
   ]
  },
  {
   "cell_type": "code",
   "execution_count": 23,
   "metadata": {},
   "outputs": [
    {
     "name": "stdout",
     "output_type": "stream",
     "text": [
      "64\n"
     ]
    }
   ],
   "source": [
    "checks = [\n",
    "    -10000,\n",
    "    +10000,\n",
    "    -100,\n",
    "    +100,\n",
    "    -1,\n",
    "    +1\n",
    "]\n",
    "\n",
    "test = [ x[0]*10000 + x[1]*100 + x[2] for x in test_input ]\n",
    "test.sort()\n",
    "\n",
    "faces = 0\n",
    "for check in checks:\n",
    "    faces += len( [1 for x in test if x+check not in test])\n",
    "print(faces)"
   ]
  },
  {
   "cell_type": "code",
   "execution_count": 27,
   "metadata": {},
   "outputs": [
    {
     "name": "stdout",
     "output_type": "stream",
     "text": [
      "3448\n"
     ]
    }
   ],
   "source": [
    "puz = [ x[0]*10000 + x[1]*100 + x[2] for x in puz_input ]\n",
    "puz.sort()\n",
    "\n",
    "faces = 0\n",
    "for check in checks:\n",
    "    faces += len( [1 for x in puz if x+check not in puz])\n",
    "print(faces)"
   ]
  },
  {
   "cell_type": "markdown",
   "metadata": {},
   "source": [
    "### Part 2"
   ]
  },
  {
   "cell_type": "code",
   "execution_count": 16,
   "metadata": {},
   "outputs": [],
   "source": [
    "glob = test_input\n",
    "#glob = [xyz[0]*10000 + xyz[1]*100 + xyz[2] for xyz in glob]"
   ]
  },
  {
   "cell_type": "code",
   "execution_count": 26,
   "metadata": {},
   "outputs": [],
   "source": [
    "def exterior_surface_area( glob ):\n",
    "    '''\n",
    "    Strategy: Start with one point outside the glob and path around the exterior of the glob\n",
    "    while counting how many times the glob neighbors the exterior pixels\n",
    "    '''\n",
    "\n",
    "    # get coords of a bounding box around the glob\n",
    "    x = [xyz[0] for xyz in glob]\n",
    "    minx = min(x)-1\n",
    "    maxx = max(x)+1\n",
    "\n",
    "    y = [xyz[1] for xyz in glob]\n",
    "    miny = min(y)-1\n",
    "    maxy = max(y)+1\n",
    "\n",
    "    z = [xyz[2] for xyz in glob]\n",
    "    minz = min(z)-1\n",
    "    maxz = max(z)+1\n",
    "\n",
    "    frontier = [ [minx, miny, minz] ] # start with a point guaranteed to be on the outside\n",
    "    seen = []\n",
    "    inside = []\n",
    "\n",
    "    while len(frontier) > 0:\n",
    "        xyz = frontier[0]\n",
    "        nbrs = []\n",
    "        if xyz[0] > minx: nbrs.append( [xyz[0]-1, xyz[1],   xyz[2]] )\n",
    "        if xyz[0] < maxx: nbrs.append( [xyz[0]+1, xyz[1],   xyz[2]] )\n",
    "        if xyz[1] > miny: nbrs.append( [xyz[0],   xyz[1]-1, xyz[2]] )\n",
    "        if xyz[1] < maxy: nbrs.append( [xyz[0],   xyz[1]+1, xyz[2]] )\n",
    "        if xyz[2] > minz: nbrs.append( [xyz[0],   xyz[1],   xyz[2]-1] )\n",
    "        if xyz[2] < maxz: nbrs.append( [xyz[0],   xyz[1],   xyz[2]+1] )\n",
    "\n",
    "        for nbr in nbrs:\n",
    "            # we already checked this one\n",
    "            if nbr in seen:\n",
    "                continue\n",
    "\n",
    "            # we hit the glob surface\n",
    "            # note: same glob pixel can be added twice if it's reachable from multiple external places\n",
    "            # i.e. a pixel with multiple external faces\n",
    "            if nbr in glob:\n",
    "                inside.append(nbr)\n",
    "            else:\n",
    "                # otherwise we need to check which glob faces are reachable from the neighbor\n",
    "                frontier.append(nbr)\n",
    "                # and the list of pixels that are or have been in frontier\n",
    "                seen.append(nbr)\n",
    "\n",
    "        frontier = frontier[1:]\n",
    "\n",
    "    return inside"
   ]
  },
  {
   "cell_type": "code",
   "execution_count": 27,
   "metadata": {},
   "outputs": [
    {
     "data": {
      "text/plain": [
       "58"
      ]
     },
     "execution_count": 27,
     "metadata": {},
     "output_type": "execute_result"
    }
   ],
   "source": [
    "len(exterior_surface_area(test_input))"
   ]
  },
  {
   "cell_type": "code",
   "execution_count": 29,
   "metadata": {},
   "outputs": [
    {
     "data": {
      "text/plain": [
       "2052"
      ]
     },
     "execution_count": 29,
     "metadata": {},
     "output_type": "execute_result"
    }
   ],
   "source": [
    "len(exterior_surface_area(puz_input))"
   ]
  }
 ],
 "metadata": {
  "kernelspec": {
   "display_name": "base",
   "language": "python",
   "name": "python3"
  },
  "language_info": {
   "codemirror_mode": {
    "name": "ipython",
    "version": 3
   },
   "file_extension": ".py",
   "mimetype": "text/x-python",
   "name": "python",
   "nbconvert_exporter": "python",
   "pygments_lexer": "ipython3",
   "version": "3.7.3"
  },
  "orig_nbformat": 4,
  "vscode": {
   "interpreter": {
    "hash": "ad2bdc8ecc057115af97d19610ffacc2b4e99fae6737bb82f5d7fb13d2f2c186"
   }
  }
 },
 "nbformat": 4,
 "nbformat_minor": 2
}
