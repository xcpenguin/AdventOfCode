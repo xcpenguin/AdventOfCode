{
 "cells": [
  {
   "attachments": {},
   "cell_type": "markdown",
   "metadata": {},
   "source": [
    "# December 05, 2016\n",
    "\n",
    "https://adventofcode.com/2016/day/5"
   ]
  },
  {
   "cell_type": "code",
   "execution_count": 3,
   "metadata": {},
   "outputs": [],
   "source": [
    "from hashlib import md5"
   ]
  },
  {
   "cell_type": "code",
   "execution_count": 6,
   "metadata": {},
   "outputs": [],
   "source": [
    "out = md5(b'abc3231929')"
   ]
  },
  {
   "cell_type": "code",
   "execution_count": 12,
   "metadata": {},
   "outputs": [
    {
     "data": {
      "text/plain": [
       "'00000155f8105dff7f56ee10fa9b9abd'"
      ]
     },
     "execution_count": 12,
     "metadata": {},
     "output_type": "execute_result"
    }
   ],
   "source": [
    "out.hexdigest()"
   ]
  },
  {
   "cell_type": "code",
   "execution_count": 9,
   "metadata": {},
   "outputs": [
    {
     "data": {
      "text/plain": [
       "['__class__',\n",
       " '__delattr__',\n",
       " '__dir__',\n",
       " '__doc__',\n",
       " '__eq__',\n",
       " '__format__',\n",
       " '__ge__',\n",
       " '__getattribute__',\n",
       " '__getstate__',\n",
       " '__gt__',\n",
       " '__hash__',\n",
       " '__init__',\n",
       " '__init_subclass__',\n",
       " '__le__',\n",
       " '__lt__',\n",
       " '__module__',\n",
       " '__ne__',\n",
       " '__new__',\n",
       " '__reduce__',\n",
       " '__reduce_ex__',\n",
       " '__repr__',\n",
       " '__setattr__',\n",
       " '__sizeof__',\n",
       " '__str__',\n",
       " '__subclasshook__',\n",
       " 'block_size',\n",
       " 'copy',\n",
       " 'digest',\n",
       " 'digest_size',\n",
       " 'hexdigest',\n",
       " 'name',\n",
       " 'update']"
      ]
     },
     "execution_count": 9,
     "metadata": {},
     "output_type": "execute_result"
    }
   ],
   "source": [
    "[x for x in dir(out)]"
   ]
  },
  {
   "cell_type": "code",
   "execution_count": 3,
   "metadata": {},
   "outputs": [],
   "source": [
    "fn = \"../data/2016/05.txt\"\n",
    "with open(fn, \"r\") as file:\n",
    "    text = file.readlines()\n",
    "puzz_text = [line.strip() for line in text][0]"
   ]
  },
  {
   "cell_type": "code",
   "execution_count": 4,
   "metadata": {},
   "outputs": [],
   "source": [
    "def parse_line( line ):\n",
    "    m = re.fullmatch( \"(.*)-(\\d+)\\[(\\w+)\\]\", line )\n",
    "    # we need dashes for part2\n",
    "    #word = re.sub( \"-\", \"\", m[1] )\n",
    "    num = int(m[2])\n",
    "    return m[1], num, m[3]\n",
    "\n",
    "def parse_input( text ):\n",
    "    return [parse_line(x) for x in text]"
   ]
  },
  {
   "cell_type": "code",
   "execution_count": 5,
   "metadata": {},
   "outputs": [
    {
     "data": {
      "text/plain": [
       "[('aaaaa-bbb-z-y-x', 123, 'abxyz'),\n",
       " ('a-b-c-d-e-f-g-h', 987, 'abcde'),\n",
       " ('not-a-real-room', 404, 'oarel'),\n",
       " ('totally-real-room', 200, 'decoy')]"
      ]
     },
     "execution_count": 5,
     "metadata": {},
     "output_type": "execute_result"
    }
   ],
   "source": [
    "test = parse_input(test_text)\n",
    "test"
   ]
  },
  {
   "cell_type": "markdown",
   "metadata": {},
   "source": [
    "# Part 1"
   ]
  },
  {
   "cell_type": "code",
   "execution_count": 6,
   "metadata": {},
   "outputs": [],
   "source": [
    "def checksum( word ):\n",
    "    cntr = Counter(word)\n",
    "    del cntr[\"-\"]  # remove space character\n",
    "    mc = cntr.most_common()\n",
    "    pdf = pd.DataFrame( {\"ltr\": [x[0] for x in mc], \"cnt\": [x[1] for x in mc]} )\n",
    "    pdf.sort_values( ['cnt', 'ltr'], ascending=[False, True], inplace=True)\n",
    "    hash = \"\".join(pdf['ltr'][:5])\n",
    "    return hash\n",
    "\n",
    "def validate( word, hash):\n",
    "    return checksum(word) == hash\n",
    "\n",
    "def part1( puzz ):\n",
    "    return sum( [x[1] * validate(x[0], x[2]) for x in puzz] )\n"
   ]
  },
  {
   "cell_type": "code",
   "execution_count": 7,
   "metadata": {},
   "outputs": [
    {
     "data": {
      "text/plain": [
       "1514"
      ]
     },
     "execution_count": 7,
     "metadata": {},
     "output_type": "execute_result"
    }
   ],
   "source": [
    "part1(test)"
   ]
  },
  {
   "cell_type": "code",
   "execution_count": 8,
   "metadata": {},
   "outputs": [
    {
     "data": {
      "text/plain": [
       "361724"
      ]
     },
     "execution_count": 8,
     "metadata": {},
     "output_type": "execute_result"
    }
   ],
   "source": [
    "puzz = parse_input(puzz_text)\n",
    "part1(puzz)"
   ]
  },
  {
   "cell_type": "code",
   "execution_count": 9,
   "metadata": {},
   "outputs": [
    {
     "data": {
      "text/plain": [
       "97"
      ]
     },
     "execution_count": 9,
     "metadata": {},
     "output_type": "execute_result"
    }
   ],
   "source": [
    "ord('a')"
   ]
  },
  {
   "cell_type": "code",
   "execution_count": 10,
   "metadata": {},
   "outputs": [
    {
     "data": {
      "text/plain": [
       "1"
      ]
     },
     "execution_count": 10,
     "metadata": {},
     "output_type": "execute_result"
    }
   ],
   "source": [
    "10 % 3"
   ]
  },
  {
   "cell_type": "markdown",
   "metadata": {},
   "source": [
    "# Part 2"
   ]
  },
  {
   "cell_type": "code",
   "execution_count": 11,
   "metadata": {},
   "outputs": [],
   "source": [
    "def decrypt(word, num):\n",
    "\n",
    "    new_word = \"\"\n",
    "\n",
    "    for i,c in enumerate(word):\n",
    "         # dashes become spaces\n",
    "         if c == \"-\":\n",
    "              new_word += \" \"\n",
    "              continue\n",
    "         \n",
    "         # otherwise rotate letters\n",
    "         # convert to ascii, then rebase so a == 0\n",
    "         # then shift num times and restore original ascii base (a = 97)\n",
    "         # finally, convert from ascii to a character\n",
    "         ascii = ord(c)\n",
    "         adj_ascii = ord(c) - ord('a')\n",
    "         new_adj_ascii = (adj_ascii + num) % 26\n",
    "         new_ascii = new_adj_ascii + ord('a')\n",
    "         new_word += chr( new_ascii )\n",
    "    \n",
    "    return new_word\n"
   ]
  },
  {
   "cell_type": "code",
   "execution_count": 12,
   "metadata": {},
   "outputs": [],
   "source": [
    "def part2( puzz ):\n",
    "    for p in puzz:\n",
    "        if validate( p[0], p[2] ):\n",
    "            name = decrypt(p[0], p[1])\n",
    "            if \"pole\" in name:\n",
    "                print(p[1], name)"
   ]
  },
  {
   "cell_type": "code",
   "execution_count": 13,
   "metadata": {},
   "outputs": [
    {
     "data": {
      "text/plain": [
       "'very encrypted name'"
      ]
     },
     "execution_count": 13,
     "metadata": {},
     "output_type": "execute_result"
    }
   ],
   "source": [
    "decrypt(\"qzmt-zixmtkozy-ivhz\", 343)"
   ]
  },
  {
   "cell_type": "code",
   "execution_count": 14,
   "metadata": {},
   "outputs": [
    {
     "name": "stdout",
     "output_type": "stream",
     "text": [
      "482 northpole object storage\n"
     ]
    }
   ],
   "source": [
    "part2( puzz )"
   ]
  }
 ],
 "metadata": {
  "kernelspec": {
   "display_name": "base",
   "language": "python",
   "name": "python3"
  },
  "language_info": {
   "codemirror_mode": {
    "name": "ipython",
    "version": 3
   },
   "file_extension": ".py",
   "mimetype": "text/x-python",
   "name": "python",
   "nbconvert_exporter": "python",
   "pygments_lexer": "ipython3",
   "version": "3.11.8"
  },
  "orig_nbformat": 4,
  "vscode": {
   "interpreter": {
    "hash": "ad2bdc8ecc057115af97d19610ffacc2b4e99fae6737bb82f5d7fb13d2f2c186"
   }
  }
 },
 "nbformat": 4,
 "nbformat_minor": 2
}
