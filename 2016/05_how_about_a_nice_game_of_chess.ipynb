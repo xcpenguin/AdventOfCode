{
 "cells": [
  {
   "attachments": {},
   "cell_type": "markdown",
   "metadata": {},
   "source": [
    "# December 05, 2016\n",
    "\n",
    "https://adventofcode.com/2016/day/5"
   ]
  },
  {
   "cell_type": "code",
   "execution_count": 1,
   "metadata": {},
   "outputs": [],
   "source": [
    "from hashlib import md5"
   ]
  },
  {
   "cell_type": "code",
   "execution_count": 2,
   "metadata": {},
   "outputs": [],
   "source": [
    "test = \"abc\""
   ]
  },
  {
   "cell_type": "code",
   "execution_count": 3,
   "metadata": {},
   "outputs": [],
   "source": [
    "fn = \"../data/2016/05.txt\"\n",
    "with open(fn, \"r\") as file:\n",
    "    text = file.readlines()\n",
    "puzz = [line.strip() for line in text][0]"
   ]
  },
  {
   "cell_type": "markdown",
   "metadata": {},
   "source": [
    "# Part 1"
   ]
  },
  {
   "cell_type": "code",
   "execution_count": 4,
   "metadata": {},
   "outputs": [],
   "source": [
    "def part1( puzz, start = 0 ):\n",
    "    code = \"\"\n",
    "\n",
    "    while len(code) < 8:\n",
    "        w = puzz + str(start)\n",
    "        #print(w)\n",
    "        hash = md5( w.encode() ).hexdigest()\n",
    "\n",
    "        if hash[:5] == \"00000\":\n",
    "            code += hash[5]\n",
    "            print(code)\n",
    "        start += 1\n"
   ]
  },
  {
   "cell_type": "code",
   "execution_count": 5,
   "metadata": {},
   "outputs": [
    {
     "name": "stdout",
     "output_type": "stream",
     "text": [
      "1\n",
      "18\n",
      "18f\n",
      "18f4\n",
      "18f47\n",
      "18f47a\n",
      "18f47a3\n",
      "18f47a30\n"
     ]
    }
   ],
   "source": [
    "part1(test, 3231929)"
   ]
  },
  {
   "cell_type": "code",
   "execution_count": 6,
   "metadata": {},
   "outputs": [
    {
     "name": "stdout",
     "output_type": "stream",
     "text": [
      "f\n",
      "f7\n",
      "f77\n",
      "f77a\n",
      "f77a0\n",
      "f77a0e\n",
      "f77a0e6\n",
      "f77a0e6e\n"
     ]
    }
   ],
   "source": [
    "part1(puzz)"
   ]
  },
  {
   "cell_type": "markdown",
   "metadata": {},
   "source": [
    "# Part 2"
   ]
  },
  {
   "cell_type": "code",
   "execution_count": 7,
   "metadata": {},
   "outputs": [],
   "source": [
    "def part2( puzz, start=0 ):\n",
    "    code = [\"_\"] * 8\n",
    "    found = 0\n",
    "\n",
    "    while found < 8:\n",
    "        w = puzz + str(start)\n",
    "        hash = md5( w.encode() ).hexdigest()\n",
    "\n",
    "        if hash[:5] == \"00000\":\n",
    "            pos = hash[5]\n",
    "            if pos in \"01234567\":\n",
    "                pos = int(pos)\n",
    "                if code[pos] == \"_\":\n",
    "                    code[pos] = hash[6]\n",
    "                    found += 1\n",
    "                    print( \"\".join(code) )\n",
    "        start += 1\n",
    "    return \"\".join(code)\n",
    "    "
   ]
  },
  {
   "cell_type": "code",
   "execution_count": 8,
   "metadata": {},
   "outputs": [
    {
     "name": "stdout",
     "output_type": "stream",
     "text": [
      "_5______\n",
      "_5__e___\n",
      "_5__e__3\n",
      "_5_ce__3\n",
      "05_ce__3\n",
      "05_ce_e3\n",
      "05_ce8e3\n",
      "05ace8e3\n"
     ]
    },
    {
     "data": {
      "text/plain": [
       "'05ace8e3'"
      ]
     },
     "execution_count": 8,
     "metadata": {},
     "output_type": "execute_result"
    }
   ],
   "source": [
    "part2(test)"
   ]
  },
  {
   "cell_type": "code",
   "execution_count": 9,
   "metadata": {},
   "outputs": [
    {
     "name": "stdout",
     "output_type": "stream",
     "text": [
      "_______c\n",
      "9______c\n",
      "9_____ec\n",
      "9___2_ec\n",
      "9_9_2_ec\n",
      "9_982_ec\n",
      "9_9828ec\n",
      "999828ec\n"
     ]
    },
    {
     "data": {
      "text/plain": [
       "'999828ec'"
      ]
     },
     "execution_count": 9,
     "metadata": {},
     "output_type": "execute_result"
    }
   ],
   "source": [
    "part2(puzz)"
   ]
  }
 ],
 "metadata": {
  "kernelspec": {
   "display_name": "base",
   "language": "python",
   "name": "python3"
  },
  "language_info": {
   "codemirror_mode": {
    "name": "ipython",
    "version": 3
   },
   "file_extension": ".py",
   "mimetype": "text/x-python",
   "name": "python",
   "nbconvert_exporter": "python",
   "pygments_lexer": "ipython3",
   "version": "3.11.8"
  },
  "orig_nbformat": 4,
  "vscode": {
   "interpreter": {
    "hash": "ad2bdc8ecc057115af97d19610ffacc2b4e99fae6737bb82f5d7fb13d2f2c186"
   }
  }
 },
 "nbformat": 4,
 "nbformat_minor": 2
}
