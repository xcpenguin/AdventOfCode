{
 "cells": [
  {
   "attachments": {},
   "cell_type": "markdown",
   "metadata": {},
   "source": [
    "# December 02, 2016\n",
    "\n",
    "https://adventofcode.com/2016/day/2"
   ]
  },
  {
   "cell_type": "code",
   "execution_count": 1,
   "metadata": {},
   "outputs": [],
   "source": [
    "test = [\n",
    "    \"ULL\",\n",
    "    \"RRDDD\",\n",
    "    \"LURDL\",\n",
    "    \"UUUUD\",\n",
    "]"
   ]
  },
  {
   "cell_type": "code",
   "execution_count": 7,
   "metadata": {},
   "outputs": [],
   "source": [
    "fn = \"../data/2016/02.txt\"\n",
    "with open(fn, \"r\") as file:\n",
    "    text = file.readlines()\n",
    "puzz = [line.strip() for line in text]"
   ]
  },
  {
   "cell_type": "markdown",
   "metadata": {},
   "source": [
    "# Part 1"
   ]
  },
  {
   "cell_type": "code",
   "execution_count": 12,
   "metadata": {},
   "outputs": [],
   "source": [
    "def move( pos, direc ):\n",
    "    if direc == \"U\" and pos > 3:\n",
    "        return pos - 3\n",
    "    if direc == \"D\" and pos < 7:\n",
    "        return pos + 3\n",
    "    if direc == \"L\" and pos % 3 != 1:\n",
    "        return pos - 1\n",
    "    if direc == \"R\" and pos % 3 != 0:\n",
    "        return pos + 1\n",
    "    return pos"
   ]
  },
  {
   "cell_type": "code",
   "execution_count": 13,
   "metadata": {},
   "outputs": [],
   "source": [
    "def part1( puzz ):\n",
    "    pos = 5\n",
    "    code = []\n",
    "    for line in puzz:\n",
    "        for char in line:\n",
    "            pos = move(pos, char)\n",
    "        code.append(pos)\n",
    "\n",
    "    return code\n",
    "        "
   ]
  },
  {
   "cell_type": "code",
   "execution_count": 14,
   "metadata": {},
   "outputs": [
    {
     "data": {
      "text/plain": [
       "[1, 9, 8, 5]"
      ]
     },
     "execution_count": 14,
     "metadata": {},
     "output_type": "execute_result"
    }
   ],
   "source": [
    "part1(test)"
   ]
  },
  {
   "cell_type": "code",
   "execution_count": 15,
   "metadata": {},
   "outputs": [
    {
     "data": {
      "text/plain": [
       "[2, 4, 8, 6, 2]"
      ]
     },
     "execution_count": 15,
     "metadata": {},
     "output_type": "execute_result"
    }
   ],
   "source": [
    "part1(puzz)"
   ]
  },
  {
   "cell_type": "markdown",
   "metadata": {},
   "source": [
    "# Part 2"
   ]
  },
  {
   "cell_type": "code",
   "execution_count": 22,
   "metadata": {},
   "outputs": [],
   "source": [
    "def move2(pos, direc):\n",
    "    mapping = {\n",
    "        '1': {'D':'3'},\n",
    "        '2': {'R':'3', 'D':'6'},\n",
    "        '3': {'U':'1', 'L':'2', 'R':'4', 'D':'7'},\n",
    "        '4': {'L':'3', 'D':'8'},\n",
    "        '5': {'R':'6'},\n",
    "        '6': {'U':'2', 'L':'5', 'R':'7', 'D':'A'},\n",
    "        '7': {'U':'3', 'L':'6', 'R':'8', 'D':'B'},\n",
    "        '8': {'U':'4', 'L':'7', 'R':'9', 'D':'C'},  \n",
    "        '9': {'L':'8'},\n",
    "        'A': {'U':'6', 'R':'B'},\n",
    "        'B': {'U':'7', 'L':'A', 'R':'C', 'D':'D'},\n",
    "        'C': {'U':'8', 'L':'B'},  \n",
    "        'D': {'U':'B'},  \n",
    "    }\n",
    "\n",
    "    if direc in mapping[pos].keys():\n",
    "        return mapping[pos][direc]\n",
    "    return pos"
   ]
  },
  {
   "cell_type": "code",
   "execution_count": 27,
   "metadata": {},
   "outputs": [],
   "source": [
    "def part2( puzz ):\n",
    "    pos = '5'\n",
    "    code = ''\n",
    "    for line in puzz:\n",
    "        for char in line:\n",
    "            pos = move2(pos, char)\n",
    "        code += pos\n",
    "\n",
    "    return code"
   ]
  },
  {
   "cell_type": "code",
   "execution_count": 28,
   "metadata": {},
   "outputs": [
    {
     "data": {
      "text/plain": [
       "'5DB3'"
      ]
     },
     "execution_count": 28,
     "metadata": {},
     "output_type": "execute_result"
    }
   ],
   "source": [
    "part2( test )"
   ]
  },
  {
   "cell_type": "code",
   "execution_count": 29,
   "metadata": {},
   "outputs": [
    {
     "data": {
      "text/plain": [
       "'46C91'"
      ]
     },
     "execution_count": 29,
     "metadata": {},
     "output_type": "execute_result"
    }
   ],
   "source": [
    "part2( puzz )"
   ]
  }
 ],
 "metadata": {
  "kernelspec": {
   "display_name": "base",
   "language": "python",
   "name": "python3"
  },
  "language_info": {
   "codemirror_mode": {
    "name": "ipython",
    "version": 3
   },
   "file_extension": ".py",
   "mimetype": "text/x-python",
   "name": "python",
   "nbconvert_exporter": "python",
   "pygments_lexer": "ipython3",
   "version": "3.7.3"
  },
  "orig_nbformat": 4,
  "vscode": {
   "interpreter": {
    "hash": "ad2bdc8ecc057115af97d19610ffacc2b4e99fae6737bb82f5d7fb13d2f2c186"
   }
  }
 },
 "nbformat": 4,
 "nbformat_minor": 2
}
