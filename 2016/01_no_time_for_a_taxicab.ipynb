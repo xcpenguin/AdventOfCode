{
 "cells": [
  {
   "attachments": {},
   "cell_type": "markdown",
   "metadata": {},
   "source": [
    "# December 01, 2016\n",
    "\n",
    "https://adventofcode.com/2021/day/1"
   ]
  },
  {
   "cell_type": "code",
   "execution_count": 1,
   "metadata": {},
   "outputs": [],
   "source": [
    "from math import sin, cos, radians"
   ]
  },
  {
   "cell_type": "code",
   "execution_count": 2,
   "metadata": {},
   "outputs": [],
   "source": [
    "tests = [\n",
    "    [\"R2\", \"L3\"],\n",
    "    [\"R2\", \"R2\", \"R2\"],\n",
    "    [\"R5\", \"L5\", \"R5\", \"R3\"]\n",
    "]"
   ]
  },
  {
   "cell_type": "code",
   "execution_count": 3,
   "metadata": {},
   "outputs": [],
   "source": [
    "fn = \"../data/2016/01.txt\"\n",
    "with open(fn, \"r\") as file:\n",
    "    text = file.readlines()\n",
    "text = [line.strip() for line in text][0]\n",
    "puzz = text.split(\", \")"
   ]
  },
  {
   "cell_type": "markdown",
   "metadata": {},
   "source": [
    "# Part 1"
   ]
  },
  {
   "cell_type": "code",
   "execution_count": 4,
   "metadata": {},
   "outputs": [],
   "source": [
    "def turn( heading, direc):\n",
    "    '''return the direction of travel after 90 degree turn from direction cur'''\n",
    "    if direc == \"R\":\n",
    "        out = (heading - 90) % 360\n",
    "    elif direc == \"L\":\n",
    "        out = (heading + 90) % 360\n",
    "    else:\n",
    "        raise BaseException(\"bad d\")\n",
    "    return out\n",
    "\n",
    "def travel( pos, heading, dist ):\n",
    "    rad = radians(heading)\n",
    "    x = pos[0] + int(cos(rad))*dist # int is necessary to avoid rounding errors with large dist\n",
    "    y = pos[1] + int(sin(rad))*dist\n",
    "    \n",
    "    return x, y\n",
    "    "
   ]
  },
  {
   "cell_type": "code",
   "execution_count": 5,
   "metadata": {},
   "outputs": [],
   "source": [
    "def part1( puzz ):\n",
    "    pos = [0,0]\n",
    "    heading = 90\n",
    "\n",
    "    for step in puzz:\n",
    "        direc, dist = step[0], int(step[1:])\n",
    "        heading = turn(heading, direc)\n",
    "        pos = travel(pos, heading, dist)\n",
    "\n",
    "    return abs(pos[0]) + abs(pos[1])"
   ]
  },
  {
   "cell_type": "code",
   "execution_count": 6,
   "metadata": {},
   "outputs": [
    {
     "name": "stdout",
     "output_type": "stream",
     "text": [
      "5\n",
      "2\n",
      "12\n"
     ]
    }
   ],
   "source": [
    "for t in tests:\n",
    "    print(part1(t))"
   ]
  },
  {
   "cell_type": "code",
   "execution_count": 7,
   "metadata": {},
   "outputs": [
    {
     "data": {
      "text/plain": [
       "353"
      ]
     },
     "execution_count": 7,
     "metadata": {},
     "output_type": "execute_result"
    }
   ],
   "source": [
    "part1(puzz)"
   ]
  },
  {
   "cell_type": "markdown",
   "metadata": {},
   "source": [
    "# Part 2"
   ]
  },
  {
   "cell_type": "code",
   "execution_count": 8,
   "metadata": {},
   "outputs": [],
   "source": [
    "def orientation( one, two ):\n",
    "    # Note: for this problem, the path alternates between horizontal and vertical\n",
    "    # so you can also determine orientation by parity\n",
    "    if one[0] == two[0]:\n",
    "        return \"ver\" # x match: up/down segment\n",
    "    if one[1] == two[1]:\n",
    "        return \"hor\" # y match: left/right segment\n",
    "    raise BaseException(\"these points don't align to grid\")\n",
    "\n",
    "def intersects( history ):\n",
    "    '''check if the last segment of history intersects a prior segment'''\n",
    "\n",
    "    if len(history) <= 2: # I think 4 is a tighter bound, but this should work anyway\n",
    "        return None\n",
    "    \n",
    "    last = history[-2:]\n",
    "    last_ori = orientation( *last )\n",
    "\n",
    "    for i in range(len(history[:-3])):\n",
    "        here = history[i]\n",
    "        there = history[i+1]\n",
    "\n",
    "        ori = orientation( here, there )\n",
    "        if last_ori == \"ver\": \n",
    "            if (ori == \"hor\" and  # require opposite orientation\n",
    "                last[0][0] >= min(here[0], there[0]) and last[0][0] <= max(here[0], there[0]) and    # xcoord within range\n",
    "                here[1] >= min(last[0][1], last[1][1]) and here[1] <= max(last[0][1], last[1][1]) ):   # ycoords span the line\n",
    "                return [ last[0][0], here[1] ]\n",
    "            \n",
    "        if last_ori == \"hor\":\n",
    "            if (ori == \"ver\" and\n",
    "                last[0][1] >= min(here[1], there[1]) and last[0][1] <= max(here[1], there[1]) and    # ycoord within range\n",
    "                here[0] >= min(last[0][0], last[1][0]) and here[0] <= max(last[0][0], last[1][0]) ):   # xcoords span the line\n",
    "                return [ here[0], last[0][1] ]\n",
    "            \n",
    "    return None"
   ]
  },
  {
   "cell_type": "code",
   "execution_count": 9,
   "metadata": {},
   "outputs": [],
   "source": [
    "def part2( puzz ):\n",
    "    history = [[0,0]]\n",
    "    answer = None\n",
    "    pos = [0,0]\n",
    "    heading = 90\n",
    "\n",
    "    iter = 0\n",
    "    while answer is None:\n",
    "        idx = iter % len(puzz)\n",
    "        step = puzz[idx]\n",
    "\n",
    "        direc, dist = step[0], int(step[1:])\n",
    "        heading = turn(heading, direc)\n",
    "        pos = travel(pos, heading, dist)\n",
    "        history.append(pos)\n",
    "\n",
    "        #print(history)\n",
    "        answer = intersects( history )\n",
    "        iter += 1\n",
    "    \n",
    "    #print(answer)\n",
    "    return abs(answer[0]) + abs(answer[1])"
   ]
  },
  {
   "cell_type": "code",
   "execution_count": 10,
   "metadata": {},
   "outputs": [
    {
     "data": {
      "text/plain": [
       "4"
      ]
     },
     "execution_count": 10,
     "metadata": {},
     "output_type": "execute_result"
    }
   ],
   "source": [
    "part2( [\"R8\", \"R4\", \"R4\", \"R8\"] )"
   ]
  },
  {
   "cell_type": "code",
   "execution_count": 11,
   "metadata": {},
   "outputs": [
    {
     "data": {
      "text/plain": [
       "152"
      ]
     },
     "execution_count": 11,
     "metadata": {},
     "output_type": "execute_result"
    }
   ],
   "source": [
    "part2( puzz )"
   ]
  }
 ],
 "metadata": {
  "kernelspec": {
   "display_name": "base",
   "language": "python",
   "name": "python3"
  },
  "language_info": {
   "codemirror_mode": {
    "name": "ipython",
    "version": 3
   },
   "file_extension": ".py",
   "mimetype": "text/x-python",
   "name": "python",
   "nbconvert_exporter": "python",
   "pygments_lexer": "ipython3",
   "version": "3.7.3"
  },
  "orig_nbformat": 4,
  "vscode": {
   "interpreter": {
    "hash": "ad2bdc8ecc057115af97d19610ffacc2b4e99fae6737bb82f5d7fb13d2f2c186"
   }
  }
 },
 "nbformat": 4,
 "nbformat_minor": 2
}
