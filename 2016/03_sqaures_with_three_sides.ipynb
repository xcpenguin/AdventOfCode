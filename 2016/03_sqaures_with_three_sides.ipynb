{
 "cells": [
  {
   "attachments": {},
   "cell_type": "markdown",
   "metadata": {},
   "source": [
    "# December 03, 2016\n",
    "\n",
    "https://adventofcode.com/2016/day/3"
   ]
  },
  {
   "cell_type": "code",
   "execution_count": 1,
   "metadata": {},
   "outputs": [],
   "source": [
    "test = [\n",
    "    [101, 301, 501],\n",
    "    [102, 302, 502],\n",
    "    [103, 303, 503],\n",
    "    [201, 401, 601],\n",
    "    [202, 402, 602],\n",
    "    [203, 403, 603],\n",
    "]"
   ]
  },
  {
   "cell_type": "code",
   "execution_count": 2,
   "metadata": {},
   "outputs": [],
   "source": [
    "fn = \"../data/2016/03.txt\"\n",
    "with open(fn, \"r\") as file:\n",
    "    text = file.readlines()\n",
    "puzz = [line.strip() for line in text]\n",
    "puzz = [ [int(y) for y in x.split()] for x in puzz ]"
   ]
  },
  {
   "cell_type": "markdown",
   "metadata": {},
   "source": [
    "# Part 1"
   ]
  },
  {
   "cell_type": "code",
   "execution_count": 3,
   "metadata": {},
   "outputs": [],
   "source": [
    "def validate_triangle( xyz ):\n",
    "    '''return True if xyz is a valid triangle'''\n",
    "    # obviously, xyz should have len 3, but I'm not checking\n",
    "\n",
    "    # condition: x + y > z, where z is the largest number\n",
    "    # equivalent: x + y - z > 0\n",
    "    # equivalent: (x+y+z) - 2z > 0\n",
    "    return sum(xyz) - 2*max(xyz) > 0"
   ]
  },
  {
   "cell_type": "code",
   "execution_count": 4,
   "metadata": {},
   "outputs": [
    {
     "data": {
      "text/plain": [
       "869"
      ]
     },
     "execution_count": 4,
     "metadata": {},
     "output_type": "execute_result"
    }
   ],
   "source": [
    "sum( [validate_triangle(xyz) for xyz in puzz] )"
   ]
  },
  {
   "cell_type": "markdown",
   "metadata": {},
   "source": [
    "# Part 2"
   ]
  },
  {
   "cell_type": "code",
   "execution_count": 5,
   "metadata": {},
   "outputs": [],
   "source": [
    "def transpose_puzz( puzz ):\n",
    "    puzz2 = []\n",
    "    n = int( len(puzz) / 3 )\n",
    "    for i in range(n):\n",
    "          puzz2 += [ [puzz[3*i][0], puzz[3*i+1][0], puzz[3*i+2][0]],\n",
    "                     [puzz[3*i][1], puzz[3*i+1][1], puzz[3*i+2][1]],\n",
    "                     [puzz[3*i][2], puzz[3*i+1][2], puzz[3*i+2][2]] ] \n",
    "    return puzz2"
   ]
  },
  {
   "cell_type": "code",
   "execution_count": 6,
   "metadata": {},
   "outputs": [
    {
     "name": "stdout",
     "output_type": "stream",
     "text": [
      "[[101, 301, 501], [102, 302, 502], [103, 303, 503], [201, 401, 601], [202, 402, 602], [203, 403, 603]]\n",
      "[[101, 102, 103], [301, 302, 303], [501, 502, 503], [201, 202, 203], [401, 402, 403], [601, 602, 603]]\n"
     ]
    }
   ],
   "source": [
    "test2 = transpose_puzz(test)\n",
    "print(test)\n",
    "print(test2)"
   ]
  },
  {
   "cell_type": "code",
   "execution_count": 7,
   "metadata": {},
   "outputs": [
    {
     "data": {
      "text/plain": [
       "1544"
      ]
     },
     "execution_count": 7,
     "metadata": {},
     "output_type": "execute_result"
    }
   ],
   "source": [
    "puzz2 = transpose_puzz(puzz)\n",
    "sum( [validate_triangle(xyz) for xyz in puzz2] )"
   ]
  },
  {
   "cell_type": "code",
   "execution_count": null,
   "metadata": {},
   "outputs": [],
   "source": []
  }
 ],
 "metadata": {
  "kernelspec": {
   "display_name": "base",
   "language": "python",
   "name": "python3"
  },
  "language_info": {
   "codemirror_mode": {
    "name": "ipython",
    "version": 3
   },
   "file_extension": ".py",
   "mimetype": "text/x-python",
   "name": "python",
   "nbconvert_exporter": "python",
   "pygments_lexer": "ipython3",
   "version": "3.11.8"
  },
  "orig_nbformat": 4,
  "vscode": {
   "interpreter": {
    "hash": "ad2bdc8ecc057115af97d19610ffacc2b4e99fae6737bb82f5d7fb13d2f2c186"
   }
  }
 },
 "nbformat": 4,
 "nbformat_minor": 2
}
